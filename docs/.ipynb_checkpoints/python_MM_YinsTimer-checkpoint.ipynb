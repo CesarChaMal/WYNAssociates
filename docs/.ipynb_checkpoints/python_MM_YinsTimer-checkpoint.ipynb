{
 "cells": [
  {
   "cell_type": "markdown",
   "metadata": {},
   "source": [
    "# Yins Timer\n",
    "\n",
    "This notebook walks readers through the manual of using the function *YinsTimer* which currently is a installable package [here](https://github.com/yiqiao-yin/YinPortfolioManagement). "
   ]
  },
  {
   "cell_type": "code",
   "execution_count": 2,
   "metadata": {},
   "outputs": [],
   "source": [
    "# !pip install git+https://github.com/yiqiao-yin/YinPortfolioManagement.git"
   ]
  },
  {
   "cell_type": "code",
   "execution_count": 3,
   "metadata": {},
   "outputs": [],
   "source": [
    "from YinCapital_forecast.modules import Yin_Timer"
   ]
  },
  {
   "cell_type": "code",
   "execution_count": 4,
   "metadata": {},
   "outputs": [
    {
     "name": "stdout",
     "output_type": "stream",
     "text": [
      "------------------------------------------------------------------------------\n",
      "MANUAL: \n",
      "Try run the following line by line in a Python Notebook.\n",
      "\n",
      "        MANUAL: To install this python package, please use the following code.\n",
      "\n",
      "        # In a python notebook:\n",
      "        # !pip install git+https://github.com/yiqiao-yin/YinPortfolioManagement.git\n",
      "        # In a command line:\n",
      "        # pip install git+https://github.com/yiqiao-yin/YinPortfolioManagement.git\n",
      "        \n",
      "        # Run\n",
      "        temp = YinsTimer(\n",
      "            start_date       =   '2015-01-01',\n",
      "            end_date         =   '2021-01-01',\n",
      "            ticker           =   'FB',\n",
      "            figsize          =   (15,6),\n",
      "            LB               =   -1,\n",
      "            UB               =   +1, \n",
      "            pick_SMA         =   1,\n",
      "            sma_threshold_1  =   10,\n",
      "            sma_threshold_2  =   30,\n",
      "            sma_threshold_3  =   100,\n",
      "            plotGraph        =   True,\n",
      "            verbose          =   True,\n",
      "            printManual      =   True,\n",
      "            gotoSEC          =   True)\n",
      "        \n",
      "Manual ends here.\n",
      "------------------------------------------------------------------------------\n",
      "[*********************100%***********************]  1 of 1 completed\n"
     ]
    },
    {
     "ename": "NameError",
     "evalue": "name 'sma_indicator' is not defined",
     "output_type": "error",
     "traceback": [
      "\u001b[1;31m---------------------------------------------------------------------------\u001b[0m",
      "\u001b[1;31mNameError\u001b[0m                                 Traceback (most recent call last)",
      "\u001b[1;32m<ipython-input-4-2f93d815ebde>\u001b[0m in \u001b[0;36m<module>\u001b[1;34m\u001b[0m\n\u001b[1;32m----> 1\u001b[1;33m tmp1 = Yin_Timer(\n\u001b[0m\u001b[0;32m      2\u001b[0m     \u001b[0mstart_date\u001b[0m       \u001b[1;33m=\u001b[0m   \u001b[1;34m'2015-01-01'\u001b[0m\u001b[1;33m,\u001b[0m\u001b[1;33m\u001b[0m\u001b[1;33m\u001b[0m\u001b[0m\n\u001b[0;32m      3\u001b[0m     \u001b[0mend_date\u001b[0m         \u001b[1;33m=\u001b[0m   \u001b[1;34m'2021-01-01'\u001b[0m\u001b[1;33m,\u001b[0m\u001b[1;33m\u001b[0m\u001b[1;33m\u001b[0m\u001b[0m\n\u001b[0;32m      4\u001b[0m     \u001b[0mticker\u001b[0m           \u001b[1;33m=\u001b[0m   \u001b[1;34m'FB'\u001b[0m\u001b[1;33m,\u001b[0m\u001b[1;33m\u001b[0m\u001b[1;33m\u001b[0m\u001b[0m\n\u001b[0;32m      5\u001b[0m     \u001b[0mfigsize\u001b[0m          \u001b[1;33m=\u001b[0m   \u001b[1;33m(\u001b[0m\u001b[1;36m15\u001b[0m\u001b[1;33m,\u001b[0m\u001b[1;36m6\u001b[0m\u001b[1;33m)\u001b[0m\u001b[1;33m,\u001b[0m\u001b[1;33m\u001b[0m\u001b[1;33m\u001b[0m\u001b[0m\n",
      "\u001b[1;32m~\\anaconda3\\lib\\site-packages\\YinCapital_forecast\\modules.py\u001b[0m in \u001b[0;36mYin_Timer\u001b[1;34m(start_date, end_date, ticker, figsize, LB, UB, pick_SMA, sma_threshold_1, sma_threshold_2, sma_threshold_3, plotGraph, verbose, printManual, gotoSEC)\u001b[0m\n\u001b[0;32m    134\u001b[0m         \u001b[0mstock\u001b[0m \u001b[1;33m=\u001b[0m \u001b[0mdta\u001b[0m\u001b[1;33m\u001b[0m\u001b[1;33m\u001b[0m\u001b[0m\n\u001b[0;32m    135\u001b[0m \u001b[1;33m\u001b[0m\u001b[0m\n\u001b[1;32m--> 136\u001b[1;33m         \u001b[0msmaData1\u001b[0m \u001b[1;33m=\u001b[0m \u001b[0mstock\u001b[0m\u001b[1;33m[\u001b[0m\u001b[1;34m'Close'\u001b[0m\u001b[1;33m]\u001b[0m\u001b[1;33m-\u001b[0m \u001b[0msma_indicator\u001b[0m\u001b[1;33m(\u001b[0m\u001b[0mstock\u001b[0m\u001b[1;33m[\u001b[0m\u001b[1;34m'Close'\u001b[0m\u001b[1;33m]\u001b[0m\u001b[1;33m,\u001b[0m \u001b[0msma_threshold_1\u001b[0m\u001b[1;33m,\u001b[0m \u001b[1;32mTrue\u001b[0m\u001b[1;33m)\u001b[0m\u001b[1;33m\u001b[0m\u001b[1;33m\u001b[0m\u001b[0m\n\u001b[0m\u001b[0;32m    137\u001b[0m         \u001b[0msmaData2\u001b[0m \u001b[1;33m=\u001b[0m \u001b[0mstock\u001b[0m\u001b[1;33m[\u001b[0m\u001b[1;34m'Close'\u001b[0m\u001b[1;33m]\u001b[0m\u001b[1;33m-\u001b[0m \u001b[0msma_indicator\u001b[0m\u001b[1;33m(\u001b[0m\u001b[0mstock\u001b[0m\u001b[1;33m[\u001b[0m\u001b[1;34m'Close'\u001b[0m\u001b[1;33m]\u001b[0m\u001b[1;33m,\u001b[0m \u001b[0msma_threshold_2\u001b[0m\u001b[1;33m,\u001b[0m \u001b[1;32mTrue\u001b[0m\u001b[1;33m)\u001b[0m\u001b[1;33m\u001b[0m\u001b[1;33m\u001b[0m\u001b[0m\n\u001b[0;32m    138\u001b[0m         \u001b[0msmaData3\u001b[0m \u001b[1;33m=\u001b[0m \u001b[0mstock\u001b[0m\u001b[1;33m[\u001b[0m\u001b[1;34m'Close'\u001b[0m\u001b[1;33m]\u001b[0m\u001b[1;33m-\u001b[0m \u001b[0msma_indicator\u001b[0m\u001b[1;33m(\u001b[0m\u001b[0mstock\u001b[0m\u001b[1;33m[\u001b[0m\u001b[1;34m'Close'\u001b[0m\u001b[1;33m]\u001b[0m\u001b[1;33m,\u001b[0m \u001b[0msma_threshold_3\u001b[0m\u001b[1;33m,\u001b[0m \u001b[1;32mTrue\u001b[0m\u001b[1;33m)\u001b[0m\u001b[1;33m\u001b[0m\u001b[1;33m\u001b[0m\u001b[0m\n",
      "\u001b[1;31mNameError\u001b[0m: name 'sma_indicator' is not defined"
     ]
    }
   ],
   "source": [
    "tmp1 = Yin_Timer(\n",
    "    start_date       =   '2015-01-01',\n",
    "    end_date         =   '2021-01-01',\n",
    "    ticker           =   'FB',\n",
    "    figsize          =   (15,6),\n",
    "    LB               =   -1,\n",
    "    UB               =   +1, \n",
    "    pick_SMA         =   1,\n",
    "    sma_threshold_1  =   10,\n",
    "    sma_threshold_2  =   30,\n",
    "    sma_threshold_3  =   100,\n",
    "    plotGraph        =   True,\n",
    "    verbose          =   True,\n",
    "    printManual      =   True,\n",
    "    gotoSEC          =   True)"
   ]
  },
  {
   "cell_type": "markdown",
   "metadata": {},
   "source": [
    "Ends here."
   ]
  }
 ],
 "metadata": {
  "kernelspec": {
   "display_name": "Python 3",
   "language": "python",
   "name": "python3"
  },
  "language_info": {
   "codemirror_mode": {
    "name": "ipython",
    "version": 3
   },
   "file_extension": ".py",
   "mimetype": "text/x-python",
   "name": "python",
   "nbconvert_exporter": "python",
   "pygments_lexer": "ipython3",
   "version": "3.8.3"
  }
 },
 "nbformat": 4,
 "nbformat_minor": 4
}
