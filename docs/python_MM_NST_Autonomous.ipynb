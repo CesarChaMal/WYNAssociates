{
 "cells": [
  {
   "cell_type": "markdown",
   "metadata": {},
   "source": [
    "## Recurrent Neural Network (a sequential model)\n",
    "\n",
    "Given data $X$ and $Y$, we want to feed information forward into a time stamp. Then we form some belief and we make some initial predictions. We investigate our beliefs by looking at the loss function of the initial guesses and the real value. We update our model according to error we observed. \n",
    "\n",
    "## Architecture: Feed-forward\n",
    "\n",
    "Consider data with time stamp\n",
    "$$X_{\\langle 1 \\rangle} \\rightarrow X_{\\langle 2 \\rangle} \\rightarrow \\dots \\rightarrow X_{\\langle T \\rangle}$$\n",
    "and feed-forward architecture pass information through exactly as the following:\n",
    "$$\n",
    "\\text{Information in:} \\rightarrow\n",
    "\\begin{matrix}\n",
    "\\{Y_{\\langle 1 \\rangle}, ..., Y_{\\langle k \\rangle}\\} & \\{Y_{\\langle 1 \\rangle}, ..., Y_{\\langle k \\rangle}\\} &       & \\{Y_{\\langle 1 \\rangle}, ..., Y_{\\langle k \\rangle}\\} \\\\\n",
    "\\updownarrow               & \\updownarrow               &       & \\updownarrow \\\\\n",
    "\\{\\hat{Y}_{\\langle 1 \\rangle}, ..., \\hat{Y}_{\\langle k \\rangle}\\} & \\{\\hat{Y}_{\\langle 1 \\rangle}, ..., \\hat{Y}_{\\langle k \\rangle}\\} &       & \\{\\hat{Y}_{\\langle 1 \\rangle}, ..., \\hat{Y}_{\\langle k \\rangle}\\} \\\\\n",
    "\\uparrow               & \\uparrow               &       & \\uparrow \\\\\n",
    "X_{\\langle 1 \\rangle} \\rightarrow    & X_{\\langle 2 \\rangle} \\rightarrow    & \\dots \\rightarrow & X_{\\langle T \\rangle} \\\\\n",
    "\\uparrow               & \\uparrow               &       & \\uparrow \\\\\n",
    "w_{\\langle 1 \\rangle}, b_{0, \\langle 1 \\rangle}    & w_{\\langle 2 \\rangle}, b_{0, \\langle 2 \\rangle}    &       & w_{\\langle T \\rangle}, b_{0, \\langle T \\rangle} \\\\\n",
    "\\end{matrix}\n",
    "\\rightarrow\n",
    "\\text{Form beliefs about } Y_{\\langle T \\rangle}\n",
    "$$\n",
    "while the educated guesses $\\hat{Y}_{\\langle T \\rangle}$ are our beliefs about real $Y$ at time stamp $T$. \n",
    "\n",
    "## Architecture: Feed-backward\n",
    "\n",
    "Let us clearly define our loss function to make sure we have a proper grip of our mistakes. \n",
    "$$\\mathcal{L} = \\sum_t \\sum_k L(\\hat{y}_{\\langle t,k \\rangle} - y_{\\langle t,k \\rangle})^2$$\n",
    "and we can compute the gradient \n",
    "$$\\triangledown = \\frac{\\partial \\mathcal{L}}{\\partial a}$$\n",
    "and then with respect with parameters $w$ and $b$\n",
    "$$\\frac{\\partial \\triangledown}{\\partial w}, \\frac{\\partial \\triangledown}{\\partial a}$$\n",
    "and now with perspective of where we make our mistakes according to our parameters we can go backward\n",
    "$$\n",
    "\\text{Information in:} \\leftarrow\n",
    "\\underbrace{\n",
    "\\begin{matrix}\n",
    "\\{Y_{\\langle 1 \\rangle}, ..., Y_{\\langle k \\rangle}\\} & \\{Y_{\\langle 1 \\rangle}, ..., Y_{\\langle k \\rangle}\\} &       & \\{Y_{\\langle 1 \\rangle}, ..., Y_{\\langle k \\rangle}\\} \\\\\n",
    "\\updownarrow               & \\updownarrow               &       & \\updownarrow \\\\\n",
    "\\{\\hat{Y}_{\\langle 1 \\rangle}, ..., \\hat{Y}_{\\langle k \\rangle}\\} & \\{\\hat{Y}_{\\langle 1 \\rangle}, ..., \\hat{Y}_{\\langle k \\rangle}\\} &       & \\{\\hat{Y}_{\\langle 1 \\rangle}, ..., \\hat{Y}_{\\langle k \\rangle}\\} \\\\\n",
    "\\uparrow               & \\uparrow               &       & \\uparrow \\\\\n",
    "X_{\\langle 1 \\rangle} \\leftarrow    & X_{\\langle 2 \\rangle} \\leftarrow    & \\dots \\leftarrow & X_{\\langle T \\rangle} \\\\\n",
    "\\uparrow               & \\uparrow               &       & \\uparrow \\\\\n",
    "w'_{\\langle 1 \\rangle}, b'_{0, \\langle 1 \\rangle}    & w'_{\\langle 2 \\rangle}, b'_{0, \\langle 2 \\rangle}    &       & w'_{\\langle T \\rangle}, b'_{0, \\langle T \\rangle} \\\\\n",
    "\\end{matrix}}_{\\text{Update: } w, b \\text{ with } w', b'}\n",
    "\\leftarrow\n",
    "\\text{Total Loss: } \\mathcal{L} (\\hat{y}, y)\n",
    "$$\n",
    "and the *update* action in the above architecture is dependent on your optimizer specified in the algorithm."
   ]
  },
  {
   "cell_type": "code",
   "execution_count": 86,
   "metadata": {},
   "outputs": [
    {
     "name": "stdout",
     "output_type": "stream",
     "text": [
      "[*********************100%***********************]  1 of 1 completed\n"
     ]
    }
   ],
   "source": [
    "# libraries\n",
    "import pandas as pd\n",
    "import numpy as np\n",
    "import yfinance as yf\n",
    "\n",
    "ticker = 'AAPL'\n",
    "start_date = '2012-01-01'\n",
    "end_date = '2021-08-22'\n",
    "w = 3\n",
    "h = 5\n",
    "\n",
    "# get data\n",
    "stockData = yf.download(ticker, start_date, end_date)\n",
    "stockData = stockData.iloc[:,:5] # omit volume\n",
    "\n",
    "# create data\n",
    "Y = stockData.iloc[w::, ]\n",
    "X = np.arange(0, Y.shape[0]*w*h, 1).reshape(Y.shape[0], w*h)\n",
    "for i in range(0,int(stockData.shape[0]-w)):\n",
    "    X[i,] = np.array(stockData.iloc[i:(i+w),]).reshape(1, w*h)"
   ]
  },
  {
   "cell_type": "code",
   "execution_count": 87,
   "metadata": {},
   "outputs": [
    {
     "name": "stdout",
     "output_type": "stream",
     "text": [
      "[*********************100%***********************]  1 of 1 completed\n"
     ]
    }
   ],
   "source": [
    "# libraries\n",
    "import pandas as pd\n",
    "import numpy as np\n",
    "import yfinance as yf\n",
    "\n",
    "ticker = 'MSFT'\n",
    "start_date = '2012-01-01'\n",
    "end_date = '2021-08-22'\n",
    "w = 3\n",
    "h = 5\n",
    "\n",
    "# get data\n",
    "stockData = yf.download(ticker, start_date, end_date)\n",
    "stockData = stockData.iloc[:,:5] # omit volume\n",
    "\n",
    "# create data\n",
    "Y = stockData.iloc[w::, ]\n",
    "X1 = np.arange(0, Y.shape[0]*w*h, 1).reshape(Y.shape[0], w*h)\n",
    "for i in range(0,int(stockData.shape[0]-w)):\n",
    "    X1[i,] = np.array(stockData.iloc[i:(i+w),]).reshape(1, w*h)"
   ]
  },
  {
   "cell_type": "code",
   "execution_count": 88,
   "metadata": {},
   "outputs": [
    {
     "name": "stdout",
     "output_type": "stream",
     "text": [
      "[*********************100%***********************]  1 of 1 completed\n"
     ]
    }
   ],
   "source": [
    "# libraries\n",
    "import pandas as pd\n",
    "import numpy as np\n",
    "import yfinance as yf\n",
    "\n",
    "ticker = 'GOOGL'\n",
    "start_date = '2012-01-01'\n",
    "end_date = '2021-08-22'\n",
    "w = 3\n",
    "h = 5\n",
    "\n",
    "# get data\n",
    "stockData = yf.download(ticker, start_date, end_date)\n",
    "stockData = stockData.iloc[:,:5] # omit volume\n",
    "\n",
    "# create data\n",
    "Y = stockData.iloc[w::, ]\n",
    "X2 = np.arange(0, Y.shape[0]*w*h, 1).reshape(Y.shape[0], w*h)\n",
    "for i in range(0,int(stockData.shape[0]-w)):\n",
    "    X2[i,] = np.array(stockData.iloc[i:(i+w),]).reshape(1, w*h)"
   ]
  },
  {
   "cell_type": "code",
   "execution_count": 89,
   "metadata": {},
   "outputs": [
    {
     "name": "stdout",
     "output_type": "stream",
     "text": [
      "(2422, 5)\n",
      "(2422, 15)\n",
      "(2422, 15)\n",
      "(2422, 15)\n"
     ]
    }
   ],
   "source": [
    "print(Y.shape)\n",
    "print(X.shape)\n",
    "print(X1.shape)\n",
    "print(X2.shape)"
   ]
  },
  {
   "cell_type": "code",
   "execution_count": 90,
   "metadata": {},
   "outputs": [],
   "source": [
    "X = np.concatenate([X, X1, X2], 1)"
   ]
  },
  {
   "cell_type": "code",
   "execution_count": 91,
   "metadata": {},
   "outputs": [],
   "source": [
    "def myFct(c):\n",
    "    c = np.array(c)\n",
    "    return (c - c.min())/(c.max() - c.min())"
   ]
  },
  {
   "cell_type": "code",
   "execution_count": 92,
   "metadata": {},
   "outputs": [],
   "source": [
    "X = pd.DataFrame(X).apply(myFct, 0)"
   ]
  },
  {
   "cell_type": "code",
   "execution_count": 93,
   "metadata": {},
   "outputs": [],
   "source": [
    "X = np.array(X)"
   ]
  },
  {
   "cell_type": "code",
   "execution_count": 94,
   "metadata": {},
   "outputs": [
    {
     "name": "stdout",
     "output_type": "stream",
     "text": [
      "(2422, 5)\n",
      "(2422, 45)\n"
     ]
    }
   ],
   "source": [
    "print(Y.shape)\n",
    "print(X.shape)"
   ]
  },
  {
   "cell_type": "code",
   "execution_count": 98,
   "metadata": {},
   "outputs": [
    {
     "name": "stdout",
     "output_type": "stream",
     "text": [
      "------------------------------------------------------------------------------\n",
      "\n",
      "            MANUAL: To install this python package, please use the following code.\n",
      "\n",
      "            # In a python notebook:\n",
      "            # !pip install git+https://github.com/yiqiao-yin/YinPortfolioManagement.git\n",
      "            # In a command line:\n",
      "            # pip install git+https://github.com/yiqiao-yin/YinPortfolioManagement.git\n",
      "\n",
      "            # Run\n",
      "            tmp = Autonomous_Neural_Sequence_Translation(\n",
      "                X                 =   X,   # explanatory data matrix\n",
      "                Y                 =   Y,   # response data matrix\n",
      "                w                 =   1,\n",
      "                h                 =   5,\n",
      "                cutoff            =   0.8, # take a fraction between 0 and 1\n",
      "                numOfHiddenLayer  =   3,   # take an integer from 1, 2, 3, 4, or 5\n",
      "                numOfDense        =   2,   # take an integer from 1, 2, or 3\n",
      "                l1_units          =   128,\n",
      "                l2_units          =   64,\n",
      "                l3_units          =   32,\n",
      "                l4_units          =   16,\n",
      "                l5_units          =   10,\n",
      "                dropOutRate       =   0.2,\n",
      "                optimizer         =   'adam',\n",
      "                loss              =   'mean_squared_error',\n",
      "                epochs            =   50,\n",
      "                batch_size        =   64,\n",
      "                plotGraph         =   False,\n",
      "                useMPLFinancePlot =   True,\n",
      "                verbose           =   True )\n",
      "                    \n",
      "            # Cite\n",
      "            # All Rights Reserved. © Yiqiao Yin\n",
      "            \n",
      "------------------------------------------------------------------------------\n",
      "(2301, 5, 9)\n",
      "(121, 5, 9)\n",
      "(2301, 5)\n",
      "(121, 5)\n",
      "--------------------------------------------\n",
      "Let us investigate the sequential models.\n",
      "Model: \"sequential_10\"\n",
      "_________________________________________________________________\n",
      "Layer (type)                 Output Shape              Param #   \n",
      "=================================================================\n",
      "lstm_35 (LSTM)               (None, 5, 512)            1069056   \n",
      "_________________________________________________________________\n",
      "dropout_35 (Dropout)         (None, 5, 512)            0         \n",
      "_________________________________________________________________\n",
      "lstm_36 (LSTM)               (None, 5, 384)            1377792   \n",
      "_________________________________________________________________\n",
      "dropout_36 (Dropout)         (None, 5, 384)            0         \n",
      "_________________________________________________________________\n",
      "lstm_37 (LSTM)               (None, 5, 64)             114944    \n",
      "_________________________________________________________________\n",
      "dropout_37 (Dropout)         (None, 5, 64)             0         \n",
      "_________________________________________________________________\n",
      "lstm_38 (LSTM)               (None, 32)                12416     \n",
      "_________________________________________________________________\n",
      "dropout_38 (Dropout)         (None, 32)                0         \n",
      "_________________________________________________________________\n",
      "dense_35 (Dense)             (None, 512)               16896     \n",
      "_________________________________________________________________\n",
      "dense_36 (Dense)             (None, 384)               196992    \n",
      "_________________________________________________________________\n",
      "dense_37 (Dense)             (None, 64)                24640     \n",
      "_________________________________________________________________\n",
      "dense_38 (Dense)             (None, 5)                 325       \n",
      "=================================================================\n",
      "Total params: 2,813,061\n",
      "Trainable params: 2,813,061\n",
      "Non-trainable params: 0\n",
      "_________________________________________________________________\n",
      "--------------------------------------------\n",
      "Time Consumption (in sec): 0.9551060199737549\n",
      "Time Consumption (in min): 0.02\n",
      "Time Consumption (in hr): 0.0 2\n",
      "--------------------------------------------\n",
      "Epoch 1/10\n",
      "72/72 [==============================] - 4s 50ms/step - loss: 378297.1875\n",
      "Epoch 2/10\n",
      "72/72 [==============================] - 4s 50ms/step - loss: 88253.9922\n",
      "Epoch 3/10\n",
      "72/72 [==============================] - 4s 50ms/step - loss: 16358.9209\n",
      "Epoch 4/10\n",
      "72/72 [==============================] - 3s 48ms/step - loss: 13315.5654\n",
      "Epoch 5/10\n",
      "72/72 [==============================] - 4s 49ms/step - loss: 11599.8945\n",
      "Epoch 6/10\n",
      "72/72 [==============================] - 3s 49ms/step - loss: 9379.9424\n",
      "Epoch 7/10\n",
      "72/72 [==============================] - 4s 49ms/step - loss: 9467.6240\n",
      "Epoch 8/10\n",
      "72/72 [==============================] - 4s 50ms/step - loss: 9403.3184\n",
      "Epoch 9/10\n",
      "72/72 [==============================] - 3s 48ms/step - loss: 7817.0073\n",
      "Epoch 10/10\n",
      "72/72 [==============================] - 3s 48ms/step - loss: 9590.8213\n",
      "Time Consumption: 41.24618363380432\n"
     ]
    },
    {
     "data": {
      "image/png": "[encoded data removed]",
      "text/plain": [
       "<Mpf_Figure size 1000x700 with 2 Axes>"
      ]
     },
     "metadata": {},
     "output_type": "display_data"
    }
   ],
   "source": [
    "tmp = Autonomous_Neural_Sequence_Translation(\n",
    "        X                 =   X,\n",
    "        Y                 =   Y,\n",
    "        w                 =   5,\n",
    "        h                 =   9,\n",
    "        cutoff            =   0.95,\n",
    "        numOfHiddenLayer  =   4,\n",
    "        numOfDense        =   3,\n",
    "        l1_units          =   128,\n",
    "        l2_units          =   128,\n",
    "        l3_units          =   32,\n",
    "        l4_units          =   32,\n",
    "        l5_units          =   10,\n",
    "        dropOutRate       =   0.2,\n",
    "        optimizer         =   'adam',\n",
    "        loss              =   'mean_squared_error',\n",
    "        epochs            =   10,\n",
    "        batch_size        =   32,\n",
    "        plotGraph         =   False,\n",
    "        useMPLFinancePlot =   True,\n",
    "        verbose           =   True )"
   ]
  },
  {
   "cell_type": "markdown",
   "metadata": {},
   "source": [
    "Ends here."
   ]
  }
 ],
 "metadata": {
  "kernelspec": {
   "display_name": "Python 3",
   "language": "python",
   "name": "python3"
  },
  "language_info": {
   "codemirror_mode": {
    "name": "ipython",
    "version": 3
   },
   "file_extension": ".py",
   "mimetype": "text/x-python",
   "name": "python",
   "nbconvert_exporter": "python",
   "pygments_lexer": "ipython3",
   "version": "3.8.3"
  }
 },
 "nbformat": 4,
 "nbformat_minor": 4
}
