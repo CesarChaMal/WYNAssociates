{
  "nbformat": 4,
  "nbformat_minor": 0,
  "metadata": {
    "colab": {
      "name": "ex10 - lstm on IMDB.ipynb",
      "provenance": [],
      "collapsed_sections": [],
      "machine_shape": "hm",
      "toc_visible": true,
      "background_execution": "on"
    },
    "kernelspec": {
      "name": "python3",
      "display_name": "Python 3"
    },
    "accelerator": "GPU",
    "gpuClass": "standard"
  },
  "cells": [
    {
      "cell_type": "markdown",
      "metadata": {
        "id": "WMucfLUS1yhH"
      },
      "source": [
        "## What is this?\n",
        "\n",
        "This Jupyter Notebook contains Python code for building a LSTM Recurrent Neural Network that gives 87-88% accuracy on the IMDB Movie Review Sentiment Analysis Dataset. \n",
        "\n",
        "<p align='center'>\n",
        "    <img src=\"https://www.bouvet.no/bouvet-deler/explaining-recurrent-neural-networks/_/attachment/inline/dbb03f2e-cfa5-4914-88fd-422231379121:b9e76ed5b43ad981d8e9891158a192ec098c2314/Screenshot%202019-07-11%20at%2016.31.24.png\"></img>\n",
        "</p>\n",
        "\n",
        "More information is given on [this blogpost](https://www.bouvet.no/bouvet-deler/explaining-recurrent-neural-networks).\n",
        "\n",
        "We investigate the IMDB Movie Dataset.\n",
        "\n",
        "<p align=\"center\">\n",
        "    <img src=\"https://www.bouvet.no/bouvet-deler/explaining-recurrent-neural-networks/_/attachment/inline/0ad28f07-a532-4a1d-8b0b-c6bc817bb387:78002f0bda06e4dd4d2f70c27c86d4ef2388a7c0/Screenshot%202019-07-04%20at%2013.46.38.png\"></img>\n",
        "</p>\n",
        "\n",
        "This code is supplied without license, warranty or support. Feel free to do with it what you will."
      ]
    },
    {
      "cell_type": "markdown",
      "metadata": {
        "id": "wFUKGe4x3ala"
      },
      "source": [
        "## Built for Google Collaboratory\n",
        "\n",
        "Train your network more quickly in Google Collaboratory. From the **Runtime** menu select **Change Runtime** Type and choose \"GPU\"!\n",
        "\n",
        "Don't forget to select **Runtime** -> **Restart runtime** to put your changes into effect."
      ]
    },
    {
      "cell_type": "markdown",
      "metadata": {
        "id": "WP1VrbVp3sVu"
      },
      "source": [
        "## Setting up\n",
        "\n",
        "When running this for the first time you may get a warning telling you to restart the Runtime. You can ignore this, but feel free to select \"Runtime->Restart Runtime\" from the overhead menu if you encounter problems."
      ]
    },
    {
      "cell_type": "code",
      "metadata": {
        "id": "2e3txwbh3q76",
        "outputId": "8df9cb83-f267-4820-a45b-3f4981d69fe8",
        "colab": {
          "base_uri": "https://localhost:8080/",
          "height": 571
        }
      },
      "source": [
        "# keras.datasets.imdb is broken in TensorFlow 1.13 and 1.14 due to numpy 1.16.3\n",
        "!pip install numpy==1.16.2\n",
        "\n",
        "# All the imports!\n",
        "import tensorflow as tf \n",
        "import numpy as np\n",
        "from tensorflow.keras.preprocessing import sequence\n",
        "from numpy import array\n",
        "\n",
        "# Supress deprecation warnings\n",
        "import logging\n",
        "logging.getLogger('tensorflow').disabled = True\n"
      ],
      "execution_count": null,
      "outputs": [
        {
          "output_type": "stream",
          "name": "stdout",
          "text": [
            "Looking in indexes: https://pypi.org/simple, https://us-python.pkg.dev/colab-wheels/public/simple/\n",
            "Collecting numpy==1.16.2\n",
            "  Downloading numpy-1.16.2-cp37-cp37m-manylinux1_x86_64.whl (17.3 MB)\n",
            "\u001b[K     |████████████████████████████████| 17.3 MB 30.9 MB/s \n",
            "\u001b[?25hInstalling collected packages: numpy\n",
            "  Attempting uninstall: numpy\n",
            "    Found existing installation: numpy 1.21.6\n",
            "    Uninstalling numpy-1.21.6:\n",
            "      Successfully uninstalled numpy-1.21.6\n",
            "\u001b[31mERROR: pip's dependency resolver does not currently take into account all the packages that are installed. This behaviour is the source of the following dependency conflicts.\n",
            "xarray 0.20.2 requires numpy>=1.18, but you have numpy 1.16.2 which is incompatible.\n",
            "xarray-einstats 0.2.2 requires numpy>=1.21, but you have numpy 1.16.2 which is incompatible.\n",
            "tensorflow 2.8.2+zzzcolab20220527125636 requires numpy>=1.20, but you have numpy 1.16.2 which is incompatible.\n",
            "tables 3.7.0 requires numpy>=1.19.0, but you have numpy 1.16.2 which is incompatible.\n",
            "scikit-image 0.18.3 requires numpy>=1.16.5, but you have numpy 1.16.2 which is incompatible.\n",
            "pywavelets 1.3.0 requires numpy>=1.17.3, but you have numpy 1.16.2 which is incompatible.\n",
            "pyerfa 2.0.0.1 requires numpy>=1.17, but you have numpy 1.16.2 which is incompatible.\n",
            "pyarrow 6.0.1 requires numpy>=1.16.6, but you have numpy 1.16.2 which is incompatible.\n",
            "pandas 1.3.5 requires numpy>=1.17.3; platform_machine != \"aarch64\" and platform_machine != \"arm64\" and python_version < \"3.10\", but you have numpy 1.16.2 which is incompatible.\n",
            "kapre 0.3.7 requires numpy>=1.18.5, but you have numpy 1.16.2 which is incompatible.\n",
            "jaxlib 0.3.7+cuda11.cudnn805 requires numpy>=1.19, but you have numpy 1.16.2 which is incompatible.\n",
            "jax 0.3.8 requires numpy>=1.19, but you have numpy 1.16.2 which is incompatible.\n",
            "datascience 0.10.6 requires folium==0.2.1, but you have folium 0.8.3 which is incompatible.\n",
            "cupy-cuda111 9.4.0 requires numpy<1.24,>=1.17, but you have numpy 1.16.2 which is incompatible.\n",
            "astropy 4.3.1 requires numpy>=1.17, but you have numpy 1.16.2 which is incompatible.\n",
            "albumentations 0.1.12 requires imgaug<0.2.7,>=0.2.5, but you have imgaug 0.2.9 which is incompatible.\u001b[0m\n",
            "Successfully installed numpy-1.16.2\n"
          ]
        },
        {
          "output_type": "display_data",
          "data": {
            "application/vnd.colab-display-data+json": {
              "pip_warning": {
                "packages": [
                  "numpy"
                ]
              }
            }
          },
          "metadata": {}
        }
      ]
    },
    {
      "cell_type": "markdown",
      "source": [
        "### Vocabulary Size"
      ],
      "metadata": {
        "id": "nGS3DM56wYhN"
      }
    },
    {
      "cell_type": "code",
      "source": [
        "# Fetch \"IMDB Movie Review\" data, constraining our reviews to \n",
        "# the 10000 most commonly used words\n",
        "vocab_size = 5000\n",
        "(x_train, y_train), (x_test, y_test) = tf.keras.datasets.imdb.load_data(num_words=vocab_size)\n",
        "\n",
        "# Map for readable classnames\n",
        "class_names = [\"Negative\", \"Positive\"]"
      ],
      "metadata": {
        "id": "ProT4bJrwXZP",
        "colab": {
          "base_uri": "https://localhost:8080/"
        },
        "outputId": "71350d16-bbd6-45cb-fdde-5dd3bba91a26"
      },
      "execution_count": null,
      "outputs": [
        {
          "output_type": "stream",
          "name": "stdout",
          "text": [
            "Downloading data from https://storage.googleapis.com/tensorflow/tf-keras-datasets/imdb.npz\n",
            "17465344/17464789 [==============================] - 0s 0us/step\n",
            "17473536/17464789 [==============================] - 0s 0us/step\n"
          ]
        }
      ]
    },
    {
      "cell_type": "markdown",
      "metadata": {
        "id": "hdyHL8FF0JJy"
      },
      "source": [
        "## Create map for converting IMDB dataset to readable reviews\n",
        "\n",
        "Reviews in the IMDB dataset have been encoded as a sequence of integers. Luckily the dataset also \n",
        "contains an index for converting the reviews back into human readable form."
      ]
    },
    {
      "cell_type": "code",
      "metadata": {
        "id": "E05AweFu0Imt",
        "colab": {
          "base_uri": "https://localhost:8080/"
        },
        "outputId": "7e437f18-91d1-4157-e770-86299a9cb6ee"
      },
      "source": [
        "# Get the word index from the dataset\n",
        "word_index = tf.keras.datasets.imdb.get_word_index()\n",
        "\n",
        "# Ensure that \"special\" words are mapped into human readable terms \n",
        "word_index = {k:(v+3) for k,v in word_index.items()}\n",
        "word_index[\"<PAD>\"] = 0\n",
        "word_index[\"<START>\"] = 1\n",
        "word_index[\"<UNKNOWN>\"] = 2\n",
        "word_index[\"<UNUSED>\"] = 3\n",
        "\n",
        "# Perform reverse word lookup and make it callable\n",
        "reverse_word_index = dict([(value, key) for (key, value) in word_index.items()])\n",
        "def decode_review(text):\n",
        "    return ' '.join([reverse_word_index.get(i, '?') for i in text])"
      ],
      "execution_count": null,
      "outputs": [
        {
          "output_type": "stream",
          "name": "stdout",
          "text": [
            "Downloading data from https://storage.googleapis.com/tensorflow/tf-keras-datasets/imdb_word_index.json\n",
            "1646592/1641221 [==============================] - 0s 0us/step\n",
            "1654784/1641221 [==============================] - 0s 0us/step\n"
          ]
        }
      ]
    },
    {
      "cell_type": "markdown",
      "metadata": {
        "id": "fFXK-g6G81sC"
      },
      "source": [
        "## Data Insight\n",
        "\n",
        "Here we take a closer look at our data. How many words do our reviews contain?\n",
        "\n",
        "And what do our review look like in machine and human readable form?\n"
      ]
    },
    {
      "cell_type": "code",
      "metadata": {
        "id": "yD1qHVBn81Y_",
        "outputId": "2fe01e1f-7ae7-4e1b-d09f-96caf0d13015",
        "colab": {
          "base_uri": "https://localhost:8080/"
        }
      },
      "source": [
        "# Concatonate test and training datasets\n",
        "allreviews = np.concatenate((x_train, x_test), axis=0)\n",
        "\n",
        "# Review lengths across test and training whole datasets\n",
        "print(\"Maximum review length: {}\".format(len(max((allreviews), key=len))))\n",
        "print(\"Minimum review length: {}\".format(len(min((allreviews), key=len))))\n",
        "result = [len(x) for x in allreviews]\n",
        "print(\"Mean review length: {}\".format(np.mean(result)))\n",
        "\n",
        "# Print a review and it's class as stored in the dataset. Replace the number\n",
        "# to select a different review.\n",
        "print(\"\")\n",
        "print(\"Machine readable Review\")\n",
        "print(\"  Review Text: \" + str(x_train[60]))\n",
        "print(\"  Review Sentiment: \" + str(y_train[60]))\n",
        "\n",
        "# Print a review and it's class in human readable format. Replace the number\n",
        "# to select a different review.\n",
        "print(\"\")\n",
        "print(\"Human Readable Review\")\n",
        "print(\"  Review Text: \" + decode_review(x_train[60]))\n",
        "print(\"  Review Sentiment: \" + class_names[y_train[60]])"
      ],
      "execution_count": null,
      "outputs": [
        {
          "output_type": "stream",
          "name": "stdout",
          "text": [
            "Maximum review length: 2494\n",
            "Minimum review length: 7\n",
            "Mean review length: 234.75892\n",
            "\n",
            "Machine readable Review\n",
            "  Review Text: [1, 13, 219, 14, 33, 4, 2, 22, 1413, 12, 16, 373, 175, 2711, 1115, 1026, 430, 939, 16, 23, 2444, 25, 43, 697, 89, 12, 16, 170, 8, 130, 262, 19, 32, 4, 665, 7, 4, 2, 322, 5, 4, 1520, 7, 4, 86, 250, 10, 10, 4, 249, 173, 16, 4, 3891, 6, 19, 4, 167, 564, 5, 564, 1325, 36, 805, 8, 216, 638, 17, 2, 21, 25, 100, 376, 507, 4, 2110, 15, 79, 125, 23, 567, 13, 2134, 233, 36, 4852, 2, 5, 81, 1672, 10, 10, 92, 437, 129, 58, 13, 69, 8, 401, 61, 1432, 39, 1286, 46, 7, 12]\n",
            "  Review Sentiment: 0\n",
            "\n",
            "Human Readable Review\n",
            "  Review Text: <START> i saw this at the <UNKNOWN> film festival it was awful every clichéd violent rich boy fantasy was on display you just knew how it was going to end especially with all the shots of the <UNKNOWN> wife and the rape of the first girl br br the worst part was the q a with the director writer and writer producer they tried to come across as <UNKNOWN> but you could tell they're the types that get off on violence i bet anything they frequent <UNKNOWN> and do drugs br br don't waste your time i had to keep my boyfriend from walking out of it\n",
            "  Review Sentiment: Negative\n"
          ]
        }
      ]
    },
    {
      "cell_type": "markdown",
      "metadata": {
        "id": "mF-Votm66zD5"
      },
      "source": [
        "## Pre-processing Data\n",
        "\n",
        "We need to make sure that our reviews are of a uniform length. This is for the LSTM's parameters.\n",
        "\n",
        "<p align='center'><img src='https://miro.medium.com/max/805/1*0CJgssFgShpKAi5ITSuM5w.png' width=300></img></p>\n",
        "\n",
        "Some reviews will need to be truncated, while others need to be padded."
      ]
    },
    {
      "cell_type": "code",
      "metadata": {
        "id": "uNtJTLJA6gaT",
        "outputId": "3c3e0935-9a31-4252-ca6b-f846e294995a",
        "colab": {
          "base_uri": "https://localhost:8080/"
        }
      },
      "source": [
        "# The length of reviews\n",
        "review_length = 300\n",
        "\n",
        "# Padding / truncated our reviews\n",
        "x_train = sequence.pad_sequences(x_train, maxlen = review_length)\n",
        "x_test = sequence.pad_sequences(x_test, maxlen = review_length)\n",
        "\n",
        "# Check the size of our datasets. Review data for both test and training should \n",
        "# contain 25000 reviews of 500 integers. Class data should contain 25000 values, \n",
        "# one for each review. Class values are 0 or 1, indicating a negative \n",
        "# or positive review.\n",
        "print(\"Shape Training Review Data: \" + str(x_train.shape))\n",
        "print(\"Shape Training Class Data: \" + str(y_train.shape))\n",
        "print(\"Shape Test Review Data: \" + str(x_test.shape))\n",
        "print(\"Shape Test Class Data: \" + str(y_test.shape))\n",
        "\n",
        "# Note padding is added to start of review, not the end\n",
        "print(\"\")\n",
        "print(\"Human Readable Review Text (post padding): \" + decode_review(x_train[60]))"
      ],
      "execution_count": null,
      "outputs": [
        {
          "output_type": "stream",
          "name": "stdout",
          "text": [
            "Shape Training Review Data: (25000, 300)\n",
            "Shape Training Class Data: (25000,)\n",
            "Shape Test Review Data: (25000, 300)\n",
            "Shape Test Class Data: (25000,)\n",
            "\n",
            "Human Readable Review Text (post padding): <PAD> <PAD> <PAD> <PAD> <PAD> <PAD> <PAD> <PAD> <PAD> <PAD> <PAD> <PAD> <PAD> <PAD> <PAD> <PAD> <PAD> <PAD> <PAD> <PAD> <PAD> <PAD> <PAD> <PAD> <PAD> <PAD> <PAD> <PAD> <PAD> <PAD> <PAD> <PAD> <PAD> <PAD> <PAD> <PAD> <PAD> <PAD> <PAD> <PAD> <PAD> <PAD> <PAD> <PAD> <PAD> <PAD> <PAD> <PAD> <PAD> <PAD> <PAD> <PAD> <PAD> <PAD> <PAD> <PAD> <PAD> <PAD> <PAD> <PAD> <PAD> <PAD> <PAD> <PAD> <PAD> <PAD> <PAD> <PAD> <PAD> <PAD> <PAD> <PAD> <PAD> <PAD> <PAD> <PAD> <PAD> <PAD> <PAD> <PAD> <PAD> <PAD> <PAD> <PAD> <PAD> <PAD> <PAD> <PAD> <PAD> <PAD> <PAD> <PAD> <PAD> <PAD> <PAD> <PAD> <PAD> <PAD> <PAD> <PAD> <PAD> <PAD> <PAD> <PAD> <PAD> <PAD> <PAD> <PAD> <PAD> <PAD> <PAD> <PAD> <PAD> <PAD> <PAD> <PAD> <PAD> <PAD> <PAD> <PAD> <PAD> <PAD> <PAD> <PAD> <PAD> <PAD> <PAD> <PAD> <PAD> <PAD> <PAD> <PAD> <PAD> <PAD> <PAD> <PAD> <PAD> <PAD> <PAD> <PAD> <PAD> <PAD> <PAD> <PAD> <PAD> <PAD> <PAD> <PAD> <PAD> <PAD> <PAD> <PAD> <PAD> <PAD> <PAD> <PAD> <PAD> <PAD> <PAD> <PAD> <PAD> <PAD> <PAD> <PAD> <PAD> <PAD> <PAD> <PAD> <PAD> <PAD> <PAD> <PAD> <PAD> <PAD> <PAD> <PAD> <PAD> <PAD> <PAD> <PAD> <PAD> <PAD> <PAD> <PAD> <PAD> <PAD> <PAD> <PAD> <PAD> <PAD> <PAD> <PAD> <PAD> <START> i saw this at the <UNKNOWN> film festival it was awful every clichéd violent rich boy fantasy was on display you just knew how it was going to end especially with all the shots of the <UNKNOWN> wife and the rape of the first girl br br the worst part was the q a with the director writer and writer producer they tried to come across as <UNKNOWN> but you could tell they're the types that get off on violence i bet anything they frequent <UNKNOWN> and do drugs br br don't waste your time i had to keep my boyfriend from walking out of it\n"
          ]
        }
      ]
    },
    {
      "cell_type": "markdown",
      "metadata": {
        "id": "BfOdV_VCCFee"
      },
      "source": [
        "## Create and build LSTM Recurrent Neural Network\n",
        "\n",
        "Given data $X$ and $Y$, we want to feed information forward into a time stamp. Then we form some belief and we make some initial predictions. We investigate our beliefs by looking at the loss function of the initial guesses and the real value. We update our model according to error we observed. "
      ]
    },
    {
      "cell_type": "markdown",
      "source": [
        "## Architecture: Feed-forward\n",
        "\n",
        "Consider data with time stamp\n",
        "$$X_{\\langle 1 \\rangle} \\rightarrow X_{\\langle 2 \\rangle} \\rightarrow \\dots \\rightarrow X_{\\langle T \\rangle}$$\n",
        "and feed-forward architecture pass information through exactly as the following:\n",
        "$$\n",
        "\\text{Information in:} \\rightarrow\n",
        "\\begin{matrix}\n",
        "\\{Y_{\\langle 1 \\rangle}, ..., Y_{\\langle k \\rangle}\\} & \\{Y_{\\langle 1 \\rangle}, ..., Y_{\\langle k \\rangle}\\} &       & \\{Y_{\\langle 1 \\rangle}, ..., Y_{\\langle k \\rangle}\\} \\\\\n",
        "\\updownarrow               & \\updownarrow               &       & \\updownarrow \\\\\n",
        "\\{\\hat{Y}_{\\langle 1 \\rangle}, ..., \\hat{Y}_{\\langle k \\rangle}\\} & \\{\\hat{Y}_{\\langle 1 \\rangle}, ..., \\hat{Y}_{\\langle k \\rangle}\\} &       & \\{\\hat{Y}_{\\langle 1 \\rangle}, ..., \\hat{Y}_{\\langle k \\rangle}\\} \\\\\n",
        "\\uparrow               & \\uparrow               &       & \\uparrow \\\\\n",
        "X_{\\langle 1 \\rangle} \\rightarrow    & X_{\\langle 2 \\rangle} \\rightarrow    & \\dots \\rightarrow & X_{\\langle T \\rangle} \\\\\n",
        "\\uparrow               & \\uparrow               &       & \\uparrow \\\\\n",
        "w_{\\langle 1 \\rangle}, b_{0, \\langle 1 \\rangle}    & w_{\\langle 2 \\rangle}, b_{0, \\langle 2 \\rangle}    &       & w_{\\langle T \\rangle}, b_{0, \\langle T \\rangle} \\\\\n",
        "\\end{matrix}\n",
        "\\rightarrow\n",
        "\\text{Form beliefs about } Y_{\\langle T \\rangle}\n",
        "$$\n",
        "while the educated guesses $\\hat{Y}_{\\langle T \\rangle}$ are our beliefs about real $Y$ at time stamp $T$. "
      ],
      "metadata": {
        "id": "IetEwhVEKDgc"
      }
    },
    {
      "cell_type": "markdown",
      "source": [
        "## Architecture: Feed-backward\n",
        "\n",
        "Let us clearly define our loss function to make sure we have a proper grip of our mistakes. \n",
        "$$\\mathcal{L} = \\sum_t \\sum_k L(\\hat{y}_{\\langle t,k \\rangle} - y_{\\langle t,k \\rangle})^2$$\n",
        "and we can compute the gradient \n",
        "$$\\triangledown = \\frac{\\partial \\mathcal{L}}{\\partial a}$$\n",
        "and then with respect with parameters $w$ and $b$\n",
        "$$\\frac{\\partial \\triangledown}{\\partial w}, \\frac{\\partial \\triangledown}{\\partial a}$$\n",
        "and now with perspective of where we make our mistakes according to our parameters we can go backward\n",
        "$$\n",
        "\\text{Information in:} \\leftarrow\n",
        "\\underbrace{\n",
        "\\begin{matrix}\n",
        "\\{Y_{\\langle 1 \\rangle}, ..., Y_{\\langle k \\rangle}\\} & \\{Y_{\\langle 1 \\rangle}, ..., Y_{\\langle k \\rangle}\\} &       & \\{Y_{\\langle 1 \\rangle}, ..., Y_{\\langle k \\rangle}\\} \\\\\n",
        "\\updownarrow               & \\updownarrow               &       & \\updownarrow \\\\\n",
        "\\{\\hat{Y}_{\\langle 1 \\rangle}, ..., \\hat{Y}_{\\langle k \\rangle}\\} & \\{\\hat{Y}_{\\langle 1 \\rangle}, ..., \\hat{Y}_{\\langle k \\rangle}\\} &       & \\{\\hat{Y}_{\\langle 1 \\rangle}, ..., \\hat{Y}_{\\langle k \\rangle}\\} \\\\\n",
        "\\uparrow               & \\uparrow               &       & \\uparrow \\\\\n",
        "X_{\\langle 1 \\rangle} \\leftarrow    & X_{\\langle 2 \\rangle} \\leftarrow    & \\dots \\leftarrow & X_{\\langle T \\rangle} \\\\\n",
        "\\uparrow               & \\uparrow               &       & \\uparrow \\\\\n",
        "w'_{\\langle 1 \\rangle}, b'_{0, \\langle 1 \\rangle}    & w'_{\\langle 2 \\rangle}, b'_{0, \\langle 2 \\rangle}    &       & w'_{\\langle T \\rangle}, b'_{0, \\langle T \\rangle} \\\\\n",
        "\\end{matrix}}_{\\text{Update: } w, b \\text{ with } w', b'}\n",
        "\\leftarrow\n",
        "\\text{Total Loss: } \\mathcal{L} (\\hat{y}, y)\n",
        "$$\n",
        "and the *update* action in the above architecture is dependent on your optimizer specified in the algorithm."
      ],
      "metadata": {
        "id": "uC6j45XYKFub"
      }
    },
    {
      "cell_type": "markdown",
      "source": [
        "### Embedding\n",
        "\n",
        "Embedding layer turns positive integers (indexes) into dense vectors of fixed size.\n",
        "\n",
        "```\n",
        "eg. [[4], [20]] -> [[0.25, 0.1], [0.6, -0.2]]\n",
        "```\n",
        "\n",
        "<p align='center'><img src='https://github.com/yiqiao-yin/WYNAssociates/blob/main/figs/layer_embedding.png?raw=true' width=600></img></p>\n"
      ],
      "metadata": {
        "id": "V04BSbvVIyoo"
      }
    },
    {
      "cell_type": "code",
      "source": [
        "# We begin by defining the a empty stack. We'll use this for building our \n",
        "# network, later by layer.\n",
        "model = tf.keras.models.Sequential()\n",
        "\n",
        "# The Embedding Layer provides a spatial mapping (or Word Embedding) of all the \n",
        "# individual words in our training set. Words close to one another share context \n",
        "# and or meaning. This spatial mapping is learning during the training process.\n",
        "model.add(\n",
        "    tf.keras.layers.Embedding(\n",
        "        input_dim = vocab_size, # The size of our vocabulary \n",
        "        output_dim = 64, # Dimensions to which each words shall be mapped\n",
        "        input_length = review_length # Length of input sequences\n",
        "    )\n",
        ")"
      ],
      "metadata": {
        "id": "tChiwU_qsFjQ"
      },
      "execution_count": null,
      "outputs": []
    },
    {
      "cell_type": "markdown",
      "source": [
        "Recall the dimension of the input data."
      ],
      "metadata": {
        "id": "_UGfpjrps0pg"
      }
    },
    {
      "cell_type": "code",
      "source": [
        "# display shape\n",
        "x_train.shape"
      ],
      "metadata": {
        "colab": {
          "base_uri": "https://localhost:8080/"
        },
        "id": "npc4ULuMsREY",
        "outputId": "d5e11ebe-2993-4348-8041-79051bb3223b"
      },
      "execution_count": null,
      "outputs": [
        {
          "output_type": "execute_result",
          "data": {
            "text/plain": [
              "(25000, 300)"
            ]
          },
          "metadata": {},
          "execution_count": 7
        }
      ]
    },
    {
      "cell_type": "markdown",
      "source": [
        "These are the arguments required. Vocabulary size is define above. Review length is the length of the features, which is also defined above. The output dimension is a choice by the scientist."
      ],
      "metadata": {
        "id": "tU8svnRDs4YI"
      }
    },
    {
      "cell_type": "code",
      "source": [
        "# recall args\n",
        "vocab_size, review_length"
      ],
      "metadata": {
        "colab": {
          "base_uri": "https://localhost:8080/"
        },
        "id": "iGhMEhSRsgCo",
        "outputId": "578349bd-fbf9-438f-f602-f8bcebeebcb9"
      },
      "execution_count": null,
      "outputs": [
        {
          "output_type": "execute_result",
          "data": {
            "text/plain": [
              "(5000, 300)"
            ]
          },
          "metadata": {},
          "execution_count": 8
        }
      ]
    },
    {
      "cell_type": "markdown",
      "source": [
        "We can generate output without training anything. This will not be a trained model. However, the dimension should match and the *.predict()* function should work."
      ],
      "metadata": {
        "id": "HkiFzML4te7P"
      }
    },
    {
      "cell_type": "code",
      "source": [
        "# test\n",
        "some_fake_test_ = model.predict(x_train)\n",
        "some_fake_test_.shape"
      ],
      "metadata": {
        "colab": {
          "base_uri": "https://localhost:8080/"
        },
        "id": "o1z_E21gsKmv",
        "outputId": "e582121d-9305-4bfa-cb8a-01e39ce175a9"
      },
      "execution_count": null,
      "outputs": [
        {
          "output_type": "execute_result",
          "data": {
            "text/plain": [
              "(25000, 300, 64)"
            ]
          },
          "metadata": {},
          "execution_count": 9
        }
      ]
    },
    {
      "cell_type": "markdown",
      "source": [
        "### Dropout\n",
        "\n",
        "Simply put, dropout refers to ignoring units (i.e. neurons) during the training phase of certain set of neurons which is chosen at random. By “ignoring”, I mean these units are not considered during a particular forward or backward pass.\n",
        "\n",
        "Given that we know a bit about dropout, a question arises — why do we need dropout at all? Why do we need to literally shut-down parts of a neural networks?\n",
        "\n",
        "The answer to these questions is “to prevent over-fitting”.\n",
        "\n",
        "A fully connected layer occupies most of the parameters, and hence, neurons develop co-dependency amongst each other during training which curbs the individual power of each neuron leading to over-fitting of training data.\n",
        "\n",
        "<p align='center'><img src='https://miro.medium.com/max/1044/1*iWQzxhVlvadk6VAJjsgXgg.png' width=600></img></p>\n",
        "\n",
        "More see this [blog](https://medium.com/@amarbudhiraja/https-medium-com-amarbudhiraja-learning-less-to-learn-better-dropout-in-deep-machine-learning-74334da4bfc5)."
      ],
      "metadata": {
        "id": "v4fRjOmgI1IW"
      }
    },
    {
      "cell_type": "markdown",
      "source": [
        "### LSTM\n",
        "\n",
        "All recurrent neural networks have the form of a chain of repeating modules of neural network. In standard RNNs, this repeating module will have a very simple structure, such as a single tanh layer.\n",
        "\n",
        "<p align='center'><img src='https://colah.github.io/posts/2015-08-Understanding-LSTMs/img/LSTM3-SimpleRNN.png' width=600></img></p>\n",
        "\n",
        "\n",
        "LSTMs also have this chain like structure, but the repeating module has a different structure. Instead of having a single neural network layer, there are four, interacting in a very special way.\n",
        "\n",
        "<p align='center'><img src='https://colah.github.io/posts/2015-08-Understanding-LSTMs/img/LSTM3-chain.png' width=600></img></p>\n",
        "\n",
        "The cell state is kind of like a conveyor belt. It runs straight down the entire chain, with only some minor linear interactions. It’s very easy for information to just flow along it unchanged.\n",
        "\n",
        "<p align='center'><img src='https://colah.github.io/posts/2015-08-Understanding-LSTMs/img/LSTM3-C-line.png' width=600></img></p>\n",
        "\n",
        "Gates are a way to optionally let information through. They are composed out of a sigmoid neural net layer and a pointwise multiplication operation.\n",
        "\n",
        "<p align='center'><img src='https://colah.github.io/posts/2015-08-Understanding-LSTMs/img/LSTM3-gate.png' width=100></img></p>\n",
        "\n",
        "The first step in our LSTM is to decide what information we’re going to throw away from the cell state. This decision is made by a sigmoid layer called the “forget gate layer.”\n",
        "\n",
        "<p align='center'><img src='https://colah.github.io/posts/2015-08-Understanding-LSTMs/img/LSTM3-focus-f.png' width=600></img></p>\n",
        "\n",
        "The next step is to decide what new information we’re going to store in the cell state. This has two parts. First, a sigmoid layer called the “input gate layer” decides which values we’ll update. Next, a tanh layer creates a vector of new candidate values that could be added to the state.\n",
        "\n",
        "<p align='center'><img src='https://colah.github.io/posts/2015-08-Understanding-LSTMs/img/LSTM3-focus-i.png' width=600></img></p>\n",
        "\n",
        "It’s now time to update the old cell state and into the new cell state. The previous steps already decided what to do, we just need to actually do it.\n",
        "\n",
        "<p align='center'><img src='https://colah.github.io/posts/2015-08-Understanding-LSTMs/img/LSTM3-focus-C.png' width=600></img></p>\n",
        "\n",
        "Finally, we need to decide what we’re going to output. This output will be based on our cell state, but will be a filtered version. First, we run a sigmoid layer which decides what parts of the cell state we’re going to output. Then, we put the cell state through tanh (to push the values to be between −1 and 1) and multiply it by the output of the sigmoid gate, so that we only output the parts we decided to.\n",
        "\n",
        "<p align='center'><img src='https://colah.github.io/posts/2015-08-Understanding-LSTMs/img/LSTM3-focus-o.png' width=600></img></p>\n",
        "\n",
        "More can be read in this [blog](https://colah.github.io/posts/2015-08-Understanding-LSTMs/).\n",
        "\n",
        "\n"
      ],
      "metadata": {
        "id": "OT0UMFnmI2UV"
      }
    },
    {
      "cell_type": "markdown",
      "source": [
        "## Build the Model"
      ],
      "metadata": {
        "id": "IJxut6sivQg2"
      }
    },
    {
      "cell_type": "code",
      "metadata": {
        "id": "8nmO8M4aCKwT",
        "outputId": "0f8eec79-de5e-46ca-926c-72a5ac314352",
        "colab": {
          "base_uri": "https://localhost:8080/"
        }
      },
      "source": [
        "# We begin by defining the a empty stack. We'll use this for building our \n",
        "# network, later by layer.\n",
        "model = tf.keras.models.Sequential()\n",
        "\n",
        "# The Embedding Layer provides a spatial mapping (or Word Embedding) of all the \n",
        "# individual words in our training set. Words close to one another share context \n",
        "# and or meaning. This spatial mapping is learning during the training process.\n",
        "model.add(\n",
        "    tf.keras.layers.Embedding(\n",
        "        input_dim = vocab_size, # The size of our vocabulary \n",
        "        output_dim = 16, # Dimensions to which each words shall be mapped\n",
        "        input_length = review_length # Length of input sequences\n",
        "    )\n",
        ")\n",
        "\n",
        "# Dropout layers fight overfitting and forces the model to learn multiple \n",
        "# representations of the same data by randomly disabling neurons in the \n",
        "# learning phase.\n",
        "model.add(\n",
        "    tf.keras.layers.Dropout(\n",
        "        rate=0.25 # Randomly disable 25% of neurons\n",
        "    )\n",
        ")\n",
        "\n",
        "# We are using a fast version of LSTM whih is optimised for GPUs. This layer \n",
        "# looks at the sequence of words in the review, along with their word embeddings\n",
        "# and uses both of these to determine to sentiment of a given review.\n",
        "model.add(\n",
        "    tf.keras.layers.LSTM(\n",
        "        units=32 # 32 LSTM units in this layer\n",
        "    )\n",
        ")\n",
        "\n",
        "# Add a second dropout layer with the same aim as the first.\n",
        "model.add(\n",
        "    tf.keras.layers.Dropout(\n",
        "        rate=0.25 # Randomly disable 25% of neurons\n",
        "    )\n",
        ")\n",
        "\n",
        "# All LSTM units are connected to a single node in the dense layer. A sigmoid \n",
        "# activation function determines the output from this node - a value \n",
        "# between 0 and 1. Closer to 0 indicates a negative review. Closer to 1 \n",
        "# indicates a positive review.\n",
        "model.add(\n",
        "    tf.keras.layers.Dense(\n",
        "        units=1, # Single unit\n",
        "        activation='sigmoid' # Sigmoid activation function (output from 0 to 1)\n",
        "    )\n",
        ")\n",
        "\n",
        "# Compile the model\n",
        "model.compile(\n",
        "    loss=tf.keras.losses.binary_crossentropy, # loss function\n",
        "    optimizer=tf.keras.optimizers.Adam(), # optimiser function\n",
        "    metrics=['accuracy']) # reporting metric\n",
        "\n",
        "# Display a summary of the models structure\n",
        "model.summary()"
      ],
      "execution_count": null,
      "outputs": [
        {
          "output_type": "stream",
          "name": "stdout",
          "text": [
            "Model: \"sequential_1\"\n",
            "_________________________________________________________________\n",
            " Layer (type)                Output Shape              Param #   \n",
            "=================================================================\n",
            " embedding_1 (Embedding)     (None, 300, 16)           80000     \n",
            "                                                                 \n",
            " dropout (Dropout)           (None, 300, 16)           0         \n",
            "                                                                 \n",
            " lstm (LSTM)                 (None, 32)                6272      \n",
            "                                                                 \n",
            " dropout_1 (Dropout)         (None, 32)                0         \n",
            "                                                                 \n",
            " dense (Dense)               (None, 1)                 33        \n",
            "                                                                 \n",
            "=================================================================\n",
            "Total params: 86,305\n",
            "Trainable params: 86,305\n",
            "Non-trainable params: 0\n",
            "_________________________________________________________________\n"
          ]
        }
      ]
    },
    {
      "cell_type": "markdown",
      "metadata": {
        "id": "8Xx1Q2I8WNI9"
      },
      "source": [
        "## Visualise the Model"
      ]
    },
    {
      "cell_type": "code",
      "metadata": {
        "id": "cz0Erj2WU3Vh",
        "outputId": "ba9912d2-d9e7-4996-dc5c-06981f2a36b9",
        "colab": {
          "base_uri": "https://localhost:8080/",
          "height": 644
        }
      },
      "source": [
        "tf.keras.utils.plot_model(model, to_file='model.png', show_shapes=True, show_layer_names=False)"
      ],
      "execution_count": null,
      "outputs": [
        {
          "output_type": "execute_result",
          "data": {
            "text/plain": [
              "<IPython.core.display.Image object>"
            ],
            "image/png": "[encoded data removed]"
          },
          "metadata": {},
          "execution_count": 11
        }
      ]
    },
    {
      "cell_type": "markdown",
      "metadata": {
        "id": "5KdfAoHsGwzo"
      },
      "source": [
        "## Train the LSTM"
      ]
    },
    {
      "cell_type": "code",
      "source": [
        "import tensorflow as tf\n",
        "device_name = tf.test.gpu_device_name()"
      ],
      "metadata": {
        "id": "FzggVO33rDLB"
      },
      "execution_count": null,
      "outputs": []
    },
    {
      "cell_type": "code",
      "metadata": {
        "id": "rEN1vV4nG1V3",
        "outputId": "23858ca7-3e47-4ed6-f1ba-844106a82e0a",
        "colab": {
          "base_uri": "https://localhost:8080/"
        }
      },
      "source": [
        "# Train the LSTM on the training data\n",
        "with tf.device('/device:GPU:0'):\n",
        "    history = model.fit(\n",
        "\n",
        "        # Training data : features (review) and classes (positive or negative)\n",
        "        x_train, y_train,\n",
        "                        \n",
        "        # Number of samples to work through before updating the \n",
        "        # internal model parameters via back propagation. The \n",
        "        # higher the batch, the more memory you need.\n",
        "        batch_size=256, \n",
        "\n",
        "        # An epoch is an iteration over the entire training data.\n",
        "        epochs=100,\n",
        "        \n",
        "        # The model will set apart his fraction of the training \n",
        "        # data, will not train on it, and will evaluate the loss\n",
        "        # and any model metrics on this data at the end of \n",
        "        # each epoch.\n",
        "        validation_split=0.2,\n",
        "        \n",
        "        # Set verbose=1 if it is desired to have output printed.\n",
        "        # In some scenarios where output needs to be hidden, we\n",
        "        # set verbose=0.\n",
        "        verbose=1\n",
        "    ) "
      ],
      "execution_count": null,
      "outputs": [
        {
          "output_type": "stream",
          "name": "stdout",
          "text": [
            "Epoch 1/100\n",
            "79/79 [==============================] - 10s 21ms/step - loss: 0.6234 - accuracy: 0.6471 - val_loss: 0.9326 - val_accuracy: 0.6052\n",
            "Epoch 2/100\n",
            "79/79 [==============================] - 1s 14ms/step - loss: 0.4326 - accuracy: 0.8189 - val_loss: 0.3329 - val_accuracy: 0.8676\n",
            "Epoch 3/100\n",
            "79/79 [==============================] - 1s 15ms/step - loss: 0.2928 - accuracy: 0.8866 - val_loss: 0.3102 - val_accuracy: 0.8732\n",
            "Epoch 4/100\n",
            "79/79 [==============================] - 1s 15ms/step - loss: 0.2769 - accuracy: 0.8942 - val_loss: 0.2941 - val_accuracy: 0.8814\n",
            "Epoch 5/100\n",
            "79/79 [==============================] - 1s 14ms/step - loss: 0.2257 - accuracy: 0.9165 - val_loss: 0.2936 - val_accuracy: 0.8790\n",
            "Epoch 6/100\n",
            "79/79 [==============================] - 1s 15ms/step - loss: 0.2120 - accuracy: 0.9209 - val_loss: 0.2868 - val_accuracy: 0.8782\n",
            "Epoch 7/100\n",
            "79/79 [==============================] - 1s 14ms/step - loss: 0.1880 - accuracy: 0.9323 - val_loss: 0.3350 - val_accuracy: 0.8720\n",
            "Epoch 8/100\n",
            "79/79 [==============================] - 1s 15ms/step - loss: 0.1872 - accuracy: 0.9320 - val_loss: 0.3317 - val_accuracy: 0.8702\n",
            "Epoch 9/100\n",
            "79/79 [==============================] - 1s 15ms/step - loss: 0.1744 - accuracy: 0.9382 - val_loss: 0.2963 - val_accuracy: 0.8784\n",
            "Epoch 10/100\n",
            "79/79 [==============================] - 1s 15ms/step - loss: 0.1612 - accuracy: 0.9427 - val_loss: 0.3202 - val_accuracy: 0.8678\n",
            "Epoch 11/100\n",
            "79/79 [==============================] - 1s 15ms/step - loss: 0.1959 - accuracy: 0.9243 - val_loss: 0.3234 - val_accuracy: 0.8786\n",
            "Epoch 12/100\n",
            "79/79 [==============================] - 1s 15ms/step - loss: 0.1450 - accuracy: 0.9484 - val_loss: 0.3156 - val_accuracy: 0.8762\n",
            "Epoch 13/100\n",
            "79/79 [==============================] - 1s 15ms/step - loss: 0.1369 - accuracy: 0.9515 - val_loss: 0.3431 - val_accuracy: 0.8762\n",
            "Epoch 14/100\n",
            "79/79 [==============================] - 1s 15ms/step - loss: 0.1311 - accuracy: 0.9549 - val_loss: 0.3890 - val_accuracy: 0.8736\n",
            "Epoch 15/100\n",
            "79/79 [==============================] - 1s 15ms/step - loss: 0.1285 - accuracy: 0.9565 - val_loss: 0.3813 - val_accuracy: 0.8726\n",
            "Epoch 16/100\n",
            "79/79 [==============================] - 1s 15ms/step - loss: 0.1158 - accuracy: 0.9614 - val_loss: 0.3886 - val_accuracy: 0.8722\n",
            "Epoch 17/100\n",
            "79/79 [==============================] - 1s 15ms/step - loss: 0.1218 - accuracy: 0.9568 - val_loss: 0.3890 - val_accuracy: 0.8702\n",
            "Epoch 18/100\n",
            "79/79 [==============================] - 1s 15ms/step - loss: 0.1085 - accuracy: 0.9636 - val_loss: 0.4230 - val_accuracy: 0.8696\n",
            "Epoch 19/100\n",
            "79/79 [==============================] - 1s 15ms/step - loss: 0.1007 - accuracy: 0.9678 - val_loss: 0.4706 - val_accuracy: 0.8654\n",
            "Epoch 20/100\n",
            "79/79 [==============================] - 1s 15ms/step - loss: 0.1030 - accuracy: 0.9654 - val_loss: 0.5121 - val_accuracy: 0.8564\n",
            "Epoch 21/100\n",
            "79/79 [==============================] - 1s 15ms/step - loss: 0.1061 - accuracy: 0.9643 - val_loss: 0.4289 - val_accuracy: 0.8684\n",
            "Epoch 22/100\n",
            "79/79 [==============================] - 1s 15ms/step - loss: 0.0935 - accuracy: 0.9689 - val_loss: 0.4535 - val_accuracy: 0.8668\n",
            "Epoch 23/100\n",
            "79/79 [==============================] - 1s 15ms/step - loss: 0.1010 - accuracy: 0.9664 - val_loss: 0.4533 - val_accuracy: 0.8652\n",
            "Epoch 24/100\n",
            "79/79 [==============================] - 1s 15ms/step - loss: 0.0970 - accuracy: 0.9675 - val_loss: 0.4552 - val_accuracy: 0.8648\n",
            "Epoch 25/100\n",
            "79/79 [==============================] - 1s 15ms/step - loss: 0.0838 - accuracy: 0.9725 - val_loss: 0.4382 - val_accuracy: 0.8636\n",
            "Epoch 26/100\n",
            "79/79 [==============================] - 1s 15ms/step - loss: 0.0770 - accuracy: 0.9754 - val_loss: 0.4698 - val_accuracy: 0.8610\n",
            "Epoch 27/100\n",
            "79/79 [==============================] - 1s 15ms/step - loss: 0.0817 - accuracy: 0.9736 - val_loss: 0.5271 - val_accuracy: 0.8642\n",
            "Epoch 28/100\n",
            "79/79 [==============================] - 1s 15ms/step - loss: 0.0735 - accuracy: 0.9764 - val_loss: 0.5189 - val_accuracy: 0.8622\n",
            "Epoch 29/100\n",
            "79/79 [==============================] - 1s 15ms/step - loss: 0.0888 - accuracy: 0.9697 - val_loss: 0.5294 - val_accuracy: 0.8632\n",
            "Epoch 30/100\n",
            "79/79 [==============================] - 1s 15ms/step - loss: 0.0753 - accuracy: 0.9760 - val_loss: 0.5179 - val_accuracy: 0.8624\n",
            "Epoch 31/100\n",
            "79/79 [==============================] - 1s 15ms/step - loss: 0.0722 - accuracy: 0.9772 - val_loss: 0.5298 - val_accuracy: 0.8600\n",
            "Epoch 32/100\n",
            "79/79 [==============================] - 1s 15ms/step - loss: 0.0632 - accuracy: 0.9804 - val_loss: 0.5441 - val_accuracy: 0.8578\n",
            "Epoch 33/100\n",
            "79/79 [==============================] - 1s 14ms/step - loss: 0.0790 - accuracy: 0.9732 - val_loss: 0.5108 - val_accuracy: 0.8600\n",
            "Epoch 34/100\n",
            "79/79 [==============================] - 1s 15ms/step - loss: 0.0627 - accuracy: 0.9799 - val_loss: 0.5716 - val_accuracy: 0.8612\n",
            "Epoch 35/100\n",
            "79/79 [==============================] - 1s 15ms/step - loss: 0.0608 - accuracy: 0.9811 - val_loss: 0.5104 - val_accuracy: 0.8574\n",
            "Epoch 36/100\n",
            "79/79 [==============================] - 1s 15ms/step - loss: 0.0596 - accuracy: 0.9815 - val_loss: 0.5877 - val_accuracy: 0.8640\n",
            "Epoch 37/100\n",
            "79/79 [==============================] - 1s 15ms/step - loss: 0.0706 - accuracy: 0.9790 - val_loss: 0.5650 - val_accuracy: 0.8612\n",
            "Epoch 38/100\n",
            "79/79 [==============================] - 1s 15ms/step - loss: 0.0590 - accuracy: 0.9823 - val_loss: 0.5862 - val_accuracy: 0.8650\n",
            "Epoch 39/100\n",
            "79/79 [==============================] - 1s 15ms/step - loss: 0.0758 - accuracy: 0.9758 - val_loss: 0.5981 - val_accuracy: 0.8564\n",
            "Epoch 40/100\n",
            "79/79 [==============================] - 1s 15ms/step - loss: 0.0564 - accuracy: 0.9829 - val_loss: 0.5919 - val_accuracy: 0.8614\n",
            "Epoch 41/100\n",
            "79/79 [==============================] - 1s 15ms/step - loss: 0.0551 - accuracy: 0.9828 - val_loss: 0.5846 - val_accuracy: 0.8614\n",
            "Epoch 42/100\n",
            "79/79 [==============================] - 1s 14ms/step - loss: 0.0469 - accuracy: 0.9868 - val_loss: 0.6445 - val_accuracy: 0.8600\n",
            "Epoch 43/100\n",
            "79/79 [==============================] - 1s 15ms/step - loss: 0.0551 - accuracy: 0.9830 - val_loss: 0.5803 - val_accuracy: 0.8628\n",
            "Epoch 44/100\n",
            "79/79 [==============================] - 1s 14ms/step - loss: 0.0500 - accuracy: 0.9850 - val_loss: 0.5651 - val_accuracy: 0.8632\n",
            "Epoch 45/100\n",
            "79/79 [==============================] - 1s 14ms/step - loss: 0.0605 - accuracy: 0.9816 - val_loss: 0.6031 - val_accuracy: 0.8600\n",
            "Epoch 46/100\n",
            "79/79 [==============================] - 1s 14ms/step - loss: 0.0421 - accuracy: 0.9876 - val_loss: 0.7123 - val_accuracy: 0.8506\n",
            "Epoch 47/100\n",
            "79/79 [==============================] - 1s 14ms/step - loss: 0.0754 - accuracy: 0.9758 - val_loss: 0.6279 - val_accuracy: 0.8632\n",
            "Epoch 48/100\n",
            "79/79 [==============================] - 1s 15ms/step - loss: 0.0563 - accuracy: 0.9833 - val_loss: 0.6311 - val_accuracy: 0.8622\n",
            "Epoch 49/100\n",
            "79/79 [==============================] - 1s 15ms/step - loss: 0.0669 - accuracy: 0.9791 - val_loss: 0.5140 - val_accuracy: 0.8606\n",
            "Epoch 50/100\n",
            "79/79 [==============================] - 1s 14ms/step - loss: 0.0671 - accuracy: 0.9787 - val_loss: 0.5142 - val_accuracy: 0.8620\n",
            "Epoch 51/100\n",
            "79/79 [==============================] - 1s 14ms/step - loss: 0.0587 - accuracy: 0.9814 - val_loss: 0.6351 - val_accuracy: 0.8592\n",
            "Epoch 52/100\n",
            "79/79 [==============================] - 1s 14ms/step - loss: 0.0481 - accuracy: 0.9862 - val_loss: 0.6676 - val_accuracy: 0.8622\n",
            "Epoch 53/100\n",
            "79/79 [==============================] - 1s 14ms/step - loss: 0.0509 - accuracy: 0.9833 - val_loss: 0.5395 - val_accuracy: 0.8590\n",
            "Epoch 54/100\n",
            "79/79 [==============================] - 1s 14ms/step - loss: 0.0442 - accuracy: 0.9864 - val_loss: 0.6037 - val_accuracy: 0.8622\n",
            "Epoch 55/100\n",
            "79/79 [==============================] - 1s 14ms/step - loss: 0.0450 - accuracy: 0.9869 - val_loss: 0.6359 - val_accuracy: 0.8608\n",
            "Epoch 56/100\n",
            "79/79 [==============================] - 1s 14ms/step - loss: 0.0394 - accuracy: 0.9885 - val_loss: 0.5631 - val_accuracy: 0.8564\n",
            "Epoch 57/100\n",
            "79/79 [==============================] - 1s 14ms/step - loss: 0.0482 - accuracy: 0.9855 - val_loss: 0.6640 - val_accuracy: 0.8626\n",
            "Epoch 58/100\n",
            "79/79 [==============================] - 1s 14ms/step - loss: 0.0363 - accuracy: 0.9900 - val_loss: 0.6277 - val_accuracy: 0.8634\n",
            "Epoch 59/100\n",
            "79/79 [==============================] - 1s 15ms/step - loss: 0.0344 - accuracy: 0.9905 - val_loss: 0.6630 - val_accuracy: 0.8638\n",
            "Epoch 60/100\n",
            "79/79 [==============================] - 1s 14ms/step - loss: 0.0384 - accuracy: 0.9889 - val_loss: 0.6793 - val_accuracy: 0.8632\n",
            "Epoch 61/100\n",
            "79/79 [==============================] - 1s 14ms/step - loss: 0.0394 - accuracy: 0.9875 - val_loss: 0.7446 - val_accuracy: 0.8562\n",
            "Epoch 62/100\n",
            "79/79 [==============================] - 1s 14ms/step - loss: 0.0365 - accuracy: 0.9897 - val_loss: 0.6979 - val_accuracy: 0.8606\n",
            "Epoch 63/100\n",
            "79/79 [==============================] - 1s 14ms/step - loss: 0.0336 - accuracy: 0.9902 - val_loss: 0.7073 - val_accuracy: 0.8614\n",
            "Epoch 64/100\n",
            "79/79 [==============================] - 1s 14ms/step - loss: 0.0347 - accuracy: 0.9905 - val_loss: 0.7103 - val_accuracy: 0.8640\n",
            "Epoch 65/100\n",
            "79/79 [==============================] - 1s 14ms/step - loss: 0.0385 - accuracy: 0.9900 - val_loss: 0.6782 - val_accuracy: 0.8610\n",
            "Epoch 66/100\n",
            "79/79 [==============================] - 1s 14ms/step - loss: 0.0375 - accuracy: 0.9890 - val_loss: 0.7251 - val_accuracy: 0.8606\n",
            "Epoch 67/100\n",
            "79/79 [==============================] - 1s 14ms/step - loss: 0.0281 - accuracy: 0.9923 - val_loss: 0.7203 - val_accuracy: 0.8624\n",
            "Epoch 68/100\n",
            "79/79 [==============================] - 1s 14ms/step - loss: 0.0306 - accuracy: 0.9908 - val_loss: 0.7893 - val_accuracy: 0.8574\n",
            "Epoch 69/100\n",
            "79/79 [==============================] - 1s 15ms/step - loss: 0.0318 - accuracy: 0.9914 - val_loss: 0.6677 - val_accuracy: 0.8556\n",
            "Epoch 70/100\n",
            "79/79 [==============================] - 1s 14ms/step - loss: 0.0536 - accuracy: 0.9826 - val_loss: 0.6011 - val_accuracy: 0.8506\n",
            "Epoch 71/100\n",
            "79/79 [==============================] - 1s 14ms/step - loss: 0.0331 - accuracy: 0.9910 - val_loss: 0.6876 - val_accuracy: 0.8570\n",
            "Epoch 72/100\n",
            "79/79 [==============================] - 1s 14ms/step - loss: 0.0276 - accuracy: 0.9920 - val_loss: 0.7388 - val_accuracy: 0.8570\n",
            "Epoch 73/100\n",
            "79/79 [==============================] - 1s 15ms/step - loss: 0.1024 - accuracy: 0.9654 - val_loss: 0.5082 - val_accuracy: 0.8484\n",
            "Epoch 74/100\n",
            "79/79 [==============================] - 1s 15ms/step - loss: 0.0524 - accuracy: 0.9835 - val_loss: 0.6486 - val_accuracy: 0.8612\n",
            "Epoch 75/100\n",
            "79/79 [==============================] - 1s 14ms/step - loss: 0.0452 - accuracy: 0.9865 - val_loss: 0.6293 - val_accuracy: 0.8556\n",
            "Epoch 76/100\n",
            "79/79 [==============================] - 1s 15ms/step - loss: 0.0398 - accuracy: 0.9877 - val_loss: 0.6926 - val_accuracy: 0.8626\n",
            "Epoch 77/100\n",
            "79/79 [==============================] - 1s 15ms/step - loss: 0.0286 - accuracy: 0.9915 - val_loss: 0.6971 - val_accuracy: 0.8602\n",
            "Epoch 78/100\n",
            "79/79 [==============================] - 1s 15ms/step - loss: 0.0303 - accuracy: 0.9913 - val_loss: 0.7367 - val_accuracy: 0.8560\n",
            "Epoch 79/100\n",
            "79/79 [==============================] - 1s 15ms/step - loss: 0.0306 - accuracy: 0.9912 - val_loss: 0.6682 - val_accuracy: 0.8596\n",
            "Epoch 80/100\n",
            "79/79 [==============================] - 1s 15ms/step - loss: 0.0275 - accuracy: 0.9922 - val_loss: 0.7705 - val_accuracy: 0.8592\n",
            "Epoch 81/100\n",
            "79/79 [==============================] - 1s 15ms/step - loss: 0.0268 - accuracy: 0.9929 - val_loss: 0.7245 - val_accuracy: 0.8560\n",
            "Epoch 82/100\n",
            "79/79 [==============================] - 1s 15ms/step - loss: 0.0725 - accuracy: 0.9779 - val_loss: 0.5505 - val_accuracy: 0.8552\n",
            "Epoch 83/100\n",
            "79/79 [==============================] - 1s 15ms/step - loss: 0.0408 - accuracy: 0.9876 - val_loss: 0.6404 - val_accuracy: 0.8572\n",
            "Epoch 84/100\n",
            "79/79 [==============================] - 1s 14ms/step - loss: 0.0239 - accuracy: 0.9933 - val_loss: 0.7225 - val_accuracy: 0.8608\n",
            "Epoch 85/100\n",
            "79/79 [==============================] - 1s 14ms/step - loss: 0.0305 - accuracy: 0.9909 - val_loss: 0.7304 - val_accuracy: 0.8578\n",
            "Epoch 86/100\n",
            "79/79 [==============================] - 1s 14ms/step - loss: 0.0299 - accuracy: 0.9924 - val_loss: 0.7423 - val_accuracy: 0.8610\n",
            "Epoch 87/100\n",
            "79/79 [==============================] - 1s 14ms/step - loss: 0.0230 - accuracy: 0.9940 - val_loss: 0.8276 - val_accuracy: 0.8566\n",
            "Epoch 88/100\n",
            "79/79 [==============================] - 1s 15ms/step - loss: 0.0239 - accuracy: 0.9933 - val_loss: 0.7941 - val_accuracy: 0.8598\n",
            "Epoch 89/100\n",
            "79/79 [==============================] - 1s 15ms/step - loss: 0.0262 - accuracy: 0.9927 - val_loss: 0.7540 - val_accuracy: 0.8498\n",
            "Epoch 90/100\n",
            "79/79 [==============================] - 1s 15ms/step - loss: 0.0225 - accuracy: 0.9944 - val_loss: 0.8070 - val_accuracy: 0.8506\n",
            "Epoch 91/100\n",
            "79/79 [==============================] - 1s 14ms/step - loss: 0.0246 - accuracy: 0.9926 - val_loss: 0.8775 - val_accuracy: 0.8554\n",
            "Epoch 92/100\n",
            "79/79 [==============================] - 1s 15ms/step - loss: 0.0279 - accuracy: 0.9918 - val_loss: 0.7794 - val_accuracy: 0.8546\n",
            "Epoch 93/100\n",
            "79/79 [==============================] - 1s 14ms/step - loss: 0.0256 - accuracy: 0.9926 - val_loss: 0.8649 - val_accuracy: 0.8556\n",
            "Epoch 94/100\n",
            "79/79 [==============================] - 1s 14ms/step - loss: 0.0310 - accuracy: 0.9905 - val_loss: 0.7584 - val_accuracy: 0.8558\n",
            "Epoch 95/100\n",
            "79/79 [==============================] - 1s 15ms/step - loss: 0.0311 - accuracy: 0.9910 - val_loss: 0.7019 - val_accuracy: 0.8496\n",
            "Epoch 96/100\n",
            "79/79 [==============================] - 1s 15ms/step - loss: 0.0226 - accuracy: 0.9936 - val_loss: 0.8341 - val_accuracy: 0.8558\n",
            "Epoch 97/100\n",
            "79/79 [==============================] - 1s 15ms/step - loss: 0.0230 - accuracy: 0.9937 - val_loss: 0.7624 - val_accuracy: 0.8512\n",
            "Epoch 98/100\n",
            "79/79 [==============================] - 1s 14ms/step - loss: 0.0388 - accuracy: 0.9880 - val_loss: 0.7963 - val_accuracy: 0.8534\n",
            "Epoch 99/100\n",
            "79/79 [==============================] - 1s 15ms/step - loss: 0.0290 - accuracy: 0.9909 - val_loss: 0.7951 - val_accuracy: 0.8564\n",
            "Epoch 100/100\n",
            "79/79 [==============================] - 1s 15ms/step - loss: 0.0215 - accuracy: 0.9938 - val_loss: 0.8408 - val_accuracy: 0.8548\n"
          ]
        }
      ]
    },
    {
      "cell_type": "code",
      "source": [
        "# import \n",
        "import matplotlib.pyplot as plt"
      ],
      "metadata": {
        "id": "NqsGmotUwWym"
      },
      "execution_count": null,
      "outputs": []
    },
    {
      "cell_type": "code",
      "source": [
        "# plot history\n",
        "plt.figure(figsize=(10,4))\n",
        "plt.subplot(1, 2, 1)\n",
        "plt.plot(history.history['loss'])\n",
        "plt.plot(history.history['val_loss'])\n",
        "plt.legend(['train', 'test'])\n",
        "plt.title('loss')\n",
        "plt.subplot(1, 2, 2)\n",
        "plt.plot(history.history['accuracy'])\n",
        "plt.plot(history.history['val_accuracy'])\n",
        "plt.legend(['train', 'test'])\n",
        "plt.title('accuracy')\n",
        "plt.show()"
      ],
      "metadata": {
        "colab": {
          "base_uri": "https://localhost:8080/",
          "height": 281
        },
        "id": "e3asOXqDv9Je",
        "outputId": "48da9c55-7452-4b3f-d049-f26ca74803e4"
      },
      "execution_count": null,
      "outputs": [
        {
          "output_type": "display_data",
          "data": {
            "text/plain": [
              "<Figure size 720x288 with 2 Axes>"
            ],
            "image/png": "[encoded data removed]"
          },
          "metadata": {
            "needs_background": "light"
          }
        }
      ]
    },
    {
      "cell_type": "markdown",
      "metadata": {
        "id": "rpCS2-jFH1KY"
      },
      "source": [
        "## Evaluate model with test data and view results"
      ]
    },
    {
      "cell_type": "code",
      "metadata": {
        "id": "nPnfxwbnITqV"
      },
      "source": [
        "# Get Model Predictions for test data\n",
        "from sklearn.metrics import classification_report\n",
        "predicted_classes = model.predict(x_test)"
      ],
      "execution_count": null,
      "outputs": []
    },
    {
      "cell_type": "code",
      "source": [
        "predicted_classes = (predicted_classes > 0.5).astype(int)"
      ],
      "metadata": {
        "id": "OZQ3GKjA4Pn7"
      },
      "execution_count": null,
      "outputs": []
    },
    {
      "cell_type": "code",
      "source": [
        "print(classification_report(y_test, predicted_classes, target_names=class_names))"
      ],
      "metadata": {
        "id": "mvhWpt9n4NqL",
        "outputId": "498a85ee-149c-4c9c-d19a-de0bc3fa6397",
        "colab": {
          "base_uri": "https://localhost:8080/"
        }
      },
      "execution_count": null,
      "outputs": [
        {
          "output_type": "stream",
          "name": "stdout",
          "text": [
            "              precision    recall  f1-score   support\n",
            "\n",
            "    Negative       0.88      0.81      0.84     12500\n",
            "    Positive       0.82      0.88      0.85     12500\n",
            "\n",
            "    accuracy                           0.85     25000\n",
            "   macro avg       0.85      0.85      0.85     25000\n",
            "weighted avg       0.85      0.85      0.85     25000\n",
            "\n"
          ]
        }
      ]
    },
    {
      "cell_type": "markdown",
      "metadata": {
        "id": "CkfHCIVHrJni"
      },
      "source": [
        "## View some incorrect predictions\n",
        "\n",
        "Lets have a look at some of the incorrectly classified reviews. For readability we remove the padding.\n",
        "\n"
      ]
    },
    {
      "cell_type": "code",
      "metadata": {
        "id": "bwKLBwBbp7zg",
        "outputId": "6753243a-7704-4f5e-f9c9-718bef220e4c",
        "colab": {
          "base_uri": "https://localhost:8080/"
        }
      },
      "source": [
        "predicted_classes_reshaped = np.reshape(predicted_classes, 25000)\n",
        "\n",
        "incorrect = np.nonzero(predicted_classes_reshaped!=y_test)[0]\n",
        "\n",
        "# We select the first 10 incorrectly classified reviews\n",
        "for j, incorrect in enumerate(incorrect[0:20]):\n",
        "    \n",
        "    predicted = class_names[predicted_classes_reshaped[incorrect]]\n",
        "    actual = class_names[y_test[incorrect]]\n",
        "    human_readable_review = decode_review(x_test[incorrect])\n",
        "    \n",
        "    print(\"Incorrectly classified Test Review [\"+ str(j+1) +\"]\") \n",
        "    print(\"Test Review #\" + str(incorrect)  + \": Predicted [\"+ predicted + \"] Actual [\"+ actual + \"]\")\n",
        "    print(\"Test Review Text: \" + human_readable_review.replace(\"<PAD> \", \"\"))\n",
        "    print(\"\")"
      ],
      "execution_count": null,
      "outputs": [
        {
          "output_type": "stream",
          "name": "stdout",
          "text": [
            "Incorrectly classified Test Review [1]\n",
            "Test Review #2: Predicted [Negative] Actual [Positive]\n",
            "Test Review Text: alive <UNKNOWN> while <UNKNOWN> for his part is depicted as a <UNKNOWN> white <UNKNOWN> guy in the <UNKNOWN> who looks like he'd rather be taking a <UNKNOWN> when <UNKNOWN> sends them a tree like god who <UNKNOWN> them the <UNKNOWN> decide that this is no improvement and demand a different king <UNKNOWN> <UNKNOWN> sends them a <UNKNOWN> br br <UNKNOWN> with this <UNKNOWN> looking new king who <UNKNOWN> above them the <UNKNOWN> welcome him with a <UNKNOWN> of <UNKNOWN> dressed <UNKNOWN> the mayor steps forward to hand him the key to the <UNKNOWN> as <UNKNOWN> cameras record the event to everyone's horror the <UNKNOWN> <UNKNOWN> <UNKNOWN> the mayor and then goes on a <UNKNOWN> <UNKNOWN> <UNKNOWN> <UNKNOWN> at random a title card <UNKNOWN> reads news of the king's <UNKNOWN> throughout the kingdom when the now <UNKNOWN> <UNKNOWN> once more <UNKNOWN> <UNKNOWN> for help he loses his <UNKNOWN> and <UNKNOWN> their community with <UNKNOWN> <UNKNOWN> the moral of our story delivered by a <UNKNOWN> <UNKNOWN> just before he is eaten is let well enough alone br br considering the time period when this <UNKNOWN> little film was made and considering the fact that it was made by a russian <UNKNOWN> at the <UNKNOWN> of that <UNKNOWN> <UNKNOWN> civil war it would be easy to see this as a <UNKNOWN> about those events <UNKNOWN> may or may not have had <UNKNOWN> <UNKNOWN> in mind when he made <UNKNOWN> but whatever <UNKNOWN> his choice of material the film stands as a <UNKNOWN> tale of universal <UNKNOWN> <UNKNOWN> could be the soviet union italy germany or japan in the 1930s or any country of any era that lets its guard down and is <UNKNOWN> by <UNKNOWN> it's a fascinating film even a charming one in its <UNKNOWN> way but its message is no joke\n",
            "\n",
            "Incorrectly classified Test Review [2]\n",
            "Test Review #8: Predicted [Positive] Actual [Negative]\n",
            "Test Review Text: <START> hollywood had a long love affair with <UNKNOWN> <UNKNOWN> nights tales but few of these <UNKNOWN> have stood the test of time the most memorable were the jon hall maria <UNKNOWN> films which have long since become camp this one is filled with dubbed songs <UNKNOWN> <UNKNOWN> and slapstick it's a truly <UNKNOWN> of <UNKNOWN> and pretty near <UNKNOWN> today it was nominated for its imaginative special effects which are almost <UNKNOWN> in this day and age <UNKNOWN> mainly of trick photography the only outstanding positive feature which <UNKNOWN> is its beautiful color and <UNKNOWN> sad to say of the many films made in this genre few of them come up to alexander <UNKNOWN> original thief of <UNKNOWN> almost any other <UNKNOWN> nights film is superior to this one though it's a loser\n",
            "\n",
            "Incorrectly classified Test Review [3]\n",
            "Test Review #22: Predicted [Negative] Actual [Positive]\n",
            "Test Review Text: <START> how managed to avoid attention remains a mystery a <UNKNOWN> mix of comedy and crime this one takes chances where <UNKNOWN> plays it safe with the hollywood formula the <UNKNOWN> don't always pay off one character in one sequence comes off <UNKNOWN> silly and falls flat in the lead role thomas jane gives a wonderful and complex performance and two brief appearances by mickey <UNKNOWN> hint at the high potential of this much under and <UNKNOWN> used actor here's a director one should keep one's eye on\n",
            "\n",
            "Incorrectly classified Test Review [4]\n",
            "Test Review #32: Predicted [Positive] Actual [Negative]\n",
            "Test Review Text: <START> if you have never read the classic science fiction novel this mini series is based on it may actually be good unfortunately if you are a fan of the book you probably won't be able to watch more than the first hour or two all of the political intrigue has been taken out of the film the most important scenes from the book have been taken out characters motivations have been changed completely and words from the wrong characters <UNKNOWN> where in the novel paul was a teen age boy with incredible political skill and a great understanding of the way the world worked in this film he is hot headed and and frustrated avoid this movie at all costs\n",
            "\n",
            "Incorrectly classified Test Review [5]\n",
            "Test Review #49: Predicted [Negative] Actual [Positive]\n",
            "Test Review Text: <START> i can't understand why imdb <UNKNOWN> would rate this movie 5 2 10 it really is great very funny i would strongly recommend this movie for all of you adults teenagers and especially children br br the story is about a 14 year old kid who always tell lie at home and school one day he had his <UNKNOWN> of writing a <UNKNOWN> word story but he didn't so the teacher told him to write it and gave her in 3 hours or he would have to go to summer school <UNKNOWN> he wrote it in 2 45 big fat <UNKNOWN> i think it was a story of himself on the way to the school he hit a <UNKNOWN> of a famous hollywood producer and he gave him a ride but the kid forgot the story in the <UNKNOWN> he told his parents and the teacher but of course they did not believe him and the movie producer he took the <UNKNOWN> story as his new movie big fat <UNKNOWN> when the kid saw the trailer of the movie he told his parents he had written it but they didn't believe so he and his friend had to go to l a to prove one thing the truth is never overrated br br enjoy this great movie you won't be disappointed don't trust the 5 2 10 rate it should be 9 10 believe me br br p s so sorry my english isn't good enough to make a better comment\n",
            "\n",
            "Incorrectly classified Test Review [6]\n",
            "Test Review #56: Predicted [Negative] Actual [Positive]\n",
            "Test Review Text: <START> i was very disappointed when this show was <UNKNOWN> although i can not vote i live on the island of i sat down to see the show on <UNKNOWN> and was very surprised that it didn't aired the next day i read on the internet that it was <UNKNOWN> br br it's true not every one was as much talented as the other but there were very talented people singing br br i find it very sad for them br br that they worked so hard and there dreams came <UNKNOWN> down br br its a pity br br\n",
            "\n",
            "Incorrectly classified Test Review [7]\n",
            "Test Review #59: Predicted [Positive] Actual [Negative]\n",
            "Test Review Text: <START> oh how awfully this movie is i don't know if it is a horror film or a drama cause the story and the both genres are not established very well the story is not moving it is slow boring and <UNKNOWN> from the beginning to end this movie really <UNKNOWN> me but i really liked the camera work it is authentic fresh and clear the acting is great too the little boy was the great performer in this movie but it hasn't made me to jump from my seat but this movie makes me grab a <UNKNOWN> lay on the bed and sleep until the credits roll br br boring not worth watching i tell you this movie sucked br br 1 10\n",
            "\n",
            "Incorrectly classified Test Review [8]\n",
            "Test Review #66: Predicted [Positive] Actual [Negative]\n",
            "Test Review Text: i believe there is a line in film that cannot be <UNKNOWN> the line of making a movie purely for your own emotional needs and i feel that this is what has unintentionally happened here br br by his own <UNKNOWN> the director had no technical experience at all and sadly this makes the movie come off looking like nothing more than a year twelve media project br br as for any <UNKNOWN> that this movie should be <UNKNOWN> at school or that all teenagers should watch it not sure there either because there is a very dangerous line at the end i too have been in a place where i have thought that someone who no longer has to <UNKNOWN> <UNKNOWN> is <UNKNOWN> but as an adult i do worry that this line could be <UNKNOWN> on a young viewer that was in a vulnerable frame of mind might be in there to <UNKNOWN> discussion but again it <UNKNOWN> no possibility of redemption or joy in this story as a whole in fact it almost <UNKNOWN> that there is more sadness to come br br i haven't seen elephant but i just might go find it given all the <UNKNOWN> here br br nothing personal here guys i do hope you can make another movie <UNKNOWN> and we all have to start out somewhere so forgive me if i've been too harsh i am glad that you are proud of what you created which in the end is what life is all about it's not a movie i would recommend though br br oh i did like the way the time <UNKNOWN> often <UNKNOWN> thought that was an interesting way to film br br but the whole its the quiet ones you have to watch we already know that\n",
            "\n",
            "Incorrectly classified Test Review [9]\n",
            "Test Review #72: Predicted [Negative] Actual [Positive]\n",
            "Test Review Text: <START> alice is the kind of movie they made in the <UNKNOWN> and <UNKNOWN> never attempts to be an event just wants to entertain and it does i was surprised by <UNKNOWN> sutherland in a role that could be a cliche he made it real the plot does make <UNKNOWN> to alice in <UNKNOWN> a guy dressed in white does go through a hole and <UNKNOWN> does fall down one like alice the plot does twist and turn but with a <UNKNOWN> you don't see in small movies i loved the direction sutherland just a very fast paced and interesting movie\n",
            "\n",
            "Incorrectly classified Test Review [10]\n",
            "Test Review #75: Predicted [Positive] Actual [Negative]\n",
            "Test Review Text: look far and wide to find anything that <UNKNOWN> the level of <UNKNOWN> on display in this movie acting  bad editing  bad direction  bad special effects  bad and laughable plot  bad lighting  bad cinematography  bad costume design  bad and silly everything else  bad watching the adventures of <UNKNOWN> is about as enjoyable as a root <UNKNOWN> even for a fan of bad movies it's a real <UNKNOWN> test this is one for either <UNKNOWN> or lou <UNKNOWN> <UNKNOWN> if any exist br br eight things i learned from watching the adventures of <UNKNOWN> br br 1 if you don't have the budget for real special effects <UNKNOWN> a scene from the previous movie it will look great trust me br br 2 when on a quest to <UNKNOWN> take time for frequent stops to oil up you body it worked for <UNKNOWN> and his two <UNKNOWN> <UNKNOWN> br br 3 any sword fight use of magic and just about all other day to day activities in ancient <UNKNOWN> created a sound very similar to a game of man or <UNKNOWN> br br 4 some of the ancient greek <UNKNOWN> dressed like extras from star wars br br 5 if you need to <UNKNOWN> your crappy movie's <UNKNOWN> <UNKNOWN> the title sequence by adding star trek style credits and throw in some overly <UNKNOWN> music it also helps if you've got a previous movie to pull scenes from br br 6 fight scenes move along much <UNKNOWN> if the bad guys attack <UNKNOWN> one at a time br br 7 william <UNKNOWN> did anything for money br br 8 i didn't think it was possible but the adventures of <UNKNOWN> makes the first film <UNKNOWN> 1983 look like an academy award winner\n",
            "\n",
            "Incorrectly classified Test Review [11]\n",
            "Test Review #78: Predicted [Positive] Actual [Negative]\n",
            "Test Review Text: of cinema on the left there are movies made mostly for entertainment and or commercial purposes in the middle there are movies that are both entertaining and artistic on the right are movies that are not as commercial but are focused more on cinema as art than cinema as product br br i'm not here to say any one part of the <UNKNOWN> is better than any other but that when a movie goes too far to either end it's rarely good such is the case with <UNKNOWN> br br i had no idea what to expect when i saw it <UNKNOWN> a few friends were going and asked if i wanted to come along none of us knew what to expect and by the end none of us were pleased br br yes there are breathtaking images yes i'm amazed at the <UNKNOWN> the filmmakers went to in searching through <UNKNOWN> footage yes the soundtrack is enjoyable to listen to and probably the best part of the experience the thing is this goes so far to the right side of the <UNKNOWN> i mentioned that i can't say anything nice about the movie as a whole br br it's <UNKNOWN> it's a <UNKNOWN> of symbolism and obvious morality it's not saying anything new or <UNKNOWN> the viewer to <UNKNOWN> life in a new way it's just telling us things we already know that is if we can even figure out what it's saying br br this movie is simply art for <UNKNOWN> sake an attempt to say look at how deep and thought provoking we can be by using montage when a film becomes more about how clever or intelligent its creators are than about its subject it <UNKNOWN> to be a film and simply becomes celluloid self <UNKNOWN>\n",
            "\n",
            "Incorrectly classified Test Review [12]\n",
            "Test Review #80: Predicted [Negative] Actual [Positive]\n",
            "Test Review Text: <START> with the obvious exception of <UNKNOWN> horses this was in my opinion david <UNKNOWN> finest series br br coming straight after his tv debut on <UNKNOWN> not <UNKNOWN> your set ' these 13 episodes revealed a <UNKNOWN> of comic timing not seen since the old silent movie days by comparison <UNKNOWN> open all hours and that awful series <UNKNOWN> <UNKNOWN> did not come close br br i believe jason banned the series being repeated because it showed him at his <UNKNOWN> shame on him a new generation deserves to enjoy this the series actually <UNKNOWN> in the ratings but that is most likely because it was shown against 'the <UNKNOWN> which aired on bbc at the same time before <UNKNOWN> were <UNKNOWN> br br <UNKNOWN> i have only just noticed that his long suffering assistant <UNKNOWN> was played by mark <UNKNOWN> alan <UNKNOWN> off <UNKNOWN> street i am amazed he didn't try to murder edgar <UNKNOWN>\n",
            "\n",
            "Incorrectly classified Test Review [13]\n",
            "Test Review #81: Predicted [Positive] Actual [Negative]\n",
            "Test Review Text: <START> <UNKNOWN> the tv movie <UNKNOWN> a very twisted and version of the story about the greek superhero paul makes a good attempt to play this hero sean <UNKNOWN> <UNKNOWN> his sam image by playing <UNKNOWN> a thrown in character to make the whole thing a buddy movie picture i almost expected his to say at one point we're in a bad situation mr <UNKNOWN> <UNKNOWN> i mean <UNKNOWN> an unexpected good performance comes from timothy dalton one of the lesser james <UNKNOWN> as father love interest looks like paris <UNKNOWN> something which just turned me off right away someone has twisted and the original story into somewhat of a <UNKNOWN> and sometimes incomprehensible story the special effects don't help either while the <UNKNOWN> scene does the original story justice the lion and <UNKNOWN> are just well lame i believe the creatures and effects from power rangers <UNKNOWN> across my mind at least twice and the golden <UNKNOWN> felt rushed and very computer generated and they took out one of my favorite parts of what was originally a very cool story the movie can't decide whether it's greek roman or american and it almost ruined the original story a classic epic don't bother looking for this one on the direct to dvd c\n",
            "\n",
            "Incorrectly classified Test Review [14]\n",
            "Test Review #98: Predicted [Positive] Actual [Negative]\n",
            "Test Review Text: <START> come on now how did all of these talented actors actresses end up in this mess was it some sort of <UNKNOWN> lost bet situation <UNKNOWN> you are a <UNKNOWN> man be what you were born to be br br the hot <UNKNOWN> scene the <UNKNOWN> scene i was expecting to hear the <UNKNOWN> <UNKNOWN> over the record sound at any point br br and what was up with him carrying around the priceless <UNKNOWN> <UNKNOWN> with him let's see i'm drunk at a bar why not pull out the priceless <UNKNOWN> <UNKNOWN> i'm going to meet some questionable thugs down on the edge of the <UNKNOWN> why not take my priceless <UNKNOWN> <UNKNOWN> br br <UNKNOWN> br br terrible avoid\n",
            "\n",
            "Incorrectly classified Test Review [15]\n",
            "Test Review #100: Predicted [Negative] Actual [Positive]\n",
            "Test Review Text: <START> a quick <UNKNOWN> at the premise of this film would seem to <UNKNOWN> just another dumb <UNKNOWN> <UNKNOWN> <UNKNOWN> <UNKNOWN> fest the type where sex <UNKNOWN> death and the actors are all annoying stereotypes you actually want to die however delivers <UNKNOWN> more br br rather than focus on bare flesh and gore though there is a little of each no sex however the flick focuses on delivering <UNKNOWN> <UNKNOWN> <UNKNOWN> tension <UNKNOWN> a lovely <UNKNOWN> backdrop these feelings are further <UNKNOWN> by a cast of <UNKNOWN> likable characters and <UNKNOWN> that are more <UNKNOWN> than cardboard <UNKNOWN> of evil oh yeah george kennedy is here too and when is that not a good thing br br if you liked wrong turn then watch this to see where much of <UNKNOWN> <UNKNOWN> came from\n",
            "\n",
            "Incorrectly classified Test Review [16]\n",
            "Test Review #101: Predicted [Negative] Actual [Positive]\n",
            "Test Review Text: <START> <UNKNOWN> is the first of its kind in <UNKNOWN> cinema and it's way better than i expected those people who say it's neither scary nor funny have a point it's not all that great indeed but it must be kept in mind that everyone involved with the movie is rather amateur so it's basically a <UNKNOWN> <UNKNOWN> and comparing this one to other films such as the 1st class garbage propaganda this movie is pretty damn good br br one thing that must be said it deals with the <UNKNOWN> <UNKNOWN> life in turkey very <UNKNOWN> that's exactly how it goes the scenes that are meant to scare are somewhat cheap and <UNKNOWN> most of them even if not all but that religion lesson scene made me laugh in tears and performs the best acting of this flick as a religion teacher br br it's not a waste of your time go and watch it you'll find it rather amusing especially if you know turkey enough to relate to <UNKNOWN> school lives\n",
            "\n",
            "Incorrectly classified Test Review [17]\n",
            "Test Review #112: Predicted [Positive] Actual [Negative]\n",
            "Test Review Text: <START> if you want to see a horror film which is horrible and in very bad taste this is definitely the film to view this films starts out with two young teenagers getting wild ideas about going into a <UNKNOWN> room and going out on blind <UNKNOWN> and quite possibly they will wind up like a little <UNKNOWN> to the slaughter house plenty of blood gore nudity <UNKNOWN> and all kinds of blood <UNKNOWN> <UNKNOWN> and things you will never dream a person is capable of performing on men and women if you like <UNKNOWN> well this kind of <UNKNOWN> deals with heavy heavy <UNKNOWN> and plenty of besides lots of <UNKNOWN> and <UNKNOWN> to <UNKNOWN> up things on the human body i really hope that this film does not give some sick person in this world the idea to act out these horrors in real life\n",
            "\n",
            "Incorrectly classified Test Review [18]\n",
            "Test Review #113: Predicted [Positive] Actual [Negative]\n",
            "Test Review Text: <START> this film probably would have been good if they didn't use cgi computer generated imagery for the werewolf scenes it made the creatures look fake and the <UNKNOWN> looked <UNKNOWN> cgi is great for certain effects like the in <UNKNOWN> park or <UNKNOWN> but when we see a film where the creature must look completely real cgi is not the way to go look at an american werewolf in london no cgi just makeup and a mechanical creature and what you come up with was more realistic than what was shown in the sequel this film did offer a few gags that was fun to watch and the humor in this movie seemed to have drawn me in but it's nothing more than a film that i thought was o k and that's not good enough in my opinion an american werewolf in paris doesn't hold up to the original\n",
            "\n",
            "Incorrectly classified Test Review [19]\n",
            "Test Review #115: Predicted [Positive] Actual [Negative]\n",
            "Test Review Text: <START> while the design and locations and photography are strong <UNKNOWN> in this film it is a <UNKNOWN> and melodramatic affair which <UNKNOWN> the limits of cinema to convey truth br br the case is the use of the soundtrack music a mix of <UNKNOWN> and andrew lloyd <UNKNOWN> that plays constantly and <UNKNOWN> and would have made max <UNKNOWN> <UNKNOWN> at its over use as it <UNKNOWN> the audience how difficult how <UNKNOWN> how tortured it is to be an artist and then it really <UNKNOWN> the story the details at the end br br this <UNKNOWN> and <UNKNOWN> exploitation of emotions was once well <UNKNOWN> by peter <UNKNOWN> about a <UNKNOWN> <UNKNOWN> book this is not writing this is barbara <UNKNOWN> <UNKNOWN> the same <UNKNOWN> can be made of this film a <UNKNOWN> <UNKNOWN> <UNKNOWN> project\n",
            "\n",
            "Incorrectly classified Test Review [20]\n",
            "Test Review #131: Predicted [Positive] Actual [Negative]\n",
            "Test Review Text: producer anna anthony last year also had official <UNKNOWN> for best foreign film with i wasn't personally a fan of but at least it had some production value to it this could have been shot as a high school film project as a short film it may have worked but as a feature film it is as lost as it's characters this is a story about five twenty something friends who live in a small swedish town and have no <UNKNOWN> or hopes or <UNKNOWN> for the future and like to live in the past of their long gone childhood actually isn't like some remote <UNKNOWN> swedish village it's a popular summer resort with a population of city and <UNKNOWN> of almost 40 000 and lies between two major southern <UNKNOWN> swedish cities of and the characters are likable enough guys but if they were high school age kids with a bleak or confused attitude about what they plan to do with their lives i would undoubtedly care about them more they are however long past the point where they should be making plans to deal with <UNKNOWN> if they want to stay in forever than certainly there must be some jobs in the <UNKNOWN> or <UNKNOWN> industry instead of just riding <UNKNOWN> drinking smoking pot and occasionally painting a house maybe if they hung around with a girl or two in their circle of friends of which girls are absent from this film altogether which doesn't make sense makes his directorial debut and co wrote the film along with the cinematographer of which i use the term loosely <UNKNOWN> the acting isn't too bad i would give this a 4 5 out of 10 but despite it's <UNKNOWN> for <UNKNOWN> for the academy awards i would not recommend it\n",
            "\n"
          ]
        }
      ]
    },
    {
      "cell_type": "markdown",
      "metadata": {
        "id": "OlAfxIoTrtYa"
      },
      "source": [
        "## Run your own text against the trained model\n",
        "\n",
        "This is a fun way to test out the limits of the trained model. To avoid getting errors - type in lower case only and do not use punctuation! \n",
        "\n",
        "You'll see the raw prediction from the model - basically a value between 0 and 1.\n",
        "\n"
      ]
    },
    {
      "cell_type": "code",
      "metadata": {
        "id": "UEKEB0DpD_8P",
        "outputId": "2bf5d160-fe1e-4564-a896-fddbb6e70c43",
        "colab": {
          "base_uri": "https://localhost:8080/"
        }
      },
      "source": [
        "# Write your own review\n",
        "# review = \"this was a terrible film with too much sex and violence i walked out halfway through\"\n",
        "review = \"this is the best film i have ever seen it is great and fantastic and i loved it\"\n",
        "#review = \"this was an awful film that i will never see again\"\n",
        "\n",
        "# Encode review (replace word with integers)\n",
        "tmp = []\n",
        "for word in review.split(\" \"):\n",
        "    tmp.append(word_index[word])\n",
        "\n",
        "# Ensure review is 500 words long (by padding or truncating)\n",
        "tmp_padded = sequence.pad_sequences([tmp], maxlen=review_length) \n",
        "\n",
        "# Run your processed review against the trained model\n",
        "rawprediction = model.predict(array([tmp_padded][0]))[0][0]\n",
        "prediction = int(round(rawprediction))\n",
        "\n",
        "# Test the model and print the result\n",
        "print(\"Review: \" + review)\n",
        "print(\"Raw Prediction: \" + str(rawprediction))\n",
        "print(\"Predicted Class: \" + class_names[prediction])"
      ],
      "execution_count": null,
      "outputs": [
        {
          "output_type": "stream",
          "name": "stdout",
          "text": [
            "Review: this is the best film i have ever seen it is great and fantastic and i loved it\n",
            "Raw Prediction: 0.9993363\n",
            "Predicted Class: Positive\n"
          ]
        }
      ]
    }
  ]
}