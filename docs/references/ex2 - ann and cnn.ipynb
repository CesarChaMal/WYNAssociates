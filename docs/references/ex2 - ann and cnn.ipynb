{
  "nbformat": 4,
  "nbformat_minor": 0,
  "metadata": {
    "colab": {
      "name": "ex2 - ann and cnn.ipynb",
      "provenance": [],
      "collapsed_sections": [],
      "machine_shape": "hm",
      "background_execution": "on",
      "toc_visible": true
    },
    "kernelspec": {
      "name": "python3",
      "display_name": "Python 3"
    },
    "language_info": {
      "name": "python"
    },
    "gpuClass": "standard"
  },
  "cells": [
    {
      "cell_type": "markdown",
      "source": [
        "## Basic Neural Network Model: Predict Housing Price\n",
        "\n",
        "The Boston Housing Dataset is a derived from information collected by the U.S. Census Service concerning housing in the area of Boston MA. The following describes the dataset columns:\n",
        "\n",
        "<p align='center'>\n",
        "  <img src='https://d1e00ek4ebabms.cloudfront.net/production/bc077356-7727-449a-8656-3e74b33fa65e.jpg' width=600></img>\n",
        "</p>\n",
        "\n",
        "- CRIM - per capita crime rate by town\n",
        "- ZN - proportion of residential land zoned for lots over 25,000 sq.ft.\n",
        "- INDUS - proportion of non-retail business acres per town.\n",
        "- CHAS - Charles River dummy variable (1 if tract bounds river; 0 otherwise)\n",
        "- NOX - nitric oxides concentration (parts per 10 million)\n",
        "- RM - average number of rooms per dwelling\n",
        "- AGE - proportion of owner-occupied units built prior to 1940\n",
        "- DIS - weighted distances to five Boston employment centres\n",
        "- RAD - index of accessibility to radial highways\n",
        "- TAX - full-value property-tax rate per \\$10,000\n",
        "- PTRATIO - pupil-teacher ratio by town\n",
        "- B - $1000(Bk - 0.63)^2$ where Bk is the proportion of blacks by town\n",
        "- LSTAT - \\% lower status of the population\n",
        "- MEDV - Median value of owner-occupied homes in \\$1000's\n",
        "\n",
        "Research Question: What is the price of a house given its information about the above features? In other words, can we build a model to learn from the features of the house to predict the housing price?"
      ],
      "metadata": {
        "id": "jyulNWua5xeD"
      }
    },
    {
      "cell_type": "code",
      "source": [
        "# import \n",
        "import os\n",
        "import numpy as np\n",
        "import pandas as pd\n",
        "import matplotlib.pyplot as plt"
      ],
      "metadata": {
        "id": "8vUOOu2N6DFx"
      },
      "execution_count": null,
      "outputs": []
    },
    {
      "cell_type": "code",
      "source": [
        "# get data\n",
        "train_path = '/content/sample_data/california_housing_train.csv'\n",
        "test_path = '/content/sample_data/california_housing_test.csv'\n",
        "train = pd.read_csv(train_path)\n",
        "test = pd.read_csv(test_path)"
      ],
      "metadata": {
        "id": "kSOIEDMe6X4U"
      },
      "execution_count": null,
      "outputs": []
    },
    {
      "cell_type": "code",
      "source": [
        "# display shape\n",
        "train.shape, test.shape"
      ],
      "metadata": {
        "colab": {
          "base_uri": "https://localhost:8080/"
        },
        "id": "0QyywP8h6jMn",
        "outputId": "31d78273-4306-4fcf-803a-fb85b6f2897a"
      },
      "execution_count": null,
      "outputs": [
        {
          "output_type": "execute_result",
          "data": {
            "text/plain": [
              "((17000, 9), (3000, 9))"
            ]
          },
          "metadata": {},
          "execution_count": 3
        }
      ]
    },
    {
      "cell_type": "code",
      "source": [
        "# head\n",
        "train.head(3)"
      ],
      "metadata": {
        "colab": {
          "base_uri": "https://localhost:8080/",
          "height": 143
        },
        "id": "j04ZzQWX6lL9",
        "outputId": "2115462f-ba0b-4a86-c35d-4c722102f59e"
      },
      "execution_count": null,
      "outputs": [
        {
          "output_type": "execute_result",
          "data": {
            "text/plain": [
              "   longitude  latitude  housing_median_age  total_rooms  total_bedrooms  \\\n",
              "0    -114.31     34.19                15.0       5612.0          1283.0   \n",
              "1    -114.47     34.40                19.0       7650.0          1901.0   \n",
              "2    -114.56     33.69                17.0        720.0           174.0   \n",
              "\n",
              "   population  households  median_income  median_house_value  \n",
              "0      1015.0       472.0         1.4936             66900.0  \n",
              "1      1129.0       463.0         1.8200             80100.0  \n",
              "2       333.0       117.0         1.6509             85700.0  "
            ],
            "text/html": [
              "\n",
              "  <div id=\"df-46840081-3ebb-4a5d-9adb-3d3038144de5\">\n",
              "    <div class=\"colab-df-container\">\n",
              "      <div>\n",
              "<style scoped>\n",
              "    .dataframe tbody tr th:only-of-type {\n",
              "        vertical-align: middle;\n",
              "    }\n",
              "\n",
              "    .dataframe tbody tr th {\n",
              "        vertical-align: top;\n",
              "    }\n",
              "\n",
              "    .dataframe thead th {\n",
              "        text-align: right;\n",
              "    }\n",
              "</style>\n",
              "<table border=\"1\" class=\"dataframe\">\n",
              "  <thead>\n",
              "    <tr style=\"text-align: right;\">\n",
              "      <th></th>\n",
              "      <th>longitude</th>\n",
              "      <th>latitude</th>\n",
              "      <th>housing_median_age</th>\n",
              "      <th>total_rooms</th>\n",
              "      <th>total_bedrooms</th>\n",
              "      <th>population</th>\n",
              "      <th>households</th>\n",
              "      <th>median_income</th>\n",
              "      <th>median_house_value</th>\n",
              "    </tr>\n",
              "  </thead>\n",
              "  <tbody>\n",
              "    <tr>\n",
              "      <th>0</th>\n",
              "      <td>-114.31</td>\n",
              "      <td>34.19</td>\n",
              "      <td>15.0</td>\n",
              "      <td>5612.0</td>\n",
              "      <td>1283.0</td>\n",
              "      <td>1015.0</td>\n",
              "      <td>472.0</td>\n",
              "      <td>1.4936</td>\n",
              "      <td>66900.0</td>\n",
              "    </tr>\n",
              "    <tr>\n",
              "      <th>1</th>\n",
              "      <td>-114.47</td>\n",
              "      <td>34.40</td>\n",
              "      <td>19.0</td>\n",
              "      <td>7650.0</td>\n",
              "      <td>1901.0</td>\n",
              "      <td>1129.0</td>\n",
              "      <td>463.0</td>\n",
              "      <td>1.8200</td>\n",
              "      <td>80100.0</td>\n",
              "    </tr>\n",
              "    <tr>\n",
              "      <th>2</th>\n",
              "      <td>-114.56</td>\n",
              "      <td>33.69</td>\n",
              "      <td>17.0</td>\n",
              "      <td>720.0</td>\n",
              "      <td>174.0</td>\n",
              "      <td>333.0</td>\n",
              "      <td>117.0</td>\n",
              "      <td>1.6509</td>\n",
              "      <td>85700.0</td>\n",
              "    </tr>\n",
              "  </tbody>\n",
              "</table>\n",
              "</div>\n",
              "      <button class=\"colab-df-convert\" onclick=\"convertToInteractive('df-46840081-3ebb-4a5d-9adb-3d3038144de5')\"\n",
              "              title=\"Convert this dataframe to an interactive table.\"\n",
              "              style=\"display:none;\">\n",
              "        \n",
              "  <svg xmlns=\"http://www.w3.org/2000/svg\" height=\"24px\"viewBox=\"0 0 24 24\"\n",
              "       width=\"24px\">\n",
              "    <path d=\"M0 0h24v24H0V0z\" fill=\"none\"/>\n",
              "    <path d=\"M18.56 5.44l.94 2.06.94-2.06 2.06-.94-2.06-.94-.94-2.06-.94 2.06-2.06.94zm-11 1L8.5 8.5l.94-2.06 2.06-.94-2.06-.94L8.5 2.5l-.94 2.06-2.06.94zm10 10l.94 2.06.94-2.06 2.06-.94-2.06-.94-.94-2.06-.94 2.06-2.06.94z\"/><path d=\"M17.41 7.96l-1.37-1.37c-.4-.4-.92-.59-1.43-.59-.52 0-1.04.2-1.43.59L10.3 9.45l-7.72 7.72c-.78.78-.78 2.05 0 2.83L4 21.41c.39.39.9.59 1.41.59.51 0 1.02-.2 1.41-.59l7.78-7.78 2.81-2.81c.8-.78.8-2.07 0-2.86zM5.41 20L4 18.59l7.72-7.72 1.47 1.35L5.41 20z\"/>\n",
              "  </svg>\n",
              "      </button>\n",
              "      \n",
              "  <style>\n",
              "    .colab-df-container {\n",
              "      display:flex;\n",
              "      flex-wrap:wrap;\n",
              "      gap: 12px;\n",
              "    }\n",
              "\n",
              "    .colab-df-convert {\n",
              "      background-color: #E8F0FE;\n",
              "      border: none;\n",
              "      border-radius: 50%;\n",
              "      cursor: pointer;\n",
              "      display: none;\n",
              "      fill: #1967D2;\n",
              "      height: 32px;\n",
              "      padding: 0 0 0 0;\n",
              "      width: 32px;\n",
              "    }\n",
              "\n",
              "    .colab-df-convert:hover {\n",
              "      background-color: #E2EBFA;\n",
              "      box-shadow: 0px 1px 2px rgba(60, 64, 67, 0.3), 0px 1px 3px 1px rgba(60, 64, 67, 0.15);\n",
              "      fill: #174EA6;\n",
              "    }\n",
              "\n",
              "    [theme=dark] .colab-df-convert {\n",
              "      background-color: #3B4455;\n",
              "      fill: #D2E3FC;\n",
              "    }\n",
              "\n",
              "    [theme=dark] .colab-df-convert:hover {\n",
              "      background-color: #434B5C;\n",
              "      box-shadow: 0px 1px 3px 1px rgba(0, 0, 0, 0.15);\n",
              "      filter: drop-shadow(0px 1px 2px rgba(0, 0, 0, 0.3));\n",
              "      fill: #FFFFFF;\n",
              "    }\n",
              "  </style>\n",
              "\n",
              "      <script>\n",
              "        const buttonEl =\n",
              "          document.querySelector('#df-46840081-3ebb-4a5d-9adb-3d3038144de5 button.colab-df-convert');\n",
              "        buttonEl.style.display =\n",
              "          google.colab.kernel.accessAllowed ? 'block' : 'none';\n",
              "\n",
              "        async function convertToInteractive(key) {\n",
              "          const element = document.querySelector('#df-46840081-3ebb-4a5d-9adb-3d3038144de5');\n",
              "          const dataTable =\n",
              "            await google.colab.kernel.invokeFunction('convertToInteractive',\n",
              "                                                     [key], {});\n",
              "          if (!dataTable) return;\n",
              "\n",
              "          const docLinkHtml = 'Like what you see? Visit the ' +\n",
              "            '<a target=\"_blank\" href=https://colab.research.google.com/notebooks/data_table.ipynb>data table notebook</a>'\n",
              "            + ' to learn more about interactive tables.';\n",
              "          element.innerHTML = '';\n",
              "          dataTable['output_type'] = 'display_data';\n",
              "          await google.colab.output.renderOutput(dataTable, element);\n",
              "          const docLink = document.createElement('div');\n",
              "          docLink.innerHTML = docLinkHtml;\n",
              "          element.appendChild(docLink);\n",
              "        }\n",
              "      </script>\n",
              "    </div>\n",
              "  </div>\n",
              "  "
            ]
          },
          "metadata": {},
          "execution_count": 4
        }
      ]
    },
    {
      "cell_type": "code",
      "source": [
        "# define X and y\n",
        "X_train = train.iloc[:, train.columns!='median_house_value']\n",
        "y_train = train['median_house_value']\n",
        "X_test = test.iloc[:, test.columns!='median_house_value']\n",
        "y_test = test['median_house_value']"
      ],
      "metadata": {
        "id": "A9RhiwlN6oC5"
      },
      "execution_count": null,
      "outputs": []
    },
    {
      "cell_type": "code",
      "source": [
        "# display shape\n",
        "X_train.shape, y_train.shape, X_test.shape, y_test.shape"
      ],
      "metadata": {
        "colab": {
          "base_uri": "https://localhost:8080/"
        },
        "id": "LjU-ox3b68nF",
        "outputId": "0bad43b9-7086-4e3d-840b-972e07adeb51"
      },
      "execution_count": null,
      "outputs": [
        {
          "output_type": "execute_result",
          "data": {
            "text/plain": [
              "((17000, 8), (17000,), (3000, 8), (3000,))"
            ]
          },
          "metadata": {},
          "execution_count": 9
        }
      ]
    },
    {
      "cell_type": "code",
      "source": [
        "# import\n",
        "import tensorflow as tf"
      ],
      "metadata": {
        "id": "k6jmn4q97Dva"
      },
      "execution_count": null,
      "outputs": []
    },
    {
      "cell_type": "code",
      "source": [
        "# define a neural network model\n",
        "model = tf.keras.models.Sequential(name='this_model')\n",
        "model.add(tf.keras.layers.Dense(1, input_shape=[8]))\n",
        "model.summary()"
      ],
      "metadata": {
        "colab": {
          "base_uri": "https://localhost:8080/"
        },
        "id": "AQE3z9mw7AmD",
        "outputId": "ce8e428a-c7b7-4126-cb56-9061bf6f29bc"
      },
      "execution_count": null,
      "outputs": [
        {
          "output_type": "stream",
          "name": "stdout",
          "text": [
            "Model: \"this_model\"\n",
            "_________________________________________________________________\n",
            " Layer (type)                Output Shape              Param #   \n",
            "=================================================================\n",
            " dense_5 (Dense)             (None, 1)                 9         \n",
            "                                                                 \n",
            "=================================================================\n",
            "Total params: 9\n",
            "Trainable params: 9\n",
            "Non-trainable params: 0\n",
            "_________________________________________________________________\n"
          ]
        }
      ]
    },
    {
      "cell_type": "code",
      "source": [
        "# compile\n",
        "model.compile(optimizer='rmsprop', loss='mae')"
      ],
      "metadata": {
        "id": "vUQupXue7eyA"
      },
      "execution_count": null,
      "outputs": []
    },
    {
      "cell_type": "code",
      "source": [
        "# fit\n",
        "model.fit(X_train, y_train, validation_split=0.2, epochs=10)"
      ],
      "metadata": {
        "colab": {
          "base_uri": "https://localhost:8080/"
        },
        "id": "LnmTvwJZ7k4F",
        "outputId": "4292be98-2cda-42aa-ca68-fca46ffa6048"
      },
      "execution_count": null,
      "outputs": [
        {
          "output_type": "stream",
          "name": "stdout",
          "text": [
            "Epoch 1/10\n",
            "425/425 [==============================] - 1s 2ms/step - loss: 198028.7188 - val_loss: 245978.1875\n",
            "Epoch 2/10\n",
            "425/425 [==============================] - 1s 2ms/step - loss: 195744.5469 - val_loss: 243928.7031\n",
            "Epoch 3/10\n",
            "425/425 [==============================] - 1s 2ms/step - loss: 193476.4062 - val_loss: 241877.4219\n",
            "Epoch 4/10\n",
            "425/425 [==============================] - 1s 2ms/step - loss: 191212.0156 - val_loss: 239827.8281\n",
            "Epoch 5/10\n",
            "425/425 [==============================] - 1s 1ms/step - loss: 188929.2500 - val_loss: 237776.7188\n",
            "Epoch 6/10\n",
            "425/425 [==============================] - 1s 2ms/step - loss: 186659.8750 - val_loss: 235724.3594\n",
            "Epoch 7/10\n",
            "425/425 [==============================] - 1s 2ms/step - loss: 184401.6562 - val_loss: 233680.3750\n",
            "Epoch 8/10\n",
            "425/425 [==============================] - 1s 1ms/step - loss: 182154.5000 - val_loss: 231629.8594\n",
            "Epoch 9/10\n",
            "425/425 [==============================] - 1s 2ms/step - loss: 179893.5938 - val_loss: 229578.7031\n",
            "Epoch 10/10\n",
            "425/425 [==============================] - 1s 2ms/step - loss: 177651.5781 - val_loss: 227529.2188\n"
          ]
        },
        {
          "output_type": "execute_result",
          "data": {
            "text/plain": [
              "<keras.callbacks.History at 0x7f29df6b44d0>"
            ]
          },
          "metadata": {},
          "execution_count": 18
        }
      ]
    },
    {
      "cell_type": "code",
      "source": [
        "# predict on test set\n",
        "y_test_pred_ = model.predict(X_test)\n",
        "len(y_test_pred_), len(y_test)"
      ],
      "metadata": {
        "colab": {
          "base_uri": "https://localhost:8080/"
        },
        "id": "0Oe_38e27udR",
        "outputId": "65bfaeed-c1fd-4d56-a77f-d9c58e620607"
      },
      "execution_count": null,
      "outputs": [
        {
          "output_type": "execute_result",
          "data": {
            "text/plain": [
              "(3000, 3000)"
            ]
          },
          "metadata": {},
          "execution_count": 22
        }
      ]
    },
    {
      "cell_type": "code",
      "source": [
        "# visualize\n",
        "plt.scatter(y_test_pred_, y_test)"
      ],
      "metadata": {
        "colab": {
          "base_uri": "https://localhost:8080/",
          "height": 282
        },
        "id": "QyEtNe_p7ypr",
        "outputId": "0dbff691-72f4-47c2-9614-0a82179566f6"
      },
      "execution_count": null,
      "outputs": [
        {
          "output_type": "execute_result",
          "data": {
            "text/plain": [
              "<matplotlib.collections.PathCollection at 0x7f29ded98ad0>"
            ]
          },
          "metadata": {},
          "execution_count": 23
        },
        {
          "output_type": "display_data",
          "data": {
            "text/plain": [
              "<Figure size 432x288 with 1 Axes>"
            ],
            "image/png": "[encoded data removed]"
          },
          "metadata": {
            "needs_background": "light"
          }
        }
      ]
    },
    {
      "cell_type": "code",
      "source": [
        "# how accurate?\n",
        "# step 1: take the difference\n",
        "y_test_pred_.reshape((-1)) - np.asarray(y_test)"
      ],
      "metadata": {
        "colab": {
          "base_uri": "https://localhost:8080/"
        },
        "id": "kT3iPlHz8LfM",
        "outputId": "54f4baa0-eac9-427b-ca29-c2e646340a4d"
      },
      "execution_count": null,
      "outputs": [
        {
          "output_type": "execute_result",
          "data": {
            "text/plain": [
              "array([-318169.40039062, -164377.99902344, -246356.84179688, ...,\n",
              "        -53136.82617188, -161013.94262695, -487427.22558594])"
            ]
          },
          "metadata": {},
          "execution_count": 31
        }
      ]
    },
    {
      "cell_type": "code",
      "source": [
        "# step 2: take the absolute value of the difference\n",
        "np.abs(y_test_pred_.reshape((-1)) - np.asarray(y_test))"
      ],
      "metadata": {
        "colab": {
          "base_uri": "https://localhost:8080/"
        },
        "id": "I3rTmsEF8cK0",
        "outputId": "e9b41972-77e5-4bce-de20-c018a510dae0"
      },
      "execution_count": null,
      "outputs": [
        {
          "output_type": "execute_result",
          "data": {
            "text/plain": [
              "array([318169.40039062, 164377.99902344, 246356.84179688, ...,\n",
              "        53136.82617188, 161013.94262695, 487427.22558594])"
            ]
          },
          "metadata": {},
          "execution_count": 32
        }
      ]
    },
    {
      "cell_type": "code",
      "source": [
        "# sttep 3: take the average of the absolute difference\n",
        "np.mean(np.abs(y_test_pred_.reshape((-1)) - np.asarray(y_test)))"
      ],
      "metadata": {
        "colab": {
          "base_uri": "https://localhost:8080/"
        },
        "id": "l3hJcq8g8g8N",
        "outputId": "02b2412a-208b-46da-af57-62c0478296c9"
      },
      "execution_count": null,
      "outputs": [
        {
          "output_type": "execute_result",
          "data": {
            "text/plain": [
              "185564.7691495768"
            ]
          },
          "metadata": {},
          "execution_count": 33
        }
      ]
    },
    {
      "cell_type": "markdown",
      "source": [
        "Question: \n",
        "- How do you interpret this number?\n",
        "- Why can't we compute accuracy but we have to use errors to measure how \"accurate\" our model is?"
      ],
      "metadata": {
        "id": "BdKC6MSM8lbw"
      }
    },
    {
      "cell_type": "markdown",
      "source": [
        "# MNIST Data\n",
        "\n",
        "According to Yann LeCun on this [site](http://yann.lecun.com/exdb/mnist/#:~:text=It%20is%20a%20good%20database,efforts%20on%20preprocessing%20and%20formatting.), the MNIST database of handwritten digits, available from this page, has a training set of 60,000 examples, and a test set of 10,000 examples. It is a subset of a larger set available from NIST. The digits have been size-normalized and centered in a fixed-size image.\n",
        "\n",
        "It is a good database for people who want to try learning techniques and pattern recognition methods on real-world data while spending minimal efforts on preprocessing and formatting. \n",
        "\n",
        "<p align=\"center\">\n",
        "    <img src=\"https://github.com/AviatorMoser/keras-mnist-tutorial/blob/master/mnist.png?raw=1\"></img>\n",
        "</p>\n",
        "\n",
        "## Research Question\n",
        "\n",
        "Can AI recognize pictures?\n",
        "\n",
        "## Agenda\n",
        "\n",
        "This is the standrad image data for developing neural network models and convolutional neural network models. \n",
        "\n",
        "- Neural Networks (1st meeting)\n",
        "- Convolutional Neural Networks (2nd meeting)\n",
        "\n",
        "One you have the basic knowledge, there two tasks:\n",
        "- First, you build a model to make good predictions on MNIST dataset\n",
        "- Next, you will get a new data set that is similar and you will build advanced models to make good predictions on it. Plan: We use the MNIST Fashion dataset.\n",
        "\n",
        "Goal: To develop state-of-the-art CNN models.\n",
        "\n",
        "## Notes\n",
        "\n",
        "Most of the notes are taken using markdown area. To learn more diverse editting techniques for you to take quick notes using markdown, please click [here](https://colab.research.google.com/notebooks/markdown_guide.ipynb)."
      ],
      "metadata": {
        "id": "ZgxIJ7VDkatT"
      }
    },
    {
      "cell_type": "markdown",
      "source": [
        "# Artificial Neural Networks"
      ],
      "metadata": {
        "id": "VV3Qwh9lEiAp"
      }
    },
    {
      "cell_type": "markdown",
      "source": [
        "## Load Data"
      ],
      "metadata": {
        "id": "Rcuw1nh5jWmO"
      }
    },
    {
      "cell_type": "code",
      "source": [
        "# import library\n",
        "import tensorflow as tf"
      ],
      "metadata": {
        "id": "HqWLoP6nlSDP"
      },
      "execution_count": null,
      "outputs": []
    },
    {
      "cell_type": "code",
      "source": [
        "# use tf API to get data\n",
        "mnist = tf.keras.datasets.mnist\n",
        "(training_images, training_labels), (test_images, test_labels) = mnist.load_data()\n",
        "print(training_images.shape)\n",
        "print(training_images[0].shape)"
      ],
      "metadata": {
        "id": "_rKryrdplThI",
        "colab": {
          "base_uri": "https://localhost:8080/"
        },
        "outputId": "fd3fd99e-fe0c-4da3-e009-f6160e3ef418"
      },
      "execution_count": null,
      "outputs": [
        {
          "output_type": "stream",
          "name": "stdout",
          "text": [
            "Downloading data from https://storage.googleapis.com/tensorflow/tf-keras-datasets/mnist.npz\n",
            "11493376/11490434 [==============================] - 0s 0us/step\n",
            "11501568/11490434 [==============================] - 0s 0us/step\n",
            "(60000, 28, 28)\n",
            "(28, 28)\n"
          ]
        }
      ]
    },
    {
      "cell_type": "code",
      "source": [
        "# display dimension\n",
        "training_images.shape, training_labels.shape, test_images.shape, test_labels.shape"
      ],
      "metadata": {
        "colab": {
          "base_uri": "https://localhost:8080/"
        },
        "id": "8_sHd0E_t701",
        "outputId": "f49df27b-0b4c-4aee-b183-d2764a86fc99"
      },
      "execution_count": null,
      "outputs": [
        {
          "output_type": "execute_result",
          "data": {
            "text/plain": [
              "((60000, 28, 28), (60000,), (10000, 28, 28), (10000,))"
            ]
          },
          "metadata": {},
          "execution_count": 3
        }
      ]
    },
    {
      "cell_type": "markdown",
      "source": [
        "### Save Using Pickle\n",
        "\n",
        "Sometimes the data you loaded is extremely large in sizes so we use pickle file to dump your data inside. This is to prevent that you lose the memory and record. The way to do this is whenever you run a chunk of cell with large memory you want to make sure have a pickle file ready to dump your data inside."
      ],
      "metadata": {
        "id": "JYncHvoPpUp_"
      }
    },
    {
      "cell_type": "code",
      "source": [
        "# import\n",
        "import os\n",
        "import pickle"
      ],
      "metadata": {
        "id": "8u_UMgRZpi4H"
      },
      "execution_count": null,
      "outputs": []
    },
    {
      "cell_type": "code",
      "source": [
        "# list directory\n",
        "os.listdir()"
      ],
      "metadata": {
        "colab": {
          "base_uri": "https://localhost:8080/"
        },
        "id": "Jf8ZZukupnOn",
        "outputId": "36266806-0148-465e-88d6-63f9805e4e71"
      },
      "execution_count": null,
      "outputs": [
        {
          "output_type": "execute_result",
          "data": {
            "text/plain": [
              "['.config', 'sample_data']"
            ]
          },
          "metadata": {},
          "execution_count": 4
        }
      ]
    },
    {
      "cell_type": "code",
      "source": [
        "# dump: this means save the desired file into a pickle file\n",
        "# note: a pickle file is a file ends with .pkl format\n",
        "a = (training_images, training_labels), (test_images, test_labels)\n",
        "with open('mnist_data.pkl', 'wb') as handle:\n",
        "    pickle.dump(a, handle, protocol=pickle.HIGHEST_PROTOCOL)"
      ],
      "metadata": {
        "id": "aXLSlnL-plEB"
      },
      "execution_count": null,
      "outputs": []
    },
    {
      "cell_type": "code",
      "source": [
        "# check if it exists in the current directory\n",
        "os.listdir()"
      ],
      "metadata": {
        "colab": {
          "base_uri": "https://localhost:8080/"
        },
        "id": "el3SiQwoqACF",
        "outputId": "9cea877e-a400-4a40-ae9b-5079e5f603ba"
      },
      "execution_count": null,
      "outputs": [
        {
          "output_type": "execute_result",
          "data": {
            "text/plain": [
              "['.config', 'mnist_data.pkl', 'sample_data']"
            ]
          },
          "metadata": {},
          "execution_count": 6
        }
      ]
    },
    {
      "cell_type": "code",
      "source": [
        "# load: this means start loading the desired file from the pickle file\n",
        "# note: this means that you do a with-open clause, and grab whatever \n",
        "#       inside of the .pkl file and defined it as a new object\n",
        "#       please make sure the name and the directory are correct\n",
        "with open('mnist_data.pkl', 'rb') as handle:\n",
        "    b = pickle.load(handle)\n",
        "\n",
        "# preview\n",
        "type(b), len(b)"
      ],
      "metadata": {
        "colab": {
          "base_uri": "https://localhost:8080/"
        },
        "id": "SvEpbvb5p22H",
        "outputId": "9c87aff1-133d-49c8-c4af-6e62c1ef0781"
      },
      "execution_count": null,
      "outputs": [
        {
          "output_type": "execute_result",
          "data": {
            "text/plain": [
              "(tuple, 2)"
            ]
          },
          "metadata": {},
          "execution_count": 7
        }
      ]
    },
    {
      "cell_type": "code",
      "source": [
        "# what is b?\n",
        "print(b[0][0].shape, b[0][1].shape, b[1][0].shape, b[1][1].shape)"
      ],
      "metadata": {
        "colab": {
          "base_uri": "https://localhost:8080/"
        },
        "id": "Us3wRy54qWR6",
        "outputId": "8a854998-a78b-4524-8810-314afbc1cd88"
      },
      "execution_count": null,
      "outputs": [
        {
          "output_type": "stream",
          "name": "stdout",
          "text": [
            "(60000, 28, 28) (60000,) (10000, 28, 28) (10000,)\n"
          ]
        }
      ]
    },
    {
      "cell_type": "markdown",
      "source": [
        "The dimension says 60,000 by 28 by 28. This means the dataset has 60,000 images. Each image has 28 rows and 28 columns of pixels."
      ],
      "metadata": {
        "id": "bfq_Gs8gmFem"
      }
    },
    {
      "cell_type": "code",
      "source": [
        "'test_test'.split('_')"
      ],
      "metadata": {
        "colab": {
          "base_uri": "https://localhost:8080/"
        },
        "id": "hvcA09KMaqlw",
        "outputId": "8674eadb-cb54-46fd-b6ec-289c2c682571"
      },
      "execution_count": null,
      "outputs": [
        {
          "output_type": "execute_result",
          "data": {
            "text/plain": [
              "['test', 'test']"
            ]
          },
          "metadata": {},
          "execution_count": 58
        }
      ]
    },
    {
      "cell_type": "code",
      "source": [
        "# library\n",
        "import matplotlib.pyplot as plt"
      ],
      "metadata": {
        "id": "T2lZxDY7mKbs"
      },
      "execution_count": null,
      "outputs": []
    },
    {
      "cell_type": "code",
      "source": [
        "# plot one sample\n",
        "plt.imshow(training_images[0])\n",
        "plt.title('title: this is digit ' + str(training_labels[0]))\n",
        "plt.colorbar()"
      ],
      "metadata": {
        "colab": {
          "base_uri": "https://localhost:8080/",
          "height": 298
        },
        "id": "HOtoxmiGmPwg",
        "outputId": "c282b48d-80a8-4487-ff8e-e59e9933ae45"
      },
      "execution_count": null,
      "outputs": [
        {
          "output_type": "execute_result",
          "data": {
            "text/plain": [
              "<matplotlib.colorbar.Colorbar at 0x7efc63a7e650>"
            ]
          },
          "metadata": {},
          "execution_count": 5
        },
        {
          "output_type": "display_data",
          "data": {
            "text/plain": [
              "<Figure size 432x288 with 2 Axes>"
            ],
            "image/png": "[encoded data removed]"
          },
          "metadata": {
            "needs_background": "light"
          }
        }
      ]
    },
    {
      "cell_type": "code",
      "source": [
        "# library\n",
        "import numpy as np"
      ],
      "metadata": {
        "id": "bhTfDKGmrAAv"
      },
      "execution_count": null,
      "outputs": []
    },
    {
      "cell_type": "code",
      "source": [
        "# unique digits\n",
        "np.unique(training_labels)"
      ],
      "metadata": {
        "colab": {
          "base_uri": "https://localhost:8080/"
        },
        "id": "YlMsNHasq4fd",
        "outputId": "662f3e68-be3d-43dd-dead-72da27afb8d5"
      },
      "execution_count": null,
      "outputs": [
        {
          "output_type": "execute_result",
          "data": {
            "text/plain": [
              "array([0, 1, 2, 3, 4, 5, 6, 7, 8, 9], dtype=uint8)"
            ]
          },
          "metadata": {},
          "execution_count": 7
        }
      ]
    },
    {
      "cell_type": "code",
      "source": [
        "# display shape\n",
        "training_labels.shape"
      ],
      "metadata": {
        "colab": {
          "base_uri": "https://localhost:8080/"
        },
        "id": "GPupey3-uwYz",
        "outputId": "7b00c9d8-3f58-4fb7-a261-5a5466fda0d8"
      },
      "execution_count": null,
      "outputs": [
        {
          "output_type": "execute_result",
          "data": {
            "text/plain": [
              "(60000,)"
            ]
          },
          "metadata": {},
          "execution_count": 8
        }
      ]
    },
    {
      "cell_type": "markdown",
      "source": [
        "### One hot encode\n",
        "\n",
        "We need to use *to_categorical* function to do one-hot encode. The operation of one-hot encode will check each unique level of the data and create a new binary vector for that level.\n",
        "\n",
        "For example, the vector below has 3 levels: 1, 3, 4. Hence, for each level (for each of the value 1, 3, 4), there will be a new vector created that only takes values 1 or 0.\n",
        "\n",
        "$$\n",
        "\\begin{bmatrix}\n",
        "1 \\\\\n",
        "3 \\\\\n",
        "1 \\\\\n",
        "4 \\\\\n",
        "\\end{bmatrix}\n",
        "\\rightarrow_\\text{one hot}\n",
        "\\begin{bmatrix}\n",
        "1 & 0 & 0\\\\\n",
        "0 & 1 & 0\\\\\n",
        "1 & 0 & 0\\\\\n",
        "0 & 0 & 1\\\\\n",
        "\\end{bmatrix}\n",
        "$$\n",
        "\n",
        "Source is [here](https://www.tensorflow.org/api_docs/python/tf/keras/utils/to_categorical)."
      ],
      "metadata": {
        "id": "sESMsDDYu-p0"
      }
    },
    {
      "cell_type": "code",
      "source": [
        "# one hot encode\n",
        "training_labels_one_hot_encoded = tf.keras.utils.to_categorical(training_labels, num_classes=10)\n",
        "test_labels_one_hot_encoded = tf.keras.utils.to_categorical(test_labels, num_classes=10)"
      ],
      "metadata": {
        "id": "_FwaQ3IKu98U"
      },
      "execution_count": null,
      "outputs": []
    },
    {
      "cell_type": "code",
      "source": [
        "# display shape\n",
        "print(training_labels_one_hot_encoded.shape)\n",
        "print(test_labels_one_hot_encoded.shape)"
      ],
      "metadata": {
        "colab": {
          "base_uri": "https://localhost:8080/"
        },
        "id": "aTpXkpmJ9eEI",
        "outputId": "850941dc-3b70-4e53-e88b-c0568684b260"
      },
      "execution_count": null,
      "outputs": [
        {
          "output_type": "stream",
          "name": "stdout",
          "text": [
            "(60000, 10)\n",
            "(10000, 10)\n"
          ]
        }
      ]
    },
    {
      "cell_type": "markdown",
      "source": [
        "This means there are 10 classes."
      ],
      "metadata": {
        "id": "5NqgiOyFrCW8"
      }
    },
    {
      "cell_type": "markdown",
      "source": [
        "## Process Data\n",
        "\n",
        "We want the data to be rescaled to between 0 and 1. We know that the pixel values can range from 0 to 255. To do this, we divide all pixels by 255.\n",
        "\n",
        "The purpose is to avoid the error blowing up. "
      ],
      "metadata": {
        "id": "4UMB48rcnEaA"
      }
    },
    {
      "cell_type": "code",
      "source": [
        "# check max and min\n",
        "np.max(training_images), np.min(training_images)"
      ],
      "metadata": {
        "colab": {
          "base_uri": "https://localhost:8080/"
        },
        "id": "u4acGxsf7JNZ",
        "outputId": "a67a2fd2-c545-4707-910b-2ee311d2d5fa"
      },
      "execution_count": null,
      "outputs": [
        {
          "output_type": "execute_result",
          "data": {
            "text/plain": [
              "(255, 0)"
            ]
          },
          "metadata": {},
          "execution_count": 11
        }
      ]
    },
    {
      "cell_type": "code",
      "source": [
        "(255-100)*28*28"
      ],
      "metadata": {
        "colab": {
          "base_uri": "https://localhost:8080/"
        },
        "id": "-y9tyArRHAL4",
        "outputId": "5a44ca0d-e54d-4cb0-985a-ffff84ce4952"
      },
      "execution_count": null,
      "outputs": [
        {
          "output_type": "execute_result",
          "data": {
            "text/plain": [
              "121520"
            ]
          },
          "metadata": {},
          "execution_count": 17
        }
      ]
    },
    {
      "cell_type": "code",
      "source": [
        "# rescale\n",
        "training_images = training_images / 255\n",
        "test_images = test_images / 255"
      ],
      "metadata": {
        "id": "I_Tn8lHnnoY4"
      },
      "execution_count": null,
      "outputs": []
    },
    {
      "cell_type": "code",
      "source": [
        "# check max and min\n",
        "np.max(training_images), np.min(training_images)"
      ],
      "metadata": {
        "colab": {
          "base_uri": "https://localhost:8080/"
        },
        "id": "FmsRRLuK7Npa",
        "outputId": "f9d386ad-3d75-4c0e-bfbf-24ae0468bba5"
      },
      "execution_count": null,
      "outputs": [
        {
          "output_type": "execute_result",
          "data": {
            "text/plain": [
              "(1.0, 0.0)"
            ]
          },
          "metadata": {},
          "execution_count": 13
        }
      ]
    },
    {
      "cell_type": "markdown",
      "source": [
        "## Activation Functions\n",
        "\n",
        "An Activation Function decides whether a neuron should be activated or not. This means that it will decide whether the neuron's input to the network is important or not in the process of prediction using simpler mathematical operations.\n",
        "\n",
        "<p align='center'>\n",
        "    <img src=\"https://miro.medium.com/max/1400/1*p_hyqAtyI8pbt2kEl6siOQ.png\" width=700></img>\n",
        "</p>\n",
        "\n",
        "Why use activation function? It is because we need to have non-linear component in each neuron."
      ],
      "metadata": {
        "id": "aZa66Gqxpd6e"
      }
    },
    {
      "cell_type": "markdown",
      "source": [
        "## Softmax Function\n",
        "\n",
        "The softmax function is used as the activation function in the output layer of neural network models that predict a multinomial probability distribution. That is, softmax is used as the activation function for multi-class classification problems where class membership is required on more than two class labels.\n",
        "\n",
        "<p align='center'>\n",
        "    <img src=\"https://miro.medium.com/max/805/1*ReYpdIZ3ZSAPb2W8cJpkBg.jpeg\" width=500, height=300></img>\n",
        "</p>"
      ],
      "metadata": {
        "id": "U6QvT3tpqXYM"
      }
    },
    {
      "cell_type": "markdown",
      "source": [
        "## Regularization\n",
        "\n",
        "Regularization refers to techniques that are used to calibrate machine learning models in order to minimize the adjusted loss function and prevent overfitting or underfitting. Using Regularization, we can fit our machine learning model appropriately on a given test set and hence reduce the errors in it.\n",
        "\n",
        "<p align='center'>\n",
        "    <img src=\"https://miro.medium.com/proxy/1*mh-QVwSKbe2kYCBh9mwA0Q.png\" width=600 height=380></img>\n",
        "</p>\n",
        "\n",
        "If you are using L1 (this is the square one on the left), you are more likely to have sparse results (this means some of your weights are zeros). \n",
        "\n",
        "### Question: Is this good or bad?\n",
        "\n",
        "It depends. If you want to avoid overfitting way more than you do, use L1. If you don't really care about it, you can use L2. "
      ],
      "metadata": {
        "id": "rQ650jz2sAmd"
      }
    },
    {
      "cell_type": "markdown",
      "source": [
        "## Build an Artificial Neural Network"
      ],
      "metadata": {
        "id": "IcgTqS1snuQw"
      }
    },
    {
      "cell_type": "code",
      "source": [
        "# use sequential api to build model\n",
        "model = tf.keras.models.Sequential([\n",
        "    tf.keras.layers.Flatten(), # neural network requires the input layer to be a vector instead of 2D array\n",
        "    ## Your Changes Start Here ##\n",
        "    # Things to change:\n",
        "    # number of hidden layers\n",
        "    # number of neurons per hidden layer\n",
        "    # the activation functions: Please refer this website: https://keras.io/api/layers/activations/\n",
        "    # the kernel_regularizer: Please refer this website: https://www.tensorflow.org/api_docs/python/tf/keras/regularizers/Regularizer\n",
        "    tf.keras.layers.Dense(1024, activation='relu', use_bias=True), # input units (usually starts with 128) and activation (it's a choice, usually relu)\n",
        "    tf.keras.layers.Dense(512, activation='relu', use_bias=True), # create more hidden layer if desired\n",
        "    tf.keras.layers.Dense(64, activation='relu', use_bias=True), # create more hidden layer if desired\n",
        "    # ... you can have however many you want\n",
        "    ## Your Changes Ends Here ##\n",
        "    tf.keras.layers.Dense(10, activation='softmax') # output layer or end layer | you have to match the number of classes\n",
        "])"
      ],
      "metadata": {
        "id": "vQU1dPsyn4un"
      },
      "execution_count": null,
      "outputs": []
    },
    {
      "cell_type": "code",
      "source": [
        "(100+25)/2"
      ],
      "metadata": {
        "colab": {
          "base_uri": "https://localhost:8080/"
        },
        "id": "C-JXsiSVbLFI",
        "outputId": "5d4b089d-9fe0-46f8-f3bb-f350ad5bc49b"
      },
      "execution_count": null,
      "outputs": [
        {
          "output_type": "execute_result",
          "data": {
            "text/plain": [
              "62.5"
            ]
          },
          "metadata": {},
          "execution_count": 21
        }
      ]
    },
    {
      "cell_type": "markdown",
      "source": [
        "### Loss Function: MSE\n",
        "\n",
        "What is a loss function? A loss function helps you to identify how many mistakes the model is making. The most common one (originated from linear regression) is L2 loss or also known as the square loss. This loss function is written below\n",
        "\n",
        "$$\\mathcal{L}(Y, \\hat{Y}) = \\frac{1}{n} \\sum_{i=1}^n (y_i - \\hat{y}_i)^2$$\n",
        "\n",
        "where the $Y$ is ground truth at a vector level and the $\\hat{Y}$ is the educated guess or estimate from the model at a vector level. The left hand side of the formula is defined by the right hand side which means that the vectors can be expanded using sub-index $i$. This sub-index $i$ is a running index indicating which sample the function is referring to. For example, let us take a look at the baby version below.\n",
        "\n",
        "For example, suppose we have a few data points below. Denote $y_i - \\hat{y}_i$ as \"diff\" for short hand nickname. Then the table below walks you through how to execute the above formula mathematically.\n",
        "\n",
        "| $i$ | $y_i$ | $\\hat{y}_i$ | $\\text{diff}$ | $\\text{diff}^2$ |\n",
        "| --- | --- | --- | --- | --- |\n",
        "| 1  |  10  |  20  | -10  | 100  |\n",
        "| 2  |  10  |  5  | 5  | 25  |\n",
        "\n",
        "If you watch carefully, the formula is essentially $\\text{something}^2$ (we read \"something square\" or \"square of something\"), this means that it is a [convex function](https://en.wikipedia.org/wiki/Convex_function). Hence, there always exists an optimal point!!!"
      ],
      "metadata": {
        "id": "aJHM4Ew8qxRt"
      }
    },
    {
      "cell_type": "markdown",
      "source": [
        "### Loss Function: BCE\n",
        "\n",
        "If you are training a binary classifier, chances are you are using binary cross-entropy / log loss as your loss function. Loss Function: Binary Cross-Entropy / Log Loss takes the following form\n",
        "\n",
        "$$\\mathcal{L}(y, \\hat{y}) = -\\frac{1}{n} \\sum_{i=1}^n y_i \\log(\\hat{y}_i) + (1 - y_i) \\log (\\hat{y}_i)$$\n",
        "\n",
        "where $y$ is the label and $\\hat{y}$ is the predicted probability of the data point for all $n$ points.\n",
        "\n",
        "The plot below gives us a clear picture —as the predicted probability of the true class gets closer to zero, the loss increases exponentially:\n",
        "\n",
        "<p align='center'><img src='https://miro.medium.com/max/836/1*T8KWtAn8FkAcsg8RsjiZ6Q.png' width=500></img></p>\n",
        "\n",
        "Consider the following scenarios:\n",
        "- If predicted probabilities $\\hat{y}_i$ is small (close to 0) and truth $y_i = 0$, what happens?\n",
        "- If predicted probabilities $\\hat{y}_i$ is small (close to 0) and truth $y_i = 1$, what happens?\n",
        "- If predicted probabilities $\\hat{y}_i$ is large (close to 1) and truth $y_i = 0$, what happens?\n",
        "- If predicted probabilities $\\hat{y}_i$ is large (close to 0) and truth $y_i = 1$, what happens?"
      ],
      "metadata": {
        "id": "6rg8dWmS_Z2S"
      }
    },
    {
      "cell_type": "markdown",
      "source": [
        "A good paper to refer to is [here](https://www.semanticscholar.org/paper/On-Loss-Functions-for-Deep-Neural-Networks-in-Janocha-Czarnecki/d589392ab606a3d2861988ebcba95176517939ec).\n",
        "\n",
        "<p align='center'>\n",
        "    <img src=\"https://d3i71xaburhd42.cloudfront.net/d589392ab606a3d2861988ebcba95176517939ec/2-Table1-1.png\" width=500></img>\n",
        "</p>"
      ],
      "metadata": {
        "id": "yukTGCV1BAK8"
      }
    },
    {
      "cell_type": "markdown",
      "source": [
        "### Optimization\n",
        "\n",
        "An optimizer is an algorithm to search for the most optimal (some minimum value) on a loss surface. Recall the loss surface is how many mistakes the model is making, so it is intuitive that the desired point (the optimal point) is where the loss is small. The location where the loss is small is the \"best\" parameters we need in our model.\n",
        "\n",
        "<p align='center'>\n",
        "    <img src=\"https://miro.medium.com/max/1400/1*47skUygd3tWf3yB9A10QHg.gif\" width=400></img>\n",
        "</p>\n",
        "\n",
        "- Animation of gradient descent is [here](https://towardsdatascience.com/a-visual-explanation-of-gradient-descent-methods-momentum-adagrad-rmsprop-adam-f898b102325c)\n",
        "- Other animation can be found [here](https://towardsai.net/p/machine-learning/analysis-of-learning-rate-in-gradient-descent-algorithm-using-python)\n",
        "\n",
        "Today, there are many different upgrades of optimization algorithm. Please see below:\n",
        "\n",
        "<p align='center'>\n",
        "    <img src=\"https://user-images.githubusercontent.com/11681225/49325458-fc785480-f585-11e8-8d2a-9012d6024c6e.gif\" width=400></img>\n",
        "</p>\n",
        "\n",
        "Source of this animation is [here](https://github.com/ilguyi/optimizers.numpy)."
      ],
      "metadata": {
        "id": "xPgBdZMS_Vyn"
      }
    },
    {
      "cell_type": "code",
      "source": [
        "# compile\n",
        "model.compile(\n",
        "    ## Your Changes Start Here ##\n",
        "    # optimizer: https://keras.io/api/optimizers/\n",
        "    # loss: https://keras.io/api/losses/\n",
        "    optimizer=\"adam\",\n",
        "    loss=\"categorical_crossentropy\",\n",
        "    ## Your Changes Ends Here ##\n",
        "    metrics=['accuracy']\n",
        ")"
      ],
      "metadata": {
        "id": "GWWxUY9ytK4u"
      },
      "execution_count": null,
      "outputs": []
    },
    {
      "cell_type": "markdown",
      "source": [
        "## Train on GPU\n",
        "\n",
        "When you train on GPU, make sure go to \"Edit\" then go to \"Notebook Setting\" and set GPU first."
      ],
      "metadata": {
        "id": "MaCFzTtrwhQ0"
      }
    },
    {
      "cell_type": "code",
      "source": [
        "# check gpu\n",
        "%tensorflow_version 2.x\n",
        "import tensorflow as tf\n",
        "device_name = tf.test.gpu_device_name()\n",
        "if device_name != '/device:GPU:0':\n",
        "  raise SystemError('GPU device not found')\n",
        "print('Found GPU at: {}'.format(device_name))"
      ],
      "metadata": {
        "id": "9rcJYEEww45j",
        "colab": {
          "base_uri": "https://localhost:8080/"
        },
        "outputId": "0cb7d01b-6939-4835-e1cb-ced32bc8845f"
      },
      "execution_count": null,
      "outputs": [
        {
          "output_type": "stream",
          "name": "stdout",
          "text": [
            "Found GPU at: /device:GPU:0\n"
          ]
        }
      ]
    },
    {
      "cell_type": "code",
      "source": [
        "# callbacks\n",
        "callbacks = [ tf.keras.callbacks.ModelCheckpoint(\"some_sample_nn_model.h5\", save_best_only=True) ]"
      ],
      "metadata": {
        "id": "862V6wKursky"
      },
      "execution_count": null,
      "outputs": []
    },
    {
      "cell_type": "code",
      "source": [
        "import os\n",
        "os.listdir()"
      ],
      "metadata": {
        "colab": {
          "base_uri": "https://localhost:8080/"
        },
        "id": "vnmOia-M2dD6",
        "outputId": "cf2a6055-8896-4733-e449-63e6dec08630"
      },
      "execution_count": null,
      "outputs": [
        {
          "output_type": "execute_result",
          "data": {
            "text/plain": [
              "['.config', 'sample_data']"
            ]
          },
          "metadata": {},
          "execution_count": 18
        }
      ]
    },
    {
      "cell_type": "code",
      "source": [
        "%%time\n",
        "# fit | we train the model here\n",
        "# use GPU\n",
        "# with tf.device('/device:GPU:0'):\n",
        "#     history = model.fit(\n",
        "#         training_images, training_labels_one_hot_encoded,\n",
        "#         validation_split=0.2,\n",
        "#         ## Your Changes Start Here ##\n",
        "#         # there is a sweet spot, you don't want to overfit, but you also want to make sure your model learned something\n",
        "#         epochs=10\n",
        "#         ## Your Changes Ends Here ##\n",
        "#     )\n",
        "\n",
        "# # use CPU\n",
        "history = model.fit(\n",
        "        training_images, # chromagram\n",
        "        training_labels_one_hot_encoded, # label <= create yourself (it's just a vector of 1's and 0's)\n",
        "        validation_split=0.2,\n",
        "        ## Your Changes Start Here ##\n",
        "        # there is a sweet spot, you don't want to overfit, but you also want to make sure your model learned something\n",
        "        epochs=10,\n",
        "        ## Your Changes Ends Here ##\n",
        "        callbacks=callbacks\n",
        "    )"
      ],
      "metadata": {
        "colab": {
          "base_uri": "https://localhost:8080/"
        },
        "id": "DsQazWq1tROm",
        "outputId": "12d7a481-3309-4aef-b9c7-359044d42ff0"
      },
      "execution_count": null,
      "outputs": [
        {
          "output_type": "stream",
          "name": "stdout",
          "text": [
            "Epoch 1/10\n",
            "1500/1500 [==============================] - 11s 7ms/step - loss: 0.2084 - accuracy: 0.9363 - val_loss: 0.1109 - val_accuracy: 0.9674\n",
            "Epoch 2/10\n",
            "1500/1500 [==============================] - 10s 7ms/step - loss: 0.0926 - accuracy: 0.9716 - val_loss: 0.1283 - val_accuracy: 0.9614\n",
            "Epoch 3/10\n",
            "1500/1500 [==============================] - 10s 7ms/step - loss: 0.0645 - accuracy: 0.9808 - val_loss: 0.0981 - val_accuracy: 0.9715\n",
            "Epoch 4/10\n",
            "1500/1500 [==============================] - 10s 7ms/step - loss: 0.0509 - accuracy: 0.9845 - val_loss: 0.0902 - val_accuracy: 0.9752\n",
            "Epoch 5/10\n",
            "1500/1500 [==============================] - 10s 7ms/step - loss: 0.0415 - accuracy: 0.9879 - val_loss: 0.0901 - val_accuracy: 0.9748\n",
            "Epoch 6/10\n",
            "1500/1500 [==============================] - 11s 7ms/step - loss: 0.0350 - accuracy: 0.9895 - val_loss: 0.0960 - val_accuracy: 0.9766\n",
            "Epoch 7/10\n",
            "1500/1500 [==============================] - 11s 8ms/step - loss: 0.0278 - accuracy: 0.9916 - val_loss: 0.1163 - val_accuracy: 0.9737\n",
            "Epoch 8/10\n",
            "1500/1500 [==============================] - 10s 7ms/step - loss: 0.0270 - accuracy: 0.9916 - val_loss: 0.0932 - val_accuracy: 0.9794\n",
            "Epoch 9/10\n",
            "1500/1500 [==============================] - 10s 7ms/step - loss: 0.0236 - accuracy: 0.9932 - val_loss: 0.1004 - val_accuracy: 0.9772\n",
            "Epoch 10/10\n",
            "1500/1500 [==============================] - 10s 7ms/step - loss: 0.0241 - accuracy: 0.9929 - val_loss: 0.1427 - val_accuracy: 0.9721\n",
            "CPU times: user 5min 6s, sys: 24.9 s, total: 5min 31s\n",
            "Wall time: 1min 43s\n"
          ]
        }
      ]
    },
    {
      "cell_type": "markdown",
      "source": [
        "### Save\n",
        "\n",
        "You have done all the work to train the model. In practice, it can be thousands of epochs and many lines of code. You do not want to lose this model! We will use tensorflow to save and load the model below.\n",
        "\n",
        "```\n",
        "# save\n",
        "model.save('enter_your_desired_path.h5')\n",
        "\n",
        "# load\n",
        "new_model = tf.keras.models.load_model('enter_your_desired_path.h5')\n",
        "```"
      ],
      "metadata": {
        "id": "CvgRfbqizndK"
      }
    },
    {
      "cell_type": "code",
      "source": [
        "# save model: it must be .h5 format\n",
        "model.save('your_neuralnet_model.h5')"
      ],
      "metadata": {
        "id": "BL-Fw15tzvHx"
      },
      "execution_count": null,
      "outputs": []
    },
    {
      "cell_type": "code",
      "source": [
        "# Recreate the exact same model, including its weights and the optimizer\n",
        "new_model = tf.keras.models.load_model('your_neuralnet_model.h5')"
      ],
      "metadata": {
        "id": "B-eGUTPc3reD"
      },
      "execution_count": null,
      "outputs": []
    },
    {
      "cell_type": "code",
      "source": [
        "# check\n",
        "model.summary() == new_model.summary()"
      ],
      "metadata": {
        "colab": {
          "base_uri": "https://localhost:8080/"
        },
        "id": "iz-FbIQD3tjc",
        "outputId": "bdc62c0f-2db1-483a-9360-8145ec48adb9"
      },
      "execution_count": null,
      "outputs": [
        {
          "output_type": "stream",
          "name": "stdout",
          "text": [
            "Model: \"sequential\"\n",
            "_________________________________________________________________\n",
            " Layer (type)                Output Shape              Param #   \n",
            "=================================================================\n",
            " flatten (Flatten)           (32, 784)                 0         \n",
            "                                                                 \n",
            " dense (Dense)               (32, 1024)                803840    \n",
            "                                                                 \n",
            " dense_1 (Dense)             (32, 512)                 524800    \n",
            "                                                                 \n",
            " dense_2 (Dense)             (32, 64)                  32832     \n",
            "                                                                 \n",
            " dense_3 (Dense)             (32, 10)                  650       \n",
            "                                                                 \n",
            "=================================================================\n",
            "Total params: 1,362,122\n",
            "Trainable params: 1,362,122\n",
            "Non-trainable params: 0\n",
            "_________________________________________________________________\n",
            "Model: \"sequential\"\n",
            "_________________________________________________________________\n",
            " Layer (type)                Output Shape              Param #   \n",
            "=================================================================\n",
            " flatten (Flatten)           (32, 784)                 0         \n",
            "                                                                 \n",
            " dense (Dense)               (32, 1024)                803840    \n",
            "                                                                 \n",
            " dense_1 (Dense)             (32, 512)                 524800    \n",
            "                                                                 \n",
            " dense_2 (Dense)             (32, 64)                  32832     \n",
            "                                                                 \n",
            " dense_3 (Dense)             (32, 10)                  650       \n",
            "                                                                 \n",
            "=================================================================\n",
            "Total params: 1,362,122\n",
            "Trainable params: 1,362,122\n",
            "Non-trainable params: 0\n",
            "_________________________________________________________________\n"
          ]
        },
        {
          "output_type": "execute_result",
          "data": {
            "text/plain": [
              "True"
            ]
          },
          "metadata": {},
          "execution_count": 27
        }
      ]
    },
    {
      "cell_type": "markdown",
      "source": [
        "### Evaluation"
      ],
      "metadata": {
        "id": "3t9gQZl55ZGL"
      }
    },
    {
      "cell_type": "code",
      "source": [
        "# quick evaluation on test set\n",
        "this_final_loss_, this_final_acc_ = model.evaluate(test_images, test_labels_one_hot_encoded)\n",
        "print('Test Result: Loss is '+str(this_final_loss_)+', and accuracy is '+str(this_final_acc_))"
      ],
      "metadata": {
        "colab": {
          "base_uri": "https://localhost:8080/"
        },
        "id": "I0qfk6_l5Z_7",
        "outputId": "2220e638-5ab6-4598-ad87-58cb7deea09d"
      },
      "execution_count": null,
      "outputs": [
        {
          "output_type": "stream",
          "name": "stdout",
          "text": [
            "313/313 [==============================] - 1s 3ms/step - loss: 0.1096 - accuracy: 0.9759\n",
            "Test Result: Loss is 0.10962232947349548, and accuracy is 0.9758999943733215\n"
          ]
        }
      ]
    },
    {
      "cell_type": "markdown",
      "source": [
        "## Visualize Performance"
      ],
      "metadata": {
        "id": "8CbbY531xabr"
      }
    },
    {
      "cell_type": "code",
      "source": [
        "plt.plot(history.history['loss'])\n",
        "plt.plot(history.history['val_loss'])\n",
        "plt.legend(['loss', 'val_loss'])\n",
        "plt.title('loss')"
      ],
      "metadata": {
        "colab": {
          "base_uri": "https://localhost:8080/",
          "height": 299
        },
        "id": "BvTCPMmhujXj",
        "outputId": "9f81697e-9b37-438b-e0a8-32767425b485"
      },
      "execution_count": null,
      "outputs": [
        {
          "output_type": "execute_result",
          "data": {
            "text/plain": [
              "Text(0.5, 1.0, 'loss')"
            ]
          },
          "metadata": {},
          "execution_count": 29
        },
        {
          "output_type": "display_data",
          "data": {
            "text/plain": [
              "<Figure size 432x288 with 1 Axes>"
            ],
            "image/png": "[encoded data removed]"
          },
          "metadata": {
            "needs_background": "light"
          }
        }
      ]
    },
    {
      "cell_type": "code",
      "source": [
        "# import\n",
        "import sklearn.metrics as metrics"
      ],
      "metadata": {
        "id": "ZMvxE7QoyUjT"
      },
      "execution_count": null,
      "outputs": []
    },
    {
      "cell_type": "code",
      "source": [
        "# predict\n",
        "test_labels_one_hot_encoded_predicted = model.predict(test_images)\n",
        "test_labels_predicted = np.argmax(test_labels_one_hot_encoded_predicted, axis=1)\n",
        "print(test_labels.shape)\n",
        "print(test_labels_predicted.shape)"
      ],
      "metadata": {
        "id": "zDgMsNzDyyxU",
        "colab": {
          "base_uri": "https://localhost:8080/"
        },
        "outputId": "c98dd676-a474-49d7-ddcf-399bfa5a3326"
      },
      "execution_count": null,
      "outputs": [
        {
          "output_type": "stream",
          "name": "stdout",
          "text": [
            "(10000,)\n",
            "(10000,)\n"
          ]
        }
      ]
    },
    {
      "cell_type": "code",
      "source": [
        "# confusion matrix\n",
        "conf_mat = metrics.confusion_matrix(y_true=test_labels, y_pred=test_labels_predicted)\n",
        "conf_mat"
      ],
      "metadata": {
        "colab": {
          "base_uri": "https://localhost:8080/"
        },
        "id": "0uWpDZ13yXyd",
        "outputId": "b3fe9b87-eaa6-4f27-b74c-20746881462f"
      },
      "execution_count": null,
      "outputs": [
        {
          "output_type": "execute_result",
          "data": {
            "text/plain": [
              "array([[ 974,    0,    3,    0,    0,    0,    0,    1,    1,    1],\n",
              "       [   0, 1129,    0,    1,    0,    0,    2,    0,    3,    0],\n",
              "       [   6,    5,  986,    0,    1,    0,    1,   23,   10,    0],\n",
              "       [   0,    0,    4,  971,    0,   24,    0,    4,    2,    5],\n",
              "       [   0,    2,    2,    0,  971,    1,    1,    1,    1,    3],\n",
              "       [   2,    0,    0,    0,    1,  880,    5,    1,    1,    2],\n",
              "       [   5,    3,    0,    0,   10,    2,  935,    0,    3,    0],\n",
              "       [   1,    5,    4,    1,    2,    0,    0, 1005,    2,    8],\n",
              "       [   3,    0,    5,    9,    5,    8,    0,    3,  934,    7],\n",
              "       [   1,    2,    1,    3,   19,    4,    0,    4,    1,  974]])"
            ]
          },
          "metadata": {},
          "execution_count": 32
        }
      ]
    },
    {
      "cell_type": "code",
      "source": [
        "# waht are the diagonals\n",
        "np.diagonal(conf_mat)"
      ],
      "metadata": {
        "colab": {
          "base_uri": "https://localhost:8080/"
        },
        "id": "sKTHGyLZy-EE",
        "outputId": "61015a1a-b578-4716-9d32-752ddaefc310"
      },
      "execution_count": null,
      "outputs": [
        {
          "output_type": "execute_result",
          "data": {
            "text/plain": [
              "array([ 974, 1129,  986,  971,  971,  880,  935, 1005,  934,  974])"
            ]
          },
          "metadata": {},
          "execution_count": 33
        }
      ]
    },
    {
      "cell_type": "code",
      "source": [
        "# sum of diagonal\n",
        "np.sum(np.diagonal(conf_mat))"
      ],
      "metadata": {
        "colab": {
          "base_uri": "https://localhost:8080/"
        },
        "id": "yYE1bLNczaSs",
        "outputId": "028af113-96ec-44bb-d70b-6e550cdb4f8c"
      },
      "execution_count": null,
      "outputs": [
        {
          "output_type": "execute_result",
          "data": {
            "text/plain": [
              "9759"
            ]
          },
          "metadata": {},
          "execution_count": 34
        }
      ]
    },
    {
      "cell_type": "code",
      "source": [
        "# sum of the matrix\n",
        "np.sum(conf_mat)"
      ],
      "metadata": {
        "colab": {
          "base_uri": "https://localhost:8080/"
        },
        "id": "5GjfuSQMze3S",
        "outputId": "a5c0f426-5972-4124-a025-e7304781d16a"
      },
      "execution_count": null,
      "outputs": [
        {
          "output_type": "execute_result",
          "data": {
            "text/plain": [
              "10000"
            ]
          },
          "metadata": {},
          "execution_count": 35
        }
      ]
    },
    {
      "cell_type": "code",
      "source": [
        "# accuracy\n",
        "np.sum(np.diagonal(conf_mat))/np.sum(conf_mat)"
      ],
      "metadata": {
        "colab": {
          "base_uri": "https://localhost:8080/"
        },
        "id": "dEDZj2Mjzf70",
        "outputId": "5a8b1ce8-a230-4869-8baf-e34e9c5a079f"
      },
      "execution_count": null,
      "outputs": [
        {
          "output_type": "execute_result",
          "data": {
            "text/plain": [
              "0.9759"
            ]
          },
          "metadata": {},
          "execution_count": 36
        }
      ]
    },
    {
      "cell_type": "code",
      "source": [
        "# quick way\n",
        "from sklearn.metrics import confusion_matrix, ConfusionMatrixDisplay"
      ],
      "metadata": {
        "id": "ksj225wWNZs_"
      },
      "execution_count": null,
      "outputs": []
    },
    {
      "cell_type": "code",
      "source": [
        "# plot\n",
        "cm = confusion_matrix(test_labels, test_labels_predicted, labels=np.arange(10))\n",
        "disp = ConfusionMatrixDisplay(confusion_matrix=cm, display_labels=np.arange(10))\n",
        "disp.plot()\n",
        "plt.title('test acc='+str(round(np.sum(np.diagonal(conf_mat))/np.sum(conf_mat),3)))\n",
        "plt.show()"
      ],
      "metadata": {
        "colab": {
          "base_uri": "https://localhost:8080/",
          "height": 295
        },
        "id": "9CwhrfELNa2j",
        "outputId": "ce7b7fce-2795-4943-b8b6-f3fa09329767"
      },
      "execution_count": null,
      "outputs": [
        {
          "output_type": "display_data",
          "data": {
            "text/plain": [
              "<Figure size 432x288 with 2 Axes>"
            ],
            "image/png": "[encoded data removed]"
          },
          "metadata": {
            "needs_background": "light"
          }
        }
      ]
    },
    {
      "cell_type": "markdown",
      "source": [
        "### Why is high accuracy for this data helpful?\n",
        "\n",
        "Recall [Alan Turing](https://en.wikipedia.org/wiki/Alan_Turing) and his [Turing Test](https://en.wikipedia.org/wiki/Turing_test).\n",
        "\n",
        "The interpretation is that the high accuracy on test set means \n",
        "- the model does a great job at recognizing the patterns amongst different digits;\n",
        "- the model can pass a Turing Test or that we are confident that the model can pass a Turing Test with high probability;\n",
        "\n",
        "Hence, the conclusion is at this particular task (recognizing digits from images) the machine is at near-human level. "
      ],
      "metadata": {
        "id": "gCDjhS5G4THT"
      }
    },
    {
      "cell_type": "markdown",
      "source": [
        "# Convolutional Neural Networks\n",
        "\n",
        "The benefit of using CNNs is their ability to develop an internal representation of a two-dimensional image . This allows the model to learn position and scale in variant structures in the data which is important when working with images. "
      ],
      "metadata": {
        "id": "r-1YEUiXEn3x"
      }
    },
    {
      "cell_type": "markdown",
      "source": [
        "## Introduction\n",
        "\n",
        "First, we introduce convolution operation. A convolution operation is like a matrix operation. It is defined as element-wise matrix multiplication.\n",
        "\n",
        "$$\n",
        "\\underbrace{\n",
        "\\begin{bmatrix}\n",
        "1 & 2 & 3 \\\\\n",
        "3 & 4 & 5 \\\\\n",
        "5 & 6 & 7 \\\\\n",
        "\\end{bmatrix}\n",
        "}_\\text{image}\n",
        "⊗\n",
        "\\underbrace{\n",
        "\\begin{bmatrix}\n",
        "1 & 0 \\\\\n",
        "1 & 0 \\\\ \n",
        "\\end{bmatrix}\n",
        "}_\\text{filter}\n",
        "= \n",
        "\\begin{bmatrix}\n",
        "1 \\times 1 + 0 + 3 \\times 1 + 0 & 2 \\times 1 + 0 + 4 \\times 1 + 0 \\\\\n",
        "3 \\times 1 + 0 + 5 \\times 1 + 0 & 4 \\times 1 + 0 + 6 \\times 1 + 0 \\\\\n",
        "\\end{bmatrix}\n",
        "=\n",
        "\\begin{bmatrix}\n",
        "4 & 6 \\\\\n",
        "8 & 10 \\\\\n",
        "\\end{bmatrix}\n",
        "$$\n",
        "\n",
        "Next, we introduce pooling. There are two types of pooling: (1) average pooling, and (2) maximum pooling.\n",
        "\n",
        "This is average pooling.\n",
        "$$\n",
        "\\text{ave}\\bigg(\n",
        "\\begin{bmatrix}\n",
        "4 & 6 \\\\\n",
        "8 & 10 \\\\\n",
        "\\end{bmatrix}\n",
        "\\bigg) = (4 + 6 + 8 + 10) \\frac{1}{4} = 28/4 = 7\n",
        "$$\n",
        "\n",
        "This is maximum pooling.\n",
        "$$\n",
        "\\text{max}\\bigg(\n",
        "\\begin{bmatrix}\n",
        "4 & 6 \\\\\n",
        "8 & 10 \\\\\n",
        "\\end{bmatrix}\n",
        "\\bigg) = \\max\\{4, 6, 8, 10\\} = 10\n",
        "$$\n"
      ],
      "metadata": {
        "id": "u-OOkRPXzits"
      }
    },
    {
      "cell_type": "code",
      "source": [
        "# create a small convolutional layer\n",
        "model = tf.keras.models.Sequential()\n",
        "model.add(tf.keras.layers.Conv2D(1, (3,3), input_shape=(28, 28, 1)))\n",
        "model.add(tf.keras.layers.MaxPooling2D())\n",
        "\n",
        "# remark:\n",
        "# This is a very simple model. Though it is called a model,\n",
        "# it is actually not a neural network yet. Because there is \n",
        "# no dense layers yet. We just want to see what the Conv2D function\n",
        "# does to the pictures.\n",
        "# summary\n",
        "model.summary()"
      ],
      "metadata": {
        "id": "zWiAHXVl-1gh",
        "colab": {
          "base_uri": "https://localhost:8080/"
        },
        "outputId": "17ea3621-efb9-4359-c59a-c7c7e3fd0b0d"
      },
      "execution_count": null,
      "outputs": [
        {
          "output_type": "stream",
          "name": "stdout",
          "text": [
            "Model: \"sequential_1\"\n",
            "_________________________________________________________________\n",
            " Layer (type)                Output Shape              Param #   \n",
            "=================================================================\n",
            " conv2d (Conv2D)             (None, 26, 26, 1)         10        \n",
            "                                                                 \n",
            " max_pooling2d (MaxPooling2D  (None, 13, 13, 1)        0         \n",
            " )                                                               \n",
            "                                                                 \n",
            "=================================================================\n",
            "Total params: 10\n",
            "Trainable params: 10\n",
            "Non-trainable params: 0\n",
            "_________________________________________________________________\n"
          ]
        }
      ]
    },
    {
      "cell_type": "code",
      "source": [
        "# before model fitting, let us just throw in 1 image\n",
        "sample_output_before_fitting = model.predict(training_images[0].reshape((1, 28, 28, 1)))"
      ],
      "metadata": {
        "id": "O54e0JCuCQRQ"
      },
      "execution_count": null,
      "outputs": []
    },
    {
      "cell_type": "code",
      "source": [
        "# reshape\n",
        "sample_output_2darray = sample_output_before_fitting.reshape((13, 13))\n",
        "plt.imshow(sample_output_2darray)"
      ],
      "metadata": {
        "id": "2rBCKRhXC3Ku",
        "colab": {
          "base_uri": "https://localhost:8080/",
          "height": 283
        },
        "outputId": "2c8b9137-36ec-45d3-8649-607b706ff075"
      },
      "execution_count": null,
      "outputs": [
        {
          "output_type": "execute_result",
          "data": {
            "text/plain": [
              "<matplotlib.image.AxesImage at 0x7f6ab41920d0>"
            ]
          },
          "metadata": {},
          "execution_count": 41
        },
        {
          "output_type": "display_data",
          "data": {
            "text/plain": [
              "<Figure size 432x288 with 1 Axes>"
            ],
            "image/png": "[encoded data removed]"
          },
          "metadata": {
            "needs_background": "light"
          }
        }
      ]
    },
    {
      "cell_type": "code",
      "source": [
        "# build a CNN (Convolutional Neural Network) model\n",
        "model = tf.keras.models.Sequential(name=\"MODEL_JohnSmith\")\n",
        "## Your Changes Start Here ##\n",
        "model.add(tf.keras.layers.Conv2D(filters=32, kernel_size=(3,3), activation='relu', input_shape=(28, 28, 1), name=\"Conv_1\"))\n",
        "model.add(tf.keras.layers.MaxPooling2D())\n",
        "model.add(tf.keras.layers.Conv2D(filters=64, kernel_size=(2,2), activation='relu', name=\"Conv_2\"))\n",
        "model.add(tf.keras.layers.MaxPooling2D()) \n",
        "# You can have more CONVOLUTIONAL layers! # <===== TRY TO TUNE THIS!!!\n",
        "# Each convolutional layer can have arbitrary different number of units! # <===== TRY TO TUNE THIS!!!\n",
        "# ... you can have however many you want\n",
        "## Your Changes Ends Here ##\n",
        "# up to here, we finish coding the convolutional layers, we have not done neural network layers\n",
        "\n",
        "# build neural network layers\n",
        "model.add(tf.keras.layers.Flatten()) # neural network requires the input layer to be a vector instead of 2D array\n",
        "## Your Changes Start Here ##\n",
        "model.add(tf.keras.layers.Dense(256, activation='relu', use_bias=True)) # input units (usually starts with 128) and activation (it's a choice, usually relu)\n",
        "model.add(tf.keras.layers.Dense(128, activation='relu', use_bias=True)) # input units (usually starts with 128) and activation (it's a choice, usually relu)\n",
        "# You can have more DENSE layers! # <===== TRY TO TUNE THIS!!!\n",
        "# Each dense layer can have arbitrary different number of units! # <===== TRY TO TUNE THIS!!!\n",
        "# ... you can have however many you want\n",
        "## Your Changes Ends Here ##\n",
        "model.add(tf.keras.layers.Dense(10, activation='softmax')) # output layer or end layer | you have to match the number of classes\n",
        "# summary\n",
        "model.summary()"
      ],
      "metadata": {
        "id": "S7hWzQHGDwBL",
        "colab": {
          "base_uri": "https://localhost:8080/"
        },
        "outputId": "28916d8f-1bf9-4f1e-e411-bb561a2587ee"
      },
      "execution_count": null,
      "outputs": [
        {
          "output_type": "stream",
          "name": "stdout",
          "text": [
            "Model: \"MODEL_JohnSmith\"\n",
            "_________________________________________________________________\n",
            " Layer (type)                Output Shape              Param #   \n",
            "=================================================================\n",
            " Conv_1 (Conv2D)             (None, 26, 26, 32)        320       \n",
            "                                                                 \n",
            " max_pooling2d_1 (MaxPooling  (None, 13, 13, 32)       0         \n",
            " 2D)                                                             \n",
            "                                                                 \n",
            " Conv_2 (Conv2D)             (None, 12, 12, 64)        8256      \n",
            "                                                                 \n",
            " max_pooling2d_2 (MaxPooling  (None, 6, 6, 64)         0         \n",
            " 2D)                                                             \n",
            "                                                                 \n",
            " flatten_1 (Flatten)         (None, 2304)              0         \n",
            "                                                                 \n",
            " dense_4 (Dense)             (None, 256)               590080    \n",
            "                                                                 \n",
            " dense_5 (Dense)             (None, 128)               32896     \n",
            "                                                                 \n",
            " dense_6 (Dense)             (None, 10)                1290      \n",
            "                                                                 \n",
            "=================================================================\n",
            "Total params: 632,842\n",
            "Trainable params: 632,842\n",
            "Non-trainable params: 0\n",
            "_________________________________________________________________\n"
          ]
        }
      ]
    },
    {
      "cell_type": "code",
      "source": [
        "# plot using a utility function\n",
        "tf.keras.utils.plot_model(model, to_file=\"my_model.png\", show_shapes=True, show_layer_names=True)\n",
        "# where is it? \n",
        "# This file, my_model.png, is under your Colab folder.\n",
        "# Go to the left, click on the \"Folder\" button, and you should see this png file."
      ],
      "metadata": {
        "colab": {
          "base_uri": "https://localhost:8080/",
          "height": 976
        },
        "id": "eEQfok7KEzdN",
        "outputId": "c5ef44e1-448f-4664-b5f5-ef29b60fc699"
      },
      "execution_count": null,
      "outputs": [
        {
          "output_type": "execute_result",
          "data": {
            "text/plain": [
              "<IPython.core.display.Image object>"
            ],
            "image/png": "[encoded data removed]"
          },
          "metadata": {},
          "execution_count": 43
        }
      ]
    },
    {
      "cell_type": "code",
      "source": [
        "# compile\n",
        "model.compile(\n",
        "    ## Your Changes Start Here ##\n",
        "    # optimizer: https://keras.io/api/optimizers/\n",
        "    # loss: https://keras.io/api/losses/\n",
        "    optimizer=\"adam\",\n",
        "    loss=\"categorical_crossentropy\",\n",
        "    ## Your Changes Ends Here ##\n",
        "    metrics=['accuracy']\n",
        ")"
      ],
      "metadata": {
        "id": "AeaYQBpqFBRF"
      },
      "execution_count": null,
      "outputs": []
    },
    {
      "cell_type": "code",
      "source": [
        "# load gpu\n",
        "%tensorflow_version 2.x\n",
        "import tensorflow as tf\n",
        "device_name = tf.test.gpu_device_name()\n",
        "if device_name != '/device:GPU:0':\n",
        "  raise SystemError('GPU device not found')\n",
        "print('Found GPU at: {}'.format(device_name))"
      ],
      "metadata": {
        "colab": {
          "base_uri": "https://localhost:8080/"
        },
        "id": "BG9ViI6IFh-c",
        "outputId": "b90dee49-a833-4b96-c7be-ce553eedae98"
      },
      "execution_count": null,
      "outputs": [
        {
          "output_type": "stream",
          "name": "stdout",
          "text": [
            "Found GPU at: /device:GPU:0\n"
          ]
        }
      ]
    },
    {
      "cell_type": "code",
      "source": [
        "# fit | we train the model here\n",
        "# use GPU\n",
        "with tf.device('/device:GPU:0'):\n",
        "    history = model.fit(\n",
        "        training_images, training_labels_one_hot_encoded,\n",
        "        validation_split=0.2,\n",
        "        ## Your Changes Start Here ##\n",
        "        # there is a sweet spot, you don't want to overfit, but you also want to make sure your model learned something\n",
        "        epochs=10\n",
        "        ## Your Changes Ends Here ##\n",
        "    )"
      ],
      "metadata": {
        "colab": {
          "base_uri": "https://localhost:8080/"
        },
        "id": "e5Ud7WCuFbnU",
        "outputId": "08dc71c9-5333-453d-b5b3-09a36cb37e7d"
      },
      "execution_count": null,
      "outputs": [
        {
          "output_type": "stream",
          "name": "stdout",
          "text": [
            "Epoch 1/10\n",
            "1500/1500 [==============================] - 7s 4ms/step - loss: 0.1569 - accuracy: 0.9514 - val_loss: 0.0606 - val_accuracy: 0.9830\n",
            "Epoch 2/10\n",
            "1500/1500 [==============================] - 6s 4ms/step - loss: 0.0481 - accuracy: 0.9849 - val_loss: 0.0481 - val_accuracy: 0.9868\n",
            "Epoch 3/10\n",
            "1500/1500 [==============================] - 6s 4ms/step - loss: 0.0317 - accuracy: 0.9899 - val_loss: 0.0553 - val_accuracy: 0.9840\n",
            "Epoch 4/10\n",
            "1500/1500 [==============================] - 6s 4ms/step - loss: 0.0254 - accuracy: 0.9919 - val_loss: 0.0757 - val_accuracy: 0.9781\n",
            "Epoch 5/10\n",
            "1500/1500 [==============================] - 6s 4ms/step - loss: 0.0202 - accuracy: 0.9939 - val_loss: 0.0533 - val_accuracy: 0.9867\n",
            "Epoch 6/10\n",
            "1500/1500 [==============================] - 6s 4ms/step - loss: 0.0153 - accuracy: 0.9950 - val_loss: 0.0432 - val_accuracy: 0.9900\n",
            "Epoch 7/10\n",
            "1500/1500 [==============================] - 6s 4ms/step - loss: 0.0115 - accuracy: 0.9960 - val_loss: 0.0612 - val_accuracy: 0.9868\n",
            "Epoch 8/10\n",
            "1500/1500 [==============================] - 6s 4ms/step - loss: 0.0096 - accuracy: 0.9969 - val_loss: 0.0519 - val_accuracy: 0.9884\n",
            "Epoch 9/10\n",
            "1500/1500 [==============================] - 6s 4ms/step - loss: 0.0079 - accuracy: 0.9975 - val_loss: 0.0693 - val_accuracy: 0.9868\n",
            "Epoch 10/10\n",
            "1500/1500 [==============================] - 6s 4ms/step - loss: 0.0101 - accuracy: 0.9966 - val_loss: 0.0595 - val_accuracy: 0.9894\n"
          ]
        }
      ]
    },
    {
      "cell_type": "markdown",
      "source": [
        "### Evaluation"
      ],
      "metadata": {
        "id": "39NRc5Tm6dH9"
      }
    },
    {
      "cell_type": "code",
      "source": [
        "# quick evaluation on test set\n",
        "this_final_loss_, this_final_acc_ = model.evaluate(test_images, test_labels_one_hot_encoded)\n",
        "print('Test Result: Loss is '+str(this_final_loss_)+', and accuracy is '+str(this_final_acc_))"
      ],
      "metadata": {
        "colab": {
          "base_uri": "https://localhost:8080/"
        },
        "outputId": "9f84a673-b220-4fc9-8b27-5bb0ec0fcbb5",
        "id": "Wwf9NNPF6dIC"
      },
      "execution_count": null,
      "outputs": [
        {
          "output_type": "stream",
          "name": "stdout",
          "text": [
            "313/313 [==============================] - 1s 3ms/step - loss: 0.0500 - accuracy: 0.9884\n",
            "Test Result: Loss is 0.049962837249040604, and accuracy is 0.9883999824523926\n"
          ]
        }
      ]
    },
    {
      "cell_type": "markdown",
      "source": [
        "## Visualize Performance"
      ],
      "metadata": {
        "id": "xIb2ZZKxGEHu"
      }
    },
    {
      "cell_type": "code",
      "source": [
        "plt.plot(history.history['loss'])\n",
        "plt.plot(history.history['val_loss'])\n",
        "plt.legend(['loss', 'val_loss'])\n",
        "plt.title('loss')"
      ],
      "metadata": {
        "colab": {
          "base_uri": "https://localhost:8080/",
          "height": 299
        },
        "outputId": "1944f54c-18bc-45c7-a4c5-9c96dc1595e5",
        "id": "odz4GzkbGEHz"
      },
      "execution_count": null,
      "outputs": [
        {
          "output_type": "execute_result",
          "data": {
            "text/plain": [
              "Text(0.5, 1.0, 'loss')"
            ]
          },
          "metadata": {},
          "execution_count": 48
        },
        {
          "output_type": "display_data",
          "data": {
            "text/plain": [
              "<Figure size 432x288 with 1 Axes>"
            ],
            "image/png": "[encoded data removed]"
          },
          "metadata": {
            "needs_background": "light"
          }
        }
      ]
    },
    {
      "cell_type": "code",
      "source": [
        "# predict\n",
        "test_labels_one_hot_encoded_predicted = model.predict(test_images)\n",
        "test_labels_predicted = np.argmax(test_labels_one_hot_encoded_predicted, axis=1)\n",
        "print(test_labels.shape)\n",
        "print(test_labels_predicted.shape)"
      ],
      "metadata": {
        "colab": {
          "base_uri": "https://localhost:8080/"
        },
        "id": "FNWWb7-gOP-i",
        "outputId": "1f38eda9-8c6c-445a-8d3d-fc329c42cdcf"
      },
      "execution_count": null,
      "outputs": [
        {
          "output_type": "stream",
          "name": "stdout",
          "text": [
            "(10000,)\n",
            "(10000,)\n"
          ]
        }
      ]
    },
    {
      "cell_type": "code",
      "source": [
        "# confusion matrix\n",
        "conf_mat = metrics.confusion_matrix(y_true=test_labels, y_pred=test_labels_predicted)\n",
        "conf_mat"
      ],
      "metadata": {
        "colab": {
          "base_uri": "https://localhost:8080/"
        },
        "id": "278ENobkOP-j",
        "outputId": "d2c9ec2f-659e-43c1-86f3-abd850333b9b"
      },
      "execution_count": null,
      "outputs": [
        {
          "output_type": "execute_result",
          "data": {
            "text/plain": [
              "array([[ 976,    1,    0,    0,    1,    0,    1,    1,    0,    0],\n",
              "       [   0, 1132,    0,    0,    0,    0,    2,    0,    1,    0],\n",
              "       [   1,    0, 1022,    0,    0,    0,    0,    6,    3,    0],\n",
              "       [   0,    0,    0, 1004,    0,    2,    0,    1,    3,    0],\n",
              "       [   0,    3,    1,    0,  964,    0,    3,    2,    5,    4],\n",
              "       [   2,    0,    1,    7,    0,  875,    3,    0,    2,    2],\n",
              "       [   3,    4,    0,    0,    1,    5,  944,    0,    1,    0],\n",
              "       [   0,    3,    4,    2,    0,    0,    0, 1019,    0,    0],\n",
              "       [   1,    0,    1,    0,    0,    0,    0,    0,  972,    0],\n",
              "       [   0,    1,    1,    2,    6,    2,    0,   14,    7,  976]])"
            ]
          },
          "metadata": {},
          "execution_count": 50
        }
      ]
    },
    {
      "cell_type": "code",
      "source": [
        "# waht are the diagonals\n",
        "np.diagonal(conf_mat)"
      ],
      "metadata": {
        "colab": {
          "base_uri": "https://localhost:8080/"
        },
        "id": "DZP-xO_kOP-j",
        "outputId": "1f431265-d285-4596-ca07-3b99be981c1a"
      },
      "execution_count": null,
      "outputs": [
        {
          "output_type": "execute_result",
          "data": {
            "text/plain": [
              "array([ 976, 1132, 1022, 1004,  964,  875,  944, 1019,  972,  976])"
            ]
          },
          "metadata": {},
          "execution_count": 51
        }
      ]
    },
    {
      "cell_type": "code",
      "source": [
        "# sum of diagonal\n",
        "np.sum(np.diagonal(conf_mat))"
      ],
      "metadata": {
        "colab": {
          "base_uri": "https://localhost:8080/"
        },
        "id": "mgl9jfKaOP-j",
        "outputId": "0fb190b9-8d87-44a5-dce4-427c597e090a"
      },
      "execution_count": null,
      "outputs": [
        {
          "output_type": "execute_result",
          "data": {
            "text/plain": [
              "9884"
            ]
          },
          "metadata": {},
          "execution_count": 52
        }
      ]
    },
    {
      "cell_type": "code",
      "source": [
        "# sum of the matrix\n",
        "np.sum(conf_mat)"
      ],
      "metadata": {
        "colab": {
          "base_uri": "https://localhost:8080/"
        },
        "id": "G691BwcNOP-j",
        "outputId": "30ec2628-2a1b-4c29-c2a6-b5c6d5591b7e"
      },
      "execution_count": null,
      "outputs": [
        {
          "output_type": "execute_result",
          "data": {
            "text/plain": [
              "10000"
            ]
          },
          "metadata": {},
          "execution_count": 53
        }
      ]
    },
    {
      "cell_type": "code",
      "source": [
        "# accuracy\n",
        "np.sum(np.diagonal(conf_mat))/np.sum(conf_mat)"
      ],
      "metadata": {
        "colab": {
          "base_uri": "https://localhost:8080/"
        },
        "id": "miOhZQzhOP-j",
        "outputId": "8b734a32-91f7-4d1e-e3bc-9636ea2ac330"
      },
      "execution_count": null,
      "outputs": [
        {
          "output_type": "execute_result",
          "data": {
            "text/plain": [
              "0.9884"
            ]
          },
          "metadata": {},
          "execution_count": 54
        }
      ]
    },
    {
      "cell_type": "code",
      "source": [
        "# quick way\n",
        "from sklearn.metrics import confusion_matrix, ConfusionMatrixDisplay"
      ],
      "metadata": {
        "id": "nIxoU1XvOP-j"
      },
      "execution_count": null,
      "outputs": []
    },
    {
      "cell_type": "code",
      "source": [
        "# plot\n",
        "cm = confusion_matrix(test_labels, test_labels_predicted, labels=np.arange(10))\n",
        "disp = ConfusionMatrixDisplay(confusion_matrix=cm, display_labels=np.arange(10))\n",
        "disp.plot()\n",
        "plt.title('test acc='+str(round(np.sum(np.diagonal(conf_mat))/np.sum(conf_mat),3)))\n",
        "plt.show()"
      ],
      "metadata": {
        "colab": {
          "base_uri": "https://localhost:8080/",
          "height": 295
        },
        "id": "iniM0DE_OP-j",
        "outputId": "1a52394e-3f5d-4cf8-dfa5-e071248eea69"
      },
      "execution_count": null,
      "outputs": [
        {
          "output_type": "display_data",
          "data": {
            "text/plain": [
              "<Figure size 432x288 with 2 Axes>"
            ],
            "image/png": "[encoded data removed]"
          },
          "metadata": {
            "needs_background": "light"
          }
        }
      ]
    },
    {
      "cell_type": "markdown",
      "source": [
        "## Research Proposal\n",
        "\n",
        "Research proposal is a guideline of what you want to do with your project. You should start with a topic title and a punchline of your project.\n",
        "\n",
        "### Topic\n",
        "\n",
        "This project designs a deep Convolutional Neural Network (CNN) to classify images into different labels. The goal is to see whether advanced AI models such as deep CNN can recognize the patterns in the images.\n",
        "\n",
        "### Proposed Experiment\n",
        "\n",
        "This project starts with a baseline model. This is a simple neural network, also known as Artificial Neural Network (ANN). An ANN has dense layers and the layers are formed using a linear combination (these are the neurons in the dense layers) and an activation function.\n",
        "\n",
        "This project also investigates advanced models. This is a family of different Convolutional Neural Network (CNN). Models such as CNN are consist of convolutional layers. Give an example of a convolution operation.\n",
        "\n",
        "### Expected Results\n",
        "\n",
        "In a simple data such as MNIST Handwritten Digits, we expect baseline model to perform about 97% and advanced model to perform about 98%.\n",
        "\n",
        "For example, from the above experiments attempted, we can summarize the following table.\n",
        "\n",
        "| No. | Conv | Hidden | Performance |\n",
        "| --- | ---  | ---    | ---         | \n",
        "| 1   | 0    | [256, 128, 64] | 98% |\n",
        "| 2   | [32, 64] | [256, 128] | 99% |\n",
        "| ... | ...  | ...    | ...   |\n",
        "\n",
        "Can you detect a pattern here? If yes, how would you propose the next step?\n",
        "\n",
        "### Future Work\n",
        "\n",
        "This project will implement baseline model and advanced models on Chest X-ray image dataset. The project will build deep CNN model to help doctors to make diagnosis of lung cancer. \n",
        "\n",
        "In addition, optional work can be to investigate the explainability of the deep CNN models. CNN models, after tuning, can have high prediction performance. However, it requires additional work to help the doctors to explain how CNN work. This is the explainability side of the project that we can do if we have more time. "
      ],
      "metadata": {
        "id": "dIG8zolUFkRl"
      }
    }
  ]
}