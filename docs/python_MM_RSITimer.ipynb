{
 "cells": [
  {
   "cell_type": "markdown",
   "metadata": {},
   "source": [
    "## Timi"
   ]
  },
  {
   "cell_type": "code",
   "execution_count": 1,
   "metadata": {},
   "outputs": [
    {
     "name": "stdout",
     "output_type": "stream",
     "text": [
      "Collecting git+https://github.com/yiqiao-yin/YinPortfolioManagement.git\n",
      "  Cloning https://github.com/yiqiao-yin/YinPortfolioManagement.git to c:\\users\\eagle\\appdata\\local\\temp\\pip-req-build-h4sfha0r\n",
      "Requirement already satisfied (use --upgrade to upgrade): YinPortfolioManagement==1.0.0 from git+https://github.com/yiqiao-yin/YinPortfolioManagement.git in c:\\users\\eagle\\anaconda3\\lib\\site-packages\n",
      "Building wheels for collected packages: YinPortfolioManagement\n",
      "  Building wheel for YinPortfolioManagement (setup.py): started\n",
      "  Building wheel for YinPortfolioManagement (setup.py): finished with status 'done'\n",
      "  Created wheel for YinPortfolioManagement: filename=YinPortfolioManagement-1.0.0-py3-none-any.whl size=7572 sha256=7c5d1a03cb981cfd3fa8ef57303f41b0b6106942d9ff95392fab6e6276a3cdd6\n",
      "  Stored in directory: C:\\Users\\eagle\\AppData\\Local\\Temp\\pip-ephem-wheel-cache-gdivim1h\\wheels\\cc\\50\\76\\5d86e12f8b54a575a6ebf7d3c1fbdee08aa170fa4a4d1218b1\n",
      "Successfully built YinPortfolioManagement\n"
     ]
    },
    {
     "name": "stderr",
     "output_type": "stream",
     "text": [
      "  Running command git clone -q https://github.com/yiqiao-yin/YinPortfolioManagement.git 'C:\\Users\\eagle\\AppData\\Local\\Temp\\pip-req-build-h4sfha0r'\n"
     ]
    }
   ],
   "source": [
    "!pip install git+https://github.com/yiqiao-yin/YinPortfolioManagement.git"
   ]
  },
  {
   "cell_type": "code",
   "execution_count": null,
   "metadata": {},
   "outputs": [],
   "source": []
  },
  {
   "cell_type": "code",
   "execution_count": null,
   "metadata": {},
   "outputs": [],
   "source": []
  }
 ],
 "metadata": {
  "kernelspec": {
   "display_name": "Python 3",
   "language": "python",
   "name": "python3"
  },
  "language_info": {
   "codemirror_mode": {
    "name": "ipython",
    "version": 3
   },
   "file_extension": ".py",
   "mimetype": "text/x-python",
   "name": "python",
   "nbconvert_exporter": "python",
   "pygments_lexer": "ipython3",
   "version": "3.8.3"
  }
 },
 "nbformat": 4,
 "nbformat_minor": 4
}
