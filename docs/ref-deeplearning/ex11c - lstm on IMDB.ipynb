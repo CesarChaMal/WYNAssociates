{
  "nbformat": 4,
  "nbformat_minor": 0,
  "metadata": {
    "colab": {
      "provenance": [],
      "machine_shape": "hm"
    },
    "kernelspec": {
      "name": "python3",
      "display_name": "Python 3"
    },
    "accelerator": "GPU",
    "gpuClass": "standard"
  },
  "cells": [
    {
      "cell_type": "markdown",
      "metadata": {
        "id": "WMucfLUS1yhH"
      },
      "source": [
        "# What is this?\n",
        "\n",
        "This Jupyter Notebook contains Python code for building a LSTM Recurrent Neural Network that gives 87-88% accuracy on the IMDB Movie Review Sentiment Analysis Dataset.\n",
        "\n",
        "<p align='center'>\n",
        "    <img src=\"https://www.bouvet.no/bouvet-deler/explaining-recurrent-neural-networks/_/attachment/inline/dbb03f2e-cfa5-4914-88fd-422231379121:b9e76ed5b43ad981d8e9891158a192ec098c2314/Screenshot%202019-07-11%20at%2016.31.24.png\"></img>\n",
        "</p>\n",
        "\n",
        "More information is given on [this blogpost](https://www.bouvet.no/bouvet-deler/explaining-recurrent-neural-networks).\n",
        "\n",
        "We investigate the IMDB Movie Dataset.\n",
        "\n",
        "<p align=\"center\">\n",
        "    <img src=\"https://www.bouvet.no/bouvet-deler/explaining-recurrent-neural-networks/_/attachment/inline/0ad28f07-a532-4a1d-8b0b-c6bc817bb387:78002f0bda06e4dd4d2f70c27c86d4ef2388a7c0/Screenshot%202019-07-04%20at%2013.46.38.png\"></img>\n",
        "</p>\n",
        "\n",
        "This code is supplied without license, warranty or support. Feel free to do with it what you will."
      ]
    },
    {
      "cell_type": "markdown",
      "metadata": {
        "id": "wFUKGe4x3ala"
      },
      "source": [
        "## Built for Google Collaboratory\n",
        "\n",
        "Train your network more quickly in Google Collaboratory. From the **Runtime** menu select **Change Runtime** Type and choose \"GPU\"!\n",
        "\n",
        "Don't forget to select **Runtime** -> **Restart runtime** to put your changes into effect."
      ]
    },
    {
      "cell_type": "markdown",
      "metadata": {
        "id": "WP1VrbVp3sVu"
      },
      "source": [
        "## Setting up\n",
        "\n",
        "When running this for the first time you may get a warning telling you to restart the Runtime. You can ignore this, but feel free to select \"Runtime->Restart Runtime\" from the overhead menu if you encounter problems."
      ]
    },
    {
      "cell_type": "code",
      "metadata": {
        "id": "2e3txwbh3q76",
        "outputId": "fe815631-eaec-4d80-838d-a27414a20c0a",
        "colab": {
          "base_uri": "https://localhost:8080/"
        }
      },
      "source": [
        "# keras.datasets.imdb is broken in TensorFlow 1.13 and 1.14 due to numpy 1.16.3\n",
        "!pip install numpy==1.16.2\n",
        "\n",
        "# All the imports!\n",
        "import tensorflow as tf\n",
        "import numpy as np\n",
        "from tensorflow.keras.preprocessing import sequence\n",
        "from numpy import array\n",
        "\n",
        "# Supress deprecation warnings\n",
        "import logging\n",
        "logging.getLogger('tensorflow').disabled = True\n"
      ],
      "execution_count": 1,
      "outputs": [
        {
          "output_type": "stream",
          "name": "stdout",
          "text": [
            "Collecting numpy==1.16.2\n",
            "  Downloading numpy-1.16.2.zip (5.1 MB)\n",
            "\u001b[?25l     \u001b[90m━━━━━━━━━━━━━━━━━━━━━━━━━━━━━━━━━━━━━━━━\u001b[0m \u001b[32m0.0/5.1 MB\u001b[0m \u001b[31m?\u001b[0m eta \u001b[36m-:--:--\u001b[0m\r\u001b[2K     \u001b[91m━━━━━━━━━━━━━━━━━━━━━━━━━━━━━━━━━\u001b[0m\u001b[90m╺\u001b[0m\u001b[90m━━━━━━\u001b[0m \u001b[32m4.2/5.1 MB\u001b[0m \u001b[31m137.6 MB/s\u001b[0m eta \u001b[36m0:00:01\u001b[0m\r\u001b[2K     \u001b[90m━━━━━━━━━━━━━━━━━━━━━━━━━━━━━━━━━━━━━━━━\u001b[0m \u001b[32m5.1/5.1 MB\u001b[0m \u001b[31m79.8 MB/s\u001b[0m eta \u001b[36m0:00:00\u001b[0m\n",
            "\u001b[?25h  Preparing metadata (setup.py) ... \u001b[?25l\u001b[?25hdone\n",
            "Building wheels for collected packages: numpy\n",
            "  \u001b[1;31merror\u001b[0m: \u001b[1msubprocess-exited-with-error\u001b[0m\n",
            "  \n",
            "  \u001b[31m×\u001b[0m \u001b[32mpython setup.py bdist_wheel\u001b[0m did not run successfully.\n",
            "  \u001b[31m│\u001b[0m exit code: \u001b[1;36m1\u001b[0m\n",
            "  \u001b[31m╰─>\u001b[0m See above for output.\n",
            "  \n",
            "  \u001b[1;35mnote\u001b[0m: This error originates from a subprocess, and is likely not a problem with pip.\n",
            "  Building wheel for numpy (setup.py) ... \u001b[?25lerror\n",
            "\u001b[31m  ERROR: Failed building wheel for numpy\u001b[0m\u001b[31m\n",
            "\u001b[0m\u001b[?25h  Running setup.py clean for numpy\n",
            "  \u001b[1;31merror\u001b[0m: \u001b[1msubprocess-exited-with-error\u001b[0m\n",
            "  \n",
            "  \u001b[31m×\u001b[0m \u001b[32mpython setup.py clean\u001b[0m did not run successfully.\n",
            "  \u001b[31m│\u001b[0m exit code: \u001b[1;36m1\u001b[0m\n",
            "  \u001b[31m╰─>\u001b[0m See above for output.\n",
            "  \n",
            "  \u001b[1;35mnote\u001b[0m: This error originates from a subprocess, and is likely not a problem with pip.\n",
            "\u001b[31m  ERROR: Failed cleaning build dir for numpy\u001b[0m\u001b[31m\n",
            "\u001b[0mFailed to build numpy\n",
            "\u001b[31mERROR: Could not build wheels for numpy, which is required to install pyproject.toml-based projects\u001b[0m\u001b[31m\n",
            "\u001b[0m"
          ]
        }
      ]
    },
    {
      "cell_type": "markdown",
      "source": [
        "### Vocabulary Size"
      ],
      "metadata": {
        "id": "nGS3DM56wYhN"
      }
    },
    {
      "cell_type": "code",
      "source": [
        "# Fetch \"IMDB Movie Review\" data, constraining our reviews to\n",
        "# the 10000 most commonly used words\n",
        "vocab_size = 10000\n",
        "(x_train, y_train), (x_test, y_test) = tf.keras.datasets.imdb.load_data(num_words=vocab_size)\n",
        "\n",
        "# Map for readable classnames\n",
        "class_names = [\"Negative\", \"Positive\"]"
      ],
      "metadata": {
        "id": "ProT4bJrwXZP",
        "colab": {
          "base_uri": "https://localhost:8080/"
        },
        "outputId": "5a9f0147-a19d-4830-a033-3c32965b79e1"
      },
      "execution_count": 2,
      "outputs": [
        {
          "output_type": "stream",
          "name": "stdout",
          "text": [
            "Downloading data from https://storage.googleapis.com/tensorflow/tf-keras-datasets/imdb.npz\n",
            "17464789/17464789 [==============================] - 2s 0us/step\n"
          ]
        }
      ]
    },
    {
      "cell_type": "markdown",
      "metadata": {
        "id": "hdyHL8FF0JJy"
      },
      "source": [
        "## Create map for converting IMDB dataset to readable reviews\n",
        "\n",
        "Reviews in the IMDB dataset have been encoded as a sequence of integers. Luckily the dataset also\n",
        "contains an index for converting the reviews back into human readable form."
      ]
    },
    {
      "cell_type": "code",
      "metadata": {
        "id": "E05AweFu0Imt",
        "colab": {
          "base_uri": "https://localhost:8080/"
        },
        "outputId": "a43cb15f-d97f-43e3-c6af-98d759e514c4"
      },
      "source": [
        "# Get the word index from the dataset\n",
        "word_index = tf.keras.datasets.imdb.get_word_index()\n",
        "\n",
        "# Ensure that \"special\" words are mapped into human readable terms\n",
        "word_index = {k:(v+3) for k,v in word_index.items()}\n",
        "word_index[\"<PAD>\"] = 0\n",
        "word_index[\"<START>\"] = 1\n",
        "word_index[\"<UNKNOWN>\"] = 2\n",
        "word_index[\"<UNUSED>\"] = 3\n",
        "\n",
        "# Perform reverse word lookup and make it callable\n",
        "reverse_word_index = dict([(value, key) for (key, value) in word_index.items()])\n",
        "def decode_review(text):\n",
        "    return ' '.join([reverse_word_index.get(i, '?') for i in text])"
      ],
      "execution_count": 3,
      "outputs": [
        {
          "output_type": "stream",
          "name": "stdout",
          "text": [
            "Downloading data from https://storage.googleapis.com/tensorflow/tf-keras-datasets/imdb_word_index.json\n",
            "1641221/1641221 [==============================] - 1s 1us/step\n"
          ]
        }
      ]
    },
    {
      "cell_type": "markdown",
      "source": [
        "# IMDB: Data Processing"
      ],
      "metadata": {
        "id": "Up61SKxDNiMD"
      }
    },
    {
      "cell_type": "markdown",
      "metadata": {
        "id": "fFXK-g6G81sC"
      },
      "source": [
        "## Data Insight\n",
        "\n",
        "Here we take a closer look at our data. How many words do our reviews contain?\n",
        "\n",
        "And what do our review look like in machine and human readable form?\n"
      ]
    },
    {
      "cell_type": "code",
      "metadata": {
        "id": "yD1qHVBn81Y_",
        "outputId": "8f122f34-98df-485e-dd6d-2c9ea49e9ad9",
        "colab": {
          "base_uri": "https://localhost:8080/"
        }
      },
      "source": [
        "# Concatonate test and training datasets\n",
        "allreviews = np.concatenate((x_train, x_test), axis=0)\n",
        "\n",
        "# Review lengths across test and training whole datasets\n",
        "print(\"Maximum review length: {}\".format(len(max((allreviews), key=len))))\n",
        "print(\"Minimum review length: {}\".format(len(min((allreviews), key=len))))\n",
        "result = [len(x) for x in allreviews]\n",
        "print(\"Mean review length: {}\".format(np.mean(result)))\n",
        "\n",
        "# Print a review and it's class as stored in the dataset. Replace the number\n",
        "# to select a different review.\n",
        "print(\"\")\n",
        "print(\"Machine readable Review\")\n",
        "print(\"  Review Text: \" + str(x_train[60]))\n",
        "print(\"  Review Sentiment: \" + str(y_train[60]))\n",
        "\n",
        "# Print a review and it's class in human readable format. Replace the number\n",
        "# to select a different review.\n",
        "print(\"\")\n",
        "print(\"Human Readable Review\")\n",
        "print(\"  Review Text: \" + decode_review(x_train[60]))\n",
        "print(\"  Review Sentiment: \" + class_names[y_train[60]])"
      ],
      "execution_count": 4,
      "outputs": [
        {
          "output_type": "stream",
          "name": "stdout",
          "text": [
            "Maximum review length: 2494\n",
            "Minimum review length: 7\n",
            "Mean review length: 234.75892\n",
            "\n",
            "Machine readable Review\n",
            "  Review Text: [1, 13, 219, 14, 33, 4, 2, 22, 1413, 12, 16, 373, 175, 2711, 1115, 1026, 430, 939, 16, 23, 2444, 25, 43, 697, 89, 12, 16, 170, 8, 130, 262, 19, 32, 4, 665, 7, 4, 2, 322, 5, 4, 1520, 7, 4, 86, 250, 10, 10, 4, 249, 173, 16, 4, 3891, 6, 19, 4, 167, 564, 5, 564, 1325, 36, 805, 8, 216, 638, 17, 2, 21, 25, 100, 376, 507, 4, 2110, 15, 79, 125, 23, 567, 13, 2134, 233, 36, 4852, 2, 5, 81, 1672, 10, 10, 92, 437, 129, 58, 13, 69, 8, 401, 61, 1432, 39, 1286, 46, 7, 12]\n",
            "  Review Sentiment: 0\n",
            "\n",
            "Human Readable Review\n",
            "  Review Text: <START> i saw this at the <UNKNOWN> film festival it was awful every clichéd violent rich boy fantasy was on display you just knew how it was going to end especially with all the shots of the <UNKNOWN> wife and the rape of the first girl br br the worst part was the q a with the director writer and writer producer they tried to come across as <UNKNOWN> but you could tell they're the types that get off on violence i bet anything they frequent <UNKNOWN> and do drugs br br don't waste your time i had to keep my boyfriend from walking out of it\n",
            "  Review Sentiment: Negative\n"
          ]
        }
      ]
    },
    {
      "cell_type": "markdown",
      "metadata": {
        "id": "mF-Votm66zD5"
      },
      "source": [
        "## Pre-processing Data\n",
        "\n",
        "We need to make sure that our reviews are of a uniform length. This is for the LSTM's parameters.\n",
        "\n",
        "<p align='center'><img src='https://miro.medium.com/max/805/1*0CJgssFgShpKAi5ITSuM5w.png' width=500></img></p>\n",
        "\n",
        "Another way is to use one-hot encode technique. The sentence \"I love cats\" could have a dictionary of [cats, i, love]. Using this dictionary, we can create the following transformation\n",
        "$$\n",
        "\\begin{bmatrix}\n",
        "\\text{cats} \\\\\n",
        "\\text{i} \\\\\n",
        "\\text{love}\\\\\n",
        "\\end{bmatrix}\n",
        "→\n",
        "\\begin{bmatrix}\n",
        "\\text{i} & \\text{love} & \\text{cats} \\\\\n",
        "0 & 0 & 1 \\\\\n",
        "1 & 0 & 0 \\\\\n",
        "0 & 1 & 0 \\\\\n",
        "\\end{bmatrix}\n",
        "$$\n",
        "\n",
        "Some reviews will need to be truncated, while others need to be padded."
      ]
    },
    {
      "cell_type": "code",
      "metadata": {
        "id": "uNtJTLJA6gaT",
        "outputId": "72424605-2c3d-4f77-f6b8-57f096c211a0",
        "colab": {
          "base_uri": "https://localhost:8080/"
        }
      },
      "source": [
        "# The length of reviews\n",
        "review_length = 300\n",
        "\n",
        "# Padding / truncated our reviews\n",
        "x_train = sequence.pad_sequences(x_train, maxlen = review_length)\n",
        "x_test = sequence.pad_sequences(x_test, maxlen = review_length)\n",
        "\n",
        "# Check the size of our datasets. Review data for both test and training should\n",
        "# contain 25000 reviews of 500 integers. Class data should contain 25000 values,\n",
        "# one for each review. Class values are 0 or 1, indicating a negative\n",
        "# or positive review.\n",
        "print(\"Shape Training Review Data: \" + str(x_train.shape))\n",
        "print(\"Shape Training Class Data: \" + str(y_train.shape))\n",
        "print(\"Shape Test Review Data: \" + str(x_test.shape))\n",
        "print(\"Shape Test Class Data: \" + str(y_test.shape))\n",
        "\n",
        "# Note padding is added to start of review, not the end\n",
        "print(\"\")\n",
        "print(\"Human Readable Review Text (post padding): \" + decode_review(x_train[60]))"
      ],
      "execution_count": 5,
      "outputs": [
        {
          "output_type": "stream",
          "name": "stdout",
          "text": [
            "Shape Training Review Data: (25000, 300)\n",
            "Shape Training Class Data: (25000,)\n",
            "Shape Test Review Data: (25000, 300)\n",
            "Shape Test Class Data: (25000,)\n",
            "\n",
            "Human Readable Review Text (post padding): <PAD> <PAD> <PAD> <PAD> <PAD> <PAD> <PAD> <PAD> <PAD> <PAD> <PAD> <PAD> <PAD> <PAD> <PAD> <PAD> <PAD> <PAD> <PAD> <PAD> <PAD> <PAD> <PAD> <PAD> <PAD> <PAD> <PAD> <PAD> <PAD> <PAD> <PAD> <PAD> <PAD> <PAD> <PAD> <PAD> <PAD> <PAD> <PAD> <PAD> <PAD> <PAD> <PAD> <PAD> <PAD> <PAD> <PAD> <PAD> <PAD> <PAD> <PAD> <PAD> <PAD> <PAD> <PAD> <PAD> <PAD> <PAD> <PAD> <PAD> <PAD> <PAD> <PAD> <PAD> <PAD> <PAD> <PAD> <PAD> <PAD> <PAD> <PAD> <PAD> <PAD> <PAD> <PAD> <PAD> <PAD> <PAD> <PAD> <PAD> <PAD> <PAD> <PAD> <PAD> <PAD> <PAD> <PAD> <PAD> <PAD> <PAD> <PAD> <PAD> <PAD> <PAD> <PAD> <PAD> <PAD> <PAD> <PAD> <PAD> <PAD> <PAD> <PAD> <PAD> <PAD> <PAD> <PAD> <PAD> <PAD> <PAD> <PAD> <PAD> <PAD> <PAD> <PAD> <PAD> <PAD> <PAD> <PAD> <PAD> <PAD> <PAD> <PAD> <PAD> <PAD> <PAD> <PAD> <PAD> <PAD> <PAD> <PAD> <PAD> <PAD> <PAD> <PAD> <PAD> <PAD> <PAD> <PAD> <PAD> <PAD> <PAD> <PAD> <PAD> <PAD> <PAD> <PAD> <PAD> <PAD> <PAD> <PAD> <PAD> <PAD> <PAD> <PAD> <PAD> <PAD> <PAD> <PAD> <PAD> <PAD> <PAD> <PAD> <PAD> <PAD> <PAD> <PAD> <PAD> <PAD> <PAD> <PAD> <PAD> <PAD> <PAD> <PAD> <PAD> <PAD> <PAD> <PAD> <PAD> <PAD> <PAD> <PAD> <PAD> <PAD> <PAD> <PAD> <PAD> <PAD> <PAD> <PAD> <PAD> <PAD> <START> i saw this at the <UNKNOWN> film festival it was awful every clichéd violent rich boy fantasy was on display you just knew how it was going to end especially with all the shots of the <UNKNOWN> wife and the rape of the first girl br br the worst part was the q a with the director writer and writer producer they tried to come across as <UNKNOWN> but you could tell they're the types that get off on violence i bet anything they frequent <UNKNOWN> and do drugs br br don't waste your time i had to keep my boyfriend from walking out of it\n"
          ]
        }
      ]
    },
    {
      "cell_type": "markdown",
      "source": [
        "# Model Architecture: Theory and Graphs"
      ],
      "metadata": {
        "id": "0WNLCfM8Nk88"
      }
    },
    {
      "cell_type": "markdown",
      "metadata": {
        "id": "BfOdV_VCCFee"
      },
      "source": [
        "## Create and build LSTM Recurrent Neural Network\n",
        "\n",
        "Given data $X$ and $Y$, we want to feed information forward into a time stamp. Then we form some belief and we make some initial predictions. We investigate our beliefs by looking at the loss function of the initial guesses and the real value. We update our model according to error we observed."
      ]
    },
    {
      "cell_type": "markdown",
      "source": [
        "### Architecture: Feed-forward\n",
        "\n",
        "Consider data with time stamp\n",
        "$$X_{\\langle 1 \\rangle} \\rightarrow X_{\\langle 2 \\rangle} \\rightarrow \\dots \\rightarrow X_{\\langle T \\rangle}$$\n",
        "and feed-forward architecture pass information through exactly as the following:\n",
        "$$\n",
        "\\text{Information in:} \\rightarrow\n",
        "\\begin{matrix}\n",
        "\\{Y_{\\langle 1 \\rangle}, ..., Y_{\\langle k \\rangle}\\} & \\{Y_{\\langle 1 \\rangle}, ..., Y_{\\langle k \\rangle}\\} &       & \\{Y_{\\langle 1 \\rangle}, ..., Y_{\\langle k \\rangle}\\} \\\\\n",
        "\\updownarrow               & \\updownarrow               &       & \\updownarrow \\\\\n",
        "\\{\\hat{Y}_{\\langle 1 \\rangle}, ..., \\hat{Y}_{\\langle k \\rangle}\\} & \\{\\hat{Y}_{\\langle 1 \\rangle}, ..., \\hat{Y}_{\\langle k \\rangle}\\} &       & \\{\\hat{Y}_{\\langle 1 \\rangle}, ..., \\hat{Y}_{\\langle k \\rangle}\\} \\\\\n",
        "\\uparrow               & \\uparrow               &       & \\uparrow \\\\\n",
        "a_{\\langle 1 \\rangle} \\rightarrow    & a_{\\langle 2 \\rangle} \\rightarrow    & \\dots \\rightarrow & a_{\\langle T \\rangle} \\\\\n",
        "\\uparrow               & \\uparrow               &       & \\uparrow \\\\\n",
        "X_{\\langle 1 \\rangle}  & X_{\\langle 2 \\rangle}  & & X_{\\langle T \\rangle} \\\\\n",
        "\\uparrow               & \\uparrow               &       & \\uparrow \\\\\n",
        "w_{\\langle 1 \\rangle}, b_{0, \\langle 1 \\rangle}    & w_{\\langle 2 \\rangle}, b_{0, \\langle 2 \\rangle}    &       & w_{\\langle T \\rangle}, b_{0, \\langle T \\rangle} \\\\\n",
        "\\end{matrix}\n",
        "\\rightarrow\n",
        "\\text{Form beliefs about } Y_{\\langle T \\rangle}\n",
        "$$\n",
        "while the educated guesses $\\hat{Y}_{\\langle T \\rangle}$ are our beliefs about real $Y$ at time stamp $T$.\n",
        "\n",
        "To formally write out the forward propagation, the weights are implemented with the input features. There is a linear transformation and a non-linear transformation (or activation) inside of a hidden neuron. The neuron can be written by taking the following form\n",
        "$$\n",
        "\\begin{array}{}\n",
        "a_{\\langle t \\rangle} &=& h(z), \\text{ where } z := X_{\\langle t \\rangle} \\cdot w_{\\langle t \\rangle} + b_{\\langle t \\rangle} \\\\\n",
        "&=& h(X_{\\langle t \\rangle} \\cdot w_{\\langle t \\rangle} + b_{\\langle t \\rangle}), \\text{ choose sigmoid} \\\\\n",
        "&=& 1/(1+\\exp(-(X_{\\langle t \\rangle} \\cdot w_{\\langle t \\rangle} + b_{\\langle t \\rangle})))\n",
        "\\end{array}\n",
        "$$"
      ],
      "metadata": {
        "id": "IetEwhVEKDgc"
      }
    },
    {
      "cell_type": "markdown",
      "source": [
        "### Architecture: Feed-backward\n",
        "\n",
        "Let us clearly define our loss function to make sure we have a proper grip of our mistakes.\n",
        "$$\\mathcal{L} (y, \\hat{y}) = \\sum_t \\sum_k L(\\hat{y}_{\\langle t,k \\rangle} - y_{\\langle t,k \\rangle})^2$$\n",
        "and we can compute the gradient (notice $a$ is the activation function)\n",
        "$$\\triangledown \\mathcal{L} (y, \\hat{y}) = \\frac{\\partial }{\\partial W} \\frac{\\partial }{\\partial a} \\mathcal{L} (y, \\hat{y})$$\n",
        "where $W = \\{\\vec{w}, b\\}$ and then with respect with parameters $\\vec{w}$ and $b$ where $b$ is the bias (you do not have to have it),\n",
        "$$\\frac{\\partial}{\\partial \\vec{w}} \\frac{\\partial}{\\partial a} \\mathcal{L} (y, \\hat{y}), \\frac{\\partial}{\\partial b}  \\frac{\\partial}{\\partial a} \\mathcal{L} (y, \\hat{y})$$\n",
        "and now with perspective of where we make our mistakes according to our parameters we can go backward\n",
        "$$\n",
        "\\text{Information in:} \\leftarrow\n",
        "\\underbrace{\n",
        "\\begin{matrix}\n",
        "\\{Y_{\\langle 1 \\rangle}, ..., Y_{\\langle k \\rangle}\\} & \\{Y_{\\langle 1 \\rangle}, ..., Y_{\\langle k \\rangle}\\} &       & \\{Y_{\\langle 1 \\rangle}, ..., Y_{\\langle k \\rangle}\\} \\\\\n",
        "\\updownarrow               & \\updownarrow               &       & \\updownarrow \\\\\n",
        "\\{\\hat{Y}_{\\langle 1 \\rangle}, ..., \\hat{Y}_{\\langle k \\rangle}\\} & \\{\\hat{Y}_{\\langle 1 \\rangle}, ..., \\hat{Y}_{\\langle k \\rangle}\\} &       & \\{\\hat{Y}_{\\langle 1 \\rangle}, ..., \\hat{Y}_{\\langle k \\rangle}\\} \\\\\n",
        "\\downarrow               & \\downarrow               &       & \\downarrow \\\\\n",
        "a_{\\langle 1 \\rangle} \\leftarrow    & a_{\\langle 2 \\rangle} \\leftarrow    & \\dots \\leftarrow & a_{\\langle T \\rangle} \\\\\n",
        "\\downarrow               & \\downarrow               &       & \\downarrow \\\\\n",
        "X_{\\langle 1 \\rangle}  & X_{\\langle 2 \\rangle}  & & X_{\\langle T \\rangle} \\\\\n",
        "\\downarrow               & \\downarrow               &       & \\downarrow \\\\\n",
        "w'_{\\langle 1 \\rangle}, b'_{0, \\langle 1 \\rangle}    & w'_{\\langle 2 \\rangle}, b'_{0, \\langle 2 \\rangle}    &       & w'_{\\langle T \\rangle}, b'_{0, \\langle T \\rangle} \\\\\n",
        "\\end{matrix}}_{\\text{Update: } w, b \\text{ with } w', b'}\n",
        "\\leftarrow\n",
        "\\text{Total Loss: } \\mathcal{L} (\\hat{y}, y)\n",
        "$$\n",
        "and the *update* action in the above architecture is dependent on your optimizer specified in the algorithm. To formally describe the gradient descent algorithm, we can write, for each step $s$, update weights to be the following\n",
        "$$\n",
        "\\begin{array}{}\n",
        "W_s &=& W_{s-1} - \\eta \\cdot \\nabla \\mathcal{L}(y, \\hat{y} \\\\\n",
        "&=& \\{\\vec{w}_{s-1}, b_{s-1}\\} - \\eta \\cdot \\{\\frac{\\partial}{\\partial \\vec{w}} \\frac{\\partial}{\\partial a} \\mathcal{L} (y, \\hat{y}), \\frac{\\partial}{\\partial b}  \\frac{\\partial}{\\partial a} \\mathcal{L} (y, \\hat{y})\\} \\\\\n",
        "\\end{array}\n",
        "$$\n",
        "\n",
        "Andrew Ng has a [video](https://www.coursera.org/lecture/nlp-sequence-models/backpropagation-through-time-bc7ED) on Coursera explaining Backward Propagation Through Time."
      ],
      "metadata": {
        "id": "uC6j45XYKFub"
      }
    },
    {
      "cell_type": "markdown",
      "source": [
        "## Embedding\n",
        "\n",
        "Embedding layer turns positive integers (indexes) into dense vectors of fixed size.\n",
        "\n",
        "```\n",
        "eg. [[4], [20]] -> [[0.25, 0.1], [0.6, -0.2]]\n",
        "```\n",
        "\n",
        "<p align='center'><img src='https://github.com/yiqiao-yin/WYNAssociates/blob/main/figs/layer_embedding.png?raw=true' width=800></img></p>\n"
      ],
      "metadata": {
        "id": "V04BSbvVIyoo"
      }
    },
    {
      "cell_type": "code",
      "source": [
        "# We begin by defining the a empty stack. We'll use this for building our\n",
        "# network, later by layer.\n",
        "model = tf.keras.models.Sequential()\n",
        "\n",
        "# The Embedding Layer provides a spatial mapping (or Word Embedding) of all the\n",
        "# individual words in our training set. Words close to one another share context\n",
        "# and or meaning. This spatial mapping is learning during the training process.\n",
        "model.add(\n",
        "    tf.keras.layers.Embedding(\n",
        "        input_dim = vocab_size, # The size of our vocabulary\n",
        "        output_dim = 64, # Dimensions to which each words shall be mapped\n",
        "        input_length = review_length # Length of input sequences\n",
        "    )\n",
        ")"
      ],
      "metadata": {
        "id": "tChiwU_qsFjQ"
      },
      "execution_count": 6,
      "outputs": []
    },
    {
      "cell_type": "markdown",
      "source": [
        "Recall the dimension of the input data."
      ],
      "metadata": {
        "id": "_UGfpjrps0pg"
      }
    },
    {
      "cell_type": "code",
      "source": [
        "# display shape\n",
        "x_train.shape"
      ],
      "metadata": {
        "colab": {
          "base_uri": "https://localhost:8080/"
        },
        "id": "npc4ULuMsREY",
        "outputId": "45715af9-34b5-469a-e199-3e2a9ba1ed8f"
      },
      "execution_count": 7,
      "outputs": [
        {
          "output_type": "execute_result",
          "data": {
            "text/plain": [
              "(25000, 300)"
            ]
          },
          "metadata": {},
          "execution_count": 7
        }
      ]
    },
    {
      "cell_type": "markdown",
      "source": [
        "These are the arguments required. Vocabulary size is define above. Review length is the length of the features, which is also defined above. The output dimension is a choice by the scientist."
      ],
      "metadata": {
        "id": "tU8svnRDs4YI"
      }
    },
    {
      "cell_type": "code",
      "source": [
        "# recall args\n",
        "vocab_size, review_length"
      ],
      "metadata": {
        "colab": {
          "base_uri": "https://localhost:8080/"
        },
        "id": "iGhMEhSRsgCo",
        "outputId": "ce6cd43c-09fb-4731-f4da-42b7b28b566c"
      },
      "execution_count": 8,
      "outputs": [
        {
          "output_type": "execute_result",
          "data": {
            "text/plain": [
              "(10000, 300)"
            ]
          },
          "metadata": {},
          "execution_count": 8
        }
      ]
    },
    {
      "cell_type": "markdown",
      "source": [
        "We can generate output without training anything. This will not be a trained model. However, the dimension should match and the *.predict()* function should work."
      ],
      "metadata": {
        "id": "HkiFzML4te7P"
      }
    },
    {
      "cell_type": "code",
      "source": [
        "# test\n",
        "some_fake_test_ = model.predict(x_train)\n",
        "some_fake_test_.shape"
      ],
      "metadata": {
        "colab": {
          "base_uri": "https://localhost:8080/"
        },
        "id": "o1z_E21gsKmv",
        "outputId": "8f0fa619-9adb-4b80-af85-a3a119c18904"
      },
      "execution_count": 9,
      "outputs": [
        {
          "output_type": "stream",
          "name": "stdout",
          "text": [
            "782/782 [==============================] - 1s 1ms/step\n"
          ]
        },
        {
          "output_type": "execute_result",
          "data": {
            "text/plain": [
              "(25000, 300, 64)"
            ]
          },
          "metadata": {},
          "execution_count": 9
        }
      ]
    },
    {
      "cell_type": "markdown",
      "source": [
        "## Dropout\n",
        "\n",
        "Simply put, dropout refers to ignoring units (i.e. neurons) during the training phase of certain set of neurons which is chosen at random. By “ignoring”, I mean these units are not considered during a particular forward or backward pass.\n",
        "\n",
        "Given that we know a bit about dropout, a question arises — why do we need dropout at all? Why do we need to literally shut-down parts of a neural networks?\n",
        "\n",
        "The answer to these questions is “to prevent over-fitting”.\n",
        "\n",
        "A fully connected layer occupies most of the parameters, and hence, neurons develop co-dependency amongst each other during training which curbs the individual power of each neuron leading to over-fitting of training data.\n",
        "\n",
        "<p align='center'><img src='https://miro.medium.com/max/1044/1*iWQzxhVlvadk6VAJjsgXgg.png' width=600></img></p>\n",
        "\n",
        "More see this [blog](https://medium.com/@amarbudhiraja/https-medium-com-amarbudhiraja-learning-less-to-learn-better-dropout-in-deep-machine-learning-74334da4bfc5)."
      ],
      "metadata": {
        "id": "v4fRjOmgI1IW"
      }
    },
    {
      "cell_type": "markdown",
      "source": [
        "## LSTM\n",
        "\n",
        "All recurrent neural networks have the form of a chain of repeating modules of neural network. In standard RNNs, this repeating module will have a very simple structure, such as a single tanh layer.\n",
        "\n",
        "<p align='center'><img src='https://colah.github.io/posts/2015-08-Understanding-LSTMs/img/LSTM3-SimpleRNN.png' width=600></img></p>\n",
        "\n",
        "\n",
        "LSTMs also have this chain like structure, but the repeating module has a different structure. Instead of having a single neural network layer, there are four, interacting in a very special way.\n",
        "\n",
        "<p align='center'><img src='https://colah.github.io/posts/2015-08-Understanding-LSTMs/img/LSTM3-chain.png' width=600></img></p>\n",
        "\n",
        "The cell state is kind of like a conveyor belt. It runs straight down the entire chain, with only some minor linear interactions. It’s very easy for information to just flow along it unchanged.\n",
        "\n",
        "<p align='center'><img src='https://colah.github.io/posts/2015-08-Understanding-LSTMs/img/LSTM3-C-line.png' width=600></img></p>\n",
        "\n",
        "Gates are a way to optionally let information through. They are composed out of a sigmoid neural net layer and a pointwise multiplication operation.\n",
        "\n",
        "<p align='center'><img src='https://colah.github.io/posts/2015-08-Understanding-LSTMs/img/LSTM3-gate.png' width=100></img></p>\n",
        "\n",
        "The first step in our LSTM is to decide what information we’re going to throw away from the cell state. This decision is made by a sigmoid layer called the “forget gate layer.”\n",
        "\n",
        "<p align='center'><img src='https://colah.github.io/posts/2015-08-Understanding-LSTMs/img/LSTM3-focus-f.png' width=600></img></p>\n",
        "\n",
        "The next step is to decide what new information we’re going to store in the cell state. This has two parts. First, a sigmoid layer called the “input gate layer” decides which values we’ll update. Next, a tanh layer creates a vector of new candidate values that could be added to the state.\n",
        "\n",
        "<p align='center'><img src='https://colah.github.io/posts/2015-08-Understanding-LSTMs/img/LSTM3-focus-i.png' width=600></img></p>\n",
        "\n",
        "It’s now time to update the old cell state and into the new cell state. The previous steps already decided what to do, we just need to actually do it.\n",
        "\n",
        "<p align='center'><img src='https://colah.github.io/posts/2015-08-Understanding-LSTMs/img/LSTM3-focus-C.png' width=600></img></p>\n",
        "\n",
        "Finally, we need to decide what we’re going to output. This output will be based on our cell state, but will be a filtered version. First, we run a sigmoid layer which decides what parts of the cell state we’re going to output. Then, we put the cell state through tanh (to push the values to be between −1 and 1) and multiply it by the output of the sigmoid gate, so that we only output the parts we decided to.\n",
        "\n",
        "<p align='center'><img src='https://colah.github.io/posts/2015-08-Understanding-LSTMs/img/LSTM3-focus-o.png' width=600></img></p>\n",
        "\n",
        "More can be read in this [blog](https://colah.github.io/posts/2015-08-Understanding-LSTMs/).\n",
        "\n",
        "\n"
      ],
      "metadata": {
        "id": "OT0UMFnmI2UV"
      }
    },
    {
      "cell_type": "markdown",
      "source": [
        "# Application: Build, Train, and Evaluate"
      ],
      "metadata": {
        "id": "UF8oXNFCNqs7"
      }
    },
    {
      "cell_type": "markdown",
      "source": [
        "## Build the Model: Simple RNN\n",
        "\n",
        "Build a single layer Recurrent Neural Network."
      ],
      "metadata": {
        "id": "IJxut6sivQg2"
      }
    },
    {
      "cell_type": "code",
      "source": [
        "# We begin by defining the a empty stack. We'll use this for building our\n",
        "# network, later by layer.\n",
        "model = tf.keras.models.Sequential()\n",
        "\n",
        "# The Embedding Layer provides a spatial mapping (or Word Embedding) of all the\n",
        "# individual words in our training set. Words close to one another share context\n",
        "# and or meaning. This spatial mapping is learning during the training process.\n",
        "model.add(\n",
        "    tf.keras.layers.Embedding(\n",
        "        input_dim = vocab_size, # The size of our vocabulary\n",
        "        output_dim = 16, # Dimensions to which each words shall be mapped\n",
        "        input_length = review_length # Length of input sequences\n",
        "    )\n",
        ")\n",
        "\n",
        "# Fully-connected RNN where the output is to be fed back to input.\n",
        "model.add(\n",
        "    tf.keras.layers.SimpleRNN(4) # unit: Positive integer, dimensionality of the output space\n",
        ")\n",
        "\n",
        "# All LSTM units are connected to a single node in the dense layer. A sigmoid\n",
        "# activation function determines the output from this node - a value\n",
        "# between 0 and 1. Closer to 0 indicates a negative review. Closer to 1\n",
        "# indicates a positive review.\n",
        "model.add(\n",
        "    tf.keras.layers.Dense(\n",
        "        units=1, # Single unit\n",
        "        activation='sigmoid' # Sigmoid activation function (output from 0 to 1)\n",
        "    )\n",
        ")\n",
        "\n",
        "# Compile the model\n",
        "model.compile(\n",
        "    loss=tf.keras.losses.binary_crossentropy, # loss function\n",
        "    optimizer=tf.keras.optimizers.Adam(), # optimiser function\n",
        "    metrics=['accuracy']) # reporting metric\n",
        "\n",
        "# Display a summary of the models structure\n",
        "model.summary()"
      ],
      "metadata": {
        "colab": {
          "base_uri": "https://localhost:8080/"
        },
        "id": "oQtzt9LvchD_",
        "outputId": "2fb35a03-5f07-42dc-de2c-ed2828762217"
      },
      "execution_count": 10,
      "outputs": [
        {
          "output_type": "stream",
          "name": "stdout",
          "text": [
            "Model: \"sequential_1\"\n",
            "_________________________________________________________________\n",
            " Layer (type)                Output Shape              Param #   \n",
            "=================================================================\n",
            " embedding_1 (Embedding)     (None, 300, 16)           160000    \n",
            "                                                                 \n",
            " simple_rnn (SimpleRNN)      (None, 4)                 84        \n",
            "                                                                 \n",
            " dense (Dense)               (None, 1)                 5         \n",
            "                                                                 \n",
            "=================================================================\n",
            "Total params: 160,089\n",
            "Trainable params: 160,089\n",
            "Non-trainable params: 0\n",
            "_________________________________________________________________\n"
          ]
        }
      ]
    },
    {
      "cell_type": "markdown",
      "source": [
        "### Train Simple RNN"
      ],
      "metadata": {
        "id": "n4kylHLGeAzu"
      }
    },
    {
      "cell_type": "code",
      "source": [
        "import tensorflow as tf\n",
        "device_name = tf.test.gpu_device_name()"
      ],
      "metadata": {
        "id": "56d3yZp1dpof"
      },
      "execution_count": 11,
      "outputs": []
    },
    {
      "cell_type": "code",
      "metadata": {
        "outputId": "f1a27a94-3b54-4f81-eee6-18ee5ae76be6",
        "colab": {
          "base_uri": "https://localhost:8080/"
        },
        "id": "IIKYaAfsdpof"
      },
      "source": [
        "# Train the LSTM on the training data\n",
        "with tf.device('/device:GPU:0'):\n",
        "    history = model.fit(\n",
        "\n",
        "        # Training data : features (review) and classes (positive or negative)\n",
        "        x_train, y_train,\n",
        "\n",
        "        # Number of samples to work through before updating the\n",
        "        # internal model parameters via back propagation. The\n",
        "        # higher the batch, the more memory you need.\n",
        "        batch_size=256,\n",
        "\n",
        "        # An epoch is an iteration over the entire training data.\n",
        "        epochs=10,\n",
        "\n",
        "        # The model will set apart his fraction of the training\n",
        "        # data, will not train on it, and will evaluate the loss\n",
        "        # and any model metrics on this data at the end of\n",
        "        # each epoch.\n",
        "        validation_split=0.2,\n",
        "\n",
        "        # Set verbose=1 if it is desired to have output printed.\n",
        "        # In some scenarios where output needs to be hidden, we\n",
        "        # set verbose=0.\n",
        "        verbose=1\n",
        "    )"
      ],
      "execution_count": 15,
      "outputs": [
        {
          "output_type": "stream",
          "name": "stdout",
          "text": [
            "Epoch 1/10\n",
            "79/79 [==============================] - 33s 347ms/step - loss: 0.6746 - accuracy: 0.6119 - val_loss: 0.6482 - val_accuracy: 0.7158\n",
            "Epoch 2/10\n",
            "79/79 [==============================] - 24s 306ms/step - loss: 0.5932 - accuracy: 0.8235 - val_loss: 0.5742 - val_accuracy: 0.8262\n",
            "Epoch 3/10\n",
            "79/79 [==============================] - 23s 291ms/step - loss: 0.5308 - accuracy: 0.8443 - val_loss: 0.5259 - val_accuracy: 0.8262\n",
            "Epoch 4/10\n",
            "79/79 [==============================] - 20s 260ms/step - loss: 0.4723 - accuracy: 0.8696 - val_loss: 0.4899 - val_accuracy: 0.8340\n",
            "Epoch 5/10\n",
            "79/79 [==============================] - 21s 260ms/step - loss: 0.4419 - accuracy: 0.8638 - val_loss: 0.4702 - val_accuracy: 0.8242\n",
            "Epoch 6/10\n",
            "79/79 [==============================] - 18s 229ms/step - loss: 0.4131 - accuracy: 0.8629 - val_loss: 0.4518 - val_accuracy: 0.8254\n",
            "Epoch 7/10\n",
            "79/79 [==============================] - 17s 222ms/step - loss: 0.3695 - accuracy: 0.8903 - val_loss: 0.4398 - val_accuracy: 0.8292\n",
            "Epoch 8/10\n",
            "79/79 [==============================] - 18s 223ms/step - loss: 0.3420 - accuracy: 0.8992 - val_loss: 0.4268 - val_accuracy: 0.8298\n",
            "Epoch 9/10\n",
            "79/79 [==============================] - 16s 208ms/step - loss: 0.3202 - accuracy: 0.9046 - val_loss: 0.4228 - val_accuracy: 0.8296\n",
            "Epoch 10/10\n",
            "79/79 [==============================] - 16s 201ms/step - loss: 0.3013 - accuracy: 0.9110 - val_loss: 0.4215 - val_accuracy: 0.8280\n"
          ]
        }
      ]
    },
    {
      "cell_type": "markdown",
      "source": [
        "### Plot"
      ],
      "metadata": {
        "id": "ustSMX80eDIf"
      }
    },
    {
      "cell_type": "code",
      "source": [
        "# import\n",
        "import matplotlib.pyplot as plt"
      ],
      "metadata": {
        "id": "Qz97Ha9fdXl_"
      },
      "execution_count": 16,
      "outputs": []
    },
    {
      "cell_type": "code",
      "source": [
        "# plot history\n",
        "plt.figure(figsize=(10,4))\n",
        "plt.subplot(1, 2, 1)\n",
        "plt.plot(history.history['loss'])\n",
        "plt.plot(history.history['val_loss'])\n",
        "plt.legend(['train', 'test'])\n",
        "plt.title('loss')\n",
        "plt.subplot(1, 2, 2)\n",
        "plt.plot(history.history['accuracy'])\n",
        "plt.plot(history.history['val_accuracy'])\n",
        "plt.legend(['train', 'test'])\n",
        "plt.title('accuracy')\n",
        "plt.show()"
      ],
      "metadata": {
        "colab": {
          "base_uri": "https://localhost:8080/",
          "height": 391
        },
        "id": "RRCBfloidXmE",
        "outputId": "93ff4dfe-ef47-4e1a-a16a-7a1755a7aa47"
      },
      "execution_count": 17,
      "outputs": [
        {
          "output_type": "display_data",
          "data": {
            "text/plain": [
              "<Figure size 1000x400 with 2 Axes>"
            ],
            "image/png": "[encoded data removed]"
          },
          "metadata": {}
        }
      ]
    },
    {
      "cell_type": "markdown",
      "source": [
        "## Build the Model: LSTM\n",
        "\n",
        "Build a Long Short Term Memory (LSTM) model and add multiple dense layers."
      ],
      "metadata": {
        "id": "zFWSZgp9dub1"
      }
    },
    {
      "cell_type": "code",
      "metadata": {
        "id": "8nmO8M4aCKwT",
        "outputId": "7735951a-b244-4a70-e6de-080c06d765f0",
        "colab": {
          "base_uri": "https://localhost:8080/"
        }
      },
      "source": [
        "# We begin by defining the a empty stack. We'll use this for building our\n",
        "# network, later by layer.\n",
        "model = tf.keras.models.Sequential()\n",
        "\n",
        "# The Embedding Layer provides a spatial mapping (or Word Embedding) of all the\n",
        "# individual words in our training set. Words close to one another share context\n",
        "# and or meaning. This spatial mapping is learning during the training process.\n",
        "model.add(\n",
        "    tf.keras.layers.Embedding(\n",
        "        input_dim = vocab_size, # The size of our vocabulary\n",
        "        output_dim = 16, # Dimensions to which each words shall be mapped\n",
        "        input_length = review_length # Length of input sequences\n",
        "    )\n",
        ")\n",
        "\n",
        "# Dropout layers fight overfitting and forces the model to learn multiple\n",
        "# representations of the same data by randomly disabling neurons in the\n",
        "# learning phase.\n",
        "model.add(\n",
        "    tf.keras.layers.Dropout(\n",
        "        rate=0.25 # Randomly disable 25% of neurons\n",
        "    )\n",
        ")\n",
        "\n",
        "# We are using a fast version of LSTM whih is optimised for GPUs. This layer\n",
        "# looks at the sequence of words in the review, along with their word embeddings\n",
        "# and uses both of these to determine to sentiment of a given review.\n",
        "model.add(\n",
        "    tf.keras.layers.LSTM(\n",
        "        units=32 # 32 LSTM units in this layer\n",
        "    )\n",
        ")\n",
        "\n",
        "# Add a second dropout layer with the same aim as the first.\n",
        "model.add(\n",
        "    tf.keras.layers.Dropout(\n",
        "        rate=0.25 # Randomly disable 25% of neurons\n",
        "    )\n",
        ")\n",
        "\n",
        "# All LSTM units are connected to a single node in the dense layer. A sigmoid\n",
        "# activation function determines the output from this node - a value\n",
        "# between 0 and 1. Closer to 0 indicates a negative review. Closer to 1\n",
        "# indicates a positive review.\n",
        "model.add(\n",
        "    tf.keras.layers.Dense(\n",
        "        units=1, # Single unit\n",
        "        activation='sigmoid' # Sigmoid activation function (output from 0 to 1)\n",
        "    )\n",
        ")\n",
        "\n",
        "# Compile the model\n",
        "model.compile(\n",
        "    loss=tf.keras.losses.binary_crossentropy, # loss function\n",
        "    optimizer=tf.keras.optimizers.Adam(), # optimiser function\n",
        "    metrics=['accuracy']) # reporting metric\n",
        "\n",
        "# Display a summary of the models structure\n",
        "model.summary()"
      ],
      "execution_count": 18,
      "outputs": [
        {
          "output_type": "stream",
          "name": "stdout",
          "text": [
            "Model: \"sequential_2\"\n",
            "_________________________________________________________________\n",
            " Layer (type)                Output Shape              Param #   \n",
            "=================================================================\n",
            " embedding_2 (Embedding)     (None, 300, 16)           160000    \n",
            "                                                                 \n",
            " dropout (Dropout)           (None, 300, 16)           0         \n",
            "                                                                 \n",
            " lstm (LSTM)                 (None, 32)                6272      \n",
            "                                                                 \n",
            " dropout_1 (Dropout)         (None, 32)                0         \n",
            "                                                                 \n",
            " dense_1 (Dense)             (None, 1)                 33        \n",
            "                                                                 \n",
            "=================================================================\n",
            "Total params: 166,305\n",
            "Trainable params: 166,305\n",
            "Non-trainable params: 0\n",
            "_________________________________________________________________\n"
          ]
        }
      ]
    },
    {
      "cell_type": "markdown",
      "metadata": {
        "id": "8Xx1Q2I8WNI9"
      },
      "source": [
        "### Visualise the Model"
      ]
    },
    {
      "cell_type": "code",
      "metadata": {
        "id": "cz0Erj2WU3Vh",
        "outputId": "7ebc1454-5057-41fe-a8d9-f9e8df38d7b8",
        "colab": {
          "base_uri": "https://localhost:8080/",
          "height": 644
        }
      },
      "source": [
        "tf.keras.utils.plot_model(model, to_file='model.png', show_shapes=True, show_layer_names=False)"
      ],
      "execution_count": 19,
      "outputs": [
        {
          "output_type": "execute_result",
          "data": {
            "image/png": "[encoded data removed]",
            "text/plain": [
              "<IPython.core.display.Image object>"
            ]
          },
          "metadata": {},
          "execution_count": 19
        }
      ]
    },
    {
      "cell_type": "markdown",
      "metadata": {
        "id": "5KdfAoHsGwzo"
      },
      "source": [
        "### Train the LSTM"
      ]
    },
    {
      "cell_type": "code",
      "source": [
        "import tensorflow as tf\n",
        "device_name = tf.test.gpu_device_name()"
      ],
      "metadata": {
        "id": "FzggVO33rDLB"
      },
      "execution_count": 20,
      "outputs": []
    },
    {
      "cell_type": "code",
      "metadata": {
        "id": "rEN1vV4nG1V3",
        "outputId": "3ad40a02-9660-40bd-ff47-44be61f15f79",
        "colab": {
          "base_uri": "https://localhost:8080/"
        }
      },
      "source": [
        "# Train the LSTM on the training data\n",
        "with tf.device('/device:GPU:0'):\n",
        "    history = model.fit(\n",
        "\n",
        "        # Training data : features (review) and classes (positive or negative)\n",
        "        x_train, y_train,\n",
        "\n",
        "        # Number of samples to work through before updating the\n",
        "        # internal model parameters via back propagation. The\n",
        "        # higher the batch, the more memory you need.\n",
        "        batch_size=256,\n",
        "\n",
        "        # An epoch is an iteration over the entire training data.\n",
        "        epochs=10,\n",
        "\n",
        "        # The model will set apart his fraction of the training\n",
        "        # data, will not train on it, and will evaluate the loss\n",
        "        # and any model metrics on this data at the end of\n",
        "        # each epoch.\n",
        "        validation_split=0.2,\n",
        "\n",
        "        # Set verbose=1 if it is desired to have output printed.\n",
        "        # In some scenarios where output needs to be hidden, we\n",
        "        # set verbose=0.\n",
        "        verbose=1\n",
        "    )"
      ],
      "execution_count": 21,
      "outputs": [
        {
          "output_type": "stream",
          "name": "stdout",
          "text": [
            "Epoch 1/10\n",
            "79/79 [==============================] - 15s 142ms/step - loss: 0.6549 - accuracy: 0.6346 - val_loss: 0.5275 - val_accuracy: 0.8044\n",
            "Epoch 2/10\n",
            "79/79 [==============================] - 11s 137ms/step - loss: 0.3858 - accuracy: 0.8536 - val_loss: 0.3611 - val_accuracy: 0.8550\n",
            "Epoch 3/10\n",
            "79/79 [==============================] - 9s 110ms/step - loss: 0.2497 - accuracy: 0.9064 - val_loss: 0.2867 - val_accuracy: 0.8856\n",
            "Epoch 4/10\n",
            "79/79 [==============================] - 6s 71ms/step - loss: 0.2124 - accuracy: 0.9237 - val_loss: 0.2991 - val_accuracy: 0.8852\n",
            "Epoch 5/10\n",
            "79/79 [==============================] - 6s 80ms/step - loss: 0.1663 - accuracy: 0.9428 - val_loss: 0.3147 - val_accuracy: 0.8894\n",
            "Epoch 6/10\n",
            "79/79 [==============================] - 5s 62ms/step - loss: 0.1428 - accuracy: 0.9520 - val_loss: 0.3265 - val_accuracy: 0.8806\n",
            "Epoch 7/10\n",
            "79/79 [==============================] - 4s 47ms/step - loss: 0.1197 - accuracy: 0.9620 - val_loss: 0.3169 - val_accuracy: 0.8816\n",
            "Epoch 8/10\n",
            "79/79 [==============================] - 4s 50ms/step - loss: 0.1042 - accuracy: 0.9663 - val_loss: 0.4370 - val_accuracy: 0.8748\n",
            "Epoch 9/10\n",
            "79/79 [==============================] - 3s 34ms/step - loss: 0.0978 - accuracy: 0.9675 - val_loss: 0.4231 - val_accuracy: 0.8768\n",
            "Epoch 10/10\n",
            "79/79 [==============================] - 4s 49ms/step - loss: 0.0804 - accuracy: 0.9746 - val_loss: 0.3690 - val_accuracy: 0.8754\n"
          ]
        }
      ]
    },
    {
      "cell_type": "code",
      "source": [
        "# import\n",
        "import matplotlib.pyplot as plt"
      ],
      "metadata": {
        "id": "NqsGmotUwWym"
      },
      "execution_count": 22,
      "outputs": []
    },
    {
      "cell_type": "code",
      "source": [
        "# plot history\n",
        "plt.figure(figsize=(10,4))\n",
        "plt.subplot(1, 2, 1)\n",
        "plt.plot(history.history['loss'])\n",
        "plt.plot(history.history['val_loss'])\n",
        "plt.legend(['train', 'test'])\n",
        "plt.title('loss')\n",
        "plt.subplot(1, 2, 2)\n",
        "plt.plot(history.history['accuracy'])\n",
        "plt.plot(history.history['val_accuracy'])\n",
        "plt.legend(['train', 'test'])\n",
        "plt.title('accuracy')\n",
        "plt.show()"
      ],
      "metadata": {
        "colab": {
          "base_uri": "https://localhost:8080/",
          "height": 391
        },
        "id": "e3asOXqDv9Je",
        "outputId": "2ca13a99-7cc3-4420-a26d-7fc9dd23544a"
      },
      "execution_count": 23,
      "outputs": [
        {
          "output_type": "display_data",
          "data": {
            "text/plain": [
              "<Figure size 1000x400 with 2 Axes>"
            ],
            "image/png": "[encoded data removed]"
          },
          "metadata": {}
        }
      ]
    },
    {
      "cell_type": "markdown",
      "source": [
        "## Save Model"
      ],
      "metadata": {
        "id": "PCpCTao7xraz"
      }
    },
    {
      "cell_type": "code",
      "source": [
        "model.save(\"lstm_model_sentiment_classification_on_imdb.h5\")"
      ],
      "metadata": {
        "id": "VmMk6sElxsEW"
      },
      "execution_count": 24,
      "outputs": []
    },
    {
      "cell_type": "markdown",
      "metadata": {
        "id": "rpCS2-jFH1KY"
      },
      "source": [
        "## Evaluate model with test data and view results"
      ]
    },
    {
      "cell_type": "code",
      "metadata": {
        "id": "nPnfxwbnITqV",
        "colab": {
          "base_uri": "https://localhost:8080/"
        },
        "outputId": "44778322-f85d-44d6-9bae-a39a1ad5442e"
      },
      "source": [
        "# Get Model Predictions for test data\n",
        "from sklearn.metrics import classification_report\n",
        "predicted_classes = model.predict(x_test)"
      ],
      "execution_count": 25,
      "outputs": [
        {
          "output_type": "stream",
          "name": "stdout",
          "text": [
            "782/782 [==============================] - 4s 4ms/step\n"
          ]
        }
      ]
    },
    {
      "cell_type": "code",
      "source": [
        "predicted_classes = (predicted_classes > 0.5).astype(int)"
      ],
      "metadata": {
        "id": "OZQ3GKjA4Pn7"
      },
      "execution_count": 26,
      "outputs": []
    },
    {
      "cell_type": "code",
      "source": [
        "print(classification_report(y_test, predicted_classes, target_names=class_names))"
      ],
      "metadata": {
        "id": "mvhWpt9n4NqL",
        "outputId": "1f10b4ef-3ba2-424a-93e3-67151c7530f8",
        "colab": {
          "base_uri": "https://localhost:8080/"
        }
      },
      "execution_count": 27,
      "outputs": [
        {
          "output_type": "stream",
          "name": "stdout",
          "text": [
            "              precision    recall  f1-score   support\n",
            "\n",
            "    Negative       0.86      0.87      0.86     12500\n",
            "    Positive       0.87      0.85      0.86     12500\n",
            "\n",
            "    accuracy                           0.86     25000\n",
            "   macro avg       0.86      0.86      0.86     25000\n",
            "weighted avg       0.86      0.86      0.86     25000\n",
            "\n"
          ]
        }
      ]
    },
    {
      "cell_type": "markdown",
      "metadata": {
        "id": "CkfHCIVHrJni"
      },
      "source": [
        "## View some incorrect predictions\n",
        "\n",
        "Lets have a look at some of the incorrectly classified reviews. For readability we remove the padding.\n",
        "\n"
      ]
    },
    {
      "cell_type": "code",
      "metadata": {
        "id": "bwKLBwBbp7zg",
        "outputId": "b69383d7-a00c-421e-b1ee-7113b5281268",
        "colab": {
          "base_uri": "https://localhost:8080/"
        }
      },
      "source": [
        "predicted_classes_reshaped = np.reshape(predicted_classes, 25000)\n",
        "\n",
        "incorrect = np.nonzero(predicted_classes_reshaped!=y_test)[0]\n",
        "\n",
        "# We select the first 10 incorrectly classified reviews\n",
        "for j, incorrect in enumerate(incorrect[0:20]):\n",
        "\n",
        "    predicted = class_names[predicted_classes_reshaped[incorrect]]\n",
        "    actual = class_names[y_test[incorrect]]\n",
        "    human_readable_review = decode_review(x_test[incorrect])\n",
        "\n",
        "    print(\"Incorrectly classified Test Review [\"+ str(j+1) +\"]\")\n",
        "    print(\"Test Review #\" + str(incorrect)  + \": Predicted [\"+ predicted + \"] Actual [\"+ actual + \"]\")\n",
        "    print(\"Test Review Text: \" + human_readable_review.replace(\"<PAD> \", \"\"))\n",
        "    print(\"\")"
      ],
      "execution_count": null,
      "outputs": [
        {
          "output_type": "stream",
          "name": "stdout",
          "text": [
            "Incorrectly classified Test Review [1]\n",
            "Test Review #2: Predicted [Negative] Actual [Positive]\n",
            "Test Review Text: alive simultaneously while <UNKNOWN> for his part is depicted as a <UNKNOWN> white <UNKNOWN> guy in the clouds who looks like he'd rather be taking a <UNKNOWN> when <UNKNOWN> sends them a tree like god who regards them the <UNKNOWN> decide that this is no improvement and demand a different king irritated <UNKNOWN> sends them a <UNKNOWN> br br delighted with this <UNKNOWN> looking new king who towers above them the <UNKNOWN> welcome him with a <UNKNOWN> of <UNKNOWN> dressed <UNKNOWN> the mayor steps forward to hand him the key to the <UNKNOWN> as <UNKNOWN> cameras record the event to everyone's horror the <UNKNOWN> promptly eats the mayor and then goes on a merry rampage <UNKNOWN> citizens at random a title card <UNKNOWN> reads news of the king's <UNKNOWN> throughout the kingdom when the now terrified <UNKNOWN> once more <UNKNOWN> <UNKNOWN> for help he loses his temper and <UNKNOWN> their community with lightning <UNKNOWN> the moral of our story delivered by a hapless frog just before he is eaten is let well enough alone br br considering the time period when this startling little film was made and considering the fact that it was made by a russian <UNKNOWN> at the height of that <UNKNOWN> country's civil war it would be easy to see this as a <UNKNOWN> about those events <UNKNOWN> may or may not have had <UNKNOWN> turmoil in mind when he made <UNKNOWN> but whatever <UNKNOWN> his choice of material the film stands as a <UNKNOWN> tale of universal <UNKNOWN> <UNKNOWN> could be the soviet union italy germany or japan in the 1930s or any country of any era that lets its guard down and is overwhelmed by <UNKNOWN> it's a fascinating film even a charming one in its macabre way but its message is no joke\n",
            "\n",
            "Incorrectly classified Test Review [2]\n",
            "Test Review #8: Predicted [Positive] Actual [Negative]\n",
            "Test Review Text: <START> hollywood had a long love affair with bogus <UNKNOWN> nights tales but few of these products have stood the test of time the most memorable were the jon hall maria <UNKNOWN> films which have long since become camp this one is filled with dubbed songs <UNKNOWN> <UNKNOWN> and slapstick it's a truly crop of corn and pretty near <UNKNOWN> today it was nominated for its imaginative special effects which are almost <UNKNOWN> in this day and age <UNKNOWN> mainly of trick photography the only outstanding positive feature which survives is its beautiful color and clarity sad to say of the many films made in this genre few of them come up to alexander <UNKNOWN> original thief of <UNKNOWN> almost any other <UNKNOWN> nights film is superior to this one though it's a loser\n",
            "\n",
            "Incorrectly classified Test Review [3]\n",
            "Test Review #17: Predicted [Positive] Actual [Negative]\n",
            "Test Review Text: <START> ed <UNKNOWN> mitchell is a teenager who lives for his job at good <UNKNOWN> a small but friendly neighborhood <UNKNOWN> stand while his buddy <UNKNOWN> thompson also works there but lack <UNKNOWN> single minded devotion to his job he's there because he accidentally destroyed the car of his teacher mr <UNKNOWN> <UNKNOWN> and has to raise money to pay the <UNKNOWN> when <UNKNOWN> <UNKNOWN> a <UNKNOWN> fast foot chain opens across the street it looks like good <UNKNOWN> is history until ed <UNKNOWN> a secret <UNKNOWN> that brings hundreds of new customers to their door however the <UNKNOWN> manager of <UNKNOWN> <UNKNOWN> kurt jan is determined to get his hands on the <UNKNOWN> and put good <UNKNOWN> out of business meanwhile ed and <UNKNOWN> must rescue <UNKNOWN> <UNKNOWN> <UNKNOWN> the world's oldest fast food employee from the demented hills asylum and ed might just find love with <UNKNOWN> jackson if he could take his mind off the <UNKNOWN> long enough to pay attention to her good <UNKNOWN> is a comedy directed for kids decent story acting and overall a pretty harmless kids movie\n",
            "\n",
            "Incorrectly classified Test Review [4]\n",
            "Test Review #32: Predicted [Positive] Actual [Negative]\n",
            "Test Review Text: <START> if you have never read the classic science fiction novel this mini series is based on it may actually be good unfortunately if you are a fan of the book you probably won't be able to watch more than the first hour or two all of the political intrigue has been taken out of the film the most important scenes from the book have been taken out characters motivations have been changed completely and words from the wrong characters mouths where in the novel paul was a teen age boy with incredible political skill and a great understanding of the way the world worked in this film he is hot headed and and frustrated avoid this movie at all costs\n",
            "\n",
            "Incorrectly classified Test Review [5]\n",
            "Test Review #49: Predicted [Negative] Actual [Positive]\n",
            "Test Review Text: <START> i can't understand why imdb users would rate this movie 5 2 10 it really is great very funny i would strongly recommend this movie for all of you adults teenagers and especially children br br the story is about a 14 year old kid who always tell lie at home and school one day he had his <UNKNOWN> of writing a 1000 word story but he didn't so the teacher told him to write it and gave her in 3 hours or he would have to go to summer school yep he wrote it in 2 45 big fat liar i think it was a story of himself on the way to the school he hit a <UNKNOWN> of a famous hollywood producer and he gave him a ride but the kid forgot the story in the <UNKNOWN> he told his parents and the teacher but of course they did not believe him and the movie producer he took the kid's story as his new movie big fat liar when the kid saw the trailer of the movie he told his parents he had written it but they didn't believe so he and his friend had to go to l a to prove one thing the truth is never overrated br br enjoy this great movie you won't be disappointed don't trust the 5 2 10 rate it should be 9 10 believe me br br p s so sorry my english isn't good enough to make a better comment\n",
            "\n",
            "Incorrectly classified Test Review [6]\n",
            "Test Review #66: Predicted [Positive] Actual [Negative]\n",
            "Test Review Text: i believe there is a line in film that cannot be crossed the line of making a movie purely for your own emotional needs and i feel that this is what has unintentionally happened here br br by his own admission the director had no technical experience at all and sadly this makes the movie come off looking like nothing more than a year twelve media project br br as for any <UNKNOWN> that this movie should be studied at school or that all teenagers should watch it not sure there either because there is a very dangerous line at the end i too have been in a place where i have thought that someone who no longer has to <UNKNOWN> <UNKNOWN> is <UNKNOWN> but as an adult i do worry that this line could be influential on a young viewer that was in a vulnerable frame of mind might be in there to promote discussion but again it reflects no possibility of redemption or joy in this story as a whole in fact it almost <UNKNOWN> that there is more sadness to come br br i haven't seen elephant but i just might go find it given all the comparisons here br br nothing personal here guys i do hope you can make another movie someday and we all have to start out somewhere so forgive me if i've been too harsh i am glad that you are proud of what you created which in the end is what life is all about it's not a movie i would recommend though br br oh i did like the way the time frames often <UNKNOWN> thought that was an interesting way to film br br but the whole its the quiet ones you have to watch we already know that\n",
            "\n",
            "Incorrectly classified Test Review [7]\n",
            "Test Review #80: Predicted [Negative] Actual [Positive]\n",
            "Test Review Text: <START> with the obvious exception of fools horses this was in my opinion david <UNKNOWN> finest series br br coming straight after his tv debut on <UNKNOWN> not <UNKNOWN> your set ' these 13 episodes revealed a <UNKNOWN> of comic timing not seen since the old silent movie days by comparison <UNKNOWN> open all hours and that awful series <UNKNOWN> man' did not come close br br i believe jason banned the series being repeated because it showed him at his <UNKNOWN> shame on him a new generation deserves to enjoy this the series actually <UNKNOWN> in the ratings but that is most likely because it was shown against 'the <UNKNOWN> which aired on bbc at the same time before <UNKNOWN> were <UNKNOWN> br br btw i have only just noticed that his long suffering assistant spencer was played by mark <UNKNOWN> alan <UNKNOWN> off <UNKNOWN> street i am amazed he didn't try to murder edgar <UNKNOWN>\n",
            "\n",
            "Incorrectly classified Test Review [8]\n",
            "Test Review #100: Predicted [Negative] Actual [Positive]\n",
            "Test Review Text: <START> a quick glance at the premise of this film would seem to indicate just another dumb <UNKNOWN> <UNKNOWN> <UNKNOWN> slash fest the type where sex equals death and the actors are all annoying stereotypes you actually want to die however delivers considerably more br br rather than focus on bare flesh and gore though there is a little of each no sex however the flick focuses on delivering impending dread <UNKNOWN> tension amidst a lovely <UNKNOWN> backdrop these feelings are further <UNKNOWN> by a cast of realistically likable characters and <UNKNOWN> that are more amoral than cardboard <UNKNOWN> of evil oh yeah george kennedy is here too and when is that not a good thing br br if you liked wrong turn then watch this to see where much of its' <UNKNOWN> came from\n",
            "\n",
            "Incorrectly classified Test Review [9]\n",
            "Test Review #101: Predicted [Negative] Actual [Positive]\n",
            "Test Review Text: <START> <UNKNOWN> is the first of its kind in turkish cinema and it's way better than i expected those people who say it's neither scary nor funny have a point it's not all that great indeed but it must be kept in mind that everyone involved with the movie is rather amateur so it's basically a maiden voyage and comparing this one to other films such as the 1st class garbage propaganda this movie is pretty damn good br br one thing that must be said it deals with the <UNKNOWN> <UNKNOWN> life in turkey very realistically that's exactly how it goes the scenes that are meant to scare are somewhat cheap and <UNKNOWN> most of them even if not all but that religion lesson scene made me laugh in tears and performs the best acting of this flick as a religion teacher br br it's not a waste of your time go and watch it you'll find it rather amusing especially if you know turkey enough to relate to turkish school lives\n",
            "\n",
            "Incorrectly classified Test Review [10]\n",
            "Test Review #115: Predicted [Positive] Actual [Negative]\n",
            "Test Review Text: <START> while the design and locations and photography are strong <UNKNOWN> in this film it is a turgid and melodramatic affair which demonstrates the limits of cinema to convey truth br br the case is the use of the soundtrack music a mix of <UNKNOWN> and andrew lloyd <UNKNOWN> that plays constantly and <UNKNOWN> and would have made max <UNKNOWN> <UNKNOWN> at its over use as it <UNKNOWN> the audience how difficult how <UNKNOWN> how tortured it is to be an artist and then it really counts the story the details at the end br br this <UNKNOWN> and <UNKNOWN> exploitation of emotions was once well <UNKNOWN> by peter <UNKNOWN> about a <UNKNOWN> <UNKNOWN> book this is not writing this is barbara <UNKNOWN> precisely the same critique can be made of this film a <UNKNOWN> <UNKNOWN> vanity project\n",
            "\n",
            "Incorrectly classified Test Review [11]\n",
            "Test Review #121: Predicted [Positive] Actual [Negative]\n",
            "Test Review Text: <START> i actually enjoyed if not for much more than mocking the production values dennis hopper was just fine although i wonder if he would have signed on the project had he seen the special effects they used and furthermore what was with the scene with the ninja that was just completely out of pace perhaps someone came up with the bright idea mid shooting oh well this movie is great if you're drunk and need a good laugh cheers\n",
            "\n",
            "Incorrectly classified Test Review [12]\n",
            "Test Review #126: Predicted [Negative] Actual [Positive]\n",
            "Test Review Text: <START> this was answer to fatal attraction and this is a classic film in its own right <UNKNOWN> <UNKNOWN> was good and so was sunny <UNKNOWN> but it was shah rukh khan who shot to fame as the stalker since then he has become a favourite of the <UNKNOWN> <UNKNOWN> <UNKNOWN> le <UNKNOWN> <UNKNOWN> to <UNKNOWN> <UNKNOWN> <UNKNOWN> <UNKNOWN> and de india shah rukh at first appears to be a villain but then towards the end you start to sympathize with him the scripting was superb and the songs were my favourites are too mere and <UNKNOWN> br br after the dismal failure of the underrated <UNKNOWN> <UNKNOWN> fought back with <UNKNOWN> the dialogues were memorable the k k <UNKNOWN> dialogue is often repeated since <UNKNOWN> <UNKNOWN> <UNKNOWN> has slipped bit <UNKNOWN> to <UNKNOWN> <UNKNOWN> was bad but he redeemed himself slightly with <UNKNOWN> <UNKNOWN> which was far far better this was <UNKNOWN> <UNKNOWN> last masterpiece\n",
            "\n",
            "Incorrectly classified Test Review [13]\n",
            "Test Review #134: Predicted [Negative] Actual [Positive]\n",
            "Test Review Text: <START> the <UNKNOWN> is a very worthwhile addition to recent re releases from the soviet union director 1977 film <UNKNOWN> the moral <UNKNOWN> of <UNKNOWN> and honor in german occupied russia during the second world war on foot and in a <UNKNOWN> two members of a <UNKNOWN> soviet group leave to locate supplies and are captured by nazi soldiers the focus of the movie is on how each man handles or <UNKNOWN> his moral <UNKNOWN> one chooses dignity and integrity while the other <UNKNOWN> for collaboration with the enemy however in the end he cannot <UNKNOWN> by his selfish decision the film makes much use of slow wide angle pans which shift to extreme closeups and highlight the spiritual <UNKNOWN> within the souls of each man this is not a great film but it does effectively portray an intense moral dilemma against the backdrop of a harsh and <UNKNOWN> soviet wilderness\n",
            "\n",
            "Incorrectly classified Test Review [14]\n",
            "Test Review #146: Predicted [Negative] Actual [Positive]\n",
            "Test Review Text: <START> i was shocked to learn that jimmy <UNKNOWN> has left this show does anyone know why i regard james as one of the all time <UNKNOWN> and wasn't surprised he ended up on tv which can be better than the crap you see on the big screen the stories are slick and the camera faster than a <UNKNOWN> bullet <UNKNOWN> forget the rest of the cast james vanessa <UNKNOWN> <UNKNOWN> molly josh mitch also can anyone tell me why on earth there's a crap theme tune on the dvd sets but <UNKNOWN> <UNKNOWN> of a little less conversation is used on the initial nbc <UNKNOWN> does it not make sense to use a tune that you would associate with the gambling <UNKNOWN> of america for dvd releases\n",
            "\n",
            "Incorrectly classified Test Review [15]\n",
            "Test Review #147: Predicted [Positive] Actual [Negative]\n",
            "Test Review Text: <START> having enjoyed neil <UNKNOWN> writing especially his collaboration with <UNKNOWN> in the dream hunters in the past i figured <UNKNOWN> to be a sure thing and was very disappointed the beginning live action section of the movie was intriguing enough the relationships between the characters was believable and easy to empathize with and i loved the sets the <UNKNOWN> and <UNKNOWN> artwork the subsequent computer generated scenes however were excruciating the dialogue was awkward and pretentious the interaction between the live actors and the cgi horrifying events occurred for the <UNKNOWN> reasons and most events seemed superfluous to whatever plot may have existed i only watched the first twenty or thirty minutes of the movie so i'm not exactly an authority but i strongly recommend that you don't watch any of it at all and stick with <UNKNOWN> strong written work\n",
            "\n",
            "Incorrectly classified Test Review [16]\n",
            "Test Review #152: Predicted [Positive] Actual [Negative]\n",
            "Test Review Text: were i not familiar with dozens of islands and cities in <UNKNOWN> and if i had never enjoyed the friendship of these <UNKNOWN> life <UNKNOWN> people i might have believed that this had something to do with modern <UNKNOWN> as a professor at a new jersey state college let me assure you that i am familiar with the history of the period covered in the film indeed my wife's uncle was murdered by the <UNKNOWN> during the communist grab for power my mother in law lived through the italian invasion and german <UNKNOWN> barely these characters on the screen speak greek they listen to greek music but who are they no they are not even vaguely greek of course they are not people at all but simply <UNKNOWN> they are that which the artist <UNKNOWN> when life does not entirely fit or is <UNKNOWN> to his perception of how it was or should have been all represent some aspect of post wwi <UNKNOWN> that greater outside forces <UNKNOWN> to a fate they didn't deserve as we <UNKNOWN> in the late 70's in america the revolution didn't happen for an <UNKNOWN> artist this is no joke it's in fact grounds to put us through two and a half hours of torment and it's all because the various powers <UNKNOWN> of guards in different colored uniforms didn't allow the generation after the <UNKNOWN> of <UNKNOWN> to follow the call of peace and freedom the music of <UNKNOWN> and his fellow musicians i e the movement the cause this dark surreal <UNKNOWN> <UNKNOWN> the true and heroic efforts of the greek people to sustain their lust for life through the <UNKNOWN> of the 20th century to achieve more than any of their <UNKNOWN> neighbors to have become so politically evolved and <UNKNOWN> integrated\n",
            "\n",
            "Incorrectly classified Test Review [17]\n",
            "Test Review #154: Predicted [Positive] Actual [Negative]\n",
            "Test Review Text: <START> i saw this movie many years ago and just for kicks decided to rent it and watch it again the plot is a <UNKNOWN> copy from fright night i did like the hairy vampire and the bug eating driver otherwise it was not good at all\n",
            "\n",
            "Incorrectly classified Test Review [18]\n",
            "Test Review #156: Predicted [Positive] Actual [Negative]\n",
            "Test Review Text: <START> i rented this when it came out on video <UNKNOWN> in 1995 after <UNKNOWN> it again my idea about it hasn't changed much br br i was an adult then and i'm still an adult now lol br br the illogical elements mentioned by other reviewers didn't bother me this isn't a documentary it's a fantasy story where animals can talk br br while i didn't care for much of the songs i liked the one at the end of the picture where it's sang by barry <UNKNOWN> and another person br br some people seem to make an excuse for it's primitive animation by saying that cgi wasn't used often in animated features but let's not forget that the lion king was released about a year earlier and that packed possibly more excellence than any animated feature that came before it br br but i think it's pretty fair to say that the <UNKNOWN> and the was made on the cheap while the lion king wasn't br br the high points for me in 1995 as well as today is the suspense generated by the few dangerous mostly underwater chase scenes br br i also liked the opening scene which takes place on a music notes page and a little bit of the love story but most of the time the story dragged on and was boring br br worth a look if you like animation but if you're an adult and not a risk taker go get another walt disney production instead of this\n",
            "\n",
            "Incorrectly classified Test Review [19]\n",
            "Test Review #174: Predicted [Negative] Actual [Positive]\n",
            "Test Review Text: <START> i'm not a fan of scratching but i really <UNKNOWN> this movie it gave me a real insight into a world i never had a clue existed and what else is a documentary for funny clever hip just like previous film hype about the <UNKNOWN> music scene\n",
            "\n",
            "Incorrectly classified Test Review [20]\n",
            "Test Review #176: Predicted [Negative] Actual [Positive]\n",
            "Test Review Text: primarily saved from being eaten by demonic flying creatures one of his student the monkey god managed to get him out from the battle in the nick of time but were in turn captured by the demons and cast into the deep throat of a dragon locked up in that particular <UNKNOWN> br br the monk <UNKNOWN> in a small village where he found <UNKNOWN> <UNKNOWN> the so called ugly <UNKNOWN> daughter who fell in love over him at first sight though ugly she did not let her appearance be casted aside from getting to him however a quest for <UNKNOWN> his three students soon turn out to be filled with obstacles and each of which turned out to get worse with <UNKNOWN> <UNKNOWN> following the monk problems <UNKNOWN> deeper and this is where conflicts between the relationship gets worse br br the rest of the tale would be left at your own <UNKNOWN> but suffice to say this film does not depict the typical storyline of the book it is more for those who wants to seek out for a funny and light picture of what journey to the west and the love obstacles really mean br br towards the very end the whole summary could be described with only one word and that is love the monk went to show the heavenly gates the <UNKNOWN> palace and <UNKNOWN> himself how love can overcome even the worst fear of all and deemed fit as the most powerful weapon that can be used against any enemy of superior powers br br a wonderfully created and funny acts <UNKNOWN> those who buys this ticket there would be of course no regrets at least from my side and those who were with me at the cinema that day watching the same film\n",
            "\n"
          ]
        }
      ]
    },
    {
      "cell_type": "markdown",
      "metadata": {
        "id": "OlAfxIoTrtYa"
      },
      "source": [
        "## Run your own text against the trained model\n",
        "\n",
        "This is a fun way to test out the limits of the trained model. To avoid getting errors - type in lower case only and do not use punctuation!\n",
        "\n",
        "You'll see the raw prediction from the model - basically a value between 0 and 1.\n",
        "\n"
      ]
    },
    {
      "cell_type": "code",
      "metadata": {
        "id": "UEKEB0DpD_8P",
        "outputId": "762b25df-51ea-4b15-9883-5b68dfefda56",
        "colab": {
          "base_uri": "https://localhost:8080/"
        }
      },
      "source": [
        "# Write your own review\n",
        "# review = \"this was a terrible film with too much sex and violence i walked out halfway through\"\n",
        "review = \"i hate this movie the plot is awful and i do not want to see the movie by this director ever again\"\n",
        "\n",
        "# Encode review (replace word with integers)\n",
        "tmp = []\n",
        "for word in review.split(\" \"):\n",
        "    tmp.append(word_index[word])\n",
        "\n",
        "# Ensure review is 500 words long (by padding or truncating)\n",
        "tmp_padded = sequence.pad_sequences([tmp], maxlen=review_length)\n",
        "\n",
        "# Run your processed review against the trained model\n",
        "rawprediction = model.predict(array([tmp_padded][0]))[0][0]\n",
        "prediction = int(round(rawprediction))\n",
        "\n",
        "# Test the model and print the result\n",
        "print(\"Review: \" + review)\n",
        "print(\"Raw Prediction: \" + str(rawprediction))\n",
        "print(\"Predicted Class: \" + class_names[prediction])"
      ],
      "execution_count": 28,
      "outputs": [
        {
          "output_type": "stream",
          "name": "stdout",
          "text": [
            "1/1 [==============================] - 0s 20ms/step\n",
            "Review: i hate this movie the plot is awful and i do not want to see the movie by this director ever again\n",
            "Raw Prediction: 0.053640094\n",
            "Predicted Class: Negative\n"
          ]
        }
      ]
    }
  ]
}