{
 "cells": [
  {
   "attachments": {},
   "cell_type": "markdown",
   "metadata": {},
   "source": [
    "## Libraries\n",
    "\n",
    "We use `numpy` to generate random numbers. We use `imgeio` to create animations, e.g. the `GIF` file. We use `matplotlib` to create plots of which we will save as images. We use `tqdm` to create progress bar for the for loop we will use."
   ]
  },
  {
   "cell_type": "code",
   "execution_count": 4,
   "metadata": {},
   "outputs": [],
   "source": [
    "import numpy as np\n",
    "import imageio as iio\n",
    "import matplotlib.pyplot as plt\n",
    "from tqdm import tqdm"
   ]
  },
  {
   "attachments": {},
   "cell_type": "markdown",
   "metadata": {},
   "source": [
    "## Algorithm\n",
    "\n",
    "We need to create 2 plots using `matplotlib`. The first plot we drop a bunch of dots on the circle of which we color code the dots that has $x$ and $y$ coordinates that is under the constraint: $x^2 + y^2 < 1$. The second plot we plot the value of estimated $\\pi$. "
   ]
  },
  {
   "cell_type": "code",
   "execution_count": 9,
   "metadata": {},
   "outputs": [
    {
     "name": "stderr",
     "output_type": "stream",
     "text": [
      "100%|██████████| 100/100 [00:32<00:00,  3.12it/s]\n"
     ]
    }
   ],
   "source": [
    "n_range = np.arange(100, 10001, 100)\n",
    "list_of_pi = list(np.repeat(None, len(n_range)))\n",
    "\n",
    "for i in tqdm(range(len(n_range))):\n",
    "    plt.figure(figsize=(10, 4))\n",
    "    n = n_range[i]\n",
    "    x = np.random.uniform(0, 1, n)\n",
    "    y = np.random.uniform(0, 1, n)\n",
    "    colors = ((x**2 + y**2) < 1).astype(int)\n",
    "    this_pi = colors.sum()/n*4\n",
    "    list_of_pi[i] = this_pi\n",
    "    plt.subplot(1, 2, 1)\n",
    "    plt.title(f'Sample size: {n_range[i]}')\n",
    "    plt.scatter(x, y, c=colors)\n",
    "    plt.subplot(1, 2, 2)\n",
    "    plt.title(f'Estimated pi = {np.round(this_pi,3)}')\n",
    "    plt.plot(n_range, list_of_pi, '-ok')\n",
    "    plt.savefig(\n",
    "        f'./output/img_{i}.png', \n",
    "        transparent = False,  \n",
    "        facecolor = 'white'\n",
    "    )\n",
    "    plt.close()"
   ]
  },
  {
   "attachments": {},
   "cell_type": "markdown",
   "metadata": {},
   "source": [
    "## Animation\n",
    "\n",
    "We use `imageio` to create the animation. Running the above code, we have saved many plots in a sub-folder called `output`. We will now go into the folder and grab all the images. We use `imageio` to pack all these images together into an animation and save it in the main directory."
   ]
  },
  {
   "cell_type": "code",
   "execution_count": 10,
   "metadata": {},
   "outputs": [
    {
     "name": "stderr",
     "output_type": "stream",
     "text": [
      "100%|██████████| 100/100 [00:00<00:00, 143.98it/s]\n"
     ]
    }
   ],
   "source": [
    "frames = []\n",
    "for i in tqdm(range(len(n_range))):\n",
    "    image = iio.v2.imread(f'./output/img_{i}.png')\n",
    "    frames.append(image)\n",
    "\n",
    "iio.mimsave(\n",
    "    './pi.gif', # output gif\n",
    "    frames,          # array of input frames\n",
    "    fps = 5)         # optional: frames per second\n"
   ]
  },
  {
   "attachments": {},
   "cell_type": "markdown",
   "metadata": {},
   "source": [
    "Enjoy your animation!\n",
    "\n",
    "![image](https://github.com/yiqiao-yin/WYNAssociates/blob/main/figs/pi.gif)"
   ]
  }
 ],
 "metadata": {
  "kernelspec": {
   "display_name": ".venv_specimen",
   "language": "python",
   "name": "python3"
  },
  "language_info": {
   "codemirror_mode": {
    "name": "ipython",
    "version": 3
   },
   "file_extension": ".py",
   "mimetype": "text/x-python",
   "name": "python",
   "nbconvert_exporter": "python",
   "pygments_lexer": "ipython3",
   "version": "3.9.7"
  },
  "orig_nbformat": 4,
  "vscode": {
   "interpreter": {
    "hash": "c806452b2bc06941f39b1e669d8e4e56c296f09b7ac9df653e29bb221a7c7e72"
   }
  }
 },
 "nbformat": 4,
 "nbformat_minor": 2
}
