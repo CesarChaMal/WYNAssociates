{
  "cells": [
    {
      "cell_type": "markdown",
      "metadata": {
        "id": "7qRouQU6CBYp"
      },
      "source": [
        "# Image Denoising\n",
        "\n",
        "In this notebook you will see an example of an **image denoising**, using an _autoencoder_, inspired into Francois Chollet [tutorial](https://blog.keras.io/building-autoencoders-in-keras.html)."
      ]
    },
    {
      "cell_type": "markdown",
      "metadata": {
        "id": "xQVZ7LqAkLfN"
      },
      "source": [
        "## What is an image denoising?\n",
        "\n",
        "An **image denoising** is an algorithm that learns _what_ is noise (in some _noisy image_) and _how_ to remove it, based into the _true signal_ / _original_ (image without noisy). The results are images very close to the true ones, for example, as in the image below:\n",
        "\n",
        "![Example of image denoising](https://upload.wikimedia.org/wikipedia/en/e/e8/ROF_Denoising_Example.png)"
      ]
    },
    {
      "cell_type": "markdown",
      "metadata": {
        "id": "3mS9b2VlkLfO"
      },
      "source": [
        "## Image denoising using autoencoders\n",
        "\n",
        "**Autoencoders** are based on _Neural Networks (NNs)_ and are known as **Convolutional Neural Networks** (**CNNs** or **convnets**). A **convnet** is a __Deep Learning algorithm__ which takes an input image, assign importance (learnable weight, biases and retains spatial relationships in the data into each one of theirs layers) to various aspects/parts in the image and is able to differentiate/reconstruct the same.\n",
        "\n",
        "The general idea behind this kind of code can be visualized here:\n",
        "\n",
        "![General autoencoder](https://www.pyimagesearch.com/wp-content/uploads/2020/02/keras_denoising_autoencoder_overview.png)\n",
        "\n",
        "Then, the **autoencoder** compreehends an _encoder_ and a _decoder_. The **encoder** does the _encoding process_, i.e., transforms the image into a _compressed representation_ at the same time that starts the noisy reduction. Then, the _compressed representation_ goes to **decoder** that performs the _decoder process_, restoring the image to its true and recognizable shape. At the end of the process, we remove almost all noise in the image."
      ]
    },
    {
      "cell_type": "markdown",
      "metadata": {
        "id": "PlefLaHBDM-d"
      },
      "source": [
        "## Libraries"
      ]
    },
    {
      "cell_type": "code",
      "execution_count": null,
      "metadata": {
        "id": "qck3CaT4RjqG"
      },
      "outputs": [],
      "source": [
        "import keras\n",
        "from keras import layers\n",
        "from keras.datasets import mnist\n",
        "import numpy as np\n",
        "import matplotlib.pyplot as plt"
      ]
    },
    {
      "cell_type": "markdown",
      "metadata": {
        "id": "8zuLUyPPDYbQ"
      },
      "source": [
        "## Data\n",
        "\n",
        "Here, we are using as our data the [MNIST](https://keras.io/api/datasets/mnist/) dataset.\n",
        "\n",
        "This is a dataset of 60 000 images of size 28 $\\times$ 28 grayscale images of hand written of 10 digits (0, 1, 2, 3, 4, 5, 6, 7, 8, 9), along with a test set of 10 000 images."
      ]
    },
    {
      "cell_type": "markdown",
      "metadata": {
        "id": "Es7vRf4TEGxT"
      },
      "source": [
        "### Importing data\n",
        "\n",
        "This dataset is mostly used in _classification problems_, that is why they have the images and a second information, the labels of each image.\n",
        "\n",
        "But, as we are going to map digits images to clean them, we are not going to use the labels.\n",
        "\n",
        "In this way, our process is going to take the **noised images** and clear the same based into the **true images** as _targets_."
      ]
    },
    {
      "cell_type": "code",
      "execution_count": null,
      "metadata": {
        "id": "nEuuZgQxRpjN",
        "outputId": "55182890-77e0-489f-bfa7-9545c4cd1c42",
        "colab": {
          "base_uri": "https://localhost:8080/"
        }
      },
      "outputs": [
        {
          "output_type": "stream",
          "name": "stdout",
          "text": [
            "Downloading data from https://storage.googleapis.com/tensorflow/tf-keras-datasets/mnist.npz\n",
            "11490434/11490434 [==============================] - 0s 0us/step\n"
          ]
        }
      ],
      "source": [
        "(x_train, _), (x_test, _) = mnist.load_data()"
      ]
    },
    {
      "cell_type": "code",
      "execution_count": null,
      "metadata": {
        "colab": {
          "base_uri": "https://localhost:8080/"
        },
        "id": "u_f1ANSIwvWQ",
        "outputId": "b0ff039d-810e-4990-8320-bf9bf4311a10"
      },
      "outputs": [
        {
          "output_type": "execute_result",
          "data": {
            "text/plain": [
              "((60000, 28, 28), (10000, 28, 28))"
            ]
          },
          "metadata": {},
          "execution_count": 3
        }
      ],
      "source": [
        "x_train.shape, x_test.shape"
      ]
    },
    {
      "cell_type": "code",
      "execution_count": null,
      "metadata": {
        "id": "lm5aObAyJ9KC"
      },
      "outputs": [],
      "source": [
        "dimension = x_train.shape[1]"
      ]
    },
    {
      "cell_type": "markdown",
      "metadata": {
        "id": "7iwNnFCcF0Ii"
      },
      "source": [
        "### Pre-processing data"
      ]
    },
    {
      "cell_type": "markdown",
      "metadata": {
        "id": "ySGkoOvGFaK4"
      },
      "source": [
        "Because here we are doing a simple example, we will use a fraction of the complete dataset: just 1000 images, dividing if on 700 as _train_ and 300 images as _test_."
      ]
    },
    {
      "cell_type": "code",
      "execution_count": null,
      "metadata": {
        "id": "98_nnVm9wzLO"
      },
      "outputs": [],
      "source": [
        "num_data = 1000\n",
        "frac_train = 0.7\n",
        "frac_test = 0.3\n",
        "x_train = x_train[0:int(frac_train*num_data)]\n",
        "x_test = x_test[0:int(frac_test*num_data)]"
      ]
    },
    {
      "cell_type": "markdown",
      "metadata": {
        "id": "u40Mvyi8GKwb"
      },
      "source": [
        "We are going to normalize the images between 0 and 1 and to reshape them."
      ]
    },
    {
      "cell_type": "code",
      "execution_count": null,
      "metadata": {
        "id": "CU7dOwLuRtqZ"
      },
      "outputs": [],
      "source": [
        "norm_factor = 255.\n",
        "x_train = x_train.astype('float32')/norm_factor\n",
        "x_test = x_test.astype('float32')/norm_factor\n",
        "x_train = np.reshape(x_train, (len(x_train), dimension, dimension, 1))\n",
        "x_test = np.reshape(x_test, (len(x_test), dimension, dimension, 1))"
      ]
    },
    {
      "cell_type": "markdown",
      "metadata": {
        "id": "bcqjoWCPHGcf"
      },
      "source": [
        "Here, we need to noisy the images, then, we apply a Gaussian noisy matrix and clip the images between 0 and 1."
      ]
    },
    {
      "cell_type": "code",
      "execution_count": null,
      "metadata": {
        "id": "Mvs20GYpR_2D"
      },
      "outputs": [],
      "source": [
        "noise_factor = 0.5\n",
        "x_train_noisy = x_train + noise_factor * np.random.normal(loc = 0.0, scale = 1.0, size = x_train.shape)\n",
        "x_test_noisy = x_test + noise_factor * np.random.normal(loc = 0.0, scale = 1.0, size = x_test.shape)\n",
        "\n",
        "x_train_noisy = np.clip(x_train_noisy, 0., 1.)\n",
        "x_test_noisy = np.clip(x_test_noisy, 0., 1.)"
      ]
    },
    {
      "cell_type": "markdown",
      "metadata": {
        "id": "zglXXB4WJtPf"
      },
      "source": [
        "Visualizing some noise images images."
      ]
    },
    {
      "cell_type": "code",
      "execution_count": null,
      "metadata": {
        "colab": {
          "base_uri": "https://localhost:8080/",
          "height": 743
        },
        "id": "9HO1aCFnSIe6",
        "outputId": "0eaf2af6-ad78-4092-f8e2-88072056cff5"
      },
      "outputs": [
        {
          "output_type": "display_data",
          "data": {
            "text/plain": [
              "<Figure size 500x500 with 2 Axes>"
            ],
            "image/png": "[encoded data removed]"
          },
          "metadata": {}
        },
        {
          "output_type": "display_data",
          "data": {
            "text/plain": [
              "<Figure size 500x500 with 2 Axes>"
            ],
            "image/png": "[encoded data removed]"
          },
          "metadata": {}
        },
        {
          "output_type": "display_data",
          "data": {
            "text/plain": [
              "<Figure size 500x500 with 2 Axes>"
            ],
            "image/png": "[encoded data removed]"
          },
          "metadata": {}
        }
      ],
      "source": [
        "n = 3\n",
        "for i in range(n):\n",
        "    fig, axes = plt.subplots(1, 2)\n",
        "    fig.set_size_inches(5, 5)\n",
        "    axes[0].set_title('True image')\n",
        "    im0 = axes[0].imshow(x_test[i].reshape(dimension, dimension), cmap = 'Reds')\n",
        "    axes[1].set_title('Noisy image')\n",
        "    im1 = axes[1].imshow(x_test_noisy[i].reshape(dimension, dimension), cmap = 'Reds')"
      ]
    },
    {
      "cell_type": "markdown",
      "metadata": {
        "id": "iRDLL0fAKQgr"
      },
      "source": [
        "## Building the Autoencoder"
      ]
    },
    {
      "cell_type": "markdown",
      "metadata": {
        "id": "jtXTZ0X5KfNj"
      },
      "source": [
        "Defining the input images for the **autoencoder**."
      ]
    },
    {
      "cell_type": "code",
      "execution_count": null,
      "metadata": {
        "id": "ItQ7wEhJSS_D"
      },
      "outputs": [],
      "source": [
        "input_img = keras.Input(shape = (dimension, dimension, 1))"
      ]
    },
    {
      "cell_type": "markdown",
      "metadata": {
        "id": "vmvHAWQ9Km6V"
      },
      "source": [
        "### Encoder"
      ]
    },
    {
      "cell_type": "code",
      "execution_count": null,
      "metadata": {
        "id": "o5gMXia7SYgJ"
      },
      "outputs": [],
      "source": [
        "x = layers.Conv2D(filters = 32, kernel_size = (3, 3), activation = 'relu', padding = 'same')(input_img)\n",
        "x = layers.MaxPooling2D(pool_size = (2, 2), padding = 'same')(x)\n",
        "x = layers.Conv2D(filters = 32, kernel_size = (3, 3), activation = 'relu', padding = 'same')(x)\n",
        "encoded = layers.MaxPooling2D(pool_size = (2, 2), padding = 'same')(x)"
      ]
    },
    {
      "cell_type": "markdown",
      "metadata": {
        "id": "jnN0Pb6TLEdl"
      },
      "source": [
        "### Decoder"
      ]
    },
    {
      "cell_type": "code",
      "execution_count": null,
      "metadata": {
        "id": "ZgnGidX0SxWJ"
      },
      "outputs": [],
      "source": [
        "x = layers.Conv2D(filters = 32, kernel_size = (3, 3), activation = 'relu', padding = 'same')(encoded)\n",
        "x = layers.UpSampling2D(size = (2, 2))(x)\n",
        "x = layers.Conv2D(filters = 32, kernel_size = (3, 3), activation = 'relu', padding = 'same')(x)\n",
        "x = layers.UpSampling2D(size = (2, 2))(x)\n",
        "decoded = layers.Conv2D(filters = 1, kernel_size = (3, 3), activation = 'sigmoid', padding = 'same')(x)"
      ]
    },
    {
      "cell_type": "markdown",
      "metadata": {
        "id": "59oEyALlLge_"
      },
      "source": [
        "### Autoencoder"
      ]
    },
    {
      "cell_type": "code",
      "execution_count": null,
      "metadata": {
        "id": "3CdahDXxS7b4"
      },
      "outputs": [],
      "source": [
        "autoencoder = keras.Model(input_img, decoded)"
      ]
    },
    {
      "cell_type": "markdown",
      "metadata": {
        "id": "8J55gRD_Lkmo"
      },
      "source": [
        "Visualizing the autoencoder."
      ]
    },
    {
      "cell_type": "code",
      "execution_count": null,
      "metadata": {
        "colab": {
          "base_uri": "https://localhost:8080/"
        },
        "id": "yhkLKtIMTDTs",
        "outputId": "9f2c6489-4c36-45d2-ba98-db134ea2b560"
      },
      "outputs": [
        {
          "output_type": "stream",
          "name": "stdout",
          "text": [
            "Model: \"model\"\n",
            "_________________________________________________________________\n",
            " Layer (type)                Output Shape              Param #   \n",
            "=================================================================\n",
            " input_1 (InputLayer)        [(None, 28, 28, 1)]       0         \n",
            "                                                                 \n",
            " conv2d (Conv2D)             (None, 28, 28, 32)        320       \n",
            "                                                                 \n",
            " max_pooling2d (MaxPooling2D  (None, 14, 14, 32)       0         \n",
            " )                                                               \n",
            "                                                                 \n",
            " conv2d_1 (Conv2D)           (None, 14, 14, 32)        9248      \n",
            "                                                                 \n",
            " max_pooling2d_1 (MaxPooling  (None, 7, 7, 32)         0         \n",
            " 2D)                                                             \n",
            "                                                                 \n",
            " conv2d_2 (Conv2D)           (None, 7, 7, 32)          9248      \n",
            "                                                                 \n",
            " up_sampling2d (UpSampling2D  (None, 14, 14, 32)       0         \n",
            " )                                                               \n",
            "                                                                 \n",
            " conv2d_3 (Conv2D)           (None, 14, 14, 32)        9248      \n",
            "                                                                 \n",
            " up_sampling2d_1 (UpSampling  (None, 28, 28, 32)       0         \n",
            " 2D)                                                             \n",
            "                                                                 \n",
            " conv2d_4 (Conv2D)           (None, 28, 28, 1)         289       \n",
            "                                                                 \n",
            "=================================================================\n",
            "Total params: 28,353\n",
            "Trainable params: 28,353\n",
            "Non-trainable params: 0\n",
            "_________________________________________________________________\n"
          ]
        }
      ],
      "source": [
        "autoencoder.summary()"
      ]
    },
    {
      "cell_type": "markdown",
      "metadata": {
        "id": "p53WqKowLriI"
      },
      "source": [
        "### Compilation"
      ]
    },
    {
      "cell_type": "code",
      "execution_count": null,
      "metadata": {
        "id": "NAqXl7JOTcq4"
      },
      "outputs": [],
      "source": [
        "autoencoder.compile(optimizer='adam', loss='binary_crossentropy')"
      ]
    },
    {
      "cell_type": "markdown",
      "metadata": {
        "id": "qavUxTB1Lv5V"
      },
      "source": [
        "### Fitting"
      ]
    },
    {
      "cell_type": "code",
      "execution_count": null,
      "metadata": {
        "colab": {
          "base_uri": "https://localhost:8080/"
        },
        "id": "vuOy8CDfTKa1",
        "outputId": "c11db884-ed6b-4edc-a23e-bfe50d9b0d92"
      },
      "outputs": [
        {
          "output_type": "stream",
          "name": "stdout",
          "text": [
            "Epoch 1/40\n",
            "7/7 [==============================] - 6s 441ms/step - loss: 0.5975 - val_loss: 0.4967\n",
            "Epoch 2/40\n",
            "7/7 [==============================] - 2s 356ms/step - loss: 0.4953 - val_loss: 0.4634\n",
            "Epoch 3/40\n",
            "7/7 [==============================] - 2s 363ms/step - loss: 0.4549 - val_loss: 0.4271\n",
            "Epoch 4/40\n",
            "7/7 [==============================] - 2s 385ms/step - loss: 0.4033 - val_loss: 0.3633\n",
            "Epoch 5/40\n",
            "7/7 [==============================] - 2s 325ms/step - loss: 0.3357 - val_loss: 0.2944\n",
            "Epoch 6/40\n",
            "7/7 [==============================] - 1s 177ms/step - loss: 0.2707 - val_loss: 0.2455\n",
            "Epoch 7/40\n",
            "7/7 [==============================] - 1s 139ms/step - loss: 0.2330 - val_loss: 0.2277\n",
            "Epoch 8/40\n",
            "7/7 [==============================] - 1s 175ms/step - loss: 0.2175 - val_loss: 0.2218\n",
            "Epoch 9/40\n",
            "7/7 [==============================] - 1s 174ms/step - loss: 0.2049 - val_loss: 0.2049\n",
            "Epoch 10/40\n",
            "7/7 [==============================] - 1s 173ms/step - loss: 0.1944 - val_loss: 0.1937\n",
            "Epoch 11/40\n",
            "7/7 [==============================] - 1s 138ms/step - loss: 0.1864 - val_loss: 0.1869\n",
            "Epoch 12/40\n",
            "7/7 [==============================] - 1s 172ms/step - loss: 0.1804 - val_loss: 0.1813\n",
            "Epoch 13/40\n",
            "7/7 [==============================] - 1s 168ms/step - loss: 0.1774 - val_loss: 0.1776\n",
            "Epoch 14/40\n",
            "7/7 [==============================] - 2s 305ms/step - loss: 0.1716 - val_loss: 0.1744\n",
            "Epoch 15/40\n",
            "7/7 [==============================] - 1s 216ms/step - loss: 0.1678 - val_loss: 0.1712\n",
            "Epoch 16/40\n",
            "7/7 [==============================] - 1s 175ms/step - loss: 0.1654 - val_loss: 0.1670\n",
            "Epoch 17/40\n",
            "7/7 [==============================] - 1s 175ms/step - loss: 0.1623 - val_loss: 0.1661\n",
            "Epoch 18/40\n",
            "7/7 [==============================] - 1s 176ms/step - loss: 0.1587 - val_loss: 0.1633\n",
            "Epoch 19/40\n",
            "7/7 [==============================] - 1s 172ms/step - loss: 0.1559 - val_loss: 0.1602\n",
            "Epoch 20/40\n",
            "7/7 [==============================] - 1s 168ms/step - loss: 0.1534 - val_loss: 0.1581\n",
            "Epoch 21/40\n",
            "7/7 [==============================] - 1s 167ms/step - loss: 0.1508 - val_loss: 0.1556\n",
            "Epoch 22/40\n",
            "7/7 [==============================] - 1s 173ms/step - loss: 0.1491 - val_loss: 0.1540\n",
            "Epoch 23/40\n",
            "7/7 [==============================] - 2s 337ms/step - loss: 0.1463 - val_loss: 0.1515\n",
            "Epoch 24/40\n",
            "7/7 [==============================] - 3s 394ms/step - loss: 0.1447 - val_loss: 0.1527\n",
            "Epoch 25/40\n",
            "7/7 [==============================] - 2s 369ms/step - loss: 0.1446 - val_loss: 0.1537\n",
            "Epoch 26/40\n",
            "7/7 [==============================] - 2s 356ms/step - loss: 0.1470 - val_loss: 0.1493\n",
            "Epoch 27/40\n",
            "7/7 [==============================] - 2s 345ms/step - loss: 0.1434 - val_loss: 0.1492\n",
            "Epoch 28/40\n",
            "7/7 [==============================] - 1s 170ms/step - loss: 0.1400 - val_loss: 0.1452\n",
            "Epoch 29/40\n",
            "7/7 [==============================] - 1s 171ms/step - loss: 0.1376 - val_loss: 0.1438\n",
            "Epoch 30/40\n",
            "7/7 [==============================] - 1s 139ms/step - loss: 0.1360 - val_loss: 0.1422\n",
            "Epoch 31/40\n",
            "7/7 [==============================] - 1s 175ms/step - loss: 0.1360 - val_loss: 0.1411\n",
            "Epoch 32/40\n",
            "7/7 [==============================] - 2s 328ms/step - loss: 0.1348 - val_loss: 0.1428\n",
            "Epoch 33/40\n",
            "7/7 [==============================] - 1s 175ms/step - loss: 0.1329 - val_loss: 0.1411\n",
            "Epoch 34/40\n",
            "7/7 [==============================] - 1s 179ms/step - loss: 0.1316 - val_loss: 0.1391\n",
            "Epoch 35/40\n",
            "7/7 [==============================] - 1s 177ms/step - loss: 0.1312 - val_loss: 0.1399\n",
            "Epoch 36/40\n",
            "7/7 [==============================] - 1s 176ms/step - loss: 0.1299 - val_loss: 0.1370\n",
            "Epoch 37/40\n",
            "7/7 [==============================] - 1s 128ms/step - loss: 0.1292 - val_loss: 0.1363\n",
            "Epoch 38/40\n",
            "7/7 [==============================] - 1s 174ms/step - loss: 0.1281 - val_loss: 0.1357\n",
            "Epoch 39/40\n",
            "7/7 [==============================] - 1s 178ms/step - loss: 0.1269 - val_loss: 0.1347\n",
            "Epoch 40/40\n",
            "7/7 [==============================] - 1s 176ms/step - loss: 0.1258 - val_loss: 0.1346\n"
          ]
        }
      ],
      "source": [
        "validation_split = 0.8\n",
        "history = autoencoder.fit(x_train_noisy, x_train, epochs = 40, batch_size = 20, shuffle = True, validation_split = validation_split)"
      ]
    },
    {
      "cell_type": "markdown",
      "metadata": {
        "id": "w9cwHmo0L9kL"
      },
      "source": [
        "### Tracking the history of the training stage"
      ]
    },
    {
      "cell_type": "code",
      "execution_count": null,
      "metadata": {
        "colab": {
          "base_uri": "https://localhost:8080/"
        },
        "id": "2jHDeAlBwW21",
        "outputId": "f10c23b5-88d4-4b72-f150-fded63a461b5"
      },
      "outputs": [
        {
          "output_type": "execute_result",
          "data": {
            "text/plain": [
              "dict_keys(['loss', 'val_loss'])"
            ]
          },
          "metadata": {},
          "execution_count": 16
        }
      ],
      "source": [
        "history.history.keys()"
      ]
    },
    {
      "cell_type": "code",
      "execution_count": null,
      "metadata": {
        "id": "xUjfYnorxFDi"
      },
      "outputs": [],
      "source": [
        "train_loss = history.history['loss']\n",
        "train_val_loss = history.history['val_loss']\n",
        "epochs = range(1, len(train_loss) + 1)"
      ]
    },
    {
      "cell_type": "markdown",
      "metadata": {
        "id": "UfLzzWZSMET9"
      },
      "source": [
        "Visualizing the history of the training."
      ]
    },
    {
      "cell_type": "code",
      "execution_count": null,
      "metadata": {
        "colab": {
          "base_uri": "https://localhost:8080/",
          "height": 452
        },
        "id": "dfltbv9BxK1f",
        "outputId": "10509139-1682-4fe1-9b03-d9db20a4ff0e"
      },
      "outputs": [
        {
          "output_type": "display_data",
          "data": {
            "text/plain": [
              "<Figure size 640x480 with 1 Axes>"
            ],
            "image/png": "[encoded data removed]"
          },
          "metadata": {}
        }
      ],
      "source": [
        "plt.figure(dpi = 100)\n",
        "plt.plot(epochs, train_loss, label = 'Loss')\n",
        "plt.plot(epochs, train_val_loss, 'o', label = 'Val loss')\n",
        "plt.title('Training and validation metrics')\n",
        "plt.legend()\n",
        "plt.savefig('history.png')"
      ]
    },
    {
      "cell_type": "markdown",
      "metadata": {
        "id": "cWNTSsB3MP0u"
      },
      "source": [
        "### Prediction"
      ]
    },
    {
      "cell_type": "code",
      "execution_count": null,
      "metadata": {
        "id": "_uKB2CCgxQb9",
        "outputId": "a765c802-a7a3-4c94-eac0-ef3d7b199aca",
        "colab": {
          "base_uri": "https://localhost:8080/"
        }
      },
      "outputs": [
        {
          "output_type": "stream",
          "name": "stdout",
          "text": [
            "10/10 [==============================] - 0s 22ms/step\n"
          ]
        }
      ],
      "source": [
        "all_denoised_images = autoencoder.predict(x_test_noisy)"
      ]
    },
    {
      "cell_type": "code",
      "source": [
        "print(x_test_noisy[0:1, :, :, 0:1].shape)\n",
        "plt.imshow(autoencoder.predict(x_test_noisy[0:1, :, :, 0:1]).reshape((28, 28)))"
      ],
      "metadata": {
        "id": "61yWjWFQWTqR",
        "outputId": "22c27344-84f3-4c07-fa83-3d85d4575d9a",
        "colab": {
          "base_uri": "https://localhost:8080/",
          "height": 485
        }
      },
      "execution_count": null,
      "outputs": [
        {
          "output_type": "stream",
          "name": "stdout",
          "text": [
            "(1, 28, 28, 1)\n",
            "1/1 [==============================] - 0s 45ms/step\n"
          ]
        },
        {
          "output_type": "execute_result",
          "data": {
            "text/plain": [
              "<matplotlib.image.AxesImage at 0x7ff7c270c520>"
            ]
          },
          "metadata": {},
          "execution_count": 41
        },
        {
          "output_type": "display_data",
          "data": {
            "text/plain": [
              "<Figure size 640x480 with 1 Axes>"
            ],
            "image/png": "[encoded data removed]"
          },
          "metadata": {}
        }
      ]
    },
    {
      "cell_type": "markdown",
      "source": [
        "### Save Model"
      ],
      "metadata": {
        "id": "Lxf88fRYMCaE"
      }
    },
    {
      "cell_type": "code",
      "source": [
        "autoencoder.save(\"denoising_mnist_ae_model.h5\")"
      ],
      "metadata": {
        "id": "50CAaA2EMDMq"
      },
      "execution_count": null,
      "outputs": []
    },
    {
      "cell_type": "markdown",
      "metadata": {
        "id": "fcNSKR8BMTx8"
      },
      "source": [
        "### Evaluation"
      ]
    },
    {
      "cell_type": "code",
      "execution_count": null,
      "metadata": {
        "colab": {
          "base_uri": "https://localhost:8080/"
        },
        "id": "oW_etasixi3m",
        "outputId": "5b4f553c-133e-48cb-aae3-160be0e6f382"
      },
      "outputs": [
        {
          "output_type": "stream",
          "name": "stdout",
          "text": [
            "15/15 [==============================] - 0s 26ms/step - loss: 0.1309\n"
          ]
        },
        {
          "output_type": "execute_result",
          "data": {
            "text/plain": [
              "0.13088959455490112"
            ]
          },
          "metadata": {},
          "execution_count": 20
        }
      ],
      "source": [
        "test_loss  = autoencoder.evaluate(x_test_noisy, x_test, batch_size = 20)\n",
        "test_loss"
      ]
    },
    {
      "cell_type": "markdown",
      "metadata": {
        "id": "xbB-gxeUMnJx"
      },
      "source": [
        "# Visual results\n",
        "\n",
        "Here, we can compare our visual results looking side by side the noisy, targets and denoised  images."
      ]
    },
    {
      "cell_type": "code",
      "execution_count": null,
      "metadata": {
        "colab": {
          "base_uri": "https://localhost:8080/",
          "height": 677
        },
        "id": "NEwT4ZpoyB0F",
        "outputId": "8fcfeb98-c42c-40b9-fa34-cd7e76408d36"
      },
      "outputs": [
        {
          "output_type": "display_data",
          "data": {
            "text/plain": [
              "<Figure size 800x200 with 3 Axes>"
            ],
            "image/png": "[encoded data removed]"
          },
          "metadata": {}
        },
        {
          "output_type": "display_data",
          "data": {
            "text/plain": [
              "<Figure size 800x200 with 3 Axes>"
            ],
            "image/png": "[encoded data removed]"
          },
          "metadata": {}
        },
        {
          "output_type": "display_data",
          "data": {
            "text/plain": [
              "<Figure size 800x200 with 3 Axes>"
            ],
            "image/png": "[encoded data removed]"
          },
          "metadata": {}
        }
      ],
      "source": [
        "n = 3\n",
        "for i in range(n):\n",
        "    fig, axes = plt.subplots(1, 3)\n",
        "    fig.set_size_inches(8, 2)\n",
        "    axes[0].set_title('Noisy image')\n",
        "    im0 = axes[0].imshow(x_test_noisy[i].reshape(dimension, dimension), cmap = 'Reds')\n",
        "    axes[1].set_title('Target image')\n",
        "    im1 = axes[1].imshow(x_test[i].reshape(dimension, dimension), cmap = 'Reds')\n",
        "    axes[2].set_title('Denoised image')\n",
        "    im2 = axes[2].imshow(all_denoised_images[i].reshape(dimension, dimension), cmap = 'Reds')\n",
        "    plt.savefig(f'comparison-{i}.png')"
      ]
    },
    {
      "cell_type": "code",
      "source": [
        "plt.imshow(x_test_noisy[0], cmap = 'Reds')\n",
        "plt.axis('off')\n",
        "plt.show()"
      ],
      "metadata": {
        "id": "xPqP0-H5Lnmi",
        "outputId": "9814e4f2-ce48-4698-93ed-377e03f99381",
        "colab": {
          "base_uri": "https://localhost:8080/",
          "height": 406
        }
      },
      "execution_count": null,
      "outputs": [
        {
          "output_type": "display_data",
          "data": {
            "text/plain": [
              "<Figure size 640x480 with 1 Axes>"
            ],
            "image/png": "[encoded data removed]"
          },
          "metadata": {}
        }
      ]
    },
    {
      "cell_type": "code",
      "source": [
        "print(x_test_noisy[0][:, :, 0].shape)"
      ],
      "metadata": {
        "id": "QM7a-6IoW9l6",
        "outputId": "55796f75-f2ba-4f7c-e1fc-04cfdadc8af3",
        "colab": {
          "base_uri": "https://localhost:8080/"
        }
      },
      "execution_count": null,
      "outputs": [
        {
          "output_type": "stream",
          "name": "stdout",
          "text": [
            "(28, 28)\n"
          ]
        }
      ]
    },
    {
      "cell_type": "code",
      "source": [
        "plt.imsave('image.png', x_test_noisy[0][:, :, 0])"
      ],
      "metadata": {
        "id": "csd63SB6W4qd"
      },
      "execution_count": null,
      "outputs": []
    },
    {
      "cell_type": "code",
      "execution_count": null,
      "metadata": {
        "id": "r4usMdsRyesT",
        "outputId": "380d37ff-1279-44f8-e86d-626dedc82424",
        "colab": {
          "base_uri": "https://localhost:8080/",
          "height": 406
        }
      },
      "outputs": [
        {
          "output_type": "display_data",
          "data": {
            "text/plain": [
              "<Figure size 640x480 with 1 Axes>"
            ],
            "image/png": "[encoded data removed]"
          },
          "metadata": {}
        }
      ],
      "source": [
        "plt.imshow(all_denoised_images[0].reshape(dimension, dimension), cmap='Reds')\n",
        "plt.axis('off')\n",
        "plt.show()"
      ]
    }
  ],
  "metadata": {
    "colab": {
      "provenance": []
    },
    "kernelspec": {
      "display_name": "Python 3",
      "language": "python",
      "name": "python3"
    },
    "language_info": {
      "codemirror_mode": {
        "name": "ipython",
        "version": 3
      },
      "file_extension": ".py",
      "mimetype": "text/x-python",
      "name": "python",
      "nbconvert_exporter": "python",
      "pygments_lexer": "ipython3",
      "version": "3.8.5"
    }
  },
  "nbformat": 4,
  "nbformat_minor": 0
}