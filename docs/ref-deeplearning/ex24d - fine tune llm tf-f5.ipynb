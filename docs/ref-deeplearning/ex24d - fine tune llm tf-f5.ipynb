{
  "nbformat": 4,
  "nbformat_minor": 0,
  "metadata": {
    "accelerator": "GPU",
    "colab": {
      "provenance": [],
      "toc_visible": true,
      "machine_shape": "hm",
      "gpuType": "A100"
    },
    "kernelspec": {
      "name": "python3",
      "display_name": "Python 3"
    },
    "widgets": {
      "application/vnd.jupyter.widget-state+json": {
        "37d22bf9ba5a4dfa88267dc7341d4dbb": {
          "model_module": "@jupyter-widgets/controls",
          "model_name": "HBoxModel",
          "model_module_version": "1.5.0",
          "state": {
            "_dom_classes": [],
            "_model_module": "@jupyter-widgets/controls",
            "_model_module_version": "1.5.0",
            "_model_name": "HBoxModel",
            "_view_count": null,
            "_view_module": "@jupyter-widgets/controls",
            "_view_module_version": "1.5.0",
            "_view_name": "HBoxView",
            "box_style": "",
            "children": [
              "IPY_MODEL_b0bf451849a4463abaa687d604b93da8",
              "IPY_MODEL_6e34486bd6154f98bc4521321f5181ec",
              "IPY_MODEL_673d99a6c5f94bbebaf031e6c28ad53a"
            ],
            "layout": "IPY_MODEL_b63cdfb435634f9192f1a16f8dada649"
          }
        },
        "b0bf451849a4463abaa687d604b93da8": {
          "model_module": "@jupyter-widgets/controls",
          "model_name": "HTMLModel",
          "model_module_version": "1.5.0",
          "state": {
            "_dom_classes": [],
            "_model_module": "@jupyter-widgets/controls",
            "_model_module_version": "1.5.0",
            "_model_name": "HTMLModel",
            "_view_count": null,
            "_view_module": "@jupyter-widgets/controls",
            "_view_module_version": "1.5.0",
            "_view_name": "HTMLView",
            "description": "",
            "description_tooltip": null,
            "layout": "IPY_MODEL_fdb9ce29ddd24cb692b42fc4d399371e",
            "placeholder": "​",
            "style": "IPY_MODEL_cd7e6b4a18264322ae110331f399aa97",
            "value": "100%"
          }
        },
        "6e34486bd6154f98bc4521321f5181ec": {
          "model_module": "@jupyter-widgets/controls",
          "model_name": "FloatProgressModel",
          "model_module_version": "1.5.0",
          "state": {
            "_dom_classes": [],
            "_model_module": "@jupyter-widgets/controls",
            "_model_module_version": "1.5.0",
            "_model_name": "FloatProgressModel",
            "_view_count": null,
            "_view_module": "@jupyter-widgets/controls",
            "_view_module_version": "1.5.0",
            "_view_name": "ProgressView",
            "bar_style": "success",
            "description": "",
            "description_tooltip": null,
            "layout": "IPY_MODEL_e6c10e246cfb4b9cb683c6b8478e5344",
            "max": 87599,
            "min": 0,
            "orientation": "horizontal",
            "style": "IPY_MODEL_bdf44740edca42608aec4ca46acfb7e6",
            "value": 87599
          }
        },
        "673d99a6c5f94bbebaf031e6c28ad53a": {
          "model_module": "@jupyter-widgets/controls",
          "model_name": "HTMLModel",
          "model_module_version": "1.5.0",
          "state": {
            "_dom_classes": [],
            "_model_module": "@jupyter-widgets/controls",
            "_model_module_version": "1.5.0",
            "_model_name": "HTMLModel",
            "_view_count": null,
            "_view_module": "@jupyter-widgets/controls",
            "_view_module_version": "1.5.0",
            "_view_name": "HTMLView",
            "description": "",
            "description_tooltip": null,
            "layout": "IPY_MODEL_714dd7841b26462f84a091ee3ad8b8b6",
            "placeholder": "​",
            "style": "IPY_MODEL_e48fc105a3684ea9982a0c1c756e985c",
            "value": " 87599/87599 [04:08&lt;00:00, 361.52ex/s]"
          }
        },
        "b63cdfb435634f9192f1a16f8dada649": {
          "model_module": "@jupyter-widgets/base",
          "model_name": "LayoutModel",
          "model_module_version": "1.2.0",
          "state": {
            "_model_module": "@jupyter-widgets/base",
            "_model_module_version": "1.2.0",
            "_model_name": "LayoutModel",
            "_view_count": null,
            "_view_module": "@jupyter-widgets/base",
            "_view_module_version": "1.2.0",
            "_view_name": "LayoutView",
            "align_content": null,
            "align_items": null,
            "align_self": null,
            "border": null,
            "bottom": null,
            "display": null,
            "flex": null,
            "flex_flow": null,
            "grid_area": null,
            "grid_auto_columns": null,
            "grid_auto_flow": null,
            "grid_auto_rows": null,
            "grid_column": null,
            "grid_gap": null,
            "grid_row": null,
            "grid_template_areas": null,
            "grid_template_columns": null,
            "grid_template_rows": null,
            "height": null,
            "justify_content": null,
            "justify_items": null,
            "left": null,
            "margin": null,
            "max_height": null,
            "max_width": null,
            "min_height": null,
            "min_width": null,
            "object_fit": null,
            "object_position": null,
            "order": null,
            "overflow": null,
            "overflow_x": null,
            "overflow_y": null,
            "padding": null,
            "right": null,
            "top": null,
            "visibility": null,
            "width": null
          }
        },
        "fdb9ce29ddd24cb692b42fc4d399371e": {
          "model_module": "@jupyter-widgets/base",
          "model_name": "LayoutModel",
          "model_module_version": "1.2.0",
          "state": {
            "_model_module": "@jupyter-widgets/base",
            "_model_module_version": "1.2.0",
            "_model_name": "LayoutModel",
            "_view_count": null,
            "_view_module": "@jupyter-widgets/base",
            "_view_module_version": "1.2.0",
            "_view_name": "LayoutView",
            "align_content": null,
            "align_items": null,
            "align_self": null,
            "border": null,
            "bottom": null,
            "display": null,
            "flex": null,
            "flex_flow": null,
            "grid_area": null,
            "grid_auto_columns": null,
            "grid_auto_flow": null,
            "grid_auto_rows": null,
            "grid_column": null,
            "grid_gap": null,
            "grid_row": null,
            "grid_template_areas": null,
            "grid_template_columns": null,
            "grid_template_rows": null,
            "height": null,
            "justify_content": null,
            "justify_items": null,
            "left": null,
            "margin": null,
            "max_height": null,
            "max_width": null,
            "min_height": null,
            "min_width": null,
            "object_fit": null,
            "object_position": null,
            "order": null,
            "overflow": null,
            "overflow_x": null,
            "overflow_y": null,
            "padding": null,
            "right": null,
            "top": null,
            "visibility": null,
            "width": null
          }
        },
        "cd7e6b4a18264322ae110331f399aa97": {
          "model_module": "@jupyter-widgets/controls",
          "model_name": "DescriptionStyleModel",
          "model_module_version": "1.5.0",
          "state": {
            "_model_module": "@jupyter-widgets/controls",
            "_model_module_version": "1.5.0",
            "_model_name": "DescriptionStyleModel",
            "_view_count": null,
            "_view_module": "@jupyter-widgets/base",
            "_view_module_version": "1.2.0",
            "_view_name": "StyleView",
            "description_width": ""
          }
        },
        "e6c10e246cfb4b9cb683c6b8478e5344": {
          "model_module": "@jupyter-widgets/base",
          "model_name": "LayoutModel",
          "model_module_version": "1.2.0",
          "state": {
            "_model_module": "@jupyter-widgets/base",
            "_model_module_version": "1.2.0",
            "_model_name": "LayoutModel",
            "_view_count": null,
            "_view_module": "@jupyter-widgets/base",
            "_view_module_version": "1.2.0",
            "_view_name": "LayoutView",
            "align_content": null,
            "align_items": null,
            "align_self": null,
            "border": null,
            "bottom": null,
            "display": null,
            "flex": null,
            "flex_flow": null,
            "grid_area": null,
            "grid_auto_columns": null,
            "grid_auto_flow": null,
            "grid_auto_rows": null,
            "grid_column": null,
            "grid_gap": null,
            "grid_row": null,
            "grid_template_areas": null,
            "grid_template_columns": null,
            "grid_template_rows": null,
            "height": null,
            "justify_content": null,
            "justify_items": null,
            "left": null,
            "margin": null,
            "max_height": null,
            "max_width": null,
            "min_height": null,
            "min_width": null,
            "object_fit": null,
            "object_position": null,
            "order": null,
            "overflow": null,
            "overflow_x": null,
            "overflow_y": null,
            "padding": null,
            "right": null,
            "top": null,
            "visibility": null,
            "width": null
          }
        },
        "bdf44740edca42608aec4ca46acfb7e6": {
          "model_module": "@jupyter-widgets/controls",
          "model_name": "ProgressStyleModel",
          "model_module_version": "1.5.0",
          "state": {
            "_model_module": "@jupyter-widgets/controls",
            "_model_module_version": "1.5.0",
            "_model_name": "ProgressStyleModel",
            "_view_count": null,
            "_view_module": "@jupyter-widgets/base",
            "_view_module_version": "1.2.0",
            "_view_name": "StyleView",
            "bar_color": null,
            "description_width": ""
          }
        },
        "714dd7841b26462f84a091ee3ad8b8b6": {
          "model_module": "@jupyter-widgets/base",
          "model_name": "LayoutModel",
          "model_module_version": "1.2.0",
          "state": {
            "_model_module": "@jupyter-widgets/base",
            "_model_module_version": "1.2.0",
            "_model_name": "LayoutModel",
            "_view_count": null,
            "_view_module": "@jupyter-widgets/base",
            "_view_module_version": "1.2.0",
            "_view_name": "LayoutView",
            "align_content": null,
            "align_items": null,
            "align_self": null,
            "border": null,
            "bottom": null,
            "display": null,
            "flex": null,
            "flex_flow": null,
            "grid_area": null,
            "grid_auto_columns": null,
            "grid_auto_flow": null,
            "grid_auto_rows": null,
            "grid_column": null,
            "grid_gap": null,
            "grid_row": null,
            "grid_template_areas": null,
            "grid_template_columns": null,
            "grid_template_rows": null,
            "height": null,
            "justify_content": null,
            "justify_items": null,
            "left": null,
            "margin": null,
            "max_height": null,
            "max_width": null,
            "min_height": null,
            "min_width": null,
            "object_fit": null,
            "object_position": null,
            "order": null,
            "overflow": null,
            "overflow_x": null,
            "overflow_y": null,
            "padding": null,
            "right": null,
            "top": null,
            "visibility": null,
            "width": null
          }
        },
        "e48fc105a3684ea9982a0c1c756e985c": {
          "model_module": "@jupyter-widgets/controls",
          "model_name": "DescriptionStyleModel",
          "model_module_version": "1.5.0",
          "state": {
            "_model_module": "@jupyter-widgets/controls",
            "_model_module_version": "1.5.0",
            "_model_name": "DescriptionStyleModel",
            "_view_count": null,
            "_view_module": "@jupyter-widgets/base",
            "_view_module_version": "1.2.0",
            "_view_name": "StyleView",
            "description_width": ""
          }
        },
        "842eec79c460489ea2b055329e5cef42": {
          "model_module": "@jupyter-widgets/controls",
          "model_name": "HBoxModel",
          "model_module_version": "1.5.0",
          "state": {
            "_dom_classes": [],
            "_model_module": "@jupyter-widgets/controls",
            "_model_module_version": "1.5.0",
            "_model_name": "HBoxModel",
            "_view_count": null,
            "_view_module": "@jupyter-widgets/controls",
            "_view_module_version": "1.5.0",
            "_view_name": "HBoxView",
            "box_style": "",
            "children": [
              "IPY_MODEL_dbbb8871d6404cec8916020f6becee37",
              "IPY_MODEL_f8776f1cffa84d29ae00e72c925a8a10",
              "IPY_MODEL_147e8725b42945b499f6b36d8bbd3dd1"
            ],
            "layout": "IPY_MODEL_1f2406d3001744cd9ef49cafa207e890"
          }
        },
        "dbbb8871d6404cec8916020f6becee37": {
          "model_module": "@jupyter-widgets/controls",
          "model_name": "HTMLModel",
          "model_module_version": "1.5.0",
          "state": {
            "_dom_classes": [],
            "_model_module": "@jupyter-widgets/controls",
            "_model_module_version": "1.5.0",
            "_model_name": "HTMLModel",
            "_view_count": null,
            "_view_module": "@jupyter-widgets/controls",
            "_view_module_version": "1.5.0",
            "_view_name": "HTMLView",
            "description": "",
            "description_tooltip": null,
            "layout": "IPY_MODEL_596219ea1297463997c7471105ba8546",
            "placeholder": "​",
            "style": "IPY_MODEL_4d0457d2389f4af195fbc0d1a45c3c08",
            "value": "100%"
          }
        },
        "f8776f1cffa84d29ae00e72c925a8a10": {
          "model_module": "@jupyter-widgets/controls",
          "model_name": "FloatProgressModel",
          "model_module_version": "1.5.0",
          "state": {
            "_dom_classes": [],
            "_model_module": "@jupyter-widgets/controls",
            "_model_module_version": "1.5.0",
            "_model_name": "FloatProgressModel",
            "_view_count": null,
            "_view_module": "@jupyter-widgets/controls",
            "_view_module_version": "1.5.0",
            "_view_name": "ProgressView",
            "bar_style": "success",
            "description": "",
            "description_tooltip": null,
            "layout": "IPY_MODEL_3879d43d0d85474a897e2cbeadb43632",
            "max": 10570,
            "min": 0,
            "orientation": "horizontal",
            "style": "IPY_MODEL_ddcdf27c7f05462090c6035e504b84e8",
            "value": 10570
          }
        },
        "147e8725b42945b499f6b36d8bbd3dd1": {
          "model_module": "@jupyter-widgets/controls",
          "model_name": "HTMLModel",
          "model_module_version": "1.5.0",
          "state": {
            "_dom_classes": [],
            "_model_module": "@jupyter-widgets/controls",
            "_model_module_version": "1.5.0",
            "_model_name": "HTMLModel",
            "_view_count": null,
            "_view_module": "@jupyter-widgets/controls",
            "_view_module_version": "1.5.0",
            "_view_name": "HTMLView",
            "description": "",
            "description_tooltip": null,
            "layout": "IPY_MODEL_d6a0b47836e442aeab4b6dfa16373667",
            "placeholder": "​",
            "style": "IPY_MODEL_ada1fd937dcb43d5875d5cb432df6870",
            "value": " 10570/10570 [00:30&lt;00:00, 330.41ex/s]"
          }
        },
        "1f2406d3001744cd9ef49cafa207e890": {
          "model_module": "@jupyter-widgets/base",
          "model_name": "LayoutModel",
          "model_module_version": "1.2.0",
          "state": {
            "_model_module": "@jupyter-widgets/base",
            "_model_module_version": "1.2.0",
            "_model_name": "LayoutModel",
            "_view_count": null,
            "_view_module": "@jupyter-widgets/base",
            "_view_module_version": "1.2.0",
            "_view_name": "LayoutView",
            "align_content": null,
            "align_items": null,
            "align_self": null,
            "border": null,
            "bottom": null,
            "display": null,
            "flex": null,
            "flex_flow": null,
            "grid_area": null,
            "grid_auto_columns": null,
            "grid_auto_flow": null,
            "grid_auto_rows": null,
            "grid_column": null,
            "grid_gap": null,
            "grid_row": null,
            "grid_template_areas": null,
            "grid_template_columns": null,
            "grid_template_rows": null,
            "height": null,
            "justify_content": null,
            "justify_items": null,
            "left": null,
            "margin": null,
            "max_height": null,
            "max_width": null,
            "min_height": null,
            "min_width": null,
            "object_fit": null,
            "object_position": null,
            "order": null,
            "overflow": null,
            "overflow_x": null,
            "overflow_y": null,
            "padding": null,
            "right": null,
            "top": null,
            "visibility": null,
            "width": null
          }
        },
        "596219ea1297463997c7471105ba8546": {
          "model_module": "@jupyter-widgets/base",
          "model_name": "LayoutModel",
          "model_module_version": "1.2.0",
          "state": {
            "_model_module": "@jupyter-widgets/base",
            "_model_module_version": "1.2.0",
            "_model_name": "LayoutModel",
            "_view_count": null,
            "_view_module": "@jupyter-widgets/base",
            "_view_module_version": "1.2.0",
            "_view_name": "LayoutView",
            "align_content": null,
            "align_items": null,
            "align_self": null,
            "border": null,
            "bottom": null,
            "display": null,
            "flex": null,
            "flex_flow": null,
            "grid_area": null,
            "grid_auto_columns": null,
            "grid_auto_flow": null,
            "grid_auto_rows": null,
            "grid_column": null,
            "grid_gap": null,
            "grid_row": null,
            "grid_template_areas": null,
            "grid_template_columns": null,
            "grid_template_rows": null,
            "height": null,
            "justify_content": null,
            "justify_items": null,
            "left": null,
            "margin": null,
            "max_height": null,
            "max_width": null,
            "min_height": null,
            "min_width": null,
            "object_fit": null,
            "object_position": null,
            "order": null,
            "overflow": null,
            "overflow_x": null,
            "overflow_y": null,
            "padding": null,
            "right": null,
            "top": null,
            "visibility": null,
            "width": null
          }
        },
        "4d0457d2389f4af195fbc0d1a45c3c08": {
          "model_module": "@jupyter-widgets/controls",
          "model_name": "DescriptionStyleModel",
          "model_module_version": "1.5.0",
          "state": {
            "_model_module": "@jupyter-widgets/controls",
            "_model_module_version": "1.5.0",
            "_model_name": "DescriptionStyleModel",
            "_view_count": null,
            "_view_module": "@jupyter-widgets/base",
            "_view_module_version": "1.2.0",
            "_view_name": "StyleView",
            "description_width": ""
          }
        },
        "3879d43d0d85474a897e2cbeadb43632": {
          "model_module": "@jupyter-widgets/base",
          "model_name": "LayoutModel",
          "model_module_version": "1.2.0",
          "state": {
            "_model_module": "@jupyter-widgets/base",
            "_model_module_version": "1.2.0",
            "_model_name": "LayoutModel",
            "_view_count": null,
            "_view_module": "@jupyter-widgets/base",
            "_view_module_version": "1.2.0",
            "_view_name": "LayoutView",
            "align_content": null,
            "align_items": null,
            "align_self": null,
            "border": null,
            "bottom": null,
            "display": null,
            "flex": null,
            "flex_flow": null,
            "grid_area": null,
            "grid_auto_columns": null,
            "grid_auto_flow": null,
            "grid_auto_rows": null,
            "grid_column": null,
            "grid_gap": null,
            "grid_row": null,
            "grid_template_areas": null,
            "grid_template_columns": null,
            "grid_template_rows": null,
            "height": null,
            "justify_content": null,
            "justify_items": null,
            "left": null,
            "margin": null,
            "max_height": null,
            "max_width": null,
            "min_height": null,
            "min_width": null,
            "object_fit": null,
            "object_position": null,
            "order": null,
            "overflow": null,
            "overflow_x": null,
            "overflow_y": null,
            "padding": null,
            "right": null,
            "top": null,
            "visibility": null,
            "width": null
          }
        },
        "ddcdf27c7f05462090c6035e504b84e8": {
          "model_module": "@jupyter-widgets/controls",
          "model_name": "ProgressStyleModel",
          "model_module_version": "1.5.0",
          "state": {
            "_model_module": "@jupyter-widgets/controls",
            "_model_module_version": "1.5.0",
            "_model_name": "ProgressStyleModel",
            "_view_count": null,
            "_view_module": "@jupyter-widgets/base",
            "_view_module_version": "1.2.0",
            "_view_name": "StyleView",
            "bar_color": null,
            "description_width": ""
          }
        },
        "d6a0b47836e442aeab4b6dfa16373667": {
          "model_module": "@jupyter-widgets/base",
          "model_name": "LayoutModel",
          "model_module_version": "1.2.0",
          "state": {
            "_model_module": "@jupyter-widgets/base",
            "_model_module_version": "1.2.0",
            "_model_name": "LayoutModel",
            "_view_count": null,
            "_view_module": "@jupyter-widgets/base",
            "_view_module_version": "1.2.0",
            "_view_name": "LayoutView",
            "align_content": null,
            "align_items": null,
            "align_self": null,
            "border": null,
            "bottom": null,
            "display": null,
            "flex": null,
            "flex_flow": null,
            "grid_area": null,
            "grid_auto_columns": null,
            "grid_auto_flow": null,
            "grid_auto_rows": null,
            "grid_column": null,
            "grid_gap": null,
            "grid_row": null,
            "grid_template_areas": null,
            "grid_template_columns": null,
            "grid_template_rows": null,
            "height": null,
            "justify_content": null,
            "justify_items": null,
            "left": null,
            "margin": null,
            "max_height": null,
            "max_width": null,
            "min_height": null,
            "min_width": null,
            "object_fit": null,
            "object_position": null,
            "order": null,
            "overflow": null,
            "overflow_x": null,
            "overflow_y": null,
            "padding": null,
            "right": null,
            "top": null,
            "visibility": null,
            "width": null
          }
        },
        "ada1fd937dcb43d5875d5cb432df6870": {
          "model_module": "@jupyter-widgets/controls",
          "model_name": "DescriptionStyleModel",
          "model_module_version": "1.5.0",
          "state": {
            "_model_module": "@jupyter-widgets/controls",
            "_model_module_version": "1.5.0",
            "_model_name": "DescriptionStyleModel",
            "_view_count": null,
            "_view_module": "@jupyter-widgets/base",
            "_view_module_version": "1.2.0",
            "_view_name": "StyleView",
            "description_width": ""
          }
        },
        "325ec38512144466af42299b63207740": {
          "model_module": "@jupyter-widgets/controls",
          "model_name": "HBoxModel",
          "model_module_version": "1.5.0",
          "state": {
            "_dom_classes": [],
            "_model_module": "@jupyter-widgets/controls",
            "_model_module_version": "1.5.0",
            "_model_name": "HBoxModel",
            "_view_count": null,
            "_view_module": "@jupyter-widgets/controls",
            "_view_module_version": "1.5.0",
            "_view_name": "HBoxView",
            "box_style": "",
            "children": [
              "IPY_MODEL_974892a6e0ea4904ac3d04152024104d",
              "IPY_MODEL_48fe2a4f35f744c2b4ccdcbe33234d20",
              "IPY_MODEL_f8239ca22aac4d88b6953dfc6fe6d4eb"
            ],
            "layout": "IPY_MODEL_2a64428df83144dfbaba87a135f208d4"
          }
        },
        "974892a6e0ea4904ac3d04152024104d": {
          "model_module": "@jupyter-widgets/controls",
          "model_name": "HTMLModel",
          "model_module_version": "1.5.0",
          "state": {
            "_dom_classes": [],
            "_model_module": "@jupyter-widgets/controls",
            "_model_module_version": "1.5.0",
            "_model_name": "HTMLModel",
            "_view_count": null,
            "_view_module": "@jupyter-widgets/controls",
            "_view_module_version": "1.5.0",
            "_view_name": "HTMLView",
            "description": "",
            "description_tooltip": null,
            "layout": "IPY_MODEL_78d204a90820491d978d06b1ed61a4ed",
            "placeholder": "​",
            "style": "IPY_MODEL_da09185783254ab09048f6a3198779a5",
            "value": "Downloading model.safetensors: 100%"
          }
        },
        "48fe2a4f35f744c2b4ccdcbe33234d20": {
          "model_module": "@jupyter-widgets/controls",
          "model_name": "FloatProgressModel",
          "model_module_version": "1.5.0",
          "state": {
            "_dom_classes": [],
            "_model_module": "@jupyter-widgets/controls",
            "_model_module_version": "1.5.0",
            "_model_name": "FloatProgressModel",
            "_view_count": null,
            "_view_module": "@jupyter-widgets/controls",
            "_view_module_version": "1.5.0",
            "_view_name": "ProgressView",
            "bar_style": "success",
            "description": "",
            "description_tooltip": null,
            "layout": "IPY_MODEL_16479a2e1f2d43a988e0b556fc304a15",
            "max": 891646390,
            "min": 0,
            "orientation": "horizontal",
            "style": "IPY_MODEL_17bdc7c3c5684490be816955db00dea5",
            "value": 891646390
          }
        },
        "f8239ca22aac4d88b6953dfc6fe6d4eb": {
          "model_module": "@jupyter-widgets/controls",
          "model_name": "HTMLModel",
          "model_module_version": "1.5.0",
          "state": {
            "_dom_classes": [],
            "_model_module": "@jupyter-widgets/controls",
            "_model_module_version": "1.5.0",
            "_model_name": "HTMLModel",
            "_view_count": null,
            "_view_module": "@jupyter-widgets/controls",
            "_view_module_version": "1.5.0",
            "_view_name": "HTMLView",
            "description": "",
            "description_tooltip": null,
            "layout": "IPY_MODEL_5cc3ab4ca8fe460da9ae60bc4f79d95d",
            "placeholder": "​",
            "style": "IPY_MODEL_17a3b56242f045d2a61ab1de6723b6c4",
            "value": " 892M/892M [00:01&lt;00:00, 509MB/s]"
          }
        },
        "2a64428df83144dfbaba87a135f208d4": {
          "model_module": "@jupyter-widgets/base",
          "model_name": "LayoutModel",
          "model_module_version": "1.2.0",
          "state": {
            "_model_module": "@jupyter-widgets/base",
            "_model_module_version": "1.2.0",
            "_model_name": "LayoutModel",
            "_view_count": null,
            "_view_module": "@jupyter-widgets/base",
            "_view_module_version": "1.2.0",
            "_view_name": "LayoutView",
            "align_content": null,
            "align_items": null,
            "align_self": null,
            "border": null,
            "bottom": null,
            "display": null,
            "flex": null,
            "flex_flow": null,
            "grid_area": null,
            "grid_auto_columns": null,
            "grid_auto_flow": null,
            "grid_auto_rows": null,
            "grid_column": null,
            "grid_gap": null,
            "grid_row": null,
            "grid_template_areas": null,
            "grid_template_columns": null,
            "grid_template_rows": null,
            "height": null,
            "justify_content": null,
            "justify_items": null,
            "left": null,
            "margin": null,
            "max_height": null,
            "max_width": null,
            "min_height": null,
            "min_width": null,
            "object_fit": null,
            "object_position": null,
            "order": null,
            "overflow": null,
            "overflow_x": null,
            "overflow_y": null,
            "padding": null,
            "right": null,
            "top": null,
            "visibility": null,
            "width": null
          }
        },
        "78d204a90820491d978d06b1ed61a4ed": {
          "model_module": "@jupyter-widgets/base",
          "model_name": "LayoutModel",
          "model_module_version": "1.2.0",
          "state": {
            "_model_module": "@jupyter-widgets/base",
            "_model_module_version": "1.2.0",
            "_model_name": "LayoutModel",
            "_view_count": null,
            "_view_module": "@jupyter-widgets/base",
            "_view_module_version": "1.2.0",
            "_view_name": "LayoutView",
            "align_content": null,
            "align_items": null,
            "align_self": null,
            "border": null,
            "bottom": null,
            "display": null,
            "flex": null,
            "flex_flow": null,
            "grid_area": null,
            "grid_auto_columns": null,
            "grid_auto_flow": null,
            "grid_auto_rows": null,
            "grid_column": null,
            "grid_gap": null,
            "grid_row": null,
            "grid_template_areas": null,
            "grid_template_columns": null,
            "grid_template_rows": null,
            "height": null,
            "justify_content": null,
            "justify_items": null,
            "left": null,
            "margin": null,
            "max_height": null,
            "max_width": null,
            "min_height": null,
            "min_width": null,
            "object_fit": null,
            "object_position": null,
            "order": null,
            "overflow": null,
            "overflow_x": null,
            "overflow_y": null,
            "padding": null,
            "right": null,
            "top": null,
            "visibility": null,
            "width": null
          }
        },
        "da09185783254ab09048f6a3198779a5": {
          "model_module": "@jupyter-widgets/controls",
          "model_name": "DescriptionStyleModel",
          "model_module_version": "1.5.0",
          "state": {
            "_model_module": "@jupyter-widgets/controls",
            "_model_module_version": "1.5.0",
            "_model_name": "DescriptionStyleModel",
            "_view_count": null,
            "_view_module": "@jupyter-widgets/base",
            "_view_module_version": "1.2.0",
            "_view_name": "StyleView",
            "description_width": ""
          }
        },
        "16479a2e1f2d43a988e0b556fc304a15": {
          "model_module": "@jupyter-widgets/base",
          "model_name": "LayoutModel",
          "model_module_version": "1.2.0",
          "state": {
            "_model_module": "@jupyter-widgets/base",
            "_model_module_version": "1.2.0",
            "_model_name": "LayoutModel",
            "_view_count": null,
            "_view_module": "@jupyter-widgets/base",
            "_view_module_version": "1.2.0",
            "_view_name": "LayoutView",
            "align_content": null,
            "align_items": null,
            "align_self": null,
            "border": null,
            "bottom": null,
            "display": null,
            "flex": null,
            "flex_flow": null,
            "grid_area": null,
            "grid_auto_columns": null,
            "grid_auto_flow": null,
            "grid_auto_rows": null,
            "grid_column": null,
            "grid_gap": null,
            "grid_row": null,
            "grid_template_areas": null,
            "grid_template_columns": null,
            "grid_template_rows": null,
            "height": null,
            "justify_content": null,
            "justify_items": null,
            "left": null,
            "margin": null,
            "max_height": null,
            "max_width": null,
            "min_height": null,
            "min_width": null,
            "object_fit": null,
            "object_position": null,
            "order": null,
            "overflow": null,
            "overflow_x": null,
            "overflow_y": null,
            "padding": null,
            "right": null,
            "top": null,
            "visibility": null,
            "width": null
          }
        },
        "17bdc7c3c5684490be816955db00dea5": {
          "model_module": "@jupyter-widgets/controls",
          "model_name": "ProgressStyleModel",
          "model_module_version": "1.5.0",
          "state": {
            "_model_module": "@jupyter-widgets/controls",
            "_model_module_version": "1.5.0",
            "_model_name": "ProgressStyleModel",
            "_view_count": null,
            "_view_module": "@jupyter-widgets/base",
            "_view_module_version": "1.2.0",
            "_view_name": "StyleView",
            "bar_color": null,
            "description_width": ""
          }
        },
        "5cc3ab4ca8fe460da9ae60bc4f79d95d": {
          "model_module": "@jupyter-widgets/base",
          "model_name": "LayoutModel",
          "model_module_version": "1.2.0",
          "state": {
            "_model_module": "@jupyter-widgets/base",
            "_model_module_version": "1.2.0",
            "_model_name": "LayoutModel",
            "_view_count": null,
            "_view_module": "@jupyter-widgets/base",
            "_view_module_version": "1.2.0",
            "_view_name": "LayoutView",
            "align_content": null,
            "align_items": null,
            "align_self": null,
            "border": null,
            "bottom": null,
            "display": null,
            "flex": null,
            "flex_flow": null,
            "grid_area": null,
            "grid_auto_columns": null,
            "grid_auto_flow": null,
            "grid_auto_rows": null,
            "grid_column": null,
            "grid_gap": null,
            "grid_row": null,
            "grid_template_areas": null,
            "grid_template_columns": null,
            "grid_template_rows": null,
            "height": null,
            "justify_content": null,
            "justify_items": null,
            "left": null,
            "margin": null,
            "max_height": null,
            "max_width": null,
            "min_height": null,
            "min_width": null,
            "object_fit": null,
            "object_position": null,
            "order": null,
            "overflow": null,
            "overflow_x": null,
            "overflow_y": null,
            "padding": null,
            "right": null,
            "top": null,
            "visibility": null,
            "width": null
          }
        },
        "17a3b56242f045d2a61ab1de6723b6c4": {
          "model_module": "@jupyter-widgets/controls",
          "model_name": "DescriptionStyleModel",
          "model_module_version": "1.5.0",
          "state": {
            "_model_module": "@jupyter-widgets/controls",
            "_model_module_version": "1.5.0",
            "_model_name": "DescriptionStyleModel",
            "_view_count": null,
            "_view_module": "@jupyter-widgets/base",
            "_view_module_version": "1.2.0",
            "_view_name": "StyleView",
            "description_width": ""
          }
        }
      }
    }
  },
  "cells": [
    {
      "cell_type": "markdown",
      "metadata": {
        "id": "rZxP_tTKVqvB"
      },
      "source": [
        "<a href= \"https://www.snapthat.ai/\"> <img src=\"https://www.snapthat.ai/img/landing/images/logo_h1.png\" /></a>"
      ]
    },
    {
      "cell_type": "markdown",
      "metadata": {
        "id": "sMcf-kxSVqvD"
      },
      "source": [
        "## Training T5 using Native Tensorflow 2"
      ]
    },
    {
      "cell_type": "markdown",
      "metadata": {
        "id": "v5LqLyFyVqvF"
      },
      "source": [
        "The purpose of this notebook is to demonstrate training using tensorflow 2 and keras. This notebook includes tf Data pipelines for build any other NLP task in a text to text fashion. Anyone can adapt the data pipeline to thier own datasets. Uses the efficient [Datasets](https://github.com/huggingface/datasets) from 🤗 as source for training.\n",
        "#### Features\n",
        "- Train TF T5 on SQUAD questioning and answering\n",
        "- Train T5 using keras trainer fucntion\n",
        "- tf.Data pipeline\n",
        "- [Datasets from 🤗](https://github.com/huggingface/datasets) as source\n",
        "- Log metrics using tensorboard\n",
        "- Profile your experiment with the brand new tensorflow profiler !!"
      ]
    },
    {
      "cell_type": "markdown",
      "metadata": {
        "id": "jZ7iM__QWL96"
      },
      "source": [
        "### Installation"
      ]
    },
    {
      "cell_type": "markdown",
      "source": [
        "Reminder: You might want to install `transformers` first and then install `transformers==3.3.1`. I had to do this a few times to get the imports correctly."
      ],
      "metadata": {
        "id": "IOnc7eIGZhJf"
      }
    },
    {
      "cell_type": "code",
      "metadata": {
        "id": "dEutWnhiWRAq",
        "scrolled": true,
        "outputId": "f0087212-557e-42c5-a7f4-98edc9a00441",
        "colab": {
          "base_uri": "https://localhost:8080/"
        }
      },
      "source": [
        "from IPython.display import clear_output\n",
        "\n",
        "!pip install transformers\n",
        "!pip install transformers==3.3.1\n",
        "!pip install datasets==1.0.2\n",
        "\n",
        "# clear_output()"
      ],
      "execution_count": 1,
      "outputs": [
        {
          "output_type": "stream",
          "name": "stdout",
          "text": [
            "Looking in indexes: https://pypi.org/simple, https://us-python.pkg.dev/colab-wheels/public/simple/\n",
            "Requirement already satisfied: transformers in /usr/local/lib/python3.10/dist-packages (4.30.2)\n",
            "Requirement already satisfied: filelock in /usr/local/lib/python3.10/dist-packages (from transformers) (3.12.0)\n",
            "Requirement already satisfied: huggingface-hub<1.0,>=0.14.1 in /usr/local/lib/python3.10/dist-packages (from transformers) (0.15.1)\n",
            "Requirement already satisfied: numpy>=1.17 in /usr/local/lib/python3.10/dist-packages (from transformers) (1.22.4)\n",
            "Requirement already satisfied: packaging>=20.0 in /usr/local/lib/python3.10/dist-packages (from transformers) (23.1)\n",
            "Requirement already satisfied: pyyaml>=5.1 in /usr/local/lib/python3.10/dist-packages (from transformers) (6.0)\n",
            "Requirement already satisfied: regex!=2019.12.17 in /usr/local/lib/python3.10/dist-packages (from transformers) (2022.10.31)\n",
            "Requirement already satisfied: requests in /usr/local/lib/python3.10/dist-packages (from transformers) (2.27.1)\n",
            "Requirement already satisfied: tokenizers!=0.11.3,<0.14,>=0.11.1 in /usr/local/lib/python3.10/dist-packages (from transformers) (0.13.3)\n",
            "Requirement already satisfied: safetensors>=0.3.1 in /usr/local/lib/python3.10/dist-packages (from transformers) (0.3.1)\n",
            "Requirement already satisfied: tqdm>=4.27 in /usr/local/lib/python3.10/dist-packages (from transformers) (4.65.0)\n",
            "Requirement already satisfied: fsspec in /usr/local/lib/python3.10/dist-packages (from huggingface-hub<1.0,>=0.14.1->transformers) (2023.4.0)\n",
            "Requirement already satisfied: typing-extensions>=3.7.4.3 in /usr/local/lib/python3.10/dist-packages (from huggingface-hub<1.0,>=0.14.1->transformers) (4.5.0)\n",
            "Requirement already satisfied: urllib3<1.27,>=1.21.1 in /usr/local/lib/python3.10/dist-packages (from requests->transformers) (1.26.15)\n",
            "Requirement already satisfied: certifi>=2017.4.17 in /usr/local/lib/python3.10/dist-packages (from requests->transformers) (2022.12.7)\n",
            "Requirement already satisfied: charset-normalizer~=2.0.0 in /usr/local/lib/python3.10/dist-packages (from requests->transformers) (2.0.12)\n",
            "Requirement already satisfied: idna<4,>=2.5 in /usr/local/lib/python3.10/dist-packages (from requests->transformers) (3.4)\n",
            "Looking in indexes: https://pypi.org/simple, https://us-python.pkg.dev/colab-wheels/public/simple/\n",
            "Collecting transformers==3.3.1\n",
            "  Using cached transformers-3.3.1-py3-none-any.whl (1.1 MB)\n",
            "Requirement already satisfied: numpy in /usr/local/lib/python3.10/dist-packages (from transformers==3.3.1) (1.22.4)\n",
            "Collecting tokenizers==0.8.1.rc2 (from transformers==3.3.1)\n",
            "  Using cached tokenizers-0.8.1rc2.tar.gz (97 kB)\n",
            "  Installing build dependencies ... \u001b[?25l\u001b[?25hdone\n",
            "  Getting requirements to build wheel ... \u001b[?25l\u001b[?25hdone\n",
            "  Preparing metadata (pyproject.toml) ... \u001b[?25l\u001b[?25hdone\n",
            "Requirement already satisfied: packaging in /usr/local/lib/python3.10/dist-packages (from transformers==3.3.1) (23.1)\n",
            "Requirement already satisfied: filelock in /usr/local/lib/python3.10/dist-packages (from transformers==3.3.1) (3.12.0)\n",
            "Requirement already satisfied: requests in /usr/local/lib/python3.10/dist-packages (from transformers==3.3.1) (2.27.1)\n",
            "Requirement already satisfied: tqdm>=4.27 in /usr/local/lib/python3.10/dist-packages (from transformers==3.3.1) (4.65.0)\n",
            "Requirement already satisfied: regex!=2019.12.17 in /usr/local/lib/python3.10/dist-packages (from transformers==3.3.1) (2022.10.31)\n",
            "Collecting sentencepiece!=0.1.92 (from transformers==3.3.1)\n",
            "  Using cached sentencepiece-0.1.99-cp310-cp310-manylinux_2_17_x86_64.manylinux2014_x86_64.whl (1.3 MB)\n",
            "Collecting sacremoses (from transformers==3.3.1)\n",
            "  Using cached sacremoses-0.0.53-py3-none-any.whl\n",
            "Requirement already satisfied: urllib3<1.27,>=1.21.1 in /usr/local/lib/python3.10/dist-packages (from requests->transformers==3.3.1) (1.26.15)\n",
            "Requirement already satisfied: certifi>=2017.4.17 in /usr/local/lib/python3.10/dist-packages (from requests->transformers==3.3.1) (2022.12.7)\n",
            "Requirement already satisfied: charset-normalizer~=2.0.0 in /usr/local/lib/python3.10/dist-packages (from requests->transformers==3.3.1) (2.0.12)\n",
            "Requirement already satisfied: idna<4,>=2.5 in /usr/local/lib/python3.10/dist-packages (from requests->transformers==3.3.1) (3.4)\n",
            "Requirement already satisfied: six in /usr/local/lib/python3.10/dist-packages (from sacremoses->transformers==3.3.1) (1.16.0)\n",
            "Requirement already satisfied: click in /usr/local/lib/python3.10/dist-packages (from sacremoses->transformers==3.3.1) (8.1.3)\n",
            "Requirement already satisfied: joblib in /usr/local/lib/python3.10/dist-packages (from sacremoses->transformers==3.3.1) (1.2.0)\n",
            "Building wheels for collected packages: tokenizers\n",
            "  \u001b[1;31merror\u001b[0m: \u001b[1msubprocess-exited-with-error\u001b[0m\n",
            "  \n",
            "  \u001b[31m×\u001b[0m \u001b[32mBuilding wheel for tokenizers \u001b[0m\u001b[1;32m(\u001b[0m\u001b[32mpyproject.toml\u001b[0m\u001b[1;32m)\u001b[0m did not run successfully.\n",
            "  \u001b[31m│\u001b[0m exit code: \u001b[1;36m1\u001b[0m\n",
            "  \u001b[31m╰─>\u001b[0m See above for output.\n",
            "  \n",
            "  \u001b[1;35mnote\u001b[0m: This error originates from a subprocess, and is likely not a problem with pip.\n",
            "  Building wheel for tokenizers (pyproject.toml) ... \u001b[?25l\u001b[?25herror\n",
            "\u001b[31m  ERROR: Failed building wheel for tokenizers\u001b[0m\u001b[31m\n",
            "\u001b[0mFailed to build tokenizers\n",
            "\u001b[31mERROR: Could not build wheels for tokenizers, which is required to install pyproject.toml-based projects\u001b[0m\u001b[31m\n",
            "\u001b[0mLooking in indexes: https://pypi.org/simple, https://us-python.pkg.dev/colab-wheels/public/simple/\n",
            "Requirement already satisfied: datasets==1.0.2 in /usr/local/lib/python3.10/dist-packages (1.0.2)\n",
            "Requirement already satisfied: numpy>=1.17 in /usr/local/lib/python3.10/dist-packages (from datasets==1.0.2) (1.22.4)\n",
            "Requirement already satisfied: pyarrow>=0.17.1 in /usr/local/lib/python3.10/dist-packages (from datasets==1.0.2) (9.0.0)\n",
            "Requirement already satisfied: dill in /usr/local/lib/python3.10/dist-packages (from datasets==1.0.2) (0.3.5.1)\n",
            "Requirement already satisfied: pandas in /usr/local/lib/python3.10/dist-packages (from datasets==1.0.2) (1.5.3)\n",
            "Requirement already satisfied: requests>=2.19.0 in /usr/local/lib/python3.10/dist-packages (from datasets==1.0.2) (2.27.1)\n",
            "Requirement already satisfied: tqdm>=4.27 in /usr/local/lib/python3.10/dist-packages (from datasets==1.0.2) (4.65.0)\n",
            "Requirement already satisfied: filelock in /usr/local/lib/python3.10/dist-packages (from datasets==1.0.2) (3.12.0)\n",
            "Requirement already satisfied: xxhash in /usr/local/lib/python3.10/dist-packages (from datasets==1.0.2) (3.2.0)\n",
            "Requirement already satisfied: urllib3<1.27,>=1.21.1 in /usr/local/lib/python3.10/dist-packages (from requests>=2.19.0->datasets==1.0.2) (1.26.15)\n",
            "Requirement already satisfied: certifi>=2017.4.17 in /usr/local/lib/python3.10/dist-packages (from requests>=2.19.0->datasets==1.0.2) (2022.12.7)\n",
            "Requirement already satisfied: charset-normalizer~=2.0.0 in /usr/local/lib/python3.10/dist-packages (from requests>=2.19.0->datasets==1.0.2) (2.0.12)\n",
            "Requirement already satisfied: idna<4,>=2.5 in /usr/local/lib/python3.10/dist-packages (from requests>=2.19.0->datasets==1.0.2) (3.4)\n",
            "Requirement already satisfied: python-dateutil>=2.8.1 in /usr/local/lib/python3.10/dist-packages (from pandas->datasets==1.0.2) (2.8.2)\n",
            "Requirement already satisfied: pytz>=2020.1 in /usr/local/lib/python3.10/dist-packages (from pandas->datasets==1.0.2) (2022.7.1)\n",
            "Requirement already satisfied: six>=1.5 in /usr/local/lib/python3.10/dist-packages (from python-dateutil>=2.8.1->pandas->datasets==1.0.2) (1.16.0)\n"
          ]
        }
      ]
    },
    {
      "cell_type": "code",
      "metadata": {
        "id": "6aWoa3AtDXN0"
      },
      "source": [
        "from datasets import load_dataset\n",
        "import tensorflow as tf\n",
        "import numpy as np\n",
        "import matplotlib.pyplot as plt\n",
        "import tensorflow_datasets as tfds\n",
        "import transformers\n",
        "import datasets\n",
        "from transformers import AutoTokenizer, TFT5ForConditionalGeneration\n",
        "import datetime\n",
        "import os\n",
        "%load_ext tensorboard"
      ],
      "execution_count": 2,
      "outputs": []
    },
    {
      "cell_type": "code",
      "metadata": {
        "id": "OQ5CoTk-DXN6",
        "outputId": "f384c4dc-c153-43f7-e024-f2046cd16267",
        "colab": {
          "base_uri": "https://localhost:8080/"
        }
      },
      "source": [
        "tf_version = tf.__version__\n",
        "print(\"Tensorflow: \", tf_version)\n",
        "print(\"Transformers: \", transformers.__version__)\n",
        "print(\"Datasets: \", datasets.__version__)\n",
        "\n",
        "tf_version_split = tf_version.split('.')\n",
        "assert int(tf_version_split[0])==2 and int(tf_version_split[-2])>=3, f\"Tensorflow version should be '2.3+,x', given {tf_version}\"\n"
      ],
      "execution_count": 3,
      "outputs": [
        {
          "output_type": "stream",
          "name": "stdout",
          "text": [
            "Tensorflow:  2.12.0\n",
            "Transformers:  4.30.2\n",
            "Datasets:  1.0.2\n"
          ]
        }
      ]
    },
    {
      "cell_type": "code",
      "metadata": {
        "id": "OyHbWsh9W6-4",
        "outputId": "aed804ff-3a2b-4fe2-9083-bf9691891116",
        "colab": {
          "base_uri": "https://localhost:8080/"
        }
      },
      "source": [
        "!mkdir data\n",
        "!ls -la"
      ],
      "execution_count": 4,
      "outputs": [
        {
          "output_type": "stream",
          "name": "stdout",
          "text": [
            "mkdir: cannot create directory ‘data’: File exists\n",
            "total 20\n",
            "drwxr-xr-x 1 root root 4096 Jun 22 19:22 .\n",
            "drwxr-xr-x 1 root root 4096 Jun 22 19:06 ..\n",
            "drwxr-xr-x 4 root root 4096 Jun 21 21:46 .config\n",
            "drwxr-xr-x 2 root root 4096 Jun 22 19:22 data\n",
            "drwxr-xr-x 1 root root 4096 Jun 21 21:47 sample_data\n"
          ]
        }
      ]
    },
    {
      "cell_type": "code",
      "metadata": {
        "id": "KRMGSskHDXOA"
      },
      "source": [
        "data_dir = \"./data\"\n",
        "log_dir = f\"{data_dir}/experiments/t5/logs\"\n",
        "save_path = f\"{data_dir}/experiments/t5/models\"\n",
        "cache_path_train = f\"{data_dir}/cache/t5.train\"\n",
        "cache_path_test = f\"{data_dir}/cache/t5.test\""
      ],
      "execution_count": 5,
      "outputs": []
    },
    {
      "cell_type": "markdown",
      "metadata": {
        "id": "cKW_eO4qVqvV"
      },
      "source": [
        "### Defining the Model"
      ]
    },
    {
      "cell_type": "code",
      "metadata": {
        "id": "2xcGqd9qDXOF"
      },
      "source": [
        "class SnapthatT5(TFT5ForConditionalGeneration):\n",
        "    def __init__(self, *args, log_dir=None, cache_dir= None, **kwargs):\n",
        "        super().__init__(*args, **kwargs)\n",
        "        self.loss_tracker = tf.keras.metrics.Mean(name='loss')\n",
        "\n",
        "    @tf.function\n",
        "    def train_step(self, data):\n",
        "        x = data\n",
        "        y = x[\"labels\"]\n",
        "        y = tf.reshape(y, [-1, 1])\n",
        "        with tf.GradientTape() as tape:\n",
        "            outputs = self(x, training=True)\n",
        "            loss = outputs[0]\n",
        "            logits = outputs[1]\n",
        "            loss = tf.reduce_mean(loss)\n",
        "\n",
        "            grads = tape.gradient(loss, self.trainable_variables)\n",
        "\n",
        "        self.optimizer.apply_gradients(zip(grads, self.trainable_variables))\n",
        "        # lr = self.optimizer._decayed_lr(tf.float32)\n",
        "        lr = 0.01\n",
        "\n",
        "        self.loss_tracker.update_state(loss)\n",
        "        self.compiled_metrics.update_state(y, logits)\n",
        "        metrics = {m.name: m.result() for m in self.metrics}\n",
        "        metrics.update({'lr': lr})\n",
        "\n",
        "        return metrics\n",
        "\n",
        "    def test_step(self, data):\n",
        "        x = data\n",
        "        y = x[\"labels\"]\n",
        "        y = tf.reshape(y, [-1, 1])\n",
        "        output = self(x, training=False)\n",
        "        loss = output[0]\n",
        "        loss = tf.reduce_mean(loss)\n",
        "        logits = output[1]\n",
        "\n",
        "        self.loss_tracker.update_state(loss)\n",
        "        self.compiled_metrics.update_state(y, logits)\n",
        "        return {m.name: m.result() for m in self.metrics}\n"
      ],
      "execution_count": 6,
      "outputs": []
    },
    {
      "cell_type": "markdown",
      "metadata": {
        "id": "CgsSdpHxVqvY"
      },
      "source": [
        "### The Tokenizer"
      ]
    },
    {
      "cell_type": "markdown",
      "source": [
        "You'll have a new model here called `T5`."
      ],
      "metadata": {
        "id": "DmlKP4P6Zp7E"
      }
    },
    {
      "cell_type": "code",
      "metadata": {
        "id": "VvOrIgzODXOD",
        "outputId": "ef378a80-bfeb-4c5e-f0c7-573c9aa99b69",
        "colab": {
          "base_uri": "https://localhost:8080/"
        }
      },
      "source": [
        "tokenizer = AutoTokenizer.from_pretrained(\"t5-base\")"
      ],
      "execution_count": 7,
      "outputs": [
        {
          "output_type": "stream",
          "name": "stderr",
          "text": [
            "/usr/local/lib/python3.10/dist-packages/transformers/models/t5/tokenization_t5_fast.py:155: FutureWarning: This tokenizer was incorrectly instantiated with a model max length of 512 which will be corrected in Transformers v5.\n",
            "For now, this behavior is kept to avoid breaking backwards compatibility when padding/encoding with `truncation is True`.\n",
            "- Be aware that you SHOULD NOT rely on t5-base automatically truncating your input to 512 when padding/encoding.\n",
            "- If you want to encode/pad to sequences longer than 512 you can either instantiate this tokenizer with `model_max_length` or pass `max_length` when encoding/padding.\n",
            "- To avoid this warning, please instantiate this tokenizer with `model_max_length` set to your preferred value.\n",
            "  warnings.warn(\n"
          ]
        }
      ]
    },
    {
      "cell_type": "markdown",
      "metadata": {
        "id": "1EgTphQODXOH"
      },
      "source": [
        "### Preparing the Data"
      ]
    },
    {
      "cell_type": "markdown",
      "source": [
        "You'll be using the same `SQUAD` dataset so you have a comparison."
      ],
      "metadata": {
        "id": "0FOxLR1QZtWE"
      }
    },
    {
      "cell_type": "code",
      "metadata": {
        "id": "KX1rsWgZDXOK",
        "scrolled": true,
        "outputId": "f61d816c-7224-47db-d6ce-cb3437aab420",
        "colab": {
          "base_uri": "https://localhost:8080/"
        }
      },
      "source": [
        "train_dataset = load_dataset('squad', split='train')\n",
        "valid_dataset = load_dataset('squad', split='validation')\n",
        "\n",
        "train_dataset.features"
      ],
      "execution_count": 8,
      "outputs": [
        {
          "output_type": "stream",
          "name": "stderr",
          "text": [
            "Reusing dataset squad (/root/.cache/huggingface/datasets/squad/plain_text/1.0.0/1244d044b266a5e4dbd4174d23cb995eead372fbca31a03edc3f8a132787af41)\n",
            "Reusing dataset squad (/root/.cache/huggingface/datasets/squad/plain_text/1.0.0/1244d044b266a5e4dbd4174d23cb995eead372fbca31a03edc3f8a132787af41)\n"
          ]
        },
        {
          "output_type": "execute_result",
          "data": {
            "text/plain": [
              "{'id': Value(dtype='string', id=None),\n",
              " 'title': Value(dtype='string', id=None),\n",
              " 'context': Value(dtype='string', id=None),\n",
              " 'question': Value(dtype='string', id=None),\n",
              " 'answers': Sequence(feature={'text': Value(dtype='string', id=None), 'answer_start': Value(dtype='int32', id=None)}, length=-1, id=None)}"
            ]
          },
          "metadata": {},
          "execution_count": 8
        }
      ]
    },
    {
      "cell_type": "code",
      "metadata": {
        "id": "y7EK-tgHDXOM",
        "outputId": "28662338-353a-42fb-cb3a-9d9fa63cf0d4",
        "colab": {
          "base_uri": "https://localhost:8080/"
        }
      },
      "source": [
        "data = next(iter(train_dataset))\n",
        "print(\"Example data from the dataset: \\n\", data)"
      ],
      "execution_count": 9,
      "outputs": [
        {
          "output_type": "stream",
          "name": "stdout",
          "text": [
            "Example data from the dataset: \n",
            " {'answers': {'answer_start': [515], 'text': ['Saint Bernadette Soubirous']}, 'context': 'Architecturally, the school has a Catholic character. Atop the Main Building\\'s gold dome is a golden statue of the Virgin Mary. Immediately in front of the Main Building and facing it, is a copper statue of Christ with arms upraised with the legend \"Venite Ad Me Omnes\". Next to the Main Building is the Basilica of the Sacred Heart. Immediately behind the basilica is the Grotto, a Marian place of prayer and reflection. It is a replica of the grotto at Lourdes, France where the Virgin Mary reputedly appeared to Saint Bernadette Soubirous in 1858. At the end of the main drive (and in a direct line that connects through 3 statues and the Gold Dome), is a simple, modern stone statue of Mary.', 'id': '5733be284776f41900661182', 'question': 'To whom did the Virgin Mary allegedly appear in 1858 in Lourdes France?', 'title': 'University_of_Notre_Dame'}\n"
          ]
        }
      ]
    },
    {
      "cell_type": "markdown",
      "metadata": {
        "id": "37XBj09AVqvi"
      },
      "source": [
        "### Training Parameters"
      ]
    },
    {
      "cell_type": "code",
      "metadata": {
        "id": "SIZFbP4IDXOO",
        "outputId": "fc25c658-cc89-407e-ec8c-fa4649e7a7f4",
        "colab": {
          "base_uri": "https://localhost:8080/"
        }
      },
      "source": [
        "warmup_steps = 1e4\n",
        "batch_size = 4\n",
        "encoder_max_len = 250\n",
        "decoder_max_len = 54\n",
        "buffer_size = 1000\n",
        "ntrain = len(train_dataset)\n",
        "nvalid = len(valid_dataset)\n",
        "steps = int(np.ceil(ntrain/batch_size))\n",
        "valid_steps = int(np.ceil(nvalid/batch_size))\n",
        "print(\"Total Steps: \", steps)\n",
        "print(\"Total Validation Steps: \", valid_steps)"
      ],
      "execution_count": 10,
      "outputs": [
        {
          "output_type": "stream",
          "name": "stdout",
          "text": [
            "Total Steps:  21900\n",
            "Total Validation Steps:  2643\n"
          ]
        }
      ]
    },
    {
      "cell_type": "markdown",
      "metadata": {
        "id": "XCoHLlLWVqvk"
      },
      "source": [
        "### Defining the data pipeline"
      ]
    },
    {
      "cell_type": "code",
      "metadata": {
        "id": "NdhcP171DXOY"
      },
      "source": [
        "def encode(example,\n",
        "           encoder_max_len=encoder_max_len, decoder_max_len=decoder_max_len):\n",
        "\n",
        "    context = example['context']\n",
        "    question = example['question']\n",
        "    answer = example['answers']['text']\n",
        "\n",
        "    question_plus = f\"answer_me: {str(question)}\"\n",
        "    question_plus += f\" context: {str(context)} </s>\"\n",
        "\n",
        "    answer_plus = ', '.join([i for i in list(answer)])\n",
        "    answer_plus = f\"{answer_plus} </s>\"\n",
        "\n",
        "    encoder_inputs = tokenizer(question_plus, truncation=True,\n",
        "                               return_tensors='tf', max_length=encoder_max_len,\n",
        "                              pad_to_max_length=True)\n",
        "\n",
        "    decoder_inputs = tokenizer(answer_plus, truncation=True,\n",
        "                               return_tensors='tf', max_length=decoder_max_len,\n",
        "                              pad_to_max_length=True)\n",
        "\n",
        "    input_ids = encoder_inputs['input_ids'][0]\n",
        "    input_attention = encoder_inputs['attention_mask'][0]\n",
        "    target_ids = decoder_inputs['input_ids'][0]\n",
        "    target_attention = decoder_inputs['attention_mask'][0]\n",
        "\n",
        "    outputs = {'input_ids':input_ids, 'attention_mask': input_attention,\n",
        "               'labels':target_ids, 'decoder_attention_mask':target_attention}\n",
        "    return outputs\n",
        "\n"
      ],
      "execution_count": 11,
      "outputs": []
    },
    {
      "cell_type": "markdown",
      "source": [
        "You'll need the following `dill` package so you need to run it. It might ask you to `restart` the kernel. You'll have to restart it and run everything above. I had to do this to make sure the `train_dataset.map` doesn't have error."
      ],
      "metadata": {
        "id": "cw8UsmaWZxXp"
      }
    },
    {
      "cell_type": "code",
      "source": [
        "!pip install dill==0.3.5.1"
      ],
      "metadata": {
        "id": "HXBCdy7i3U5C",
        "colab": {
          "base_uri": "https://localhost:8080/"
        },
        "outputId": "8ccb2bac-1209-41b8-e896-f5034d88ddc6"
      },
      "execution_count": 12,
      "outputs": [
        {
          "output_type": "stream",
          "name": "stdout",
          "text": [
            "Looking in indexes: https://pypi.org/simple, https://us-python.pkg.dev/colab-wheels/public/simple/\n",
            "Requirement already satisfied: dill==0.3.5.1 in /usr/local/lib/python3.10/dist-packages (0.3.5.1)\n"
          ]
        }
      ]
    },
    {
      "cell_type": "code",
      "metadata": {
        "id": "b0qy3VeSXAJf",
        "outputId": "297194ec-fd9a-4cdf-d6a4-a92a9abb1089",
        "colab": {
          "base_uri": "https://localhost:8080/",
          "height": 136,
          "referenced_widgets": [
            "37d22bf9ba5a4dfa88267dc7341d4dbb",
            "b0bf451849a4463abaa687d604b93da8",
            "6e34486bd6154f98bc4521321f5181ec",
            "673d99a6c5f94bbebaf031e6c28ad53a",
            "b63cdfb435634f9192f1a16f8dada649",
            "fdb9ce29ddd24cb692b42fc4d399371e",
            "cd7e6b4a18264322ae110331f399aa97",
            "e6c10e246cfb4b9cb683c6b8478e5344",
            "bdf44740edca42608aec4ca46acfb7e6",
            "714dd7841b26462f84a091ee3ad8b8b6",
            "e48fc105a3684ea9982a0c1c756e985c",
            "842eec79c460489ea2b055329e5cef42",
            "dbbb8871d6404cec8916020f6becee37",
            "f8776f1cffa84d29ae00e72c925a8a10",
            "147e8725b42945b499f6b36d8bbd3dd1",
            "1f2406d3001744cd9ef49cafa207e890",
            "596219ea1297463997c7471105ba8546",
            "4d0457d2389f4af195fbc0d1a45c3c08",
            "3879d43d0d85474a897e2cbeadb43632",
            "ddcdf27c7f05462090c6035e504b84e8",
            "d6a0b47836e442aeab4b6dfa16373667",
            "ada1fd937dcb43d5875d5cb432df6870"
          ]
        }
      },
      "source": [
        "train_ds = train_dataset.map(encode)\n",
        "valid_ds = valid_dataset.map(encode)"
      ],
      "execution_count": 13,
      "outputs": [
        {
          "output_type": "stream",
          "name": "stderr",
          "text": [
            "/usr/local/lib/python3.10/dist-packages/transformers/tokenization_utils_base.py:2377: FutureWarning: The `pad_to_max_length` argument is deprecated and will be removed in a future version, use `padding=True` or `padding='longest'` to pad to the longest sequence in the batch, or use `padding='max_length'` to pad to a max length. In this case, you can give a specific length with `max_length` (e.g. `max_length=45`) or leave max_length to None to pad to the maximal input size of the model (e.g. 512 for Bert).\n",
            "  warnings.warn(\n"
          ]
        },
        {
          "output_type": "display_data",
          "data": {
            "text/plain": [
              "  0%|          | 0/87599 [00:00<?, ?ex/s]"
            ],
            "application/vnd.jupyter.widget-view+json": {
              "version_major": 2,
              "version_minor": 0,
              "model_id": "37d22bf9ba5a4dfa88267dc7341d4dbb"
            }
          },
          "metadata": {}
        },
        {
          "output_type": "display_data",
          "data": {
            "text/plain": [
              "  0%|          | 0/10570 [00:00<?, ?ex/s]"
            ],
            "application/vnd.jupyter.widget-view+json": {
              "version_major": 2,
              "version_minor": 0,
              "model_id": "842eec79c460489ea2b055329e5cef42"
            }
          },
          "metadata": {}
        }
      ]
    },
    {
      "cell_type": "code",
      "metadata": {
        "id": "xRtRVwhJQFcu",
        "outputId": "8502c5b4-33a9-4896-8269-689d416bab35",
        "colab": {
          "base_uri": "https://localhost:8080/"
        }
      },
      "source": [
        "ex = next(iter(train_ds))\n",
        "print(\"Example data from the mapped dataset: \\n\", ex)"
      ],
      "execution_count": 14,
      "outputs": [
        {
          "output_type": "stream",
          "name": "stdout",
          "text": [
            "Example data from the mapped dataset: \n",
            " {'answers': {'answer_start': [515], 'text': ['Saint Bernadette Soubirous']}, 'attention_mask': [1, 1, 1, 1, 1, 1, 1, 1, 1, 1, 1, 1, 1, 1, 1, 1, 1, 1, 1, 1, 1, 1, 1, 1, 1, 1, 1, 1, 1, 1, 1, 1, 1, 1, 1, 1, 1, 1, 1, 1, 1, 1, 1, 1, 1, 1, 1, 1, 1, 1, 1, 1, 1, 1, 1, 1, 1, 1, 1, 1, 1, 1, 1, 1, 1, 1, 1, 1, 1, 1, 1, 1, 1, 1, 1, 1, 1, 1, 1, 1, 1, 1, 1, 1, 1, 1, 1, 1, 1, 1, 1, 1, 1, 1, 1, 1, 1, 1, 1, 1, 1, 1, 1, 1, 1, 1, 1, 1, 1, 1, 1, 1, 1, 1, 1, 1, 1, 1, 1, 1, 1, 1, 1, 1, 1, 1, 1, 1, 1, 1, 1, 1, 1, 1, 1, 1, 1, 1, 1, 1, 1, 1, 1, 1, 1, 1, 1, 1, 1, 1, 1, 1, 1, 1, 1, 1, 1, 1, 1, 1, 1, 1, 1, 1, 1, 1, 1, 1, 1, 1, 1, 1, 1, 1, 1, 1, 1, 1, 1, 1, 1, 1, 1, 1, 1, 1, 1, 1, 1, 1, 1, 1, 1, 1, 1, 1, 1, 1, 1, 1, 1, 1, 1, 1, 1, 0, 0, 0, 0, 0, 0, 0, 0, 0, 0, 0, 0, 0, 0, 0, 0, 0, 0, 0, 0, 0, 0, 0, 0, 0, 0, 0, 0, 0, 0, 0, 0, 0, 0, 0, 0, 0, 0, 0, 0, 0, 0, 0, 0, 0], 'context': 'Architecturally, the school has a Catholic character. Atop the Main Building\\'s gold dome is a golden statue of the Virgin Mary. Immediately in front of the Main Building and facing it, is a copper statue of Christ with arms upraised with the legend \"Venite Ad Me Omnes\". Next to the Main Building is the Basilica of the Sacred Heart. Immediately behind the basilica is the Grotto, a Marian place of prayer and reflection. It is a replica of the grotto at Lourdes, France where the Virgin Mary reputedly appeared to Saint Bernadette Soubirous in 1858. At the end of the main drive (and in a direct line that connects through 3 statues and the Gold Dome), is a simple, modern stone statue of Mary.', 'decoder_attention_mask': [1, 1, 1, 1, 1, 1, 1, 1, 1, 1, 0, 0, 0, 0, 0, 0, 0, 0, 0, 0, 0, 0, 0, 0, 0, 0, 0, 0, 0, 0, 0, 0, 0, 0, 0, 0, 0, 0, 0, 0, 0, 0, 0, 0, 0, 0, 0, 0, 0, 0, 0, 0, 0, 0], 'id': '5733be284776f41900661182', 'input_ids': [1525, 834, 526, 10, 304, 4068, 410, 8, 16823, 3790, 3, 18280, 2385, 16, 507, 3449, 16, 301, 1211, 1395, 1410, 58, 2625, 10, 30797, 120, 6, 8, 496, 65, 3, 9, 6502, 1848, 5, 71, 2916, 8, 5140, 5450, 31, 7, 2045, 22161, 19, 3, 9, 7069, 12647, 13, 8, 16823, 3790, 5, 3, 29167, 16, 851, 13, 8, 5140, 5450, 11, 5008, 34, 6, 19, 3, 9, 8658, 12647, 13, 2144, 28, 6026, 3, 76, 24266, 28, 8, 9503, 96, 553, 15, 7980, 1980, 1212, 13285, 1496, 1280, 3021, 12, 8, 5140, 5450, 19, 8, 23711, 2617, 13, 8, 3, 24756, 6219, 5, 3, 29167, 1187, 8, 20605, 2617, 19, 8, 8554, 17, 235, 6, 3, 9, 17535, 286, 13, 7029, 11, 9619, 5, 94, 19, 3, 9, 16455, 13, 8, 3, 3844, 17, 235, 44, 301, 1211, 1395, 6, 1410, 213, 8, 16823, 3790, 3, 28285, 26, 120, 4283, 12, 2788, 8942, 9, 26, 1954, 264, 8371, 8283, 16, 507, 3449, 5, 486, 8, 414, 13, 8, 711, 1262, 41, 232, 16, 3, 9, 1223, 689, 24, 1979, 7, 190, 220, 12647, 7, 11, 8, 2540, 10576, 15, 201, 19, 3, 9, 650, 6, 941, 3372, 12647, 13, 3790, 5, 1, 1, 0, 0, 0, 0, 0, 0, 0, 0, 0, 0, 0, 0, 0, 0, 0, 0, 0, 0, 0, 0, 0, 0, 0, 0, 0, 0, 0, 0, 0, 0, 0, 0, 0, 0, 0, 0, 0, 0, 0, 0, 0, 0, 0, 0, 0], 'labels': [2788, 8942, 9, 26, 1954, 264, 8371, 8283, 1, 1, 0, 0, 0, 0, 0, 0, 0, 0, 0, 0, 0, 0, 0, 0, 0, 0, 0, 0, 0, 0, 0, 0, 0, 0, 0, 0, 0, 0, 0, 0, 0, 0, 0, 0, 0, 0, 0, 0, 0, 0, 0, 0, 0, 0], 'question': 'To whom did the Virgin Mary allegedly appear in 1858 in Lourdes France?', 'title': 'University_of_Notre_Dame'}\n"
          ]
        }
      ]
    },
    {
      "cell_type": "code",
      "metadata": {
        "id": "TJVLbHbelMki"
      },
      "source": [
        "def to_tf_dataset(dataset):\n",
        "  columns = ['input_ids', 'attention_mask', 'labels', 'decoder_attention_mask']\n",
        "  dataset.set_format(type='tensorflow', columns=columns)\n",
        "  return_types = {'input_ids':tf.int32, 'attention_mask':tf.int32,\n",
        "                'labels':tf.int32, 'decoder_attention_mask':tf.int32,  }\n",
        "  return_shapes = {'input_ids': tf.TensorShape([None]), 'attention_mask': tf.TensorShape([None]),\n",
        "                  'labels': tf.TensorShape([None]), 'decoder_attention_mask':tf.TensorShape([None])}\n",
        "  ds = tf.data.Dataset.from_generator(lambda : dataset, return_types, return_shapes)\n",
        "  return ds"
      ],
      "execution_count": 15,
      "outputs": []
    },
    {
      "cell_type": "code",
      "metadata": {
        "id": "YRD3MlH8o0HC"
      },
      "source": [
        "tf_train_ds = to_tf_dataset(train_ds)\n",
        "tf_valid_ds = to_tf_dataset(valid_ds)"
      ],
      "execution_count": 16,
      "outputs": []
    },
    {
      "cell_type": "code",
      "metadata": {
        "id": "LUKypEaSDXOd"
      },
      "source": [
        "def create_dataset(dataset, cache_path=None, batch_size=4,\n",
        "                   buffer_size= 1000, shuffling=True):\n",
        "    if cache_path is not None:\n",
        "        dataset = dataset.cache(cache_path)\n",
        "    if shuffling:\n",
        "        dataset = dataset.shuffle(buffer_size)\n",
        "    dataset = dataset.batch(batch_size)\n",
        "    dataset = dataset.prefetch(tf.data.experimental.AUTOTUNE)\n",
        "    return dataset"
      ],
      "execution_count": 17,
      "outputs": []
    },
    {
      "cell_type": "code",
      "metadata": {
        "id": "nNiNtnsHDXOf"
      },
      "source": [
        "tf_train_ds = create_dataset(tf_train_ds, batch_size=batch_size,\n",
        "                         shuffling=True, cache_path = None)\n",
        "tf_valid_ds = create_dataset(tf_valid_ds, batch_size=batch_size,\n",
        "                         shuffling=False, cache_path = None)"
      ],
      "execution_count": 18,
      "outputs": []
    },
    {
      "cell_type": "code",
      "metadata": {
        "id": "xHq71CTDDXOn"
      },
      "source": [
        "class CustomSchedule(tf.keras.optimizers.schedules.LearningRateSchedule):\n",
        "  def __init__(self, warmup_steps=1e4):\n",
        "    super().__init__()\n",
        "\n",
        "    self.warmup_steps = tf.cast(warmup_steps, tf.float32)\n",
        "\n",
        "  def __call__(self, step):\n",
        "    step = tf.cast(step, tf.float32)\n",
        "    m = tf.maximum(self.warmup_steps, step)\n",
        "    m = tf.cast(m, tf.float32)\n",
        "    lr = tf.math.rsqrt(m)\n",
        "\n",
        "    return lr\n"
      ],
      "execution_count": 19,
      "outputs": []
    },
    {
      "cell_type": "code",
      "metadata": {
        "id": "G6-LcG6TDXOt",
        "outputId": "2c5910ee-9f30-4e24-fd82-f41e74ebda65",
        "colab": {
          "base_uri": "https://localhost:8080/",
          "height": 470
        }
      },
      "source": [
        "plt.style.use('ggplot')\n",
        "schedule = CustomSchedule()\n",
        "plt.plot(schedule(tf.range(25000, dtype=tf.float32)))\n",
        "plt.xlabel(\"Steps\")\n",
        "plt.ylabel(\"Learning rate\")"
      ],
      "execution_count": 20,
      "outputs": [
        {
          "output_type": "execute_result",
          "data": {
            "text/plain": [
              "Text(0, 0.5, 'Learning rate')"
            ]
          },
          "metadata": {},
          "execution_count": 20
        },
        {
          "output_type": "display_data",
          "data": {
            "text/plain": [
              "<Figure size 640x480 with 1 Axes>"
            ],
            "image/png": "[encoded data removed]"
          },
          "metadata": {}
        }
      ]
    },
    {
      "cell_type": "markdown",
      "metadata": {
        "id": "KV-r3L0BVqv0"
      },
      "source": [
        "### Callbacks and Metrics"
      ]
    },
    {
      "cell_type": "code",
      "metadata": {
        "id": "rA9OVe28DXOq"
      },
      "source": [
        "start_profile_batch = steps+10\n",
        "stop_profile_batch = start_profile_batch + 100\n",
        "profile_range = f\"{start_profile_batch},{stop_profile_batch}\"\n",
        "\n",
        "log_path = log_dir + \"/\" + datetime.datetime.now().strftime(\"%Y-%m-%d_%H:%M:%S\")\n",
        "tensorboard_callback = tf.keras.callbacks.TensorBoard(log_dir=log_path, histogram_freq=1,\n",
        "                                                     update_freq=20,profile_batch=profile_range)\n",
        "\n",
        "checkpoint_filepath = save_path + \"/\" + \"T5-{epoch:04d}-{val_loss:.4f}.ckpt\"\n",
        "model_checkpoint_callback = tf.keras.callbacks.ModelCheckpoint(\n",
        "    filepath=checkpoint_filepath,\n",
        "    save_weights_only=False,\n",
        "    monitor='val_loss',\n",
        "    mode='min',\n",
        "    save_best_only=True)\n",
        "\n",
        "callbacks = [tensorboard_callback, model_checkpoint_callback]\n",
        "metrics = [tf.keras.metrics.SparseTopKCategoricalAccuracy(name='accuracy') ]"
      ],
      "execution_count": 21,
      "outputs": []
    },
    {
      "cell_type": "markdown",
      "metadata": {
        "id": "cgxRVn34Z0wb"
      },
      "source": [
        "### Training"
      ]
    },
    {
      "cell_type": "code",
      "metadata": {
        "id": "SX_CQGhoDXOw"
      },
      "source": [
        "# learning_rate = CustomSchedule()\n",
        "learning_rate = 0.001  # Instead set a static learning rate\n",
        "optimizer = tf.keras.optimizers.Adam(learning_rate)"
      ],
      "execution_count": 22,
      "outputs": []
    },
    {
      "cell_type": "markdown",
      "source": [
        "The `T5` model comes from [here](https://huggingface.co/t5-base) with the following related papers.\n",
        "\n",
        "- [https://huggingface.co/papers/1805.12471](https://huggingface.co/papers/1805.12471)\n",
        "- [https://huggingface.co/models?other=arxiv:1708.00055](https://huggingface.co/models?other=arxiv:1708.00055)\n",
        "- [https://huggingface.co/models?other=arxiv:1704.05426](https://huggingface.co/models?other=arxiv:1704.05426)\n",
        "- [https://huggingface.co/models?other=arxiv:1606.05250](https://huggingface.co/models?other=arxiv:1606.05250)\n",
        "- [https://huggingface.co/models?other=arxiv:1808.09121](https://huggingface.co/models?other=arxiv:1808.09121)\n",
        "-[https://huggingface.co/models?other=arxiv:1810.12885](https://huggingface.co/models?other=arxiv:1810.12885)\n",
        "- [https://huggingface.co/models?other=arxiv:1905.10044](https://huggingface.co/models?other=arxiv:1905.10044)\n",
        "- [https://huggingface.co/models?other=arxiv:1910.09700](https://huggingface.co/models?other=arxiv:1910.09700)\n",
        "- [Exploring Transfer Learning with T5](https://ai.googleblog.com/2020/02/exploring-transfer-learning-with-t5.html)\n"
      ],
      "metadata": {
        "id": "ijewYIN6bzSH"
      }
    },
    {
      "cell_type": "code",
      "metadata": {
        "id": "AZym7SmWDXO0",
        "outputId": "ec3548e8-fdec-4801-ef5a-f92bd5075249",
        "colab": {
          "base_uri": "https://localhost:8080/",
          "height": 166,
          "referenced_widgets": [
            "325ec38512144466af42299b63207740",
            "974892a6e0ea4904ac3d04152024104d",
            "48fe2a4f35f744c2b4ccdcbe33234d20",
            "f8239ca22aac4d88b6953dfc6fe6d4eb",
            "2a64428df83144dfbaba87a135f208d4",
            "78d204a90820491d978d06b1ed61a4ed",
            "da09185783254ab09048f6a3198779a5",
            "16479a2e1f2d43a988e0b556fc304a15",
            "17bdc7c3c5684490be816955db00dea5",
            "5cc3ab4ca8fe460da9ae60bc4f79d95d",
            "17a3b56242f045d2a61ab1de6723b6c4"
          ]
        }
      },
      "source": [
        "model = SnapthatT5.from_pretrained(\"t5-base\")"
      ],
      "execution_count": 23,
      "outputs": [
        {
          "output_type": "display_data",
          "data": {
            "text/plain": [
              "Downloading model.safetensors:   0%|          | 0.00/892M [00:00<?, ?B/s]"
            ],
            "application/vnd.jupyter.widget-view+json": {
              "version_major": 2,
              "version_minor": 0,
              "model_id": "325ec38512144466af42299b63207740"
            }
          },
          "metadata": {}
        },
        {
          "output_type": "stream",
          "name": "stderr",
          "text": [
            "All PyTorch model weights were used when initializing SnapthatT5.\n",
            "\n",
            "Some weights or buffers of the TF 2.0 model SnapthatT5 were not initialized from the PyTorch model and are newly initialized: ['total', 'count']\n",
            "You should probably TRAIN this model on a down-stream task to be able to use it for predictions and inference.\n"
          ]
        }
      ]
    },
    {
      "cell_type": "code",
      "metadata": {
        "id": "z_QxL8gPDXO1"
      },
      "source": [
        "model.compile(optimizer=optimizer, metrics=metrics)"
      ],
      "execution_count": 24,
      "outputs": []
    },
    {
      "cell_type": "code",
      "metadata": {
        "id": "RKAw6u2Odl1I"
      },
      "source": [
        "# %tensorboard --logdir ./data/experiments/t5/logs"
      ],
      "execution_count": 25,
      "outputs": []
    },
    {
      "cell_type": "code",
      "source": [
        "! pip install codecarbon"
      ],
      "metadata": {
        "colab": {
          "base_uri": "https://localhost:8080/"
        },
        "id": "Lyh0FUUEYrJF",
        "outputId": "7837533b-7782-451f-be67-9640efbbf1a4"
      },
      "execution_count": 26,
      "outputs": [
        {
          "output_type": "stream",
          "name": "stdout",
          "text": [
            "Looking in indexes: https://pypi.org/simple, https://us-python.pkg.dev/colab-wheels/public/simple/\n",
            "Collecting codecarbon\n",
            "  Downloading codecarbon-2.2.4-py3-none-any.whl (176 kB)\n",
            "\u001b[2K     \u001b[90m━━━━━━━━━━━━━━━━━━━━━━━━━━━━━━━━━━━━━━\u001b[0m \u001b[32m176.0/176.0 kB\u001b[0m \u001b[31m17.8 MB/s\u001b[0m eta \u001b[36m0:00:00\u001b[0m\n",
            "\u001b[?25hCollecting arrow (from codecarbon)\n",
            "  Downloading arrow-1.2.3-py3-none-any.whl (66 kB)\n",
            "\u001b[2K     \u001b[90m━━━━━━━━━━━━━━━━━━━━━━━━━━━━━━━━━━━━━━━━\u001b[0m \u001b[32m66.4/66.4 kB\u001b[0m \u001b[31m11.4 MB/s\u001b[0m eta \u001b[36m0:00:00\u001b[0m\n",
            "\u001b[?25hRequirement already satisfied: pandas in /usr/local/lib/python3.10/dist-packages (from codecarbon) (1.5.3)\n",
            "Collecting pynvml (from codecarbon)\n",
            "  Downloading pynvml-11.5.0-py3-none-any.whl (53 kB)\n",
            "\u001b[2K     \u001b[90m━━━━━━━━━━━━━━━━━━━━━━━━━━━━━━━━━━━━━━━━\u001b[0m \u001b[32m53.1/53.1 kB\u001b[0m \u001b[31m8.0 MB/s\u001b[0m eta \u001b[36m0:00:00\u001b[0m\n",
            "\u001b[?25hRequirement already satisfied: requests in /usr/local/lib/python3.10/dist-packages (from codecarbon) (2.27.1)\n",
            "Requirement already satisfied: psutil in /usr/local/lib/python3.10/dist-packages (from codecarbon) (5.9.5)\n",
            "Requirement already satisfied: py-cpuinfo in /usr/local/lib/python3.10/dist-packages (from codecarbon) (9.0.0)\n",
            "Collecting fuzzywuzzy (from codecarbon)\n",
            "  Downloading fuzzywuzzy-0.18.0-py2.py3-none-any.whl (18 kB)\n",
            "Requirement already satisfied: click in /usr/local/lib/python3.10/dist-packages (from codecarbon) (8.1.3)\n",
            "Requirement already satisfied: python-dateutil>=2.7.0 in /usr/local/lib/python3.10/dist-packages (from arrow->codecarbon) (2.8.2)\n",
            "Requirement already satisfied: pytz>=2020.1 in /usr/local/lib/python3.10/dist-packages (from pandas->codecarbon) (2022.7.1)\n",
            "Requirement already satisfied: numpy>=1.21.0 in /usr/local/lib/python3.10/dist-packages (from pandas->codecarbon) (1.22.4)\n",
            "Requirement already satisfied: urllib3<1.27,>=1.21.1 in /usr/local/lib/python3.10/dist-packages (from requests->codecarbon) (1.26.15)\n",
            "Requirement already satisfied: certifi>=2017.4.17 in /usr/local/lib/python3.10/dist-packages (from requests->codecarbon) (2022.12.7)\n",
            "Requirement already satisfied: charset-normalizer~=2.0.0 in /usr/local/lib/python3.10/dist-packages (from requests->codecarbon) (2.0.12)\n",
            "Requirement already satisfied: idna<4,>=2.5 in /usr/local/lib/python3.10/dist-packages (from requests->codecarbon) (3.4)\n",
            "Requirement already satisfied: six>=1.5 in /usr/local/lib/python3.10/dist-packages (from python-dateutil>=2.7.0->arrow->codecarbon) (1.16.0)\n",
            "Installing collected packages: fuzzywuzzy, pynvml, arrow, codecarbon\n",
            "Successfully installed arrow-1.2.3 codecarbon-2.2.4 fuzzywuzzy-0.18.0 pynvml-11.5.0\n"
          ]
        }
      ]
    },
    {
      "cell_type": "code",
      "source": [
        "tf.test.gpu_device_name()"
      ],
      "metadata": {
        "colab": {
          "base_uri": "https://localhost:8080/",
          "height": 35
        },
        "id": "mYkrJF6IYWT-",
        "outputId": "ba740284-3831-4d54-8319-2b2468d4fe22"
      },
      "execution_count": 27,
      "outputs": [
        {
          "output_type": "execute_result",
          "data": {
            "text/plain": [
              "'/device:GPU:0'"
            ],
            "application/vnd.google.colaboratory.intrinsic+json": {
              "type": "string"
            }
          },
          "metadata": {},
          "execution_count": 27
        }
      ]
    },
    {
      "cell_type": "code",
      "source": [
        "from codecarbon import EmissionsTracker"
      ],
      "metadata": {
        "id": "izF1srW1Yt8Y"
      },
      "execution_count": 28,
      "outputs": []
    },
    {
      "cell_type": "code",
      "metadata": {
        "id": "x8QOVpFxDXO5",
        "scrolled": true,
        "outputId": "f324db80-823d-45c0-979b-699759e5ee55",
        "colab": {
          "base_uri": "https://localhost:8080/"
        }
      },
      "source": [
        "epochs_done = 0\n",
        "with EmissionsTracker(project_name=\"bert-base-uncased\") as tracker:\n",
        "    with tf.device('/device:GPU:0'):\n",
        "        history = model.fit(tf_train_ds, epochs=1, steps_per_epoch=steps, callbacks=callbacks,\n",
        "                validation_data=tf_valid_ds, validation_steps=valid_steps, initial_epoch=epochs_done)"
      ],
      "execution_count": 29,
      "outputs": [
        {
          "output_type": "stream",
          "name": "stderr",
          "text": [
            "[codecarbon INFO @ 19:40:51] [setup] RAM Tracking...\n",
            "[codecarbon INFO @ 19:40:51] [setup] GPU Tracking...\n",
            "[codecarbon INFO @ 19:40:51] Tracking Nvidia GPU via pynvml\n",
            "[codecarbon INFO @ 19:40:51] [setup] CPU Tracking...\n",
            "[codecarbon WARNING @ 19:40:51] No CPU tracking mode found. Falling back on CPU constant mode.\n",
            "[codecarbon WARNING @ 19:40:52] We saw that you have a Intel(R) Xeon(R) CPU @ 2.20GHz but we don't know it. Please contact us.\n",
            "[codecarbon INFO @ 19:40:52] CPU Model on constant consumption mode: Intel(R) Xeon(R) CPU @ 2.20GHz\n",
            "[codecarbon INFO @ 19:40:52] >>> Tracker's metadata:\n",
            "[codecarbon INFO @ 19:40:52]   Platform system: Linux-5.15.107+-x86_64-with-glibc2.31\n",
            "[codecarbon INFO @ 19:40:52]   Python version: 3.10.12\n",
            "[codecarbon INFO @ 19:40:52]   CodeCarbon version: 2.2.4\n",
            "[codecarbon INFO @ 19:40:52]   Available RAM : 83.481 GB\n",
            "[codecarbon INFO @ 19:40:52]   CPU count: 12\n",
            "[codecarbon INFO @ 19:40:52]   CPU model: Intel(R) Xeon(R) CPU @ 2.20GHz\n",
            "[codecarbon INFO @ 19:40:52]   GPU count: 1\n",
            "[codecarbon INFO @ 19:40:52]   GPU model: 1 x NVIDIA A100-SXM4-40GB\n",
            "[codecarbon INFO @ 19:41:07] Energy consumed for RAM : 0.000130 kWh. RAM Power : 31.30528450012207 W\n",
            "[codecarbon INFO @ 19:41:07] Energy consumed for all GPUs : 0.000235 kWh. Total GPU Power : 56.34 W\n",
            "[codecarbon INFO @ 19:41:07] Energy consumed for all CPUs : 0.000177 kWh. Total CPU Power : 42.5 W\n",
            "[codecarbon INFO @ 19:41:07] 0.000543 kWh of electricity used since the beginning.\n",
            "[codecarbon INFO @ 19:41:22] Energy consumed for RAM : 0.000261 kWh. RAM Power : 31.30528450012207 W\n",
            "[codecarbon INFO @ 19:41:22] Energy consumed for all GPUs : 0.000469 kWh. Total GPU Power : 56.282000000000004 W\n",
            "[codecarbon INFO @ 19:41:22] Energy consumed for all CPUs : 0.000354 kWh. Total CPU Power : 42.5 W\n",
            "[codecarbon INFO @ 19:41:22] 0.001084 kWh of electricity used since the beginning.\n",
            "[codecarbon INFO @ 19:41:37] Energy consumed for RAM : 0.000391 kWh. RAM Power : 31.30528450012207 W\n",
            "[codecarbon INFO @ 19:41:37] Energy consumed for all GPUs : 0.000703 kWh. Total GPU Power : 56.282000000000004 W\n",
            "[codecarbon INFO @ 19:41:37] Energy consumed for all CPUs : 0.000531 kWh. Total CPU Power : 42.5 W\n",
            "[codecarbon INFO @ 19:41:37] 0.001626 kWh of electricity used since the beginning.\n",
            "[codecarbon INFO @ 19:41:52] Energy consumed for RAM : 0.000521 kWh. RAM Power : 31.30528450012207 W\n",
            "[codecarbon INFO @ 19:41:52] Energy consumed for all GPUs : 0.000938 kWh. Total GPU Power : 56.34 W\n",
            "[codecarbon INFO @ 19:41:52] Energy consumed for all CPUs : 0.000708 kWh. Total CPU Power : 42.5 W\n",
            "[codecarbon INFO @ 19:41:52] 0.002167 kWh of electricity used since the beginning.\n",
            "[codecarbon INFO @ 19:42:07] Energy consumed for RAM : 0.000651 kWh. RAM Power : 31.30528450012207 W\n",
            "[codecarbon INFO @ 19:42:07] Energy consumed for all GPUs : 0.001172 kWh. Total GPU Power : 56.34 W\n",
            "[codecarbon INFO @ 19:42:07] Energy consumed for all CPUs : 0.000885 kWh. Total CPU Power : 42.5 W\n",
            "[codecarbon INFO @ 19:42:07] 0.002709 kWh of electricity used since the beginning.\n"
          ]
        },
        {
          "output_type": "stream",
          "name": "stdout",
          "text": [
            "   32/21900 [..............................] - ETA: 41:18 - accuracy: 0.9174 - loss: 1.0112 - lr: 0.0100"
          ]
        },
        {
          "output_type": "stream",
          "name": "stderr",
          "text": [
            "[codecarbon INFO @ 19:42:22] Energy consumed for RAM : 0.000782 kWh. RAM Power : 31.30528450012207 W\n",
            "[codecarbon INFO @ 19:42:22] Energy consumed for all GPUs : 0.001761 kWh. Total GPU Power : 141.349 W\n",
            "[codecarbon INFO @ 19:42:22] Energy consumed for all CPUs : 0.001062 kWh. Total CPU Power : 42.5 W\n",
            "[codecarbon INFO @ 19:42:22] 0.003605 kWh of electricity used since the beginning.\n"
          ]
        },
        {
          "output_type": "stream",
          "name": "stdout",
          "text": [
            "  167/21900 [..............................] - ETA: 40:16 - accuracy: 0.9625 - loss: 0.4055 - lr: 0.0100"
          ]
        },
        {
          "output_type": "stream",
          "name": "stderr",
          "text": [
            "[codecarbon INFO @ 19:42:37] Energy consumed for RAM : 0.000912 kWh. RAM Power : 31.30528450012207 W\n",
            "[codecarbon INFO @ 19:42:37] Energy consumed for all GPUs : 0.002309 kWh. Total GPU Power : 131.651 W\n",
            "[codecarbon INFO @ 19:42:37] Energy consumed for all CPUs : 0.001240 kWh. Total CPU Power : 42.5 W\n",
            "[codecarbon INFO @ 19:42:37] 0.004461 kWh of electricity used since the beginning.\n"
          ]
        },
        {
          "output_type": "stream",
          "name": "stdout",
          "text": [
            "  302/21900 [..............................] - ETA: 39:59 - accuracy: 0.9637 - loss: 0.3656 - lr: 0.0100"
          ]
        },
        {
          "output_type": "stream",
          "name": "stderr",
          "text": [
            "[codecarbon INFO @ 19:42:52] Energy consumed for RAM : 0.001042 kWh. RAM Power : 31.30528450012207 W\n",
            "[codecarbon INFO @ 19:42:52] Energy consumed for all GPUs : 0.002769 kWh. Total GPU Power : 110.408 W\n"
          ]
        },
        {
          "output_type": "stream",
          "name": "stdout",
          "text": [
            "\b\b\b\b\b\b\b\b\b\b\b\b\b\b\b\b\b\b\b\b\b\b\b\b\b\b\b\b\b\b\b\b\b\b\b\b\b\b\b\b\b\b\b\b\b\b\b\b\b\b\b\b\b\b\b\b\b\b\b\b\b\b\b\b\b\b\b\b\b\b\b\b\b\b\b\b\b\b\b\b\b\b\b\b\b\b\b\b\b\b\b\b\b\b\b\b\b\b\b\b\b\b\b\b\r  303/21900 [..............................] - ETA: 39:59 - accuracy: 0.9637 - loss: 0.3657 - lr: 0.0100"
          ]
        },
        {
          "output_type": "stream",
          "name": "stderr",
          "text": [
            "[codecarbon INFO @ 19:42:52] Energy consumed for all CPUs : 0.001417 kWh. Total CPU Power : 42.5 W\n",
            "[codecarbon INFO @ 19:42:52] 0.005228 kWh of electricity used since the beginning.\n"
          ]
        },
        {
          "output_type": "stream",
          "name": "stdout",
          "text": [
            "  437/21900 [..............................] - ETA: 39:45 - accuracy: 0.9593 - loss: 0.3901 - lr: 0.0100"
          ]
        },
        {
          "output_type": "stream",
          "name": "stderr",
          "text": [
            "[codecarbon INFO @ 19:43:07] Energy consumed for RAM : 0.001173 kWh. RAM Power : 31.30528450012207 W\n",
            "[codecarbon INFO @ 19:43:07] Energy consumed for all GPUs : 0.003314 kWh. Total GPU Power : 131.059 W\n",
            "[codecarbon INFO @ 19:43:07] Energy consumed for all CPUs : 0.001594 kWh. Total CPU Power : 42.5 W\n",
            "[codecarbon INFO @ 19:43:07] 0.006081 kWh of electricity used since the beginning.\n"
          ]
        },
        {
          "output_type": "stream",
          "name": "stdout",
          "text": [
            "  572/21900 [..............................] - ETA: 39:31 - accuracy: 0.9594 - loss: 0.3821 - lr: 0.0100"
          ]
        },
        {
          "output_type": "stream",
          "name": "stderr",
          "text": [
            "[codecarbon INFO @ 19:43:22] Energy consumed for RAM : 0.001303 kWh. RAM Power : 31.30528450012207 W\n",
            "[codecarbon INFO @ 19:43:22] Energy consumed for all GPUs : 0.003845 kWh. Total GPU Power : 127.40900000000002 W\n",
            "[codecarbon INFO @ 19:43:22] Energy consumed for all CPUs : 0.001771 kWh. Total CPU Power : 42.5 W\n",
            "[codecarbon INFO @ 19:43:22] 0.006918 kWh of electricity used since the beginning.\n"
          ]
        },
        {
          "output_type": "stream",
          "name": "stdout",
          "text": [
            "  707/21900 [..............................] - ETA: 39:14 - accuracy: 0.9621 - loss: 0.3566 - lr: 0.0100"
          ]
        },
        {
          "output_type": "stream",
          "name": "stderr",
          "text": [
            "[codecarbon INFO @ 19:43:37] Energy consumed for RAM : 0.001433 kWh. RAM Power : 31.30528450012207 W\n",
            "[codecarbon INFO @ 19:43:37] Energy consumed for all GPUs : 0.004378 kWh. Total GPU Power : 128.141 W\n"
          ]
        },
        {
          "output_type": "stream",
          "name": "stdout",
          "text": [
            "\b\b\b\b\b\b\b\b\b\b\b\b\b\b\b\b\b\b\b\b\b\b\b\b\b\b\b\b\b\b\b\b\b\b\b\b\b\b\b\b\b\b\b\b\b\b\b\b\b\b\b\b\b\b\b\b\b\b\b\b\b\b\b\b\b\b\b\b\b\b\b\b\b\b\b\b\b\b\b\b\b\b\b\b\b\b\b\b\b\b\b\b\b\b\b\b\b\b\b\b\b\b\b\b\r  708/21900 [..............................] - ETA: 39:14 - accuracy: 0.9621 - loss: 0.3565 - lr: 0.0100"
          ]
        },
        {
          "output_type": "stream",
          "name": "stderr",
          "text": [
            "[codecarbon INFO @ 19:43:37] Energy consumed for all CPUs : 0.001948 kWh. Total CPU Power : 42.5 W\n",
            "[codecarbon INFO @ 19:43:37] 0.007759 kWh of electricity used since the beginning.\n"
          ]
        },
        {
          "output_type": "stream",
          "name": "stdout",
          "text": [
            "  842/21900 [>.............................] - ETA: 39:00 - accuracy: 0.9649 - loss: 0.3309 - lr: 0.0100"
          ]
        },
        {
          "output_type": "stream",
          "name": "stderr",
          "text": [
            "[codecarbon INFO @ 19:43:52] Energy consumed for RAM : 0.001564 kWh. RAM Power : 31.30528450012207 W\n",
            "[codecarbon INFO @ 19:43:52] Energy consumed for all GPUs : 0.004901 kWh. Total GPU Power : 125.414 W\n",
            "[codecarbon INFO @ 19:43:52] Energy consumed for all CPUs : 0.002125 kWh. Total CPU Power : 42.5 W\n",
            "[codecarbon INFO @ 19:43:52] 0.008589 kWh of electricity used since the beginning.\n"
          ]
        },
        {
          "output_type": "stream",
          "name": "stdout",
          "text": [
            "  977/21900 [>.............................] - ETA: 38:45 - accuracy: 0.9672 - loss: 0.3101 - lr: 0.0100"
          ]
        },
        {
          "output_type": "stream",
          "name": "stderr",
          "text": [
            "[codecarbon INFO @ 19:44:07] Energy consumed for RAM : 0.001694 kWh. RAM Power : 31.30528450012207 W\n",
            "[codecarbon INFO @ 19:44:07] Energy consumed for all GPUs : 0.005423 kWh. Total GPU Power : 125.414 W\n",
            "[codecarbon INFO @ 19:44:07] Energy consumed for all CPUs : 0.002302 kWh. Total CPU Power : 42.5 W\n",
            "[codecarbon INFO @ 19:44:07] 0.009419 kWh of electricity used since the beginning.\n"
          ]
        },
        {
          "output_type": "stream",
          "name": "stdout",
          "text": [
            " 1111/21900 [>.............................] - ETA: 38:32 - accuracy: 0.9697 - loss: 0.2898 - lr: 0.0100"
          ]
        },
        {
          "output_type": "stream",
          "name": "stderr",
          "text": [
            "[codecarbon INFO @ 19:44:22] Energy consumed for RAM : 0.001824 kWh. RAM Power : 31.30528450012207 W\n",
            "[codecarbon INFO @ 19:44:22] Energy consumed for all GPUs : 0.005949 kWh. Total GPU Power : 126.281 W\n",
            "[codecarbon INFO @ 19:44:22] Energy consumed for all CPUs : 0.002479 kWh. Total CPU Power : 42.5 W\n",
            "[codecarbon INFO @ 19:44:22] 0.010252 kWh of electricity used since the beginning.\n"
          ]
        },
        {
          "output_type": "stream",
          "name": "stdout",
          "text": [
            " 1245/21900 [>.............................] - ETA: 38:19 - accuracy: 0.9718 - loss: 0.2733 - lr: 0.0100"
          ]
        },
        {
          "output_type": "stream",
          "name": "stderr",
          "text": [
            "[codecarbon INFO @ 19:44:37] Energy consumed for RAM : 0.001955 kWh. RAM Power : 31.30528450012207 W\n",
            "[codecarbon INFO @ 19:44:37] Energy consumed for all GPUs : 0.006479 kWh. Total GPU Power : 127.40900000000002 W\n",
            "[codecarbon INFO @ 19:44:37] Energy consumed for all CPUs : 0.002656 kWh. Total CPU Power : 42.5 W\n",
            "[codecarbon INFO @ 19:44:37] 0.011090 kWh of electricity used since the beginning.\n"
          ]
        },
        {
          "output_type": "stream",
          "name": "stdout",
          "text": [
            " 1379/21900 [>.............................] - ETA: 38:05 - accuracy: 0.9734 - loss: 0.2611 - lr: 0.0100"
          ]
        },
        {
          "output_type": "stream",
          "name": "stderr",
          "text": [
            "[codecarbon INFO @ 19:44:52] Energy consumed for RAM : 0.002085 kWh. RAM Power : 31.30528450012207 W\n",
            "[codecarbon INFO @ 19:44:52] Energy consumed for all GPUs : 0.007010 kWh. Total GPU Power : 127.40900000000002 W\n",
            "[codecarbon INFO @ 19:44:52] Energy consumed for all CPUs : 0.002833 kWh. Total CPU Power : 42.5 W\n",
            "[codecarbon INFO @ 19:44:52] 0.011928 kWh of electricity used since the beginning.\n"
          ]
        },
        {
          "output_type": "stream",
          "name": "stdout",
          "text": [
            " 1514/21900 [=>............................] - ETA: 37:50 - accuracy: 0.9749 - loss: 0.2489 - lr: 0.0100"
          ]
        },
        {
          "output_type": "stream",
          "name": "stderr",
          "text": [
            "[codecarbon INFO @ 19:45:07] Energy consumed for RAM : 0.002215 kWh. RAM Power : 31.30528450012207 W\n",
            "[codecarbon INFO @ 19:45:07] Energy consumed for all GPUs : 0.007642 kWh. Total GPU Power : 151.829 W\n",
            "[codecarbon INFO @ 19:45:07] Energy consumed for all CPUs : 0.003010 kWh. Total CPU Power : 42.5 W\n",
            "[codecarbon INFO @ 19:45:07] 0.012867 kWh of electricity used since the beginning.\n"
          ]
        },
        {
          "output_type": "stream",
          "name": "stdout",
          "text": [
            " 1649/21900 [=>............................] - ETA: 37:35 - accuracy: 0.9764 - loss: 0.2359 - lr: 0.0100"
          ]
        },
        {
          "output_type": "stream",
          "name": "stderr",
          "text": [
            "[codecarbon INFO @ 19:45:22] Energy consumed for RAM : 0.002346 kWh. RAM Power : 31.30528450012207 W\n",
            "[codecarbon INFO @ 19:45:22] Energy consumed for all GPUs : 0.008206 kWh. Total GPU Power : 135.564 W\n",
            "[codecarbon INFO @ 19:45:22] Energy consumed for all CPUs : 0.003187 kWh. Total CPU Power : 42.5 W\n",
            "[codecarbon INFO @ 19:45:22] 0.013739 kWh of electricity used since the beginning.\n"
          ]
        },
        {
          "output_type": "stream",
          "name": "stdout",
          "text": [
            " 1784/21900 [=>............................] - ETA: 37:19 - accuracy: 0.9778 - loss: 0.2238 - lr: 0.0100"
          ]
        },
        {
          "output_type": "stream",
          "name": "stderr",
          "text": [
            "[codecarbon INFO @ 19:45:37] Energy consumed for RAM : 0.002476 kWh. RAM Power : 31.30528450012207 W\n",
            "[codecarbon INFO @ 19:45:37] Energy consumed for all GPUs : 0.008732 kWh. Total GPU Power : 126.413 W\n",
            "[codecarbon INFO @ 19:45:37] Energy consumed for all CPUs : 0.003364 kWh. Total CPU Power : 42.5 W\n",
            "[codecarbon INFO @ 19:45:37] 0.014572 kWh of electricity used since the beginning.\n"
          ]
        },
        {
          "output_type": "stream",
          "name": "stdout",
          "text": [
            " 1918/21900 [=>............................] - ETA: 37:05 - accuracy: 0.9789 - loss: 0.2142 - lr: 0.0100"
          ]
        },
        {
          "output_type": "stream",
          "name": "stderr",
          "text": [
            "[codecarbon INFO @ 19:45:52] Energy consumed for RAM : 0.002606 kWh. RAM Power : 31.30528450012207 W\n",
            "[codecarbon INFO @ 19:45:52] Energy consumed for all GPUs : 0.009267 kWh. Total GPU Power : 128.41 W\n",
            "[codecarbon INFO @ 19:45:52] Energy consumed for all CPUs : 0.003541 kWh. Total CPU Power : 42.5 W\n",
            "[codecarbon INFO @ 19:45:52] 0.015415 kWh of electricity used since the beginning.\n"
          ]
        },
        {
          "output_type": "stream",
          "name": "stdout",
          "text": [
            " 2051/21900 [=>............................] - ETA: 36:52 - accuracy: 0.9798 - loss: 0.2076 - lr: 0.0100"
          ]
        },
        {
          "output_type": "stream",
          "name": "stderr",
          "text": [
            "[codecarbon INFO @ 19:46:07] Energy consumed for RAM : 0.002736 kWh. RAM Power : 31.30528450012207 W\n",
            "[codecarbon INFO @ 19:46:07] Energy consumed for all GPUs : 0.009871 kWh. Total GPU Power : 145.131 W\n",
            "[codecarbon INFO @ 19:46:07] Energy consumed for all CPUs : 0.003718 kWh. Total CPU Power : 42.5 W\n",
            "[codecarbon INFO @ 19:46:07] 0.016326 kWh of electricity used since the beginning.\n"
          ]
        },
        {
          "output_type": "stream",
          "name": "stdout",
          "text": [
            " 2185/21900 [=>............................] - ETA: 36:38 - accuracy: 0.9806 - loss: 0.2009 - lr: 0.0100"
          ]
        },
        {
          "output_type": "stream",
          "name": "stderr",
          "text": [
            "[codecarbon INFO @ 19:46:22] Energy consumed for RAM : 0.002867 kWh. RAM Power : 31.30528450012207 W\n",
            "[codecarbon INFO @ 19:46:22] Energy consumed for all GPUs : 0.010620 kWh. Total GPU Power : 179.96200000000002 W\n",
            "[codecarbon INFO @ 19:46:22] Energy consumed for all CPUs : 0.003895 kWh. Total CPU Power : 42.5 W\n",
            "[codecarbon INFO @ 19:46:22] 0.017382 kWh of electricity used since the beginning.\n"
          ]
        },
        {
          "output_type": "stream",
          "name": "stdout",
          "text": [
            " 2319/21900 [==>...........................] - ETA: 36:23 - accuracy: 0.9813 - loss: 0.1950 - lr: 0.0100"
          ]
        },
        {
          "output_type": "stream",
          "name": "stderr",
          "text": [
            "[codecarbon INFO @ 19:46:37] Energy consumed for RAM : 0.002997 kWh. RAM Power : 31.30528450012207 W\n"
          ]
        },
        {
          "output_type": "stream",
          "name": "stdout",
          "text": [
            "\b\b\b\b\b\b\b\b\b\b\b\b\b\b\b\b\b\b\b\b\b\b\b\b\b\b\b\b\b\b\b\b\b\b\b\b\b\b\b\b\b\b\b\b\b\b\b\b\b\b\b\b\b\b\b\b\b\b\b\b\b\b\b\b\b\b\b\b\b\b\b\b\b\b\b\b\b\b\b\b\b\b\b\b\b\b\b\b\b\b\b\b\b\b\b\b\b\b\b\b\b\b\b\b\r 2320/21900 [==>...........................] - ETA: 36:23 - accuracy: 0.9813 - loss: 0.1949 - lr: 0.0100"
          ]
        },
        {
          "output_type": "stream",
          "name": "stderr",
          "text": [
            "[codecarbon INFO @ 19:46:37] Energy consumed for all GPUs : 0.011037 kWh. Total GPU Power : 100.135 W\n",
            "[codecarbon INFO @ 19:46:37] Energy consumed for all CPUs : 0.004073 kWh. Total CPU Power : 42.5 W\n",
            "[codecarbon INFO @ 19:46:37] 0.018107 kWh of electricity used since the beginning.\n"
          ]
        },
        {
          "output_type": "stream",
          "name": "stdout",
          "text": [
            " 2454/21900 [==>...........................] - ETA: 36:07 - accuracy: 0.9819 - loss: 0.1899 - lr: 0.0100"
          ]
        },
        {
          "output_type": "stream",
          "name": "stderr",
          "text": [
            "[codecarbon INFO @ 19:46:52] Energy consumed for RAM : 0.003127 kWh. RAM Power : 31.30528450012207 W\n",
            "[codecarbon INFO @ 19:46:52] Energy consumed for all GPUs : 0.011576 kWh. Total GPU Power : 129.465 W\n",
            "[codecarbon INFO @ 19:46:52] Energy consumed for all CPUs : 0.004250 kWh. Total CPU Power : 42.5 W\n",
            "[codecarbon INFO @ 19:46:52] 0.018953 kWh of electricity used since the beginning.\n"
          ]
        },
        {
          "output_type": "stream",
          "name": "stdout",
          "text": [
            " 2589/21900 [==>...........................] - ETA: 35:52 - accuracy: 0.9825 - loss: 0.1853 - lr: 0.0100"
          ]
        },
        {
          "output_type": "stream",
          "name": "stderr",
          "text": [
            "[codecarbon INFO @ 19:47:07] Energy consumed for RAM : 0.003258 kWh. RAM Power : 31.30528450012207 W\n",
            "[codecarbon INFO @ 19:47:07] Energy consumed for all GPUs : 0.012113 kWh. Total GPU Power : 128.874 W\n",
            "[codecarbon INFO @ 19:47:07] Energy consumed for all CPUs : 0.004427 kWh. Total CPU Power : 42.5 W\n",
            "[codecarbon INFO @ 19:47:07] 0.019797 kWh of electricity used since the beginning.\n"
          ]
        },
        {
          "output_type": "stream",
          "name": "stdout",
          "text": [
            " 2723/21900 [==>...........................] - ETA: 35:37 - accuracy: 0.9830 - loss: 0.1807 - lr: 0.0100"
          ]
        },
        {
          "output_type": "stream",
          "name": "stderr",
          "text": [
            "[codecarbon INFO @ 19:47:22] Energy consumed for RAM : 0.003388 kWh. RAM Power : 31.30528450012207 W\n",
            "[codecarbon INFO @ 19:47:22] Energy consumed for all GPUs : 0.012687 kWh. Total GPU Power : 137.889 W\n",
            "[codecarbon INFO @ 19:47:22] Energy consumed for all CPUs : 0.004604 kWh. Total CPU Power : 42.5 W\n",
            "[codecarbon INFO @ 19:47:22] 0.020678 kWh of electricity used since the beginning.\n"
          ]
        },
        {
          "output_type": "stream",
          "name": "stdout",
          "text": [
            " 2858/21900 [==>...........................] - ETA: 35:22 - accuracy: 0.9835 - loss: 0.1763 - lr: 0.0100"
          ]
        },
        {
          "output_type": "stream",
          "name": "stderr",
          "text": [
            "[codecarbon INFO @ 19:47:37] Energy consumed for RAM : 0.003518 kWh. RAM Power : 31.30528450012207 W\n",
            "[codecarbon INFO @ 19:47:37] Energy consumed for all GPUs : 0.013456 kWh. Total GPU Power : 184.741 W\n",
            "[codecarbon INFO @ 19:47:37] Energy consumed for all CPUs : 0.004781 kWh. Total CPU Power : 42.5 W\n",
            "[codecarbon INFO @ 19:47:37] 0.021755 kWh of electricity used since the beginning.\n"
          ]
        },
        {
          "output_type": "stream",
          "name": "stdout",
          "text": [
            " 2993/21900 [===>..........................] - ETA: 35:07 - accuracy: 0.9839 - loss: 0.1723 - lr: 0.0100"
          ]
        },
        {
          "output_type": "stream",
          "name": "stderr",
          "text": [
            "[codecarbon INFO @ 19:47:52] Energy consumed for RAM : 0.003649 kWh. RAM Power : 31.30528450012207 W\n",
            "[codecarbon INFO @ 19:47:52] Energy consumed for all GPUs : 0.013985 kWh. Total GPU Power : 127.14 W\n",
            "[codecarbon INFO @ 19:47:52] Energy consumed for all CPUs : 0.004958 kWh. Total CPU Power : 42.5 W\n",
            "[codecarbon INFO @ 19:47:52] 0.022592 kWh of electricity used since the beginning.\n"
          ]
        },
        {
          "output_type": "stream",
          "name": "stdout",
          "text": [
            " 3128/21900 [===>..........................] - ETA: 34:52 - accuracy: 0.9844 - loss: 0.1687 - lr: 0.0100"
          ]
        },
        {
          "output_type": "stream",
          "name": "stderr",
          "text": [
            "[codecarbon INFO @ 19:48:07] Energy consumed for RAM : 0.003779 kWh. RAM Power : 31.30528450012207 W\n",
            "[codecarbon INFO @ 19:48:07] Energy consumed for all GPUs : 0.014428 kWh. Total GPU Power : 106.242 W\n",
            "[codecarbon INFO @ 19:48:07] Energy consumed for all CPUs : 0.005135 kWh. Total CPU Power : 42.5 W\n",
            "[codecarbon INFO @ 19:48:07] 0.023341 kWh of electricity used since the beginning.\n"
          ]
        },
        {
          "output_type": "stream",
          "name": "stdout",
          "text": [
            " 3263/21900 [===>..........................] - ETA: 34:36 - accuracy: 0.9847 - loss: 0.1652 - lr: 0.0100"
          ]
        },
        {
          "output_type": "stream",
          "name": "stderr",
          "text": [
            "[codecarbon INFO @ 19:48:22] Energy consumed for RAM : 0.003909 kWh. RAM Power : 31.30528450012207 W\n",
            "[codecarbon INFO @ 19:48:22] Energy consumed for all GPUs : 0.014917 kWh. Total GPU Power : 117.581 W\n",
            "[codecarbon INFO @ 19:48:22] Energy consumed for all CPUs : 0.005312 kWh. Total CPU Power : 42.5 W\n",
            "[codecarbon INFO @ 19:48:22] 0.024138 kWh of electricity used since the beginning.\n"
          ]
        },
        {
          "output_type": "stream",
          "name": "stdout",
          "text": [
            " 3398/21900 [===>..........................] - ETA: 34:21 - accuracy: 0.9851 - loss: 0.1622 - lr: 0.0100"
          ]
        },
        {
          "output_type": "stream",
          "name": "stderr",
          "text": [
            "[codecarbon INFO @ 19:48:37] Energy consumed for RAM : 0.004040 kWh. RAM Power : 31.30528450012207 W\n",
            "[codecarbon INFO @ 19:48:37] Energy consumed for all GPUs : 0.015506 kWh. Total GPU Power : 141.349 W\n",
            "[codecarbon INFO @ 19:48:37] Energy consumed for all CPUs : 0.005489 kWh. Total CPU Power : 42.5 W\n",
            "[codecarbon INFO @ 19:48:37] 0.025034 kWh of electricity used since the beginning.\n"
          ]
        },
        {
          "output_type": "stream",
          "name": "stdout",
          "text": [
            " 3532/21900 [===>..........................] - ETA: 34:07 - accuracy: 0.9854 - loss: 0.1591 - lr: 0.0100"
          ]
        },
        {
          "output_type": "stream",
          "name": "stderr",
          "text": [
            "[codecarbon INFO @ 19:48:52] Energy consumed for RAM : 0.004170 kWh. RAM Power : 31.30528450012207 W\n",
            "[codecarbon INFO @ 19:48:52] Energy consumed for all GPUs : 0.015995 kWh. Total GPU Power : 117.72700000000002 W\n",
            "[codecarbon INFO @ 19:48:52] Energy consumed for all CPUs : 0.005666 kWh. Total CPU Power : 42.5 W\n",
            "[codecarbon INFO @ 19:48:52] 0.025831 kWh of electricity used since the beginning.\n"
          ]
        },
        {
          "output_type": "stream",
          "name": "stdout",
          "text": [
            " 3666/21900 [====>.........................] - ETA: 33:52 - accuracy: 0.9857 - loss: 0.1567 - lr: 0.0100"
          ]
        },
        {
          "output_type": "stream",
          "name": "stderr",
          "text": [
            "[codecarbon INFO @ 19:49:07] Energy consumed for RAM : 0.004300 kWh. RAM Power : 31.30528450012207 W\n",
            "[codecarbon INFO @ 19:49:07] Energy consumed for all GPUs : 0.016525 kWh. Total GPU Power : 127.14 W\n",
            "[codecarbon INFO @ 19:49:07] Energy consumed for all CPUs : 0.005843 kWh. Total CPU Power : 42.5 W\n",
            "[codecarbon INFO @ 19:49:07] 0.026668 kWh of electricity used since the beginning.\n"
          ]
        },
        {
          "output_type": "stream",
          "name": "stdout",
          "text": [
            " 3799/21900 [====>.........................] - ETA: 33:38 - accuracy: 0.9860 - loss: 0.1542 - lr: 0.0100"
          ]
        },
        {
          "output_type": "stream",
          "name": "stderr",
          "text": [
            "[codecarbon INFO @ 19:49:22] Energy consumed for RAM : 0.004430 kWh. RAM Power : 31.30528450012207 W\n",
            "[codecarbon INFO @ 19:49:22] Energy consumed for all GPUs : 0.017024 kWh. Total GPU Power : 119.906 W\n",
            "[codecarbon INFO @ 19:49:22] Energy consumed for all CPUs : 0.006020 kWh. Total CPU Power : 42.5 W\n",
            "[codecarbon INFO @ 19:49:22] 0.027475 kWh of electricity used since the beginning.\n"
          ]
        },
        {
          "output_type": "stream",
          "name": "stdout",
          "text": [
            " 3934/21900 [====>.........................] - ETA: 33:23 - accuracy: 0.9863 - loss: 0.1519 - lr: 0.0100"
          ]
        },
        {
          "output_type": "stream",
          "name": "stderr",
          "text": [
            "[codecarbon INFO @ 19:49:37] Energy consumed for RAM : 0.004561 kWh. RAM Power : 31.30528450012207 W\n",
            "[codecarbon INFO @ 19:49:37] Energy consumed for all GPUs : 0.017719 kWh. Total GPU Power : 166.897 W\n",
            "[codecarbon INFO @ 19:49:37] Energy consumed for all CPUs : 0.006197 kWh. Total CPU Power : 42.5 W\n",
            "[codecarbon INFO @ 19:49:37] 0.028477 kWh of electricity used since the beginning.\n"
          ]
        },
        {
          "output_type": "stream",
          "name": "stdout",
          "text": [
            " 4069/21900 [====>.........................] - ETA: 33:08 - accuracy: 0.9866 - loss: 0.1497 - lr: 0.0100"
          ]
        },
        {
          "output_type": "stream",
          "name": "stderr",
          "text": [
            "[codecarbon INFO @ 19:49:52] Energy consumed for RAM : 0.004691 kWh. RAM Power : 31.30528450012207 W\n",
            "[codecarbon INFO @ 19:49:52] Energy consumed for all GPUs : 0.018238 kWh. Total GPU Power : 124.54700000000001 W\n",
            "[codecarbon INFO @ 19:49:52] Energy consumed for all CPUs : 0.006375 kWh. Total CPU Power : 42.5 W\n",
            "[codecarbon INFO @ 19:49:52] 0.029303 kWh of electricity used since the beginning.\n"
          ]
        },
        {
          "output_type": "stream",
          "name": "stdout",
          "text": [
            " 4203/21900 [====>.........................] - ETA: 32:53 - accuracy: 0.9868 - loss: 0.1477 - lr: 0.0100"
          ]
        },
        {
          "output_type": "stream",
          "name": "stderr",
          "text": [
            "[codecarbon INFO @ 19:50:07] Energy consumed for RAM : 0.004821 kWh. RAM Power : 31.30528450012207 W\n",
            "[codecarbon INFO @ 19:50:07] Energy consumed for all GPUs : 0.018754 kWh. Total GPU Power : 124.22500000000002 W\n",
            "[codecarbon INFO @ 19:50:07] Energy consumed for all CPUs : 0.006551 kWh. Total CPU Power : 42.5 W\n",
            "[codecarbon INFO @ 19:50:07] 0.030127 kWh of electricity used since the beginning.\n"
          ]
        },
        {
          "output_type": "stream",
          "name": "stdout",
          "text": [
            " 4338/21900 [====>.........................] - ETA: 32:37 - accuracy: 0.9870 - loss: 0.1460 - lr: 0.0100"
          ]
        },
        {
          "output_type": "stream",
          "name": "stderr",
          "text": [
            "[codecarbon INFO @ 19:50:22] Energy consumed for RAM : 0.004952 kWh. RAM Power : 31.30528450012207 W\n",
            "[codecarbon INFO @ 19:50:22] Energy consumed for all GPUs : 0.019283 kWh. Total GPU Power : 126.87200000000001 W\n",
            "[codecarbon INFO @ 19:50:22] Energy consumed for all CPUs : 0.006729 kWh. Total CPU Power : 42.5 W\n",
            "[codecarbon INFO @ 19:50:22] 0.030963 kWh of electricity used since the beginning.\n"
          ]
        },
        {
          "output_type": "stream",
          "name": "stdout",
          "text": [
            " 4473/21900 [=====>........................] - ETA: 32:22 - accuracy: 0.9871 - loss: 0.1447 - lr: 0.0100"
          ]
        },
        {
          "output_type": "stream",
          "name": "stderr",
          "text": [
            "[codecarbon INFO @ 19:50:37] Energy consumed for RAM : 0.005082 kWh. RAM Power : 31.30528450012207 W\n",
            "[codecarbon INFO @ 19:50:37] Energy consumed for all GPUs : 0.019809 kWh. Total GPU Power : 126.418 W\n",
            "[codecarbon INFO @ 19:50:37] Energy consumed for all CPUs : 0.006906 kWh. Total CPU Power : 42.5 W\n",
            "[codecarbon INFO @ 19:50:37] 0.031797 kWh of electricity used since the beginning.\n"
          ]
        },
        {
          "output_type": "stream",
          "name": "stdout",
          "text": [
            " 4608/21900 [=====>........................] - ETA: 32:07 - accuracy: 0.9873 - loss: 0.1436 - lr: 0.0100"
          ]
        },
        {
          "output_type": "stream",
          "name": "stderr",
          "text": [
            "[codecarbon INFO @ 19:50:52] Energy consumed for RAM : 0.005212 kWh. RAM Power : 31.30528450012207 W\n",
            "[codecarbon INFO @ 19:50:52] Energy consumed for all GPUs : 0.020333 kWh. Total GPU Power : 125.68300000000002 W\n",
            "[codecarbon INFO @ 19:50:52] Energy consumed for all CPUs : 0.007083 kWh. Total CPU Power : 42.5 W\n",
            "[codecarbon INFO @ 19:50:52] 0.032627 kWh of electricity used since the beginning.\n"
          ]
        },
        {
          "output_type": "stream",
          "name": "stdout",
          "text": [
            " 4743/21900 [=====>........................] - ETA: 31:52 - accuracy: 0.9873 - loss: 0.1435 - lr: 0.0100"
          ]
        },
        {
          "output_type": "stream",
          "name": "stderr",
          "text": [
            "[codecarbon INFO @ 19:51:07] Energy consumed for RAM : 0.005343 kWh. RAM Power : 31.30528450012207 W\n",
            "[codecarbon INFO @ 19:51:07] Energy consumed for all GPUs : 0.020754 kWh. Total GPU Power : 101.165 W\n",
            "[codecarbon INFO @ 19:51:07] Energy consumed for all CPUs : 0.007260 kWh. Total CPU Power : 42.5 W\n",
            "[codecarbon INFO @ 19:51:07] 0.033356 kWh of electricity used since the beginning.\n"
          ]
        },
        {
          "output_type": "stream",
          "name": "stdout",
          "text": [
            " 4875/21900 [=====>........................] - ETA: 31:38 - accuracy: 0.9874 - loss: 0.1431 - lr: 0.0100"
          ]
        },
        {
          "output_type": "stream",
          "name": "stderr",
          "text": [
            "[codecarbon INFO @ 19:51:22] Energy consumed for RAM : 0.005473 kWh. RAM Power : 31.30528450012207 W\n",
            "[codecarbon INFO @ 19:51:22] Energy consumed for all GPUs : 0.021514 kWh. Total GPU Power : 182.69400000000002 W\n",
            "[codecarbon INFO @ 19:51:22] Energy consumed for all CPUs : 0.007437 kWh. Total CPU Power : 42.5 W\n",
            "[codecarbon INFO @ 19:51:22] 0.034424 kWh of electricity used since the beginning.\n"
          ]
        },
        {
          "output_type": "stream",
          "name": "stdout",
          "text": [
            " 5010/21900 [=====>........................] - ETA: 31:23 - accuracy: 0.9875 - loss: 0.1427 - lr: 0.0100"
          ]
        },
        {
          "output_type": "stream",
          "name": "stderr",
          "text": [
            "[codecarbon INFO @ 19:51:37] Energy consumed for RAM : 0.005603 kWh. RAM Power : 31.30528450012207 W\n",
            "[codecarbon INFO @ 19:51:37] Energy consumed for all GPUs : 0.022051 kWh. Total GPU Power : 129.062 W\n",
            "[codecarbon INFO @ 19:51:37] Energy consumed for all CPUs : 0.007614 kWh. Total CPU Power : 42.5 W\n",
            "[codecarbon INFO @ 19:51:37] 0.035268 kWh of electricity used since the beginning.\n"
          ]
        },
        {
          "output_type": "stream",
          "name": "stdout",
          "text": [
            " 5143/21900 [======>.......................] - ETA: 31:08 - accuracy: 0.9875 - loss: 0.1420 - lr: 0.0100"
          ]
        },
        {
          "output_type": "stream",
          "name": "stderr",
          "text": [
            "[codecarbon INFO @ 19:51:52] Energy consumed for RAM : 0.005733 kWh. RAM Power : 31.30528450012207 W\n",
            "[codecarbon INFO @ 19:51:52] Energy consumed for all GPUs : 0.022604 kWh. Total GPU Power : 132.786 W\n"
          ]
        },
        {
          "output_type": "stream",
          "name": "stdout",
          "text": [
            "\b\b\b\b\b\b\b\b\b\b\b\b\b\b\b\b\b\b\b\b\b\b\b\b\b\b\b\b\b\b\b\b\b\b\b\b\b\b\b\b\b\b\b\b\b\b\b\b\b\b\b\b\b\b\b\b\b\b\b\b\b\b\b\b\b\b\b\b\b\b\b\b\b\b\b\b\b\b\b\b\b\b\b\b\b\b\b\b\b\b\b\b\b\b\b\b\b\b\b\b\b\b\b\b\r 5144/21900 [======>.......................] - ETA: 31:08 - accuracy: 0.9876 - loss: 0.1420 - lr: 0.0100"
          ]
        },
        {
          "output_type": "stream",
          "name": "stderr",
          "text": [
            "[codecarbon INFO @ 19:51:52] Energy consumed for all CPUs : 0.007791 kWh. Total CPU Power : 42.5 W\n",
            "[codecarbon INFO @ 19:51:52] 0.036129 kWh of electricity used since the beginning.\n"
          ]
        },
        {
          "output_type": "stream",
          "name": "stdout",
          "text": [
            " 5278/21900 [======>.......................] - ETA: 30:53 - accuracy: 0.9877 - loss: 0.1410 - lr: 0.0100"
          ]
        },
        {
          "output_type": "stream",
          "name": "stderr",
          "text": [
            "[codecarbon INFO @ 19:52:07] Energy consumed for RAM : 0.005864 kWh. RAM Power : 31.30528450012207 W\n",
            "[codecarbon INFO @ 19:52:07] Energy consumed for all GPUs : 0.023052 kWh. Total GPU Power : 107.587 W\n",
            "[codecarbon INFO @ 19:52:07] Energy consumed for all CPUs : 0.007968 kWh. Total CPU Power : 42.5 W\n",
            "[codecarbon INFO @ 19:52:07] 0.036884 kWh of electricity used since the beginning.\n"
          ]
        },
        {
          "output_type": "stream",
          "name": "stdout",
          "text": [
            " 5412/21900 [======>.......................] - ETA: 30:38 - accuracy: 0.9878 - loss: 0.1402 - lr: 0.0100"
          ]
        },
        {
          "output_type": "stream",
          "name": "stderr",
          "text": [
            "[codecarbon INFO @ 19:52:22] Energy consumed for RAM : 0.005994 kWh. RAM Power : 31.30528450012207 W\n",
            "[codecarbon INFO @ 19:52:22] Energy consumed for all GPUs : 0.023615 kWh. Total GPU Power : 135.242 W\n",
            "[codecarbon INFO @ 19:52:22] Energy consumed for all CPUs : 0.008145 kWh. Total CPU Power : 42.5 W\n",
            "[codecarbon INFO @ 19:52:22] 0.037754 kWh of electricity used since the beginning.\n"
          ]
        },
        {
          "output_type": "stream",
          "name": "stdout",
          "text": [
            " 5547/21900 [======>.......................] - ETA: 30:23 - accuracy: 0.9879 - loss: 0.1394 - lr: 0.0100"
          ]
        },
        {
          "output_type": "stream",
          "name": "stderr",
          "text": [
            "[codecarbon INFO @ 19:52:37] Energy consumed for RAM : 0.006124 kWh. RAM Power : 31.30528450012207 W\n",
            "[codecarbon INFO @ 19:52:37] Energy consumed for all GPUs : 0.024153 kWh. Total GPU Power : 129.196 W\n",
            "[codecarbon INFO @ 19:52:37] Energy consumed for all CPUs : 0.008322 kWh. Total CPU Power : 42.5 W\n",
            "[codecarbon INFO @ 19:52:37] 0.038600 kWh of electricity used since the beginning.\n"
          ]
        },
        {
          "output_type": "stream",
          "name": "stdout",
          "text": [
            " 5682/21900 [======>.......................] - ETA: 30:08 - accuracy: 0.9880 - loss: 0.1380 - lr: 0.0100"
          ]
        },
        {
          "output_type": "stream",
          "name": "stderr",
          "text": [
            "[codecarbon INFO @ 19:52:52] Energy consumed for RAM : 0.006255 kWh. RAM Power : 31.30528450012207 W\n",
            "[codecarbon INFO @ 19:52:52] Energy consumed for all GPUs : 0.024660 kWh. Total GPU Power : 121.632 W\n",
            "[codecarbon INFO @ 19:52:52] Energy consumed for all CPUs : 0.008499 kWh. Total CPU Power : 42.5 W\n",
            "[codecarbon INFO @ 19:52:52] 0.039414 kWh of electricity used since the beginning.\n"
          ]
        },
        {
          "output_type": "stream",
          "name": "stdout",
          "text": [
            " 5815/21900 [======>.......................] - ETA: 29:54 - accuracy: 0.9882 - loss: 0.1371 - lr: 0.0100"
          ]
        },
        {
          "output_type": "stream",
          "name": "stderr",
          "text": [
            "[codecarbon INFO @ 19:53:07] Energy consumed for RAM : 0.006385 kWh. RAM Power : 31.30528450012207 W\n",
            "[codecarbon INFO @ 19:53:07] Energy consumed for all GPUs : 0.025177 kWh. Total GPU Power : 124.417 W\n",
            "[codecarbon INFO @ 19:53:07] Energy consumed for all CPUs : 0.008676 kWh. Total CPU Power : 42.5 W\n",
            "[codecarbon INFO @ 19:53:07] 0.040239 kWh of electricity used since the beginning.\n"
          ]
        },
        {
          "output_type": "stream",
          "name": "stdout",
          "text": [
            " 5949/21900 [=======>......................] - ETA: 29:39 - accuracy: 0.9883 - loss: 0.1361 - lr: 0.0100"
          ]
        },
        {
          "output_type": "stream",
          "name": "stderr",
          "text": [
            "[codecarbon INFO @ 19:53:22] Energy consumed for RAM : 0.006515 kWh. RAM Power : 31.30528450012207 W\n",
            "[codecarbon INFO @ 19:53:22] Energy consumed for all GPUs : 0.025703 kWh. Total GPU Power : 126.418 W\n",
            "[codecarbon INFO @ 19:53:22] Energy consumed for all CPUs : 0.008853 kWh. Total CPU Power : 42.5 W\n",
            "[codecarbon INFO @ 19:53:22] 0.041072 kWh of electricity used since the beginning.\n"
          ]
        },
        {
          "output_type": "stream",
          "name": "stdout",
          "text": [
            " 6084/21900 [=======>......................] - ETA: 29:24 - accuracy: 0.9884 - loss: 0.1350 - lr: 0.0100"
          ]
        },
        {
          "output_type": "stream",
          "name": "stderr",
          "text": [
            "[codecarbon INFO @ 19:53:37] Energy consumed for RAM : 0.006645 kWh. RAM Power : 31.30528450012207 W\n",
            "[codecarbon INFO @ 19:53:37] Energy consumed for all GPUs : 0.026252 kWh. Total GPU Power : 131.79 W\n",
            "[codecarbon INFO @ 19:53:37] Energy consumed for all CPUs : 0.009030 kWh. Total CPU Power : 42.5 W\n",
            "[codecarbon INFO @ 19:53:37] 0.041928 kWh of electricity used since the beginning.\n"
          ]
        },
        {
          "output_type": "stream",
          "name": "stdout",
          "text": [
            " 6219/21900 [=======>......................] - ETA: 29:08 - accuracy: 0.9885 - loss: 0.1343 - lr: 0.0100"
          ]
        },
        {
          "output_type": "stream",
          "name": "stderr",
          "text": [
            "[codecarbon INFO @ 19:53:52] Energy consumed for RAM : 0.006776 kWh. RAM Power : 31.30528450012207 W\n",
            "[codecarbon INFO @ 19:53:52] Energy consumed for all GPUs : 0.026802 kWh. Total GPU Power : 131.92000000000002 W\n",
            "[codecarbon INFO @ 19:53:52] Energy consumed for all CPUs : 0.009207 kWh. Total CPU Power : 42.5 W\n",
            "[codecarbon INFO @ 19:53:52] 0.042785 kWh of electricity used since the beginning.\n"
          ]
        },
        {
          "output_type": "stream",
          "name": "stdout",
          "text": [
            " 6354/21900 [=======>......................] - ETA: 28:53 - accuracy: 0.9885 - loss: 0.1337 - lr: 0.0100"
          ]
        },
        {
          "output_type": "stream",
          "name": "stderr",
          "text": [
            "[codecarbon INFO @ 19:54:07] Energy consumed for RAM : 0.006906 kWh. RAM Power : 31.30528450012207 W\n",
            "[codecarbon INFO @ 19:54:07] Energy consumed for all GPUs : 0.027324 kWh. Total GPU Power : 125.55199999999999 W\n",
            "[codecarbon INFO @ 19:54:07] Energy consumed for all CPUs : 0.009385 kWh. Total CPU Power : 42.5 W\n",
            "[codecarbon INFO @ 19:54:07] 0.043615 kWh of electricity used since the beginning.\n"
          ]
        },
        {
          "output_type": "stream",
          "name": "stdout",
          "text": [
            " 6487/21900 [=======>......................] - ETA: 28:39 - accuracy: 0.9886 - loss: 0.1329 - lr: 0.0100"
          ]
        },
        {
          "output_type": "stream",
          "name": "stderr",
          "text": [
            "[codecarbon INFO @ 19:54:22] Energy consumed for RAM : 0.007036 kWh. RAM Power : 31.30528450012207 W\n",
            "[codecarbon INFO @ 19:54:22] Energy consumed for all GPUs : 0.027746 kWh. Total GPU Power : 101.27 W\n",
            "[codecarbon INFO @ 19:54:22] Energy consumed for all CPUs : 0.009561 kWh. Total CPU Power : 42.5 W\n",
            "[codecarbon INFO @ 19:54:22] 0.044343 kWh of electricity used since the beginning.\n"
          ]
        },
        {
          "output_type": "stream",
          "name": "stdout",
          "text": [
            " 6621/21900 [========>.....................] - ETA: 28:24 - accuracy: 0.9887 - loss: 0.1326 - lr: 0.0100"
          ]
        },
        {
          "output_type": "stream",
          "name": "stderr",
          "text": [
            "[codecarbon INFO @ 19:54:37] Energy consumed for RAM : 0.007167 kWh. RAM Power : 31.30528450012207 W\n",
            "[codecarbon INFO @ 19:54:37] Energy consumed for all GPUs : 0.028202 kWh. Total GPU Power : 109.694 W\n",
            "[codecarbon INFO @ 19:54:37] Energy consumed for all CPUs : 0.009739 kWh. Total CPU Power : 42.5 W\n",
            "[codecarbon INFO @ 19:54:37] 0.045108 kWh of electricity used since the beginning.\n"
          ]
        },
        {
          "output_type": "stream",
          "name": "stdout",
          "text": [
            " 6757/21900 [========>.....................] - ETA: 28:08 - accuracy: 0.9888 - loss: 0.1319 - lr: 0.0100"
          ]
        },
        {
          "output_type": "stream",
          "name": "stderr",
          "text": [
            "[codecarbon INFO @ 19:54:52] Energy consumed for RAM : 0.007297 kWh. RAM Power : 31.30528450012207 W\n",
            "[codecarbon INFO @ 19:54:52] Energy consumed for all GPUs : 0.028844 kWh. Total GPU Power : 154.14600000000002 W\n",
            "[codecarbon INFO @ 19:54:52] Energy consumed for all CPUs : 0.009916 kWh. Total CPU Power : 42.5 W\n",
            "[codecarbon INFO @ 19:54:52] 0.046057 kWh of electricity used since the beginning.\n"
          ]
        },
        {
          "output_type": "stream",
          "name": "stdout",
          "text": [
            " 6891/21900 [========>.....................] - ETA: 27:54 - accuracy: 0.9888 - loss: 0.1316 - lr: 0.0100"
          ]
        },
        {
          "output_type": "stream",
          "name": "stderr",
          "text": [
            "[codecarbon INFO @ 19:55:07] Energy consumed for RAM : 0.007427 kWh. RAM Power : 31.30528450012207 W\n",
            "[codecarbon INFO @ 19:55:07] Energy consumed for all GPUs : 0.029395 kWh. Total GPU Power : 132.242 W\n",
            "[codecarbon INFO @ 19:55:07] Energy consumed for all CPUs : 0.010093 kWh. Total CPU Power : 42.5 W\n",
            "[codecarbon INFO @ 19:55:07] 0.046915 kWh of electricity used since the beginning.\n"
          ]
        },
        {
          "output_type": "stream",
          "name": "stdout",
          "text": [
            " 7026/21900 [========>.....................] - ETA: 27:38 - accuracy: 0.9889 - loss: 0.1307 - lr: 0.0100"
          ]
        },
        {
          "output_type": "stream",
          "name": "stderr",
          "text": [
            "[codecarbon INFO @ 19:55:22] Energy consumed for RAM : 0.007558 kWh. RAM Power : 31.30528450012207 W\n",
            "[codecarbon INFO @ 19:55:22] Energy consumed for all GPUs : 0.029931 kWh. Total GPU Power : 128.874 W\n",
            "[codecarbon INFO @ 19:55:22] Energy consumed for all CPUs : 0.010270 kWh. Total CPU Power : 42.5 W\n",
            "[codecarbon INFO @ 19:55:22] 0.047759 kWh of electricity used since the beginning.\n"
          ]
        },
        {
          "output_type": "stream",
          "name": "stdout",
          "text": [
            " 7160/21900 [========>.....................] - ETA: 27:24 - accuracy: 0.9890 - loss: 0.1300 - lr: 0.0100"
          ]
        },
        {
          "output_type": "stream",
          "name": "stderr",
          "text": [
            "[codecarbon INFO @ 19:55:37] Energy consumed for RAM : 0.007688 kWh. RAM Power : 31.30528450012207 W\n",
            "[codecarbon INFO @ 19:55:37] Energy consumed for all GPUs : 0.030486 kWh. Total GPU Power : 133.247 W\n",
            "[codecarbon INFO @ 19:55:37] Energy consumed for all CPUs : 0.010447 kWh. Total CPU Power : 42.5 W\n",
            "[codecarbon INFO @ 19:55:37] 0.048621 kWh of electricity used since the beginning.\n"
          ]
        },
        {
          "output_type": "stream",
          "name": "stdout",
          "text": [
            " 7295/21900 [========>.....................] - ETA: 27:08 - accuracy: 0.9890 - loss: 0.1296 - lr: 0.0100"
          ]
        },
        {
          "output_type": "stream",
          "name": "stderr",
          "text": [
            "[codecarbon INFO @ 19:55:52] Energy consumed for RAM : 0.007818 kWh. RAM Power : 31.30528450012207 W\n",
            "[codecarbon INFO @ 19:55:52] Energy consumed for all GPUs : 0.031017 kWh. Total GPU Power : 127.60600000000002 W\n",
            "[codecarbon INFO @ 19:55:52] Energy consumed for all CPUs : 0.010624 kWh. Total CPU Power : 42.5 W\n",
            "[codecarbon INFO @ 19:55:52] 0.049460 kWh of electricity used since the beginning.\n"
          ]
        },
        {
          "output_type": "stream",
          "name": "stdout",
          "text": [
            " 7430/21900 [=========>....................] - ETA: 26:53 - accuracy: 0.9890 - loss: 0.1296 - lr: 0.0100"
          ]
        },
        {
          "output_type": "stream",
          "name": "stderr",
          "text": [
            "[codecarbon INFO @ 19:56:07] Energy consumed for RAM : 0.007949 kWh. RAM Power : 31.30528450012207 W\n",
            "[codecarbon INFO @ 19:56:07] Energy consumed for all GPUs : 0.031557 kWh. Total GPU Power : 129.598 W\n",
            "[codecarbon INFO @ 19:56:07] Energy consumed for all CPUs : 0.010801 kWh. Total CPU Power : 42.5 W\n",
            "[codecarbon INFO @ 19:56:07] 0.050307 kWh of electricity used since the beginning.\n"
          ]
        },
        {
          "output_type": "stream",
          "name": "stdout",
          "text": [
            " 7564/21900 [=========>....................] - ETA: 26:38 - accuracy: 0.9891 - loss: 0.1296 - lr: 0.0100"
          ]
        },
        {
          "output_type": "stream",
          "name": "stderr",
          "text": [
            "[codecarbon INFO @ 19:56:22] Energy consumed for RAM : 0.008079 kWh. RAM Power : 31.30528450012207 W\n",
            "[codecarbon INFO @ 19:56:22] Energy consumed for all GPUs : 0.032234 kWh. Total GPU Power : 162.577 W\n",
            "[codecarbon INFO @ 19:56:22] Energy consumed for all CPUs : 0.010978 kWh. Total CPU Power : 42.5 W\n",
            "[codecarbon INFO @ 19:56:22] 0.051291 kWh of electricity used since the beginning.\n"
          ]
        },
        {
          "output_type": "stream",
          "name": "stdout",
          "text": [
            " 7695/21900 [=========>....................] - ETA: 26:24 - accuracy: 0.9891 - loss: 0.1295 - lr: 0.0100"
          ]
        },
        {
          "output_type": "stream",
          "name": "stderr",
          "text": [
            "[codecarbon INFO @ 19:56:37] Energy consumed for RAM : 0.008209 kWh. RAM Power : 31.30528450012207 W\n",
            "[codecarbon INFO @ 19:56:37] Energy consumed for all GPUs : 0.032748 kWh. Total GPU Power : 123.50500000000002 W\n"
          ]
        },
        {
          "output_type": "stream",
          "name": "stdout",
          "text": [
            "\b\b\b\b\b\b\b\b\b\b\b\b\b\b\b\b\b\b\b\b\b\b\b\b\b\b\b\b\b\b\b\b\b\b\b\b\b\b\b\b\b\b\b\b\b\b\b\b\b\b\b\b\b\b\b\b\b\b\b\b\b\b\b\b\b\b\b\b\b\b\b\b\b\b\b\b\b\b\b\b\b\b\b\b\b\b\b\b\b\b\b\b\b\b\b\b\b\b\b\b\b\b\b\b\r 7696/21900 [=========>....................] - ETA: 26:24 - accuracy: 0.9891 - loss: 0.1295 - lr: 0.0100"
          ]
        },
        {
          "output_type": "stream",
          "name": "stderr",
          "text": [
            "[codecarbon INFO @ 19:56:37] Energy consumed for all CPUs : 0.011155 kWh. Total CPU Power : 42.5 W\n",
            "[codecarbon INFO @ 19:56:37] 0.052113 kWh of electricity used since the beginning.\n"
          ]
        },
        {
          "output_type": "stream",
          "name": "stdout",
          "text": [
            " 7830/21900 [=========>....................] - ETA: 26:09 - accuracy: 0.9891 - loss: 0.1292 - lr: 0.0100"
          ]
        },
        {
          "output_type": "stream",
          "name": "stderr",
          "text": [
            "[codecarbon INFO @ 19:56:52] Energy consumed for RAM : 0.008340 kWh. RAM Power : 31.30528450012207 W\n",
            "[codecarbon INFO @ 19:56:52] Energy consumed for all GPUs : 0.033266 kWh. Total GPU Power : 124.417 W\n",
            "[codecarbon INFO @ 19:56:52] Energy consumed for all CPUs : 0.011332 kWh. Total CPU Power : 42.5 W\n",
            "[codecarbon INFO @ 19:56:52] 0.052938 kWh of electricity used since the beginning.\n"
          ]
        },
        {
          "output_type": "stream",
          "name": "stdout",
          "text": [
            " 7964/21900 [=========>....................] - ETA: 25:55 - accuracy: 0.9891 - loss: 0.1289 - lr: 0.0100"
          ]
        },
        {
          "output_type": "stream",
          "name": "stderr",
          "text": [
            "[codecarbon INFO @ 19:57:07] Energy consumed for RAM : 0.008470 kWh. RAM Power : 31.30528450012207 W\n",
            "[codecarbon INFO @ 19:57:07] Energy consumed for all GPUs : 0.033706 kWh. Total GPU Power : 105.643 W\n",
            "[codecarbon INFO @ 19:57:07] Energy consumed for all CPUs : 0.011509 kWh. Total CPU Power : 42.5 W\n",
            "[codecarbon INFO @ 19:57:07] 0.053685 kWh of electricity used since the beginning.\n"
          ]
        },
        {
          "output_type": "stream",
          "name": "stdout",
          "text": [
            " 8098/21900 [==========>...................] - ETA: 25:40 - accuracy: 0.9892 - loss: 0.1283 - lr: 0.0100"
          ]
        },
        {
          "output_type": "stream",
          "name": "stderr",
          "text": [
            "[codecarbon INFO @ 19:57:22] Energy consumed for RAM : 0.008600 kWh. RAM Power : 31.30528450012207 W\n",
            "[codecarbon INFO @ 19:57:22] Energy consumed for all GPUs : 0.034238 kWh. Total GPU Power : 127.73900000000002 W\n",
            "[codecarbon INFO @ 19:57:22] Energy consumed for all CPUs : 0.011686 kWh. Total CPU Power : 42.5 W\n",
            "[codecarbon INFO @ 19:57:22] 0.054524 kWh of electricity used since the beginning.\n"
          ]
        },
        {
          "output_type": "stream",
          "name": "stdout",
          "text": [
            " 8233/21900 [==========>...................] - ETA: 25:25 - accuracy: 0.9893 - loss: 0.1278 - lr: 0.0100"
          ]
        },
        {
          "output_type": "stream",
          "name": "stderr",
          "text": [
            "[codecarbon INFO @ 19:57:37] Energy consumed for RAM : 0.008730 kWh. RAM Power : 31.30528450012207 W\n",
            "[codecarbon INFO @ 19:57:37] Energy consumed for all GPUs : 0.034768 kWh. Total GPU Power : 127.276 W\n",
            "[codecarbon INFO @ 19:57:37] Energy consumed for all CPUs : 0.011863 kWh. Total CPU Power : 42.5 W\n",
            "[codecarbon INFO @ 19:57:37] 0.055361 kWh of electricity used since the beginning.\n"
          ]
        },
        {
          "output_type": "stream",
          "name": "stdout",
          "text": [
            " 8368/21900 [==========>...................] - ETA: 25:09 - accuracy: 0.9893 - loss: 0.1273 - lr: 0.0100"
          ]
        },
        {
          "output_type": "stream",
          "name": "stderr",
          "text": [
            "[codecarbon INFO @ 19:57:52] Energy consumed for RAM : 0.008861 kWh. RAM Power : 31.30528450012207 W\n",
            "[codecarbon INFO @ 19:57:52] Energy consumed for all GPUs : 0.035315 kWh. Total GPU Power : 131.513 W\n",
            "[codecarbon INFO @ 19:57:52] Energy consumed for all CPUs : 0.012040 kWh. Total CPU Power : 42.5 W\n",
            "[codecarbon INFO @ 19:57:52] 0.056216 kWh of electricity used since the beginning.\n"
          ]
        },
        {
          "output_type": "stream",
          "name": "stdout",
          "text": [
            " 8503/21900 [==========>...................] - ETA: 24:54 - accuracy: 0.9893 - loss: 0.1278 - lr: 0.0100"
          ]
        },
        {
          "output_type": "stream",
          "name": "stderr",
          "text": [
            "[codecarbon INFO @ 19:58:07] Energy consumed for RAM : 0.008991 kWh. RAM Power : 31.30528450012207 W\n",
            "[codecarbon INFO @ 19:58:07] Energy consumed for all GPUs : 0.035877 kWh. Total GPU Power : 134.833 W\n",
            "[codecarbon INFO @ 19:58:07] Energy consumed for all CPUs : 0.012217 kWh. Total CPU Power : 42.5 W\n",
            "[codecarbon INFO @ 19:58:07] 0.057085 kWh of electricity used since the beginning.\n"
          ]
        },
        {
          "output_type": "stream",
          "name": "stdout",
          "text": [
            " 8637/21900 [==========>...................] - ETA: 24:39 - accuracy: 0.9893 - loss: 0.1278 - lr: 0.0100"
          ]
        },
        {
          "output_type": "stream",
          "name": "stderr",
          "text": [
            "[codecarbon INFO @ 19:58:22] Energy consumed for RAM : 0.009121 kWh. RAM Power : 31.30528450012207 W\n"
          ]
        },
        {
          "output_type": "stream",
          "name": "stdout",
          "text": [
            "\b\b\b\b\b\b\b\b\b\b\b\b\b\b\b\b\b\b\b\b\b\b\b\b\b\b\b\b\b\b\b\b\b\b\b\b\b\b\b\b\b\b\b\b\b\b\b\b\b\b\b\b\b\b\b\b\b\b\b\b\b\b\b\b\b\b\b\b\b\b\b\b\b\b\b\b\b\b\b\b\b\b\b\b\b\b\b\b\b\b\b\b\b\b\b\b\b\b\b\b\b\b\b\b\r 8638/21900 [==========>...................] - ETA: 24:39 - accuracy: 0.9893 - loss: 0.1278 - lr: 0.0100"
          ]
        },
        {
          "output_type": "stream",
          "name": "stderr",
          "text": [
            "[codecarbon INFO @ 19:58:22] Energy consumed for all GPUs : 0.036415 kWh. Total GPU Power : 129.33000000000004 W\n",
            "[codecarbon INFO @ 19:58:22] Energy consumed for all CPUs : 0.012395 kWh. Total CPU Power : 42.5 W\n",
            "[codecarbon INFO @ 19:58:22] 0.057931 kWh of electricity used since the beginning.\n"
          ]
        },
        {
          "output_type": "stream",
          "name": "stdout",
          "text": [
            " 8772/21900 [===========>..................] - ETA: 24:24 - accuracy: 0.9893 - loss: 0.1282 - lr: 0.0100"
          ]
        },
        {
          "output_type": "stream",
          "name": "stderr",
          "text": [
            "[codecarbon INFO @ 19:58:37] Energy consumed for RAM : 0.009252 kWh. RAM Power : 31.30528450012207 W\n",
            "[codecarbon INFO @ 19:58:37] Energy consumed for all GPUs : 0.036931 kWh. Total GPU Power : 123.95700000000001 W\n",
            "[codecarbon INFO @ 19:58:37] Energy consumed for all CPUs : 0.012571 kWh. Total CPU Power : 42.5 W\n",
            "[codecarbon INFO @ 19:58:37] 0.058754 kWh of electricity used since the beginning.\n"
          ]
        },
        {
          "output_type": "stream",
          "name": "stdout",
          "text": [
            " 8907/21900 [===========>..................] - ETA: 24:09 - accuracy: 0.9892 - loss: 0.1287 - lr: 0.0100"
          ]
        },
        {
          "output_type": "stream",
          "name": "stderr",
          "text": [
            "[codecarbon INFO @ 19:58:52] Energy consumed for RAM : 0.009382 kWh. RAM Power : 31.30528450012207 W\n",
            "[codecarbon INFO @ 19:58:52] Energy consumed for all GPUs : 0.037444 kWh. Total GPU Power : 123.229 W\n",
            "[codecarbon INFO @ 19:58:52] Energy consumed for all CPUs : 0.012749 kWh. Total CPU Power : 42.5 W\n",
            "[codecarbon INFO @ 19:58:52] 0.059574 kWh of electricity used since the beginning.\n"
          ]
        },
        {
          "output_type": "stream",
          "name": "stdout",
          "text": [
            " 9041/21900 [===========>..................] - ETA: 23:54 - accuracy: 0.9892 - loss: 0.1288 - lr: 0.0100"
          ]
        },
        {
          "output_type": "stream",
          "name": "stderr",
          "text": [
            "[codecarbon INFO @ 19:59:07] Energy consumed for RAM : 0.009512 kWh. RAM Power : 31.30528450012207 W\n",
            "[codecarbon INFO @ 19:59:07] Energy consumed for all GPUs : 0.038083 kWh. Total GPU Power : 153.395 W\n",
            "[codecarbon INFO @ 19:59:07] Energy consumed for all CPUs : 0.012926 kWh. Total CPU Power : 42.5 W\n",
            "[codecarbon INFO @ 19:59:07] 0.060520 kWh of electricity used since the beginning.\n"
          ]
        },
        {
          "output_type": "stream",
          "name": "stdout",
          "text": [
            " 9175/21900 [===========>..................] - ETA: 23:39 - accuracy: 0.9892 - loss: 0.1290 - lr: 0.0100"
          ]
        },
        {
          "output_type": "stream",
          "name": "stderr",
          "text": [
            "[codecarbon INFO @ 19:59:22] Energy consumed for RAM : 0.009643 kWh. RAM Power : 31.30528450012207 W\n",
            "[codecarbon INFO @ 19:59:22] Energy consumed for all GPUs : 0.038597 kWh. Total GPU Power : 123.63400000000001 W\n",
            "[codecarbon INFO @ 19:59:22] Energy consumed for all CPUs : 0.013103 kWh. Total CPU Power : 42.5 W\n",
            "[codecarbon INFO @ 19:59:22] 0.061343 kWh of electricity used since the beginning.\n"
          ]
        },
        {
          "output_type": "stream",
          "name": "stdout",
          "text": [
            " 9309/21900 [===========>..................] - ETA: 23:24 - accuracy: 0.9892 - loss: 0.1289 - lr: 0.0100"
          ]
        },
        {
          "output_type": "stream",
          "name": "stderr",
          "text": [
            "[codecarbon INFO @ 19:59:37] Energy consumed for RAM : 0.009773 kWh. RAM Power : 31.30528450012207 W\n",
            "[codecarbon INFO @ 19:59:37] Energy consumed for all GPUs : 0.039138 kWh. Total GPU Power : 129.92000000000002 W\n",
            "[codecarbon INFO @ 19:59:37] Energy consumed for all CPUs : 0.013280 kWh. Total CPU Power : 42.5 W\n",
            "[codecarbon INFO @ 19:59:37] 0.062191 kWh of electricity used since the beginning.\n"
          ]
        },
        {
          "output_type": "stream",
          "name": "stdout",
          "text": [
            " 9444/21900 [===========>..................] - ETA: 23:09 - accuracy: 0.9892 - loss: 0.1288 - lr: 0.0100"
          ]
        },
        {
          "output_type": "stream",
          "name": "stderr",
          "text": [
            "[codecarbon INFO @ 19:59:52] Energy consumed for RAM : 0.009903 kWh. RAM Power : 31.30528450012207 W\n",
            "[codecarbon INFO @ 19:59:52] Energy consumed for all GPUs : 0.039681 kWh. Total GPU Power : 130.332 W\n",
            "[codecarbon INFO @ 19:59:52] Energy consumed for all CPUs : 0.013457 kWh. Total CPU Power : 42.5 W\n",
            "[codecarbon INFO @ 19:59:52] 0.063041 kWh of electricity used since the beginning.\n"
          ]
        },
        {
          "output_type": "stream",
          "name": "stdout",
          "text": [
            " 9578/21900 [============>.................] - ETA: 22:54 - accuracy: 0.9893 - loss: 0.1283 - lr: 0.0100"
          ]
        },
        {
          "output_type": "stream",
          "name": "stderr",
          "text": [
            "[codecarbon INFO @ 20:00:07] Energy consumed for RAM : 0.010033 kWh. RAM Power : 31.30528450012207 W\n",
            "[codecarbon INFO @ 20:00:07] Energy consumed for all GPUs : 0.040242 kWh. Total GPU Power : 134.833 W\n",
            "[codecarbon INFO @ 20:00:07] Energy consumed for all CPUs : 0.013634 kWh. Total CPU Power : 42.5 W\n",
            "[codecarbon INFO @ 20:00:07] 0.063909 kWh of electricity used since the beginning.\n"
          ]
        },
        {
          "output_type": "stream",
          "name": "stdout",
          "text": [
            " 9712/21900 [============>.................] - ETA: 22:39 - accuracy: 0.9893 - loss: 0.1281 - lr: 0.0100"
          ]
        },
        {
          "output_type": "stream",
          "name": "stderr",
          "text": [
            "[codecarbon INFO @ 20:00:22] Energy consumed for RAM : 0.010164 kWh. RAM Power : 31.30528450012207 W\n",
            "[codecarbon INFO @ 20:00:22] Energy consumed for all GPUs : 0.040771 kWh. Total GPU Power : 127.00800000000001 W\n",
            "[codecarbon INFO @ 20:00:22] Energy consumed for all CPUs : 0.013811 kWh. Total CPU Power : 42.5 W\n",
            "[codecarbon INFO @ 20:00:22] 0.064746 kWh of electricity used since the beginning.\n"
          ]
        },
        {
          "output_type": "stream",
          "name": "stdout",
          "text": [
            " 9847/21900 [============>.................] - ETA: 22:24 - accuracy: 0.9894 - loss: 0.1279 - lr: 0.0100"
          ]
        },
        {
          "output_type": "stream",
          "name": "stderr",
          "text": [
            "[codecarbon INFO @ 20:00:37] Energy consumed for RAM : 0.010294 kWh. RAM Power : 31.30528450012207 W\n",
            "[codecarbon INFO @ 20:00:37] Energy consumed for all GPUs : 0.041303 kWh. Total GPU Power : 127.87400000000001 W\n",
            "[codecarbon INFO @ 20:00:37] Energy consumed for all CPUs : 0.013988 kWh. Total CPU Power : 42.5 W\n",
            "[codecarbon INFO @ 20:00:37] 0.065585 kWh of electricity used since the beginning.\n"
          ]
        },
        {
          "output_type": "stream",
          "name": "stdout",
          "text": [
            " 9982/21900 [============>.................] - ETA: 22:09 - accuracy: 0.9894 - loss: 0.1279 - lr: 0.0100"
          ]
        },
        {
          "output_type": "stream",
          "name": "stderr",
          "text": [
            "[codecarbon INFO @ 20:00:52] Energy consumed for RAM : 0.010424 kWh. RAM Power : 31.30528450012207 W\n",
            "[codecarbon INFO @ 20:00:52] Energy consumed for all GPUs : 0.041835 kWh. Total GPU Power : 127.73900000000002 W\n",
            "[codecarbon INFO @ 20:00:52] Energy consumed for all CPUs : 0.014165 kWh. Total CPU Power : 42.5 W\n",
            "[codecarbon INFO @ 20:00:52] 0.066425 kWh of electricity used since the beginning.\n"
          ]
        },
        {
          "output_type": "stream",
          "name": "stdout",
          "text": [
            "10116/21900 [============>.................] - ETA: 21:54 - accuracy: 0.9894 - loss: 0.1278 - lr: 0.0100"
          ]
        },
        {
          "output_type": "stream",
          "name": "stderr",
          "text": [
            "[codecarbon INFO @ 20:01:07] Energy consumed for RAM : 0.010555 kWh. RAM Power : 31.30528450012207 W\n",
            "[codecarbon INFO @ 20:01:07] Energy consumed for all GPUs : 0.042551 kWh. Total GPU Power : 171.957 W\n",
            "[codecarbon INFO @ 20:01:07] Energy consumed for all CPUs : 0.014342 kWh. Total CPU Power : 42.5 W\n",
            "[codecarbon INFO @ 20:01:07] 0.067448 kWh of electricity used since the beginning.\n"
          ]
        },
        {
          "output_type": "stream",
          "name": "stdout",
          "text": [
            "10250/21900 [=============>................] - ETA: 21:39 - accuracy: 0.9894 - loss: 0.1277 - lr: 0.0100"
          ]
        },
        {
          "output_type": "stream",
          "name": "stderr",
          "text": [
            "[codecarbon INFO @ 20:01:22] Energy consumed for RAM : 0.010685 kWh. RAM Power : 31.30528450012207 W\n",
            "[codecarbon INFO @ 20:01:22] Energy consumed for all GPUs : 0.043086 kWh. Total GPU Power : 128.598 W\n",
            "[codecarbon INFO @ 20:01:22] Energy consumed for all CPUs : 0.014519 kWh. Total CPU Power : 42.5 W\n",
            "[codecarbon INFO @ 20:01:22] 0.068291 kWh of electricity used since the beginning.\n"
          ]
        },
        {
          "output_type": "stream",
          "name": "stdout",
          "text": [
            "10383/21900 [=============>................] - ETA: 21:25 - accuracy: 0.9894 - loss: 0.1277 - lr: 0.0100"
          ]
        },
        {
          "output_type": "stream",
          "name": "stderr",
          "text": [
            "[codecarbon INFO @ 20:01:37] Energy consumed for RAM : 0.010815 kWh. RAM Power : 31.30528450012207 W\n",
            "[codecarbon INFO @ 20:01:37] Energy consumed for all GPUs : 0.043606 kWh. Total GPU Power : 124.82300000000001 W\n",
            "[codecarbon INFO @ 20:01:37] Energy consumed for all CPUs : 0.014696 kWh. Total CPU Power : 42.5 W\n",
            "[codecarbon INFO @ 20:01:37] 0.069118 kWh of electricity used since the beginning.\n"
          ]
        },
        {
          "output_type": "stream",
          "name": "stdout",
          "text": [
            "10516/21900 [=============>................] - ETA: 21:10 - accuracy: 0.9895 - loss: 0.1274 - lr: 0.0100"
          ]
        },
        {
          "output_type": "stream",
          "name": "stderr",
          "text": [
            "[codecarbon INFO @ 20:01:52] Energy consumed for RAM : 0.010946 kWh. RAM Power : 31.30528450012207 W\n"
          ]
        },
        {
          "output_type": "stream",
          "name": "stdout",
          "text": [
            "\b\b\b\b\b\b\b\b\b\b\b\b\b\b\b\b\b\b\b\b\b\b\b\b\b\b\b\b\b\b\b\b\b\b\b\b\b\b\b\b\b\b\b\b\b\b\b\b\b\b\b\b\b\b\b\b\b\b\b\b\b\b\b\b\b\b\b\b\b\b\b\b\b\b\b\b\b\b\b\b\b\b\b\b\b\b\b\b\b\b\b\b\b\b\b\b\b\b\b\b\b\b\b\b\r10517/21900 [=============>................] - ETA: 21:10 - accuracy: 0.9895 - loss: 0.1274 - lr: 0.0100"
          ]
        },
        {
          "output_type": "stream",
          "name": "stderr",
          "text": [
            "[codecarbon INFO @ 20:01:52] Energy consumed for all GPUs : 0.044346 kWh. Total GPU Power : 177.64500000000004 W\n",
            "[codecarbon INFO @ 20:01:52] Energy consumed for all CPUs : 0.014873 kWh. Total CPU Power : 42.5 W\n",
            "[codecarbon INFO @ 20:01:52] 0.070165 kWh of electricity used since the beginning.\n"
          ]
        },
        {
          "output_type": "stream",
          "name": "stdout",
          "text": [
            "10652/21900 [=============>................] - ETA: 20:55 - accuracy: 0.9894 - loss: 0.1277 - lr: 0.0100"
          ]
        },
        {
          "output_type": "stream",
          "name": "stderr",
          "text": [
            "[codecarbon INFO @ 20:02:07] Energy consumed for RAM : 0.011076 kWh. RAM Power : 31.30528450012207 W\n",
            "[codecarbon INFO @ 20:02:07] Energy consumed for all GPUs : 0.044802 kWh. Total GPU Power : 109.694 W\n",
            "[codecarbon INFO @ 20:02:07] Energy consumed for all CPUs : 0.015050 kWh. Total CPU Power : 42.5 W\n",
            "[codecarbon INFO @ 20:02:07] 0.070928 kWh of electricity used since the beginning.\n"
          ]
        },
        {
          "output_type": "stream",
          "name": "stdout",
          "text": [
            "10787/21900 [=============>................] - ETA: 20:40 - accuracy: 0.9894 - loss: 0.1277 - lr: 0.0100"
          ]
        },
        {
          "output_type": "stream",
          "name": "stderr",
          "text": [
            "[codecarbon INFO @ 20:02:22] Energy consumed for RAM : 0.011206 kWh. RAM Power : 31.30528450012207 W\n",
            "[codecarbon INFO @ 20:02:22] Energy consumed for all GPUs : 0.045299 kWh. Total GPU Power : 119.459 W\n",
            "[codecarbon INFO @ 20:02:22] Energy consumed for all CPUs : 0.015227 kWh. Total CPU Power : 42.5 W\n",
            "[codecarbon INFO @ 20:02:22] 0.071733 kWh of electricity used since the beginning.\n"
          ]
        },
        {
          "output_type": "stream",
          "name": "stdout",
          "text": [
            "10922/21900 [=============>................] - ETA: 20:24 - accuracy: 0.9895 - loss: 0.1276 - lr: 0.0100"
          ]
        },
        {
          "output_type": "stream",
          "name": "stderr",
          "text": [
            "[codecarbon INFO @ 20:02:37] Energy consumed for RAM : 0.011337 kWh. RAM Power : 31.30528450012207 W\n",
            "[codecarbon INFO @ 20:02:37] Energy consumed for all GPUs : 0.045835 kWh. Total GPU Power : 128.74 W\n",
            "[codecarbon INFO @ 20:02:37] Energy consumed for all CPUs : 0.015404 kWh. Total CPU Power : 42.5 W\n",
            "[codecarbon INFO @ 20:02:37] 0.072576 kWh of electricity used since the beginning.\n"
          ]
        },
        {
          "output_type": "stream",
          "name": "stdout",
          "text": [
            "11057/21900 [==============>...............] - ETA: 20:09 - accuracy: 0.9895 - loss: 0.1273 - lr: 0.0100"
          ]
        },
        {
          "output_type": "stream",
          "name": "stderr",
          "text": [
            "[codecarbon INFO @ 20:02:52] Energy consumed for RAM : 0.011467 kWh. RAM Power : 31.30528450012207 W\n",
            "[codecarbon INFO @ 20:02:52] Energy consumed for all GPUs : 0.046360 kWh. Total GPU Power : 125.95100000000001 W\n",
            "[codecarbon INFO @ 20:02:52] Energy consumed for all CPUs : 0.015582 kWh. Total CPU Power : 42.5 W\n",
            "[codecarbon INFO @ 20:02:52] 0.073408 kWh of electricity used since the beginning.\n"
          ]
        },
        {
          "output_type": "stream",
          "name": "stdout",
          "text": [
            "11192/21900 [==============>...............] - ETA: 19:54 - accuracy: 0.9895 - loss: 0.1273 - lr: 0.0100"
          ]
        },
        {
          "output_type": "stream",
          "name": "stderr",
          "text": [
            "[codecarbon INFO @ 20:03:07] Energy consumed for RAM : 0.011597 kWh. RAM Power : 31.30528450012207 W\n",
            "[codecarbon INFO @ 20:03:07] Energy consumed for all GPUs : 0.046874 kWh. Total GPU Power : 123.358 W\n",
            "[codecarbon INFO @ 20:03:07] Energy consumed for all CPUs : 0.015759 kWh. Total CPU Power : 42.5 W\n",
            "[codecarbon INFO @ 20:03:07] 0.074229 kWh of electricity used since the beginning.\n"
          ]
        },
        {
          "output_type": "stream",
          "name": "stdout",
          "text": [
            "11326/21900 [==============>...............] - ETA: 19:39 - accuracy: 0.9895 - loss: 0.1274 - lr: 0.0100"
          ]
        },
        {
          "output_type": "stream",
          "name": "stderr",
          "text": [
            "[codecarbon INFO @ 20:03:22] Energy consumed for RAM : 0.011728 kWh. RAM Power : 31.30528450012207 W\n",
            "[codecarbon INFO @ 20:03:22] Energy consumed for all GPUs : 0.047309 kWh. Total GPU Power : 104.50800000000001 W\n",
            "[codecarbon INFO @ 20:03:22] Energy consumed for all CPUs : 0.015936 kWh. Total CPU Power : 42.5 W\n",
            "[codecarbon INFO @ 20:03:22] 0.074972 kWh of electricity used since the beginning.\n"
          ]
        },
        {
          "output_type": "stream",
          "name": "stdout",
          "text": [
            "11461/21900 [==============>...............] - ETA: 19:24 - accuracy: 0.9895 - loss: 0.1276 - lr: 0.0100"
          ]
        },
        {
          "output_type": "stream",
          "name": "stderr",
          "text": [
            "[codecarbon INFO @ 20:03:37] Energy consumed for RAM : 0.011858 kWh. RAM Power : 31.30528450012207 W\n",
            "[codecarbon INFO @ 20:03:37] Energy consumed for all GPUs : 0.047812 kWh. Total GPU Power : 120.77300000000001 W\n",
            "[codecarbon INFO @ 20:03:37] Energy consumed for all CPUs : 0.016113 kWh. Total CPU Power : 42.5 W\n",
            "[codecarbon INFO @ 20:03:37] 0.075782 kWh of electricity used since the beginning.\n"
          ]
        },
        {
          "output_type": "stream",
          "name": "stdout",
          "text": [
            "11594/21900 [==============>...............] - ETA: 19:09 - accuracy: 0.9895 - loss: 0.1274 - lr: 0.0100"
          ]
        },
        {
          "output_type": "stream",
          "name": "stderr",
          "text": [
            "[codecarbon INFO @ 20:03:52] Energy consumed for RAM : 0.011988 kWh. RAM Power : 31.30528450012207 W\n",
            "[codecarbon INFO @ 20:03:52] Energy consumed for all GPUs : 0.048310 kWh. Total GPU Power : 119.583 W\n",
            "[codecarbon INFO @ 20:03:52] Energy consumed for all CPUs : 0.016290 kWh. Total CPU Power : 42.5 W\n",
            "[codecarbon INFO @ 20:03:52] 0.076588 kWh of electricity used since the beginning.\n"
          ]
        },
        {
          "output_type": "stream",
          "name": "stdout",
          "text": [
            "11728/21900 [===============>..............] - ETA: 18:55 - accuracy: 0.9895 - loss: 0.1278 - lr: 0.0100"
          ]
        },
        {
          "output_type": "stream",
          "name": "stderr",
          "text": [
            "[codecarbon INFO @ 20:04:07] Energy consumed for RAM : 0.012119 kWh. RAM Power : 31.30528450012207 W\n",
            "[codecarbon INFO @ 20:04:07] Energy consumed for all GPUs : 0.049039 kWh. Total GPU Power : 175.052 W\n",
            "[codecarbon INFO @ 20:04:07] Energy consumed for all CPUs : 0.016467 kWh. Total CPU Power : 42.5 W\n",
            "[codecarbon INFO @ 20:04:07] 0.077624 kWh of electricity used since the beginning.\n"
          ]
        },
        {
          "output_type": "stream",
          "name": "stdout",
          "text": [
            "11862/21900 [===============>..............] - ETA: 18:40 - accuracy: 0.9895 - loss: 0.1280 - lr: 0.0100"
          ]
        },
        {
          "output_type": "stream",
          "name": "stderr",
          "text": [
            "[codecarbon INFO @ 20:04:22] Energy consumed for RAM : 0.012249 kWh. RAM Power : 31.30528450012207 W\n",
            "[codecarbon INFO @ 20:04:22] Energy consumed for all GPUs : 0.049611 kWh. Total GPU Power : 137.56700000000004 W\n",
            "[codecarbon INFO @ 20:04:22] Energy consumed for all CPUs : 0.016644 kWh. Total CPU Power : 42.5 W\n",
            "[codecarbon INFO @ 20:04:22] 0.078504 kWh of electricity used since the beginning.\n"
          ]
        },
        {
          "output_type": "stream",
          "name": "stdout",
          "text": [
            "11997/21900 [===============>..............] - ETA: 18:24 - accuracy: 0.9894 - loss: 0.1285 - lr: 0.0100"
          ]
        },
        {
          "output_type": "stream",
          "name": "stderr",
          "text": [
            "[codecarbon INFO @ 20:04:37] Energy consumed for RAM : 0.012379 kWh. RAM Power : 31.30528450012207 W\n",
            "[codecarbon INFO @ 20:04:37] Energy consumed for all GPUs : 0.050162 kWh. Total GPU Power : 132.242 W\n",
            "[codecarbon INFO @ 20:04:37] Energy consumed for all CPUs : 0.016821 kWh. Total CPU Power : 42.5 W\n",
            "[codecarbon INFO @ 20:04:37] 0.079362 kWh of electricity used since the beginning.\n"
          ]
        },
        {
          "output_type": "stream",
          "name": "stdout",
          "text": [
            "12132/21900 [===============>..............] - ETA: 18:09 - accuracy: 0.9894 - loss: 0.1289 - lr: 0.0100"
          ]
        },
        {
          "output_type": "stream",
          "name": "stderr",
          "text": [
            "[codecarbon INFO @ 20:04:52] Energy consumed for RAM : 0.012510 kWh. RAM Power : 31.30528450012207 W\n",
            "[codecarbon INFO @ 20:04:52] Energy consumed for all GPUs : 0.050865 kWh. Total GPU Power : 168.769 W\n",
            "[codecarbon INFO @ 20:04:52] Energy consumed for all CPUs : 0.016998 kWh. Total CPU Power : 42.5 W\n",
            "[codecarbon INFO @ 20:04:52] 0.080372 kWh of electricity used since the beginning.\n"
          ]
        },
        {
          "output_type": "stream",
          "name": "stdout",
          "text": [
            "12267/21900 [===============>..............] - ETA: 17:54 - accuracy: 0.9894 - loss: 0.1292 - lr: 0.0100"
          ]
        },
        {
          "output_type": "stream",
          "name": "stderr",
          "text": [
            "[codecarbon INFO @ 20:05:07] Energy consumed for RAM : 0.012640 kWh. RAM Power : 31.30528450012207 W\n",
            "[codecarbon INFO @ 20:05:07] Energy consumed for all GPUs : 0.051395 kWh. Total GPU Power : 127.276 W\n",
            "[codecarbon INFO @ 20:05:07] Energy consumed for all CPUs : 0.017175 kWh. Total CPU Power : 42.5 W\n",
            "[codecarbon INFO @ 20:05:07] 0.081210 kWh of electricity used since the beginning.\n"
          ]
        },
        {
          "output_type": "stream",
          "name": "stdout",
          "text": [
            "12401/21900 [===============>..............] - ETA: 17:39 - accuracy: 0.9894 - loss: 0.1291 - lr: 0.0100"
          ]
        },
        {
          "output_type": "stream",
          "name": "stderr",
          "text": [
            "[codecarbon INFO @ 20:05:22] Energy consumed for RAM : 0.012770 kWh. RAM Power : 31.30528450012207 W\n",
            "[codecarbon INFO @ 20:05:22] Energy consumed for all GPUs : 0.051925 kWh. Total GPU Power : 127.40900000000002 W\n",
            "[codecarbon INFO @ 20:05:22] Energy consumed for all CPUs : 0.017352 kWh. Total CPU Power : 42.5 W\n",
            "[codecarbon INFO @ 20:05:22] 0.082048 kWh of electricity used since the beginning.\n"
          ]
        },
        {
          "output_type": "stream",
          "name": "stdout",
          "text": [
            "12535/21900 [================>.............] - ETA: 17:24 - accuracy: 0.9894 - loss: 0.1289 - lr: 0.0100"
          ]
        },
        {
          "output_type": "stream",
          "name": "stderr",
          "text": [
            "[codecarbon INFO @ 20:05:37] Energy consumed for RAM : 0.012901 kWh. RAM Power : 31.30528450012207 W\n",
            "[codecarbon INFO @ 20:05:37] Energy consumed for all GPUs : 0.052442 kWh. Total GPU Power : 124.095 W\n"
          ]
        },
        {
          "output_type": "stream",
          "name": "stdout",
          "text": [
            "\b\b\b\b\b\b\b\b\b\b\b\b\b\b\b\b\b\b\b\b\b\b\b\b\b\b\b\b\b\b\b\b\b\b\b\b\b\b\b\b\b\b\b\b\b\b\b\b\b\b\b\b\b\b\b\b\b\b\b\b\b\b\b\b\b\b\b\b\b\b\b\b\b\b\b\b\b\b\b\b\b\b\b\b\b\b\b\b\b\b\b\b\b\b\b\b\b\b\b\b\b\b\b\b\r12536/21900 [================>.............] - ETA: 17:24 - accuracy: 0.9894 - loss: 0.1289 - lr: 0.0100"
          ]
        },
        {
          "output_type": "stream",
          "name": "stderr",
          "text": [
            "[codecarbon INFO @ 20:05:37] Energy consumed for all CPUs : 0.017529 kWh. Total CPU Power : 42.5 W\n",
            "[codecarbon INFO @ 20:05:37] 0.082872 kWh of electricity used since the beginning.\n"
          ]
        },
        {
          "output_type": "stream",
          "name": "stdout",
          "text": [
            "12671/21900 [================>.............] - ETA: 17:09 - accuracy: 0.9894 - loss: 0.1289 - lr: 0.0100"
          ]
        },
        {
          "output_type": "stream",
          "name": "stderr",
          "text": [
            "[codecarbon INFO @ 20:05:52] Energy consumed for RAM : 0.013031 kWh. RAM Power : 31.30528450012207 W\n",
            "[codecarbon INFO @ 20:05:52] Energy consumed for all GPUs : 0.052987 kWh. Total GPU Power : 131.054 W\n",
            "[codecarbon INFO @ 20:05:52] Energy consumed for all CPUs : 0.017706 kWh. Total CPU Power : 42.5 W\n",
            "[codecarbon INFO @ 20:05:52] 0.083724 kWh of electricity used since the beginning.\n"
          ]
        },
        {
          "output_type": "stream",
          "name": "stdout",
          "text": [
            "12805/21900 [================>.............] - ETA: 16:54 - accuracy: 0.9894 - loss: 0.1287 - lr: 0.0100"
          ]
        },
        {
          "output_type": "stream",
          "name": "stderr",
          "text": [
            "[codecarbon INFO @ 20:06:07] Energy consumed for RAM : 0.013161 kWh. RAM Power : 31.30528450012207 W\n",
            "[codecarbon INFO @ 20:06:07] Energy consumed for all GPUs : 0.053513 kWh. Total GPU Power : 126.418 W\n",
            "[codecarbon INFO @ 20:06:07] Energy consumed for all CPUs : 0.017883 kWh. Total CPU Power : 42.5 W\n",
            "[codecarbon INFO @ 20:06:07] 0.084557 kWh of electricity used since the beginning.\n"
          ]
        },
        {
          "output_type": "stream",
          "name": "stdout",
          "text": [
            "12940/21900 [================>.............] - ETA: 16:39 - accuracy: 0.9895 - loss: 0.1284 - lr: 0.0100"
          ]
        },
        {
          "output_type": "stream",
          "name": "stderr",
          "text": [
            "[codecarbon INFO @ 20:06:22] Energy consumed for RAM : 0.013291 kWh. RAM Power : 31.30528450012207 W\n",
            "[codecarbon INFO @ 20:06:22] Energy consumed for all GPUs : 0.054007 kWh. Total GPU Power : 118.593 W\n",
            "[codecarbon INFO @ 20:06:22] Energy consumed for all CPUs : 0.018060 kWh. Total CPU Power : 42.5 W\n",
            "[codecarbon INFO @ 20:06:22] 0.085359 kWh of electricity used since the beginning.\n"
          ]
        },
        {
          "output_type": "stream",
          "name": "stdout",
          "text": [
            "13074/21900 [================>.............] - ETA: 16:24 - accuracy: 0.9895 - loss: 0.1282 - lr: 0.0100"
          ]
        },
        {
          "output_type": "stream",
          "name": "stderr",
          "text": [
            "[codecarbon INFO @ 20:06:37] Energy consumed for RAM : 0.013422 kWh. RAM Power : 31.30528450012207 W\n",
            "[codecarbon INFO @ 20:06:37] Energy consumed for all GPUs : 0.054461 kWh. Total GPU Power : 109.15700000000001 W\n",
            "[codecarbon INFO @ 20:06:37] Energy consumed for all CPUs : 0.018237 kWh. Total CPU Power : 42.5 W\n",
            "[codecarbon INFO @ 20:06:37] 0.086121 kWh of electricity used since the beginning.\n"
          ]
        },
        {
          "output_type": "stream",
          "name": "stdout",
          "text": [
            "13206/21900 [=================>............] - ETA: 16:10 - accuracy: 0.9895 - loss: 0.1284 - lr: 0.0100"
          ]
        },
        {
          "output_type": "stream",
          "name": "stderr",
          "text": [
            "[codecarbon INFO @ 20:06:52] Energy consumed for RAM : 0.013552 kWh. RAM Power : 31.30528450012207 W\n",
            "[codecarbon INFO @ 20:06:52] Energy consumed for all GPUs : 0.054901 kWh. Total GPU Power : 105.643 W\n",
            "[codecarbon INFO @ 20:06:52] Energy consumed for all CPUs : 0.018415 kWh. Total CPU Power : 42.5 W\n",
            "[codecarbon INFO @ 20:06:52] 0.086868 kWh of electricity used since the beginning.\n"
          ]
        },
        {
          "output_type": "stream",
          "name": "stdout",
          "text": [
            "13340/21900 [=================>............] - ETA: 15:55 - accuracy: 0.9895 - loss: 0.1285 - lr: 0.0100"
          ]
        },
        {
          "output_type": "stream",
          "name": "stderr",
          "text": [
            "[codecarbon INFO @ 20:07:07] Energy consumed for RAM : 0.013682 kWh. RAM Power : 31.30528450012207 W\n",
            "[codecarbon INFO @ 20:07:07] Energy consumed for all GPUs : 0.055451 kWh. Total GPU Power : 132.05800000000002 W\n",
            "[codecarbon INFO @ 20:07:07] Energy consumed for all CPUs : 0.018592 kWh. Total CPU Power : 42.5 W\n",
            "[codecarbon INFO @ 20:07:07] 0.087725 kWh of electricity used since the beginning.\n"
          ]
        },
        {
          "output_type": "stream",
          "name": "stdout",
          "text": [
            "13473/21900 [=================>............] - ETA: 15:40 - accuracy: 0.9895 - loss: 0.1288 - lr: 0.0100"
          ]
        },
        {
          "output_type": "stream",
          "name": "stderr",
          "text": [
            "[codecarbon INFO @ 20:07:22] Energy consumed for RAM : 0.013813 kWh. RAM Power : 31.30528450012207 W\n",
            "[codecarbon INFO @ 20:07:22] Energy consumed for all GPUs : 0.055984 kWh. Total GPU Power : 128.007 W\n",
            "[codecarbon INFO @ 20:07:22] Energy consumed for all CPUs : 0.018769 kWh. Total CPU Power : 42.5 W\n",
            "[codecarbon INFO @ 20:07:22] 0.088565 kWh of electricity used since the beginning.\n"
          ]
        },
        {
          "output_type": "stream",
          "name": "stdout",
          "text": [
            "13608/21900 [=================>............] - ETA: 15:25 - accuracy: 0.9895 - loss: 0.1289 - lr: 0.0100"
          ]
        },
        {
          "output_type": "stream",
          "name": "stderr",
          "text": [
            "[codecarbon INFO @ 20:07:37] Energy consumed for RAM : 0.013943 kWh. RAM Power : 31.30528450012207 W\n",
            "[codecarbon INFO @ 20:07:37] Energy consumed for all GPUs : 0.056501 kWh. Total GPU Power : 124.22500000000002 W\n",
            "[codecarbon INFO @ 20:07:37] Energy consumed for all CPUs : 0.018946 kWh. Total CPU Power : 42.5 W\n",
            "[codecarbon INFO @ 20:07:37] 0.089390 kWh of electricity used since the beginning.\n"
          ]
        },
        {
          "output_type": "stream",
          "name": "stdout",
          "text": [
            "13743/21900 [=================>............] - ETA: 15:10 - accuracy: 0.9895 - loss: 0.1289 - lr: 0.0100"
          ]
        },
        {
          "output_type": "stream",
          "name": "stderr",
          "text": [
            "[codecarbon INFO @ 20:07:52] Energy consumed for RAM : 0.014073 kWh. RAM Power : 31.30528450012207 W\n",
            "[codecarbon INFO @ 20:07:52] Energy consumed for all GPUs : 0.057022 kWh. Total GPU Power : 125.09200000000001 W\n",
            "[codecarbon INFO @ 20:07:52] Energy consumed for all CPUs : 0.019123 kWh. Total CPU Power : 42.5 W\n",
            "[codecarbon INFO @ 20:07:52] 0.090218 kWh of electricity used since the beginning.\n"
          ]
        },
        {
          "output_type": "stream",
          "name": "stdout",
          "text": [
            "13878/21900 [==================>...........] - ETA: 14:55 - accuracy: 0.9895 - loss: 0.1290 - lr: 0.0100"
          ]
        },
        {
          "output_type": "stream",
          "name": "stderr",
          "text": [
            "[codecarbon INFO @ 20:08:07] Energy consumed for RAM : 0.014204 kWh. RAM Power : 31.30528450012207 W\n",
            "[codecarbon INFO @ 20:08:07] Energy consumed for all GPUs : 0.057588 kWh. Total GPU Power : 135.84 W\n",
            "[codecarbon INFO @ 20:08:07] Energy consumed for all CPUs : 0.019300 kWh. Total CPU Power : 42.5 W\n",
            "[codecarbon INFO @ 20:08:07] 0.091091 kWh of electricity used since the beginning.\n"
          ]
        },
        {
          "output_type": "stream",
          "name": "stdout",
          "text": [
            "14012/21900 [==================>...........] - ETA: 14:40 - accuracy: 0.9895 - loss: 0.1291 - lr: 0.0100"
          ]
        },
        {
          "output_type": "stream",
          "name": "stderr",
          "text": [
            "[codecarbon INFO @ 20:08:22] Energy consumed for RAM : 0.014334 kWh. RAM Power : 31.30528450012207 W\n",
            "[codecarbon INFO @ 20:08:22] Energy consumed for all GPUs : 0.058087 kWh. Total GPU Power : 119.906 W\n",
            "[codecarbon INFO @ 20:08:22] Energy consumed for all CPUs : 0.019477 kWh. Total CPU Power : 42.5 W\n",
            "[codecarbon INFO @ 20:08:22] 0.091898 kWh of electricity used since the beginning.\n"
          ]
        },
        {
          "output_type": "stream",
          "name": "stdout",
          "text": [
            "14147/21900 [==================>...........] - ETA: 14:25 - accuracy: 0.9895 - loss: 0.1293 - lr: 0.0100"
          ]
        },
        {
          "output_type": "stream",
          "name": "stderr",
          "text": [
            "[codecarbon INFO @ 20:08:37] Energy consumed for RAM : 0.014464 kWh. RAM Power : 31.30528450012207 W\n",
            "[codecarbon INFO @ 20:08:37] Energy consumed for all GPUs : 0.058625 kWh. Total GPU Power : 129.062 W\n",
            "[codecarbon INFO @ 20:08:37] Energy consumed for all CPUs : 0.019654 kWh. Total CPU Power : 42.5 W\n",
            "[codecarbon INFO @ 20:08:37] 0.092743 kWh of electricity used since the beginning.\n"
          ]
        },
        {
          "output_type": "stream",
          "name": "stdout",
          "text": [
            "14281/21900 [==================>...........] - ETA: 14:10 - accuracy: 0.9895 - loss: 0.1294 - lr: 0.0100"
          ]
        },
        {
          "output_type": "stream",
          "name": "stderr",
          "text": [
            "[codecarbon INFO @ 20:08:52] Energy consumed for RAM : 0.014595 kWh. RAM Power : 31.30528450012207 W\n",
            "[codecarbon INFO @ 20:08:52] Energy consumed for all GPUs : 0.059060 kWh. Total GPU Power : 104.50800000000001 W\n",
            "[codecarbon INFO @ 20:08:52] Energy consumed for all CPUs : 0.019831 kWh. Total CPU Power : 42.5 W\n",
            "[codecarbon INFO @ 20:08:52] 0.093485 kWh of electricity used since the beginning.\n"
          ]
        },
        {
          "output_type": "stream",
          "name": "stdout",
          "text": [
            "14415/21900 [==================>...........] - ETA: 13:55 - accuracy: 0.9894 - loss: 0.1295 - lr: 0.0100"
          ]
        },
        {
          "output_type": "stream",
          "name": "stderr",
          "text": [
            "[codecarbon INFO @ 20:09:07] Energy consumed for RAM : 0.014725 kWh. RAM Power : 31.30528450012207 W\n",
            "[codecarbon INFO @ 20:09:07] Energy consumed for all GPUs : 0.059586 kWh. Total GPU Power : 126.55 W\n",
            "[codecarbon INFO @ 20:09:07] Energy consumed for all CPUs : 0.020008 kWh. Total CPU Power : 42.5 W\n",
            "[codecarbon INFO @ 20:09:07] 0.094319 kWh of electricity used since the beginning.\n"
          ]
        },
        {
          "output_type": "stream",
          "name": "stdout",
          "text": [
            "14550/21900 [==================>...........] - ETA: 13:40 - accuracy: 0.9894 - loss: 0.1296 - lr: 0.0100"
          ]
        },
        {
          "output_type": "stream",
          "name": "stderr",
          "text": [
            "[codecarbon INFO @ 20:09:22] Energy consumed for RAM : 0.014855 kWh. RAM Power : 31.30528450012207 W\n",
            "[codecarbon INFO @ 20:09:22] Energy consumed for all GPUs : 0.060244 kWh. Total GPU Power : 157.92800000000003 W\n",
            "[codecarbon INFO @ 20:09:22] Energy consumed for all CPUs : 0.020185 kWh. Total CPU Power : 42.5 W\n",
            "[codecarbon INFO @ 20:09:22] 0.095284 kWh of electricity used since the beginning.\n"
          ]
        },
        {
          "output_type": "stream",
          "name": "stdout",
          "text": [
            "14685/21900 [===================>..........] - ETA: 13:25 - accuracy: 0.9894 - loss: 0.1296 - lr: 0.0100"
          ]
        },
        {
          "output_type": "stream",
          "name": "stderr",
          "text": [
            "[codecarbon INFO @ 20:09:37] Energy consumed for RAM : 0.014986 kWh. RAM Power : 31.30528450012207 W\n",
            "[codecarbon INFO @ 20:09:37] Energy consumed for all GPUs : 0.060659 kWh. Total GPU Power : 99.544 W\n",
            "[codecarbon INFO @ 20:09:37] Energy consumed for all CPUs : 0.020362 kWh. Total CPU Power : 42.5 W\n",
            "[codecarbon INFO @ 20:09:37] 0.096006 kWh of electricity used since the beginning.\n"
          ]
        },
        {
          "output_type": "stream",
          "name": "stdout",
          "text": [
            "14819/21900 [===================>..........] - ETA: 13:10 - accuracy: 0.9895 - loss: 0.1294 - lr: 0.0100"
          ]
        },
        {
          "output_type": "stream",
          "name": "stderr",
          "text": [
            "[codecarbon INFO @ 20:09:52] Energy consumed for RAM : 0.015116 kWh. RAM Power : 31.30528450012207 W\n",
            "[codecarbon INFO @ 20:09:52] Energy consumed for all GPUs : 0.061198 kWh. Total GPU Power : 129.465 W\n",
            "[codecarbon INFO @ 20:09:52] Energy consumed for all CPUs : 0.020539 kWh. Total CPU Power : 42.5 W\n",
            "[codecarbon INFO @ 20:09:52] 0.096853 kWh of electricity used since the beginning.\n"
          ]
        },
        {
          "output_type": "stream",
          "name": "stdout",
          "text": [
            "14954/21900 [===================>..........] - ETA: 12:55 - accuracy: 0.9895 - loss: 0.1291 - lr: 0.0100"
          ]
        },
        {
          "output_type": "stream",
          "name": "stderr",
          "text": [
            "[codecarbon INFO @ 20:10:07] Energy consumed for RAM : 0.015246 kWh. RAM Power : 31.30528450012207 W\n",
            "[codecarbon INFO @ 20:10:07] Energy consumed for all GPUs : 0.061797 kWh. Total GPU Power : 143.996 W\n",
            "[codecarbon INFO @ 20:10:07] Energy consumed for all CPUs : 0.020716 kWh. Total CPU Power : 42.5 W\n",
            "[codecarbon INFO @ 20:10:07] 0.097760 kWh of electricity used since the beginning.\n"
          ]
        },
        {
          "output_type": "stream",
          "name": "stdout",
          "text": [
            "15088/21900 [===================>..........] - ETA: 12:40 - accuracy: 0.9895 - loss: 0.1288 - lr: 0.0100"
          ]
        },
        {
          "output_type": "stream",
          "name": "stderr",
          "text": [
            "[codecarbon INFO @ 20:10:22] Energy consumed for RAM : 0.015376 kWh. RAM Power : 31.30528450012207 W\n",
            "[codecarbon INFO @ 20:10:22] Energy consumed for all GPUs : 0.062558 kWh. Total GPU Power : 182.69400000000002 W\n",
            "[codecarbon INFO @ 20:10:22] Energy consumed for all CPUs : 0.020893 kWh. Total CPU Power : 42.5 W\n",
            "[codecarbon INFO @ 20:10:22] 0.098828 kWh of electricity used since the beginning.\n"
          ]
        },
        {
          "output_type": "stream",
          "name": "stdout",
          "text": [
            "15222/21900 [===================>..........] - ETA: 12:25 - accuracy: 0.9896 - loss: 0.1284 - lr: 0.0100"
          ]
        },
        {
          "output_type": "stream",
          "name": "stderr",
          "text": [
            "[codecarbon INFO @ 20:10:37] Energy consumed for RAM : 0.015507 kWh. RAM Power : 31.30528450012207 W\n",
            "[codecarbon INFO @ 20:10:37] Energy consumed for all GPUs : 0.063133 kWh. Total GPU Power : 138.157 W\n",
            "[codecarbon INFO @ 20:10:37] Energy consumed for all CPUs : 0.021070 kWh. Total CPU Power : 42.5 W\n",
            "[codecarbon INFO @ 20:10:37] 0.099710 kWh of electricity used since the beginning.\n"
          ]
        },
        {
          "output_type": "stream",
          "name": "stdout",
          "text": [
            "15357/21900 [====================>.........] - ETA: 12:10 - accuracy: 0.9896 - loss: 0.1281 - lr: 0.0100"
          ]
        },
        {
          "output_type": "stream",
          "name": "stderr",
          "text": [
            "[codecarbon INFO @ 20:10:52] Energy consumed for RAM : 0.015637 kWh. RAM Power : 31.30528450012207 W\n",
            "[codecarbon INFO @ 20:10:52] Energy consumed for all GPUs : 0.063649 kWh. Total GPU Power : 123.95700000000001 W\n",
            "[codecarbon INFO @ 20:10:52] Energy consumed for all CPUs : 0.021248 kWh. Total CPU Power : 42.5 W\n",
            "[codecarbon INFO @ 20:10:52] 0.100534 kWh of electricity used since the beginning.\n"
          ]
        },
        {
          "output_type": "stream",
          "name": "stdout",
          "text": [
            "15491/21900 [====================>.........] - ETA: 11:55 - accuracy: 0.9896 - loss: 0.1278 - lr: 0.0100"
          ]
        },
        {
          "output_type": "stream",
          "name": "stderr",
          "text": [
            "[codecarbon INFO @ 20:11:07] Energy consumed for RAM : 0.015767 kWh. RAM Power : 31.30528450012207 W\n",
            "[codecarbon INFO @ 20:11:07] Energy consumed for all GPUs : 0.064212 kWh. Total GPU Power : 135.101 W\n",
            "[codecarbon INFO @ 20:11:07] Energy consumed for all CPUs : 0.021425 kWh. Total CPU Power : 42.5 W\n",
            "[codecarbon INFO @ 20:11:07] 0.101404 kWh of electricity used since the beginning.\n"
          ]
        },
        {
          "output_type": "stream",
          "name": "stdout",
          "text": [
            "15625/21900 [====================>.........] - ETA: 11:40 - accuracy: 0.9896 - loss: 0.1278 - lr: 0.0100"
          ]
        },
        {
          "output_type": "stream",
          "name": "stderr",
          "text": [
            "[codecarbon INFO @ 20:11:22] Energy consumed for RAM : 0.015898 kWh. RAM Power : 31.30528450012207 W\n",
            "[codecarbon INFO @ 20:11:22] Energy consumed for all GPUs : 0.064751 kWh. Total GPU Power : 129.598 W\n",
            "[codecarbon INFO @ 20:11:22] Energy consumed for all CPUs : 0.021602 kWh. Total CPU Power : 42.5 W\n",
            "[codecarbon INFO @ 20:11:22] 0.102251 kWh of electricity used since the beginning.\n"
          ]
        },
        {
          "output_type": "stream",
          "name": "stdout",
          "text": [
            "15759/21900 [====================>.........] - ETA: 11:25 - accuracy: 0.9896 - loss: 0.1277 - lr: 0.0100"
          ]
        },
        {
          "output_type": "stream",
          "name": "stderr",
          "text": [
            "[codecarbon INFO @ 20:11:37] Energy consumed for RAM : 0.016028 kWh. RAM Power : 31.30528450012207 W\n",
            "[codecarbon INFO @ 20:11:37] Energy consumed for all GPUs : 0.065284 kWh. Total GPU Power : 127.87400000000001 W\n",
            "[codecarbon INFO @ 20:11:37] Energy consumed for all CPUs : 0.021779 kWh. Total CPU Power : 42.5 W\n",
            "[codecarbon INFO @ 20:11:37] 0.103091 kWh of electricity used since the beginning.\n"
          ]
        },
        {
          "output_type": "stream",
          "name": "stdout",
          "text": [
            "15893/21900 [====================>.........] - ETA: 11:10 - accuracy: 0.9896 - loss: 0.1276 - lr: 0.0100"
          ]
        },
        {
          "output_type": "stream",
          "name": "stderr",
          "text": [
            "[codecarbon INFO @ 20:11:52] Energy consumed for RAM : 0.016158 kWh. RAM Power : 31.30528450012207 W\n",
            "[codecarbon INFO @ 20:11:52] Energy consumed for all GPUs : 0.065734 kWh. Total GPU Power : 108.23700000000001 W\n",
            "[codecarbon INFO @ 20:11:52] Energy consumed for all CPUs : 0.021956 kWh. Total CPU Power : 42.5 W\n",
            "[codecarbon INFO @ 20:11:52] 0.103849 kWh of electricity used since the beginning.\n"
          ]
        },
        {
          "output_type": "stream",
          "name": "stdout",
          "text": [
            "16025/21900 [====================>.........] - ETA: 10:55 - accuracy: 0.9897 - loss: 0.1274 - lr: 0.0100"
          ]
        },
        {
          "output_type": "stream",
          "name": "stderr",
          "text": [
            "[codecarbon INFO @ 20:12:07] Energy consumed for RAM : 0.016289 kWh. RAM Power : 31.30528450012207 W\n",
            "[codecarbon INFO @ 20:12:07] Energy consumed for all GPUs : 0.066158 kWh. Total GPU Power : 101.593 W\n",
            "[codecarbon INFO @ 20:12:07] Energy consumed for all CPUs : 0.022133 kWh. Total CPU Power : 42.5 W\n",
            "[codecarbon INFO @ 20:12:07] 0.104579 kWh of electricity used since the beginning.\n"
          ]
        },
        {
          "output_type": "stream",
          "name": "stdout",
          "text": [
            "16160/21900 [=====================>........] - ETA: 10:40 - accuracy: 0.9897 - loss: 0.1273 - lr: 0.0100"
          ]
        },
        {
          "output_type": "stream",
          "name": "stderr",
          "text": [
            "[codecarbon INFO @ 20:12:22] Energy consumed for RAM : 0.016419 kWh. RAM Power : 31.30528450012207 W\n",
            "[codecarbon INFO @ 20:12:22] Energy consumed for all GPUs : 0.066616 kWh. Total GPU Power : 110.024 W\n",
            "[codecarbon INFO @ 20:12:22] Energy consumed for all CPUs : 0.022310 kWh. Total CPU Power : 42.5 W\n",
            "[codecarbon INFO @ 20:12:22] 0.105345 kWh of electricity used since the beginning.\n"
          ]
        },
        {
          "output_type": "stream",
          "name": "stdout",
          "text": [
            "16295/21900 [=====================>........] - ETA: 10:25 - accuracy: 0.9897 - loss: 0.1271 - lr: 0.0100"
          ]
        },
        {
          "output_type": "stream",
          "name": "stderr",
          "text": [
            "[codecarbon INFO @ 20:12:37] Energy consumed for RAM : 0.016549 kWh. RAM Power : 31.30528450012207 W\n",
            "[codecarbon INFO @ 20:12:37] Energy consumed for all GPUs : 0.067133 kWh. Total GPU Power : 124.22500000000002 W\n",
            "[codecarbon INFO @ 20:12:37] Energy consumed for all CPUs : 0.022487 kWh. Total CPU Power : 42.5 W\n",
            "[codecarbon INFO @ 20:12:37] 0.106169 kWh of electricity used since the beginning.\n"
          ]
        },
        {
          "output_type": "stream",
          "name": "stdout",
          "text": [
            "16430/21900 [=====================>........] - ETA: 10:10 - accuracy: 0.9897 - loss: 0.1270 - lr: 0.0100"
          ]
        },
        {
          "output_type": "stream",
          "name": "stderr",
          "text": [
            "[codecarbon INFO @ 20:12:52] Energy consumed for RAM : 0.016680 kWh. RAM Power : 31.30528450012207 W\n",
            "[codecarbon INFO @ 20:12:52] Energy consumed for all GPUs : 0.067656 kWh. Total GPU Power : 125.55199999999999 W\n",
            "[codecarbon INFO @ 20:12:52] Energy consumed for all CPUs : 0.022664 kWh. Total CPU Power : 42.5 W\n",
            "[codecarbon INFO @ 20:12:52] 0.107000 kWh of electricity used since the beginning.\n"
          ]
        },
        {
          "output_type": "stream",
          "name": "stdout",
          "text": [
            "16565/21900 [=====================>........] - ETA: 9:55 - accuracy: 0.9897 - loss: 0.1269 - lr: 0.0100"
          ]
        },
        {
          "output_type": "stream",
          "name": "stderr",
          "text": [
            "[codecarbon INFO @ 20:13:07] Energy consumed for RAM : 0.016810 kWh. RAM Power : 31.30528450012207 W\n",
            "[codecarbon INFO @ 20:13:07] Energy consumed for all GPUs : 0.068203 kWh. Total GPU Power : 131.37600000000003 W\n",
            "[codecarbon INFO @ 20:13:07] Energy consumed for all CPUs : 0.022841 kWh. Total CPU Power : 42.5 W\n",
            "[codecarbon INFO @ 20:13:07] 0.107854 kWh of electricity used since the beginning.\n"
          ]
        },
        {
          "output_type": "stream",
          "name": "stdout",
          "text": [
            "16699/21900 [=====================>........] - ETA: 9:40 - accuracy: 0.9897 - loss: 0.1269 - lr: 0.0100"
          ]
        },
        {
          "output_type": "stream",
          "name": "stderr",
          "text": [
            "[codecarbon INFO @ 20:13:22] Energy consumed for RAM : 0.016940 kWh. RAM Power : 31.30528450012207 W\n",
            "[codecarbon INFO @ 20:13:22] Energy consumed for all GPUs : 0.068686 kWh. Total GPU Power : 116.002 W\n"
          ]
        },
        {
          "output_type": "stream",
          "name": "stdout",
          "text": [
            "\b\b\b\b\b\b\b\b\b\b\b\b\b\b\b\b\b\b\b\b\b\b\b\b\b\b\b\b\b\b\b\b\b\b\b\b\b\b\b\b\b\b\b\b\b\b\b\b\b\b\b\b\b\b\b\b\b\b\b\b\b\b\b\b\b\b\b\b\b\b\b\b\b\b\b\b\b\b\b\b\b\b\b\b\b\b\b\b\b\b\b\b\b\b\b\b\b\b\b\b\b\b\b\r16700/21900 [=====================>........] - ETA: 9:40 - accuracy: 0.9897 - loss: 0.1269 - lr: 0.0100"
          ]
        },
        {
          "output_type": "stream",
          "name": "stderr",
          "text": [
            "[codecarbon INFO @ 20:13:22] Energy consumed for all CPUs : 0.023018 kWh. Total CPU Power : 42.5 W\n",
            "[codecarbon INFO @ 20:13:22] 0.108644 kWh of electricity used since the beginning.\n"
          ]
        },
        {
          "output_type": "stream",
          "name": "stdout",
          "text": [
            "16834/21900 [======================>.......] - ETA: 9:25 - accuracy: 0.9897 - loss: 0.1268 - lr: 0.0100"
          ]
        },
        {
          "output_type": "stream",
          "name": "stderr",
          "text": [
            "[codecarbon INFO @ 20:13:37] Energy consumed for RAM : 0.017071 kWh. RAM Power : 31.30528450012207 W\n",
            "[codecarbon INFO @ 20:13:37] Energy consumed for all GPUs : 0.069128 kWh. Total GPU Power : 106.242 W\n",
            "[codecarbon INFO @ 20:13:37] Energy consumed for all CPUs : 0.023195 kWh. Total CPU Power : 42.5 W\n",
            "[codecarbon INFO @ 20:13:37] 0.109394 kWh of electricity used since the beginning.\n"
          ]
        },
        {
          "output_type": "stream",
          "name": "stdout",
          "text": [
            "16967/21900 [======================>.......] - ETA: 9:10 - accuracy: 0.9897 - loss: 0.1267 - lr: 0.0100"
          ]
        },
        {
          "output_type": "stream",
          "name": "stderr",
          "text": [
            "[codecarbon INFO @ 20:13:52] Energy consumed for RAM : 0.017201 kWh. RAM Power : 31.30528450012207 W\n",
            "[codecarbon INFO @ 20:13:52] Energy consumed for all GPUs : 0.069675 kWh. Total GPU Power : 131.513 W\n"
          ]
        },
        {
          "output_type": "stream",
          "name": "stdout",
          "text": [
            "\b\b\b\b\b\b\b\b\b\b\b\b\b\b\b\b\b\b\b\b\b\b\b\b\b\b\b\b\b\b\b\b\b\b\b\b\b\b\b\b\b\b\b\b\b\b\b\b\b\b\b\b\b\b\b\b\b\b\b\b\b\b\b\b\b\b\b\b\b\b\b\b\b\b\b\b\b\b\b\b\b\b\b\b\b\b\b\b\b\b\b\b\b\b\b\b\b\b\b\b\b\b\b\r16968/21900 [======================>.......] - ETA: 9:10 - accuracy: 0.9897 - loss: 0.1267 - lr: 0.0100"
          ]
        },
        {
          "output_type": "stream",
          "name": "stderr",
          "text": [
            "[codecarbon INFO @ 20:13:52] Energy consumed for all CPUs : 0.023372 kWh. Total CPU Power : 42.5 W\n",
            "[codecarbon INFO @ 20:13:52] 0.110249 kWh of electricity used since the beginning.\n"
          ]
        },
        {
          "output_type": "stream",
          "name": "stdout",
          "text": [
            "17100/21900 [======================>.......] - ETA: 8:55 - accuracy: 0.9898 - loss: 0.1266 - lr: 0.0100"
          ]
        },
        {
          "output_type": "stream",
          "name": "stderr",
          "text": [
            "[codecarbon INFO @ 20:14:07] Energy consumed for RAM : 0.017331 kWh. RAM Power : 31.30528450012207 W\n",
            "[codecarbon INFO @ 20:14:07] Energy consumed for all GPUs : 0.070284 kWh. Total GPU Power : 146.16000000000003 W\n",
            "[codecarbon INFO @ 20:14:07] Energy consumed for all CPUs : 0.023549 kWh. Total CPU Power : 42.5 W\n",
            "[codecarbon INFO @ 20:14:07] 0.111164 kWh of electricity used since the beginning.\n"
          ]
        },
        {
          "output_type": "stream",
          "name": "stdout",
          "text": [
            "17235/21900 [======================>.......] - ETA: 8:40 - accuracy: 0.9898 - loss: 0.1267 - lr: 0.0100"
          ]
        },
        {
          "output_type": "stream",
          "name": "stderr",
          "text": [
            "[codecarbon INFO @ 20:14:22] Energy consumed for RAM : 0.017462 kWh. RAM Power : 31.30528450012207 W\n",
            "[codecarbon INFO @ 20:14:22] Energy consumed for all GPUs : 0.071015 kWh. Total GPU Power : 175.72800000000004 W\n",
            "[codecarbon INFO @ 20:14:22] Energy consumed for all CPUs : 0.023726 kWh. Total CPU Power : 42.5 W\n",
            "[codecarbon INFO @ 20:14:22] 0.112203 kWh of electricity used since the beginning.\n"
          ]
        },
        {
          "output_type": "stream",
          "name": "stdout",
          "text": [
            "17370/21900 [======================>.......] - ETA: 8:25 - accuracy: 0.9897 - loss: 0.1269 - lr: 0.0100"
          ]
        },
        {
          "output_type": "stream",
          "name": "stderr",
          "text": [
            "[codecarbon INFO @ 20:14:37] Energy consumed for RAM : 0.017592 kWh. RAM Power : 31.30528450012207 W\n",
            "[codecarbon INFO @ 20:14:37] Energy consumed for all GPUs : 0.071489 kWh. Total GPU Power : 113.68 W\n",
            "[codecarbon INFO @ 20:14:37] Energy consumed for all CPUs : 0.023904 kWh. Total CPU Power : 42.5 W\n",
            "[codecarbon INFO @ 20:14:37] 0.112984 kWh of electricity used since the beginning.\n"
          ]
        },
        {
          "output_type": "stream",
          "name": "stdout",
          "text": [
            "17504/21900 [======================>.......] - ETA: 8:10 - accuracy: 0.9897 - loss: 0.1273 - lr: 0.0100"
          ]
        },
        {
          "output_type": "stream",
          "name": "stderr",
          "text": [
            "[codecarbon INFO @ 20:14:52] Energy consumed for RAM : 0.017722 kWh. RAM Power : 31.30528450012207 W\n"
          ]
        },
        {
          "output_type": "stream",
          "name": "stdout",
          "text": [
            "\b\b\b\b\b\b\b\b\b\b\b\b\b\b\b\b\b\b\b\b\b\b\b\b\b\b\b\b\b\b\b\b\b\b\b\b\b\b\b\b\b\b\b\b\b\b\b\b\b\b\b\b\b\b\b\b\b\b\b\b\b\b\b\b\b\b\b\b\b\b\b\b\b\b\b\b\b\b\b\b\b\b\b\b\b\b\b\b\b\b\b\b\b\b\b\b\b\b\b\b\b\b\b\r17505/21900 [======================>.......] - ETA: 8:10 - accuracy: 0.9897 - loss: 0.1273 - lr: 0.0100"
          ]
        },
        {
          "output_type": "stream",
          "name": "stderr",
          "text": [
            "[codecarbon INFO @ 20:14:52] Energy consumed for all GPUs : 0.072012 kWh. Total GPU Power : 125.55199999999999 W\n",
            "[codecarbon INFO @ 20:14:52] Energy consumed for all CPUs : 0.024081 kWh. Total CPU Power : 42.5 W\n",
            "[codecarbon INFO @ 20:14:52] 0.113815 kWh of electricity used since the beginning.\n"
          ]
        },
        {
          "output_type": "stream",
          "name": "stdout",
          "text": [
            "17640/21900 [=======================>......] - ETA: 7:55 - accuracy: 0.9897 - loss: 0.1274 - lr: 0.0100"
          ]
        },
        {
          "output_type": "stream",
          "name": "stderr",
          "text": [
            "[codecarbon INFO @ 20:15:07] Energy consumed for RAM : 0.017853 kWh. RAM Power : 31.30528450012207 W\n",
            "[codecarbon INFO @ 20:15:07] Energy consumed for all GPUs : 0.072538 kWh. Total GPU Power : 126.55 W\n",
            "[codecarbon INFO @ 20:15:07] Energy consumed for all CPUs : 0.024258 kWh. Total CPU Power : 42.5 W\n",
            "[codecarbon INFO @ 20:15:07] 0.114649 kWh of electricity used since the beginning.\n"
          ]
        },
        {
          "output_type": "stream",
          "name": "stdout",
          "text": [
            "17774/21900 [=======================>......] - ETA: 7:40 - accuracy: 0.9897 - loss: 0.1276 - lr: 0.0100"
          ]
        },
        {
          "output_type": "stream",
          "name": "stderr",
          "text": [
            "[codecarbon INFO @ 20:15:22] Energy consumed for RAM : 0.017983 kWh. RAM Power : 31.30528450012207 W\n",
            "[codecarbon INFO @ 20:15:22] Energy consumed for all GPUs : 0.073067 kWh. Total GPU Power : 127.14 W\n",
            "[codecarbon INFO @ 20:15:22] Energy consumed for all CPUs : 0.024435 kWh. Total CPU Power : 42.5 W\n",
            "[codecarbon INFO @ 20:15:22] 0.115485 kWh of electricity used since the beginning.\n"
          ]
        },
        {
          "output_type": "stream",
          "name": "stdout",
          "text": [
            "17909/21900 [=======================>......] - ETA: 7:25 - accuracy: 0.9897 - loss: 0.1276 - lr: 0.0100"
          ]
        },
        {
          "output_type": "stream",
          "name": "stderr",
          "text": [
            "[codecarbon INFO @ 20:15:37] Energy consumed for RAM : 0.018113 kWh. RAM Power : 31.30528450012207 W\n",
            "[codecarbon INFO @ 20:15:37] Energy consumed for all GPUs : 0.073619 kWh. Total GPU Power : 132.518 W\n",
            "[codecarbon INFO @ 20:15:37] Energy consumed for all CPUs : 0.024612 kWh. Total CPU Power : 42.5 W\n",
            "[codecarbon INFO @ 20:15:37] 0.116344 kWh of electricity used since the beginning.\n"
          ]
        },
        {
          "output_type": "stream",
          "name": "stdout",
          "text": [
            "18043/21900 [=======================>......] - ETA: 7:10 - accuracy: 0.9897 - loss: 0.1276 - lr: 0.0100"
          ]
        },
        {
          "output_type": "stream",
          "name": "stderr",
          "text": [
            "[codecarbon INFO @ 20:15:52] Energy consumed for RAM : 0.018243 kWh. RAM Power : 31.30528450012207 W\n",
            "[codecarbon INFO @ 20:15:52] Energy consumed for all GPUs : 0.074088 kWh. Total GPU Power : 112.61 W\n",
            "[codecarbon INFO @ 20:15:52] Energy consumed for all CPUs : 0.024789 kWh. Total CPU Power : 42.5 W\n",
            "[codecarbon INFO @ 20:15:52] 0.117120 kWh of electricity used since the beginning.\n"
          ]
        },
        {
          "output_type": "stream",
          "name": "stdout",
          "text": [
            "18177/21900 [=======================>......] - ETA: 6:55 - accuracy: 0.9897 - loss: 0.1277 - lr: 0.0100"
          ]
        },
        {
          "output_type": "stream",
          "name": "stderr",
          "text": [
            "[codecarbon INFO @ 20:16:07] Energy consumed for RAM : 0.018374 kWh. RAM Power : 31.30528450012207 W\n",
            "[codecarbon INFO @ 20:16:07] Energy consumed for all GPUs : 0.074521 kWh. Total GPU Power : 103.91700000000002 W\n",
            "[codecarbon INFO @ 20:16:07] Energy consumed for all CPUs : 0.024966 kWh. Total CPU Power : 42.5 W\n",
            "[codecarbon INFO @ 20:16:07] 0.117860 kWh of electricity used since the beginning.\n"
          ]
        },
        {
          "output_type": "stream",
          "name": "stdout",
          "text": [
            "18311/21900 [========================>.....] - ETA: 6:40 - accuracy: 0.9897 - loss: 0.1280 - lr: 0.0100"
          ]
        },
        {
          "output_type": "stream",
          "name": "stderr",
          "text": [
            "[codecarbon INFO @ 20:16:22] Energy consumed for RAM : 0.018504 kWh. RAM Power : 31.30528450012207 W\n",
            "[codecarbon INFO @ 20:16:22] Energy consumed for all GPUs : 0.074935 kWh. Total GPU Power : 99.544 W\n",
            "[codecarbon INFO @ 20:16:22] Energy consumed for all CPUs : 0.025143 kWh. Total CPU Power : 42.5 W\n",
            "[codecarbon INFO @ 20:16:22] 0.118582 kWh of electricity used since the beginning.\n"
          ]
        },
        {
          "output_type": "stream",
          "name": "stdout",
          "text": [
            "18446/21900 [========================>.....] - ETA: 6:25 - accuracy: 0.9896 - loss: 0.1282 - lr: 0.0100"
          ]
        },
        {
          "output_type": "stream",
          "name": "stderr",
          "text": [
            "[codecarbon INFO @ 20:16:37] Energy consumed for RAM : 0.018634 kWh. RAM Power : 31.30528450012207 W\n",
            "[codecarbon INFO @ 20:16:37] Energy consumed for all GPUs : 0.075680 kWh. Total GPU Power : 178.916 W\n",
            "[codecarbon INFO @ 20:16:37] Energy consumed for all CPUs : 0.025320 kWh. Total CPU Power : 42.5 W\n",
            "[codecarbon INFO @ 20:16:37] 0.119635 kWh of electricity used since the beginning.\n"
          ]
        },
        {
          "output_type": "stream",
          "name": "stdout",
          "text": [
            "18580/21900 [========================>.....] - ETA: 6:10 - accuracy: 0.9897 - loss: 0.1282 - lr: 0.0100"
          ]
        },
        {
          "output_type": "stream",
          "name": "stderr",
          "text": [
            "[codecarbon INFO @ 20:16:52] Energy consumed for RAM : 0.018765 kWh. RAM Power : 31.30528450012207 W\n",
            "[codecarbon INFO @ 20:16:52] Energy consumed for all GPUs : 0.076114 kWh. Total GPU Power : 104.18600000000002 W\n",
            "[codecarbon INFO @ 20:16:52] Energy consumed for all CPUs : 0.025497 kWh. Total CPU Power : 42.5 W\n",
            "[codecarbon INFO @ 20:16:52] 0.120376 kWh of electricity used since the beginning.\n"
          ]
        },
        {
          "output_type": "stream",
          "name": "stdout",
          "text": [
            "18714/21900 [========================>.....] - ETA: 5:55 - accuracy: 0.9897 - loss: 0.1282 - lr: 0.0100"
          ]
        },
        {
          "output_type": "stream",
          "name": "stderr",
          "text": [
            "[codecarbon INFO @ 20:17:07] Energy consumed for RAM : 0.018895 kWh. RAM Power : 31.30528450012207 W\n",
            "[codecarbon INFO @ 20:17:07] Energy consumed for all GPUs : 0.076663 kWh. Total GPU Power : 131.79 W\n",
            "[codecarbon INFO @ 20:17:07] Energy consumed for all CPUs : 0.025674 kWh. Total CPU Power : 42.5 W\n",
            "[codecarbon INFO @ 20:17:07] 0.121232 kWh of electricity used since the beginning.\n"
          ]
        },
        {
          "output_type": "stream",
          "name": "stdout",
          "text": [
            "18847/21900 [========================>.....] - ETA: 5:40 - accuracy: 0.9897 - loss: 0.1281 - lr: 0.0100"
          ]
        },
        {
          "output_type": "stream",
          "name": "stderr",
          "text": [
            "[codecarbon INFO @ 20:17:22] Energy consumed for RAM : 0.019025 kWh. RAM Power : 31.30528450012207 W\n",
            "[codecarbon INFO @ 20:17:22] Energy consumed for all GPUs : 0.077366 kWh. Total GPU Power : 169.03700000000003 W\n",
            "[codecarbon INFO @ 20:17:22] Energy consumed for all CPUs : 0.025851 kWh. Total CPU Power : 42.5 W\n",
            "[codecarbon INFO @ 20:17:22] 0.122243 kWh of electricity used since the beginning.\n"
          ]
        },
        {
          "output_type": "stream",
          "name": "stdout",
          "text": [
            "18980/21900 [=========================>....] - ETA: 5:25 - accuracy: 0.9897 - loss: 0.1280 - lr: 0.0100"
          ]
        },
        {
          "output_type": "stream",
          "name": "stderr",
          "text": [
            "[codecarbon INFO @ 20:17:37] Energy consumed for RAM : 0.019156 kWh. RAM Power : 31.30528450012207 W\n",
            "[codecarbon INFO @ 20:17:37] Energy consumed for all GPUs : 0.077862 kWh. Total GPU Power : 118.98500000000001 W\n",
            "[codecarbon INFO @ 20:17:37] Energy consumed for all CPUs : 0.026028 kWh. Total CPU Power : 42.5 W\n",
            "[codecarbon INFO @ 20:17:37] 0.123046 kWh of electricity used since the beginning.\n"
          ]
        },
        {
          "output_type": "stream",
          "name": "stdout",
          "text": [
            "19115/21900 [=========================>....] - ETA: 5:10 - accuracy: 0.9897 - loss: 0.1278 - lr: 0.0100"
          ]
        },
        {
          "output_type": "stream",
          "name": "stderr",
          "text": [
            "[codecarbon INFO @ 20:17:52] Energy consumed for RAM : 0.019286 kWh. RAM Power : 31.30528450012207 W\n",
            "[codecarbon INFO @ 20:17:52] Energy consumed for all GPUs : 0.078331 kWh. Total GPU Power : 112.61 W\n",
            "[codecarbon INFO @ 20:17:52] Energy consumed for all CPUs : 0.026205 kWh. Total CPU Power : 42.5 W\n",
            "[codecarbon INFO @ 20:17:52] 0.123822 kWh of electricity used since the beginning.\n"
          ]
        },
        {
          "output_type": "stream",
          "name": "stdout",
          "text": [
            "19249/21900 [=========================>....] - ETA: 4:55 - accuracy: 0.9897 - loss: 0.1278 - lr: 0.0100"
          ]
        },
        {
          "output_type": "stream",
          "name": "stderr",
          "text": [
            "[codecarbon INFO @ 20:18:07] Energy consumed for RAM : 0.019416 kWh. RAM Power : 31.30528450012207 W\n",
            "[codecarbon INFO @ 20:18:07] Energy consumed for all GPUs : 0.079004 kWh. Total GPU Power : 161.71 W\n",
            "[codecarbon INFO @ 20:18:07] Energy consumed for all CPUs : 0.026382 kWh. Total CPU Power : 42.5 W\n",
            "[codecarbon INFO @ 20:18:07] 0.124803 kWh of electricity used since the beginning.\n"
          ]
        },
        {
          "output_type": "stream",
          "name": "stdout",
          "text": [
            "19384/21900 [=========================>....] - ETA: 4:40 - accuracy: 0.9897 - loss: 0.1278 - lr: 0.0100"
          ]
        },
        {
          "output_type": "stream",
          "name": "stderr",
          "text": [
            "[codecarbon INFO @ 20:18:22] Energy consumed for RAM : 0.019547 kWh. RAM Power : 31.30528450012207 W\n",
            "[codecarbon INFO @ 20:18:22] Energy consumed for all GPUs : 0.079544 kWh. Total GPU Power : 129.734 W\n",
            "[codecarbon INFO @ 20:18:22] Energy consumed for all CPUs : 0.026559 kWh. Total CPU Power : 42.5 W\n",
            "[codecarbon INFO @ 20:18:22] 0.125650 kWh of electricity used since the beginning.\n"
          ]
        },
        {
          "output_type": "stream",
          "name": "stdout",
          "text": [
            "19519/21900 [=========================>....] - ETA: 4:25 - accuracy: 0.9897 - loss: 0.1278 - lr: 0.0100"
          ]
        },
        {
          "output_type": "stream",
          "name": "stderr",
          "text": [
            "[codecarbon INFO @ 20:18:37] Energy consumed for RAM : 0.019677 kWh. RAM Power : 31.30528450012207 W\n",
            "[codecarbon INFO @ 20:18:37] Energy consumed for all GPUs : 0.080047 kWh. Total GPU Power : 120.77300000000001 W\n",
            "[codecarbon INFO @ 20:18:37] Energy consumed for all CPUs : 0.026737 kWh. Total CPU Power : 42.5 W\n",
            "[codecarbon INFO @ 20:18:37] 0.126460 kWh of electricity used since the beginning.\n"
          ]
        },
        {
          "output_type": "stream",
          "name": "stdout",
          "text": [
            "19653/21900 [=========================>....] - ETA: 4:10 - accuracy: 0.9897 - loss: 0.1276 - lr: 0.0100"
          ]
        },
        {
          "output_type": "stream",
          "name": "stderr",
          "text": [
            "[codecarbon INFO @ 20:18:52] Energy consumed for RAM : 0.019807 kWh. RAM Power : 31.30528450012207 W\n",
            "[codecarbon INFO @ 20:18:52] Energy consumed for all GPUs : 0.080656 kWh. Total GPU Power : 146.31300000000002 W\n",
            "[codecarbon INFO @ 20:18:52] Energy consumed for all CPUs : 0.026914 kWh. Total CPU Power : 42.5 W\n",
            "[codecarbon INFO @ 20:18:52] 0.127377 kWh of electricity used since the beginning.\n"
          ]
        },
        {
          "output_type": "stream",
          "name": "stdout",
          "text": [
            "19788/21900 [==========================>...] - ETA: 3:55 - accuracy: 0.9897 - loss: 0.1274 - lr: 0.0100"
          ]
        },
        {
          "output_type": "stream",
          "name": "stderr",
          "text": [
            "[codecarbon INFO @ 20:19:07] Energy consumed for RAM : 0.019938 kWh. RAM Power : 31.30528450012207 W\n",
            "[codecarbon INFO @ 20:19:07] Energy consumed for all GPUs : 0.081264 kWh. Total GPU Power : 145.99 W\n"
          ]
        },
        {
          "output_type": "stream",
          "name": "stdout",
          "text": [
            "\b\b\b\b\b\b\b\b\b\b\b\b\b\b\b\b\b\b\b\b\b\b\b\b\b\b\b\b\b\b\b\b\b\b\b\b\b\b\b\b\b\b\b\b\b\b\b\b\b\b\b\b\b\b\b\b\b\b\b\b\b\b\b\b\b\b\b\b\b\b\b\b\b\b\b\b\b\b\b\b\b\b\b\b\b\b\b\b\b\b\b\b\b\b\b\b\b\b\b\b\b\b\b\r19789/21900 [==========================>...] - ETA: 3:55 - accuracy: 0.9897 - loss: 0.1274 - lr: 0.0100"
          ]
        },
        {
          "output_type": "stream",
          "name": "stderr",
          "text": [
            "[codecarbon INFO @ 20:19:07] Energy consumed for all CPUs : 0.027091 kWh. Total CPU Power : 42.5 W\n",
            "[codecarbon INFO @ 20:19:07] 0.128292 kWh of electricity used since the beginning.\n"
          ]
        },
        {
          "output_type": "stream",
          "name": "stdout",
          "text": [
            "19924/21900 [==========================>...] - ETA: 3:40 - accuracy: 0.9898 - loss: 0.1272 - lr: 0.0100"
          ]
        },
        {
          "output_type": "stream",
          "name": "stderr",
          "text": [
            "[codecarbon INFO @ 20:19:22] Energy consumed for RAM : 0.020068 kWh. RAM Power : 31.30528450012207 W\n",
            "[codecarbon INFO @ 20:19:22] Energy consumed for all GPUs : 0.081940 kWh. Total GPU Power : 162.40800000000002 W\n",
            "[codecarbon INFO @ 20:19:22] Energy consumed for all CPUs : 0.027268 kWh. Total CPU Power : 42.5 W\n",
            "[codecarbon INFO @ 20:19:22] 0.129276 kWh of electricity used since the beginning.\n"
          ]
        },
        {
          "output_type": "stream",
          "name": "stdout",
          "text": [
            "20059/21900 [==========================>...] - ETA: 3:25 - accuracy: 0.9898 - loss: 0.1270 - lr: 0.0100"
          ]
        },
        {
          "output_type": "stream",
          "name": "stderr",
          "text": [
            "[codecarbon INFO @ 20:19:37] Energy consumed for RAM : 0.020198 kWh. RAM Power : 31.30528450012207 W\n",
            "[codecarbon INFO @ 20:19:37] Energy consumed for all GPUs : 0.082617 kWh. Total GPU Power : 162.577 W\n",
            "[codecarbon INFO @ 20:19:37] Energy consumed for all CPUs : 0.027445 kWh. Total CPU Power : 42.5 W\n",
            "[codecarbon INFO @ 20:19:37] 0.130260 kWh of electricity used since the beginning.\n"
          ]
        },
        {
          "output_type": "stream",
          "name": "stdout",
          "text": [
            "20194/21900 [==========================>...] - ETA: 3:10 - accuracy: 0.9898 - loss: 0.1270 - lr: 0.0100"
          ]
        },
        {
          "output_type": "stream",
          "name": "stderr",
          "text": [
            "[codecarbon INFO @ 20:19:52] Energy consumed for RAM : 0.020328 kWh. RAM Power : 31.30528450012207 W\n",
            "[codecarbon INFO @ 20:19:52] Energy consumed for all GPUs : 0.083053 kWh. Total GPU Power : 104.784 W\n",
            "[codecarbon INFO @ 20:19:52] Energy consumed for all CPUs : 0.027622 kWh. Total CPU Power : 42.5 W\n",
            "[codecarbon INFO @ 20:19:52] 0.131003 kWh of electricity used since the beginning.\n"
          ]
        },
        {
          "output_type": "stream",
          "name": "stdout",
          "text": [
            "20330/21900 [==========================>...] - ETA: 2:55 - accuracy: 0.9898 - loss: 0.1271 - lr: 0.0100"
          ]
        },
        {
          "output_type": "stream",
          "name": "stderr",
          "text": [
            "[codecarbon INFO @ 20:20:07] Energy consumed for RAM : 0.020459 kWh. RAM Power : 31.30528450012207 W\n",
            "[codecarbon INFO @ 20:20:07] Energy consumed for all GPUs : 0.083768 kWh. Total GPU Power : 171.68100000000004 W\n",
            "[codecarbon INFO @ 20:20:07] Energy consumed for all CPUs : 0.027799 kWh. Total CPU Power : 42.5 W\n",
            "[codecarbon INFO @ 20:20:07] 0.132025 kWh of electricity used since the beginning.\n"
          ]
        },
        {
          "output_type": "stream",
          "name": "stdout",
          "text": [
            "20465/21900 [===========================>..] - ETA: 2:40 - accuracy: 0.9898 - loss: 0.1270 - lr: 0.0100"
          ]
        },
        {
          "output_type": "stream",
          "name": "stderr",
          "text": [
            "[codecarbon INFO @ 20:20:22] Energy consumed for RAM : 0.020589 kWh. RAM Power : 31.30528450012207 W\n",
            "[codecarbon INFO @ 20:20:22] Energy consumed for all GPUs : 0.084468 kWh. Total GPU Power : 168.354 W\n",
            "[codecarbon INFO @ 20:20:22] Energy consumed for all CPUs : 0.027976 kWh. Total CPU Power : 42.5 W\n",
            "[codecarbon INFO @ 20:20:22] 0.133033 kWh of electricity used since the beginning.\n"
          ]
        },
        {
          "output_type": "stream",
          "name": "stdout",
          "text": [
            "20600/21900 [===========================>..] - ETA: 2:25 - accuracy: 0.9898 - loss: 0.1269 - lr: 0.0100"
          ]
        },
        {
          "output_type": "stream",
          "name": "stderr",
          "text": [
            "[codecarbon INFO @ 20:20:37] Energy consumed for RAM : 0.020719 kWh. RAM Power : 31.30528450012207 W\n"
          ]
        },
        {
          "output_type": "stream",
          "name": "stdout",
          "text": [
            "\b\b\b\b\b\b\b\b\b\b\b\b\b\b\b\b\b\b\b\b\b\b\b\b\b\b\b\b\b\b\b\b\b\b\b\b\b\b\b\b\b\b\b\b\b\b\b\b\b\b\b\b\b\b\b\b\b\b\b\b\b\b\b\b\b\b\b\b\b\b\b\b\b\b\b\b\b\b\b\b\b\b\b\b\b\b\b\b\b\b\b\b\b\b\b\b\b\b\b\b\b\b\b\r20601/21900 [===========================>..] - ETA: 2:24 - accuracy: 0.9898 - loss: 0.1269 - lr: 0.0100"
          ]
        },
        {
          "output_type": "stream",
          "name": "stderr",
          "text": [
            "[codecarbon INFO @ 20:20:37] Energy consumed for all GPUs : 0.085010 kWh. Total GPU Power : 130.056 W\n",
            "[codecarbon INFO @ 20:20:37] Energy consumed for all CPUs : 0.028153 kWh. Total CPU Power : 42.5 W\n",
            "[codecarbon INFO @ 20:20:37] 0.133882 kWh of electricity used since the beginning.\n"
          ]
        },
        {
          "output_type": "stream",
          "name": "stdout",
          "text": [
            "20734/21900 [===========================>..] - ETA: 2:10 - accuracy: 0.9898 - loss: 0.1267 - lr: 0.0100"
          ]
        },
        {
          "output_type": "stream",
          "name": "stderr",
          "text": [
            "[codecarbon INFO @ 20:20:52] Energy consumed for RAM : 0.020850 kWh. RAM Power : 31.30528450012207 W\n",
            "[codecarbon INFO @ 20:20:52] Energy consumed for all GPUs : 0.085539 kWh. Total GPU Power : 127.14 W\n",
            "[codecarbon INFO @ 20:20:52] Energy consumed for all CPUs : 0.028330 kWh. Total CPU Power : 42.5 W\n",
            "[codecarbon INFO @ 20:20:52] 0.134719 kWh of electricity used since the beginning.\n"
          ]
        },
        {
          "output_type": "stream",
          "name": "stdout",
          "text": [
            "20869/21900 [===========================>..] - ETA: 1:55 - accuracy: 0.9898 - loss: 0.1266 - lr: 0.0100"
          ]
        },
        {
          "output_type": "stream",
          "name": "stderr",
          "text": [
            "[codecarbon INFO @ 20:21:07] Energy consumed for RAM : 0.020980 kWh. RAM Power : 31.30528450012207 W\n",
            "[codecarbon INFO @ 20:21:07] Energy consumed for all GPUs : 0.086066 kWh. Total GPU Power : 126.74000000000002 W\n",
            "[codecarbon INFO @ 20:21:07] Energy consumed for all CPUs : 0.028507 kWh. Total CPU Power : 42.5 W\n",
            "[codecarbon INFO @ 20:21:07] 0.135553 kWh of electricity used since the beginning.\n"
          ]
        },
        {
          "output_type": "stream",
          "name": "stdout",
          "text": [
            "21004/21900 [===========================>..] - ETA: 1:39 - accuracy: 0.9898 - loss: 0.1265 - lr: 0.0100"
          ]
        },
        {
          "output_type": "stream",
          "name": "stderr",
          "text": [
            "[codecarbon INFO @ 20:21:22] Energy consumed for RAM : 0.021110 kWh. RAM Power : 31.30528450012207 W\n",
            "[codecarbon INFO @ 20:21:22] Energy consumed for all GPUs : 0.086866 kWh. Total GPU Power : 192.244 W\n",
            "[codecarbon INFO @ 20:21:22] Energy consumed for all CPUs : 0.028684 kWh. Total CPU Power : 42.5 W\n",
            "[codecarbon INFO @ 20:21:22] 0.136661 kWh of electricity used since the beginning.\n"
          ]
        },
        {
          "output_type": "stream",
          "name": "stdout",
          "text": [
            "21139/21900 [===========================>..] - ETA: 1:24 - accuracy: 0.9899 - loss: 0.1263 - lr: 0.0100"
          ]
        },
        {
          "output_type": "stream",
          "name": "stderr",
          "text": [
            "[codecarbon INFO @ 20:21:37] Energy consumed for RAM : 0.021240 kWh. RAM Power : 31.30528450012207 W\n",
            "[codecarbon INFO @ 20:21:37] Energy consumed for all GPUs : 0.087370 kWh. Total GPU Power : 121.041 W\n",
            "[codecarbon INFO @ 20:21:37] Energy consumed for all CPUs : 0.028861 kWh. Total CPU Power : 42.5 W\n",
            "[codecarbon INFO @ 20:21:37] 0.137472 kWh of electricity used since the beginning.\n"
          ]
        },
        {
          "output_type": "stream",
          "name": "stdout",
          "text": [
            "21275/21900 [============================>.] - ETA: 1:09 - accuracy: 0.9899 - loss: 0.1261 - lr: 0.0100"
          ]
        },
        {
          "output_type": "stream",
          "name": "stderr",
          "text": [
            "[codecarbon INFO @ 20:21:52] Energy consumed for RAM : 0.021371 kWh. RAM Power : 31.30528450012207 W\n",
            "[codecarbon INFO @ 20:21:52] Energy consumed for all GPUs : 0.087907 kWh. Total GPU Power : 128.874 W\n",
            "[codecarbon INFO @ 20:21:52] Energy consumed for all CPUs : 0.029038 kWh. Total CPU Power : 42.5 W\n",
            "[codecarbon INFO @ 20:21:52] 0.138316 kWh of electricity used since the beginning.\n"
          ]
        },
        {
          "output_type": "stream",
          "name": "stdout",
          "text": [
            "21409/21900 [============================>.] - ETA: 54s - accuracy: 0.9899 - loss: 0.1260 - lr: 0.0100"
          ]
        },
        {
          "output_type": "stream",
          "name": "stderr",
          "text": [
            "[codecarbon INFO @ 20:22:07] Energy consumed for RAM : 0.021501 kWh. RAM Power : 31.30528450012207 W\n"
          ]
        },
        {
          "output_type": "stream",
          "name": "stdout",
          "text": [
            "\b\b\b\b\b\b\b\b\b\b\b\b\b\b\b\b\b\b\b\b\b\b\b\b\b\b\b\b\b\b\b\b\b\b\b\b\b\b\b\b\b\b\b\b\b\b\b\b\b\b\b\b\b\b\b\b\b\b\b\b\b\b\b\b\b\b\b\b\b\b\b\b\b\b\b\b\b\b\b\b\b\b\b\b\b\b\b\b\b\b\b\b\b\b\b\b\b\b\b\b\b\b\r21410/21900 [============================>.] - ETA: 54s - accuracy: 0.9899 - loss: 0.1260 - lr: 0.0100"
          ]
        },
        {
          "output_type": "stream",
          "name": "stderr",
          "text": [
            "[codecarbon INFO @ 20:22:07] Energy consumed for all GPUs : 0.088389 kWh. Total GPU Power : 115.801 W\n",
            "[codecarbon INFO @ 20:22:07] Energy consumed for all CPUs : 0.029216 kWh. Total CPU Power : 42.5 W\n",
            "[codecarbon INFO @ 20:22:07] 0.139106 kWh of electricity used since the beginning.\n"
          ]
        },
        {
          "output_type": "stream",
          "name": "stdout",
          "text": [
            "21542/21900 [============================>.] - ETA: 39s - accuracy: 0.9899 - loss: 0.1259 - lr: 0.0100"
          ]
        },
        {
          "output_type": "stream",
          "name": "stderr",
          "text": [
            "[codecarbon INFO @ 20:22:22] Energy consumed for RAM : 0.021631 kWh. RAM Power : 31.30528450012207 W\n",
            "[codecarbon INFO @ 20:22:22] Energy consumed for all GPUs : 0.088947 kWh. Total GPU Power : 134.107 W\n",
            "[codecarbon INFO @ 20:22:22] Energy consumed for all CPUs : 0.029392 kWh. Total CPU Power : 42.5 W\n",
            "[codecarbon INFO @ 20:22:22] 0.139970 kWh of electricity used since the beginning.\n"
          ]
        },
        {
          "output_type": "stream",
          "name": "stdout",
          "text": [
            "21677/21900 [============================>.] - ETA: 24s - accuracy: 0.9899 - loss: 0.1257 - lr: 0.0100"
          ]
        },
        {
          "output_type": "stream",
          "name": "stderr",
          "text": [
            "[codecarbon INFO @ 20:22:37] Energy consumed for RAM : 0.021762 kWh. RAM Power : 31.30528450012207 W\n",
            "[codecarbon INFO @ 20:22:37] Energy consumed for all GPUs : 0.089392 kWh. Total GPU Power : 106.833 W\n",
            "[codecarbon INFO @ 20:22:37] Energy consumed for all CPUs : 0.029570 kWh. Total CPU Power : 42.5 W\n",
            "[codecarbon INFO @ 20:22:37] 0.140723 kWh of electricity used since the beginning.\n"
          ]
        },
        {
          "output_type": "stream",
          "name": "stdout",
          "text": [
            "21814/21900 [============================>.] - ETA: 9s - accuracy: 0.9899 - loss: 0.1255 - lr: 0.0100"
          ]
        },
        {
          "output_type": "stream",
          "name": "stderr",
          "text": [
            "[codecarbon INFO @ 20:22:52] Energy consumed for RAM : 0.021892 kWh. RAM Power : 31.30528450012207 W\n",
            "[codecarbon INFO @ 20:22:52] Energy consumed for all GPUs : 0.090126 kWh. Total GPU Power : 176.32600000000002 W\n",
            "[codecarbon INFO @ 20:22:52] Energy consumed for all CPUs : 0.029747 kWh. Total CPU Power : 42.5 W\n",
            "[codecarbon INFO @ 20:22:52] 0.141764 kWh of electricity used since the beginning.\n"
          ]
        },
        {
          "output_type": "stream",
          "name": "stdout",
          "text": [
            "21900/21900 [==============================] - ETA: 0s - accuracy: 0.9899 - loss: 0.1254 - lr: 0.0100"
          ]
        },
        {
          "output_type": "stream",
          "name": "stderr",
          "text": [
            "[codecarbon INFO @ 20:23:07] Energy consumed for RAM : 0.022022 kWh. RAM Power : 31.30528450012207 W\n",
            "[codecarbon INFO @ 20:23:07] Energy consumed for all GPUs : 0.090369 kWh. Total GPU Power : 58.33 W\n",
            "[codecarbon INFO @ 20:23:07] Energy consumed for all CPUs : 0.029924 kWh. Total CPU Power : 42.5 W\n",
            "[codecarbon INFO @ 20:23:07] 0.142315 kWh of electricity used since the beginning.\n",
            "[codecarbon INFO @ 20:23:22] Energy consumed for RAM : 0.022153 kWh. RAM Power : 31.30528450012207 W\n",
            "[codecarbon INFO @ 20:23:22] Energy consumed for all GPUs : 0.090674 kWh. Total GPU Power : 73.398 W\n",
            "[codecarbon INFO @ 20:23:22] Energy consumed for all CPUs : 0.030101 kWh. Total CPU Power : 42.5 W\n",
            "[codecarbon INFO @ 20:23:22] 0.142928 kWh of electricity used since the beginning.\n",
            "[codecarbon INFO @ 20:23:37] Energy consumed for RAM : 0.022283 kWh. RAM Power : 31.30528450012207 W\n",
            "[codecarbon INFO @ 20:23:37] Energy consumed for all GPUs : 0.091028 kWh. Total GPU Power : 85.013 W\n",
            "[codecarbon INFO @ 20:23:37] Energy consumed for all CPUs : 0.030278 kWh. Total CPU Power : 42.5 W\n",
            "[codecarbon INFO @ 20:23:37] 0.143589 kWh of electricity used since the beginning.\n",
            "[codecarbon INFO @ 20:23:52] Energy consumed for RAM : 0.022413 kWh. RAM Power : 31.30528450012207 W\n",
            "[codecarbon INFO @ 20:23:52] Energy consumed for all GPUs : 0.091362 kWh. Total GPU Power : 80.096 W\n",
            "[codecarbon INFO @ 20:23:52] Energy consumed for all CPUs : 0.030455 kWh. Total CPU Power : 42.5 W\n",
            "[codecarbon INFO @ 20:23:52] 0.144230 kWh of electricity used since the beginning.\n",
            "[codecarbon INFO @ 20:24:07] Energy consumed for RAM : 0.022543 kWh. RAM Power : 31.30528450012207 W\n",
            "[codecarbon INFO @ 20:24:07] Energy consumed for all GPUs : 0.091690 kWh. Total GPU Power : 78.968 W\n",
            "[codecarbon INFO @ 20:24:07] Energy consumed for all CPUs : 0.030632 kWh. Total CPU Power : 42.5 W\n",
            "[codecarbon INFO @ 20:24:07] 0.144865 kWh of electricity used since the beginning.\n",
            "[codecarbon INFO @ 20:24:22] Energy consumed for RAM : 0.022673 kWh. RAM Power : 31.30528450012207 W\n",
            "[codecarbon INFO @ 20:24:22] Energy consumed for all GPUs : 0.092050 kWh. Total GPU Power : 86.561 W\n",
            "[codecarbon INFO @ 20:24:22] Energy consumed for all CPUs : 0.030809 kWh. Total CPU Power : 42.5 W\n",
            "[codecarbon INFO @ 20:24:22] 0.145533 kWh of electricity used since the beginning.\n",
            "[codecarbon INFO @ 20:24:37] Energy consumed for RAM : 0.022804 kWh. RAM Power : 31.30528450012207 W\n",
            "[codecarbon INFO @ 20:24:37] Energy consumed for all GPUs : 0.092377 kWh. Total GPU Power : 78.36900000000001 W\n",
            "[codecarbon INFO @ 20:24:37] Energy consumed for all CPUs : 0.030986 kWh. Total CPU Power : 42.5 W\n",
            "[codecarbon INFO @ 20:24:37] 0.146167 kWh of electricity used since the beginning.\n",
            "[codecarbon INFO @ 20:24:52] Energy consumed for RAM : 0.022934 kWh. RAM Power : 31.30528450012207 W\n",
            "[codecarbon INFO @ 20:24:52] Energy consumed for all GPUs : 0.092691 kWh. Total GPU Power : 75.45400000000001 W\n",
            "[codecarbon INFO @ 20:24:52] Energy consumed for all CPUs : 0.031163 kWh. Total CPU Power : 42.5 W\n",
            "[codecarbon INFO @ 20:24:52] 0.146788 kWh of electricity used since the beginning.\n",
            "[codecarbon INFO @ 20:25:07] Energy consumed for RAM : 0.023064 kWh. RAM Power : 31.30528450012207 W\n",
            "[codecarbon INFO @ 20:25:07] Energy consumed for all GPUs : 0.093012 kWh. Total GPU Power : 77.18 W\n",
            "[codecarbon INFO @ 20:25:07] Energy consumed for all CPUs : 0.031340 kWh. Total CPU Power : 42.5 W\n",
            "[codecarbon INFO @ 20:25:07] 0.147417 kWh of electricity used since the beginning.\n",
            "[codecarbon INFO @ 20:25:22] Energy consumed for RAM : 0.023195 kWh. RAM Power : 31.30528450012207 W\n",
            "[codecarbon INFO @ 20:25:22] Energy consumed for all GPUs : 0.093249 kWh. Total GPU Power : 56.932 W\n",
            "[codecarbon INFO @ 20:25:22] Energy consumed for all CPUs : 0.031517 kWh. Total CPU Power : 42.5 W\n",
            "[codecarbon INFO @ 20:25:22] 0.147961 kWh of electricity used since the beginning.\n",
            "[codecarbon INFO @ 20:25:37] Energy consumed for RAM : 0.023325 kWh. RAM Power : 31.30528450012207 W\n",
            "[codecarbon INFO @ 20:25:37] Energy consumed for all GPUs : 0.093486 kWh. Total GPU Power : 56.873000000000005 W\n",
            "[codecarbon INFO @ 20:25:37] Energy consumed for all CPUs : 0.031695 kWh. Total CPU Power : 42.5 W\n",
            "[codecarbon INFO @ 20:25:37] 0.148505 kWh of electricity used since the beginning.\n",
            "[codecarbon INFO @ 20:25:52] Energy consumed for RAM : 0.023455 kWh. RAM Power : 31.30528450012207 W\n",
            "[codecarbon INFO @ 20:25:53] Energy consumed for all GPUs : 0.093722 kWh. Total GPU Power : 56.604 W\n",
            "[codecarbon INFO @ 20:25:53] Energy consumed for all CPUs : 0.031872 kWh. Total CPU Power : 42.5 W\n",
            "[codecarbon INFO @ 20:25:53] 0.149050 kWh of electricity used since the beginning.\n",
            "[codecarbon INFO @ 20:26:07] Energy consumed for RAM : 0.023585 kWh. RAM Power : 31.30528450012207 W\n",
            "[codecarbon INFO @ 20:26:07] Energy consumed for all GPUs : 0.093957 kWh. Total GPU Power : 56.604 W\n",
            "[codecarbon INFO @ 20:26:08] Energy consumed for all CPUs : 0.032049 kWh. Total CPU Power : 42.5 W\n",
            "[codecarbon INFO @ 20:26:08] 0.149590 kWh of electricity used since the beginning.\n",
            "[codecarbon INFO @ 20:26:22] Energy consumed for RAM : 0.023715 kWh. RAM Power : 31.30528450012207 W\n",
            "[codecarbon INFO @ 20:26:22] Energy consumed for all GPUs : 0.094192 kWh. Total GPU Power : 56.604 W\n",
            "[codecarbon INFO @ 20:26:22] Energy consumed for all CPUs : 0.032226 kWh. Total CPU Power : 42.5 W\n",
            "[codecarbon INFO @ 20:26:22] 0.150133 kWh of electricity used since the beginning.\n",
            "[codecarbon INFO @ 20:26:37] Energy consumed for RAM : 0.023845 kWh. RAM Power : 31.30528450012207 W\n",
            "[codecarbon INFO @ 20:26:37] Energy consumed for all GPUs : 0.094428 kWh. Total GPU Power : 56.604 W\n",
            "[codecarbon INFO @ 20:26:37] Energy consumed for all CPUs : 0.032403 kWh. Total CPU Power : 42.5 W\n",
            "[codecarbon INFO @ 20:26:37] 0.150676 kWh of electricity used since the beginning.\n",
            "[codecarbon INFO @ 20:26:52] Energy consumed for RAM : 0.023976 kWh. RAM Power : 31.30528450012207 W\n",
            "[codecarbon INFO @ 20:26:52] Energy consumed for all GPUs : 0.094663 kWh. Total GPU Power : 56.604 W\n",
            "[codecarbon INFO @ 20:26:53] Energy consumed for all CPUs : 0.032580 kWh. Total CPU Power : 42.5 W\n",
            "[codecarbon INFO @ 20:26:53] 0.151219 kWh of electricity used since the beginning.\n",
            "WARNING:absl:Found untraced functions such as final_layer_norm_layer_call_fn, final_layer_norm_layer_call_and_return_conditional_losses, dropout_48_layer_call_fn, dropout_48_layer_call_and_return_conditional_losses, final_layer_norm_layer_call_fn while saving (showing 5 of 1040). These functions will not be directly callable after loading.\n",
            "[codecarbon INFO @ 20:27:07] Energy consumed for RAM : 0.024106 kWh. RAM Power : 31.30528450012207 W\n",
            "[codecarbon INFO @ 20:27:07] Energy consumed for all GPUs : 0.094899 kWh. Total GPU Power : 56.604 W\n",
            "[codecarbon INFO @ 20:27:07] Energy consumed for all CPUs : 0.032757 kWh. Total CPU Power : 42.5 W\n",
            "[codecarbon INFO @ 20:27:07] 0.151761 kWh of electricity used since the beginning.\n",
            "[codecarbon INFO @ 20:27:22] Energy consumed for RAM : 0.024236 kWh. RAM Power : 31.30528450012207 W\n",
            "[codecarbon INFO @ 20:27:22] Energy consumed for all GPUs : 0.095134 kWh. Total GPU Power : 56.604 W\n",
            "[codecarbon INFO @ 20:27:22] Energy consumed for all CPUs : 0.032934 kWh. Total CPU Power : 42.5 W\n",
            "[codecarbon INFO @ 20:27:22] 0.152304 kWh of electricity used since the beginning.\n"
          ]
        },
        {
          "output_type": "stream",
          "name": "stdout",
          "text": [
            "\b\b\b\b\b\b\b\b\b\b\b\b\b\b\b\b\b\b\b\b\b\b\b\b\b\b\b\b\b\b\b\b\b\b\b\b\b\b\b\b\b\b\b\b\b\b\b\b\b\b\b\b\b\b\b\b\b\b\b\b\b\b\b\b\b\b\b\b\b\b\b\b\b\b\b\b\b\b\b\b\b\b\b\b\b\b\b\b\b\b\b\b\b\b\b\b\b\b\b\b\b\r21900/21900 [==============================] - 2796s 124ms/step - accuracy: 0.9899 - loss: 0.1254 - lr: 0.0100 - val_accuracy: 0.9341 - val_loss: 0.9173\n"
          ]
        },
        {
          "output_type": "stream",
          "name": "stderr",
          "text": [
            "[codecarbon INFO @ 20:27:28] Energy consumed for RAM : 0.024287 kWh. RAM Power : 31.30528450012207 W\n",
            "[codecarbon INFO @ 20:27:28] Energy consumed for all GPUs : 0.095226 kWh. Total GPU Power : 56.604 W\n",
            "[codecarbon INFO @ 20:27:28] Energy consumed for all CPUs : 0.033003 kWh. Total CPU Power : 42.5 W\n",
            "[codecarbon INFO @ 20:27:28] 0.152515 kWh of electricity used since the beginning.\n"
          ]
        }
      ]
    },
    {
      "cell_type": "code",
      "source": [
        "print(tracker.final_emissions)"
      ],
      "metadata": {
        "colab": {
          "base_uri": "https://localhost:8080/"
        },
        "id": "b7YNNUqgYyYN",
        "outputId": "4119c856-23c3-4ddd-8f0f-94595a5c8e35"
      },
      "execution_count": 30,
      "outputs": [
        {
          "output_type": "stream",
          "name": "stdout",
          "text": [
            "0.0745180360434241\n"
          ]
        }
      ]
    },
    {
      "cell_type": "code",
      "metadata": {
        "id": "nYDPH77LDXO9"
      },
      "source": [
        "# model.save_pretrained(save_path)"
      ],
      "execution_count": 31,
      "outputs": []
    },
    {
      "cell_type": "code",
      "metadata": {
        "id": "h8k7XV9coBwZ"
      },
      "source": [],
      "execution_count": 31,
      "outputs": []
    },
    {
      "cell_type": "markdown",
      "metadata": {
        "id": "5cza3w1FVqwG"
      },
      "source": [
        "### Lets test our model!!"
      ]
    },
    {
      "cell_type": "code",
      "metadata": {
        "id": "p5eicTrHVqwH",
        "colab": {
          "base_uri": "https://localhost:8080/"
        },
        "outputId": "b7423cb3-79f6-444c-c8bb-77414b8bc0a8"
      },
      "source": [
        "context = \"\"\"We went on a trip to Europe. We had our breakfast at 7 am in the morning at \\\n",
        "the nearby coffee shop. Wore a dark blue over coat for our first visit to Louvre Museum \\\n",
        "to experience history and art.\"\"\"\n",
        "\n",
        "question = \"At what time did we had breakfast?\"\n",
        "print(context)\n",
        "print(question)"
      ],
      "execution_count": 32,
      "outputs": [
        {
          "output_type": "stream",
          "name": "stdout",
          "text": [
            "We went on a trip to Europe. We had our breakfast at 7 am in the morning at the nearby coffee shop. Wore a dark blue over coat for our first visit to Louvre Museum to experience history and art.\n",
            "At what time did we had breakfast?\n"
          ]
        }
      ]
    },
    {
      "cell_type": "code",
      "metadata": {
        "id": "2ihk1kxxDXO_",
        "colab": {
          "base_uri": "https://localhost:8080/"
        },
        "outputId": "35ffdc77-1e6e-4f53-ffe2-383eeb3dd9f9"
      },
      "source": [
        "input_text =  f\"answer_me: {question} context: {context} </s>\"\n",
        "encoded_query = tokenizer(input_text,\n",
        "                         return_tensors='tf', pad_to_max_length=True, truncation=True, max_length=encoder_max_len)\n",
        "input_ids = encoded_query[\"input_ids\"]\n",
        "attention_mask = encoded_query[\"attention_mask\"]\n",
        "generated_answer = model.generate(\n",
        "    input_ids,\n",
        "    attention_mask=attention_mask,\n",
        "    max_length=decoder_max_len,\n",
        "    top_p=0.95,\n",
        "    top_k=50,\n",
        "    repetition_penalty=2.0)\n",
        "decoded_answer = tokenizer.decode(generated_answer.numpy()[0])\n",
        "print(\"Answer: \", decoded_answer)"
      ],
      "execution_count": 33,
      "outputs": [
        {
          "output_type": "stream",
          "name": "stderr",
          "text": [
            "/usr/local/lib/python3.10/dist-packages/transformers/tokenization_utils_base.py:2377: FutureWarning: The `pad_to_max_length` argument is deprecated and will be removed in a future version, use `padding=True` or `padding='longest'` to pad to the longest sequence in the batch, or use `padding='max_length'` to pad to a max length. In this case, you can give a specific length with `max_length` (e.g. `max_length=45`) or leave max_length to None to pad to the maximal input size of the model (e.g. 512 for Bert).\n",
            "  warnings.warn(\n"
          ]
        },
        {
          "output_type": "stream",
          "name": "stdout",
          "text": [
            "Answer:  <pad> 7 am</s>\n"
          ]
        }
      ]
    }
  ]
}