{
  "cells": [
    {
      "attachments": {},
      "cell_type": "markdown",
      "metadata": {
        "id": "rZxP_tTKVqvB"
      },
      "source": [
        "<a href= \"https://www.snapthat.ai/\"> <img src=\"https://www.snapthat.ai/img/landing/images/logo_h1.png\" /></a>"
      ]
    },
    {
      "attachments": {},
      "cell_type": "markdown",
      "metadata": {
        "id": "sMcf-kxSVqvD"
      },
      "source": [
        "## Training T5 using Native Tensorflow 2"
      ]
    },
    {
      "attachments": {},
      "cell_type": "markdown",
      "metadata": {
        "id": "v5LqLyFyVqvF"
      },
      "source": [
        "The purpose of this notebook is to demonstrate training using tensorflow 2 and keras. This notebook includes tf Data pipelines for build any other NLP task in a text to text fashion. Anyone can adapt the data pipeline to thier own datasets. Uses the efficient [Datasets](https://github.com/huggingface/datasets) from 🤗 as source for training.\n",
        "#### Features\n",
        "- Train TF T5 on SQUAD questioning and answering\n",
        "- Train T5 using keras trainer fucntion\n",
        "- tf.Data pipeline\n",
        "- [Datasets from 🤗](https://github.com/huggingface/datasets) as source\n",
        "- Log metrics using tensorboard\n",
        "- Profile your experiment with the brand new tensorflow profiler !!"
      ]
    },
    {
      "attachments": {},
      "cell_type": "markdown",
      "metadata": {
        "id": "jZ7iM__QWL96"
      },
      "source": [
        "### Installation"
      ]
    },
    {
      "cell_type": "code",
      "execution_count": null,
      "metadata": {
        "colab": {
          "base_uri": "https://localhost:8080/"
        },
        "id": "dEutWnhiWRAq",
        "outputId": "32dc58c5-4762-4e9d-a399-b572ec4eaa50",
        "scrolled": true
      },
      "outputs": [
        {
          "name": "stdout",
          "output_type": "stream",
          "text": [
            "Looking in indexes: https://pypi.org/simple, https://us-python.pkg.dev/colab-wheels/public/simple/\n",
            "Collecting transformers==3.3.1\n",
            "  Using cached transformers-3.3.1-py3-none-any.whl (1.1 MB)\n",
            "Requirement already satisfied: numpy in /usr/local/lib/python3.10/dist-packages (from transformers==3.3.1) (1.22.4)\n",
            "Collecting tokenizers==0.8.1.rc2 (from transformers==3.3.1)\n",
            "  Using cached tokenizers-0.8.1rc2.tar.gz (97 kB)\n",
            "  Installing build dependencies ... \u001b[?25l\u001b[?25hdone\n",
            "  Getting requirements to build wheel ... \u001b[?25l\u001b[?25hdone\n",
            "  Preparing metadata (pyproject.toml) ... \u001b[?25l\u001b[?25hdone\n",
            "Requirement already satisfied: packaging in /usr/local/lib/python3.10/dist-packages (from transformers==3.3.1) (23.1)\n",
            "Requirement already satisfied: filelock in /usr/local/lib/python3.10/dist-packages (from transformers==3.3.1) (3.12.0)\n",
            "Requirement already satisfied: requests in /usr/local/lib/python3.10/dist-packages (from transformers==3.3.1) (2.27.1)\n",
            "Requirement already satisfied: tqdm>=4.27 in /usr/local/lib/python3.10/dist-packages (from transformers==3.3.1) (4.65.0)\n",
            "Requirement already satisfied: regex!=2019.12.17 in /usr/local/lib/python3.10/dist-packages (from transformers==3.3.1) (2022.10.31)\n",
            "Collecting sentencepiece!=0.1.92 (from transformers==3.3.1)\n",
            "  Using cached sentencepiece-0.1.99-cp310-cp310-manylinux_2_17_x86_64.manylinux2014_x86_64.whl (1.3 MB)\n",
            "Collecting sacremoses (from transformers==3.3.1)\n",
            "  Using cached sacremoses-0.0.53-py3-none-any.whl\n",
            "Requirement already satisfied: urllib3<1.27,>=1.21.1 in /usr/local/lib/python3.10/dist-packages (from requests->transformers==3.3.1) (1.26.15)\n",
            "Requirement already satisfied: certifi>=2017.4.17 in /usr/local/lib/python3.10/dist-packages (from requests->transformers==3.3.1) (2022.12.7)\n",
            "Requirement already satisfied: charset-normalizer~=2.0.0 in /usr/local/lib/python3.10/dist-packages (from requests->transformers==3.3.1) (2.0.12)\n",
            "Requirement already satisfied: idna<4,>=2.5 in /usr/local/lib/python3.10/dist-packages (from requests->transformers==3.3.1) (3.4)\n",
            "Requirement already satisfied: six in /usr/local/lib/python3.10/dist-packages (from sacremoses->transformers==3.3.1) (1.16.0)\n",
            "Requirement already satisfied: click in /usr/local/lib/python3.10/dist-packages (from sacremoses->transformers==3.3.1) (8.1.3)\n",
            "Requirement already satisfied: joblib in /usr/local/lib/python3.10/dist-packages (from sacremoses->transformers==3.3.1) (1.2.0)\n",
            "Building wheels for collected packages: tokenizers\n",
            "  \u001b[1;31merror\u001b[0m: \u001b[1msubprocess-exited-with-error\u001b[0m\n",
            "  \n",
            "  \u001b[31m×\u001b[0m \u001b[32mBuilding wheel for tokenizers \u001b[0m\u001b[1;32m(\u001b[0m\u001b[32mpyproject.toml\u001b[0m\u001b[1;32m)\u001b[0m did not run successfully.\n",
            "  \u001b[31m│\u001b[0m exit code: \u001b[1;36m1\u001b[0m\n",
            "  \u001b[31m╰─>\u001b[0m See above for output.\n",
            "  \n",
            "  \u001b[1;35mnote\u001b[0m: This error originates from a subprocess, and is likely not a problem with pip.\n",
            "  Building wheel for tokenizers (pyproject.toml) ... \u001b[?25l\u001b[?25herror\n",
            "\u001b[31m  ERROR: Failed building wheel for tokenizers\u001b[0m\u001b[31m\n",
            "\u001b[0mFailed to build tokenizers\n",
            "\u001b[31mERROR: Could not build wheels for tokenizers, which is required to install pyproject.toml-based projects\u001b[0m\u001b[31m\n",
            "\u001b[0mLooking in indexes: https://pypi.org/simple, https://us-python.pkg.dev/colab-wheels/public/simple/\n",
            "Requirement already satisfied: datasets==1.0.2 in /usr/local/lib/python3.10/dist-packages (1.0.2)\n",
            "Requirement already satisfied: numpy>=1.17 in /usr/local/lib/python3.10/dist-packages (from datasets==1.0.2) (1.22.4)\n",
            "Requirement already satisfied: pyarrow>=0.17.1 in /usr/local/lib/python3.10/dist-packages (from datasets==1.0.2) (9.0.0)\n",
            "Requirement already satisfied: dill in /usr/local/lib/python3.10/dist-packages (from datasets==1.0.2) (0.3.5.1)\n",
            "Requirement already satisfied: pandas in /usr/local/lib/python3.10/dist-packages (from datasets==1.0.2) (1.5.3)\n",
            "Requirement already satisfied: requests>=2.19.0 in /usr/local/lib/python3.10/dist-packages (from datasets==1.0.2) (2.27.1)\n",
            "Requirement already satisfied: tqdm>=4.27 in /usr/local/lib/python3.10/dist-packages (from datasets==1.0.2) (4.65.0)\n",
            "Requirement already satisfied: filelock in /usr/local/lib/python3.10/dist-packages (from datasets==1.0.2) (3.12.0)\n",
            "Requirement already satisfied: xxhash in /usr/local/lib/python3.10/dist-packages (from datasets==1.0.2) (3.2.0)\n",
            "Requirement already satisfied: urllib3<1.27,>=1.21.1 in /usr/local/lib/python3.10/dist-packages (from requests>=2.19.0->datasets==1.0.2) (1.26.15)\n",
            "Requirement already satisfied: certifi>=2017.4.17 in /usr/local/lib/python3.10/dist-packages (from requests>=2.19.0->datasets==1.0.2) (2022.12.7)\n",
            "Requirement already satisfied: charset-normalizer~=2.0.0 in /usr/local/lib/python3.10/dist-packages (from requests>=2.19.0->datasets==1.0.2) (2.0.12)\n",
            "Requirement already satisfied: idna<4,>=2.5 in /usr/local/lib/python3.10/dist-packages (from requests>=2.19.0->datasets==1.0.2) (3.4)\n",
            "Requirement already satisfied: python-dateutil>=2.8.1 in /usr/local/lib/python3.10/dist-packages (from pandas->datasets==1.0.2) (2.8.2)\n",
            "Requirement already satisfied: pytz>=2020.1 in /usr/local/lib/python3.10/dist-packages (from pandas->datasets==1.0.2) (2022.7.1)\n",
            "Requirement already satisfied: six>=1.5 in /usr/local/lib/python3.10/dist-packages (from python-dateutil>=2.8.1->pandas->datasets==1.0.2) (1.16.0)\n"
          ]
        }
      ],
      "source": [
        "from IPython.display import clear_output\n",
        "\n",
        "!pip install transformers==3.3.1\n",
        "# !pip install transformers\n",
        "!pip install datasets==1.0.2\n",
        "\n",
        "# clear_output()"
      ]
    },
    {
      "cell_type": "code",
      "execution_count": null,
      "metadata": {
        "id": "6aWoa3AtDXN0"
      },
      "outputs": [],
      "source": [
        "from datasets import load_dataset\n",
        "import tensorflow as tf\n",
        "import numpy as np\n",
        "import matplotlib.pyplot as plt\n",
        "import tensorflow_datasets as tfds\n",
        "import transformers\n",
        "import datasets\n",
        "from transformers import AutoTokenizer, TFT5ForConditionalGeneration\n",
        "import datetime\n",
        "import os\n",
        "%load_ext tensorboard"
      ]
    },
    {
      "cell_type": "code",
      "execution_count": null,
      "metadata": {
        "colab": {
          "base_uri": "https://localhost:8080/"
        },
        "id": "OQ5CoTk-DXN6",
        "outputId": "10122a3d-741f-4a54-85a0-40c026c9a3f5"
      },
      "outputs": [
        {
          "name": "stdout",
          "output_type": "stream",
          "text": [
            "Tensorflow:  2.12.0\n",
            "Transformers:  4.30.2\n",
            "Datasets:  1.0.2\n"
          ]
        }
      ],
      "source": [
        "tf_version = tf.__version__\n",
        "print(\"Tensorflow: \", tf_version)\n",
        "print(\"Transformers: \", transformers.__version__)\n",
        "print(\"Datasets: \", datasets.__version__)\n",
        "\n",
        "tf_version_split = tf_version.split('.')\n",
        "assert int(tf_version_split[0])==2 and int(tf_version_split[-2])>=3, f\"Tensorflow version should be '2.3+,x', given {tf_version}\"\n"
      ]
    },
    {
      "cell_type": "code",
      "execution_count": null,
      "metadata": {
        "colab": {
          "base_uri": "https://localhost:8080/"
        },
        "id": "OyHbWsh9W6-4",
        "outputId": "2e771b10-4e51-41cc-ba6c-1c1ddbdc4f40"
      },
      "outputs": [
        {
          "name": "stdout",
          "output_type": "stream",
          "text": [
            "mkdir: cannot create directory ‘data’: File exists\n",
            "total 20\n",
            "drwxr-xr-x 1 root root 4096 Jun 22 02:08 .\n",
            "drwxr-xr-x 1 root root 4096 Jun 22 02:05 ..\n",
            "drwxr-xr-x 4 root root 4096 Jun 20 13:38 .config\n",
            "drwxr-xr-x 3 root root 4096 Jun 22 02:21 data\n",
            "drwxr-xr-x 1 root root 4096 Jun 20 13:39 sample_data\n"
          ]
        }
      ],
      "source": [
        "!mkdir data\n",
        "!ls -la"
      ]
    },
    {
      "cell_type": "code",
      "execution_count": null,
      "metadata": {
        "id": "KRMGSskHDXOA"
      },
      "outputs": [],
      "source": [
        "data_dir = \"./data\"\n",
        "log_dir = f\"{data_dir}/experiments/t5/logs\"\n",
        "save_path = f\"{data_dir}/experiments/t5/models\"\n",
        "cache_path_train = f\"{data_dir}/cache/t5.train\"\n",
        "cache_path_test = f\"{data_dir}/cache/t5.test\""
      ]
    },
    {
      "attachments": {},
      "cell_type": "markdown",
      "metadata": {
        "id": "cKW_eO4qVqvV"
      },
      "source": [
        "### Defining the Model"
      ]
    },
    {
      "attachments": {},
      "cell_type": "markdown",
      "metadata": {},
      "source": [
        "To add a learning rate decay in the optimizer, you can modify your code as follows:\n",
        "\n",
        "```python\n",
        "import tensorflow as tf\n",
        "\n",
        "class SnapthatT5(TFT5ForConditionalGeneration):\n",
        "    def __init__(self, *args, log_dir=None, cache_dir=None, initial_lr=0.01, decay_rate=0.1, **kwargs):\n",
        "        super().__init__(*args, **kwargs)\n",
        "        self.loss_tracker = tf.keras.metrics.Mean(name='loss')\n",
        "        self.initial_lr = initial_lr\n",
        "        self.decay_rate = decay_rate\n",
        "        self.optimizer = tf.keras.optimizers.Adam(learning_rate=self.initial_lr)\n",
        "    \n",
        "    def get_current_lr(self):\n",
        "        step = self.optimizer.iterations\n",
        "        return self.initial_lr * tf.math.pow(self.decay_rate, step)\n",
        "\n",
        "    @tf.function\n",
        "    def train_step(self, data):\n",
        "        x = data\n",
        "        y = x[\"labels\"]\n",
        "        y = tf.reshape(y, [-1, 1])\n",
        "        \n",
        "        with tf.GradientTape() as tape:\n",
        "            outputs = self(x, training=True)\n",
        "            loss = outputs[0]\n",
        "            logits = outputs[1]\n",
        "            loss = tf.reduce_mean(loss)\n",
        "            \n",
        "            grads = tape.gradient(loss, self.trainable_variables)\n",
        "            \n",
        "        self.optimizer.apply_gradients(zip(grads, self.trainable_variables))\n",
        "        lr = self.get_current_lr()\n",
        "        \n",
        "        self.loss_tracker.update_state(loss)\n",
        "        self.compiled_metrics.update_state(y, logits)\n",
        "        metrics = {m.name: m.result() for m in self.metrics}\n",
        "        metrics.update({'lr': lr})\n",
        "        \n",
        "        return metrics\n",
        "\n",
        "    def test_step(self, data):\n",
        "        x = data\n",
        "        y = x[\"labels\"]\n",
        "        y = tf.reshape(y, [-1, 1])\n",
        "        output = self(x, training=False)\n",
        "        loss = output[0]\n",
        "        loss = tf.reduce_mean(loss)\n",
        "        logits = output[1]\n",
        "        \n",
        "        self.loss_tracker.update_state(loss)\n",
        "        self.compiled_metrics.update_state(y, logits)\n",
        "        return {m.name: m.result() for m in self.metrics}\n",
        "```\n",
        "\n",
        "In this modified code:\n",
        "\n",
        "1. The `initial_lr` and `decay_rate` arguments are added to the `__init__` method. These parameters allow you to specify the initial learning rate and the decay rate for the optimizer.\n",
        "2. A new method `get_current_lr` is defined to calculate the current learning rate based on the number of optimizer iterations. It uses the formula `initial_lr * decay_rate^step`, where `step` is the number of iterations.\n",
        "3. In the `train_step` method, `self.optimizer.apply_gradients` is still used to update the model's trainable variables. The current learning rate is obtained by calling `self.get_current_lr()`.\n",
        "4. The `lr` value is added to the `metrics` dictionary for tracking purposes.\n",
        "\n",
        "Make sure to adjust the `initial_lr` and `decay_rate` values according to your desired learning rate decay strategy."
      ]
    },
    {
      "cell_type": "code",
      "execution_count": null,
      "metadata": {
        "id": "2xcGqd9qDXOF"
      },
      "outputs": [],
      "source": [
        "class SnapthatT5(TFT5ForConditionalGeneration):\n",
        "    def __init__(self, *args, log_dir=None, cache_dir= None, **kwargs):\n",
        "        super().__init__(*args, **kwargs)\n",
        "        self.loss_tracker= tf.keras.metrics.Mean(name='loss')\n",
        "\n",
        "    @tf.function\n",
        "    def train_step(self, data):\n",
        "        x = data\n",
        "        y = x[\"labels\"]\n",
        "        y = tf.reshape(y, [-1, 1])\n",
        "        with tf.GradientTape() as tape:\n",
        "            outputs = self(x, training=True)\n",
        "            loss = outputs[0]\n",
        "            logits = outputs[1]\n",
        "            loss = tf.reduce_mean(loss)\n",
        "\n",
        "            grads = tape.gradient(loss, self.trainable_variables)\n",
        "\n",
        "        self.optimizer.apply_gradients(zip(grads, self.trainable_variables))\n",
        "        # lr = self.optimizer._decayed_lr(tf.float32)\n",
        "        lr = 0.01\n",
        "\n",
        "        self.loss_tracker.update_state(loss)\n",
        "        self.compiled_metrics.update_state(y, logits)\n",
        "        metrics = {m.name: m.result() for m in self.metrics}\n",
        "        metrics.update({'lr': lr})\n",
        "\n",
        "        return metrics\n",
        "\n",
        "    def test_step(self, data):\n",
        "        x = data\n",
        "        y = x[\"labels\"]\n",
        "        y = tf.reshape(y, [-1, 1])\n",
        "        output = self(x, training=False)\n",
        "        loss = output[0]\n",
        "        loss = tf.reduce_mean(loss)\n",
        "        logits = output[1]\n",
        "\n",
        "        self.loss_tracker.update_state(loss)\n",
        "        self.compiled_metrics.update_state(y, logits)\n",
        "        return {m.name: m.result() for m in self.metrics}\n"
      ]
    },
    {
      "attachments": {},
      "cell_type": "markdown",
      "metadata": {
        "id": "CgsSdpHxVqvY"
      },
      "source": [
        "### The Tokenizer"
      ]
    },
    {
      "cell_type": "code",
      "execution_count": null,
      "metadata": {
        "colab": {
          "base_uri": "https://localhost:8080/"
        },
        "id": "VvOrIgzODXOD",
        "outputId": "e78c9926-37a9-4c0f-f08c-282d519f58d1"
      },
      "outputs": [
        {
          "name": "stderr",
          "output_type": "stream",
          "text": [
            "/usr/local/lib/python3.10/dist-packages/transformers/models/t5/tokenization_t5_fast.py:155: FutureWarning: This tokenizer was incorrectly instantiated with a model max length of 512 which will be corrected in Transformers v5.\n",
            "For now, this behavior is kept to avoid breaking backwards compatibility when padding/encoding with `truncation is True`.\n",
            "- Be aware that you SHOULD NOT rely on t5-base automatically truncating your input to 512 when padding/encoding.\n",
            "- If you want to encode/pad to sequences longer than 512 you can either instantiate this tokenizer with `model_max_length` or pass `max_length` when encoding/padding.\n",
            "- To avoid this warning, please instantiate this tokenizer with `model_max_length` set to your preferred value.\n",
            "  warnings.warn(\n"
          ]
        }
      ],
      "source": [
        "tokenizer = AutoTokenizer.from_pretrained(\"t5-base\")"
      ]
    },
    {
      "attachments": {},
      "cell_type": "markdown",
      "metadata": {
        "id": "1EgTphQODXOH"
      },
      "source": [
        "### Preparing the Data"
      ]
    },
    {
      "cell_type": "code",
      "execution_count": null,
      "metadata": {
        "colab": {
          "base_uri": "https://localhost:8080/"
        },
        "id": "KX1rsWgZDXOK",
        "outputId": "3f2cb6f5-0536-4855-f4ef-7966b8e3ffaf",
        "scrolled": true
      },
      "outputs": [
        {
          "name": "stderr",
          "output_type": "stream",
          "text": [
            "Reusing dataset squad (/root/.cache/huggingface/datasets/squad/plain_text/1.0.0/1244d044b266a5e4dbd4174d23cb995eead372fbca31a03edc3f8a132787af41)\n",
            "Reusing dataset squad (/root/.cache/huggingface/datasets/squad/plain_text/1.0.0/1244d044b266a5e4dbd4174d23cb995eead372fbca31a03edc3f8a132787af41)\n"
          ]
        },
        {
          "data": {
            "text/plain": [
              "{'id': Value(dtype='string', id=None),\n",
              " 'title': Value(dtype='string', id=None),\n",
              " 'context': Value(dtype='string', id=None),\n",
              " 'question': Value(dtype='string', id=None),\n",
              " 'answers': Sequence(feature={'text': Value(dtype='string', id=None), 'answer_start': Value(dtype='int32', id=None)}, length=-1, id=None)}"
            ]
          },
          "execution_count": 26,
          "metadata": {},
          "output_type": "execute_result"
        }
      ],
      "source": [
        "train_dataset = load_dataset('squad', split='train')\n",
        "valid_dataset = load_dataset('squad', split='validation')\n",
        "\n",
        "train_dataset.features"
      ]
    },
    {
      "cell_type": "code",
      "execution_count": null,
      "metadata": {
        "colab": {
          "base_uri": "https://localhost:8080/"
        },
        "id": "y7EK-tgHDXOM",
        "outputId": "63f36cb4-7046-40fd-87ff-f96885bedd39"
      },
      "outputs": [
        {
          "name": "stdout",
          "output_type": "stream",
          "text": [
            "Example data from the dataset: \n",
            " {'answers': {'answer_start': [515], 'text': ['Saint Bernadette Soubirous']}, 'context': 'Architecturally, the school has a Catholic character. Atop the Main Building\\'s gold dome is a golden statue of the Virgin Mary. Immediately in front of the Main Building and facing it, is a copper statue of Christ with arms upraised with the legend \"Venite Ad Me Omnes\". Next to the Main Building is the Basilica of the Sacred Heart. Immediately behind the basilica is the Grotto, a Marian place of prayer and reflection. It is a replica of the grotto at Lourdes, France where the Virgin Mary reputedly appeared to Saint Bernadette Soubirous in 1858. At the end of the main drive (and in a direct line that connects through 3 statues and the Gold Dome), is a simple, modern stone statue of Mary.', 'id': '5733be284776f41900661182', 'question': 'To whom did the Virgin Mary allegedly appear in 1858 in Lourdes France?', 'title': 'University_of_Notre_Dame'}\n"
          ]
        }
      ],
      "source": [
        "data = next(iter(train_dataset))\n",
        "print(\"Example data from the dataset: \\n\", data)"
      ]
    },
    {
      "attachments": {},
      "cell_type": "markdown",
      "metadata": {
        "id": "37XBj09AVqvi"
      },
      "source": [
        "### Training Parameters"
      ]
    },
    {
      "cell_type": "code",
      "execution_count": null,
      "metadata": {
        "colab": {
          "base_uri": "https://localhost:8080/"
        },
        "id": "SIZFbP4IDXOO",
        "outputId": "db823d16-3b24-40e2-a6e6-6c6c19716597"
      },
      "outputs": [
        {
          "name": "stdout",
          "output_type": "stream",
          "text": [
            "Total Steps:  21900\n",
            "Total Validation Steps:  2643\n"
          ]
        }
      ],
      "source": [
        "warmup_steps = 1e4\n",
        "batch_size = 4\n",
        "encoder_max_len = 250\n",
        "decoder_max_len = 54\n",
        "buffer_size = 1000\n",
        "ntrain = len(train_dataset)\n",
        "nvalid = len(valid_dataset)\n",
        "steps = int(np.ceil(ntrain/batch_size))\n",
        "valid_steps = int(np.ceil(nvalid/batch_size))\n",
        "print(\"Total Steps: \", steps)\n",
        "print(\"Total Validation Steps: \", valid_steps)"
      ]
    },
    {
      "attachments": {},
      "cell_type": "markdown",
      "metadata": {
        "id": "XCoHLlLWVqvk"
      },
      "source": [
        "### Defining the data pipeline"
      ]
    },
    {
      "cell_type": "code",
      "execution_count": null,
      "metadata": {
        "id": "NdhcP171DXOY"
      },
      "outputs": [],
      "source": [
        "def encode(example,\n",
        "           encoder_max_len=encoder_max_len, decoder_max_len=decoder_max_len):\n",
        "\n",
        "    context = example['context']\n",
        "    question = example['question']\n",
        "    answer = example['answers']['text']\n",
        "\n",
        "    question_plus = f\"answer_me: {str(question)}\"\n",
        "    question_plus += f\" context: {str(context)} </s>\"\n",
        "\n",
        "    answer_plus = ', '.join([i for i in list(answer)])\n",
        "    answer_plus = f\"{answer_plus} </s>\"\n",
        "\n",
        "    encoder_inputs = tokenizer(question_plus, truncation=True,\n",
        "                               return_tensors='tf', max_length=encoder_max_len,\n",
        "                              pad_to_max_length=True)\n",
        "\n",
        "    decoder_inputs = tokenizer(answer_plus, truncation=True,\n",
        "                               return_tensors='tf', max_length=decoder_max_len,\n",
        "                              pad_to_max_length=True)\n",
        "\n",
        "    input_ids = encoder_inputs['input_ids'][0]\n",
        "    input_attention = encoder_inputs['attention_mask'][0]\n",
        "    target_ids = decoder_inputs['input_ids'][0]\n",
        "    target_attention = decoder_inputs['attention_mask'][0]\n",
        "\n",
        "    outputs = {'input_ids':input_ids, 'attention_mask': input_attention,\n",
        "               'labels':target_ids, 'decoder_attention_mask':target_attention}\n",
        "    return outputs\n",
        "\n"
      ]
    },
    {
      "cell_type": "code",
      "execution_count": null,
      "metadata": {
        "id": "HXBCdy7i3U5C"
      },
      "outputs": [],
      "source": [
        "# !pip install dill==0.3.5.1"
      ]
    },
    {
      "cell_type": "code",
      "execution_count": null,
      "metadata": {
        "colab": {
          "base_uri": "https://localhost:8080/",
          "height": 137,
          "referenced_widgets": [
            "85c6da378d5d4ec5b220e61d43b68130",
            "a8caf6ad784a4fafb952ee093f2b6cb4",
            "cb4ffffede0c43e1ba3486cce01065b3",
            "4cd0918ba6274f83ac10a9c301fd72f4",
            "9a632e6a0143454e94dea8a3ad6ca1f3",
            "a21e7c80cb6d423090e3c42254499f63",
            "552caa13190f40c5a8d322da8949da96",
            "992d10dd0b6a4fcd953f2866bad547c9",
            "ad3f337d14ac4dc6b6578cddf1953246",
            "6a3ff9b1390c4563923e9892e1f1a75f",
            "2e2fe1ffb26b442ebb4f37c45ac246fd",
            "29fa9ac0a13a43ae94c9c38c7a974875",
            "5a2aff6d8ddc473599c71f847199ead9",
            "fdc602253302479f84d9321f0045d0cf",
            "cc13ec51d4df46339c80a7880c866eff",
            "050a70c66b2e4667bfd5fed875bdface",
            "61d4cc255a7b4c7fb3153dc67938b937",
            "b0defdc1f848444c82c01f9a446deefb",
            "b328bf87e0b64168ac5dd4f72be9d629",
            "9521e35b0aca43febe8223fba912982c",
            "e93b7404334a445d8b8d85a2da18e048",
            "d62ba17f824d4c12bfdcb2b67df4589a"
          ]
        },
        "id": "b0qy3VeSXAJf",
        "outputId": "09fa5c41-d8c4-45f3-9b67-77a5b856cefd"
      },
      "outputs": [
        {
          "name": "stderr",
          "output_type": "stream",
          "text": [
            "/usr/local/lib/python3.10/dist-packages/transformers/tokenization_utils_base.py:2377: FutureWarning: The `pad_to_max_length` argument is deprecated and will be removed in a future version, use `padding=True` or `padding='longest'` to pad to the longest sequence in the batch, or use `padding='max_length'` to pad to a max length. In this case, you can give a specific length with `max_length` (e.g. `max_length=45`) or leave max_length to None to pad to the maximal input size of the model (e.g. 512 for Bert).\n",
            "  warnings.warn(\n"
          ]
        },
        {
          "data": {
            "application/vnd.jupyter.widget-view+json": {
              "model_id": "85c6da378d5d4ec5b220e61d43b68130",
              "version_major": 2,
              "version_minor": 0
            },
            "text/plain": [
              "  0%|          | 0/87599 [00:00<?, ?ex/s]"
            ]
          },
          "metadata": {},
          "output_type": "display_data"
        },
        {
          "data": {
            "application/vnd.jupyter.widget-view+json": {
              "model_id": "29fa9ac0a13a43ae94c9c38c7a974875",
              "version_major": 2,
              "version_minor": 0
            },
            "text/plain": [
              "  0%|          | 0/10570 [00:00<?, ?ex/s]"
            ]
          },
          "metadata": {},
          "output_type": "display_data"
        }
      ],
      "source": [
        "train_ds = train_dataset.map(encode)\n",
        "valid_ds = valid_dataset.map(encode)"
      ]
    },
    {
      "cell_type": "code",
      "execution_count": null,
      "metadata": {
        "colab": {
          "base_uri": "https://localhost:8080/"
        },
        "id": "xRtRVwhJQFcu",
        "outputId": "4357c20d-9568-4bdd-91c0-53c83779706f"
      },
      "outputs": [
        {
          "name": "stdout",
          "output_type": "stream",
          "text": [
            "Example data from the mapped dataset: \n",
            " {'attention_mask': <tf.Tensor: shape=(250,), dtype=int64, numpy=\n",
            "array([1, 1, 1, 1, 1, 1, 1, 1, 1, 1, 1, 1, 1, 1, 1, 1, 1, 1, 1, 1, 1, 1,\n",
            "       1, 1, 1, 1, 1, 1, 1, 1, 1, 1, 1, 1, 1, 1, 1, 1, 1, 1, 1, 1, 1, 1,\n",
            "       1, 1, 1, 1, 1, 1, 1, 1, 1, 1, 1, 1, 1, 1, 1, 1, 1, 1, 1, 1, 1, 1,\n",
            "       1, 1, 1, 1, 1, 1, 1, 1, 1, 1, 1, 1, 1, 1, 1, 1, 1, 1, 1, 1, 1, 1,\n",
            "       1, 1, 1, 1, 1, 1, 1, 1, 1, 1, 1, 1, 1, 1, 1, 1, 1, 1, 1, 1, 1, 1,\n",
            "       1, 1, 1, 1, 1, 1, 1, 1, 1, 1, 1, 1, 1, 1, 1, 1, 1, 1, 1, 1, 1, 1,\n",
            "       1, 1, 1, 1, 1, 1, 1, 1, 1, 1, 1, 1, 1, 1, 1, 1, 1, 1, 1, 1, 1, 1,\n",
            "       1, 1, 1, 1, 1, 1, 1, 1, 1, 1, 1, 1, 1, 1, 1, 1, 1, 1, 1, 1, 1, 1,\n",
            "       1, 1, 1, 1, 1, 1, 1, 1, 1, 1, 1, 1, 1, 1, 1, 1, 1, 1, 1, 1, 1, 1,\n",
            "       1, 1, 1, 1, 1, 1, 1, 0, 0, 0, 0, 0, 0, 0, 0, 0, 0, 0, 0, 0, 0, 0,\n",
            "       0, 0, 0, 0, 0, 0, 0, 0, 0, 0, 0, 0, 0, 0, 0, 0, 0, 0, 0, 0, 0, 0,\n",
            "       0, 0, 0, 0, 0, 0, 0, 0])>, 'decoder_attention_mask': <tf.Tensor: shape=(54,), dtype=int64, numpy=\n",
            "array([1, 1, 1, 1, 1, 1, 1, 1, 1, 1, 0, 0, 0, 0, 0, 0, 0, 0, 0, 0, 0, 0,\n",
            "       0, 0, 0, 0, 0, 0, 0, 0, 0, 0, 0, 0, 0, 0, 0, 0, 0, 0, 0, 0, 0, 0,\n",
            "       0, 0, 0, 0, 0, 0, 0, 0, 0, 0])>, 'input_ids': <tf.Tensor: shape=(250,), dtype=int64, numpy=\n",
            "array([ 1525,   834,   526,    10,   304,  4068,   410,     8, 16823,\n",
            "        3790,     3, 18280,  2385,    16,   507,  3449,    16,   301,\n",
            "        1211,  1395,  1410,    58,  2625,    10, 30797,   120,     6,\n",
            "           8,   496,    65,     3,     9,  6502,  1848,     5,    71,\n",
            "        2916,     8,  5140,  5450,    31,     7,  2045, 22161,    19,\n",
            "           3,     9,  7069, 12647,    13,     8, 16823,  3790,     5,\n",
            "           3, 29167,    16,   851,    13,     8,  5140,  5450,    11,\n",
            "        5008,    34,     6,    19,     3,     9,  8658, 12647,    13,\n",
            "        2144,    28,  6026,     3,    76, 24266,    28,     8,  9503,\n",
            "          96,   553,    15,  7980,  1980,  1212, 13285,  1496,  1280,\n",
            "        3021,    12,     8,  5140,  5450,    19,     8, 23711,  2617,\n",
            "          13,     8,     3, 24756,  6219,     5,     3, 29167,  1187,\n",
            "           8, 20605,  2617,    19,     8,  8554,    17,   235,     6,\n",
            "           3,     9, 17535,   286,    13,  7029,    11,  9619,     5,\n",
            "          94,    19,     3,     9, 16455,    13,     8,     3,  3844,\n",
            "          17,   235,    44,   301,  1211,  1395,     6,  1410,   213,\n",
            "           8, 16823,  3790,     3, 28285,    26,   120,  4283,    12,\n",
            "        2788,  8942,     9,    26,  1954,   264,  8371,  8283,    16,\n",
            "         507,  3449,     5,   486,     8,   414,    13,     8,   711,\n",
            "        1262,    41,   232,    16,     3,     9,  1223,   689,    24,\n",
            "        1979,     7,   190,   220, 12647,     7,    11,     8,  2540,\n",
            "       10576,    15,   201,    19,     3,     9,   650,     6,   941,\n",
            "        3372, 12647,    13,  3790,     5,     1,     1,     0,     0,\n",
            "           0,     0,     0,     0,     0,     0,     0,     0,     0,\n",
            "           0,     0,     0,     0,     0,     0,     0,     0,     0,\n",
            "           0,     0,     0,     0,     0,     0,     0,     0,     0,\n",
            "           0,     0,     0,     0,     0,     0,     0,     0,     0,\n",
            "           0,     0,     0,     0,     0,     0,     0])>, 'labels': <tf.Tensor: shape=(54,), dtype=int64, numpy=\n",
            "array([2788, 8942,    9,   26, 1954,  264, 8371, 8283,    1,    1,    0,\n",
            "          0,    0,    0,    0,    0,    0,    0,    0,    0,    0,    0,\n",
            "          0,    0,    0,    0,    0,    0,    0,    0,    0,    0,    0,\n",
            "          0,    0,    0,    0,    0,    0,    0,    0,    0,    0,    0,\n",
            "          0,    0,    0,    0,    0,    0,    0,    0,    0,    0])>}\n"
          ]
        }
      ],
      "source": [
        "ex = next(iter(train_ds))\n",
        "print(\"Example data from the mapped dataset: \\n\", ex)"
      ]
    },
    {
      "cell_type": "code",
      "execution_count": null,
      "metadata": {
        "id": "TJVLbHbelMki"
      },
      "outputs": [],
      "source": [
        "def to_tf_dataset(dataset):\n",
        "  columns = ['input_ids', 'attention_mask', 'labels', 'decoder_attention_mask']\n",
        "  dataset.set_format(type='tensorflow', columns=columns)\n",
        "  return_types = {'input_ids':tf.int32, 'attention_mask':tf.int32,\n",
        "                'labels':tf.int32, 'decoder_attention_mask':tf.int32,  }\n",
        "  return_shapes = {'input_ids': tf.TensorShape([None]), 'attention_mask': tf.TensorShape([None]),\n",
        "                  'labels': tf.TensorShape([None]), 'decoder_attention_mask':tf.TensorShape([None])}\n",
        "  ds = tf.data.Dataset.from_generator(lambda : dataset, return_types, return_shapes)\n",
        "  return ds"
      ]
    },
    {
      "cell_type": "code",
      "execution_count": null,
      "metadata": {
        "id": "YRD3MlH8o0HC"
      },
      "outputs": [],
      "source": [
        "tf_train_ds = to_tf_dataset(train_ds)\n",
        "tf_valid_ds = to_tf_dataset(valid_ds)"
      ]
    },
    {
      "cell_type": "code",
      "execution_count": null,
      "metadata": {
        "id": "LUKypEaSDXOd"
      },
      "outputs": [],
      "source": [
        "def create_dataset(dataset, cache_path=None, batch_size=4,\n",
        "                   buffer_size= 1000, shuffling=True):\n",
        "    if cache_path is not None:\n",
        "        dataset = dataset.cache(cache_path)\n",
        "    if shuffling:\n",
        "        dataset = dataset.shuffle(buffer_size)\n",
        "    dataset = dataset.batch(batch_size)\n",
        "    dataset = dataset.prefetch(tf.data.experimental.AUTOTUNE)\n",
        "    return dataset"
      ]
    },
    {
      "cell_type": "code",
      "execution_count": null,
      "metadata": {
        "id": "nNiNtnsHDXOf"
      },
      "outputs": [],
      "source": [
        "tf_train_ds = create_dataset(tf_train_ds, batch_size=batch_size,\n",
        "                         shuffling=True, cache_path = None)\n",
        "tf_valid_ds = create_dataset(tf_valid_ds, batch_size=batch_size,\n",
        "                         shuffling=False, cache_path = None)"
      ]
    },
    {
      "cell_type": "code",
      "execution_count": null,
      "metadata": {
        "id": "xHq71CTDDXOn"
      },
      "outputs": [],
      "source": [
        "class CustomSchedule(tf.keras.optimizers.schedules.LearningRateSchedule):\n",
        "  def __init__(self, warmup_steps=1e4):\n",
        "    super().__init__()\n",
        "\n",
        "    self.warmup_steps = tf.cast(warmup_steps, tf.float32)\n",
        "\n",
        "  def __call__(self, step):\n",
        "    step = tf.cast(step, tf.float32)\n",
        "    m = tf.maximum(self.warmup_steps, step)\n",
        "    m = tf.cast(m, tf.float32)\n",
        "    lr = tf.math.rsqrt(m)\n",
        "\n",
        "    return lr\n"
      ]
    },
    {
      "cell_type": "code",
      "execution_count": null,
      "metadata": {
        "colab": {
          "base_uri": "https://localhost:8080/",
          "height": 471
        },
        "id": "G6-LcG6TDXOt",
        "outputId": "14c4f13f-ebe4-4c2f-bd71-f9e4664a0aba"
      },
      "outputs": [
        {
          "data": {
            "text/plain": [
              "Text(0, 0.5, 'Learning rate')"
            ]
          },
          "execution_count": 21,
          "metadata": {},
          "output_type": "execute_result"
        },
        {
          "data": {
            "image/png": "[encoded data removed]",
            "text/plain": [
              "<Figure size 640x480 with 1 Axes>"
            ]
          },
          "metadata": {},
          "output_type": "display_data"
        }
      ],
      "source": [
        "plt.style.use('ggplot')\n",
        "schedule = CustomSchedule()\n",
        "plt.plot(schedule(tf.range(25000, dtype=tf.float32)))\n",
        "plt.xlabel(\"Steps\")\n",
        "plt.ylabel(\"Learning rate\")"
      ]
    },
    {
      "attachments": {},
      "cell_type": "markdown",
      "metadata": {
        "id": "KV-r3L0BVqv0"
      },
      "source": [
        "### Callbacks and Metrics"
      ]
    },
    {
      "cell_type": "code",
      "execution_count": null,
      "metadata": {
        "id": "rA9OVe28DXOq"
      },
      "outputs": [],
      "source": [
        "start_profile_batch = steps+10\n",
        "stop_profile_batch = start_profile_batch + 100\n",
        "profile_range = f\"{start_profile_batch},{stop_profile_batch}\"\n",
        "\n",
        "log_path = log_dir + \"/\" + datetime.datetime.now().strftime(\"%Y-%m-%d_%H:%M:%S\")\n",
        "tensorboard_callback = tf.keras.callbacks.TensorBoard(log_dir=log_path, histogram_freq=1,\n",
        "                                                     update_freq=20,profile_batch=profile_range)\n",
        "\n",
        "checkpoint_filepath = save_path + \"/\" + \"T5-{epoch:04d}-{val_loss:.4f}.ckpt\"\n",
        "model_checkpoint_callback = tf.keras.callbacks.ModelCheckpoint(\n",
        "    filepath=checkpoint_filepath,\n",
        "    save_weights_only=False,\n",
        "    monitor='val_loss',\n",
        "    mode='min',\n",
        "    save_best_only=True)\n",
        "\n",
        "callbacks = [tensorboard_callback, model_checkpoint_callback]\n",
        "metrics = [tf.keras.metrics.SparseTopKCategoricalAccuracy(name='accuracy') ]"
      ]
    },
    {
      "attachments": {},
      "cell_type": "markdown",
      "metadata": {
        "id": "cgxRVn34Z0wb"
      },
      "source": [
        "### Training"
      ]
    },
    {
      "cell_type": "code",
      "execution_count": null,
      "metadata": {
        "id": "SX_CQGhoDXOw"
      },
      "outputs": [],
      "source": [
        "# learning_rate = CustomSchedule()\n",
        "learning_rate = 0.001  # Instead set a static learning rate\n",
        "optimizer = tf.keras.optimizers.Adam(learning_rate)"
      ]
    },
    {
      "cell_type": "code",
      "execution_count": null,
      "metadata": {
        "colab": {
          "base_uri": "https://localhost:8080/"
        },
        "id": "AZym7SmWDXO0",
        "outputId": "afec398a-f95c-4b27-d08e-34d68cf7bfc2"
      },
      "outputs": [
        {
          "name": "stderr",
          "output_type": "stream",
          "text": [
            "All PyTorch model weights were used when initializing SnapthatT5.\n",
            "\n",
            "Some weights or buffers of the TF 2.0 model SnapthatT5 were not initialized from the PyTorch model and are newly initialized: ['total', 'count']\n",
            "You should probably TRAIN this model on a down-stream task to be able to use it for predictions and inference.\n"
          ]
        }
      ],
      "source": [
        "model = SnapthatT5.from_pretrained(\"t5-base\")"
      ]
    },
    {
      "cell_type": "code",
      "execution_count": null,
      "metadata": {
        "id": "z_QxL8gPDXO1"
      },
      "outputs": [],
      "source": [
        "model.compile(optimizer=optimizer, metrics=metrics)"
      ]
    },
    {
      "cell_type": "code",
      "execution_count": null,
      "metadata": {
        "id": "RKAw6u2Odl1I"
      },
      "outputs": [],
      "source": [
        "# %tensorboard --logdir ./data/experiments/t5/logs"
      ]
    },
    {
      "cell_type": "code",
      "execution_count": null,
      "metadata": {
        "colab": {
          "base_uri": "https://localhost:8080/"
        },
        "id": "x8QOVpFxDXO5",
        "outputId": "c054a914-eace-4f55-9261-6fedd0d3bb6b",
        "scrolled": true
      },
      "outputs": [
        {
          "name": "stdout",
          "output_type": "stream",
          "text": [
            "Epoch 1/5\n",
            " 1192/21900 [>.............................] - ETA: 2:11:54 - accuracy: 0.9924 - loss: 0.1070 - lr: 0.0100"
          ]
        }
      ],
      "source": [
        "epochs_done = 0\n",
        "model.fit(tf_train_ds, epochs=5, steps_per_epoch=steps, callbacks=callbacks,\n",
        "          validation_data=tf_valid_ds, validation_steps=valid_steps, initial_epoch=epochs_done)"
      ]
    },
    {
      "cell_type": "code",
      "execution_count": null,
      "metadata": {
        "id": "nYDPH77LDXO9"
      },
      "outputs": [],
      "source": [
        "# model.save_pretrained(save_path)"
      ]
    },
    {
      "cell_type": "code",
      "execution_count": null,
      "metadata": {
        "id": "h8k7XV9coBwZ"
      },
      "outputs": [],
      "source": []
    },
    {
      "attachments": {},
      "cell_type": "markdown",
      "metadata": {
        "id": "5cza3w1FVqwG"
      },
      "source": [
        "### Lets test our model!!"
      ]
    },
    {
      "cell_type": "code",
      "execution_count": null,
      "metadata": {
        "id": "p5eicTrHVqwH"
      },
      "outputs": [],
      "source": [
        "context = \"\"\"We went on a trip to Europe. We had our breakfast at 7 am in the morning at \\\n",
        "the nearby coffee shop. Wore a dark blue over coat for our first visit to Louvre Museum \\\n",
        "to experience history and art.\"\"\"\n",
        "\n",
        "question = \"At what time did we had breakfast?\"\n",
        "print(context)\n",
        "print(question)"
      ]
    },
    {
      "cell_type": "code",
      "execution_count": null,
      "metadata": {
        "id": "2ihk1kxxDXO_"
      },
      "outputs": [],
      "source": [
        "input_text =  f\"answer_me: {question} context: {context} </s>\"\n",
        "encoded_query = tokenizer(input_text,\n",
        "                         return_tensors='tf', pad_to_max_length=True, truncation=True, max_length=encoder_max_len)\n",
        "input_ids = encoded_query[\"input_ids\"]\n",
        "attention_mask = encoded_query[\"attention_mask\"]\n",
        "generated_answer = model.generate(input_ids, attention_mask=attention_mask,\n",
        "                                 max_length=decoder_max_len, top_p=0.95, top_k=50, repetition_penalty=2)\n",
        "decoded_answer = tokenizer.decode(generated_answer.numpy()[0])\n",
        "print(\"Answer: \", decoded_answer)"
      ]
    },
    {
      "cell_type": "code",
      "execution_count": null,
      "metadata": {
        "id": "9g1gTgkmYcAO"
      },
      "outputs": [],
      "source": []
    }
  ],
  "metadata": {
    "accelerator": "GPU",
    "colab": {
      "provenance": [],
      "toc_visible": true
    },
    "kernelspec": {
      "display_name": "Python 3",
      "name": "python3"
    },
    "widgets": {
      "application/vnd.jupyter.widget-state+json": {
        "050a70c66b2e4667bfd5fed875bdface": {
          "model_module": "@jupyter-widgets/base",
          "model_module_version": "1.2.0",
          "model_name": "LayoutModel",
          "state": {
            "_model_module": "@jupyter-widgets/base",
            "_model_module_version": "1.2.0",
            "_model_name": "LayoutModel",
            "_view_count": null,
            "_view_module": "@jupyter-widgets/base",
            "_view_module_version": "1.2.0",
            "_view_name": "LayoutView",
            "align_content": null,
            "align_items": null,
            "align_self": null,
            "border": null,
            "bottom": null,
            "display": null,
            "flex": null,
            "flex_flow": null,
            "grid_area": null,
            "grid_auto_columns": null,
            "grid_auto_flow": null,
            "grid_auto_rows": null,
            "grid_column": null,
            "grid_gap": null,
            "grid_row": null,
            "grid_template_areas": null,
            "grid_template_columns": null,
            "grid_template_rows": null,
            "height": null,
            "justify_content": null,
            "justify_items": null,
            "left": null,
            "margin": null,
            "max_height": null,
            "max_width": null,
            "min_height": null,
            "min_width": null,
            "object_fit": null,
            "object_position": null,
            "order": null,
            "overflow": null,
            "overflow_x": null,
            "overflow_y": null,
            "padding": null,
            "right": null,
            "top": null,
            "visibility": null,
            "width": null
          }
        },
        "29fa9ac0a13a43ae94c9c38c7a974875": {
          "model_module": "@jupyter-widgets/controls",
          "model_module_version": "1.5.0",
          "model_name": "HBoxModel",
          "state": {
            "_dom_classes": [],
            "_model_module": "@jupyter-widgets/controls",
            "_model_module_version": "1.5.0",
            "_model_name": "HBoxModel",
            "_view_count": null,
            "_view_module": "@jupyter-widgets/controls",
            "_view_module_version": "1.5.0",
            "_view_name": "HBoxView",
            "box_style": "",
            "children": [
              "IPY_MODEL_5a2aff6d8ddc473599c71f847199ead9",
              "IPY_MODEL_fdc602253302479f84d9321f0045d0cf",
              "IPY_MODEL_cc13ec51d4df46339c80a7880c866eff"
            ],
            "layout": "IPY_MODEL_050a70c66b2e4667bfd5fed875bdface"
          }
        },
        "2e2fe1ffb26b442ebb4f37c45ac246fd": {
          "model_module": "@jupyter-widgets/controls",
          "model_module_version": "1.5.0",
          "model_name": "DescriptionStyleModel",
          "state": {
            "_model_module": "@jupyter-widgets/controls",
            "_model_module_version": "1.5.0",
            "_model_name": "DescriptionStyleModel",
            "_view_count": null,
            "_view_module": "@jupyter-widgets/base",
            "_view_module_version": "1.2.0",
            "_view_name": "StyleView",
            "description_width": ""
          }
        },
        "4cd0918ba6274f83ac10a9c301fd72f4": {
          "model_module": "@jupyter-widgets/controls",
          "model_module_version": "1.5.0",
          "model_name": "HTMLModel",
          "state": {
            "_dom_classes": [],
            "_model_module": "@jupyter-widgets/controls",
            "_model_module_version": "1.5.0",
            "_model_name": "HTMLModel",
            "_view_count": null,
            "_view_module": "@jupyter-widgets/controls",
            "_view_module_version": "1.5.0",
            "_view_name": "HTMLView",
            "description": "",
            "description_tooltip": null,
            "layout": "IPY_MODEL_6a3ff9b1390c4563923e9892e1f1a75f",
            "placeholder": "​",
            "style": "IPY_MODEL_2e2fe1ffb26b442ebb4f37c45ac246fd",
            "value": " 87599/87599 [05:15&lt;00:00, 357.53ex/s]"
          }
        },
        "552caa13190f40c5a8d322da8949da96": {
          "model_module": "@jupyter-widgets/controls",
          "model_module_version": "1.5.0",
          "model_name": "DescriptionStyleModel",
          "state": {
            "_model_module": "@jupyter-widgets/controls",
            "_model_module_version": "1.5.0",
            "_model_name": "DescriptionStyleModel",
            "_view_count": null,
            "_view_module": "@jupyter-widgets/base",
            "_view_module_version": "1.2.0",
            "_view_name": "StyleView",
            "description_width": ""
          }
        },
        "5a2aff6d8ddc473599c71f847199ead9": {
          "model_module": "@jupyter-widgets/controls",
          "model_module_version": "1.5.0",
          "model_name": "HTMLModel",
          "state": {
            "_dom_classes": [],
            "_model_module": "@jupyter-widgets/controls",
            "_model_module_version": "1.5.0",
            "_model_name": "HTMLModel",
            "_view_count": null,
            "_view_module": "@jupyter-widgets/controls",
            "_view_module_version": "1.5.0",
            "_view_name": "HTMLView",
            "description": "",
            "description_tooltip": null,
            "layout": "IPY_MODEL_61d4cc255a7b4c7fb3153dc67938b937",
            "placeholder": "​",
            "style": "IPY_MODEL_b0defdc1f848444c82c01f9a446deefb",
            "value": "100%"
          }
        },
        "61d4cc255a7b4c7fb3153dc67938b937": {
          "model_module": "@jupyter-widgets/base",
          "model_module_version": "1.2.0",
          "model_name": "LayoutModel",
          "state": {
            "_model_module": "@jupyter-widgets/base",
            "_model_module_version": "1.2.0",
            "_model_name": "LayoutModel",
            "_view_count": null,
            "_view_module": "@jupyter-widgets/base",
            "_view_module_version": "1.2.0",
            "_view_name": "LayoutView",
            "align_content": null,
            "align_items": null,
            "align_self": null,
            "border": null,
            "bottom": null,
            "display": null,
            "flex": null,
            "flex_flow": null,
            "grid_area": null,
            "grid_auto_columns": null,
            "grid_auto_flow": null,
            "grid_auto_rows": null,
            "grid_column": null,
            "grid_gap": null,
            "grid_row": null,
            "grid_template_areas": null,
            "grid_template_columns": null,
            "grid_template_rows": null,
            "height": null,
            "justify_content": null,
            "justify_items": null,
            "left": null,
            "margin": null,
            "max_height": null,
            "max_width": null,
            "min_height": null,
            "min_width": null,
            "object_fit": null,
            "object_position": null,
            "order": null,
            "overflow": null,
            "overflow_x": null,
            "overflow_y": null,
            "padding": null,
            "right": null,
            "top": null,
            "visibility": null,
            "width": null
          }
        },
        "6a3ff9b1390c4563923e9892e1f1a75f": {
          "model_module": "@jupyter-widgets/base",
          "model_module_version": "1.2.0",
          "model_name": "LayoutModel",
          "state": {
            "_model_module": "@jupyter-widgets/base",
            "_model_module_version": "1.2.0",
            "_model_name": "LayoutModel",
            "_view_count": null,
            "_view_module": "@jupyter-widgets/base",
            "_view_module_version": "1.2.0",
            "_view_name": "LayoutView",
            "align_content": null,
            "align_items": null,
            "align_self": null,
            "border": null,
            "bottom": null,
            "display": null,
            "flex": null,
            "flex_flow": null,
            "grid_area": null,
            "grid_auto_columns": null,
            "grid_auto_flow": null,
            "grid_auto_rows": null,
            "grid_column": null,
            "grid_gap": null,
            "grid_row": null,
            "grid_template_areas": null,
            "grid_template_columns": null,
            "grid_template_rows": null,
            "height": null,
            "justify_content": null,
            "justify_items": null,
            "left": null,
            "margin": null,
            "max_height": null,
            "max_width": null,
            "min_height": null,
            "min_width": null,
            "object_fit": null,
            "object_position": null,
            "order": null,
            "overflow": null,
            "overflow_x": null,
            "overflow_y": null,
            "padding": null,
            "right": null,
            "top": null,
            "visibility": null,
            "width": null
          }
        },
        "85c6da378d5d4ec5b220e61d43b68130": {
          "model_module": "@jupyter-widgets/controls",
          "model_module_version": "1.5.0",
          "model_name": "HBoxModel",
          "state": {
            "_dom_classes": [],
            "_model_module": "@jupyter-widgets/controls",
            "_model_module_version": "1.5.0",
            "_model_name": "HBoxModel",
            "_view_count": null,
            "_view_module": "@jupyter-widgets/controls",
            "_view_module_version": "1.5.0",
            "_view_name": "HBoxView",
            "box_style": "",
            "children": [
              "IPY_MODEL_a8caf6ad784a4fafb952ee093f2b6cb4",
              "IPY_MODEL_cb4ffffede0c43e1ba3486cce01065b3",
              "IPY_MODEL_4cd0918ba6274f83ac10a9c301fd72f4"
            ],
            "layout": "IPY_MODEL_9a632e6a0143454e94dea8a3ad6ca1f3"
          }
        },
        "9521e35b0aca43febe8223fba912982c": {
          "model_module": "@jupyter-widgets/controls",
          "model_module_version": "1.5.0",
          "model_name": "ProgressStyleModel",
          "state": {
            "_model_module": "@jupyter-widgets/controls",
            "_model_module_version": "1.5.0",
            "_model_name": "ProgressStyleModel",
            "_view_count": null,
            "_view_module": "@jupyter-widgets/base",
            "_view_module_version": "1.2.0",
            "_view_name": "StyleView",
            "bar_color": null,
            "description_width": ""
          }
        },
        "992d10dd0b6a4fcd953f2866bad547c9": {
          "model_module": "@jupyter-widgets/base",
          "model_module_version": "1.2.0",
          "model_name": "LayoutModel",
          "state": {
            "_model_module": "@jupyter-widgets/base",
            "_model_module_version": "1.2.0",
            "_model_name": "LayoutModel",
            "_view_count": null,
            "_view_module": "@jupyter-widgets/base",
            "_view_module_version": "1.2.0",
            "_view_name": "LayoutView",
            "align_content": null,
            "align_items": null,
            "align_self": null,
            "border": null,
            "bottom": null,
            "display": null,
            "flex": null,
            "flex_flow": null,
            "grid_area": null,
            "grid_auto_columns": null,
            "grid_auto_flow": null,
            "grid_auto_rows": null,
            "grid_column": null,
            "grid_gap": null,
            "grid_row": null,
            "grid_template_areas": null,
            "grid_template_columns": null,
            "grid_template_rows": null,
            "height": null,
            "justify_content": null,
            "justify_items": null,
            "left": null,
            "margin": null,
            "max_height": null,
            "max_width": null,
            "min_height": null,
            "min_width": null,
            "object_fit": null,
            "object_position": null,
            "order": null,
            "overflow": null,
            "overflow_x": null,
            "overflow_y": null,
            "padding": null,
            "right": null,
            "top": null,
            "visibility": null,
            "width": null
          }
        },
        "9a632e6a0143454e94dea8a3ad6ca1f3": {
          "model_module": "@jupyter-widgets/base",
          "model_module_version": "1.2.0",
          "model_name": "LayoutModel",
          "state": {
            "_model_module": "@jupyter-widgets/base",
            "_model_module_version": "1.2.0",
            "_model_name": "LayoutModel",
            "_view_count": null,
            "_view_module": "@jupyter-widgets/base",
            "_view_module_version": "1.2.0",
            "_view_name": "LayoutView",
            "align_content": null,
            "align_items": null,
            "align_self": null,
            "border": null,
            "bottom": null,
            "display": null,
            "flex": null,
            "flex_flow": null,
            "grid_area": null,
            "grid_auto_columns": null,
            "grid_auto_flow": null,
            "grid_auto_rows": null,
            "grid_column": null,
            "grid_gap": null,
            "grid_row": null,
            "grid_template_areas": null,
            "grid_template_columns": null,
            "grid_template_rows": null,
            "height": null,
            "justify_content": null,
            "justify_items": null,
            "left": null,
            "margin": null,
            "max_height": null,
            "max_width": null,
            "min_height": null,
            "min_width": null,
            "object_fit": null,
            "object_position": null,
            "order": null,
            "overflow": null,
            "overflow_x": null,
            "overflow_y": null,
            "padding": null,
            "right": null,
            "top": null,
            "visibility": null,
            "width": null
          }
        },
        "a21e7c80cb6d423090e3c42254499f63": {
          "model_module": "@jupyter-widgets/base",
          "model_module_version": "1.2.0",
          "model_name": "LayoutModel",
          "state": {
            "_model_module": "@jupyter-widgets/base",
            "_model_module_version": "1.2.0",
            "_model_name": "LayoutModel",
            "_view_count": null,
            "_view_module": "@jupyter-widgets/base",
            "_view_module_version": "1.2.0",
            "_view_name": "LayoutView",
            "align_content": null,
            "align_items": null,
            "align_self": null,
            "border": null,
            "bottom": null,
            "display": null,
            "flex": null,
            "flex_flow": null,
            "grid_area": null,
            "grid_auto_columns": null,
            "grid_auto_flow": null,
            "grid_auto_rows": null,
            "grid_column": null,
            "grid_gap": null,
            "grid_row": null,
            "grid_template_areas": null,
            "grid_template_columns": null,
            "grid_template_rows": null,
            "height": null,
            "justify_content": null,
            "justify_items": null,
            "left": null,
            "margin": null,
            "max_height": null,
            "max_width": null,
            "min_height": null,
            "min_width": null,
            "object_fit": null,
            "object_position": null,
            "order": null,
            "overflow": null,
            "overflow_x": null,
            "overflow_y": null,
            "padding": null,
            "right": null,
            "top": null,
            "visibility": null,
            "width": null
          }
        },
        "a8caf6ad784a4fafb952ee093f2b6cb4": {
          "model_module": "@jupyter-widgets/controls",
          "model_module_version": "1.5.0",
          "model_name": "HTMLModel",
          "state": {
            "_dom_classes": [],
            "_model_module": "@jupyter-widgets/controls",
            "_model_module_version": "1.5.0",
            "_model_name": "HTMLModel",
            "_view_count": null,
            "_view_module": "@jupyter-widgets/controls",
            "_view_module_version": "1.5.0",
            "_view_name": "HTMLView",
            "description": "",
            "description_tooltip": null,
            "layout": "IPY_MODEL_a21e7c80cb6d423090e3c42254499f63",
            "placeholder": "​",
            "style": "IPY_MODEL_552caa13190f40c5a8d322da8949da96",
            "value": "100%"
          }
        },
        "ad3f337d14ac4dc6b6578cddf1953246": {
          "model_module": "@jupyter-widgets/controls",
          "model_module_version": "1.5.0",
          "model_name": "ProgressStyleModel",
          "state": {
            "_model_module": "@jupyter-widgets/controls",
            "_model_module_version": "1.5.0",
            "_model_name": "ProgressStyleModel",
            "_view_count": null,
            "_view_module": "@jupyter-widgets/base",
            "_view_module_version": "1.2.0",
            "_view_name": "StyleView",
            "bar_color": null,
            "description_width": ""
          }
        },
        "b0defdc1f848444c82c01f9a446deefb": {
          "model_module": "@jupyter-widgets/controls",
          "model_module_version": "1.5.0",
          "model_name": "DescriptionStyleModel",
          "state": {
            "_model_module": "@jupyter-widgets/controls",
            "_model_module_version": "1.5.0",
            "_model_name": "DescriptionStyleModel",
            "_view_count": null,
            "_view_module": "@jupyter-widgets/base",
            "_view_module_version": "1.2.0",
            "_view_name": "StyleView",
            "description_width": ""
          }
        },
        "b328bf87e0b64168ac5dd4f72be9d629": {
          "model_module": "@jupyter-widgets/base",
          "model_module_version": "1.2.0",
          "model_name": "LayoutModel",
          "state": {
            "_model_module": "@jupyter-widgets/base",
            "_model_module_version": "1.2.0",
            "_model_name": "LayoutModel",
            "_view_count": null,
            "_view_module": "@jupyter-widgets/base",
            "_view_module_version": "1.2.0",
            "_view_name": "LayoutView",
            "align_content": null,
            "align_items": null,
            "align_self": null,
            "border": null,
            "bottom": null,
            "display": null,
            "flex": null,
            "flex_flow": null,
            "grid_area": null,
            "grid_auto_columns": null,
            "grid_auto_flow": null,
            "grid_auto_rows": null,
            "grid_column": null,
            "grid_gap": null,
            "grid_row": null,
            "grid_template_areas": null,
            "grid_template_columns": null,
            "grid_template_rows": null,
            "height": null,
            "justify_content": null,
            "justify_items": null,
            "left": null,
            "margin": null,
            "max_height": null,
            "max_width": null,
            "min_height": null,
            "min_width": null,
            "object_fit": null,
            "object_position": null,
            "order": null,
            "overflow": null,
            "overflow_x": null,
            "overflow_y": null,
            "padding": null,
            "right": null,
            "top": null,
            "visibility": null,
            "width": null
          }
        },
        "cb4ffffede0c43e1ba3486cce01065b3": {
          "model_module": "@jupyter-widgets/controls",
          "model_module_version": "1.5.0",
          "model_name": "FloatProgressModel",
          "state": {
            "_dom_classes": [],
            "_model_module": "@jupyter-widgets/controls",
            "_model_module_version": "1.5.0",
            "_model_name": "FloatProgressModel",
            "_view_count": null,
            "_view_module": "@jupyter-widgets/controls",
            "_view_module_version": "1.5.0",
            "_view_name": "ProgressView",
            "bar_style": "success",
            "description": "",
            "description_tooltip": null,
            "layout": "IPY_MODEL_992d10dd0b6a4fcd953f2866bad547c9",
            "max": 87599,
            "min": 0,
            "orientation": "horizontal",
            "style": "IPY_MODEL_ad3f337d14ac4dc6b6578cddf1953246",
            "value": 87599
          }
        },
        "cc13ec51d4df46339c80a7880c866eff": {
          "model_module": "@jupyter-widgets/controls",
          "model_module_version": "1.5.0",
          "model_name": "HTMLModel",
          "state": {
            "_dom_classes": [],
            "_model_module": "@jupyter-widgets/controls",
            "_model_module_version": "1.5.0",
            "_model_name": "HTMLModel",
            "_view_count": null,
            "_view_module": "@jupyter-widgets/controls",
            "_view_module_version": "1.5.0",
            "_view_name": "HTMLView",
            "description": "",
            "description_tooltip": null,
            "layout": "IPY_MODEL_e93b7404334a445d8b8d85a2da18e048",
            "placeholder": "​",
            "style": "IPY_MODEL_d62ba17f824d4c12bfdcb2b67df4589a",
            "value": " 10570/10570 [00:37&lt;00:00, 237.56ex/s]"
          }
        },
        "d62ba17f824d4c12bfdcb2b67df4589a": {
          "model_module": "@jupyter-widgets/controls",
          "model_module_version": "1.5.0",
          "model_name": "DescriptionStyleModel",
          "state": {
            "_model_module": "@jupyter-widgets/controls",
            "_model_module_version": "1.5.0",
            "_model_name": "DescriptionStyleModel",
            "_view_count": null,
            "_view_module": "@jupyter-widgets/base",
            "_view_module_version": "1.2.0",
            "_view_name": "StyleView",
            "description_width": ""
          }
        },
        "e93b7404334a445d8b8d85a2da18e048": {
          "model_module": "@jupyter-widgets/base",
          "model_module_version": "1.2.0",
          "model_name": "LayoutModel",
          "state": {
            "_model_module": "@jupyter-widgets/base",
            "_model_module_version": "1.2.0",
            "_model_name": "LayoutModel",
            "_view_count": null,
            "_view_module": "@jupyter-widgets/base",
            "_view_module_version": "1.2.0",
            "_view_name": "LayoutView",
            "align_content": null,
            "align_items": null,
            "align_self": null,
            "border": null,
            "bottom": null,
            "display": null,
            "flex": null,
            "flex_flow": null,
            "grid_area": null,
            "grid_auto_columns": null,
            "grid_auto_flow": null,
            "grid_auto_rows": null,
            "grid_column": null,
            "grid_gap": null,
            "grid_row": null,
            "grid_template_areas": null,
            "grid_template_columns": null,
            "grid_template_rows": null,
            "height": null,
            "justify_content": null,
            "justify_items": null,
            "left": null,
            "margin": null,
            "max_height": null,
            "max_width": null,
            "min_height": null,
            "min_width": null,
            "object_fit": null,
            "object_position": null,
            "order": null,
            "overflow": null,
            "overflow_x": null,
            "overflow_y": null,
            "padding": null,
            "right": null,
            "top": null,
            "visibility": null,
            "width": null
          }
        },
        "fdc602253302479f84d9321f0045d0cf": {
          "model_module": "@jupyter-widgets/controls",
          "model_module_version": "1.5.0",
          "model_name": "FloatProgressModel",
          "state": {
            "_dom_classes": [],
            "_model_module": "@jupyter-widgets/controls",
            "_model_module_version": "1.5.0",
            "_model_name": "FloatProgressModel",
            "_view_count": null,
            "_view_module": "@jupyter-widgets/controls",
            "_view_module_version": "1.5.0",
            "_view_name": "ProgressView",
            "bar_style": "success",
            "description": "",
            "description_tooltip": null,
            "layout": "IPY_MODEL_b328bf87e0b64168ac5dd4f72be9d629",
            "max": 10570,
            "min": 0,
            "orientation": "horizontal",
            "style": "IPY_MODEL_9521e35b0aca43febe8223fba912982c",
            "value": 10570
          }
        }
      }
    }
  },
  "nbformat": 4,
  "nbformat_minor": 0
}
