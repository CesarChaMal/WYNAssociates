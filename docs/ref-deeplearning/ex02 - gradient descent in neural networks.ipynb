{
  "nbformat": 4,
  "nbformat_minor": 0,
  "metadata": {
    "colab": {
      "provenance": [],
      "toc_visible": true
    },
    "kernelspec": {
      "name": "python3",
      "display_name": "Python 3"
    },
    "language_info": {
      "name": "python"
    }
  },
  "cells": [
    {
      "cell_type": "code",
      "source": [
        "import numpy as np\n",
        "import matplotlib.pyplot as plt"
      ],
      "metadata": {
        "id": "9jajJ7tpf1wy"
      },
      "execution_count": 1,
      "outputs": []
    },
    {
      "cell_type": "code",
      "source": [
        "# define x and y (without noise)\n",
        "true_w1 = 2\n",
        "x = np.random.randint(0, 50, 100)\n",
        "y = true_w1 * x\n",
        "plt.scatter(x, y)\n",
        "plt.show()"
      ],
      "metadata": {
        "colab": {
          "base_uri": "https://localhost:8080/",
          "height": 265
        },
        "id": "XbsDfHBef73T",
        "outputId": "ebd4fe9d-297b-4cfa-dc6d-7ddfca6e25cf"
      },
      "execution_count": 2,
      "outputs": [
        {
          "output_type": "display_data",
          "data": {
            "text/plain": [
              "<Figure size 432x288 with 1 Axes>"
            ],
            "image/png": "[encoded data removed]"
          },
          "metadata": {
            "needs_background": "light"
          }
        }
      ]
    },
    {
      "cell_type": "code",
      "source": [
        "# define x and y (with noise)\n",
        "true_w1 = 2\n",
        "x = np.random.randint(0, 50, 100) / 10\n",
        "y = true_w1 * x + np.random.normal(0, 1, 100)\n",
        "plt.scatter(x, y)\n",
        "plt.show()"
      ],
      "metadata": {
        "colab": {
          "base_uri": "https://localhost:8080/",
          "height": 265
        },
        "id": "sQ7dpuXmgTOr",
        "outputId": "bc9e689d-85ca-4f55-c01b-561b28334fc4"
      },
      "execution_count": 3,
      "outputs": [
        {
          "output_type": "display_data",
          "data": {
            "text/plain": [
              "<Figure size 432x288 with 1 Axes>"
            ],
            "image/png": "[encoded data removed]"
          },
          "metadata": {
            "needs_background": "light"
          }
        }
      ]
    },
    {
      "cell_type": "code",
      "execution_count": 4,
      "metadata": {
        "colab": {
          "base_uri": "https://localhost:8080/",
          "height": 283
        },
        "id": "Sd6qzj84fY-F",
        "outputId": "0342c89c-ffb3-467e-b343-72ab1d00fa38"
      },
      "outputs": [
        {
          "output_type": "stream",
          "name": "stdout",
          "text": [
            "Plot scattered data and fake line.\n"
          ]
        },
        {
          "output_type": "display_data",
          "data": {
            "text/plain": [
              "<Figure size 432x288 with 1 Axes>"
            ],
            "image/png": "[encoded data removed]"
          },
          "metadata": {
            "needs_background": "light"
          }
        }
      ],
      "source": [
        "#@title Set Arguments\n",
        "\n",
        "w1 = 2 #@param {type:\"slider\", min:-10, max:10, step:0.1}\n",
        "\n",
        "print(f'Plot scattered data and fake line.')\n",
        "plt.scatter(x, y)\n",
        "plt.plot(x, x*w1, 'red')\n",
        "plt.show()"
      ]
    },
    {
      "cell_type": "markdown",
      "source": [
        "## Gradient of a line\n",
        "\n",
        "If the model takes the form\n",
        "$$y = wx + \\epsilon$$\n",
        "and the loss function is\n",
        "$$\\text{MSE} = \\frac{1}{n} \\sum_i (y - \\hat{y}_i)^2$$\n",
        "with $n$ samples, then we can write\n",
        "$$\n",
        "\\begin{array}[cccc]\\\n",
        "\\frac{\\partial}{\\partial w_1} \\frac{1}{n} \\sum_i (y - w_1 \\cdot x)^2\n",
        "&=& \\frac{2}{n} \\sum_i (y - w_1 \\cdot x)(-x) \\\\\n",
        "&=& -\\frac{2}{n} \\sum_i (y - w_1 x) (x) \\\\\n",
        "\\end{array}\n",
        "$$"
      ],
      "metadata": {
        "id": "K35mRTqWhOSm"
      }
    },
    {
      "cell_type": "code",
      "source": [
        "#@title Set Arguments\n",
        "\n",
        "eta = 0.0585 #@param {type:\"slider\", min:0, max:0.1, step:0.00001}\n",
        "w1 = 2 #@param {type:\"slider\", min:-10, max:10, step:0.1}\n",
        "nabla = 2 * np.round(np.mean(((y - x*w1) * x)), 3)\n",
        "loss = np.round(np.mean((y - x*w1)**2), 2)\n",
        "delta = np.round(eta * nabla, 3)\n",
        "\n",
        "print(f'Plot scattered data and fake line.')\n",
        "plt.scatter(x, y)\n",
        "plt.plot(x, x*w1, 'red')\n",
        "plt.title(f'grad = {nabla}, loss = {loss}, eta*nabla = {delta}')\n",
        "plt.show()"
      ],
      "metadata": {
        "colab": {
          "base_uri": "https://localhost:8080/",
          "height": 299
        },
        "id": "LWZA24oKhB0V",
        "outputId": "dc3b61fb-b7b9-4a7f-8e05-6384cf6a2a90"
      },
      "execution_count": 5,
      "outputs": [
        {
          "output_type": "stream",
          "name": "stdout",
          "text": [
            "Plot scattered data and fake line.\n"
          ]
        },
        {
          "output_type": "display_data",
          "data": {
            "text/plain": [
              "<Figure size 432x288 with 1 Axes>"
            ],
            "image/png": "[encoded data removed]"
          },
          "metadata": {
            "needs_background": "light"
          }
        }
      ]
    },
    {
      "cell_type": "markdown",
      "source": [
        "Note that we have to drag the progress bar left and right to find the optimal spot and this is for one parameter only. One can imagine that things get much more complicated when there are millions of parameters. \n",
        "\n",
        "But no worries, neual network does it for us. "
      ],
      "metadata": {
        "id": "0lxkyckBhxyD"
      }
    },
    {
      "cell_type": "code",
      "source": [
        "import tensorflow as tf"
      ],
      "metadata": {
        "id": "JLY3B-4oIjLx"
      },
      "execution_count": 6,
      "outputs": []
    },
    {
      "cell_type": "code",
      "source": [
        "model = tf.keras.models.Sequential(name='toy_model')\n",
        "model.add(tf.keras.layers.Dense(units=1, activation=None, use_bias=False, input_shape=[1], name='layer1'))"
      ],
      "metadata": {
        "id": "eNzZAI4jIy6W"
      },
      "execution_count": 16,
      "outputs": []
    },
    {
      "cell_type": "code",
      "source": [
        "model.summary()"
      ],
      "metadata": {
        "colab": {
          "base_uri": "https://localhost:8080/"
        },
        "id": "sAhN6NzHJLSn",
        "outputId": "ed04ce4b-4a29-4843-e78e-235f42559d75"
      },
      "execution_count": 17,
      "outputs": [
        {
          "output_type": "stream",
          "name": "stdout",
          "text": [
            "Model: \"toy_model\"\n",
            "_________________________________________________________________\n",
            " Layer (type)                Output Shape              Param #   \n",
            "=================================================================\n",
            " layer1 (Dense)              (None, 1)                 1         \n",
            "                                                                 \n",
            "=================================================================\n",
            "Total params: 1\n",
            "Trainable params: 1\n",
            "Non-trainable params: 0\n",
            "_________________________________________________________________\n"
          ]
        }
      ]
    },
    {
      "cell_type": "code",
      "source": [
        "model.compile(optimizer='sgd', loss='mse')"
      ],
      "metadata": {
        "id": "rMQ8Hrp6JPnI"
      },
      "execution_count": 18,
      "outputs": []
    },
    {
      "cell_type": "code",
      "source": [
        "model.fit(x=x, y=y, epochs=10)"
      ],
      "metadata": {
        "colab": {
          "base_uri": "https://localhost:8080/"
        },
        "id": "AtW0VTV9Jf76",
        "outputId": "b51f3e0a-5edd-4459-c69e-5734b5b16b35"
      },
      "execution_count": 19,
      "outputs": [
        {
          "output_type": "stream",
          "name": "stdout",
          "text": [
            "Epoch 1/10\n",
            "4/4 [==============================] - 0s 3ms/step - loss: 54.4062\n",
            "Epoch 2/10\n",
            "4/4 [==============================] - 0s 3ms/step - loss: 12.1633\n",
            "Epoch 3/10\n",
            "4/4 [==============================] - 0s 3ms/step - loss: 2.1789\n",
            "Epoch 4/10\n",
            "4/4 [==============================] - 0s 3ms/step - loss: 0.9987\n",
            "Epoch 5/10\n",
            "4/4 [==============================] - 0s 3ms/step - loss: 0.8290\n",
            "Epoch 6/10\n",
            "4/4 [==============================] - 0s 3ms/step - loss: 0.7558\n",
            "Epoch 7/10\n",
            "4/4 [==============================] - 0s 3ms/step - loss: 0.7569\n",
            "Epoch 8/10\n",
            "4/4 [==============================] - 0s 3ms/step - loss: 0.7571\n",
            "Epoch 9/10\n",
            "4/4 [==============================] - 0s 3ms/step - loss: 0.7561\n",
            "Epoch 10/10\n",
            "4/4 [==============================] - 0s 3ms/step - loss: 0.7625\n"
          ]
        },
        {
          "output_type": "execute_result",
          "data": {
            "text/plain": [
              "<keras.callbacks.History at 0x7fcc53bfe5b0>"
            ]
          },
          "metadata": {},
          "execution_count": 19
        }
      ]
    },
    {
      "cell_type": "code",
      "source": [
        "from sklearn.metrics import mean_absolute_error"
      ],
      "metadata": {
        "id": "UeyhWmd5Jmsj"
      },
      "execution_count": 20,
      "outputs": []
    },
    {
      "cell_type": "code",
      "source": [
        "yhat = model.predict(x).reshape(-1)\n",
        "yhat.shape"
      ],
      "metadata": {
        "colab": {
          "base_uri": "https://localhost:8080/"
        },
        "id": "PwMSsY1KJ-36",
        "outputId": "745a14a3-9e7c-4e4d-8858-cd9556605b13"
      },
      "execution_count": 25,
      "outputs": [
        {
          "output_type": "stream",
          "name": "stdout",
          "text": [
            "4/4 [==============================] - 0s 5ms/step\n"
          ]
        },
        {
          "output_type": "execute_result",
          "data": {
            "text/plain": [
              "(100,)"
            ]
          },
          "metadata": {},
          "execution_count": 25
        }
      ]
    },
    {
      "cell_type": "code",
      "source": [
        "mean_absolute_error(y, yhat)"
      ],
      "metadata": {
        "colab": {
          "base_uri": "https://localhost:8080/"
        },
        "id": "dLNNRJaJKCBv",
        "outputId": "2f4cd9a5-418c-4191-d2b5-e9328a439b4f"
      },
      "execution_count": 26,
      "outputs": [
        {
          "output_type": "execute_result",
          "data": {
            "text/plain": [
              "0.6868708647681643"
            ]
          },
          "metadata": {},
          "execution_count": 26
        }
      ]
    },
    {
      "cell_type": "code",
      "source": [
        "print(f'Plot scattered data and fake line.')\n",
        "plt.scatter(x, y)\n",
        "plt.plot(x, yhat, 'green')\n",
        "plt.title(f'neural network prediction (green)')\n",
        "plt.show()"
      ],
      "metadata": {
        "colab": {
          "base_uri": "https://localhost:8080/",
          "height": 299
        },
        "id": "zgJSRZh9KICs",
        "outputId": "434d1700-f3ae-4887-d431-832cb9fa1f75"
      },
      "execution_count": 28,
      "outputs": [
        {
          "output_type": "stream",
          "name": "stdout",
          "text": [
            "Plot scattered data and fake line.\n"
          ]
        },
        {
          "output_type": "display_data",
          "data": {
            "text/plain": [
              "<Figure size 432x288 with 1 Axes>"
            ],
            "image/png": "[encoded data removed]"
          },
          "metadata": {
            "needs_background": "light"
          }
        }
      ]
    },
    {
      "cell_type": "markdown",
      "source": [
        "How to access the weights? We use `model.weights`."
      ],
      "metadata": {
        "id": "ok5Z0rZbKeTE"
      }
    },
    {
      "cell_type": "code",
      "source": [
        "model.weights"
      ],
      "metadata": {
        "colab": {
          "base_uri": "https://localhost:8080/"
        },
        "id": "JkB6ukqUKPkg",
        "outputId": "efd47fba-170f-4568-c8fe-dca919877038"
      },
      "execution_count": 30,
      "outputs": [
        {
          "output_type": "execute_result",
          "data": {
            "text/plain": [
              "[<tf.Variable 'layer1/kernel:0' shape=(1, 1) dtype=float32, numpy=array([[1.9799683]], dtype=float32)>]"
            ]
          },
          "metadata": {},
          "execution_count": 30
        }
      ]
    },
    {
      "cell_type": "markdown",
      "source": [
        "This is a list because it has `[]` around it. To retrieve the content, we use `[0]`. Then we convert it into `numpy` array by adding `.numpy()` behind it."
      ],
      "metadata": {
        "id": "VGPTlkabKmiw"
      }
    },
    {
      "cell_type": "code",
      "source": [
        "model.weights[0].numpy()"
      ],
      "metadata": {
        "colab": {
          "base_uri": "https://localhost:8080/"
        },
        "id": "5vxt8DT6KdvO",
        "outputId": "ea617001-97b7-42cf-9985-ef9e3d3e7464"
      },
      "execution_count": 38,
      "outputs": [
        {
          "output_type": "execute_result",
          "data": {
            "text/plain": [
              "array([[1.9799683]], dtype=float32)"
            ]
          },
          "metadata": {},
          "execution_count": 38
        }
      ]
    },
    {
      "cell_type": "markdown",
      "source": [
        "Hence, we know that there is one parameter and the numerical value is presented."
      ],
      "metadata": {
        "id": "qJED2tMsKsSc"
      }
    },
    {
      "cell_type": "code",
      "source": [],
      "metadata": {
        "id": "KaX8DSr1K_rn"
      },
      "execution_count": null,
      "outputs": []
    }
  ]
}