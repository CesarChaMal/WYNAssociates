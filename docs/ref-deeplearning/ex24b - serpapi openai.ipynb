{
  "nbformat": 4,
  "nbformat_minor": 0,
  "metadata": {
    "colab": {
      "provenance": []
    },
    "kernelspec": {
      "name": "python3",
      "display_name": "Python 3"
    },
    "language_info": {
      "name": "python"
    }
  },
  "cells": [
    {
      "cell_type": "code",
      "source": [
        "pip install langchain openai google-search-results"
      ],
      "metadata": {
        "id": "wxCrkL4vg4m6"
      },
      "execution_count": null,
      "outputs": []
    },
    {
      "cell_type": "code",
      "source": [
        "from langchain.agents import load_tools\n",
        "from langchain.agents import initialize_agent\n",
        "from langchain.agents import AgentType\n",
        "from langchain.llms import OpenAI as l_OpenAI"
      ],
      "metadata": {
        "id": "CeE8-wVchBLl"
      },
      "execution_count": 18,
      "outputs": []
    },
    {
      "cell_type": "code",
      "source": [
        "SERPAPI_API_KEY = \"xxx\"\n",
        "OPENAI_API_KEY = \"sk-xxx\""
      ],
      "metadata": {
        "id": "JKAm6DMbg70L"
      },
      "execution_count": 19,
      "outputs": []
    },
    {
      "cell_type": "code",
      "source": [
        "def call_langchain(prompt: str) -> str:\n",
        "    llm = l_OpenAI(temperature=0, openai_api_key=OPENAI_API_KEY)\n",
        "    tools = load_tools([\"serpapi\", \"llm-math\"], llm=llm, serpapi_api_key=SERPAPI_API_KEY)\n",
        "    agent = initialize_agent(\n",
        "        tools, llm, agent=AgentType.ZERO_SHOT_REACT_DESCRIPTION, verbose=True\n",
        "    )\n",
        "    output = agent.run(prompt)\n",
        "\n",
        "    return output"
      ],
      "metadata": {
        "id": "qNAUcv-Ig4Aa"
      },
      "execution_count": 20,
      "outputs": []
    },
    {
      "cell_type": "code",
      "source": [
        "call_langchain(\"What is the capital of France?\")"
      ],
      "metadata": {
        "colab": {
          "base_uri": "https://localhost:8080/",
          "height": 330
        },
        "id": "rwj9p39_hOmc",
        "outputId": "f6944776-4e02-4616-d40e-e73827927704"
      },
      "execution_count": 21,
      "outputs": [
        {
          "output_type": "stream",
          "name": "stdout",
          "text": [
            "\n",
            "\n",
            "\u001b[1m> Entering new AgentExecutor chain...\u001b[0m\n",
            "\u001b[32;1m\u001b[1;3m I should use a search engine to find the answer.\n",
            "Action: Search\n",
            "Action Input: \"capital of France\"\u001b[0m\n",
            "Observation: \u001b[36;1m\u001b[1;3mParis\u001b[0m\n",
            "Thought:\u001b[32;1m\u001b[1;3m I should double check to make sure Paris is the correct answer.\n",
            "Action: Search\n",
            "Action Input: \"Is Paris the capital of France?\"\u001b[0m\n",
            "Observation: \u001b[36;1m\u001b[1;3m[{'title': 'Eiffel Tower', 'link': 'https://www.google.com/search?sca_esv=30d92769edd155df&gl=us&hl=en&q=Eiffel+Tower&stick=H4sIAAAAAAAAAONgFuLQz9U3MC0syVICs4yyLAy1FLOTrfRz8pMTSzLz8-AMq8SSkqLEZBCzeBErj2tmWlpqjkJIfnlqEQBgDSPBSAAAAA&sa=X&ved=2ahUKEwj559Kj_fmDAxUPKzQIHcBdBCAQ2coHegQIdRAB', 'description': 'Historical landmark', 'rating': 4.7, 'reviews': 389000, 'price': '$12.79', 'extracted_price': 12.79, 'thumbnail': 'https://serpapi.com/searches/65b31511b7b1cca0b0200593/images/007c7294aac02bec2f7654a5f344582ebd2195e213851b3a6173def0f4984a06.jpeg'}, {'title': 'Louvre Museum', 'link': 'https://www.google.com/search?sca_esv=30d92769edd155df&gl=us&hl=en&q=Louvre+Museum&stick=H4sIAAAAAAAAAONgFuLQz9U3MC0syVICs0zSU4q0FLOTrfRz8pMTSzLz8-AMq8SSkqLEZBCzeBErr09-aVlRqoJvaXFqaS4Ap4xWCUkAAAA&sa=X&ved=2ahUKEwj559Kj_fmDAxUPKzQIHcBdBCAQ2coHegQIdhAB', 'description': 'Art museum', 'rating': 4.7, 'reviews': 308000, 'price': '$23.85', 'extracted_price': 23.85, 'thumbnail': 'https://serpapi.com/searches/65b31511b7b1cca0b0200593/images/007c7294aac02bec2f7654a5f344582e51f0d7787eec0220754f0e2549d916cc.jpeg'}, {'title': 'Cathédrale Notre-Dame de Paris', 'link': 'https://www.google.com/search?sca_esv=30d92769edd155df&gl=us&hl=en&q=Cath%C3%A9drale+Notre-Dame+de+Paris&stick=H4sIAAAAAAAAAONgFuLQz9U3MC0syVICs9JLKjK0FLOTrfRz8pMTSzLz8-AMq8SSkqLEZBCzeBGrvHNiScbhlSlFiTmpCn75JUWpui6JuakKKakKAYlFmcUArBfj3FsAAAA&sa=X&ved=2ahUKEwj559Kj_fmDAxUPKzQIHcBdBCAQ2coHegQIaxAB', 'description': 'Cathedral', 'rating': 4.7, 'reviews': 49000, 'thumbnail': 'https://serpapi.com/searches/65b31511b7b1cca0b0200593/images/007c7294aac02bec2f7654a5f344582e0115c30e96f212df8875be42c511a58b.jpeg'}]\u001b[0m\n",
            "Thought:\u001b[32;1m\u001b[1;3m Based on the search results, it seems like Paris is indeed the capital of France.\n",
            "Final Answer: Paris\u001b[0m\n",
            "\n",
            "\u001b[1m> Finished chain.\u001b[0m\n"
          ]
        },
        {
          "output_type": "execute_result",
          "data": {
            "text/plain": [
              "'Paris'"
            ],
            "application/vnd.google.colaboratory.intrinsic+json": {
              "type": "string"
            }
          },
          "metadata": {},
          "execution_count": 21
        }
      ]
    },
    {
      "cell_type": "code",
      "source": [],
      "metadata": {
        "id": "KIo15qXahPZs"
      },
      "execution_count": 21,
      "outputs": []
    }
  ]
}