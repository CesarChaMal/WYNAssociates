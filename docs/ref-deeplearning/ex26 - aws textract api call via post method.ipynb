{
  "nbformat": 4,
  "nbformat_minor": 0,
  "metadata": {
    "colab": {
      "provenance": []
    },
    "kernelspec": {
      "name": "python3",
      "display_name": "Python 3"
    },
    "language_info": {
      "name": "python"
    }
  },
  "cells": [
    {
      "cell_type": "code",
      "source": [
        "import requests"
      ],
      "metadata": {
        "id": "00ShyssBEOTd"
      },
      "execution_count": 9,
      "outputs": []
    },
    {
      "cell_type": "code",
      "source": [
        "headers = {'Content-Type': 'application/json'}\n",
        "url = \"https://2tsig211e0.execute-api.us-east-1.amazonaws.com/my_textract\"\n",
        "payload = {\n",
        "    \"image\": \"/9j/4AAQSkZJRgABAQEAKAAoAAD/2wBDAAgGBgcGBQgHBwcJCQgKDBQNDAsLDBkSEw8UHRofHh0aHBwgJC4nICIsIxwcKDcpLDAxNDQ0Hyc5PTgyPC4zNDL/2wBDAQkJCQwLDBgNDRgyIRwhMjIyMjIyMjIyMjIyMjIyMjIyMjIyMjIyMjIyMjIyMjIyMjIyMjIyMjIyMjIyMjIyMjL/wAARCAAMABADASIAAhEBAxEB/8QAHwAAAQUBAQEBAQEAAAAAAAAAAAECAwQFBgcICQoL/8QAtRAAAgEDAwIEAwUFBAQAAAF9AQIDAAQRBRIhMUEGE1FhByJxFDKBkaEII0KxwRVS0fAkM2JyggkKFhcYGRolJicoKSo0NTY3ODk6Q0RFRkdISUpTVFVWV1hZWmNkZWZnaGlqc3R1dnd4eXqDhIWGh4iJipKTlJWWl5iZmqKjpKWmp6ipqrKztLW2t7i5usLDxMXGx8jJytLT1NXW19jZ2uHi4+Tl5ufo6erx8vP09fb3+Pn6/8QAHwEAAwEBAQEBAQEBAQAAAAAAAAECAwQFBgcICQoL/8QAtREAAgECBAQDBAcFBAQAAQJ3AAECAxEEBSExBhJBUQdhcRMiMoEIFEKRobHBCSMzUvAVYnLRChYkNOEl8RcYGRomJygpKjU2Nzg5OkNERUZHSElKU1RVVldYWVpjZGVmZ2hpanN0dXZ3eHl6goOEhYaHiImKkpOUlZaXmJmaoqOkpaanqKmqsrO0tba3uLm6wsPExcbHyMnK0tPU1dbX2Nna4uPk5ebn6Onq8vP09fb3+Pn6/9oADAMBAAIRAxEAPwD0fSfGmpz3kVjd6R5shlAkltTLIFR5njVuItoxsJbcy8DIycgWrXxNqt9qemW4sLW3aWV0u7eSd/MiUIrDrEMtyenynHDHORvf2Fo/2kXP9lWPnrIZRL9nTcHJyWzjOSe/WiHQtIt4444NKsYkjlE6KluihZAMBwAOGx360Af/2Q==\"\n",
        "}\n",
        "response = requests.post(url, json=payload, headers=headers)"
      ],
      "metadata": {
        "id": "DYlY-wznEO3P"
      },
      "execution_count": 10,
      "outputs": []
    },
    {
      "cell_type": "code",
      "source": [
        "response.content"
      ],
      "metadata": {
        "colab": {
          "base_uri": "https://localhost:8080/"
        },
        "id": "1RFazvGIEP8X",
        "outputId": "f4347025-3df5-4e0f-e628-681cfc24875a"
      },
      "execution_count": 11,
      "outputs": [
        {
          "output_type": "execute_result",
          "data": {
            "text/plain": [
              "b'{\"statusCode\": 200, \"body\": \"[{\\\\\"BlockType\\\\\": \\\\\"PAGE\\\\\", \\\\\"Geometry\\\\\": {\\\\\"BoundingBox\\\\\": {\\\\\"Width\\\\\": 1.0, \\\\\"Height\\\\\": 1.0, \\\\\"Left\\\\\": 0.0, \\\\\"Top\\\\\": 0.0}, \\\\\"Polygon\\\\\": [{\\\\\"X\\\\\": 0.0, \\\\\"Y\\\\\": 0.0}, {\\\\\"X\\\\\": 1.0, \\\\\"Y\\\\\": 0.00018473948875907809}, {\\\\\"X\\\\\": 1.0, \\\\\"Y\\\\\": 1.0}, {\\\\\"X\\\\\": 9.063508332474157e-05, \\\\\"Y\\\\\": 1.0}]}, \\\\\"Id\\\\\": \\\\\"63f324fa-5542-4085-9986-2a3af8c44daa\\\\\", \\\\\"Relationships\\\\\": [{\\\\\"Type\\\\\": \\\\\"CHILD\\\\\", \\\\\"Ids\\\\\": [\\\\\"1f6b1b98-9140-4ad5-8334-922f2494878d\\\\\"]}]}, {\\\\\"BlockType\\\\\": \\\\\"LINE\\\\\", \\\\\"Confidence\\\\\": 98.47766876220703, \\\\\"Text\\\\\": \\\\\"test\\\\\", \\\\\"Geometry\\\\\": {\\\\\"BoundingBox\\\\\": {\\\\\"Width\\\\\": 0.8752949833869934, \\\\\"Height\\\\\": 0.6393251419067383, \\\\\"Left\\\\\": 0.0, \\\\\"Top\\\\\": 0.16960811614990234}, \\\\\"Polygon\\\\\": [{\\\\\"X\\\\\": 0.0, \\\\\"Y\\\\\": 0.16960811614990234}, {\\\\\"X\\\\\": 0.8747026324272156, \\\\\"Y\\\\\": 0.17200690507888794}, {\\\\\"X\\\\\": 0.8752949833869934, \\\\\"Y\\\\\": 0.8089332580566406}, {\\\\\"X\\\\\": 0.0, \\\\\"Y\\\\\": 0.806593120098114}]}, \\\\\"Id\\\\\": \\\\\"1f6b1b98-9140-4ad5-8334-922f2494878d\\\\\", \\\\\"Relationships\\\\\": [{\\\\\"Type\\\\\": \\\\\"CHILD\\\\\", \\\\\"Ids\\\\\": [\\\\\"81a3464c-053e-4bc6-a71b-9f39b0543533\\\\\"]}]}, {\\\\\"BlockType\\\\\": \\\\\"WORD\\\\\", \\\\\"Confidence\\\\\": 98.47766876220703, \\\\\"Text\\\\\": \\\\\"test\\\\\", \\\\\"TextType\\\\\": \\\\\"PRINTED\\\\\", \\\\\"Geometry\\\\\": {\\\\\"BoundingBox\\\\\": {\\\\\"Width\\\\\": 0.8752949833869934, \\\\\"Height\\\\\": 0.6393251419067383, \\\\\"Left\\\\\": 0.0, \\\\\"Top\\\\\": 0.16960811614990234}, \\\\\"Polygon\\\\\": [{\\\\\"X\\\\\": 0.0, \\\\\"Y\\\\\": 0.16960811614990234}, {\\\\\"X\\\\\": 0.8747026324272156, \\\\\"Y\\\\\": 0.17200690507888794}, {\\\\\"X\\\\\": 0.8752949833869934, \\\\\"Y\\\\\": 0.8089332580566406}, {\\\\\"X\\\\\": 0.0, \\\\\"Y\\\\\": 0.806593120098114}]}, \\\\\"Id\\\\\": \\\\\"81a3464c-053e-4bc6-a71b-9f39b0543533\\\\\"}]\"}'"
            ]
          },
          "metadata": {},
          "execution_count": 11
        }
      ]
    },
    {
      "cell_type": "code",
      "source": [
        "# The provided bytes data seems to be a JSON string.\n",
        "# We can convert it back to a dictionary using the json.loads method.\n",
        "\n",
        "import json\n",
        "\n",
        "# The byte data provided\n",
        "byte_data = response.content\n",
        "\n",
        "# Decoding the byte data to string\n",
        "decoded_string = byte_data.decode('utf-8')\n",
        "\n",
        "# Converting the JSON string to a dictionary\n",
        "dict_data = json.loads(decoded_string)\n",
        "\n",
        "print(dict_data)"
      ],
      "metadata": {
        "colab": {
          "base_uri": "https://localhost:8080/"
        },
        "id": "CR3T-MaBEQyj",
        "outputId": "3a600804-d77e-4ea5-d5af-d13af6ae12cf"
      },
      "execution_count": 12,
      "outputs": [
        {
          "output_type": "stream",
          "name": "stdout",
          "text": [
            "{'statusCode': 200, 'body': '[{\"BlockType\": \"PAGE\", \"Geometry\": {\"BoundingBox\": {\"Width\": 1.0, \"Height\": 1.0, \"Left\": 0.0, \"Top\": 0.0}, \"Polygon\": [{\"X\": 0.0, \"Y\": 0.0}, {\"X\": 1.0, \"Y\": 0.00018473948875907809}, {\"X\": 1.0, \"Y\": 1.0}, {\"X\": 9.063508332474157e-05, \"Y\": 1.0}]}, \"Id\": \"63f324fa-5542-4085-9986-2a3af8c44daa\", \"Relationships\": [{\"Type\": \"CHILD\", \"Ids\": [\"1f6b1b98-9140-4ad5-8334-922f2494878d\"]}]}, {\"BlockType\": \"LINE\", \"Confidence\": 98.47766876220703, \"Text\": \"test\", \"Geometry\": {\"BoundingBox\": {\"Width\": 0.8752949833869934, \"Height\": 0.6393251419067383, \"Left\": 0.0, \"Top\": 0.16960811614990234}, \"Polygon\": [{\"X\": 0.0, \"Y\": 0.16960811614990234}, {\"X\": 0.8747026324272156, \"Y\": 0.17200690507888794}, {\"X\": 0.8752949833869934, \"Y\": 0.8089332580566406}, {\"X\": 0.0, \"Y\": 0.806593120098114}]}, \"Id\": \"1f6b1b98-9140-4ad5-8334-922f2494878d\", \"Relationships\": [{\"Type\": \"CHILD\", \"Ids\": [\"81a3464c-053e-4bc6-a71b-9f39b0543533\"]}]}, {\"BlockType\": \"WORD\", \"Confidence\": 98.47766876220703, \"Text\": \"test\", \"TextType\": \"PRINTED\", \"Geometry\": {\"BoundingBox\": {\"Width\": 0.8752949833869934, \"Height\": 0.6393251419067383, \"Left\": 0.0, \"Top\": 0.16960811614990234}, \"Polygon\": [{\"X\": 0.0, \"Y\": 0.16960811614990234}, {\"X\": 0.8747026324272156, \"Y\": 0.17200690507888794}, {\"X\": 0.8752949833869934, \"Y\": 0.8089332580566406}, {\"X\": 0.0, \"Y\": 0.806593120098114}]}, \"Id\": \"81a3464c-053e-4bc6-a71b-9f39b0543533\"}]'}\n"
          ]
        }
      ]
    },
    {
      "cell_type": "code",
      "source": [
        "import json\n",
        "import requests\n",
        "from typing import Dict, Any\n",
        "\n",
        "def post_request_and_parse_response(url: str, payload: Dict[str, Any]) -> Dict[str, Any]:\n",
        "    \"\"\"\n",
        "    Sends a POST request to the specified URL with the given payload,\n",
        "    then parses the byte response to a dictionary.\n",
        "\n",
        "    Args:\n",
        "    url (str): The URL to which the POST request is sent.\n",
        "    payload (Dict[str, Any]): The payload to send in the POST request.\n",
        "\n",
        "    Returns:\n",
        "    Dict[str, Any]: The parsed dictionary from the response.\n",
        "    \"\"\"\n",
        "    # Set headers for the POST request\n",
        "    headers = {'Content-Type': 'application/json'}\n",
        "\n",
        "    # Send the POST request and get the response\n",
        "    response = requests.post(url, json=payload, headers=headers)\n",
        "\n",
        "    # Extract the byte data from the response\n",
        "    byte_data = response.content\n",
        "\n",
        "    # Decode the byte data to a string\n",
        "    decoded_string = byte_data.decode('utf-8')\n",
        "\n",
        "    # Convert the JSON string to a dictionary\n",
        "    dict_data = json.loads(decoded_string)\n",
        "\n",
        "    return dict_data\n"
      ],
      "metadata": {
        "id": "KPgM3Z87ER9r"
      },
      "execution_count": 13,
      "outputs": []
    },
    {
      "cell_type": "code",
      "source": [
        "# Example usage\n",
        "url = \"https://XXX.execute-api.us-east-1.amazonaws.com/my_textract\"\n",
        "payload = {\n",
        "    \"image\": None\n",
        "}\n",
        "result_dict = post_request_and_parse_response(url, payload)\n",
        "print(result_dict)"
      ],
      "metadata": {
        "colab": {
          "base_uri": "https://localhost:8080/"
        },
        "id": "bnWTiUBoFe-H",
        "outputId": "5ab83a23-9031-4f82-f157-0cfc6e8b3d51"
      },
      "execution_count": 16,
      "outputs": [
        {
          "output_type": "stream",
          "name": "stdout",
          "text": [
            "{'statusCode': 200, 'body': '[{\"BlockType\": \"PAGE\", \"Geometry\": {\"BoundingBox\": {\"Width\": 1.0, \"Height\": 1.0, \"Left\": 0.0, \"Top\": 0.0}, \"Polygon\": [{\"X\": 0.0, \"Y\": 0.0}, {\"X\": 1.0, \"Y\": 0.00018473948875907809}, {\"X\": 1.0, \"Y\": 1.0}, {\"X\": 9.063508332474157e-05, \"Y\": 1.0}]}, \"Id\": \"a14d58ec-4ca3-4198-ab16-f316c21e143b\", \"Relationships\": [{\"Type\": \"CHILD\", \"Ids\": [\"74fcf3e2-3512-4110-87cf-05c1f3291a41\"]}]}, {\"BlockType\": \"LINE\", \"Confidence\": 98.47766876220703, \"Text\": \"test\", \"Geometry\": {\"BoundingBox\": {\"Width\": 0.8752949833869934, \"Height\": 0.6393251419067383, \"Left\": 0.0, \"Top\": 0.16960811614990234}, \"Polygon\": [{\"X\": 0.0, \"Y\": 0.16960811614990234}, {\"X\": 0.8747026324272156, \"Y\": 0.17200690507888794}, {\"X\": 0.8752949833869934, \"Y\": 0.8089332580566406}, {\"X\": 0.0, \"Y\": 0.806593120098114}]}, \"Id\": \"74fcf3e2-3512-4110-87cf-05c1f3291a41\", \"Relationships\": [{\"Type\": \"CHILD\", \"Ids\": [\"a1c15b47-4e54-4793-83f6-1ebb52a867cb\"]}]}, {\"BlockType\": \"WORD\", \"Confidence\": 98.47766876220703, \"Text\": \"test\", \"TextType\": \"PRINTED\", \"Geometry\": {\"BoundingBox\": {\"Width\": 0.8752949833869934, \"Height\": 0.6393251419067383, \"Left\": 0.0, \"Top\": 0.16960811614990234}, \"Polygon\": [{\"X\": 0.0, \"Y\": 0.16960811614990234}, {\"X\": 0.8747026324272156, \"Y\": 0.17200690507888794}, {\"X\": 0.8752949833869934, \"Y\": 0.8089332580566406}, {\"X\": 0.0, \"Y\": 0.806593120098114}]}, \"Id\": \"a1c15b47-4e54-4793-83f6-1ebb52a867cb\"}]'}\n"
          ]
        }
      ]
    },
    {
      "cell_type": "code",
      "source": [
        "import json\n",
        "from typing import Dict, Any, List\n",
        "\n",
        "def extract_line_items(input_data: Dict[str, Any]) -> List[Dict[str, Any]]:\n",
        "    \"\"\"\n",
        "    Extracts items with \"BlockType\": \"LINE\" from the provided JSON data.\n",
        "\n",
        "    Args:\n",
        "    input_data (Dict[str, Any]): The input JSON data as a dictionary.\n",
        "\n",
        "    Returns:\n",
        "    List[Dict[str, Any]]: A list of dictionaries with the extracted data.\n",
        "    \"\"\"\n",
        "    # Initialize an empty list to hold the extracted line items\n",
        "    line_items: List[Dict[str, Any]] = []\n",
        "\n",
        "    # Get the list of items from the 'body' key in the input data\n",
        "    body_items = json.loads(input_data.get(\"body\", \"[]\"))\n",
        "\n",
        "    # Iterate through each item in the body\n",
        "    for item in body_items:\n",
        "        # Check if the BlockType of the item is 'LINE'\n",
        "        if item.get(\"BlockType\") == \"LINE\":\n",
        "            # Add the item to the line_items list\n",
        "            line_items.append(item)\n",
        "\n",
        "    return line_items\n",
        "\n"
      ],
      "metadata": {
        "id": "CA4ShoIBFfnU"
      },
      "execution_count": 22,
      "outputs": []
    },
    {
      "cell_type": "code",
      "source": [
        "# Example usage\n",
        "output_data = extract_line_items(result_dict)\n",
        "print(output_data)\n"
      ],
      "metadata": {
        "colab": {
          "base_uri": "https://localhost:8080/"
        },
        "id": "Pd-ZrwFbKuTp",
        "outputId": "d840679a-8f97-4928-8b03-692f23a88fc3"
      },
      "execution_count": 24,
      "outputs": [
        {
          "output_type": "stream",
          "name": "stdout",
          "text": [
            "[{'BlockType': 'LINE', 'Confidence': 98.47766876220703, 'Text': 'test', 'Geometry': {'BoundingBox': {'Width': 0.8752949833869934, 'Height': 0.6393251419067383, 'Left': 0.0, 'Top': 0.16960811614990234}, 'Polygon': [{'X': 0.0, 'Y': 0.16960811614990234}, {'X': 0.8747026324272156, 'Y': 0.17200690507888794}, {'X': 0.8752949833869934, 'Y': 0.8089332580566406}, {'X': 0.0, 'Y': 0.806593120098114}]}, 'Id': '74fcf3e2-3512-4110-87cf-05c1f3291a41', 'Relationships': [{'Type': 'CHILD', 'Ids': ['a1c15b47-4e54-4793-83f6-1ebb52a867cb']}]}]\n"
          ]
        }
      ]
    },
    {
      "cell_type": "code",
      "source": [
        "import pandas as pd"
      ],
      "metadata": {
        "id": "Wb3aRCUqNZTS"
      },
      "execution_count": 25,
      "outputs": []
    },
    {
      "cell_type": "code",
      "source": [
        "pd.DataFrame(output_data)"
      ],
      "metadata": {
        "colab": {
          "base_uri": "https://localhost:8080/",
          "height": 81
        },
        "id": "9_96DuVjOHL8",
        "outputId": "76960212-1ea2-4d32-bcfe-454e23a7a766"
      },
      "execution_count": 32,
      "outputs": [
        {
          "output_type": "execute_result",
          "data": {
            "text/plain": [
              "  BlockType  Confidence  Text  \\\n",
              "0      LINE   98.477669  test   \n",
              "\n",
              "                                            Geometry  \\\n",
              "0  {'BoundingBox': {'Width': 0.8752949833869934, ...   \n",
              "\n",
              "                                     Id  \\\n",
              "0  74fcf3e2-3512-4110-87cf-05c1f3291a41   \n",
              "\n",
              "                                       Relationships  \n",
              "0  [{'Type': 'CHILD', 'Ids': ['a1c15b47-4e54-4793...  "
            ],
            "text/html": [
              "\n",
              "  <div id=\"df-1c64c84d-8230-4329-b222-36b2356d2f48\" class=\"colab-df-container\">\n",
              "    <div>\n",
              "<style scoped>\n",
              "    .dataframe tbody tr th:only-of-type {\n",
              "        vertical-align: middle;\n",
              "    }\n",
              "\n",
              "    .dataframe tbody tr th {\n",
              "        vertical-align: top;\n",
              "    }\n",
              "\n",
              "    .dataframe thead th {\n",
              "        text-align: right;\n",
              "    }\n",
              "</style>\n",
              "<table border=\"1\" class=\"dataframe\">\n",
              "  <thead>\n",
              "    <tr style=\"text-align: right;\">\n",
              "      <th></th>\n",
              "      <th>BlockType</th>\n",
              "      <th>Confidence</th>\n",
              "      <th>Text</th>\n",
              "      <th>Geometry</th>\n",
              "      <th>Id</th>\n",
              "      <th>Relationships</th>\n",
              "    </tr>\n",
              "  </thead>\n",
              "  <tbody>\n",
              "    <tr>\n",
              "      <th>0</th>\n",
              "      <td>LINE</td>\n",
              "      <td>98.477669</td>\n",
              "      <td>test</td>\n",
              "      <td>{'BoundingBox': {'Width': 0.8752949833869934, ...</td>\n",
              "      <td>74fcf3e2-3512-4110-87cf-05c1f3291a41</td>\n",
              "      <td>[{'Type': 'CHILD', 'Ids': ['a1c15b47-4e54-4793...</td>\n",
              "    </tr>\n",
              "  </tbody>\n",
              "</table>\n",
              "</div>\n",
              "    <div class=\"colab-df-buttons\">\n",
              "\n",
              "  <div class=\"colab-df-container\">\n",
              "    <button class=\"colab-df-convert\" onclick=\"convertToInteractive('df-1c64c84d-8230-4329-b222-36b2356d2f48')\"\n",
              "            title=\"Convert this dataframe to an interactive table.\"\n",
              "            style=\"display:none;\">\n",
              "\n",
              "  <svg xmlns=\"http://www.w3.org/2000/svg\" height=\"24px\" viewBox=\"0 -960 960 960\">\n",
              "    <path d=\"M120-120v-720h720v720H120Zm60-500h600v-160H180v160Zm220 220h160v-160H400v160Zm0 220h160v-160H400v160ZM180-400h160v-160H180v160Zm440 0h160v-160H620v160ZM180-180h160v-160H180v160Zm440 0h160v-160H620v160Z\"/>\n",
              "  </svg>\n",
              "    </button>\n",
              "\n",
              "  <style>\n",
              "    .colab-df-container {\n",
              "      display:flex;\n",
              "      gap: 12px;\n",
              "    }\n",
              "\n",
              "    .colab-df-convert {\n",
              "      background-color: #E8F0FE;\n",
              "      border: none;\n",
              "      border-radius: 50%;\n",
              "      cursor: pointer;\n",
              "      display: none;\n",
              "      fill: #1967D2;\n",
              "      height: 32px;\n",
              "      padding: 0 0 0 0;\n",
              "      width: 32px;\n",
              "    }\n",
              "\n",
              "    .colab-df-convert:hover {\n",
              "      background-color: #E2EBFA;\n",
              "      box-shadow: 0px 1px 2px rgba(60, 64, 67, 0.3), 0px 1px 3px 1px rgba(60, 64, 67, 0.15);\n",
              "      fill: #174EA6;\n",
              "    }\n",
              "\n",
              "    .colab-df-buttons div {\n",
              "      margin-bottom: 4px;\n",
              "    }\n",
              "\n",
              "    [theme=dark] .colab-df-convert {\n",
              "      background-color: #3B4455;\n",
              "      fill: #D2E3FC;\n",
              "    }\n",
              "\n",
              "    [theme=dark] .colab-df-convert:hover {\n",
              "      background-color: #434B5C;\n",
              "      box-shadow: 0px 1px 3px 1px rgba(0, 0, 0, 0.15);\n",
              "      filter: drop-shadow(0px 1px 2px rgba(0, 0, 0, 0.3));\n",
              "      fill: #FFFFFF;\n",
              "    }\n",
              "  </style>\n",
              "\n",
              "    <script>\n",
              "      const buttonEl =\n",
              "        document.querySelector('#df-1c64c84d-8230-4329-b222-36b2356d2f48 button.colab-df-convert');\n",
              "      buttonEl.style.display =\n",
              "        google.colab.kernel.accessAllowed ? 'block' : 'none';\n",
              "\n",
              "      async function convertToInteractive(key) {\n",
              "        const element = document.querySelector('#df-1c64c84d-8230-4329-b222-36b2356d2f48');\n",
              "        const dataTable =\n",
              "          await google.colab.kernel.invokeFunction('convertToInteractive',\n",
              "                                                    [key], {});\n",
              "        if (!dataTable) return;\n",
              "\n",
              "        const docLinkHtml = 'Like what you see? Visit the ' +\n",
              "          '<a target=\"_blank\" href=https://colab.research.google.com/notebooks/data_table.ipynb>data table notebook</a>'\n",
              "          + ' to learn more about interactive tables.';\n",
              "        element.innerHTML = '';\n",
              "        dataTable['output_type'] = 'display_data';\n",
              "        await google.colab.output.renderOutput(dataTable, element);\n",
              "        const docLink = document.createElement('div');\n",
              "        docLink.innerHTML = docLinkHtml;\n",
              "        element.appendChild(docLink);\n",
              "      }\n",
              "    </script>\n",
              "  </div>\n",
              "\n",
              "\n",
              "    </div>\n",
              "  </div>\n"
            ]
          },
          "metadata": {},
          "execution_count": 32
        }
      ]
    }
  ]
}