{
  "nbformat": 4,
  "nbformat_minor": 0,
  "metadata": {
    "colab": {
      "provenance": []
    },
    "kernelspec": {
      "name": "python3",
      "display_name": "Python 3"
    },
    "language_info": {
      "name": "python"
    }
  },
  "cells": [
    {
      "cell_type": "code",
      "execution_count": null,
      "metadata": {
        "id": "hSXC_5c-aBaO"
      },
      "outputs": [],
      "source": [
        "!pip install langchain openai google-search-results"
      ]
    },
    {
      "cell_type": "code",
      "source": [
        "from langchain.agents import load_tools\n",
        "from langchain.agents import initialize_agent\n",
        "from langchain.agents import AgentType\n",
        "from langchain.llms import OpenAI"
      ],
      "metadata": {
        "id": "6tVlLYTMaUVQ"
      },
      "execution_count": 2,
      "outputs": []
    },
    {
      "cell_type": "code",
      "source": [
        "import os\n",
        "os.environ[\"OPENAI_API_KEY\"] = \"ENTER API KEY HERE\"\n",
        "os.environ[\"SERPAPI_API_KEY\"] = \"ENTER API KEY HERE\""
      ],
      "metadata": {
        "id": "cn-Bed9NiO25"
      },
      "execution_count": 3,
      "outputs": []
    },
    {
      "cell_type": "code",
      "source": [
        "llm = OpenAI(temperature=0)\n",
        "tools = load_tools([\"serpapi\",\"llm-math\"], llm=llm)"
      ],
      "metadata": {
        "id": "y8yUZdqFgRp4"
      },
      "execution_count": 4,
      "outputs": []
    },
    {
      "cell_type": "code",
      "source": [
        "agent = initialize_agent(tools, llm, agent=AgentType.ZERO_SHOT_REACT_DESCRIPTION, verbose=True)"
      ],
      "metadata": {
        "id": "5pma5Xarj2ux"
      },
      "execution_count": 5,
      "outputs": []
    },
    {
      "cell_type": "code",
      "source": [
        "output = agent.run(\"Who is the best actor in 2023 oscar? What is his age raised to the .5 power?\")"
      ],
      "metadata": {
        "colab": {
          "base_uri": "https://localhost:8080/"
        },
        "id": "SzO17qGYy6uQ",
        "outputId": "c3fa52b6-7560-4b84-fb07-ffdc6a51ae8e"
      },
      "execution_count": 7,
      "outputs": [
        {
          "output_type": "stream",
          "name": "stdout",
          "text": [
            "\n",
            "\n",
            "\u001b[1m> Entering new  chain...\u001b[0m\n",
            "\u001b[32;1m\u001b[1;3m I need to find out who the best actor is and then calculate his age raised to the .5 power.\n",
            "Action: Search\n",
            "Action Input: Best actor 2023 oscar\u001b[0m\n",
            "Observation: \u001b[36;1m\u001b[1;3mBrendan Fraser\u001b[0m\n",
            "Thought:\u001b[32;1m\u001b[1;3m I need to find out Brendan Fraser's age\n",
            "Action: Search\n",
            "Action Input: Brendan Fraser age\u001b[0m\n",
            "Observation: \u001b[36;1m\u001b[1;3m54 years\u001b[0m\n",
            "Thought:\u001b[32;1m\u001b[1;3m I now need to calculate 54 raised to the .5 power\n",
            "Action: Calculator\n",
            "Action Input: 54^.5\u001b[0m\n",
            "Observation: \u001b[33;1m\u001b[1;3mAnswer: 7.3484692283495345\u001b[0m\n",
            "Thought:\u001b[32;1m\u001b[1;3m I now know the final answer\n",
            "Final Answer: Brendan Fraser, 54 years old, raised to the .5 power is 7.3484692283495345.\u001b[0m\n",
            "\n",
            "\u001b[1m> Finished chain.\u001b[0m\n"
          ]
        }
      ]
    },
    {
      "cell_type": "code",
      "source": [
        "output"
      ],
      "metadata": {
        "colab": {
          "base_uri": "https://localhost:8080/",
          "height": 36
        },
        "id": "ZWvr1l59zBhT",
        "outputId": "9df0a924-cf87-4e76-b9fb-54b0b9ad72ba"
      },
      "execution_count": 9,
      "outputs": [
        {
          "output_type": "execute_result",
          "data": {
            "text/plain": [
              "'Brendan Fraser, 54 years old, raised to the .5 power is 7.3484692283495345.'"
            ],
            "application/vnd.google.colaboratory.intrinsic+json": {
              "type": "string"
            }
          },
          "metadata": {},
          "execution_count": 9
        }
      ]
    },
    {
      "cell_type": "code",
      "source": [
        "output = agent.run(\"Who's Yiqiao Yin?\")"
      ],
      "metadata": {
        "colab": {
          "base_uri": "https://localhost:8080/"
        },
        "id": "QdPs2zX12F1s",
        "outputId": "a51e1de4-2c5e-4120-ce15-512561669079"
      },
      "execution_count": 11,
      "outputs": [
        {
          "output_type": "stream",
          "name": "stdout",
          "text": [
            "\n",
            "\n",
            "\u001b[1m> Entering new  chain...\u001b[0m\n",
            "\u001b[32;1m\u001b[1;3m I should search for this person.\n",
            "Action: Search\n",
            "Action Input: \"Yiqiao Yin\"\u001b[0m\n",
            "Observation: \u001b[36;1m\u001b[1;3mI am currently a Senior Data Scientist at an S&P 500 company LabCorp, developing AI-driven solutions for drug diagnostics, drug development, and financial ...\u001b[0m\n",
            "Thought:\u001b[32;1m\u001b[1;3m I now know the final answer.\n",
            "Final Answer: Yiqiao Yin is a Senior Data Scientist at an S&P 500 company LabCorp, developing AI-driven solutions for drug diagnostics, drug development, and financial services.\u001b[0m\n",
            "\n",
            "\u001b[1m> Finished chain.\u001b[0m\n"
          ]
        }
      ]
    },
    {
      "cell_type": "code",
      "source": [
        "print(output)"
      ],
      "metadata": {
        "colab": {
          "base_uri": "https://localhost:8080/"
        },
        "id": "wqT5zkb02Hnq",
        "outputId": "5d91e48e-40fa-4929-fc3b-6d18f90e3397"
      },
      "execution_count": 12,
      "outputs": [
        {
          "output_type": "stream",
          "name": "stdout",
          "text": [
            "Yiqiao Yin is a Senior Data Scientist at an S&P 500 company LabCorp, developing AI-driven solutions for drug diagnostics, drug development, and financial services.\n"
          ]
        }
      ]
    },
    {
      "cell_type": "code",
      "source": [],
      "metadata": {
        "id": "QgKd5TYq2bNF"
      },
      "execution_count": null,
      "outputs": []
    }
  ]
}