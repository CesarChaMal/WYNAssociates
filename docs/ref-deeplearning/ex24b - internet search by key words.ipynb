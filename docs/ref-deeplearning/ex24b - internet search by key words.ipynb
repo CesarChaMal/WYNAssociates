{
  "nbformat": 4,
  "nbformat_minor": 0,
  "metadata": {
    "colab": {
      "provenance": []
    },
    "kernelspec": {
      "name": "python3",
      "display_name": "Python 3"
    },
    "language_info": {
      "name": "python"
    }
  },
  "cells": [
    {
      "cell_type": "code",
      "execution_count": null,
      "metadata": {
        "colab": {
          "base_uri": "https://localhost:8080/"
        },
        "id": "_EGTukBxJ5OC",
        "outputId": "266ed2dd-6094-4510-fa8e-ac1125bdec74"
      },
      "outputs": [
        {
          "output_type": "stream",
          "name": "stdout",
          "text": [
            "Requirement already satisfied: duckduckgo-search in /usr/local/lib/python3.10/dist-packages (3.8.3)\n",
            "Requirement already satisfied: aiofiles>=23.1.0 in /usr/local/lib/python3.10/dist-packages (from duckduckgo-search) (23.1.0)\n",
            "Requirement already satisfied: click>=8.1.3 in /usr/local/lib/python3.10/dist-packages (from duckduckgo-search) (8.1.3)\n",
            "Requirement already satisfied: lxml>=4.9.2 in /usr/local/lib/python3.10/dist-packages (from duckduckgo-search) (4.9.2)\n",
            "Requirement already satisfied: httpx[brotli,http2,socks]>=0.24.1 in /usr/local/lib/python3.10/dist-packages (from duckduckgo-search) (0.24.1)\n",
            "Requirement already satisfied: certifi in /usr/local/lib/python3.10/dist-packages (from httpx[brotli,http2,socks]>=0.24.1->duckduckgo-search) (2023.5.7)\n",
            "Requirement already satisfied: httpcore<0.18.0,>=0.15.0 in /usr/local/lib/python3.10/dist-packages (from httpx[brotli,http2,socks]>=0.24.1->duckduckgo-search) (0.17.2)\n",
            "Requirement already satisfied: idna in /usr/local/lib/python3.10/dist-packages (from httpx[brotli,http2,socks]>=0.24.1->duckduckgo-search) (3.4)\n",
            "Requirement already satisfied: sniffio in /usr/local/lib/python3.10/dist-packages (from httpx[brotli,http2,socks]>=0.24.1->duckduckgo-search) (1.3.0)\n",
            "Requirement already satisfied: h2<5,>=3 in /usr/local/lib/python3.10/dist-packages (from httpx[brotli,http2,socks]>=0.24.1->duckduckgo-search) (4.1.0)\n",
            "Requirement already satisfied: brotli in /usr/local/lib/python3.10/dist-packages (from httpx[brotli,http2,socks]>=0.24.1->duckduckgo-search) (1.0.9)\n",
            "Requirement already satisfied: socksio==1.* in /usr/local/lib/python3.10/dist-packages (from httpx[brotli,http2,socks]>=0.24.1->duckduckgo-search) (1.0.0)\n",
            "Requirement already satisfied: hyperframe<7,>=6.0 in /usr/local/lib/python3.10/dist-packages (from h2<5,>=3->httpx[brotli,http2,socks]>=0.24.1->duckduckgo-search) (6.0.1)\n",
            "Requirement already satisfied: hpack<5,>=4.0 in /usr/local/lib/python3.10/dist-packages (from h2<5,>=3->httpx[brotli,http2,socks]>=0.24.1->duckduckgo-search) (4.0.0)\n",
            "Requirement already satisfied: h11<0.15,>=0.13 in /usr/local/lib/python3.10/dist-packages (from httpcore<0.18.0,>=0.15.0->httpx[brotli,http2,socks]>=0.24.1->duckduckgo-search) (0.14.0)\n",
            "Requirement already satisfied: anyio<5.0,>=3.0 in /usr/local/lib/python3.10/dist-packages (from httpcore<0.18.0,>=0.15.0->httpx[brotli,http2,socks]>=0.24.1->duckduckgo-search) (3.7.0)\n",
            "Requirement already satisfied: exceptiongroup in /usr/local/lib/python3.10/dist-packages (from anyio<5.0,>=3.0->httpcore<0.18.0,>=0.15.0->httpx[brotli,http2,socks]>=0.24.1->duckduckgo-search) (1.1.1)\n"
          ]
        }
      ],
      "source": [
        "! pip install duckduckgo-search"
      ]
    },
    {
      "cell_type": "markdown",
      "source": [
        "Check package version: `duckduckgo-search==3.8.3`"
      ],
      "metadata": {
        "id": "pVKLMTtzPzQ_"
      }
    },
    {
      "cell_type": "code",
      "source": [
        "# ! pip list"
      ],
      "metadata": {
        "id": "iU5upCrSPtB_"
      },
      "execution_count": null,
      "outputs": []
    },
    {
      "cell_type": "code",
      "source": [
        "from duckduckgo_search import DDGS"
      ],
      "metadata": {
        "id": "OBQ9bARYMGI_"
      },
      "execution_count": null,
      "outputs": []
    },
    {
      "cell_type": "code",
      "source": [
        "with DDGS() as ddgs:\n",
        "    for r in ddgs.text('yiqiao yin', region='wt-wt', safesearch='Off', timelimit='y'):\n",
        "        print(r)"
      ],
      "metadata": {
        "colab": {
          "base_uri": "https://localhost:8080/"
        },
        "id": "bK-LxNHpMHNu",
        "outputId": "1565a54a-a8f4-42dd-920a-3592c235a7d2"
      },
      "execution_count": null,
      "outputs": [
        {
          "output_type": "stream",
          "name": "stdout",
          "text": [
            "{'title': 'Yiqiao Yin | Seeing Deep into the Lungs with Deep Learning', 'href': 'https://www.scientia.global/yiqiao-yin-seeing-deep-into-the-lungs-with-deep-learning/', 'body': 'Yiqiao Yin, Jaiden Schraut, Leon Liu and Jonathan Gong have created new machine learning technologies to support that crucial interpretation, focusing on X-rays and lung health. A Window into the Body'}\n",
            "{'title': 'Yiqiao Yin | Tracking Deforestation with Neural Networks', 'href': 'https://www.scientia.global/yiqiao-yin-tracking-deforestation-with-neural-networks/', 'body': 'Yiqiao Yin, Kieran Pichai, Benjamin Park and Aaron Bao have developed a new technique to automate this process, offering a fast and accurate way to monitor forests around the world. Understanding a Branching Model'}\n",
            "{'title': 'Yiqiao Yin | Data Science, Machine Learning, and Artificial ...', 'href': 'https://www.udemy.com/user/yiqiao-yin/', 'body': 'Yiqiao Yin is a Udemy instructor with educational courses available for enrollment. Check out the latest courses taught by Yiqiao Yin'}\n",
            "{'title': 'Yiqiao Yin on Twitter', 'href': 'https://twitter.com/yin_yiqiao/status/1603051694862274560', 'body': 'Sign up. See new Tweets'}\n",
            "{'title': 'GitHub - yiqiao-yin/DeepProg: The package contains a portfolio of ...', 'href': 'https://github.com/yiqiao-yin/DeepProg', 'body': 'The package contains a portfolio of modules that are deep learning based prognostic assistance. This AI-first decision making tool consists of functions that build and evaluate a U-Net Model which ...'}\n",
            "{'title': 'A multi-output network with U-net enhanced class activation ... - Springer', 'href': 'https://link.springer.com/article/10.1007/s44163-022-00045-1', 'body': 'Jaiden Xuan Schraut, Leon Liu, Jonathan Gong and Yiqiao Yin contributed equally to this work. Authors and Affiliations. University of Michigan-Ann Arbor, Ann Arbor, USA. Jaiden Xuan Schraut, Leon Liu & Jonathan Gong. Columbia University, New York, USA. Leon Liu, Jonathan Gong & Yiqiao Yin.'}\n",
            "{'title': 'Yiqiao Yin | Tracking Deforestation with Neural Networks • scientia ...', 'href': 'https://zenkage.com/2022/11/16/yiqiao-yin-tracking-deforestation-with-neural-networks-scientia-global/', 'body': \"Forests are key to Earth's biodiversity and the global ecosystem, hosting 80% of the planet's plant biomass and two-thirds of all mammal species. However,\"}\n",
            "{'title': 'Yiqiao Yin | Seeing Deep into the Lungs with Deep Learning', 'href': 'https://www.newsbreak.com/news/2819055665892/yiqiao-yin-seeing-deep-into-the-lungs-with-deep-learning', 'body': 'Yiqiao Yin | Seeing Deep into the Lungs with Deep Learning. X-rays and other forms of medical imaging let doctors peer into the body, revealing the...'}\n",
            "{'title': 'GitHub - yiqiao-yin/medical-chatbot', 'href': 'https://github.com/yiqiao-yin/medical-chatbot', 'body': 'yiqiao-yin new init c28c5d3 3 hours ago 1 commit app1 new init 3 hours ago docs new init 3 hours ago README.md new init 3 hours ago README.md Medical Chatbot How to Run To run the Medical Chatbot application, you will need to execute the command run shiny app.py in your terminal or command prompt.'}\n",
            "{'title': 'High Strength Yin Qiao (Yin Chiao) Herbal Tablet Supports Upper ...', 'href': 'https://www.amazon.com/Strength-Yinqiao-Herbal-Supplement-tablets/dp/B00I6N4DN8', 'body': 'High Strength Yin Qiao (Yin Chiao) supports overall good health and your immune system. This supplement from China also supports sinus health, as well as that of your stomach and bowels. This product helps to keep your body healthy overall by providing support for your immune, nervous and respiratory systems.'}\n",
            "{'title': 'Minimizing AI adoption costs + Upskilling data talent - LinkedIn', 'href': 'https://www.linkedin.com/pulse/minimizing-ai-adoption-costs-upskilling-data-talent-teamepic-packt', 'body': 'We spoke to Yiqiao Yin, Senior Data Scientist/ML Engineer at Labcorp on stakeholder communication challenges and solutions, minimizing the costs associated with adopting AI, and generalist and ...'}\n",
            "{'title': 'AI4ALL: AI Education for K-12 - EasyChair', 'href': 'https://easychair.org/publications/preprint/VtFL', 'body': '5 pages • Date: October 24, 2022 Yiqiao Yin Abstract This paper focuses on the development and use of resources to support K-12 education in Artificial Intelligence (AI). The author and his team has more than three years of experience coaching students from pre-college level age from 15 to 18.'}\n",
            "{'title': 'Discover Artificial Intelligence | Volume 3, issue 1 - Springer', 'href': 'https://link.springer.com/journal/44163/volumes-and-issues/3-1', 'body': 'Charting AI urbanism: conceptual sources and spatial implications of urban artificial intelligence. Otello Palmini. Federico Cugurullo. Perspective. Open Access. Published: 27 April 2023. Article: 15. This is part of 1 collection.'}\n",
            "{'title': 'Automated Segmentation and Classification of Aerial Forest ... - EasyChair', 'href': 'https://easychair.org/publications/preprint/xl9f', 'body': 'Kieran Pichai, Benjamin Park, Aaron Bao and Yiqiao Yin Abstract Monitoring the health and safety of forests has become a rising problem with the advent of global wildfires, rampant logging, and reforestation efforts. This paper proposes a model for automatic segmentation and classification of aerial forest imagery.'}\n",
            "{'title': 'AI Augmented Healthcare Systems and Services | SpringerLink', 'href': 'https://link.springer.com/collections/ajijgfbaid', 'body': 'Shen Yin received the M.Sc. degree in control and information system and the Ph.D. degree in electrical engineering and information technology from the University of Duisburg-Essen, Duisburg, Germany, in 2007 and 2012, respectively. ... Yiqiao Yin; Content type: Research Open Access; Published: 03 January 2023; Discover Artificial Intelligence ...'}\n",
            "{'title': 'How to pronounce Yiqiao | HowToPronounce.com', 'href': 'https://www.howtopronounce.com/yiqiao', 'body': 'A surname of Chinese origin. Add a meaning Translations of Yiqiao Chinese : 桥 Translate this word/phrase Add Yiqiao details Synonyms for Yiqiao Add synonyms Antonyms for Yiqiao Add antonyms Examples of Yiqiao in a sentence Add a sentence Word of the day Exemplary [ ex-em-plary ] Learn pronunciation Latest word submissions pongtana [en]'}\n",
            "{'title': 'AI4ALL: Basics in Convolutional Neural Network - My Blog', 'href': 'https://chatgpt4projects.com/2023/05/25/ai4all-basics-in-convolutional-neural-network/', 'body': \"Created by Yiqiao Yin. English. English [Auto] Current priceFreeEnroll nowWhat you'll learnCourse contentReviewsInstructors. Requirements. No prior programming experience needed. You will learn directly in this class. Description. This course is created to follow up with the AI4ALL initiatives. The course presents coding materials at a pre ...\"}\n",
            "{'title': 'Stacy Sandmeier - Senior Scientist - KCAS | ZoomInfo', 'href': 'https://www.zoominfo.com/p/Stacy-Sandmeier/3194673326', 'body': \"12400 Shawnee Mission Pkwy, Shawnee, Kansas, 66216, United States Description Industry Medical Testing & Clinical Laboratories Healthcare Discover more about KCAS Stacy Sandmeier Work Experience and Education According to ZoomInfo records, Stacy Sandmeier's professional experience began in 1997. Since then Stacy has changed 6 companies and 5 roles.\"}\n",
            "{'title': 'Toby Manders - Machine Learning Engineer - Invitae | ZoomInfo', 'href': 'https://www.zoominfo.com/p/Toby-Manders/6002243392', 'body': \"Toby Manders's peers at other companies are Yi Yang, Wade Genders, Myeongchan Kim, Ross Lawrence, Yiqiao Yin. Who are Toby Manders's colleagues? Some of Toby Manders's colleagues are Anuradha Bhusri , Abby Phillip , Paul Rogers , Steven Joseph .\"}\n",
            "{'title': 'AI4ALL: Image-to-Image Model - My Blog', 'href': 'https://chatgpt4projects.com/2023/05/25/ai4all-image-to-image-model/', 'body': \"Created by Yiqiao Yin. English. English [Auto] Current priceFreeEnroll nowWhat you'll learnCourse contentReviewsInstructors. Requirements. No prior programming experience needed. You will learn directly in this class. Description. This course is created to follow up with the AI4ALL initiatives. The course presents coding materials at a pre ...\"}\n",
            "{'title': 'Yi Qiao, LAc., OMD - The Akasha Center for Integrative Medicine', 'href': 'https://akashacenter.com/our-team/yi-qiao/', 'body': 'Dr. Yi Qiao, L.Ac., OMD Acupuncture & Chinese Herbal Medicine In 1987, Yi Qiao completed six years of training and received her medical degree from Beijing University of Traditional Chinese Medicine, one of the most prestigious TCM schools in the world. She passed her California Acupuncture License Exam in 1988 and started practicing in San … Yi Qiao, LAc., OMD Read More »'}\n",
            "{'title': 'Towards Explainable AI on Chest X-Ray Diagnosis Using Image ... - Springer', 'href': 'https://link.springer.com/chapter/10.1007/978-3-031-28076-4_48', 'body': '1.1 Background of the Field. In diagnosis, deep learning models are conventionally applied as classifiers through a Convolutional Neural Network(CNN) architecture [5, 8, 9, 19, 20] that encodes an image and then passes the flattened reduced image into a standard deep neural network with hidden layers.The encoding is done with several convolutional layers that each multiply the image by ...'}\n",
            "{'title': 'A For-Profit Model of Microcredit | Journal of Student Research - JSR', 'href': 'https://www.jsr.org/hs/index.php/path/article/view/2378', 'body': 'Yiqiao Yin Columbia University DOI: https://doi.org/10.47611/jsrhs.v11i1.2378 Keywords: Microfinance, Supervised Learning, Binary Classifiers, Poverty alleviation, financial inclusion PDF Abstract Microcredit is a proven means of poverty alleviation. However, its implementation in India is flawed.'}\n",
            "{'title': 'List: Survival Analysis | Curated by Yiqiao Yin | Medium', 'href': 'https://medium.com/@yiqiaoyin/list/survival-analysis-c11315aa459d', 'body': 'Introducing XGBoost Survival Embeddings (xgbse), our survival analysis package built on top of XGBoost — \"There are two cultures in the use of statistical modeling to reach conclusions from ...'}\n",
            "{'title': 'An Overview of the Veritas AI Summer Programs - Stoodnt', 'href': 'https://stoodnt.com/blog/overview-veritas-ai-summer-programs/', 'body': 'Veritas AI is a virtual AI program built for high school students. Founded and run by Harvard graduates, Veritas AI teaches you about artificial intelligence and machine learning. It enables you to produce a project that you can use as part of your portfolio and also while applying to college.'}\n",
            "{'title': \"The AI Product Manager's Handbook - AIProductPro\", 'href': 'https://www.aiproductpro.com/the-ai-product-managers-handbook/', 'body': 'Book review by Yiqiao Yin. Categories Resources Tags Artificial Intelligence, Machine Learning, Product Management, Resources. ChatGPT Prompt Engineering for Developers Course. About the author. Stuart Winter-Tear - ML/AI Enthusiast | Product & Innovation Leadership | Product-Led Strategy & Growth | Building Great Products | Building Great ...'}\n",
            "{'title': 'Weekly OHDSI Digest- April 3, 2023 - OHDSI', 'href': 'https://www.ohdsi.org/weekly-ohdsi-digest-april-3-2023/', 'body': 'Monday: A Machine Learning based Enrollment Rate Forecasting System (Yiqiao Yin) Tuesday : Strategus: Marching towards transparent, reproducible research (Anthony Sena) Wednesday: Multinational Patterns of Second-line Anti-hyperglycemic Drug Initiation: A LEGEND-T2DM Study (Lovedeep Dhingra) HADES Development Announcements'}\n",
            "{'title': 'List: Software Development | Curated by Yiqiao Yin | Medium', 'href': 'https://medium.com/@yiqiaoyin/list/software-development-8f00e1df9dae', 'body': '·Sep 26, 2016. A Comprehensive Guide to Terraform'}\n",
            "{'title': 'GitHub - yiqiao-yin/RandomModel: One sentence description.', 'href': 'https://github.com/yiqiao-yin/RandomModel', 'body': 'One sentence description. Contribute to yiqiao-yin/RandomModel development by creating an account on GitHub.'}\n",
            "{'title': 'Fundraiser by Matt Basler : Help Matt Basler make an album', 'href': 'https://www.gofundme.com/f/help-matt-basler-make-an-album', 'body': \"Yiqiao Yin $25 1 mo Matt Basler is organizing this fundraiser. Hello! My name's Matt Basler and I'm a musician from southern Illinois and I'm trying to make an album. The studio I'll be recording at is called dream farm studios in Surnadal Norway.\"}\n",
            "{'title': 'A multi-output network with U-net enhanced class activation map and ...', 'href': 'https://europepmc.org/article/PMC/PMC9808678', 'body': 'Europe PMC is an archive of life sciences journal literature.'}\n",
            "{'title': 'Browse Articles | Research Square', 'href': 'https://www.researchsquare.com/browse/journal/discover-Artificial-Intelligence', 'body': 'Research Article posted Jul 19, 2022. Recursive Quality Optimization of a Smart Forming Tool under the use of Perception Based Hybrid Datasets for Training of a Deep Neural Network. Sebastian Feldmann, Michael Schmiedt, Julian-Marc Schlosser, Wolfgang Rimkus, Tobias Stempfle, Christian Rathmann. Under Review. at. Discover Artificial Intelligence.'}\n",
            "{'title': 'Digital Markers Near-Perfect for Predicting Dementia', 'href': 'https://machprinciple.com/post/Digital-Markers-Near-Perfect-for-Predicting-Dementia', 'body': 'researchers develop highly accurate machine learning model for early detection of mild cognitive impairment and dementia in older drivers'}\n",
            "{'title': '[Free] Ai4All: Basics In Artificial Neural Network', 'href': 'https://couponscorpion.com/development/ai4all-basics-in-artificial-neural-network/', 'body': 'Description This course is created to follow up with the AI4ALL initiatives. The course presents coding materials at a pre-college level and introduces a fundamental pipeline for a neural network model.'}\n",
            "{'title': '[Free] Ai4All: Natural Language Processing', 'href': 'https://couponscorpion.com/development/ai4all-natural-language-processing/', 'body': 'Author(s): Yiqiao Yin. Facebook; Twitter; Email; Deal Score +11. 176 . FREE 0 FREE COURSE External links may contain affiliate links, meaning we get a commission if you decide to make a purchase. Read our disclosure. Coupon Scorpion.'}\n",
            "{'title': 'cursosdev | 🔥 Cupón Gratis: Fundamentals in Neural Networks | Con 100% ...', 'href': 'https://www.cursosdev.com/coupons-udemy/fundamentals-in-neural-networks', 'body': \"Yiqiao Yin. hace 10 meses. Cup n Expirado. Enseñanzas y disciplinas académicas Ciencia. Comparte si te a gustado: Facebook Twitter. Fundamentals in Neural Networks. Publicado en 21 Jul 2022 What you'll learn. Understand the intuition behind Artificial Neural Networks; Understand the intuition behind Convolutional Neural Networks ...\"}\n",
            "{'title': '[Free] Ai4All: Basics In Convolutional Neural Network', 'href': 'https://couponscorpion.com/development/ai4all-basics-in-convolutional-neural-network/', 'body': 'Description. This course is created to follow up with the AI4ALL initiatives. The course presents coding materials at a pre-college level and introduces a fundamental pipeline for a neural network model. The course is designed for the first-time learners and the audience who only want to get a taste of a machine learning project but still ...'}\n",
            "{'title': 'Using Machine Learning to Classify Human Fetal Health and Analyze ...', 'href': 'https://www.mdpi.com/2673-7426/3/2/19', 'body': 'The reduction of childhood mortality is an ongoing struggle and a commonly used factor in determining progress in the medical field. The under-5 mortality number is around 5 million around the world, with many of the deaths being preventable. In light of this issue, cardiotocograms (CTGs) have emerged as a leading tool to determine fetal health. By using ultrasound pulses and reading the ...'}\n",
            "{'title': '⭐ Cupón Gratis: Fundamentals in Neural Networks Mon May', 'href': 'https://www.cursostec.com/coupons-udemy/fundamentals-in-neural-networks', 'body': 'Creado por: Yiqiao Yin. Build up your intuition of the fundamental building blocks of Neural Networks. Cupón Expirado ...'}\n"
          ]
        }
      ]
    },
    {
      "cell_type": "code",
      "source": [
        "def read_url(url: str) -> str:\n",
        "  \"\"\"\n",
        "  Reads the contents of a public URL as a string.\n",
        "\n",
        "  Args:\n",
        "    url: A public URL.\n",
        "\n",
        "  Returns:\n",
        "    A string containing the contents of the URL.\n",
        "  \"\"\"\n",
        "\n",
        "  # Import the necessary libraries.\n",
        "  import requests\n",
        "\n",
        "  # Create a request object.\n",
        "  request = requests.get(url)\n",
        "\n",
        "  # Check the response status code.\n",
        "  if request.status_code == 200:\n",
        "    # The request was successful, so we can read the content.\n",
        "    return request.content.decode(\"utf-8\")\n",
        "  else:\n",
        "    # The request failed, so we raise an exception.\n",
        "    raise Exception(\"Unable to read URL.\")"
      ],
      "metadata": {
        "id": "1ZTug4x3MZkC"
      },
      "execution_count": null,
      "outputs": []
    },
    {
      "cell_type": "code",
      "source": [
        "# read_url(r['href'])\n",
        "print(len(read_url(r['href'])), type(read_url(r['href'])))"
      ],
      "metadata": {
        "colab": {
          "base_uri": "https://localhost:8080/"
        },
        "id": "Lhj4C9y6N69N",
        "outputId": "bb25e6ea-2b4e-4f7f-ea22-20dc260a481a"
      },
      "execution_count": null,
      "outputs": [
        {
          "output_type": "stream",
          "name": "stdout",
          "text": [
            "93920 <class 'str'>\n"
          ]
        }
      ]
    },
    {
      "cell_type": "code",
      "source": [
        "content_bodies = []\n",
        "list_of_urls = []\n",
        "with DDGS() as ddgs:\n",
        "    for r in ddgs.text('who is yiqiao yin?', region='wt-wt', safesearch='Off', timelimit='y'):\n",
        "        content_bodies.append(r['body'])\n",
        "        list_of_urls.append(r['href'])"
      ],
      "metadata": {
        "id": "lN_C4VBmOu3w"
      },
      "execution_count": null,
      "outputs": []
    },
    {
      "cell_type": "code",
      "source": [
        "content_bodies[0]"
      ],
      "metadata": {
        "id": "BpuQ-3icPRBT"
      },
      "execution_count": null,
      "outputs": []
    },
    {
      "cell_type": "code",
      "source": [
        "read_url(list_of_urls[0])"
      ],
      "metadata": {
        "id": "RhnsC7xOVGfO"
      },
      "execution_count": null,
      "outputs": []
    },
    {
      "cell_type": "code",
      "source": [
        "len(' '.join(content_bodies))"
      ],
      "metadata": {
        "colab": {
          "base_uri": "https://localhost:8080/"
        },
        "id": "S39v7Z4YYO59",
        "outputId": "8a84e975-6c3b-4751-a88c-b54fc5a236e5"
      },
      "execution_count": null,
      "outputs": [
        {
          "output_type": "execute_result",
          "data": {
            "text/plain": [
              "13703"
            ]
          },
          "metadata": {},
          "execution_count": 34
        }
      ]
    },
    {
      "cell_type": "code",
      "source": [
        "content_bodies[1]"
      ],
      "metadata": {
        "id": "0g44qQXLYOnu"
      },
      "execution_count": null,
      "outputs": []
    }
  ]
}