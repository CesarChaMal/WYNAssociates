{
  "nbformat": 4,
  "nbformat_minor": 0,
  "metadata": {
    "colab": {
      "provenance": [],
      "toc_visible": true
    },
    "kernelspec": {
      "name": "python3",
      "display_name": "Python 3"
    },
    "language_info": {
      "name": "python"
    }
  },
  "cells": [
    {
      "cell_type": "markdown",
      "source": [
        "## Library"
      ],
      "metadata": {
        "id": "YvtPqYDYXemt"
      }
    },
    {
      "cell_type": "code",
      "source": [
        "pip install langchain openai google-search-results chromadb pypdf sentence_transformers"
      ],
      "metadata": {
        "id": "wxCrkL4vg4m6"
      },
      "execution_count": null,
      "outputs": []
    },
    {
      "cell_type": "code",
      "source": [
        "from langchain.agents import load_tools\n",
        "from langchain.agents import initialize_agent\n",
        "from langchain.agents import AgentType\n",
        "from langchain.llms import OpenAI as l_OpenAI"
      ],
      "metadata": {
        "id": "CeE8-wVchBLl"
      },
      "execution_count": null,
      "outputs": []
    },
    {
      "cell_type": "markdown",
      "source": [
        "## Enter Keys"
      ],
      "metadata": {
        "id": "UsPQw_KXXgos"
      }
    },
    {
      "cell_type": "code",
      "source": [
        "SERPAPI_API_KEY = \"xxx\"\n",
        "OPENAI_API_KEY = \"sk-xxx\""
      ],
      "metadata": {
        "id": "JKAm6DMbg70L"
      },
      "execution_count": null,
      "outputs": []
    },
    {
      "cell_type": "code",
      "source": [
        "import openai"
      ],
      "metadata": {
        "id": "0o21j5ejo6Cn"
      },
      "execution_count": null,
      "outputs": []
    },
    {
      "cell_type": "code",
      "source": [
        "from typing import List, Dict, Any"
      ],
      "metadata": {
        "id": "aE0wcqVtWCx8"
      },
      "execution_count": null,
      "outputs": []
    },
    {
      "cell_type": "code",
      "source": [
        "openai_client = openai.OpenAI(api_key=OPENAI_API_KEY)"
      ],
      "metadata": {
        "id": "bp-qjh5Po4QI"
      },
      "execution_count": null,
      "outputs": []
    },
    {
      "cell_type": "markdown",
      "source": [
        "## Approach 1\n",
        "\n",
        "This is API call to request fine tuned model."
      ],
      "metadata": {
        "id": "HBINXpAmXiPt"
      }
    },
    {
      "cell_type": "code",
      "source": [
        "def model_finetune(query: str) -> str:\n",
        "    completion = openai_client.completions.create(\n",
        "        model=\"ft:davinci-002:personal::8JEsV0S6\", # fine tuned model using 12 csvs\n",
        "        prompt=query\n",
        "    )\n",
        "\n",
        "    return completion.choices[0].text"
      ],
      "metadata": {
        "id": "_Xq0lIk5WxUh"
      },
      "execution_count": null,
      "outputs": []
    },
    {
      "cell_type": "markdown",
      "source": [
        "## Approach 2\n",
        "\n",
        "This is API call to ask `chatgpt` directly."
      ],
      "metadata": {
        "id": "wti4HUIcXmK6"
      }
    },
    {
      "cell_type": "code",
      "source": [
        "def call_chatgpt(query: str, model: str = \"gpt-3.5-turbo\") -> str:\n",
        "    \"\"\"\n",
        "    Generates a response to a query using the specified language model.\n",
        "\n",
        "    Args:\n",
        "        query (str): The user's query that needs to be processed.\n",
        "        model (str, optional): The language model to be used. Defaults to \"gpt-3.5-turbo\".\n",
        "\n",
        "    Returns:\n",
        "        str: The generated response to the query.\n",
        "    \"\"\"\n",
        "\n",
        "    # Prepare the conversation context with system and user messages.\n",
        "    messages: List[Dict[str, str]] = [\n",
        "        {\"role\": \"system\", \"content\": \"You are a helpful assistant.\"},\n",
        "        {\"role\": \"user\", \"content\": f\"Question: {query}.\"},\n",
        "    ]\n",
        "\n",
        "    # Use the OpenAI client to generate a response based on the model and the conversation context.\n",
        "    response: Any = openai_client.chat.completions.create(\n",
        "        model=model,\n",
        "        messages=messages,\n",
        "    )\n",
        "\n",
        "    # Extract the content of the response from the first choice.\n",
        "    content: str = response.choices[0].message.content\n",
        "\n",
        "    # Return the generated content.\n",
        "    return content\n"
      ],
      "metadata": {
        "id": "wsLFJz05WBJ7"
      },
      "execution_count": null,
      "outputs": []
    },
    {
      "cell_type": "markdown",
      "source": [
        "## Approach 3\n",
        "\n",
        "This is to use `langchain` to have internet access."
      ],
      "metadata": {
        "id": "00xMlUUGXsaK"
      }
    },
    {
      "cell_type": "code",
      "source": [
        "def call_langchain(prompt: str) -> str:\n",
        "    llm = l_OpenAI(temperature=0, openai_api_key=OPENAI_API_KEY)\n",
        "    tools = load_tools([\"serpapi\", \"llm-math\"], llm=llm, serpapi_api_key=SERPAPI_API_KEY)\n",
        "    agent = initialize_agent(\n",
        "        tools, llm, agent=AgentType.ZERO_SHOT_REACT_DESCRIPTION, verbose=True\n",
        "    )\n",
        "    output = agent.run(prompt)\n",
        "\n",
        "    return output"
      ],
      "metadata": {
        "id": "qNAUcv-Ig4Aa"
      },
      "execution_count": null,
      "outputs": []
    },
    {
      "cell_type": "markdown",
      "source": [
        "## Approach 4\n",
        "\n",
        "Here we use RAG.\n",
        "\n",
        "PDF -> Chroma DB -> Vector DB -> A list numbers and document IDs\n",
        "\n",
        "User asks: query\n",
        "\n",
        "`chroma_collection.query`: This function will give you the relevant text about query based on the Vector DB. Results: -> A list of relevant documents and their numerical form."
      ],
      "metadata": {
        "id": "cZxViUAIXxyl"
      }
    },
    {
      "cell_type": "code",
      "source": [
        "pdf_path = \"/path/to/file/file_name.pdf\""
      ],
      "metadata": {
        "id": "NEIM7It7L_R2"
      },
      "execution_count": null,
      "outputs": []
    },
    {
      "cell_type": "code",
      "source": [
        "import os"
      ],
      "metadata": {
        "id": "hgQMSlXbbMc7"
      },
      "execution_count": null,
      "outputs": []
    },
    {
      "cell_type": "code",
      "source": [
        "os.chdir(\"/content/drive/MyDrive/Colab Notebooks/AI Research/Students/xxx/lectures/2024\")"
      ],
      "metadata": {
        "id": "8TdvnQppNEXB"
      },
      "execution_count": null,
      "outputs": []
    },
    {
      "cell_type": "code",
      "source": [
        "from chromadb.utils.embedding_functions import SentenceTransformerEmbeddingFunction\n",
        "from helper_utils import load_chroma, word_wrap, project_embeddings"
      ],
      "metadata": {
        "id": "FirZEfIRMy2z"
      },
      "execution_count": null,
      "outputs": []
    },
    {
      "cell_type": "code",
      "source": [
        "pdf_path.split('/')[-1].split('.')[0]"
      ],
      "metadata": {
        "colab": {
          "base_uri": "https://localhost:8080/",
          "height": 36
        },
        "id": "pnG0jh-4NxJK",
        "outputId": "13a223de-880c-4e56-c987-b2e0f63c6785"
      },
      "execution_count": null,
      "outputs": [
        {
          "output_type": "execute_result",
          "data": {
            "text/plain": [
              "'Definition_Of_Homeless'"
            ],
            "application/vnd.google.colaboratory.intrinsic+json": {
              "type": "string"
            }
          },
          "metadata": {},
          "execution_count": 132
        }
      ]
    },
    {
      "cell_type": "code",
      "source": [
        "%%time\n",
        "embedding_function = SentenceTransformerEmbeddingFunction()\n",
        "\n",
        "nom = pdf_path.split('/')[-1].split('.')[0]\n",
        "chroma_collection = load_chroma(filename=pdf_path, collection_name=f'{nom}', embedding_function=embedding_function)\n",
        "chroma_collection.count()"
      ],
      "metadata": {
        "id": "aBQBt4a1Mt_s",
        "colab": {
          "base_uri": "https://localhost:8080/"
        },
        "outputId": "53f8ecdc-d940-4eb8-a657-8818116dfdcf"
      },
      "execution_count": null,
      "outputs": [
        {
          "output_type": "stream",
          "name": "stdout",
          "text": [
            "CPU times: user 1.65 s, sys: 749 ms, total: 2.4 s\n",
            "Wall time: 3.73 s\n"
          ]
        },
        {
          "output_type": "execute_result",
          "data": {
            "text/plain": [
              "5"
            ]
          },
          "metadata": {},
          "execution_count": 133
        }
      ]
    },
    {
      "cell_type": "code",
      "source": [
        "def rag(query: str) -> str:\n",
        "    results = chroma_collection.query(query_texts=query, n_results=10, include=['documents', 'embeddings'])\n",
        "    retrieved_doc = results['documents'][0]\n",
        "\n",
        "    updated_query = f\"\"\"\n",
        "        Answer the question: {query}\n",
        "        Based on the document provided: {retrieved_doc}\n",
        "    \"\"\"\n",
        "    response = call_chatgpt(updated_query)\n",
        "    return response"
      ],
      "metadata": {
        "id": "AYCAhJAlXz-d"
      },
      "execution_count": null,
      "outputs": []
    },
    {
      "cell_type": "markdown",
      "source": [
        "## Get Data\n",
        "\n",
        "This assumes we get `.csv` per topic."
      ],
      "metadata": {
        "id": "kT07CJkMa5zC"
      }
    },
    {
      "cell_type": "code",
      "source": [
        "print(nom)"
      ],
      "metadata": {
        "colab": {
          "base_uri": "https://localhost:8080/"
        },
        "id": "5DGTaEmjyMvu",
        "outputId": "8dff867a-b1c0-4126-e225-874c3606a158"
      },
      "execution_count": null,
      "outputs": [
        {
          "output_type": "stream",
          "name": "stdout",
          "text": [
            "Definition_Of_Homeless\n"
          ]
        }
      ]
    },
    {
      "cell_type": "code",
      "source": [
        "path_of_csv = f\"file/path/{nom}.csv\""
      ],
      "metadata": {
        "id": "MMDtBUyxa8lI"
      },
      "execution_count": null,
      "outputs": []
    },
    {
      "cell_type": "code",
      "source": [
        "import pandas as pd"
      ],
      "metadata": {
        "id": "BFkAtcFEcn56"
      },
      "execution_count": null,
      "outputs": []
    },
    {
      "cell_type": "code",
      "source": [
        "current_data = pd.read_csv(path_of_csv)"
      ],
      "metadata": {
        "id": "iie3oLVbcqVB"
      },
      "execution_count": null,
      "outputs": []
    },
    {
      "cell_type": "code",
      "source": [
        "current_data.head(2)"
      ],
      "metadata": {
        "colab": {
          "base_uri": "https://localhost:8080/",
          "height": 112
        },
        "id": "1Gecefmfcsdt",
        "outputId": "172037f2-9871-4992-fee9-52c4b3348c81"
      },
      "execution_count": null,
      "outputs": [
        {
          "output_type": "execute_result",
          "data": {
            "text/plain": [
              "   Unnamed: 0                                            context  \\\n",
              "0           0  Interested\\nin\\napplying\\nto\\nbe\\na\\nresident\\...   \n",
              "1           1  The\\nfirst\\ndefinition\\nof\\na\\n“literally”\\nho...   \n",
              "\n",
              "                                           questions  \\\n",
              "0  1. What are the eligibility requirements for t...   \n",
              "1  1. What is the first definition of a homeless ...   \n",
              "\n",
              "                                             answers  \n",
              "0  1. The eligibility requirements for the Tiny H...  \n",
              "1  1. The first definition of a \"literally\" homel...  "
            ],
            "text/html": [
              "\n",
              "  <div id=\"df-84f84f7c-bf10-425a-85f6-5fd80cdc62c2\" class=\"colab-df-container\">\n",
              "    <div>\n",
              "<style scoped>\n",
              "    .dataframe tbody tr th:only-of-type {\n",
              "        vertical-align: middle;\n",
              "    }\n",
              "\n",
              "    .dataframe tbody tr th {\n",
              "        vertical-align: top;\n",
              "    }\n",
              "\n",
              "    .dataframe thead th {\n",
              "        text-align: right;\n",
              "    }\n",
              "</style>\n",
              "<table border=\"1\" class=\"dataframe\">\n",
              "  <thead>\n",
              "    <tr style=\"text-align: right;\">\n",
              "      <th></th>\n",
              "      <th>Unnamed: 0</th>\n",
              "      <th>context</th>\n",
              "      <th>questions</th>\n",
              "      <th>answers</th>\n",
              "    </tr>\n",
              "  </thead>\n",
              "  <tbody>\n",
              "    <tr>\n",
              "      <th>0</th>\n",
              "      <td>0</td>\n",
              "      <td>Interested\\nin\\napplying\\nto\\nbe\\na\\nresident\\...</td>\n",
              "      <td>1. What are the eligibility requirements for t...</td>\n",
              "      <td>1. The eligibility requirements for the Tiny H...</td>\n",
              "    </tr>\n",
              "    <tr>\n",
              "      <th>1</th>\n",
              "      <td>1</td>\n",
              "      <td>The\\nfirst\\ndefinition\\nof\\na\\n“literally”\\nho...</td>\n",
              "      <td>1. What is the first definition of a homeless ...</td>\n",
              "      <td>1. The first definition of a \"literally\" homel...</td>\n",
              "    </tr>\n",
              "  </tbody>\n",
              "</table>\n",
              "</div>\n",
              "    <div class=\"colab-df-buttons\">\n",
              "\n",
              "  <div class=\"colab-df-container\">\n",
              "    <button class=\"colab-df-convert\" onclick=\"convertToInteractive('df-84f84f7c-bf10-425a-85f6-5fd80cdc62c2')\"\n",
              "            title=\"Convert this dataframe to an interactive table.\"\n",
              "            style=\"display:none;\">\n",
              "\n",
              "  <svg xmlns=\"http://www.w3.org/2000/svg\" height=\"24px\" viewBox=\"0 -960 960 960\">\n",
              "    <path d=\"M120-120v-720h720v720H120Zm60-500h600v-160H180v160Zm220 220h160v-160H400v160Zm0 220h160v-160H400v160ZM180-400h160v-160H180v160Zm440 0h160v-160H620v160ZM180-180h160v-160H180v160Zm440 0h160v-160H620v160Z\"/>\n",
              "  </svg>\n",
              "    </button>\n",
              "\n",
              "  <style>\n",
              "    .colab-df-container {\n",
              "      display:flex;\n",
              "      gap: 12px;\n",
              "    }\n",
              "\n",
              "    .colab-df-convert {\n",
              "      background-color: #E8F0FE;\n",
              "      border: none;\n",
              "      border-radius: 50%;\n",
              "      cursor: pointer;\n",
              "      display: none;\n",
              "      fill: #1967D2;\n",
              "      height: 32px;\n",
              "      padding: 0 0 0 0;\n",
              "      width: 32px;\n",
              "    }\n",
              "\n",
              "    .colab-df-convert:hover {\n",
              "      background-color: #E2EBFA;\n",
              "      box-shadow: 0px 1px 2px rgba(60, 64, 67, 0.3), 0px 1px 3px 1px rgba(60, 64, 67, 0.15);\n",
              "      fill: #174EA6;\n",
              "    }\n",
              "\n",
              "    .colab-df-buttons div {\n",
              "      margin-bottom: 4px;\n",
              "    }\n",
              "\n",
              "    [theme=dark] .colab-df-convert {\n",
              "      background-color: #3B4455;\n",
              "      fill: #D2E3FC;\n",
              "    }\n",
              "\n",
              "    [theme=dark] .colab-df-convert:hover {\n",
              "      background-color: #434B5C;\n",
              "      box-shadow: 0px 1px 3px 1px rgba(0, 0, 0, 0.15);\n",
              "      filter: drop-shadow(0px 1px 2px rgba(0, 0, 0, 0.3));\n",
              "      fill: #FFFFFF;\n",
              "    }\n",
              "  </style>\n",
              "\n",
              "    <script>\n",
              "      const buttonEl =\n",
              "        document.querySelector('#df-84f84f7c-bf10-425a-85f6-5fd80cdc62c2 button.colab-df-convert');\n",
              "      buttonEl.style.display =\n",
              "        google.colab.kernel.accessAllowed ? 'block' : 'none';\n",
              "\n",
              "      async function convertToInteractive(key) {\n",
              "        const element = document.querySelector('#df-84f84f7c-bf10-425a-85f6-5fd80cdc62c2');\n",
              "        const dataTable =\n",
              "          await google.colab.kernel.invokeFunction('convertToInteractive',\n",
              "                                                    [key], {});\n",
              "        if (!dataTable) return;\n",
              "\n",
              "        const docLinkHtml = 'Like what you see? Visit the ' +\n",
              "          '<a target=\"_blank\" href=https://colab.research.google.com/notebooks/data_table.ipynb>data table notebook</a>'\n",
              "          + ' to learn more about interactive tables.';\n",
              "        element.innerHTML = '';\n",
              "        dataTable['output_type'] = 'display_data';\n",
              "        await google.colab.output.renderOutput(dataTable, element);\n",
              "        const docLink = document.createElement('div');\n",
              "        docLink.innerHTML = docLinkHtml;\n",
              "        element.appendChild(docLink);\n",
              "      }\n",
              "    </script>\n",
              "  </div>\n",
              "\n",
              "\n",
              "<div id=\"df-2870eaed-169c-43c5-948d-d65c69e8f273\">\n",
              "  <button class=\"colab-df-quickchart\" onclick=\"quickchart('df-2870eaed-169c-43c5-948d-d65c69e8f273')\"\n",
              "            title=\"Suggest charts\"\n",
              "            style=\"display:none;\">\n",
              "\n",
              "<svg xmlns=\"http://www.w3.org/2000/svg\" height=\"24px\"viewBox=\"0 0 24 24\"\n",
              "     width=\"24px\">\n",
              "    <g>\n",
              "        <path d=\"M19 3H5c-1.1 0-2 .9-2 2v14c0 1.1.9 2 2 2h14c1.1 0 2-.9 2-2V5c0-1.1-.9-2-2-2zM9 17H7v-7h2v7zm4 0h-2V7h2v10zm4 0h-2v-4h2v4z\"/>\n",
              "    </g>\n",
              "</svg>\n",
              "  </button>\n",
              "\n",
              "<style>\n",
              "  .colab-df-quickchart {\n",
              "      --bg-color: #E8F0FE;\n",
              "      --fill-color: #1967D2;\n",
              "      --hover-bg-color: #E2EBFA;\n",
              "      --hover-fill-color: #174EA6;\n",
              "      --disabled-fill-color: #AAA;\n",
              "      --disabled-bg-color: #DDD;\n",
              "  }\n",
              "\n",
              "  [theme=dark] .colab-df-quickchart {\n",
              "      --bg-color: #3B4455;\n",
              "      --fill-color: #D2E3FC;\n",
              "      --hover-bg-color: #434B5C;\n",
              "      --hover-fill-color: #FFFFFF;\n",
              "      --disabled-bg-color: #3B4455;\n",
              "      --disabled-fill-color: #666;\n",
              "  }\n",
              "\n",
              "  .colab-df-quickchart {\n",
              "    background-color: var(--bg-color);\n",
              "    border: none;\n",
              "    border-radius: 50%;\n",
              "    cursor: pointer;\n",
              "    display: none;\n",
              "    fill: var(--fill-color);\n",
              "    height: 32px;\n",
              "    padding: 0;\n",
              "    width: 32px;\n",
              "  }\n",
              "\n",
              "  .colab-df-quickchart:hover {\n",
              "    background-color: var(--hover-bg-color);\n",
              "    box-shadow: 0 1px 2px rgba(60, 64, 67, 0.3), 0 1px 3px 1px rgba(60, 64, 67, 0.15);\n",
              "    fill: var(--button-hover-fill-color);\n",
              "  }\n",
              "\n",
              "  .colab-df-quickchart-complete:disabled,\n",
              "  .colab-df-quickchart-complete:disabled:hover {\n",
              "    background-color: var(--disabled-bg-color);\n",
              "    fill: var(--disabled-fill-color);\n",
              "    box-shadow: none;\n",
              "  }\n",
              "\n",
              "  .colab-df-spinner {\n",
              "    border: 2px solid var(--fill-color);\n",
              "    border-color: transparent;\n",
              "    border-bottom-color: var(--fill-color);\n",
              "    animation:\n",
              "      spin 1s steps(1) infinite;\n",
              "  }\n",
              "\n",
              "  @keyframes spin {\n",
              "    0% {\n",
              "      border-color: transparent;\n",
              "      border-bottom-color: var(--fill-color);\n",
              "      border-left-color: var(--fill-color);\n",
              "    }\n",
              "    20% {\n",
              "      border-color: transparent;\n",
              "      border-left-color: var(--fill-color);\n",
              "      border-top-color: var(--fill-color);\n",
              "    }\n",
              "    30% {\n",
              "      border-color: transparent;\n",
              "      border-left-color: var(--fill-color);\n",
              "      border-top-color: var(--fill-color);\n",
              "      border-right-color: var(--fill-color);\n",
              "    }\n",
              "    40% {\n",
              "      border-color: transparent;\n",
              "      border-right-color: var(--fill-color);\n",
              "      border-top-color: var(--fill-color);\n",
              "    }\n",
              "    60% {\n",
              "      border-color: transparent;\n",
              "      border-right-color: var(--fill-color);\n",
              "    }\n",
              "    80% {\n",
              "      border-color: transparent;\n",
              "      border-right-color: var(--fill-color);\n",
              "      border-bottom-color: var(--fill-color);\n",
              "    }\n",
              "    90% {\n",
              "      border-color: transparent;\n",
              "      border-bottom-color: var(--fill-color);\n",
              "    }\n",
              "  }\n",
              "</style>\n",
              "\n",
              "  <script>\n",
              "    async function quickchart(key) {\n",
              "      const quickchartButtonEl =\n",
              "        document.querySelector('#' + key + ' button');\n",
              "      quickchartButtonEl.disabled = true;  // To prevent multiple clicks.\n",
              "      quickchartButtonEl.classList.add('colab-df-spinner');\n",
              "      try {\n",
              "        const charts = await google.colab.kernel.invokeFunction(\n",
              "            'suggestCharts', [key], {});\n",
              "      } catch (error) {\n",
              "        console.error('Error during call to suggestCharts:', error);\n",
              "      }\n",
              "      quickchartButtonEl.classList.remove('colab-df-spinner');\n",
              "      quickchartButtonEl.classList.add('colab-df-quickchart-complete');\n",
              "    }\n",
              "    (() => {\n",
              "      let quickchartButtonEl =\n",
              "        document.querySelector('#df-2870eaed-169c-43c5-948d-d65c69e8f273 button');\n",
              "      quickchartButtonEl.style.display =\n",
              "        google.colab.kernel.accessAllowed ? 'block' : 'none';\n",
              "    })();\n",
              "  </script>\n",
              "</div>\n",
              "\n",
              "    </div>\n",
              "  </div>\n"
            ]
          },
          "metadata": {},
          "execution_count": 140
        }
      ]
    },
    {
      "cell_type": "markdown",
      "source": [
        "## Test"
      ],
      "metadata": {
        "id": "HAIFDyb2Xw2j"
      }
    },
    {
      "cell_type": "code",
      "source": [
        "query = current_data.questions[0]\n",
        "true_ans = current_data.answers[0]"
      ],
      "metadata": {
        "id": "wWlMK-zuWiFK"
      },
      "execution_count": null,
      "outputs": []
    },
    {
      "cell_type": "code",
      "source": [
        "ans_finetune = model_finetune(query)\n",
        "ans_finetune"
      ],
      "metadata": {
        "id": "-JPYH-9dXQau",
        "colab": {
          "base_uri": "https://localhost:8080/",
          "height": 36
        },
        "outputId": "fd7bf13d-912b-42a9-e6b3-03abaffb9c23"
      },
      "execution_count": null,
      "outputs": [
        {
          "output_type": "execute_result",
          "data": {
            "text/plain": [
              "'1. The focus of the YSA program is on homeless and low-income young'"
            ],
            "application/vnd.google.colaboratory.intrinsic+json": {
              "type": "string"
            }
          },
          "metadata": {},
          "execution_count": 34
        }
      ]
    },
    {
      "cell_type": "code",
      "source": [
        "ans_langchain = call_langchain(query)"
      ],
      "metadata": {
        "colab": {
          "base_uri": "https://localhost:8080/"
        },
        "id": "rwj9p39_hOmc",
        "outputId": "15185026-ec02-4453-ef5f-935d41e71942"
      },
      "execution_count": null,
      "outputs": [
        {
          "output_type": "stream",
          "name": "stdout",
          "text": [
            "\n",
            "\n",
            "\u001b[1m> Entering new AgentExecutor chain...\u001b[0m\n",
            "\u001b[32;1m\u001b[1;3m I should use a search engine to find information about the YSA program\n",
            "Action: Search\n",
            "Action Input: YSA program\u001b[0m\n",
            "Observation: \u001b[36;1m\u001b[1;3m['YSA provides grant funding to support state & local partner organizations and youth-led projects. Over the last 10 years, YSA awarded over $5.8 million in ...', 'Earn college credit during your last two years of high school! ... The Young Scholars Academy is a selective partnership between the Northern Kentucky Cooperative ...', 'YSA is a leading global nonprofit that activates young people, ages 5-25, to find their voice, take action, and acquire powerful civic and 21st Century skills ...', 'Our after-school and summer programs for youth ranging from elementary to middle levels. YSA strives to provide both laboratory and field research ...', 'Pompano Beach High School will host a two-week; four-day per week summer camp for gifted students entering grades four through eight. This program is designed ...', 'The YSA Benefit Program provides you with access to an individual Medicare plan, which you must obtain through an exchange sponsored by the Post ...', 'The University of Tennessee at Martin Young Scholars Academy (YSA) is a week-long, non-credit summer residential program.', 'The goal of YSA is to provide job placement into that same high-demand career field in the state. YSA Participant Benefits. $15 a Day Transportation Assistance ...', 'YSA runs after-school programs that offer something valuable for just about every student in this community in 1st through 9th grades. Our programs keep ...', 'Founded on the principle that the experience of academic research enables students to combine their critical thinking and academic writing skills in a way ...']\u001b[0m\n",
            "Thought:\u001b[32;1m\u001b[1;3m I should use a search engine to find information about the target communities of the YSA program\n",
            "Action: Search\n",
            "Action Input: YSA program target communities\u001b[0m\n",
            "Observation: \u001b[36;1m\u001b[1;3m['Our goal is that at least 50% of youth engaged in our programs are from underserved, low-income communities. One of our three core program strategies to provide ...', 'The curriculum resources, grant programs, training, and recognition opportunities YSA provides students as young as 5 years old are empowering youth around the ...', 'Economic opportunity. In the spring of 2022, we expanded the services available through the Target Scholars Program by funding Emergency Student Aid (ESA) ...', 'Consider student groups, community organizations, businesses, faith communities, and friends and family. ... Your Plan: © YSA (Youth Service America). Interview ...', 'Consider resources and solutions as you build your YSA plan ... Community outreach activities (see “Connect with Communities: Share Church Resources,” ...', \"Through YSA's programs, youth lead community change through Awareness (educating ... Who is your target audience? The Platform: Twitter. Twitter users post short ...\", 'We expect the delivery of the YSA programme to take between 6 and 9 months. ... Target Audience. The Gateway Learning Community [GLC] was launched in April 2012 ...', 'in each of the geographic target areas of Texas, Georgia ... Karen Daniel, YSA Vice President of Programs -- Karen will be responsible for program oversight.', 'Service; YSA grants and awards programs; and resources and training opportunities, YSA promotes a global culture of engaged youth committed to a lifetime of ...', '• YSA provide schools with additional community based resources available ... YSA Botvin Life Skills Program. Target Populations: Elementary, Middle School ...']\u001b[0m\n",
            "Thought:\u001b[32;1m\u001b[1;3m I should use a search engine to find information about how the YSA program helps young people\n",
            "Action: Search\n",
            "Action Input: YSA program helps young people\u001b[0m\n",
            "Observation: \u001b[36;1m\u001b[1;3m['YSA activates young people, ages 5-25, to find their voice, take action, and ... Program Support. YSA supports its activation campaigns & events with grants ...', 'YSA is a leading global nonprofit that activates young people, ages 5-25, to find their voice, take action, and acquire powerful civic and 21st Century skills ...', 'Youth Service America (YSA) believes that youth, communities, and democracy thrive when everyone participates and works together for the common good.', 'Your ability to help and bless young single adults (YSAs) will grow as you: Establish a YSA committee in your stake (multistake where needed). Call and allow ...', 'Founded in 1986, YSA supports a global culture of engaged children and youth committed to a lifetime of meaningful service, learning, and leadership.', 'The YSA committee and its members work to help all young single adults participate in the work of salvation and exaltation. Gathering Places.', 'Building on the relationship between service and positive behavioral outcomes, Youth Service. America (YSA) has developed and implemented programs and resources ...', \"YSA's Program Model shows that when YSA Activates, Funds, Trains, and Recognizes young people and their adult champions, youth respond ASAP, ...\", \"Beginning in July 2021, YSA's work is focused on increasing youth participation rates in volunteering and service, voting and civic engagement, and joining and ...\"]\u001b[0m\n",
            "Thought:\u001b[32;1m\u001b[1;3m I now know the final answer\n",
            "Final Answer: The YSA program focuses on activating young people to find their voice, take action, and acquire civic and 21st century skills. The target communities of the YSA program are underserved, low-income communities and the program helps young people by providing resources, training, and recognition opportunities for youth-led projects and initiatives.\u001b[0m\n",
            "\n",
            "\u001b[1m> Finished chain.\u001b[0m\n"
          ]
        }
      ]
    },
    {
      "cell_type": "code",
      "source": [
        "ans_langchain"
      ],
      "metadata": {
        "colab": {
          "base_uri": "https://localhost:8080/",
          "height": 55
        },
        "id": "xVWuvRnvWfLp",
        "outputId": "3b5bb84c-665d-46fc-e6cf-70f8d7a4e236"
      },
      "execution_count": null,
      "outputs": [
        {
          "output_type": "execute_result",
          "data": {
            "text/plain": [
              "'The YSA program focuses on activating young people to find their voice, take action, and acquire civic and 21st century skills. The target communities of the YSA program are underserved, low-income communities and the program helps young people by providing resources, training, and recognition opportunities for youth-led projects and initiatives.'"
            ],
            "application/vnd.google.colaboratory.intrinsic+json": {
              "type": "string"
            }
          },
          "metadata": {},
          "execution_count": 36
        }
      ]
    },
    {
      "cell_type": "code",
      "source": [
        "ans_chatgpt = call_chatgpt(query)\n",
        "ans_chatgpt"
      ],
      "metadata": {
        "id": "KIo15qXahPZs",
        "colab": {
          "base_uri": "https://localhost:8080/",
          "height": 128
        },
        "outputId": "e4b52943-f049-4a82-fa43-9517a9f8db7b"
      },
      "execution_count": null,
      "outputs": [
        {
          "output_type": "execute_result",
          "data": {
            "text/plain": [
              "'1. The focus of the YSA (Youth Service America) program is to engage and empower young people to create positive change in their communities through service and volunteering. The program aims to inspire young individuals to take action on pressing social issues and make a difference in the world.\\n\\n2. The YSA program targets young people between the ages of 5 and 25 from diverse backgrounds and communities. It seeks to involve youth from various socioeconomic statuses, ethnicities, and geographic locations. The program is open to young individuals globally, as it aims to foster a sense of global citizenship and encourage youth engagement on a global scale.\\n\\n3. The YSA program helps young people in several ways. Firstly, it provides them with opportunities to contribute to their communities and make a meaningful impact through service projects. By participating in these projects, young people develop valuable skills such as leadership, problem-solving, teamwork, and empathy.\\n\\nAdditionally, the YSA program offers resources, grants, and support to young people interested in initiating their own service projects. It helps connect them with mentors, organizations, and communities that can assist in their endeavors. This support enables young people to turn their ideas into reality and empowers them to take ownership of the issues they are passionate about.\\n\\nFurthermore, the YSA program facilitates networking among young individuals, allowing them to connect with like-minded peers and share experiences, challenges, and successes. This network helps foster a sense of community and inspires young people to continue their service journey.\\n\\nOverall, the YSA program serves as a catalyst for youth engagement and helps young people develop the skills, mindset, and resources needed to create positive change in themselves and their communities.'"
            ],
            "application/vnd.google.colaboratory.intrinsic+json": {
              "type": "string"
            }
          },
          "metadata": {},
          "execution_count": 37
        }
      ]
    },
    {
      "cell_type": "code",
      "source": [
        "ans_rag = rag(query)\n",
        "ans_rag"
      ],
      "metadata": {
        "id": "iZlOpcc6Wgn2",
        "colab": {
          "base_uri": "https://localhost:8080/",
          "height": 128
        },
        "outputId": "7d6c06a2-b53e-4c23-b0ac-19fe425dc405"
      },
      "execution_count": null,
      "outputs": [
        {
          "output_type": "stream",
          "name": "stderr",
          "text": [
            "WARNING:chromadb.segment.impl.vector.local_hnsw:Number of requested results 10 is greater than number of elements in index 4, updating n_results = 4\n"
          ]
        },
        {
          "output_type": "execute_result",
          "data": {
            "text/plain": [
              "'1. The focus of the YSA program is to help young people from bipoc and lgbtqia+ communities gain important art and business skills that can lead to job opportunities. \\n2. The target communities of the YSA program are bipoc and lgbtqia+ communities. \\n3. The YSA program helps young people by providing job training that understands their life experiences and helps them develop skills for earning income. It also assists youth in achieving their personal and professional goals in life, teaches youth about managing money and understanding finances, builds confidence and helps young people transform their lives, encourages positive relationships within families and communities as examples for young people, advocates for the well-being of youth and promotes nonviolence, especially for people of color and lgbtqia+ community members, and empowers youth by helping them realize their own ability to make positive changes.'"
            ],
            "application/vnd.google.colaboratory.intrinsic+json": {
              "type": "string"
            }
          },
          "metadata": {},
          "execution_count": 38
        }
      ]
    },
    {
      "cell_type": "markdown",
      "source": [
        "## Measure it"
      ],
      "metadata": {
        "id": "29r_qsMoX_8q"
      }
    },
    {
      "cell_type": "code",
      "source": [
        "import numpy as np\n",
        "from scipy.spatial.distance import cosine"
      ],
      "metadata": {
        "id": "JCKoflCFYZ1l"
      },
      "execution_count": null,
      "outputs": []
    },
    {
      "cell_type": "code",
      "source": [
        "def get_embedding(text, model=\"text-embedding-3-small\"):\n",
        "   text = text.replace(\"\\n\", \" \")\n",
        "   return openai_client.embeddings.create(input = [text], model=model).data[0].embedding"
      ],
      "metadata": {
        "id": "RgJ5PBXYW5kk"
      },
      "execution_count": null,
      "outputs": []
    },
    {
      "cell_type": "code",
      "source": [
        "def calculate_sts_openai_score(sentence1: str, sentence2: str) -> float:\n",
        "    # Compute sentence embeddings\n",
        "    embedding1 = get_embedding(sentence1)  # Flatten the embedding array\n",
        "    embedding2 = get_embedding(sentence2)  # Flatten the embedding array\n",
        "\n",
        "    # Convert to array\n",
        "    embedding1 = np.asarray(embedding1)\n",
        "    embedding2 = np.asarray(embedding2)\n",
        "\n",
        "    # Calculate cosine similarity between the embeddings\n",
        "    similarity_score = 1 - cosine(embedding1, embedding2)\n",
        "\n",
        "    return similarity_score"
      ],
      "metadata": {
        "id": "AiaArDnaYBD7"
      },
      "execution_count": null,
      "outputs": []
    },
    {
      "cell_type": "code",
      "source": [
        "print(calculate_sts_openai_score(ans_finetune, true_ans))\n",
        "print(calculate_sts_openai_score(ans_langchain, true_ans))\n",
        "print(calculate_sts_openai_score(ans_chatgpt, true_ans))\n",
        "print(calculate_sts_openai_score(ans_rag, true_ans))"
      ],
      "metadata": {
        "colab": {
          "base_uri": "https://localhost:8080/"
        },
        "id": "6o__O2hSYSjy",
        "outputId": "3da78741-9f4f-4583-acd3-4148cf9feab9"
      },
      "execution_count": null,
      "outputs": [
        {
          "output_type": "stream",
          "name": "stdout",
          "text": [
            "0.8358783850038842\n",
            "0.8190586759217205\n",
            "0.7988415981725308\n",
            "0.8750538851770955\n"
          ]
        }
      ]
    },
    {
      "cell_type": "markdown",
      "source": [
        "## Test on Entire `.csv`"
      ],
      "metadata": {
        "id": "Y7JvopLcfu7X"
      }
    },
    {
      "cell_type": "code",
      "source": [
        "from tqdm import tqdm"
      ],
      "metadata": {
        "id": "HPaehA71gNZX"
      },
      "execution_count": null,
      "outputs": []
    },
    {
      "cell_type": "code",
      "source": [
        "current_ans = []\n",
        "\n",
        "for i in tqdm(range(len(current_data))):\n",
        "    query = current_data.questions[i]\n",
        "\n",
        "    # Approach #1: model_finetune\n",
        "    pred = model_finetune(query)\n",
        "    current_ans.append(pred)\n",
        "\n",
        "current_data['approach_1'] = current_ans"
      ],
      "metadata": {
        "id": "dEOoBrHUZOFp",
        "colab": {
          "base_uri": "https://localhost:8080/"
        },
        "outputId": "34b3b537-3c2f-4329-af62-4c10c3e81a36"
      },
      "execution_count": null,
      "outputs": [
        {
          "output_type": "stream",
          "name": "stderr",
          "text": [
            "100%|██████████| 5/5 [00:01<00:00,  2.54it/s]\n"
          ]
        }
      ]
    },
    {
      "cell_type": "code",
      "source": [
        "current_ans = []\n",
        "\n",
        "for i in tqdm(range(len(current_data))):\n",
        "    query = current_data.questions[i]\n",
        "\n",
        "    # Approach #2: call_langchain\n",
        "    try:\n",
        "        pred = call_langchain(query)\n",
        "    except:\n",
        "        pred = \"\"\n",
        "        print(\"Error\")\n",
        "    current_ans.append(pred)\n",
        "\n",
        "current_data['approach_2'] = current_ans"
      ],
      "metadata": {
        "id": "2_jsFCo-hXTX"
      },
      "execution_count": null,
      "outputs": []
    },
    {
      "cell_type": "code",
      "source": [
        "current_ans = []\n",
        "\n",
        "for i in tqdm(range(len(current_data))):\n",
        "    query = current_data.questions[i]\n",
        "\n",
        "    # Approach #3: call_chatgpt\n",
        "    pred = call_chatgpt(query)\n",
        "    current_ans.append(pred)\n",
        "\n",
        "current_data['approach_3'] = current_ans"
      ],
      "metadata": {
        "colab": {
          "base_uri": "https://localhost:8080/"
        },
        "id": "k4AWFidvhtm4",
        "outputId": "2c230f4c-12c0-4423-f455-b486b423e589"
      },
      "execution_count": null,
      "outputs": [
        {
          "output_type": "stream",
          "name": "stderr",
          "text": [
            "100%|██████████| 5/5 [00:28<00:00,  5.78s/it]\n"
          ]
        }
      ]
    },
    {
      "cell_type": "code",
      "source": [
        "current_ans = []\n",
        "\n",
        "for i in tqdm(range(len(current_data))):\n",
        "    query = current_data.questions[i]\n",
        "\n",
        "    # Approach #4: rag\n",
        "    pred = rag(query)\n",
        "    current_ans.append(pred)\n",
        "\n",
        "current_data['approach_4'] = current_ans"
      ],
      "metadata": {
        "colab": {
          "base_uri": "https://localhost:8080/"
        },
        "id": "6DvfyUc3jGvi",
        "outputId": "39667fe2-e065-4c00-b9cf-823204026b73"
      },
      "execution_count": null,
      "outputs": [
        {
          "output_type": "stream",
          "name": "stderr",
          "text": [
            "  0%|          | 0/5 [00:00<?, ?it/s]WARNING:chromadb.segment.impl.vector.local_hnsw:Number of requested results 10 is greater than number of elements in index 5, updating n_results = 5\n",
            " 20%|██        | 1/5 [00:03<00:14,  3.61s/it]WARNING:chromadb.segment.impl.vector.local_hnsw:Number of requested results 10 is greater than number of elements in index 5, updating n_results = 5\n",
            " 40%|████      | 2/5 [00:07<00:10,  3.62s/it]WARNING:chromadb.segment.impl.vector.local_hnsw:Number of requested results 10 is greater than number of elements in index 5, updating n_results = 5\n",
            " 60%|██████    | 3/5 [00:09<00:05,  2.83s/it]WARNING:chromadb.segment.impl.vector.local_hnsw:Number of requested results 10 is greater than number of elements in index 5, updating n_results = 5\n",
            " 80%|████████  | 4/5 [00:13<00:03,  3.27s/it]WARNING:chromadb.segment.impl.vector.local_hnsw:Number of requested results 10 is greater than number of elements in index 5, updating n_results = 5\n",
            "100%|██████████| 5/5 [00:16<00:00,  3.38s/it]\n"
          ]
        }
      ]
    },
    {
      "cell_type": "code",
      "source": [
        "%%time\n",
        "\n",
        "current_data['score_approach_1'] = current_data.apply(lambda x: calculate_sts_openai_score(x['approach_1'], x['answers']), axis=1)\n",
        "current_data['score_approach_2'] = current_data.apply(lambda x: calculate_sts_openai_score(x['approach_2'], x['answers']), axis=1)\n",
        "current_data['score_approach_3'] = current_data.apply(lambda x: calculate_sts_openai_score(x['approach_3'], x['answers']), axis=1)\n",
        "current_data['score_approach_4'] = current_data.apply(lambda x: calculate_sts_openai_score(x['approach_4'], x['answers']), axis=1)"
      ],
      "metadata": {
        "colab": {
          "base_uri": "https://localhost:8080/"
        },
        "id": "1ZtWjIfhjQWi",
        "outputId": "d1d575b5-9d6b-46cd-907a-2483d23e3c9f"
      },
      "execution_count": null,
      "outputs": [
        {
          "output_type": "stream",
          "name": "stdout",
          "text": [
            "CPU times: user 266 ms, sys: 20.7 ms, total: 286 ms\n",
            "Wall time: 10.9 s\n"
          ]
        }
      ]
    },
    {
      "cell_type": "code",
      "source": [
        "current_data.to_csv(f\"/content/drive/MyDrive/Colab Notebooks/AI Research/Students/xxx/data/final_score_{nom}.csv\")"
      ],
      "metadata": {
        "id": "Pml01dd9jtel"
      },
      "execution_count": null,
      "outputs": []
    },
    {
      "cell_type": "code",
      "source": [],
      "metadata": {
        "id": "wR6QvRqzj6-E"
      },
      "execution_count": null,
      "outputs": []
    }
  ]
}