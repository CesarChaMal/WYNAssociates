{
  "nbformat": 4,
  "nbformat_minor": 0,
  "metadata": {
    "colab": {
      "provenance": []
    },
    "kernelspec": {
      "name": "python3",
      "display_name": "Python 3"
    },
    "language_info": {
      "name": "python"
    }
  },
  "cells": [
    {
      "cell_type": "markdown",
      "source": [
        "## Download"
      ],
      "metadata": {
        "id": "4jCYcYhBGjkZ"
      }
    },
    {
      "cell_type": "code",
      "execution_count": null,
      "metadata": {
        "id": "looDT2SvGE0S"
      },
      "outputs": [],
      "source": [
        "pip install openai"
      ]
    },
    {
      "cell_type": "markdown",
      "source": [
        "## Import OpenAI"
      ],
      "metadata": {
        "id": "9ACBJeHfGkwr"
      }
    },
    {
      "cell_type": "code",
      "source": [
        "import openai\n",
        "openai.api_key = \"ENTER API KEY HERE\""
      ],
      "metadata": {
        "id": "iH-fZfVmGJ4R"
      },
      "execution_count": 78,
      "outputs": []
    },
    {
      "cell_type": "code",
      "source": [
        "pip install PyPDF2"
      ],
      "metadata": {
        "id": "65-rpeuzGQas"
      },
      "execution_count": null,
      "outputs": []
    },
    {
      "cell_type": "markdown",
      "source": [
        "## Define `extract_df_text` Function"
      ],
      "metadata": {
        "id": "rBS3SWUqGmDE"
      }
    },
    {
      "cell_type": "markdown",
      "source": [
        "The following function extract pdf assuming each page is a big string."
      ],
      "metadata": {
        "id": "eViCMyJiIhlR"
      }
    },
    {
      "cell_type": "code",
      "source": [
        "from typing import List\n",
        "from PyPDF2 import PdfReader\n",
        "\n",
        "\n",
        "def extract_pdf_text(filepath: str) -> List[str]:\n",
        "    \"\"\"\n",
        "    Extracts text from each page of a PDF file using PyPDF2 and returns it as a list of strings.\n",
        "\n",
        "    Parameters:\n",
        "    filepath (str): The file path or URL of the PDF file to extract text from.\n",
        "\n",
        "    Returns:\n",
        "    List[str]: A list of strings containing the extracted text from each page of the PDF.\n",
        "    \"\"\"\n",
        "    pdf_file = open(filepath, 'rb')\n",
        "    status = True\n",
        "    try:\n",
        "        pdf_reader = PdfReader(pdf_file)\n",
        "        pages = len(pdf_reader.pages)\n",
        "\n",
        "        text_list = []\n",
        "        for page in range(pages):\n",
        "            pdf_page = pdf_reader.pages[page]\n",
        "            text = pdf_page.extract_text()\n",
        "            text_list.append(text)\n",
        "    except Exception as e:\n",
        "        status = False\n",
        "\n",
        "    if status == False:\n",
        "        try:\n",
        "            text_list = []\n",
        "            for i in PdfReader(open(name, 'rb')).pages:\n",
        "                text_list.append(i.extract_text())\n",
        "        except Exception as e:\n",
        "            text_list = \"Failed.\"\n",
        "    else:\n",
        "        print(f\"Task status: {text_list}\")\n",
        "\n",
        "    pdf_file.close()\n",
        "    return text_list\n"
      ],
      "metadata": {
        "id": "EgPAnVJyGNWi"
      },
      "execution_count": null,
      "outputs": []
    },
    {
      "cell_type": "markdown",
      "source": [
        "The following breaks PDF down and extract by token sizes."
      ],
      "metadata": {
        "id": "QWKR1IvcInLX"
      }
    },
    {
      "cell_type": "code",
      "source": [
        "from typing import List\n",
        "import re\n",
        "from PyPDF2 import PdfReader\n",
        "\n",
        "\n",
        "def extract_pdf_text(filepath: str) -> List[str]:\n",
        "    \"\"\"\n",
        "    Extracts text from each page of a PDF file using PyPDF2 and returns it as a list of strings,\n",
        "    with each string containing approximately 200 tokens.\n",
        "\n",
        "    Parameters:\n",
        "    filepath (str): The file path or URL of the PDF file to extract text from.\n",
        "\n",
        "    Returns:\n",
        "    List[str]: A list of strings containing the extracted text from the PDF, split into paragraphs\n",
        "               of approximately 200 tokens.\n",
        "    \"\"\"\n",
        "    def split_text(text: str, token_limit: int = 100) -> List[str]:\n",
        "        tokens = text.split()\n",
        "        paragraphs = [' '.join(tokens[i:i+token_limit]) for i in range(0, len(tokens), token_limit)]\n",
        "        return paragraphs\n",
        "\n",
        "    pdf_file = open(filepath, 'rb')\n",
        "    text_list = []\n",
        "\n",
        "    try:\n",
        "        pdf_reader = PdfReader(pdf_file)\n",
        "        for pdf_page in pdf_reader.pages:\n",
        "            text = pdf_page.extract_text()\n",
        "            paragraphs = split_text(text)\n",
        "            text_list.extend(paragraphs)\n",
        "    except Exception as e:\n",
        "        try:\n",
        "            for i in PdfReader(open(name, 'rb')).pages:\n",
        "                text = i.extract_text()\n",
        "                paragraphs = split_text(text)\n",
        "                text_list.extend(paragraphs)\n",
        "        except Exception as e:\n",
        "            text_list = [\"Failed.\"]\n",
        "\n",
        "    pdf_file.close()\n",
        "    return text_list"
      ],
      "metadata": {
        "id": "--dR39F-Iqup"
      },
      "execution_count": 117,
      "outputs": []
    },
    {
      "cell_type": "markdown",
      "source": [
        "### Scrape PDF"
      ],
      "metadata": {
        "id": "giW0qyzsGpty"
      }
    },
    {
      "cell_type": "code",
      "source": [
        "%%time\n",
        "# name = \"/content/the-economic-potential-of-generative-ai-the-next-productivity-frontier-vf.pdf\"\n",
        "# name = \"/content/2020-2021-Larkin-Street-Youth-Services-Impact-Report.pdf\"\n",
        "# name = \"/content/WEF_Adopting_AI_Responsibly_Guidelines_for_Procurement_of_AI_Solutions_by_the_Private_Sector_2023.pdf\"\n",
        "# name = \"/content/THV-Flyer-and-application.pdf\"\n",
        "# name = \"/content/MAIA_Abstract_18.pdf\"\n",
        "name = \"/content/2020-2021-Larkin-Street-Youth-Services-Impact-Report.pdf\"\n",
        "pdf_text_list = extract_pdf_text(f\"{name}\")\n",
        "print(pdf_text_list)"
      ],
      "metadata": {
        "id": "UerpG8XYGO0-"
      },
      "execution_count": null,
      "outputs": []
    },
    {
      "cell_type": "code",
      "source": [
        "pdf_text_list = pdf_text_list[0:3]"
      ],
      "metadata": {
        "id": "bQSjHMcBI5IT"
      },
      "execution_count": 119,
      "outputs": []
    },
    {
      "cell_type": "markdown",
      "source": [
        "### Create DataFrame\n",
        "\n",
        "Create dataframe"
      ],
      "metadata": {
        "id": "M00IeyR-Gfmk"
      }
    },
    {
      "cell_type": "code",
      "source": [
        "import pandas as pd"
      ],
      "metadata": {
        "id": "V250jXhLGhpH"
      },
      "execution_count": 120,
      "outputs": []
    },
    {
      "cell_type": "code",
      "source": [
        "df = pd.DataFrame(pdf_text_list)\n",
        "df.columns = ['context']\n",
        "df.shape"
      ],
      "metadata": {
        "colab": {
          "base_uri": "https://localhost:8080/"
        },
        "id": "2MGr0LKwGgW1",
        "outputId": "0afef4cb-1d84-4e0b-987e-20746c7224d7"
      },
      "execution_count": 121,
      "outputs": [
        {
          "output_type": "execute_result",
          "data": {
            "text/plain": [
              "(3, 1)"
            ]
          },
          "metadata": {},
          "execution_count": 121
        }
      ]
    },
    {
      "cell_type": "code",
      "source": [
        "df.head()"
      ],
      "metadata": {
        "colab": {
          "base_uri": "https://localhost:8080/",
          "height": 286
        },
        "id": "ZaU20z9Nqc08",
        "outputId": "6096196b-d5d1-44ad-9004-f2d7ab6da205"
      },
      "execution_count": 122,
      "outputs": [
        {
          "output_type": "execute_result",
          "data": {
            "text/plain": [
              "                                             context\n",
              "0                               ANNUAL IMPACT REPORT\n",
              "1  WELCOME. CONTENTS IMPACT 5 SCOPE 6 COVID-19 10...\n",
              "2  IMPACT YOUTH WE SERVE IMPACTDear Friends, We a..."
            ],
            "text/html": [
              "\n",
              "\n",
              "  <div id=\"df-e9fbc184-6b05-443c-a122-3fdcd22971cf\">\n",
              "    <div class=\"colab-df-container\">\n",
              "      <div>\n",
              "<style scoped>\n",
              "    .dataframe tbody tr th:only-of-type {\n",
              "        vertical-align: middle;\n",
              "    }\n",
              "\n",
              "    .dataframe tbody tr th {\n",
              "        vertical-align: top;\n",
              "    }\n",
              "\n",
              "    .dataframe thead th {\n",
              "        text-align: right;\n",
              "    }\n",
              "</style>\n",
              "<table border=\"1\" class=\"dataframe\">\n",
              "  <thead>\n",
              "    <tr style=\"text-align: right;\">\n",
              "      <th></th>\n",
              "      <th>context</th>\n",
              "    </tr>\n",
              "  </thead>\n",
              "  <tbody>\n",
              "    <tr>\n",
              "      <th>0</th>\n",
              "      <td>ANNUAL IMPACT REPORT</td>\n",
              "    </tr>\n",
              "    <tr>\n",
              "      <th>1</th>\n",
              "      <td>WELCOME. CONTENTS IMPACT 5 SCOPE 6 COVID-19 10...</td>\n",
              "    </tr>\n",
              "    <tr>\n",
              "      <th>2</th>\n",
              "      <td>IMPACT YOUTH WE SERVE IMPACTDear Friends, We a...</td>\n",
              "    </tr>\n",
              "  </tbody>\n",
              "</table>\n",
              "</div>\n",
              "      <button class=\"colab-df-convert\" onclick=\"convertToInteractive('df-e9fbc184-6b05-443c-a122-3fdcd22971cf')\"\n",
              "              title=\"Convert this dataframe to an interactive table.\"\n",
              "              style=\"display:none;\">\n",
              "\n",
              "  <svg xmlns=\"http://www.w3.org/2000/svg\" height=\"24px\"viewBox=\"0 0 24 24\"\n",
              "       width=\"24px\">\n",
              "    <path d=\"M0 0h24v24H0V0z\" fill=\"none\"/>\n",
              "    <path d=\"M18.56 5.44l.94 2.06.94-2.06 2.06-.94-2.06-.94-.94-2.06-.94 2.06-2.06.94zm-11 1L8.5 8.5l.94-2.06 2.06-.94-2.06-.94L8.5 2.5l-.94 2.06-2.06.94zm10 10l.94 2.06.94-2.06 2.06-.94-2.06-.94-.94-2.06-.94 2.06-2.06.94z\"/><path d=\"M17.41 7.96l-1.37-1.37c-.4-.4-.92-.59-1.43-.59-.52 0-1.04.2-1.43.59L10.3 9.45l-7.72 7.72c-.78.78-.78 2.05 0 2.83L4 21.41c.39.39.9.59 1.41.59.51 0 1.02-.2 1.41-.59l7.78-7.78 2.81-2.81c.8-.78.8-2.07 0-2.86zM5.41 20L4 18.59l7.72-7.72 1.47 1.35L5.41 20z\"/>\n",
              "  </svg>\n",
              "      </button>\n",
              "\n",
              "\n",
              "\n",
              "    <div id=\"df-19e562d4-1604-4282-ba90-9174987eec3f\">\n",
              "      <button class=\"colab-df-quickchart\" onclick=\"quickchart('df-19e562d4-1604-4282-ba90-9174987eec3f')\"\n",
              "              title=\"Suggest charts.\"\n",
              "              style=\"display:none;\">\n",
              "\n",
              "<svg xmlns=\"http://www.w3.org/2000/svg\" height=\"24px\"viewBox=\"0 0 24 24\"\n",
              "     width=\"24px\">\n",
              "    <g>\n",
              "        <path d=\"M19 3H5c-1.1 0-2 .9-2 2v14c0 1.1.9 2 2 2h14c1.1 0 2-.9 2-2V5c0-1.1-.9-2-2-2zM9 17H7v-7h2v7zm4 0h-2V7h2v10zm4 0h-2v-4h2v4z\"/>\n",
              "    </g>\n",
              "</svg>\n",
              "      </button>\n",
              "    </div>\n",
              "\n",
              "<style>\n",
              "  .colab-df-quickchart {\n",
              "    background-color: #E8F0FE;\n",
              "    border: none;\n",
              "    border-radius: 50%;\n",
              "    cursor: pointer;\n",
              "    display: none;\n",
              "    fill: #1967D2;\n",
              "    height: 32px;\n",
              "    padding: 0 0 0 0;\n",
              "    width: 32px;\n",
              "  }\n",
              "\n",
              "  .colab-df-quickchart:hover {\n",
              "    background-color: #E2EBFA;\n",
              "    box-shadow: 0px 1px 2px rgba(60, 64, 67, 0.3), 0px 1px 3px 1px rgba(60, 64, 67, 0.15);\n",
              "    fill: #174EA6;\n",
              "  }\n",
              "\n",
              "  [theme=dark] .colab-df-quickchart {\n",
              "    background-color: #3B4455;\n",
              "    fill: #D2E3FC;\n",
              "  }\n",
              "\n",
              "  [theme=dark] .colab-df-quickchart:hover {\n",
              "    background-color: #434B5C;\n",
              "    box-shadow: 0px 1px 3px 1px rgba(0, 0, 0, 0.15);\n",
              "    filter: drop-shadow(0px 1px 2px rgba(0, 0, 0, 0.3));\n",
              "    fill: #FFFFFF;\n",
              "  }\n",
              "</style>\n",
              "\n",
              "    <script>\n",
              "      async function quickchart(key) {\n",
              "        const containerElement = document.querySelector('#' + key);\n",
              "        const charts = await google.colab.kernel.invokeFunction(\n",
              "            'suggestCharts', [key], {});\n",
              "      }\n",
              "    </script>\n",
              "\n",
              "\n",
              "      <script>\n",
              "\n",
              "function displayQuickchartButton(domScope) {\n",
              "  let quickchartButtonEl =\n",
              "    domScope.querySelector('#df-19e562d4-1604-4282-ba90-9174987eec3f button.colab-df-quickchart');\n",
              "  quickchartButtonEl.style.display =\n",
              "    google.colab.kernel.accessAllowed ? 'block' : 'none';\n",
              "}\n",
              "\n",
              "        displayQuickchartButton(document);\n",
              "      </script>\n",
              "      <style>\n",
              "    .colab-df-container {\n",
              "      display:flex;\n",
              "      flex-wrap:wrap;\n",
              "      gap: 12px;\n",
              "    }\n",
              "\n",
              "    .colab-df-convert {\n",
              "      background-color: #E8F0FE;\n",
              "      border: none;\n",
              "      border-radius: 50%;\n",
              "      cursor: pointer;\n",
              "      display: none;\n",
              "      fill: #1967D2;\n",
              "      height: 32px;\n",
              "      padding: 0 0 0 0;\n",
              "      width: 32px;\n",
              "    }\n",
              "\n",
              "    .colab-df-convert:hover {\n",
              "      background-color: #E2EBFA;\n",
              "      box-shadow: 0px 1px 2px rgba(60, 64, 67, 0.3), 0px 1px 3px 1px rgba(60, 64, 67, 0.15);\n",
              "      fill: #174EA6;\n",
              "    }\n",
              "\n",
              "    [theme=dark] .colab-df-convert {\n",
              "      background-color: #3B4455;\n",
              "      fill: #D2E3FC;\n",
              "    }\n",
              "\n",
              "    [theme=dark] .colab-df-convert:hover {\n",
              "      background-color: #434B5C;\n",
              "      box-shadow: 0px 1px 3px 1px rgba(0, 0, 0, 0.15);\n",
              "      filter: drop-shadow(0px 1px 2px rgba(0, 0, 0, 0.3));\n",
              "      fill: #FFFFFF;\n",
              "    }\n",
              "  </style>\n",
              "\n",
              "      <script>\n",
              "        const buttonEl =\n",
              "          document.querySelector('#df-e9fbc184-6b05-443c-a122-3fdcd22971cf button.colab-df-convert');\n",
              "        buttonEl.style.display =\n",
              "          google.colab.kernel.accessAllowed ? 'block' : 'none';\n",
              "\n",
              "        async function convertToInteractive(key) {\n",
              "          const element = document.querySelector('#df-e9fbc184-6b05-443c-a122-3fdcd22971cf');\n",
              "          const dataTable =\n",
              "            await google.colab.kernel.invokeFunction('convertToInteractive',\n",
              "                                                     [key], {});\n",
              "          if (!dataTable) return;\n",
              "\n",
              "          const docLinkHtml = 'Like what you see? Visit the ' +\n",
              "            '<a target=\"_blank\" href=https://colab.research.google.com/notebooks/data_table.ipynb>data table notebook</a>'\n",
              "            + ' to learn more about interactive tables.';\n",
              "          element.innerHTML = '';\n",
              "          dataTable['output_type'] = 'display_data';\n",
              "          await google.colab.output.renderOutput(dataTable, element);\n",
              "          const docLink = document.createElement('div');\n",
              "          docLink.innerHTML = docLinkHtml;\n",
              "          element.appendChild(docLink);\n",
              "        }\n",
              "      </script>\n",
              "    </div>\n",
              "  </div>\n"
            ]
          },
          "metadata": {},
          "execution_count": 122
        }
      ]
    },
    {
      "cell_type": "code",
      "source": [
        "df.to_csv(\"contexts.csv\")"
      ],
      "metadata": {
        "id": "LWNoEWj9-cVX"
      },
      "execution_count": null,
      "outputs": []
    },
    {
      "cell_type": "markdown",
      "source": [
        "### Define Function: `get_questions`"
      ],
      "metadata": {
        "id": "13SfFQLCGwYB"
      }
    },
    {
      "cell_type": "code",
      "source": [
        "def get_questions(context: str) -> str:\n",
        "    \"\"\"\n",
        "    Given a text context, generates a list of questions using OpenAI's GPT-3 API.\n",
        "\n",
        "    Args:\n",
        "    - context: A string representing the context for which questions should be generated.\n",
        "\n",
        "    Returns:\n",
        "    - A string containing the question generated by the API.\n",
        "    \"\"\"\n",
        "\n",
        "    try:\n",
        "        response = openai.Completion.create(\n",
        "            engine=\"davinci-instruct-beta-v3\",\n",
        "            prompt=f\"Write just ONE question based on the text below\\n\\nText: {context}\\n\\nQuestion:\\n1.\",\n",
        "            # prompt=f\"Write one question based on the text: {context}: Question:\",\n",
        "            temperature=0,\n",
        "            max_tokens=200,\n",
        "            top_p=1,\n",
        "            frequency_penalty=0,\n",
        "            presence_penalty=0,\n",
        "            stop=[\"\\n\\n\"]\n",
        "        )\n",
        "        # Extract question text from the response\n",
        "        question_text = response['choices'][0]['text']\n",
        "        return question_text\n",
        "    except:\n",
        "        # Return an empty string if there was an error\n",
        "        return \"\""
      ],
      "metadata": {
        "id": "lSSL0AepGv5W"
      },
      "execution_count": 137,
      "outputs": []
    },
    {
      "cell_type": "markdown",
      "source": [
        "Run on real data"
      ],
      "metadata": {
        "id": "5DAhOV4CG7Ne"
      }
    },
    {
      "cell_type": "code",
      "source": [
        "%%time\n",
        "df['questions'] = df.context.apply(get_questions)\n",
        "# df['questions'] = \"1.\" + df.questions\n",
        "# print(df[['questions']].values[0][0])"
      ],
      "metadata": {
        "id": "sqMlSJbxGzz3"
      },
      "execution_count": null,
      "outputs": []
    },
    {
      "cell_type": "code",
      "source": [
        "df"
      ],
      "metadata": {
        "id": "VnUHXWpZJgCw"
      },
      "execution_count": null,
      "outputs": []
    },
    {
      "cell_type": "markdown",
      "source": [
        "### Define Function: `get_answers`"
      ],
      "metadata": {
        "id": "ieoOmYg5G3eA"
      }
    },
    {
      "cell_type": "code",
      "source": [
        "def get_answers(row: pd.DataFrame) -> str:\n",
        "    \"\"\"\n",
        "    Given a dataframe row containing context and questions, generates an answer using OpenAI's GPT-3 API.\n",
        "\n",
        "    Args:\n",
        "    - row: A pandas dataframe row containing 'context' and 'questions' columns.\n",
        "\n",
        "    Returns:\n",
        "    - A string containing the answer generated by the API.\n",
        "    \"\"\"\n",
        "\n",
        "    try:\n",
        "        response = openai.Completion.create(\n",
        "            engine=\"davinci-instruct-beta-v3\",\n",
        "            prompt=f\"Write answer (limit to 1 paragraph) based on the text below\\n\\nText: {row.context}\\n\\nQuestion:\\n{row.questions}\\n\\nAnswer:\",\n",
        "            temperature=0,\n",
        "            max_tokens=500,\n",
        "            top_p=1,\n",
        "            frequency_penalty=0,\n",
        "            presence_penalty=0\n",
        "        )\n",
        "        # Extract answer text from the response\n",
        "        answer_text = response['choices'][0]['text']\n",
        "        return answer_text\n",
        "    except Exception as e:\n",
        "        # Print the error message and return an empty string if there was an error\n",
        "        print (e)\n",
        "        return \"\""
      ],
      "metadata": {
        "id": "32-1L_5pG1dc"
      },
      "execution_count": 112,
      "outputs": []
    },
    {
      "cell_type": "markdown",
      "source": [
        "Run on real data"
      ],
      "metadata": {
        "id": "PXNGmyCrG8kR"
      }
    },
    {
      "cell_type": "code",
      "source": [
        "%%time\n",
        "df['answers']= df.apply(get_answers, axis=1)\n",
        "# df['answers'] = \"1.\" + df.answers\n",
        "df = df.dropna().reset_index().drop('index', axis=1)\n",
        "print(df[['answers']].values[0][0])"
      ],
      "metadata": {
        "colab": {
          "base_uri": "https://localhost:8080/"
        },
        "id": "fyiDK_j9G5pO",
        "outputId": "e586332a-a921-4194-d212-b27cff4d07b8"
      },
      "execution_count": 132,
      "outputs": [
        {
          "output_type": "stream",
          "name": "stdout",
          "text": [
            "\n",
            "\n",
            "The annual impact report provides an overview of the organization's impact over the past year. It highlights the progress the organization has made and the challenges it has faced. The report also includes information about the organization's finances and how it plans to use its resources in the future.\n",
            "CPU times: user 23.1 ms, sys: 2.88 ms, total: 26 ms\n",
            "Wall time: 2.05 s\n"
          ]
        }
      ]
    },
    {
      "cell_type": "code",
      "source": [
        "df.head()"
      ],
      "metadata": {
        "id": "wamulNgqHv_R"
      },
      "execution_count": null,
      "outputs": []
    },
    {
      "cell_type": "markdown",
      "source": [
        "## Save DataFrame"
      ],
      "metadata": {
        "id": "bWDt8LlvG_o6"
      }
    },
    {
      "cell_type": "code",
      "source": [
        "df.to_csv(f'results.csv')"
      ],
      "metadata": {
        "id": "NYs9ToJgHBml"
      },
      "execution_count": null,
      "outputs": []
    },
    {
      "cell_type": "markdown",
      "source": [
        "## Post Processing\n",
        "\n",
        "The following process the code for `GPT4`.\n",
        "\n",
        "Only run it if you are using `GPT4`."
      ],
      "metadata": {
        "id": "avM16FEECFPH"
      }
    },
    {
      "cell_type": "code",
      "source": [
        "import numpy as np\n",
        "import re"
      ],
      "metadata": {
        "id": "kpC_sYFwcHMN"
      },
      "execution_count": null,
      "outputs": []
    },
    {
      "cell_type": "code",
      "source": [
        "questions = pd.DataFrame()\n",
        "answers = pd.DataFrame()\n",
        "\n",
        "for i in range(2):\n",
        "    processed_df_quest = pd.DataFrame()\n",
        "    processed_df_ans = pd.DataFrame()\n",
        "\n",
        "    s = df.questions[i]\n",
        "    split_s = re.split(r'\\d+\\.', s)\n",
        "    split_s = [i.strip() for i in split_s if i]\n",
        "    processed_df_quest['questions'] = split_s\n",
        "    questions = pd.concat([questions, processed_df_quest])\n",
        "\n",
        "    s = df.answers[i]\n",
        "    split_s = re.split(r'\\d+\\.', s)\n",
        "    split_s = [i.strip() for i in split_s if i]\n",
        "    processed_df_ans['answers'] = split_s\n",
        "    answers = pd.concat([answers, processed_df_ans])"
      ],
      "metadata": {
        "id": "ptA3NzMlbdKY"
      },
      "execution_count": null,
      "outputs": []
    },
    {
      "cell_type": "code",
      "source": [
        "questions['role'] = 'user'\n",
        "questions = questions[['role', 'questions']]\n",
        "questions.columns = ['role', 'content']\n",
        "questions.index = np.arange(1, len(questions) + 1)"
      ],
      "metadata": {
        "id": "2KXlE298d4IR"
      },
      "execution_count": null,
      "outputs": []
    },
    {
      "cell_type": "code",
      "source": [
        "answers['role'] = 'assistant'\n",
        "answers = answers[['role', 'answers']]\n",
        "answers.columns = ['role', 'content']\n",
        "answers.index = np.arange(1, len(answers) + 1)"
      ],
      "metadata": {
        "id": "r0EyebIqcIar"
      },
      "execution_count": null,
      "outputs": []
    },
    {
      "cell_type": "code",
      "source": [
        "final_messages = []\n",
        "for i in range(len(questions)):\n",
        "    final_messages.append(questions.iloc[i, :].to_dict())\n",
        "    final_messages.append(answers.iloc[i, :].to_dict())"
      ],
      "metadata": {
        "id": "Ng1y7qtIfNqR"
      },
      "execution_count": null,
      "outputs": []
    },
    {
      "cell_type": "code",
      "source": [
        "final_messages"
      ],
      "metadata": {
        "id": "YUQ5HG9YhEDF"
      },
      "execution_count": null,
      "outputs": []
    },
    {
      "cell_type": "code",
      "source": [
        "def convert_to_list_of_dict_single_pair(df: pd.DataFrame) -> List[Dict[str, str]]:\n",
        "    questions = pd.DataFrame()\n",
        "    answers = pd.DataFrame()\n",
        "\n",
        "    for i in range(df.shape[0]):\n",
        "        processed_df_quest = pd.DataFrame()\n",
        "        processed_df_ans = pd.DataFrame()\n",
        "\n",
        "        s = df.questions[i]\n",
        "        split_s = re.split(r'\\d+\\.', s)\n",
        "        split_s = [i.strip() for i in split_s if i]\n",
        "        processed_df_quest['questions'] = split_s\n",
        "        questions = pd.concat([questions, processed_df_quest])\n",
        "\n",
        "        s = df.answers[i]\n",
        "        split_s = re.split(r'\\d+\\.', s)\n",
        "        split_s = [i.strip() for i in split_s if i]\n",
        "        processed_df_ans['answers'] = split_s\n",
        "        answers = pd.concat([answers, processed_df_ans])\n",
        "\n",
        "    questions['role'] = 'user'\n",
        "    questions = questions[['role', 'questions']]\n",
        "    questions.columns = ['role', 'content']\n",
        "    questions.index = np.arange(1, len(questions) + 1)\n",
        "\n",
        "    answers['role'] = 'assistant'\n",
        "    answers = answers[['role', 'answers']]\n",
        "    answers.columns = ['role', 'content']\n",
        "    answers.index = np.arange(1, len(answers) + 1)\n",
        "\n",
        "    final_messages = []\n",
        "    for i in range(len(questions)):\n",
        "        final_messages.append(questions.iloc[i, :].to_dict())\n",
        "        final_messages.append(answers.iloc[i, :].to_dict())\n",
        "\n",
        "    return final_messages"
      ],
      "metadata": {
        "id": "vU1ZPC1UhcKn"
      },
      "execution_count": null,
      "outputs": []
    },
    {
      "cell_type": "code",
      "source": [
        "convert_to_list_of_dict_single_pair(df)"
      ],
      "metadata": {
        "id": "rFqbyi9GlVAh"
      },
      "execution_count": null,
      "outputs": []
    },
    {
      "cell_type": "markdown",
      "source": [
        "## Post Processing\n",
        "\n",
        "The following code break the question-answer down into rows.\n",
        "\n",
        "Only do this if you want to fine-tune your own LLM models."
      ],
      "metadata": {
        "id": "Zp8PczZNCNM_"
      }
    },
    {
      "cell_type": "code",
      "source": [
        "import pandas as pd\n",
        "import re"
      ],
      "metadata": {
        "id": "WZYgb5j0CSgo"
      },
      "execution_count": 29,
      "outputs": []
    },
    {
      "cell_type": "code",
      "source": [
        "df = pd.read_csv(\"/content/mckinsey-covid-report.csv\")"
      ],
      "metadata": {
        "id": "HXa0Ef6qCYoI"
      },
      "execution_count": 16,
      "outputs": []
    },
    {
      "cell_type": "code",
      "source": [
        "# Define a regular expression pattern for splitting\n",
        "pattern = re.compile(r'(?=\\n[1-9])')"
      ],
      "metadata": {
        "id": "WSlHbL0yGuWd"
      },
      "execution_count": 30,
      "outputs": []
    },
    {
      "cell_type": "code",
      "source": [
        "# Create a sample dataframe\n",
        "data = df\n",
        "\n",
        "# Initialize empty lists to store the processed questions for each column\n",
        "context = []\n",
        "processed_q = []\n",
        "processed_a = []\n",
        "\n",
        "# Iterate over the rows of the dataframe\n",
        "for index, row in df.iterrows():\n",
        "\n",
        "    # Process the 'questions' column\n",
        "    questions = re.split(pattern, row['questions'])\n",
        "    for quest in questions:\n",
        "        processed_q.append(quest.strip())\n",
        "\n",
        "    # Process the 'answers' column\n",
        "    answers = re.split(pattern, row['answers'])\n",
        "    for ans in answers:\n",
        "        processed_a.append(ans.strip())\n",
        "\n",
        "    # Process the 'context' column\n",
        "    for ans in answers:\n",
        "        c = row['context']\n",
        "        context.append(c)\n",
        "\n",
        "# Create a new dataframe with the processed questions\n",
        "new_data = {\n",
        "    'context': context,\n",
        "    'questions': processed_q,\n",
        "    'answers': processed_a\n",
        "}"
      ],
      "metadata": {
        "id": "5LCJT1trCboL"
      },
      "execution_count": 31,
      "outputs": []
    },
    {
      "cell_type": "code",
      "source": [
        "len(new_data['context']), len(new_data['questions']), len(new_data['answers'])"
      ],
      "metadata": {
        "colab": {
          "base_uri": "https://localhost:8080/"
        },
        "id": "nVnQqOfnFx9O",
        "outputId": "e6d3e0ae-88e7-4ebc-e3c9-3f506ffa7c70"
      },
      "execution_count": 32,
      "outputs": [
        {
          "output_type": "execute_result",
          "data": {
            "text/plain": [
              "(54, 48, 54)"
            ]
          },
          "metadata": {},
          "execution_count": 32
        }
      ]
    },
    {
      "cell_type": "code",
      "source": [
        "i=3\n",
        "print(new_data['context'][i])\n",
        "print(new_data['questions'][i])\n",
        "print(new_data['answers'][i])"
      ],
      "metadata": {
        "id": "G0a5zrwvHI89"
      },
      "execution_count": null,
      "outputs": []
    },
    {
      "cell_type": "code",
      "source": [
        "new_df = pd.DataFrame(new_data)\n",
        "\n",
        "print(new_df)"
      ],
      "metadata": {
        "id": "qzLJww0zFwiU"
      },
      "execution_count": null,
      "outputs": []
    },
    {
      "cell_type": "code",
      "source": [],
      "metadata": {
        "id": "RkEH8ju7EOLT"
      },
      "execution_count": 133,
      "outputs": []
    }
  ]
}