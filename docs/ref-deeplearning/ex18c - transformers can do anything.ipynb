{
  "cells": [
    {
      "cell_type": "markdown",
      "metadata": {
        "id": "wBYnnHzI4dhX"
      },
      "source": [
        "# Transformers can do anything\n",
        "\n",
        "Transformers version v4.29 introduces a new API: an API of **tools** and **agents** 🤩\n",
        "\n",
        "It provides a natural language API on top of transformers: we define a set of curated tools, and design an agent to interpret natural language and to use these tools. It is extensible by design; we curated some relevant tools, but we'll show you how the system can be extended easily to use any tool.\n",
        "\n",
        "Let's start with a few examples of what can be achieved with this new API. It is particularly powerful when it comes to multimodal tasks, so let's take it for a spin to generate images and read text out loud.\n",
        "\n",
        "The accompanying docs are [Transformers Agent](https://huggingface.co/docs/transformers/en/transformers_agents) and [Custom Tools](https://huggingface.co/docs/transformers/en/custom_tools)."
      ]
    },
    {
      "cell_type": "code",
      "execution_count": null,
      "metadata": {
        "id": "P4SPw04cT9Y1",
        "cellView": "form"
      },
      "outputs": [],
      "source": [
        "#@title Setup\n",
        "transformers_version = \"v4.29.0\" #@param [\"main\", \"v4.29.0\"] {allow-input: true}\n",
        "\n",
        "print(f\"Setting up everything with transformers version {transformers_version}\")\n",
        "\n",
        "!pip install huggingface_hub>=0.14.1 git+https://github.com/huggingface/transformers@$transformers_version -q diffusers accelerate datasets torch soundfile sentencepiece opencv-python openai\n",
        "\n",
        "import IPython\n",
        "import soundfile as sf\n",
        "\n",
        "def play_audio(audio):\n",
        "    sf.write(\"speech_converted.wav\", audio.numpy(), samplerate=16000)\n",
        "    return IPython.display.Audio(\"speech_converted.wav\")\n",
        "\n",
        "from huggingface_hub import notebook_login\n",
        "notebook_login()"
      ]
    },
    {
      "cell_type": "markdown",
      "metadata": {
        "id": "5nEHtKNja52V"
      },
      "source": [
        "# Do anything with Transformers\n",
        "\n",
        "We'll start by instantiating an **agent**, which is a large language model (LLM). \n",
        "\n",
        "We recommend using the OpenAI for the best results, but fully open-source models such as StarCoder or OpenAssistant are also available."
      ]
    },
    {
      "cell_type": "code",
      "execution_count": null,
      "metadata": {
        "id": "fA8jPddeUSMO",
        "cellView": "form"
      },
      "outputs": [],
      "source": [
        "#@title Agent init\n",
        "agent_name = \"OpenAI (API Key)\" #@param [\"StarCoder (HF Token)\", \"OpenAssistant (HF Token)\", \"OpenAI (API Key)\"]\n",
        "\n",
        "import getpass\n",
        "\n",
        "if agent_name == \"StarCoder (HF Token)\":\n",
        "    from transformers.tools import HfAgent\n",
        "    agent = HfAgent(\"https://api-inference.huggingface.co/models/bigcode/starcoder\")\n",
        "    print(\"StarCoder is initialized 💪\")\n",
        "elif agent_name == \"OpenAssistant (HF Token)\":\n",
        "    from transformers.tools import HfAgent\n",
        "    agent = HfAgent(url_endpoint=\"https://api-inference.huggingface.co/models/OpenAssistant/oasst-sft-4-pythia-12b-epoch-3.5\")\n",
        "    print(\"OpenAssistant is initialized 💪\")\n",
        "if agent_name == \"OpenAI (API Key)\":\n",
        "    from transformers.tools import OpenAiAgent\n",
        "    pswd = getpass.getpass('OpenAI API key:')\n",
        "    agent = OpenAiAgent(model=\"text-davinci-003\", api_key=pswd)\n",
        "    print(\"OpenAI is initialized 💪\")"
      ]
    },
    {
      "cell_type": "markdown",
      "metadata": {
        "id": "ZpmYouC4_yzP"
      },
      "source": [
        "## Using the agent\n",
        "\n",
        "The agent is initialized! We now have access to the full power of the tools it has access to.\n",
        "\n",
        "Let's use it 😎"
      ]
    },
    {
      "cell_type": "code",
      "execution_count": null,
      "metadata": {
        "id": "OJfEhaNTU_nZ"
      },
      "outputs": [],
      "source": [
        "boat = agent.run(\"Generate an image of a boat in the water\")\n",
        "boat"
      ]
    },
    {
      "cell_type": "markdown",
      "metadata": {
        "id": "tCUV79MbMSwP"
      },
      "source": [
        "If you'd like to hand objects (or previous results!) to the agent, you can do so by passing a variable directly, and mentioning between backticks the name of the variable passed. For example, if I want to re-use the previous boat generation:"
      ]
    },
    {
      "cell_type": "code",
      "execution_count": null,
      "metadata": {
        "id": "IiDsYQJIWcg-"
      },
      "outputs": [],
      "source": [
        "caption = agent.run(\"Can you caption the `boat_image`?\", boat_image=boat)\n",
        "caption"
      ]
    },
    {
      "cell_type": "markdown",
      "metadata": {
        "id": "HU2WzL02taGg"
      },
      "source": [
        "Agents vary in competency and their capacity to handle several instructions at once; however the strongest of them (such as OpenAI's) are able to handle complex instructions such as the following three-part instruction:"
      ]
    },
    {
      "cell_type": "code",
      "execution_count": null,
      "metadata": {
        "id": "_Az2uYPgsZmW"
      },
      "outputs": [],
      "source": [
        "audio = agent.run(\"Can you generate an image of a boat? Please read out loud the contents of the image afterwards\")\n",
        "play_audio(audio)"
      ]
    },
    {
      "cell_type": "markdown",
      "metadata": {
        "id": "Sn4396Sst2nV"
      },
      "source": [
        "Where this works great is when your query implies the use of tools which you haven't described directly. An exemple of this would be the following query: \"Read out loud the summary of hf.co\"\n",
        "\n",
        "Here we're asking the model to perform three steps at once:\n",
        "- Fetch the website https://huggingface.co\n",
        "- Summarize it\n",
        "- Translate the text to speech"
      ]
    },
    {
      "cell_type": "code",
      "execution_count": null,
      "metadata": {
        "id": "QvgWWrVKt24u"
      },
      "outputs": [],
      "source": [
        "audio = agent.run(\"Read out loud the summary of http://hf.co\")\n",
        "play_audio(audio)"
      ]
    },
    {
      "cell_type": "markdown",
      "metadata": {
        "id": "BM1IkuDrvdeb"
      },
      "source": [
        "Using the best agents works well 🎉"
      ]
    },
    {
      "cell_type": "markdown",
      "metadata": {
        "id": "QKPC_atPK-JB"
      },
      "source": [
        "### Chat mode\n",
        "\n",
        "So far, we've been using the agent by using it's `.run` command. But that's not the only command it has access to; the second command it has access to is `.chat`, which enables using it in chat mode.\n",
        "\n",
        "The difference between the two is relative to their memory:\n",
        "- `.run` does not keep memory across runs, but performs better for multiple operations at once (such as running two, or three tools in a row from a given instruction)\n",
        "- `.chat` keeps memory across runs, but performs better at single instructions.\n",
        "\n",
        "Let's use it in chat mode!"
      ]
    },
    {
      "cell_type": "code",
      "execution_count": null,
      "metadata": {
        "id": "Wns48i10ZdR2"
      },
      "outputs": [],
      "source": [
        "agent.chat(\"Show me an an image of a capybara\")"
      ]
    },
    {
      "cell_type": "markdown",
      "metadata": {
        "id": "4Hi_h_xvN1w6"
      },
      "source": [
        "What if we wanted to change something in the image? For example, move the capybaras to a snowy environment"
      ]
    },
    {
      "cell_type": "code",
      "execution_count": null,
      "metadata": {
        "id": "gHeEmhWxN922"
      },
      "outputs": [],
      "source": [
        "agent.chat(\"Transform the image so that it snows\")"
      ]
    },
    {
      "cell_type": "markdown",
      "metadata": {
        "id": "bMGJ-FVgOeDt"
      },
      "source": [
        "Now what if we wanted to remove the capybara in favor of something else? We could ask it to show us a mask of the capybara in the image:"
      ]
    },
    {
      "cell_type": "code",
      "execution_count": null,
      "metadata": {
        "id": "pjhYMIcwOlkV"
      },
      "outputs": [],
      "source": [
        "agent.chat(\"Show me a mask of the snowy capybaras\")"
      ]
    },
    {
      "cell_type": "markdown",
      "metadata": {
        "id": "nVYRCGx4x3vH"
      },
      "source": [
        "Having access to the past history is great to repeatedly iterate on a given prompt. However, it has its limitations and sometimes you'd like to have a clean history. In order to do so, you can use the following method:"
      ]
    },
    {
      "cell_type": "code",
      "execution_count": null,
      "metadata": {
        "id": "JMOjON8CyNJZ"
      },
      "outputs": [],
      "source": [
        "agent.prepare_for_new_chat()"
      ]
    },
    {
      "cell_type": "markdown",
      "metadata": {
        "id": "Q9rx-nKzDpAW"
      },
      "source": [
        "## Tools\n",
        "\n",
        "So far we've been using the tools that the agent has access to. These tools are the following:\n",
        "\n",
        "- **Document question answering**: given a document (such as a PDF) in image format, answer a question on this document (Donut)\n",
        "- **Text question answering**: given a long text and a question, answer the question in the text (Flan-T5)\n",
        "- **Unconditional image captioning**: Caption the image! (BLIP)\n",
        "- **Image question answering**: given an image, answer a question on this image (VILT)\n",
        "- **Image segmentation**: given an image and a prompt, output the segmentation mask of that prompt (CLIPSeg)\n",
        "- **Speech to text**: given an audio recording of a person talking, transcribe the speech into text (Whisper)\n",
        "- **Text to speech**: convert text to speech (SpeechT5)\n",
        "- **Zero-shot text classification**: given a text and a list of labels, identify to which label the text corresponds the most (BART)\n",
        "- **Text summarization**: summarize a long text in one or a few sentences (BART)\n",
        "- **Translation**: translate the text into a given language (NLLB)\n",
        "\n",
        "We also support the following community-based tools:\n",
        "\n",
        "- **Text downloader**: to download a text from a web URL\n",
        "- **Text to image**: generate an image according to a prompt, leveraging stable diffusion\n",
        "- **Image transformation**: transforms an image\n",
        "\n",
        "We can therefore use a mix and match of different tools by explaining in natural language what we would like to do.\n",
        "\n",
        "But what about adding new tools? Let's take a look at how to do that \n",
        "\n",
        "### Adding new tools\n",
        "\n",
        "We'll add a very simple tool so that the demo remains simple: we'll use the awesome cataas (Cat-As-A-Service) API to get random cats on each run.\n",
        "\n",
        "We can get a random cat with the following code:"
      ]
    },
    {
      "cell_type": "code",
      "execution_count": null,
      "metadata": {
        "id": "Q9IOLKJvi2Un"
      },
      "outputs": [],
      "source": [
        "import requests\n",
        "from PIL import Image\n",
        "\n",
        "image = Image.open(requests.get('https://cataas.com/cat', stream=True).raw)\n",
        "image"
      ]
    },
    {
      "cell_type": "markdown",
      "metadata": {
        "id": "3O3OrmobG0Z2"
      },
      "source": [
        "Let's create a tool that can be used by our system!\n",
        "\n",
        "All tools depend on the superclass Tool that holds the main attributes necessary. We'll create a class that inherits from it:"
      ]
    },
    {
      "cell_type": "code",
      "execution_count": null,
      "metadata": {
        "id": "cV-fFcT-ZdxB"
      },
      "outputs": [],
      "source": [
        "from transformers import Tool\n",
        "\n",
        "class CatImageFetcher(Tool):\n",
        "    pass"
      ]
    },
    {
      "cell_type": "markdown",
      "metadata": {
        "id": "bYGJHeSjHDgV"
      },
      "source": [
        "This class has a few needs:\n",
        "\n",
        "- An attribute name, which corresponds to the name of the tool itself. To be in tune with other tools which have a performative name, we'll name it text-download-counter.\n",
        "- An attribute description, which will be used to populate the prompt of the agent.\n",
        "- inputs and outputs attributes. Defining this will help the python interpreter make educated choices about types, and will allow for a gradio-demo to be spawned when we push our tool to the Hub. They're both a list of expected values, which can be text, image, or audio.\n",
        "- A __call__ method which contains the inference code. This is the code we've played with above!\n",
        "\n",
        "Here’s what our class looks like now:"
      ]
    },
    {
      "cell_type": "code",
      "execution_count": null,
      "metadata": {
        "id": "05xxmFZ9i4MM"
      },
      "outputs": [],
      "source": [
        "from transformers import Tool\n",
        "from huggingface_hub import list_models\n",
        "\n",
        "\n",
        "class CatImageFetcher(Tool):\n",
        "    name = \"cat_fetcher\"\n",
        "    description = (\"This is a tool that fetches an actual image of a cat online. It takes no input, and returns the image of a cat.\")\n",
        "\n",
        "    inputs = []\n",
        "    outputs = [\"text\"]\n",
        "\n",
        "    def __call__(self):\n",
        "        return Image.open(requests.get('https://cataas.com/cat', stream=True).raw).resize((256, 256))"
      ]
    },
    {
      "cell_type": "markdown",
      "metadata": {
        "id": "_9de6sn8HjDj"
      },
      "source": [
        "We can simply use and test the tool directly:"
      ]
    },
    {
      "cell_type": "code",
      "execution_count": null,
      "metadata": {
        "id": "jNFuJ0Dgi9_V"
      },
      "outputs": [],
      "source": [
        "tool = CatImageFetcher()\n",
        "tool()"
      ]
    },
    {
      "cell_type": "markdown",
      "metadata": {
        "id": "EgheEUKqJ6RT"
      },
      "source": [
        "In order to pass the tool to the agent, we recommend instantiating the agent with the tools directly:"
      ]
    },
    {
      "cell_type": "code",
      "execution_count": null,
      "metadata": {
        "id": "T2FbsfD2HtU8"
      },
      "outputs": [],
      "source": [
        "from transformers.tools import HfAgent\n",
        "\n",
        "agent = HfAgent(\"https://api-inference.huggingface.co/models/bigcode/starcoder\", additional_tools=[tool])"
      ]
    },
    {
      "cell_type": "markdown",
      "metadata": {
        "id": "mphUyTyDKHT1"
      },
      "source": [
        "Let's try to have the agent use it with other tools!"
      ]
    },
    {
      "cell_type": "code",
      "execution_count": null,
      "metadata": {
        "id": "Z6dWvZvtKFBT"
      },
      "outputs": [],
      "source": [
        "agent.run(\"Fetch an image of a cat online and caption it for me\")"
      ]
    },
    {
      "cell_type": "markdown",
      "metadata": {
        "id": "DdMo9h_QKxID"
      },
      "source": [
        "Success 🎉\n",
        "\n",
        "The tool was used to fetch a cat image, and the image captioning tool was used shortly after in order to caption that same image.\n",
        "\n",
        "Finally, we recommend pushing the tool to the Hub in order to have others benefit from it. Here is the documentation that contains more information in order to do so: [Adding a new tool](https://huggingface.co/docs/transformers/en/custom_tools#creating-a-new-tool)\n",
        "\n",
        "Thanks for following through with the notebook! We're looking forward to the tools you'll push, which will help empower all agents."
      ]
    },
    {
      "cell_type": "code",
      "execution_count": null,
      "metadata": {
        "id": "Ahp5TROjkChx"
      },
      "outputs": [],
      "source": []
    }
  ],
  "metadata": {
    "colab": {
      "provenance": [],
      "toc_visible": true,
      "machine_shape": "hm"
    },
    "gpuClass": "standard",
    "kernelspec": {
      "display_name": "Python 3",
      "name": "python3"
    },
    "language_info": {
      "name": "python"
    }
  },
  "nbformat": 4,
  "nbformat_minor": 0
}