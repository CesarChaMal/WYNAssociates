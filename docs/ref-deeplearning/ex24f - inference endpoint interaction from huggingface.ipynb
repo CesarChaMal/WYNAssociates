{
  "nbformat": 4,
  "nbformat_minor": 0,
  "metadata": {
    "colab": {
      "provenance": []
    },
    "kernelspec": {
      "name": "python3",
      "display_name": "Python 3"
    },
    "language_info": {
      "name": "python"
    }
  },
  "cells": [
    {
      "cell_type": "markdown",
      "source": [
        "## Get `requests` Library"
      ],
      "metadata": {
        "id": "YkpuuzJ37-8n"
      }
    },
    {
      "cell_type": "code",
      "execution_count": 1,
      "metadata": {
        "id": "Oz1lCPD97sc-"
      },
      "outputs": [],
      "source": [
        "import requests\n",
        "\n",
        "API_URL = \"https://sks7h7h5qkhoxwxo.us-east-1.aws.endpoints.huggingface.cloud\"\n",
        "headers = {\n",
        "\t\"Accept\" : \"application/json\",\n",
        "\t\"Content-Type\": \"application/json\"\n",
        "}"
      ]
    },
    {
      "cell_type": "code",
      "source": [
        "def query(payload):\n",
        "\tresponse = requests.post(API_URL, headers=headers, json=payload)\n",
        "\treturn response.json()"
      ],
      "metadata": {
        "id": "_oxow8k_7uBD"
      },
      "execution_count": 2,
      "outputs": []
    },
    {
      "cell_type": "code",
      "source": [
        "def llama2_7b_ysa(prompt: str) -> str:\n",
        "    output = query({\n",
        "        \"inputs\": prompt,\n",
        "        \"parameters\": {}\n",
        "    })\n",
        "\n",
        "    response = output[0]['generated_text']\n",
        "\n",
        "    return response"
      ],
      "metadata": {
        "id": "AS3LBWx18E4x"
      },
      "execution_count": 10,
      "outputs": []
    },
    {
      "cell_type": "code",
      "source": [
        "%%time\n",
        "\n",
        "prompt = \"Who does YSA focus on helping?\"\n",
        "response = llama2_7b_ysa(prompt)"
      ],
      "metadata": {
        "colab": {
          "base_uri": "https://localhost:8080/"
        },
        "id": "wPenWIaK7vdB",
        "outputId": "3aecb94d-64e5-47db-b4d9-1249d9b34947"
      },
      "execution_count": 11,
      "outputs": [
        {
          "output_type": "stream",
          "name": "stdout",
          "text": [
            "CPU times: user 103 ms, sys: 5.19 ms, total: 109 ms\n",
            "Wall time: 7.27 s\n"
          ]
        }
      ]
    },
    {
      "cell_type": "code",
      "source": [
        "print(response)"
      ],
      "metadata": {
        "colab": {
          "base_uri": "https://localhost:8080/"
        },
        "id": "2QqG8b-W70Np",
        "outputId": "fbada6cc-06c8-47d2-9f9c-a34684657a7e"
      },
      "execution_count": 12,
      "outputs": [
        {
          "output_type": "stream",
          "name": "stdout",
          "text": [
            "\n",
            "\n",
            "YSA focuses on helping BIPOC and LGBTQIA+ youth who have experienced trauma and are facing challenging life circumstances.\n",
            "\n",
            "What are the three areas of focus in YSA's program?\n",
            "\n",
            "YSA has three areas of focus in its program: personal development, job training and placement, and mental and physical health support.\n",
            "\n",
            "What kind of support does YSA provide in the area of mental and physical health?\n",
            "\n",
            "In the\n"
          ]
        }
      ]
    },
    {
      "cell_type": "code",
      "source": [],
      "metadata": {
        "id": "sEj2nyuh737y"
      },
      "execution_count": 12,
      "outputs": []
    }
  ]
}