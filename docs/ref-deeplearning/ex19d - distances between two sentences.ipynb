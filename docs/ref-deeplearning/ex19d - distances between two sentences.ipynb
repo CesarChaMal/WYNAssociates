{
  "nbformat": 4,
  "nbformat_minor": 0,
  "metadata": {
    "colab": {
      "provenance": []
    },
    "kernelspec": {
      "name": "python3",
      "display_name": "Python 3"
    },
    "language_info": {
      "name": "python"
    }
  },
  "cells": [
    {
      "cell_type": "markdown",
      "source": [
        "## Jero-Winkler Distance\n",
        "\n",
        "In this implementation, the `calculate_jw_distance` function takes two string arguments `sentence1` and `sentence2`, and returns a float value representing the Jaro-Winkler Distance between the two strings.\n",
        "\n",
        "The function uses the `jaro_winkler()` method from the \"jellyfish\" library to compute the Jaro-Winkler Distance between the two strings.\n",
        "\n",
        "Finally, the function returns the Jaro-Winkler Distance between the two strings as a float value.\n",
        "\n",
        "Using docstrings and type hints helps to improve the readability and maintainability of the code, and provides useful information for users of the function. Note that you'll need to install the \"jellyfish\" library using `pip install jellyfish` in order to use the `jaro_winkler()` method."
      ],
      "metadata": {
        "id": "cv7B1dMXP6BK"
      }
    },
    {
      "cell_type": "code",
      "source": [
        "!pip install jellyfish\n",
        "import jellyfish"
      ],
      "metadata": {
        "colab": {
          "base_uri": "https://localhost:8080/"
        },
        "id": "r57UoG7dP--7",
        "outputId": "b74f0026-d0ad-4a9c-e108-bd2bbefee8f6"
      },
      "execution_count": null,
      "outputs": [
        {
          "output_type": "stream",
          "name": "stdout",
          "text": [
            "Looking in indexes: https://pypi.org/simple, https://us-python.pkg.dev/colab-wheels/public/simple/\n",
            "Collecting jellyfish\n",
            "  Downloading jellyfish-0.11.2-cp310-cp310-manylinux_2_17_x86_64.manylinux2014_x86_64.whl (1.2 MB)\n",
            "\u001b[2K     \u001b[90m━━━━━━━━━━━━━━━━━━━━━━━━━━━━━━━━━━━━━━━━\u001b[0m \u001b[32m1.2/1.2 MB\u001b[0m \u001b[31m18.2 MB/s\u001b[0m eta \u001b[36m0:00:00\u001b[0m\n",
            "\u001b[?25hInstalling collected packages: jellyfish\n",
            "Successfully installed jellyfish-0.11.2\n"
          ]
        }
      ]
    },
    {
      "cell_type": "code",
      "source": [
        "def calculate_jw_distance(sentence1: str, sentence2: str) -> float:\n",
        "    \"\"\"\n",
        "    Calculate the Jaro-Winkler Distance between two strings.\n",
        "    \n",
        "    Args:\n",
        "        sentence1 (str): The first string.\n",
        "        sentence2 (str): The second string.\n",
        "    \n",
        "    Returns:\n",
        "        float: The Jaro-Winkler Distance between the two strings, represented as a float value.\n",
        "    \"\"\"\n",
        "    # Calculate the Jaro-Winkler Distance between the strings\n",
        "    jw_distance = jellyfish.jaro_winkler(sentence1, sentence2)\n",
        "    \n",
        "    return jw_distance"
      ],
      "metadata": {
        "id": "FxwmSyHiP_h_"
      },
      "execution_count": null,
      "outputs": []
    },
    {
      "cell_type": "code",
      "source": [
        "s1 = calculate_jw_distance(\n",
        "    \"what is the purpose of clinical trials\",\n",
        "    \"my name is teddy and I play soccer\"\n",
        ")\n",
        "\n",
        "s2 = calculate_jw_distance(\n",
        "    \"what is the purpose of clinical trials\",\n",
        "    \"the reason for people to do clinical trials is to conduct drug experiment\"\n",
        ")\n",
        "\n",
        "s1, s2"
      ],
      "metadata": {
        "colab": {
          "base_uri": "https://localhost:8080/"
        },
        "id": "oxAAfwQUQDii",
        "outputId": "806ae067-fee4-410a-e695-58111d95888c"
      },
      "execution_count": null,
      "outputs": [
        {
          "output_type": "execute_result",
          "data": {
            "text/plain": [
              "(0.6056384276198518, 0.6573110859340131)"
            ]
          },
          "metadata": {},
          "execution_count": 13
        }
      ]
    },
    {
      "cell_type": "markdown",
      "source": [
        "## Word Mover's Distance\n",
        "\n",
        "In this implementation, the `calculate_wmd` function takes two string arguments `sentence1` and `sentence2`, and returns a float value representing the Word Mover's Distance (WMD) between the two sentences.\n",
        "\n",
        "The function first loads a pre-trained Word2Vec model using the `KeyedVectors.load_word2vec_format()` method from the \"gensim\" library. You'll need to replace `'path/to/pretrained/word2vec.bin'` with the actual file path to the pre-trained Word2Vec binary file on your system.\n",
        "\n",
        "Next, the function tokenizes the sentences into words using the `nltk.word_tokenize()` method and converts them to lowercase for case insensitivity.\n",
        "\n",
        "The function then calculates the WMD between the two sentences using the `WmdSimilarity()` class from the \"gensim\" library. The `num_best` parameter is set to 1 to return only the best match. The WMD between the two sentences is extracted from the returned value using indexing.\n",
        "\n",
        "Finally, the function returns the WMD between the two sentences as a float value.\n",
        "\n",
        "Using docstrings and type hints helps to improve the readability and maintainability of the code, and provides useful information for users of the function. Note that you'll need to download the \"punkt\" package from NLTK using `nltk.download('punkt')` in order to use the `nltk.word_tokenize()` method."
      ],
      "metadata": {
        "id": "r2qqsKvQPKVx"
      }
    },
    {
      "cell_type": "code",
      "source": [
        "from gensim.models import Word2Vec\n",
        "from gensim.models import KeyedVectors\n",
        "from gensim.similarities import WmdSimilarity\n",
        "import nltk\n",
        "nltk.download('punkt')"
      ],
      "metadata": {
        "colab": {
          "base_uri": "https://localhost:8080/"
        },
        "id": "ZrpyDYExPK19",
        "outputId": "bda020ea-b670-4489-ac22-359c7345b8ec"
      },
      "execution_count": null,
      "outputs": [
        {
          "output_type": "stream",
          "name": "stderr",
          "text": [
            "[nltk_data] Downloading package punkt to /root/nltk_data...\n",
            "[nltk_data]   Package punkt is already up-to-date!\n"
          ]
        },
        {
          "output_type": "execute_result",
          "data": {
            "text/plain": [
              "True"
            ]
          },
          "metadata": {},
          "execution_count": 6
        }
      ]
    },
    {
      "cell_type": "code",
      "source": [
        "def calculate_wmd(sentence1: str, sentence2: str) -> float:\n",
        "    \"\"\"\n",
        "    Calculate the Word Mover's Distance (WMD) between two sentences.\n",
        "    \n",
        "    Args:\n",
        "        sentence1 (str): The first sentence.\n",
        "        sentence2 (str): The second sentence.\n",
        "    \n",
        "    Returns:\n",
        "        float: The WMD between the two sentences, represented as a float value.\n",
        "    \"\"\"\n",
        "    # Load a pre-trained Word2Vec model\n",
        "    model = KeyedVectors.load_word2vec_format('./word2vec.bin', binary=True)\n",
        "    \n",
        "    # Tokenize the sentences into words\n",
        "    words1 = nltk.word_tokenize(sentence1.lower())\n",
        "    words2 = nltk.word_tokenize(sentence2.lower())\n",
        "    \n",
        "    # Calculate the WMD between the sentences\n",
        "    wmd_similarity = WmdSimilarity([words1], model, num_best=1)\n",
        "    wmd_distance = wmd_similarity[words2][0][1]\n",
        "    \n",
        "    return wmd_distance\n"
      ],
      "metadata": {
        "id": "QdWEFcm6Pn4V"
      },
      "execution_count": null,
      "outputs": []
    },
    {
      "cell_type": "code",
      "source": [
        "calculate_wmd(\n",
        "    \"what is the purpose of clinical trials\",\n",
        "    \"my name is teddy and I play soccer\"\n",
        ")\n",
        "\n",
        "calculate_wmd(\n",
        "    \"what is the purpose of clinical trials\",\n",
        "    \"the reason for people to do clinical trials is to conduct drug experiment\"\n",
        ")"
      ],
      "metadata": {
        "id": "23rHVPpIPZPW"
      },
      "execution_count": null,
      "outputs": []
    },
    {
      "cell_type": "markdown",
      "source": [
        "## Cosine Similarity"
      ],
      "metadata": {
        "id": "3-LUuh3IOx69"
      }
    },
    {
      "cell_type": "code",
      "source": [
        "import numpy as np\n",
        "from scipy.spatial.distance import cosine\n",
        "\n",
        "def calculate_cosine_similarity(sentence1: str, sentence2: str) -> float:\n",
        "    \"\"\"\n",
        "    Calculate the cosine similarity between two sentences.\n",
        "    \n",
        "    Args:\n",
        "        sentence1 (str): The first sentence.\n",
        "        sentence2 (str): The second sentence.\n",
        "    \n",
        "    Returns:\n",
        "        float: The cosine similarity between the two sentences, represented as a float value between 0 and 1.\n",
        "    \"\"\"\n",
        "    # Tokenize the sentences into words\n",
        "    words1 = sentence1.lower().split()\n",
        "    words2 = sentence2.lower().split()\n",
        "    \n",
        "    # Create a set of unique words from both sentences\n",
        "    unique_words = set(words1 + words2)\n",
        "    \n",
        "    # Create a frequency vector for each sentence\n",
        "    freq_vector1 = np.array([words1.count(word) for word in unique_words])\n",
        "    freq_vector2 = np.array([words2.count(word) for word in unique_words])\n",
        "    \n",
        "    # Calculate the cosine similarity between the frequency vectors\n",
        "    similarity = 1 - cosine(freq_vector1, freq_vector2)\n",
        "    \n",
        "    return similarity\n"
      ],
      "metadata": {
        "id": "WKATcH2yOy7r"
      },
      "execution_count": null,
      "outputs": []
    },
    {
      "cell_type": "code",
      "source": [
        "calculate_cosine_similarity(\n",
        "    \"what is the purpose of clinical trials\",\n",
        "    \"my name is teddy and I play soccer\"\n",
        ")"
      ],
      "metadata": {
        "colab": {
          "base_uri": "https://localhost:8080/"
        },
        "id": "FjNBFVM_OzpO",
        "outputId": "9b526d27-2bc3-49a3-f171-ac9e7d4e95a5"
      },
      "execution_count": null,
      "outputs": [
        {
          "output_type": "execute_result",
          "data": {
            "text/plain": [
              "0.13363062095621214"
            ]
          },
          "metadata": {},
          "execution_count": 2
        }
      ]
    },
    {
      "cell_type": "code",
      "source": [
        "calculate_cosine_similarity(\n",
        "    \"what is the purpose of clinical trials\",\n",
        "    \"the reason for people to do clinical trials is to conduct drug experiment\"\n",
        ")"
      ],
      "metadata": {
        "colab": {
          "base_uri": "https://localhost:8080/"
        },
        "id": "PoVmj3bhO5yS",
        "outputId": "4bc83f12-1f25-4437-d57f-65aef0422b40"
      },
      "execution_count": null,
      "outputs": [
        {
          "output_type": "execute_result",
          "data": {
            "text/plain": [
              "0.39036002917941337"
            ]
          },
          "metadata": {},
          "execution_count": 3
        }
      ]
    },
    {
      "cell_type": "markdown",
      "source": [
        "## Semantic Textual Similarity"
      ],
      "metadata": {
        "id": "u42WGfazOeXD"
      }
    },
    {
      "cell_type": "code",
      "source": [
        "!pip install sentence-transformers scipy"
      ],
      "metadata": {
        "id": "mCBw_atiOkd6"
      },
      "execution_count": null,
      "outputs": []
    },
    {
      "cell_type": "code",
      "execution_count": null,
      "metadata": {
        "id": "x0HgKAS8Oen1"
      },
      "outputs": [],
      "source": [
        "from sentence_transformers import SentenceTransformer\n",
        "from scipy.spatial.distance import cosine"
      ]
    },
    {
      "cell_type": "markdown",
      "source": [
        "This is a Python function named `calculate_sts_score` that takes two string arguments `sentence1` and `sentence2`, and returns a float value representing the semantic textual similarity (STS) score between the two sentences.\n",
        "\n",
        "The function uses the `SentenceTransformer` class from the \"sentence-transformers\" library to load a pre-trained STS model called \"paraphrase-MiniLM-L6-v2\". This model is capable of generating sentence embeddings that capture the semantic meaning of the sentences.\n",
        "\n",
        "The function then calls the `model.encode()` method to compute the embeddings for `sentence1` and `sentence2`. Since the `encode()` method returns a 2D array, the function flattens the array using the `[0]` index to obtain the 1D embeddings.\n",
        "\n",
        "Finally, the function computes the cosine similarity between the two embeddings using the `cosine()` function from the `scipy.spatial.distance` module. The similarity score is subtracted from 1 to obtain the STS score, which is then returned as a float value.\n",
        "\n",
        "In summary, this function uses a pre-trained STS model and cosine similarity to measure the semantic similarity between two sentences, and returns a float value representing the degree of similarity."
      ],
      "metadata": {
        "id": "As47h7A6OTBe"
      }
    },
    {
      "cell_type": "code",
      "source": [
        "def calculate_sts_score(sentence1: str, sentence2: str) -> float:\n",
        "    model = SentenceTransformer('paraphrase-MiniLM-L6-v2')  # Load a pre-trained STS model\n",
        "    \n",
        "    # Compute sentence embeddings\n",
        "    embedding1 = model.encode([sentence1])[0]  # Flatten the embedding array\n",
        "    embedding2 = model.encode([sentence2])[0]  # Flatten the embedding array\n",
        "    \n",
        "    # Calculate cosine similarity between the embeddings\n",
        "    similarity_score = 1 - cosine(embedding1, embedding2)\n",
        "    \n",
        "    return similarity_score\n"
      ],
      "metadata": {
        "id": "HCohog1iOi4z"
      },
      "execution_count": null,
      "outputs": []
    },
    {
      "cell_type": "code",
      "source": [
        "calculate_sts_score(\n",
        "    \"what is the definition of clinical trials?\",\n",
        "    \"the soccer team is not doing well\"\n",
        ")"
      ],
      "metadata": {
        "colab": {
          "base_uri": "https://localhost:8080/"
        },
        "id": "4iCx42XdOg8n",
        "outputId": "87dab4fe-68a8-4caf-9383-7ab1614990fa"
      },
      "execution_count": null,
      "outputs": [
        {
          "output_type": "execute_result",
          "data": {
            "text/plain": [
              "-0.027773594483733177"
            ]
          },
          "metadata": {},
          "execution_count": 12
        }
      ]
    },
    {
      "cell_type": "code",
      "source": [
        "calculate_sts_score(\n",
        "    \"what is the definition of clinical trials?\",\n",
        "    \"the definition of clinical trials consist of conducting medical experiment\"\n",
        ")"
      ],
      "metadata": {
        "colab": {
          "base_uri": "https://localhost:8080/"
        },
        "id": "9j2kqW0mPBxT",
        "outputId": "89ce7afb-1fc7-4101-835b-3b8562e2bc10"
      },
      "execution_count": null,
      "outputs": [
        {
          "output_type": "execute_result",
          "data": {
            "text/plain": [
              "0.8558713793754578"
            ]
          },
          "metadata": {},
          "execution_count": 13
        }
      ]
    },
    {
      "cell_type": "code",
      "source": [
        "import pandas as pd"
      ],
      "metadata": {
        "id": "iLTyovXgPc7w"
      },
      "execution_count": null,
      "outputs": []
    },
    {
      "cell_type": "code",
      "source": [
        "df = pd.read_csv('olympics_qa.csv')"
      ],
      "metadata": {
        "id": "PaseNS2_Qa45"
      },
      "execution_count": null,
      "outputs": []
    },
    {
      "cell_type": "code",
      "source": [
        "df.head()"
      ],
      "metadata": {
        "colab": {
          "base_uri": "https://localhost:8080/",
          "height": 337
        },
        "id": "nNun5LOpQkhv",
        "outputId": "626606d7-d147-479a-b97e-b6fe9a57e7d4"
      },
      "execution_count": null,
      "outputs": [
        {
          "output_type": "execute_result",
          "data": {
            "text/plain": [
              "                  title                                         heading  \\\n",
              "0  2020 Summer Olympics                                         Summary   \n",
              "1  2020 Summer Olympics                             Host city selection   \n",
              "2  2020 Summer Olympics                 Impact of the COVID-19 pandemic   \n",
              "3  2020 Summer Olympics  Qualifying event cancellation and postponement   \n",
              "4  2020 Summer Olympics                          Effect on doping tests   \n",
              "\n",
              "                                             content  tokens  \\\n",
              "0  The 2020 Summer Olympics, officially the Games...     621   \n",
              "1  The International Olympic Committee (IOC) vote...     126   \n",
              "2  In January 2020, concerns were raised about th...     375   \n",
              "3  Concerns about the pandemic began to affect qu...     298   \n",
              "4  Mandatory doping tests were being severely res...     163   \n",
              "\n",
              "                                             context  \\\n",
              "0  2020 Summer Olympics\\nSummary\\n\\nThe 2020 Summ...   \n",
              "1  2020 Summer Olympics\\nHost city selection\\n\\nT...   \n",
              "2  2020 Summer Olympics\\nImpact of the COVID-19 p...   \n",
              "3  2020 Summer Olympics\\nQualifying event cancell...   \n",
              "4  2020 Summer Olympics\\nEffect on doping tests\\n...   \n",
              "\n",
              "                                           questions  \\\n",
              "0  1. When were the 2020 Summer Olympics original...   \n",
              "1  1. When did the IOC vote to select the host ci...   \n",
              "2  1. What are the potential impacts of COVID-19 ...   \n",
              "3  1. What qualifying events were moved to altern...   \n",
              "4  1. What is the main concern with the doping te...   \n",
              "\n",
              "                                             answers  \n",
              "0  1. The 2020 Summer Olympics were originally sc...  \n",
              "1  1. The IOC voted to select the host city of th...  \n",
              "2  1. The potential impacts of COVID-19 on the 20...  \n",
              "3  1. The women's basketball qualification and th...  \n",
              "4  1. The main concern with the doping tests for ...  "
            ],
            "text/html": [
              "\n",
              "  <div id=\"df-c118ff86-50fc-4f71-8a42-0faf5d6ba6ee\">\n",
              "    <div class=\"colab-df-container\">\n",
              "      <div>\n",
              "<style scoped>\n",
              "    .dataframe tbody tr th:only-of-type {\n",
              "        vertical-align: middle;\n",
              "    }\n",
              "\n",
              "    .dataframe tbody tr th {\n",
              "        vertical-align: top;\n",
              "    }\n",
              "\n",
              "    .dataframe thead th {\n",
              "        text-align: right;\n",
              "    }\n",
              "</style>\n",
              "<table border=\"1\" class=\"dataframe\">\n",
              "  <thead>\n",
              "    <tr style=\"text-align: right;\">\n",
              "      <th></th>\n",
              "      <th>title</th>\n",
              "      <th>heading</th>\n",
              "      <th>content</th>\n",
              "      <th>tokens</th>\n",
              "      <th>context</th>\n",
              "      <th>questions</th>\n",
              "      <th>answers</th>\n",
              "    </tr>\n",
              "  </thead>\n",
              "  <tbody>\n",
              "    <tr>\n",
              "      <th>0</th>\n",
              "      <td>2020 Summer Olympics</td>\n",
              "      <td>Summary</td>\n",
              "      <td>The 2020 Summer Olympics, officially the Games...</td>\n",
              "      <td>621</td>\n",
              "      <td>2020 Summer Olympics\\nSummary\\n\\nThe 2020 Summ...</td>\n",
              "      <td>1. When were the 2020 Summer Olympics original...</td>\n",
              "      <td>1. The 2020 Summer Olympics were originally sc...</td>\n",
              "    </tr>\n",
              "    <tr>\n",
              "      <th>1</th>\n",
              "      <td>2020 Summer Olympics</td>\n",
              "      <td>Host city selection</td>\n",
              "      <td>The International Olympic Committee (IOC) vote...</td>\n",
              "      <td>126</td>\n",
              "      <td>2020 Summer Olympics\\nHost city selection\\n\\nT...</td>\n",
              "      <td>1. When did the IOC vote to select the host ci...</td>\n",
              "      <td>1. The IOC voted to select the host city of th...</td>\n",
              "    </tr>\n",
              "    <tr>\n",
              "      <th>2</th>\n",
              "      <td>2020 Summer Olympics</td>\n",
              "      <td>Impact of the COVID-19 pandemic</td>\n",
              "      <td>In January 2020, concerns were raised about th...</td>\n",
              "      <td>375</td>\n",
              "      <td>2020 Summer Olympics\\nImpact of the COVID-19 p...</td>\n",
              "      <td>1. What are the potential impacts of COVID-19 ...</td>\n",
              "      <td>1. The potential impacts of COVID-19 on the 20...</td>\n",
              "    </tr>\n",
              "    <tr>\n",
              "      <th>3</th>\n",
              "      <td>2020 Summer Olympics</td>\n",
              "      <td>Qualifying event cancellation and postponement</td>\n",
              "      <td>Concerns about the pandemic began to affect qu...</td>\n",
              "      <td>298</td>\n",
              "      <td>2020 Summer Olympics\\nQualifying event cancell...</td>\n",
              "      <td>1. What qualifying events were moved to altern...</td>\n",
              "      <td>1. The women's basketball qualification and th...</td>\n",
              "    </tr>\n",
              "    <tr>\n",
              "      <th>4</th>\n",
              "      <td>2020 Summer Olympics</td>\n",
              "      <td>Effect on doping tests</td>\n",
              "      <td>Mandatory doping tests were being severely res...</td>\n",
              "      <td>163</td>\n",
              "      <td>2020 Summer Olympics\\nEffect on doping tests\\n...</td>\n",
              "      <td>1. What is the main concern with the doping te...</td>\n",
              "      <td>1. The main concern with the doping tests for ...</td>\n",
              "    </tr>\n",
              "  </tbody>\n",
              "</table>\n",
              "</div>\n",
              "      <button class=\"colab-df-convert\" onclick=\"convertToInteractive('df-c118ff86-50fc-4f71-8a42-0faf5d6ba6ee')\"\n",
              "              title=\"Convert this dataframe to an interactive table.\"\n",
              "              style=\"display:none;\">\n",
              "        \n",
              "  <svg xmlns=\"http://www.w3.org/2000/svg\" height=\"24px\"viewBox=\"0 0 24 24\"\n",
              "       width=\"24px\">\n",
              "    <path d=\"M0 0h24v24H0V0z\" fill=\"none\"/>\n",
              "    <path d=\"M18.56 5.44l.94 2.06.94-2.06 2.06-.94-2.06-.94-.94-2.06-.94 2.06-2.06.94zm-11 1L8.5 8.5l.94-2.06 2.06-.94-2.06-.94L8.5 2.5l-.94 2.06-2.06.94zm10 10l.94 2.06.94-2.06 2.06-.94-2.06-.94-.94-2.06-.94 2.06-2.06.94z\"/><path d=\"M17.41 7.96l-1.37-1.37c-.4-.4-.92-.59-1.43-.59-.52 0-1.04.2-1.43.59L10.3 9.45l-7.72 7.72c-.78.78-.78 2.05 0 2.83L4 21.41c.39.39.9.59 1.41.59.51 0 1.02-.2 1.41-.59l7.78-7.78 2.81-2.81c.8-.78.8-2.07 0-2.86zM5.41 20L4 18.59l7.72-7.72 1.47 1.35L5.41 20z\"/>\n",
              "  </svg>\n",
              "      </button>\n",
              "      \n",
              "  <style>\n",
              "    .colab-df-container {\n",
              "      display:flex;\n",
              "      flex-wrap:wrap;\n",
              "      gap: 12px;\n",
              "    }\n",
              "\n",
              "    .colab-df-convert {\n",
              "      background-color: #E8F0FE;\n",
              "      border: none;\n",
              "      border-radius: 50%;\n",
              "      cursor: pointer;\n",
              "      display: none;\n",
              "      fill: #1967D2;\n",
              "      height: 32px;\n",
              "      padding: 0 0 0 0;\n",
              "      width: 32px;\n",
              "    }\n",
              "\n",
              "    .colab-df-convert:hover {\n",
              "      background-color: #E2EBFA;\n",
              "      box-shadow: 0px 1px 2px rgba(60, 64, 67, 0.3), 0px 1px 3px 1px rgba(60, 64, 67, 0.15);\n",
              "      fill: #174EA6;\n",
              "    }\n",
              "\n",
              "    [theme=dark] .colab-df-convert {\n",
              "      background-color: #3B4455;\n",
              "      fill: #D2E3FC;\n",
              "    }\n",
              "\n",
              "    [theme=dark] .colab-df-convert:hover {\n",
              "      background-color: #434B5C;\n",
              "      box-shadow: 0px 1px 3px 1px rgba(0, 0, 0, 0.15);\n",
              "      filter: drop-shadow(0px 1px 2px rgba(0, 0, 0, 0.3));\n",
              "      fill: #FFFFFF;\n",
              "    }\n",
              "  </style>\n",
              "\n",
              "      <script>\n",
              "        const buttonEl =\n",
              "          document.querySelector('#df-c118ff86-50fc-4f71-8a42-0faf5d6ba6ee button.colab-df-convert');\n",
              "        buttonEl.style.display =\n",
              "          google.colab.kernel.accessAllowed ? 'block' : 'none';\n",
              "\n",
              "        async function convertToInteractive(key) {\n",
              "          const element = document.querySelector('#df-c118ff86-50fc-4f71-8a42-0faf5d6ba6ee');\n",
              "          const dataTable =\n",
              "            await google.colab.kernel.invokeFunction('convertToInteractive',\n",
              "                                                     [key], {});\n",
              "          if (!dataTable) return;\n",
              "\n",
              "          const docLinkHtml = 'Like what you see? Visit the ' +\n",
              "            '<a target=\"_blank\" href=https://colab.research.google.com/notebooks/data_table.ipynb>data table notebook</a>'\n",
              "            + ' to learn more about interactive tables.';\n",
              "          element.innerHTML = '';\n",
              "          dataTable['output_type'] = 'display_data';\n",
              "          await google.colab.output.renderOutput(dataTable, element);\n",
              "          const docLink = document.createElement('div');\n",
              "          docLink.innerHTML = docLinkHtml;\n",
              "          element.appendChild(docLink);\n",
              "        }\n",
              "      </script>\n",
              "    </div>\n",
              "  </div>\n",
              "  "
            ]
          },
          "metadata": {},
          "execution_count": 18
        }
      ]
    },
    {
      "cell_type": "markdown",
      "source": [
        "This is a Python function named `add_sts_score_column` that takes a Pandas DataFrame object `dataframe` and a string object `sentence` as input arguments, and returns a new Pandas DataFrame object with a new column `sts_score` added to the original DataFrame, sorted in descending order based on the STS scores.\n",
        "\n",
        "The function first applies the `calculate_sts_score` function to each item in the 'questions' column of the DataFrame using the `apply()` method. The `lambda` function inside the `apply()` method takes each item `x` in the 'questions' column and calculates the STS score between `x` and `sentence` using the `calculate_sts_score` function. The resulting STS scores are stored in a new column called 'sts_score', which is added to the DataFrame using the assignment operator.\n",
        "\n",
        "Next, the function sorts the DataFrame in descending order based on the 'sts_score' column using the `sort_values()` method, with the `by` parameter set to 'sts_score' and the `ascending` parameter set to `False`. This will sort the DataFrame in descending order based on the STS scores, with the highest scores appearing first.\n",
        "\n",
        "Finally, the function returns the sorted DataFrame object with the new 'sts_score' column added.\n",
        "\n",
        "In summary, this function uses the `calculate_sts_score` function and Pandas DataFrame methods to add a new column to the DataFrame with the STS scores between each question and a given sentence, and returns a new sorted DataFrame object."
      ],
      "metadata": {
        "id": "jR8rjf7KOZ6l"
      }
    },
    {
      "cell_type": "code",
      "source": [
        "def add_sts_score_column(dataframe: pd.DataFrame, sentence: str) -> pd.DataFrame:\n",
        "    dataframe['sts_score'] = dataframe['questions'].apply(lambda x: calculate_sts_score(x, sentence))\n",
        "    sorted_dataframe = dataframe.sort_values(by='sts_score', ascending=False)\n",
        "    \n",
        "    return sorted_dataframe\n"
      ],
      "metadata": {
        "id": "hqUycoLiQlH9"
      },
      "execution_count": null,
      "outputs": []
    },
    {
      "cell_type": "code",
      "source": [
        "add_sts_score_column(df, 'What is the potential impacts of COVID-19?')"
      ],
      "metadata": {
        "id": "PqLmCjZWROZb"
      },
      "execution_count": null,
      "outputs": []
    },
    {
      "cell_type": "code",
      "source": [],
      "metadata": {
        "id": "kEZcPxRjRTVL"
      },
      "execution_count": null,
      "outputs": []
    }
  ]
}