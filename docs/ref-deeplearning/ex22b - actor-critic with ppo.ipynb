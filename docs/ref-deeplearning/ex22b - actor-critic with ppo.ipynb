{
  "nbformat": 4,
  "nbformat_minor": 0,
  "metadata": {
    "colab": {
      "provenance": [],
      "toc_visible": true
    },
    "kernelspec": {
      "name": "python3",
      "display_name": "Python 3"
    },
    "language_info": {
      "name": "python"
    }
  },
  "cells": [
    {
      "cell_type": "markdown",
      "source": [
        "# Proximal Policy Optimization (PPO) with TensorFlow\n",
        "\n",
        "Understanding PPO reinforcement learning algorithm and implementing it with TensorFlow 2.x\n",
        "\n",
        "![image](https://miro.medium.com/max/1400/1*XreRjuz6MmATuoRvmprsdA.webp)\n",
        "\n",
        "The source of the notes come from this [blog](https://towardsdatascience.com/proximal-policy-optimization-ppo-with-tensorflow-2-x-89c9430ecc26).\n",
        "\n",
        "In this article, we will try to understand Open-AI’s Proximal Policy Optimization algorithm for reinforcement learning. After some basic theory, we will be implementing PPO with TensorFlow 2.x. Before you read further, I would recommend you take a look at the Actor-Critic method from [here](https://towardsdatascience.com/actor-critic-with-tensorflow-2-x-part-2of-2-b8ceb7e059db), as we will be modifying the code of that article for PPO.\n",
        "\n"
      ],
      "metadata": {
        "id": "DqQ4zNKh7fCR"
      }
    },
    {
      "cell_type": "markdown",
      "source": [
        "## Why PPO?\n",
        "\n",
        "1. *Unstable Policy Update*: In Many Policy Gradient Methods, policy updates are unstable because of larger step size, which leads to bad policy updates and when this new bad policy is used for learning then it leads to even worse policy. And if steps are small then it leads to slower learning.\n",
        "\n",
        "2. *Data Inefficiency*: Many learning methods learn from current experience and discard the experiences after gradient updates. This makes the learning process slow as a neural net takes lots of data to learn.\n",
        "\n",
        "PPO comes handy to overcome the above issues.\n",
        "\n",
        "### Core Idea Behind PPO\n",
        "\n",
        "In earlier Policy gradient methods, the objective function was something like $\\hat{\\mathbb{E}}[\\log \\pi_{\\theta}(a_t/s_t) \\cdot \\hat{A}_t]$. But now instead of the log of current policy, we will be taking the ratio of current policy and old policy.\n",
        "\n",
        "$$\\hat{\\mathbb{E}} \\big[\\frac{\\pi_{\\theta}(a_t | s_t)}{\\pi_{\\theta_{\\text{old}}}(a_t|s_t)} \\hat{A}_t \\big] = \\hat{\\mathbb{E}} \\big[r_t(\\theta) \\hat{A}_t \\big]$$\n",
        "\n",
        "Equation comes from this [paper](https://arxiv.org/abs/1707.06347).\n",
        "\n",
        "We will be also clipping the ratio and will the minimum of the two i.e b/w clipped and unclipped.\n",
        "\n",
        "$$L^{\\text{CLIP}(\\theta)} = \\hat{\\mathbb{E}} \\big[\\min(r_t(\\theta) \\hat{A}_t, \\text{clip}(r_t(\\theta), 1-\\epsilon, 1+\\epsilon) \\hat{A}_t\\big]$$\n",
        "\n",
        "This clipped objective will restrict large policy updates as shown below.\n",
        "\n",
        "![image](https://miro.medium.com/max/1400/1*VN01Obh5VyJ6QuA0qfyq6w.webp)\n",
        "\n",
        "Photo from this [paper](https://arxiv.org/abs/1707.06347)\n"
      ],
      "metadata": {
        "id": "cm-keDbJ7vdq"
      }
    },
    {
      "cell_type": "markdown",
      "source": [
        "## Algorithm Steps\n",
        "\n",
        "1. Play game for n steps and store state, action probability, rewards, done variables.\n",
        "2. Apply the Generalized Advantage Estimation method on the above experience. We will see this in the coding section.\n",
        "3. Train neural networks for some epochs by calculating their respective loss.\n",
        "4. Test this trained model for “m” episodes.\n",
        "5. If the average reward of test episodes is larger than the target reward set by you then stop otherwise repeat from step one."
      ],
      "metadata": {
        "id": "R85BryFj9ONY"
      }
    },
    {
      "cell_type": "markdown",
      "source": [
        "## Code\n",
        "\n",
        "1. After importing the required libraries and initializing our environment, we define our neural networks and are similar to that of the Actor-Critic article.\n",
        "2. The Actor-network takes the current state as input and outputs probability for each action.\n",
        "3. The Critic network outputs the value of a state.\n",
        "\n",
        "```py\n",
        "class critic():\n",
        "    # here is a neural network with dense layers\n",
        "\n",
        "class actor():\n",
        "    # here is another neural network with dense layers\n",
        "```"
      ],
      "metadata": {
        "id": "L5LFkLfq9ZNF"
      }
    },
    {
      "cell_type": "markdown",
      "source": [
        "## Action Selection\n",
        "\n",
        "1. We define our agent class and initialize optimizer and learning rate.\n",
        "2. We also define a clip_pram variable which will be used in the actor loss function.\n",
        "3. For action selection, we will be using the TensorFlow probabilities library, which takes probabilities as input and convert them into distribution.\n",
        "4. Then, we use the distribution for action selection.\n",
        "\n",
        "```py\n",
        "class agent()\n",
        "    def __init__(self):\n",
        "        # define optimizer\n",
        "        # define actor()\n",
        "        # define critic()\n",
        "    \n",
        "    def act(self, state):\n",
        "        # define what the actor does\n",
        "    \n",
        "    def actor_loss(self, prob, action, td):\n",
        "        # define the formuls\n",
        "        # and compute the loss for actor\n",
        "        # loss is defined according to PPO formula\n",
        "    \n",
        "    def learn():\n",
        "        # use gradient tape to update gradient\n",
        "        # according to PPO loss function\n",
        "```"
      ],
      "metadata": {
        "id": "mk3HBlzr9uDq"
      }
    },
    {
      "cell_type": "markdown",
      "source": [
        "## Learn Function\n",
        "\n",
        "1. Learn function takes (array of states, actions, advantages, probabilities, returns that were stored or calculated during interaction with the environment) as inputs.\n",
        "2. We calculate current probabilities and losses. The Critic loss is MSE.\n",
        "3. This function performs gradient updates using Gradient Tap.\n",
        "\n",
        "```py\n",
        "class agent():\n",
        "    def learn():\n",
        "```"
      ],
      "metadata": {
        "id": "5rTbHIyBKTfz"
      }
    },
    {
      "cell_type": "markdown",
      "source": [
        "## Actor Loss\n",
        "\n",
        "1. Actor loss takes current probabilities, actions, advantages, old probabilities, and critic loss as inputs.\n",
        "2. First, we calculate the entropies and calculate the mean.\n",
        "3. Then, we loop through probabilities, advantages, and old probabilities and calculate the ratio, clipped ratio, and append them in lists.\n",
        "4. Then, we calculate the loss. Note here we took a negative of loss because we want to perform gradient ascent instead of gradient descent.\n",
        "\n",
        "```py\n",
        "class agent():\n",
        "    def actor_loss():\n",
        "```"
      ],
      "metadata": {
        "id": "bGDuUGhTKmLH"
      }
    },
    {
      "cell_type": "markdown",
      "source": [
        "## Generalized Advantage Estimation\n",
        "\n",
        "1. We defined a preprocess function that implements the GAE method to calculate returns and advantages.\n",
        "2. Initialize variables “g” as zero and lambda as 0.95.\n",
        "3. We loop reward from back by reversing the reward list.\n",
        "4. Calculate delta as (the reward of current action + gamma * value of next state * done variable which is zero for the terminal state — the value of current state).\n",
        "5. Calculate variable “g” as (`delta + gamma * lambda * done variable* g`).\n",
        "6. Calculate return as (`g + value of current state`).\n",
        "7. Reverse the return list as we did calculations from backward.\n",
        "8. The advantage is calculated as ( returns — values). Here we use values[:-1]. After all, our value list is one greater than all other lists because we added the value of the state next to the last state for calculation purposes."
      ],
      "metadata": {
        "id": "XEWFVh3CJ3Em"
      }
    },
    {
      "cell_type": "markdown",
      "source": [
        "## Test Model Knolwedge\n",
        "\n",
        "This function will be used to test our agent’s knowledge and returns the total reward for one episode.\n",
        "\n",
        "```py\n",
        "def test_reward(env):\n",
        "    # there we have a while-loop to update reward\n",
        "```"
      ],
      "metadata": {
        "id": "I4J_7zzL-Bsd"
      }
    },
    {
      "cell_type": "markdown",
      "source": [
        "## Training Loop\n",
        "\n",
        "1. We will loop for “steps” time i.e we will collect experience for “steps” time.\n",
        "2. The next loop is for the number of times agent interacts with environments and we store experiences in different lists.\n",
        "3. After the above loop, we calculate and add the value of the state next to the last state for calculations in the Generalized Advantage Estimation method.\n",
        "4. Then, we process all the lists in the Generalized Advantage Estimation method to get returns, advantage.\n",
        "5. Next, we train our networks for 10 epochs.\n",
        "6. After training, we will test our agent on the test environment for five episodes.\n",
        "7. If the average reward of test episodes is larger than the target reward set by you then stop otherwise repeat from step one.\n",
        "\n",
        "```py\n",
        "# define params\n",
        "for s in range(steps):\n",
        "    for s in range(steps):\n",
        "        # define params for inner loop\n",
        "        # compute actions, probabilities, values\n",
        "        reward.append()\n",
        "        actions.append()\n",
        "        probs.append()\n",
        "        values.append()\n",
        "    for epochs in range(10):\n",
        "        # run \n",
        "        agent().learn()\n",
        "        # which use gradient tape to update gradient\n",
        "    \n",
        "    # clean up\n",
        "    # and print results\n",
        "    # and save\n",
        "    if average_reward > best_reward:\n",
        "        # save and break the loop\n",
        "\n",
        "\n",
        "```"
      ],
      "metadata": {
        "id": "tV2hpfEf-Lej"
      }
    },
    {
      "cell_type": "markdown",
      "source": [
        "## Code Starts from Here"
      ],
      "metadata": {
        "id": "L5voX6Hj_ZT-"
      }
    },
    {
      "cell_type": "markdown",
      "source": [
        "### Library"
      ],
      "metadata": {
        "id": "ShYHZIh7_dmk"
      }
    },
    {
      "cell_type": "code",
      "source": [
        "import numpy as np\n",
        "import tensorflow as tf \n",
        "import gym\n",
        "import tensorflow_probability as tfp\n",
        "import tensorflow.keras.losses as kls"
      ],
      "metadata": {
        "id": "xYIvgSYn5hUc"
      },
      "execution_count": 16,
      "outputs": []
    },
    {
      "cell_type": "markdown",
      "source": [
        "### Installation\n",
        "\n",
        "Please install the following."
      ],
      "metadata": {
        "id": "n6F2yJXI_f3i"
      }
    },
    {
      "cell_type": "code",
      "source": [
        "pip install box2d-py"
      ],
      "metadata": {
        "colab": {
          "base_uri": "https://localhost:8080/"
        },
        "id": "y2UxFdDS6YdT",
        "outputId": "0e183db7-ebc8-47db-db4a-b02cf5ace33f"
      },
      "execution_count": 3,
      "outputs": [
        {
          "output_type": "stream",
          "name": "stdout",
          "text": [
            "Looking in indexes: https://pypi.org/simple, https://us-python.pkg.dev/colab-wheels/public/simple/\n",
            "Collecting box2d-py\n",
            "  Downloading box2d-py-2.3.8.tar.gz (374 kB)\n",
            "\u001b[2K     \u001b[90m━━━━━━━━━━━━━━━━━━━━━━━━━━━━━━━━━━━━━━━\u001b[0m \u001b[32m374.5/374.5 KB\u001b[0m \u001b[31m8.0 MB/s\u001b[0m eta \u001b[36m0:00:00\u001b[0m\n",
            "\u001b[?25h  Preparing metadata (setup.py) ... \u001b[?25l\u001b[?25hdone\n",
            "Building wheels for collected packages: box2d-py\n",
            "  Building wheel for box2d-py (setup.py) ... \u001b[?25l\u001b[?25hdone\n",
            "  Created wheel for box2d-py: filename=box2d_py-2.3.8-cp38-cp38-linux_x86_64.whl size=2835001 sha256=1aac00046f2e9a376195a72d2aa31ee39ec050a0df36c3e51c1d5107bf61c9d0\n",
            "  Stored in directory: /root/.cache/pip/wheels/cc/4f/d6/44eb0a9e6fea384e58f19cb0c4125e46a23af2b33fe3a7e81c\n",
            "Successfully built box2d-py\n",
            "Installing collected packages: box2d-py\n",
            "Successfully installed box2d-py-2.3.8\n"
          ]
        }
      ]
    },
    {
      "cell_type": "code",
      "source": [
        "pip install gym[box2d]"
      ],
      "metadata": {
        "colab": {
          "base_uri": "https://localhost:8080/"
        },
        "id": "sV1JyU3u6VmG",
        "outputId": "9da39afe-d59a-4bf0-e396-dd61b910cdbd"
      },
      "execution_count": 4,
      "outputs": [
        {
          "output_type": "stream",
          "name": "stdout",
          "text": [
            "Looking in indexes: https://pypi.org/simple, https://us-python.pkg.dev/colab-wheels/public/simple/\n",
            "Requirement already satisfied: gym[box2d] in /usr/local/lib/python3.8/dist-packages (0.25.2)\n",
            "Requirement already satisfied: numpy>=1.18.0 in /usr/local/lib/python3.8/dist-packages (from gym[box2d]) (1.21.6)\n",
            "Requirement already satisfied: importlib-metadata>=4.8.0 in /usr/local/lib/python3.8/dist-packages (from gym[box2d]) (6.0.0)\n",
            "Requirement already satisfied: gym-notices>=0.0.4 in /usr/local/lib/python3.8/dist-packages (from gym[box2d]) (0.0.8)\n",
            "Requirement already satisfied: cloudpickle>=1.2.0 in /usr/local/lib/python3.8/dist-packages (from gym[box2d]) (2.2.0)\n",
            "Requirement already satisfied: swig==4.* in /usr/local/lib/python3.8/dist-packages (from gym[box2d]) (4.1.1)\n",
            "Collecting pygame==2.1.0\n",
            "  Using cached pygame-2.1.0-cp38-cp38-manylinux_2_17_x86_64.manylinux2014_x86_64.whl (18.3 MB)\n",
            "Collecting box2d-py==2.3.5\n",
            "  Using cached box2d-py-2.3.5.tar.gz (374 kB)\n",
            "  Preparing metadata (setup.py) ... \u001b[?25l\u001b[?25hdone\n",
            "Requirement already satisfied: zipp>=0.5 in /usr/local/lib/python3.8/dist-packages (from importlib-metadata>=4.8.0->gym[box2d]) (3.11.0)\n",
            "Building wheels for collected packages: box2d-py\n",
            "  Building wheel for box2d-py (setup.py) ... \u001b[?25l\u001b[?25hdone\n",
            "  Created wheel for box2d-py: filename=box2d_py-2.3.5-cp38-cp38-linux_x86_64.whl size=2834814 sha256=130ff3883c95bb2e24e10d15454a08019dc496fcd2aa4e4f5e069e4a2325d292\n",
            "  Stored in directory: /root/.cache/pip/wheels/8b/95/16/1dc99ff9a3f316ff245fdb5c9086cd13c35dad630809909075\n",
            "Successfully built box2d-py\n",
            "Installing collected packages: box2d-py, pygame\n",
            "  Attempting uninstall: box2d-py\n",
            "    Found existing installation: box2d-py 2.3.8\n",
            "    Uninstalling box2d-py-2.3.8:\n",
            "      Successfully uninstalled box2d-py-2.3.8\n",
            "Successfully installed box2d-py-2.3.5 pygame-2.1.0\n"
          ]
        }
      ]
    },
    {
      "cell_type": "markdown",
      "source": [
        "### Initiate Environment\n",
        "\n",
        "We use the `Cart Pole` environment from [gym](https://www.gymlibrary.dev/environments/classic_control/cart_pole/)."
      ],
      "metadata": {
        "id": "CaGSFskn_jh0"
      }
    },
    {
      "cell_type": "code",
      "execution_count": 17,
      "metadata": {
        "colab": {
          "base_uri": "https://localhost:8080/"
        },
        "id": "BQly4cTp5VjL",
        "outputId": "c6dc6c1e-7be2-4c24-9321-5771fe515187"
      },
      "outputs": [
        {
          "output_type": "stream",
          "name": "stderr",
          "text": [
            "/usr/local/lib/python3.8/dist-packages/gym/envs/registration.py:593: UserWarning: \u001b[33mWARN: The environment CartPole-v0 is out of date. You should consider upgrading to version `v1`.\u001b[0m\n",
            "  logger.warn(\n"
          ]
        }
      ],
      "source": [
        "env = gym.make(\"CartPole-v0\")\n",
        "low = env.observation_space.low\n",
        "high = env.observation_space.high"
      ]
    },
    {
      "cell_type": "markdown",
      "source": [
        "### Define Class Object: `critic`"
      ],
      "metadata": {
        "id": "ony4paV9_m2T"
      }
    },
    {
      "cell_type": "code",
      "source": [
        "class critic(tf.keras.Model):\n",
        "    def __init__(self):\n",
        "        super().__init__()\n",
        "        self.d1 = tf.keras.layers.Dense(128,activation='relu')\n",
        "        self.v = tf.keras.layers.Dense(1, activation = None)\n",
        "\n",
        "    def call(self, input_data):\n",
        "        x = self.d1(input_data)\n",
        "        v = self.v(x)\n",
        "        return v\n",
        "\n",
        "\n",
        "class actor(tf.keras.Model):\n",
        "    def __init__(self):\n",
        "        super().__init__()\n",
        "        self.d1 = tf.keras.layers.Dense(128,activation='relu')\n",
        "        self.a = tf.keras.layers.Dense(2,activation='softmax')\n",
        "\n",
        "    def call(self, input_data):\n",
        "        x = self.d1(input_data)\n",
        "        a = self.a(x)\n",
        "        return a"
      ],
      "metadata": {
        "id": "2Ca4f7_f5ik7"
      },
      "execution_count": 18,
      "outputs": []
    },
    {
      "cell_type": "markdown",
      "source": [
        "### Define Class Object: `agent`"
      ],
      "metadata": {
        "id": "h16OUE1o_uan"
      }
    },
    {
      "cell_type": "code",
      "source": [
        "class agent():\n",
        "    def __init__(self, gamma = 0.99):\n",
        "        self.gamma = gamma\n",
        "        # self.a_opt = tf.keras.optimizers.Adam(learning_rate=1e-5)\n",
        "        # self.c_opt = tf.keras.optimizers.Adam(learning_rate=1e-5)\n",
        "        self.a_opt = tf.keras.optimizers.Adam(learning_rate=7e-3)\n",
        "        self.c_opt = tf.keras.optimizers.Adam(learning_rate=7e-3)\n",
        "        self.actor = actor()\n",
        "        self.critic = critic()\n",
        "        self.clip_pram = 0.2\n",
        "\n",
        "\n",
        "    def act(self,state):\n",
        "        prob = self.actor(np.array([state]))\n",
        "        prob = prob.numpy()\n",
        "        dist = tfp.distributions.Categorical(probs=prob, dtype=tf.float32)\n",
        "        action = dist.sample()\n",
        "        return int(action.numpy()[0])\n",
        "\n",
        "\n",
        "    def actor_loss(self, probs, actions, adv, old_probs, closs):\n",
        "\n",
        "        probability = probs      \n",
        "        entropy = tf.reduce_mean(tf.math.negative(tf.math.multiply(probability,tf.math.log(probability))))\n",
        "        #print(probability)\n",
        "        #print(entropy)\n",
        "        sur1 = []\n",
        "        sur2 = []\n",
        "\n",
        "        for pb, t, op,a  in zip(probability, adv, old_probs, actions):\n",
        "            t =  tf.constant(t)\n",
        "            #op =  tf.constant(op)\n",
        "            #print(f\"t{t}\")\n",
        "            #ratio = tf.math.exp(tf.math.log(pb + 1e-10) - tf.math.log(op + 1e-10))\n",
        "            ratio = tf.math.divide(pb[a],op[a])\n",
        "            #print(f\"ratio{ratio}\")\n",
        "            s1 = tf.math.multiply(ratio,t)\n",
        "            #print(f\"s1{s1}\")\n",
        "            s2 =  tf.math.multiply(tf.clip_by_value(ratio, 1.0 - self.clip_pram, 1.0 + self.clip_pram),t)\n",
        "            #print(f\"s2{s2}\")\n",
        "            sur1.append(s1)\n",
        "            sur2.append(s2)\n",
        "\n",
        "        sr1 = tf.stack(sur1)\n",
        "        sr2 = tf.stack(sur2)\n",
        "        \n",
        "        #closs = tf.reduce_mean(tf.math.square(td))\n",
        "        loss = tf.math.negative(tf.reduce_mean(tf.math.minimum(sr1, sr2)) - closs + 0.001 * entropy)\n",
        "        #print(loss)\n",
        "        return loss\n",
        "\n",
        "    def learn(self, states, actions,  adv , old_probs, discnt_rewards):\n",
        "        discnt_rewards = tf.reshape(discnt_rewards, (len(discnt_rewards),))\n",
        "        adv = tf.reshape(adv, (len(adv),))\n",
        "\n",
        "        old_p = old_probs\n",
        "        old_p = tf.reshape(old_p, (len(old_p),2))\n",
        "\n",
        "        with tf.GradientTape() as tape1, tf.GradientTape() as tape2:\n",
        "            p = self.actor(states, training=True)\n",
        "            v =  self.critic(states,training=True)\n",
        "            v = tf.reshape(v, (len(v),))\n",
        "            td = tf.math.subtract(discnt_rewards, v)\n",
        "            c_loss = 0.5 * kls.mean_squared_error(discnt_rewards, v)\n",
        "            a_loss = self.actor_loss(p, actions, adv, old_probs, c_loss)\n",
        "\n",
        "        grads1 = tape1.gradient(a_loss, self.actor.trainable_variables)\n",
        "        grads2 = tape2.gradient(c_loss, self.critic.trainable_variables)\n",
        "        self.a_opt.apply_gradients(zip(grads1, self.actor.trainable_variables))\n",
        "        self.c_opt.apply_gradients(zip(grads2, self.critic.trainable_variables))\n",
        "\n",
        "        return a_loss, c_loss"
      ],
      "metadata": {
        "id": "86hwMCju5nSJ"
      },
      "execution_count": 19,
      "outputs": []
    },
    {
      "cell_type": "code",
      "source": [
        "def test_reward(env):\n",
        "    total_reward = 0\n",
        "    state = env.reset()\n",
        "    done = False\n",
        "    while not done:\n",
        "        action = np.argmax(agentoo7.actor(np.array([state])).numpy())\n",
        "        next_state, reward, done, _ = env.step(action)\n",
        "        state = next_state\n",
        "        total_reward += reward\n",
        "\n",
        "    return total_reward"
      ],
      "metadata": {
        "id": "FdDH34HUA45f"
      },
      "execution_count": 20,
      "outputs": []
    },
    {
      "cell_type": "code",
      "source": [
        "def preprocess1(states, actions, rewards, done, values, gamma):\n",
        "    g = 0\n",
        "    lmbda = 0.95\n",
        "    returns = []\n",
        "    for i in reversed(range(len(rewards))):\n",
        "        delta = rewards[i] + gamma * values[i + 1] * done[i] - values[i]\n",
        "        g = delta + gamma * lmbda * dones[i] * g\n",
        "        returns.append(g + values[i])\n",
        "\n",
        "    returns.reverse()\n",
        "    adv = np.array(returns, dtype=np.float32) - values[:-1]\n",
        "    adv = (adv - np.mean(adv)) / (np.std(adv) + 1e-10)\n",
        "    states = np.array(states, dtype=np.float32)\n",
        "    actions = np.array(actions, dtype=np.int32)\n",
        "    returns = np.array(returns, dtype=np.float32)\n",
        "\n",
        "    return states, actions, returns, adv    "
      ],
      "metadata": {
        "id": "70Hl3RsXA8gd"
      },
      "execution_count": 21,
      "outputs": []
    },
    {
      "cell_type": "markdown",
      "source": [
        "### Define and Run Training"
      ],
      "metadata": {
        "id": "mnwj-IYm_wHi"
      }
    },
    {
      "cell_type": "code",
      "source": [
        "# states, actions, returns, adv\n",
        "plt.plot(adv)"
      ],
      "metadata": {
        "colab": {
          "base_uri": "https://localhost:8080/",
          "height": 283
        },
        "id": "dFoVEf09JBNu",
        "outputId": "5fb831d0-4bac-4949-bf77-83258783008c"
      },
      "execution_count": 54,
      "outputs": [
        {
          "output_type": "execute_result",
          "data": {
            "text/plain": [
              "[<matplotlib.lines.Line2D at 0x7fa1b0c9d310>]"
            ]
          },
          "metadata": {},
          "execution_count": 54
        },
        {
          "output_type": "display_data",
          "data": {
            "text/plain": [
              "<Figure size 432x288 with 1 Axes>"
            ],
            "image/png": "[encoded data removed]"
          },
          "metadata": {
            "needs_background": "light"
          }
        }
      ]
    },
    {
      "cell_type": "code",
      "source": [
        "tf.random.set_seed(2023)\n",
        "agentoo7 = agent()\n",
        "steps = 1000000\n",
        "ep_reward = []\n",
        "total_avgr = []\n",
        "target = False \n",
        "best_reward = 0\n",
        "avg_rewards_list = []\n",
        "for s in range(steps):\n",
        "    print(f'START: Running step = {s} now =====================================')\n",
        "    if target == True:\n",
        "        break\n",
        "\n",
        "    done = False\n",
        "    state = env.reset()\n",
        "    all_aloss = []\n",
        "    all_closs = []\n",
        "    rewards = []\n",
        "    states = []\n",
        "    actions = []\n",
        "    probs = []\n",
        "    dones = []\n",
        "    values = []\n",
        "    print(\"new episod\")\n",
        "\n",
        "    for e in range(128):\n",
        "        action = agentoo7.act(state)\n",
        "        value = agentoo7.critic(np.array([state])).numpy()\n",
        "        next_state, reward, done, _ = env.step(action)\n",
        "        dones.append(1-done)\n",
        "        rewards.append(reward)\n",
        "        states.append(state)\n",
        "        #actions.append(tf.one_hot(action, 2, dtype=tf.int32).numpy().tolist())\n",
        "        actions.append(action)\n",
        "        prob = agentoo7.actor(np.array([state]))\n",
        "        probs.append(prob[0])\n",
        "        values.append(value[0][0])\n",
        "        state = next_state\n",
        "        if done:\n",
        "            env.reset()\n",
        "\n",
        "    value = agentoo7.critic(np.array([state])).numpy()\n",
        "    values.append(value[0][0])\n",
        "    np.reshape(probs, (len(probs),2))\n",
        "    probs = np.stack(probs, axis=0)\n",
        "\n",
        "    states, actions, returns, adv  = preprocess1(states, actions, rewards, dones, values, 1)\n",
        "\n",
        "    for epocs in range(10):\n",
        "        al, cl = agentoo7.learn(states, actions, adv, probs, returns)\n",
        "        # print(f\"al{al}\") \n",
        "        # print(f\"cl{cl}\")\n",
        "\n",
        "    avg_reward = np.mean([test_reward(env) for _ in range(5)])\n",
        "    print(f\"total test reward is {avg_reward}\")\n",
        "    avg_rewards_list.append(avg_reward)\n",
        "    if avg_reward > best_reward:\n",
        "        print('best reward=' + str(avg_reward))\n",
        "        agentoo7.actor.save('model_actor_{}_{}'.format(s, avg_reward), save_format=\"tf\")\n",
        "        agentoo7.critic.save('model_critic_{}_{}'.format(s, avg_reward), save_format=\"tf\")\n",
        "        best_reward = avg_reward\n",
        "    if best_reward == 200:\n",
        "        target = True\n",
        "\n",
        "    print(f'===================================== step {s} finished!')\n",
        "    env.reset()\n",
        "\n",
        "env.close()"
      ],
      "metadata": {
        "colab": {
          "base_uri": "https://localhost:8080/"
        },
        "id": "ybfQbu-s56sR",
        "outputId": "8c0880d4-0168-42a8-a7ce-22eee2327fd3"
      },
      "execution_count": 33,
      "outputs": [
        {
          "output_type": "stream",
          "name": "stdout",
          "text": [
            "START: Running step = 0 now =====================================\n",
            "new episod\n",
            "total test reward is 14.6\n",
            "best reward=14.6\n",
            "===================================== step 0 finished!\n",
            "START: Running step = 1 now =====================================\n",
            "new episod\n",
            "total test reward is 86.6\n",
            "best reward=86.6\n",
            "===================================== step 1 finished!\n",
            "START: Running step = 2 now =====================================\n",
            "new episod\n",
            "total test reward is 26.6\n",
            "===================================== step 2 finished!\n",
            "START: Running step = 3 now =====================================\n",
            "new episod\n",
            "total test reward is 52.6\n",
            "===================================== step 3 finished!\n",
            "START: Running step = 4 now =====================================\n",
            "new episod\n",
            "total test reward is 49.6\n",
            "===================================== step 4 finished!\n",
            "START: Running step = 5 now =====================================\n",
            "new episod\n",
            "total test reward is 159.6\n",
            "best reward=159.6\n",
            "===================================== step 5 finished!\n",
            "START: Running step = 6 now =====================================\n",
            "new episod\n",
            "total test reward is 117.8\n",
            "===================================== step 6 finished!\n",
            "START: Running step = 7 now =====================================\n",
            "new episod\n",
            "total test reward is 57.0\n",
            "===================================== step 7 finished!\n",
            "START: Running step = 8 now =====================================\n",
            "new episod\n",
            "total test reward is 76.2\n",
            "===================================== step 8 finished!\n",
            "START: Running step = 9 now =====================================\n",
            "new episod\n",
            "total test reward is 116.8\n",
            "===================================== step 9 finished!\n",
            "START: Running step = 10 now =====================================\n",
            "new episod\n",
            "total test reward is 182.4\n",
            "best reward=182.4\n",
            "===================================== step 10 finished!\n",
            "START: Running step = 11 now =====================================\n",
            "new episod\n",
            "total test reward is 131.8\n",
            "===================================== step 11 finished!\n",
            "START: Running step = 12 now =====================================\n",
            "new episod\n",
            "total test reward is 175.4\n",
            "===================================== step 12 finished!\n",
            "START: Running step = 13 now =====================================\n",
            "new episod\n",
            "total test reward is 182.4\n",
            "===================================== step 13 finished!\n",
            "START: Running step = 14 now =====================================\n",
            "new episod\n",
            "total test reward is 106.8\n",
            "===================================== step 14 finished!\n",
            "START: Running step = 15 now =====================================\n",
            "new episod\n",
            "total test reward is 78.4\n",
            "===================================== step 15 finished!\n",
            "START: Running step = 16 now =====================================\n",
            "new episod\n",
            "total test reward is 100.6\n",
            "===================================== step 16 finished!\n",
            "START: Running step = 17 now =====================================\n",
            "new episod\n",
            "total test reward is 97.2\n",
            "===================================== step 17 finished!\n",
            "START: Running step = 18 now =====================================\n",
            "new episod\n",
            "total test reward is 76.2\n",
            "===================================== step 18 finished!\n",
            "START: Running step = 19 now =====================================\n",
            "new episod\n",
            "total test reward is 92.8\n",
            "===================================== step 19 finished!\n",
            "START: Running step = 20 now =====================================\n",
            "new episod\n",
            "total test reward is 101.6\n",
            "===================================== step 20 finished!\n",
            "START: Running step = 21 now =====================================\n",
            "new episod\n",
            "total test reward is 103.8\n",
            "===================================== step 21 finished!\n",
            "START: Running step = 22 now =====================================\n",
            "new episod\n",
            "total test reward is 114.0\n",
            "===================================== step 22 finished!\n",
            "START: Running step = 23 now =====================================\n",
            "new episod\n",
            "total test reward is 172.8\n",
            "===================================== step 23 finished!\n",
            "START: Running step = 24 now =====================================\n",
            "new episod\n",
            "total test reward is 189.8\n",
            "best reward=189.8\n",
            "===================================== step 24 finished!\n",
            "START: Running step = 25 now =====================================\n",
            "new episod\n",
            "total test reward is 194.8\n",
            "best reward=194.8\n",
            "===================================== step 25 finished!\n",
            "START: Running step = 26 now =====================================\n",
            "new episod\n",
            "total test reward is 181.0\n",
            "===================================== step 26 finished!\n",
            "START: Running step = 27 now =====================================\n",
            "new episod\n",
            "total test reward is 179.0\n",
            "===================================== step 27 finished!\n",
            "START: Running step = 28 now =====================================\n",
            "new episod\n",
            "total test reward is 174.4\n",
            "===================================== step 28 finished!\n",
            "START: Running step = 29 now =====================================\n",
            "new episod\n",
            "total test reward is 153.2\n",
            "===================================== step 29 finished!\n",
            "START: Running step = 30 now =====================================\n",
            "new episod\n",
            "total test reward is 199.6\n",
            "best reward=199.6\n",
            "===================================== step 30 finished!\n",
            "START: Running step = 31 now =====================================\n",
            "new episod\n",
            "total test reward is 187.2\n",
            "===================================== step 31 finished!\n",
            "START: Running step = 32 now =====================================\n",
            "new episod\n",
            "total test reward is 192.4\n",
            "===================================== step 32 finished!\n",
            "START: Running step = 33 now =====================================\n",
            "new episod\n",
            "total test reward is 125.4\n",
            "===================================== step 33 finished!\n",
            "START: Running step = 34 now =====================================\n",
            "new episod\n",
            "total test reward is 148.8\n",
            "===================================== step 34 finished!\n",
            "START: Running step = 35 now =====================================\n",
            "new episod\n",
            "total test reward is 179.4\n",
            "===================================== step 35 finished!\n",
            "START: Running step = 36 now =====================================\n",
            "new episod\n",
            "total test reward is 154.4\n",
            "===================================== step 36 finished!\n",
            "START: Running step = 37 now =====================================\n",
            "new episod\n",
            "total test reward is 153.6\n",
            "===================================== step 37 finished!\n",
            "START: Running step = 38 now =====================================\n",
            "new episod\n",
            "total test reward is 168.0\n",
            "===================================== step 38 finished!\n",
            "START: Running step = 39 now =====================================\n",
            "new episod\n",
            "total test reward is 193.4\n",
            "===================================== step 39 finished!\n",
            "START: Running step = 40 now =====================================\n",
            "new episod\n",
            "total test reward is 81.2\n",
            "===================================== step 40 finished!\n",
            "START: Running step = 41 now =====================================\n",
            "new episod\n",
            "total test reward is 172.0\n",
            "===================================== step 41 finished!\n",
            "START: Running step = 42 now =====================================\n",
            "new episod\n",
            "total test reward is 166.4\n",
            "===================================== step 42 finished!\n",
            "START: Running step = 43 now =====================================\n",
            "new episod\n",
            "total test reward is 87.6\n",
            "===================================== step 43 finished!\n",
            "START: Running step = 44 now =====================================\n",
            "new episod\n",
            "total test reward is 95.0\n",
            "===================================== step 44 finished!\n",
            "START: Running step = 45 now =====================================\n",
            "new episod\n",
            "total test reward is 149.8\n",
            "===================================== step 45 finished!\n",
            "START: Running step = 46 now =====================================\n",
            "new episod\n",
            "total test reward is 192.4\n",
            "===================================== step 46 finished!\n",
            "START: Running step = 47 now =====================================\n",
            "new episod\n",
            "total test reward is 170.4\n",
            "===================================== step 47 finished!\n",
            "START: Running step = 48 now =====================================\n",
            "new episod\n",
            "total test reward is 200.0\n",
            "best reward=200.0\n",
            "===================================== step 48 finished!\n",
            "START: Running step = 49 now =====================================\n"
          ]
        }
      ]
    },
    {
      "cell_type": "code",
      "source": [
        "import matplotlib.pyplot as plt"
      ],
      "metadata": {
        "id": "RtAsoiNg7XnF"
      },
      "execution_count": 29,
      "outputs": []
    },
    {
      "cell_type": "code",
      "source": [
        "ep = [i for i in range(len(avg_rewards_list))]\n",
        "plt.plot(range(len(avg_rewards_list)), avg_rewards_list, 'b')\n",
        "plt.title(\"Avg Test Award Vs Test Episodes\")\n",
        "plt.xlabel(\"Test Episodes\")\n",
        "plt.ylabel(\"Average Test Reward\")\n",
        "plt.grid(True)\n",
        "plt.show()"
      ],
      "metadata": {
        "colab": {
          "base_uri": "https://localhost:8080/",
          "height": 295
        },
        "id": "LyXfrsBhDWT2",
        "outputId": "eb3f346f-7500-4c8d-a546-ef52d5883e4b"
      },
      "execution_count": 36,
      "outputs": [
        {
          "output_type": "display_data",
          "data": {
            "text/plain": [
              "<Figure size 432x288 with 1 Axes>"
            ],
            "image/png": "[encoded data removed]"
          },
          "metadata": {
            "needs_background": "light"
          }
        }
      ]
    },
    {
      "cell_type": "code",
      "source": [],
      "metadata": {
        "id": "NvacW5lmDXpR"
      },
      "execution_count": null,
      "outputs": []
    }
  ]
}