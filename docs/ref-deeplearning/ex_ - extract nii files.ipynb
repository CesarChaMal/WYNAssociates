{
 "cells": [
  {
   "cell_type": "code",
   "execution_count": null,
   "metadata": {},
   "outputs": [],
   "source": [
    "#==================================\n",
    "import nibabel as nib\n",
    "import numpy as np\n",
    "import matplotlib.pyplot as plt\n",
    "#=================================="
   ]
  },
  {
   "cell_type": "code",
   "execution_count": null,
   "metadata": {},
   "outputs": [],
   "source": [
    "# load image (4D) [X,Y,Z_slice,time]\n",
    "nii_img  = nib.load('path_to_file.nii.gz')\n",
    "nii_data = nii_img.get_fdata()\n",
    "\n",
    "fig, ax = plt.subplots(number_of_frames, number_of_slices,constrained_layout=True)\n",
    "fig.canvas.set_window_title('4D Nifti Image')\n",
    "fig.suptitle('4D_Nifti 10 slices 30 time Frames', fontsize=16)\n",
    "#-------------------------------------------------------------------------------\n",
    "mng = plt.get_current_fig_manager()\n",
    "mng.full_screen_toggle()\n",
    "\n",
    "for slice in range(number_of_slices):\n",
    "    # if your data in 4D, otherwise remove this loop\n",
    "    for frame in range(number_of_frames):\n",
    "        ax[frame, slice].imshow(nii_data[:,:,slice,frame],cmap='gray', interpolation=None)\n",
    "        ax[frame, slice].set_title(\"layer {} / frame {}\".format(slice, frame))\n",
    "        ax[frame, slice].axis('off')\n",
    "\n",
    "plt.show() "
   ]
  }
 ],
 "metadata": {
  "language_info": {
   "name": "python"
  },
  "orig_nbformat": 4
 },
 "nbformat": 4,
 "nbformat_minor": 2
}
