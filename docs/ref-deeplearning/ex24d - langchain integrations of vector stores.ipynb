{
  "nbformat": 4,
  "nbformat_minor": 0,
  "metadata": {
    "colab": {
      "provenance": [],
      "toc_visible": true,
      "machine_shape": "hm",
      "gpuType": "T4"
    },
    "kernelspec": {
      "name": "python3",
      "display_name": "Python 3"
    },
    "language_info": {
      "name": "python"
    },
    "accelerator": "GPU"
  },
  "cells": [
    {
      "cell_type": "markdown",
      "source": [
        "# Langchain Integrations of Vector Stores"
      ],
      "metadata": {
        "id": "ptW0LU-PRP7K"
      }
    },
    {
      "cell_type": "markdown",
      "source": [
        "\n",
        "## Chroma\n",
        "\n",
        "[Chroma](https://docs.trychroma.com/getting-started) is a AI-native open-source vector database focused on developer productivity and happiness. Chroma is licensed under Apache 2.0.\n",
        "\n",
        "Chroma runs in various modes. See below for examples of each integrated with LangChain.\n",
        "\n",
        "- in-memory - in a python script or jupyter notebook\n",
        "- in-memory with persistance - in a script or notebook and save/load to disk\n",
        "- in a docker container - as a server running your local machine or in the cloud\n",
        "\n",
        "Like any other database, you can:\n",
        "\n",
        "- `.add`\n",
        "- `.get`\n",
        "- `.update`\n",
        "- `.upsert`\n",
        "- `.delete`\n",
        "- `.peek`\n",
        "and `.query` runs the similarity search.\n",
        "\n",
        "View full docs at [docs](https://docs.trychroma.com/reference/Collection). To access these methods directly, you can do `._collection.method()`\n",
        "\n"
      ],
      "metadata": {
        "id": "P3MQ1_L9Sf4a"
      }
    },
    {
      "cell_type": "code",
      "execution_count": null,
      "metadata": {
        "id": "Z9vNdyUkPvJK"
      },
      "outputs": [],
      "source": [
        "pip install chromadb"
      ]
    },
    {
      "cell_type": "code",
      "source": [
        "pip install langchain"
      ],
      "metadata": {
        "id": "UuQAfjTqP9eD"
      },
      "execution_count": null,
      "outputs": []
    },
    {
      "cell_type": "code",
      "source": [
        "pip install sentence-transformers"
      ],
      "metadata": {
        "id": "MFzbg80PQUxp"
      },
      "execution_count": null,
      "outputs": []
    },
    {
      "cell_type": "code",
      "source": [
        "# import\n",
        "from langchain.document_loaders import TextLoader\n",
        "from langchain.embeddings.sentence_transformer import SentenceTransformerEmbeddings\n",
        "from langchain.text_splitter import CharacterTextSplitter\n",
        "from langchain.vectorstores import Chroma"
      ],
      "metadata": {
        "id": "drOaQcbnPvrg"
      },
      "execution_count": 4,
      "outputs": []
    },
    {
      "cell_type": "markdown",
      "source": [
        "### Basic Example\n",
        "\n",
        "In this basic example, we take the most recent State of the Union Address, split it into chunks, embed it using an open-source embedding model, load it into Chroma, and then query it."
      ],
      "metadata": {
        "id": "ZLHtH2pGR6Ux"
      }
    },
    {
      "cell_type": "code",
      "source": [
        "# create a fake txt file\n",
        "with open('some_file.txt', 'w') as f:\n",
        "  f.write(\n",
        "      \"\"\"\n",
        "        My mother's name is Jenny. \\n\n",
        "\n",
        "        My uncle's name is Tim. \\n\n",
        "\n",
        "        We live in Avatar City, Dumbo Street, United States of Dickens.\n",
        "      \"\"\"\n",
        "  )"
      ],
      "metadata": {
        "id": "z98S5cWjQliu"
      },
      "execution_count": 12,
      "outputs": []
    },
    {
      "cell_type": "code",
      "source": [
        "# load the document and split it into chunks\n",
        "loader = TextLoader(\"some_file.txt\")\n",
        "documents = loader.load()"
      ],
      "metadata": {
        "id": "tn7BqHlCPxj2"
      },
      "execution_count": 13,
      "outputs": []
    },
    {
      "cell_type": "code",
      "source": [
        "# split it into chunks\n",
        "text_splitter = CharacterTextSplitter(chunk_size=1000, chunk_overlap=0)\n",
        "docs = text_splitter.split_documents(documents)"
      ],
      "metadata": {
        "id": "WAE91llHP0oN"
      },
      "execution_count": 14,
      "outputs": []
    },
    {
      "cell_type": "code",
      "source": [
        "# create the open-source embedding function\n",
        "embedding_function = SentenceTransformerEmbeddings(model_name=\"all-MiniLM-L6-v2\")"
      ],
      "metadata": {
        "id": "vqhED-I2QRmw"
      },
      "execution_count": 15,
      "outputs": []
    },
    {
      "cell_type": "code",
      "source": [
        "# load it into Chroma\n",
        "db = Chroma.from_documents(docs, embedding_function)"
      ],
      "metadata": {
        "id": "TqjSqTzcQSzj"
      },
      "execution_count": 16,
      "outputs": []
    },
    {
      "cell_type": "code",
      "source": [
        "# query it\n",
        "query = \"What the mother's name?\"\n",
        "docs = db.similarity_search(query)\n",
        "\n",
        "# print results\n",
        "print(docs[0].page_content)"
      ],
      "metadata": {
        "colab": {
          "base_uri": "https://localhost:8080/"
        },
        "id": "gdaMQ4-cQY9c",
        "outputId": "a99b841e-a1db-47b5-e67a-b89628baee3e"
      },
      "execution_count": 19,
      "outputs": [
        {
          "output_type": "stream",
          "name": "stderr",
          "text": [
            "WARNING:chromadb.segment.impl.vector.local_hnsw:Number of requested results 4 is greater than number of elements in index 2, updating n_results = 2\n"
          ]
        },
        {
          "output_type": "stream",
          "name": "stdout",
          "text": [
            "My mother's name is Jenny. My uncle's name is Tim. We live in Avatar City, Dumbo Street, United States of Dickens.\n"
          ]
        }
      ]
    },
    {
      "cell_type": "code",
      "source": [
        "# query it\n",
        "query = \"Where do we live?\"\n",
        "docs = db.similarity_search(query)\n",
        "\n",
        "# print results\n",
        "print(docs[0].page_content)"
      ],
      "metadata": {
        "colab": {
          "base_uri": "https://localhost:8080/"
        },
        "id": "jz91xgSHQcX2",
        "outputId": "9f991ddc-5bd0-4ab6-c768-09d5b055702c"
      },
      "execution_count": 20,
      "outputs": [
        {
          "output_type": "stream",
          "name": "stderr",
          "text": [
            "WARNING:chromadb.segment.impl.vector.local_hnsw:Number of requested results 4 is greater than number of elements in index 2, updating n_results = 2\n"
          ]
        },
        {
          "output_type": "stream",
          "name": "stdout",
          "text": [
            "My mother's name is Jenny. My uncle's name is Tim. We live in Avatar City, Dumbo Street, United States of Dickens.\n"
          ]
        }
      ]
    },
    {
      "cell_type": "code",
      "source": [
        "# query it\n",
        "query = \"What is 1+1?\"\n",
        "docs = db.similarity_search(query)\n",
        "\n",
        "# print results\n",
        "print(docs[0].page_content)"
      ],
      "metadata": {
        "colab": {
          "base_uri": "https://localhost:8080/"
        },
        "id": "-z9L5fihQet9",
        "outputId": "6c59b119-a9a0-4aa3-8685-8fa93c348263"
      },
      "execution_count": 21,
      "outputs": [
        {
          "output_type": "stream",
          "name": "stderr",
          "text": [
            "WARNING:chromadb.segment.impl.vector.local_hnsw:Number of requested results 4 is greater than number of elements in index 2, updating n_results = 2\n"
          ]
        },
        {
          "output_type": "stream",
          "name": "stdout",
          "text": [
            "My mother's name is Jenny. My uncle's name is Tim. We live in Avatar City, Dumbo Street, United States of Dickens.\n"
          ]
        }
      ]
    },
    {
      "cell_type": "code",
      "source": [],
      "metadata": {
        "id": "0EIkWf4OR3bT"
      },
      "execution_count": null,
      "outputs": []
    },
    {
      "cell_type": "markdown",
      "source": [
        "For more about langchain integrations of vector stores, please see [here](https://python.langchain.com/docs/integrations/vectorstores/chroma)."
      ],
      "metadata": {
        "id": "2UGmHVSdST3D"
      }
    }
  ]
}