{
 "cells": [
  {
   "cell_type": "code",
   "execution_count": 1,
   "metadata": {},
   "outputs": [
    {
     "name": "stdout",
     "output_type": "stream",
     "text": [
      "Collecting git+https://github.com/yiqiao-yin/YinPortfolioManagement.git\n",
      "  Cloning https://github.com/yiqiao-yin/YinPortfolioManagement.git to c:\\users\\eagle\\appdata\\local\\temp\\pip-req-build-9vko4bpm\n",
      "Requirement already satisfied (use --upgrade to upgrade): YinPortfolioManagement==1.0.0 from git+https://github.com/yiqiao-yin/YinPortfolioManagement.git in c:\\users\\eagle\\anaconda3\\lib\\site-packages\n",
      "Building wheels for collected packages: YinPortfolioManagement\n",
      "  Building wheel for YinPortfolioManagement (setup.py): started\n",
      "  Building wheel for YinPortfolioManagement (setup.py): finished with status 'done'\n",
      "  Created wheel for YinPortfolioManagement: filename=YinPortfolioManagement-1.0.0-py3-none-any.whl size=6728 sha256=a987d4034694c7ebe197bf827d7d427eba8ff2282e81b5899ddc137b303eae08\n",
      "  Stored in directory: C:\\Users\\eagle\\AppData\\Local\\Temp\\pip-ephem-wheel-cache-cykf89tu\\wheels\\cc\\50\\76\\5d86e12f8b54a575a6ebf7d3c1fbdee08aa170fa4a4d1218b1\n",
      "Successfully built YinPortfolioManagement\n"
     ]
    },
    {
     "name": "stderr",
     "output_type": "stream",
     "text": [
      "  Running command git clone -q https://github.com/yiqiao-yin/YinPortfolioManagement.git 'C:\\Users\\eagle\\AppData\\Local\\Temp\\pip-req-build-9vko4bpm'\n"
     ]
    }
   ],
   "source": [
    "!pip install git+https://github.com/yiqiao-yin/YinPortfolioManagement.git"
   ]
  },
  {
   "cell_type": "code",
   "execution_count": 3,
   "metadata": {},
   "outputs": [],
   "source": [
    "from YinCapital_forecast.RNN_Regressor import "
   ]
  },
  {
   "cell_type": "code",
   "execution_count": null,
   "metadata": {},
   "outputs": [],
   "source": [
    "Yins"
   ]
  }
 ],
 "metadata": {
  "kernelspec": {
   "display_name": "Python 3",
   "language": "python",
   "name": "python3"
  },
  "language_info": {
   "codemirror_mode": {
    "name": "ipython",
    "version": 3
   },
   "file_extension": ".py",
   "mimetype": "text/x-python",
   "name": "python",
   "nbconvert_exporter": "python",
   "pygments_lexer": "ipython3",
   "version": "3.8.3"
  }
 },
 "nbformat": 4,
 "nbformat_minor": 4
}
