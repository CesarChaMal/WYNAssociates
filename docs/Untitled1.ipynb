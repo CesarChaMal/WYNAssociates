{
 "cells": [
  {
   "cell_type": "code",
   "execution_count": 1,
   "metadata": {},
   "outputs": [
    {
     "name": "stdout",
     "output_type": "stream",
     "text": [
      "Collecting git+https://github.com/yiqiao-yin/YinPortfolioManagement.git"
     ]
    },
    {
     "name": "stderr",
     "output_type": "stream",
     "text": [
      "  Running command git clone -q https://github.com/yiqiao-yin/YinPortfolioManagement.git 'C:\\Users\\eagle\\AppData\\Local\\Temp\\pip-req-build-mxtk029c'"
     ]
    },
    {
     "name": "stdout",
     "output_type": "stream",
     "text": [
      "\n",
      "  Cloning https://github.com/yiqiao-yin/YinPortfolioManagement.git to c:\\users\\eagle\\appdata\\local\\temp\\pip-req-build-mxtk029c\n",
      "Requirement already satisfied (use --upgrade to upgrade): YinPortfolioManagement==1.0.0 from git+https://github.com/yiqiao-yin/YinPortfolioManagement.git in c:\\users\\eagle\\anaconda3\\lib\\site-packages\n",
      "Building wheels for collected packages: YinPortfolioManagement\n",
      "  Building wheel for YinPortfolioManagement (setup.py): started\n",
      "  Building wheel for YinPortfolioManagement (setup.py): finished with status 'done'\n",
      "  Created wheel for YinPortfolioManagement: filename=YinPortfolioManagement-1.0.0-py3-none-any.whl size=6534 sha256=4844acc1252f78d80e5f5e21dd040bc4ecc1b36c085af77bae9e22a00de2eebf\n",
      "  Stored in directory: C:\\Users\\eagle\\AppData\\Local\\Temp\\pip-ephem-wheel-cache-52u03cwa\\wheels\\cc\\50\\76\\5d86e12f8b54a575a6ebf7d3c1fbdee08aa170fa4a4d1218b1\n",
      "Successfully built YinPortfolioManagement\n"
     ]
    },
    {
     "name": "stderr",
     "output_type": "stream",
     "text": [
      "\n"
     ]
    }
   ],
   "source": [
    "!pip install git+https://github.com/yiqiao-yin/YinPortfolioManagement.git"
   ]
  },
  {
   "cell_type": "code",
   "execution_count": null,
   "metadata": {},
   "outputs": [],
   "source": []
  }
 ],
 "metadata": {
  "kernelspec": {
   "display_name": "Python 3",
   "language": "python",
   "name": "python3"
  },
  "language_info": {
   "codemirror_mode": {
    "name": "ipython",
    "version": 3
   },
   "file_extension": ".py",
   "mimetype": "text/x-python",
   "name": "python",
   "nbconvert_exporter": "python",
   "pygments_lexer": "ipython3",
   "version": "3.8.3"
  }
 },
 "nbformat": 4,
 "nbformat_minor": 4
}
