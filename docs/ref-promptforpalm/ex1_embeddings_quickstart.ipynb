{
  "cells": [
    {
      "cell_type": "markdown",
      "metadata": {
        "id": "Tce3stUlHN0L"
      },
      "source": [
        "##### Copyright 2023 Google LLC."
      ]
    },
    {
      "cell_type": "code",
      "execution_count": null,
      "metadata": {
        "cellView": "form",
        "id": "tuOe1ymfHZPu"
      },
      "outputs": [],
      "source": [
        "#@title Licensed under the Apache License, Version 2.0 (the \"License\");\n",
        "# you may not use this file except in compliance with the License.\n",
        "# You may obtain a copy of the License at\n",
        "#\n",
        "# https://www.apache.org/licenses/LICENSE-2.0\n",
        "#\n",
        "# Unless required by applicable law or agreed to in writing, software\n",
        "# distributed under the License is distributed on an \"AS IS\" BASIS,\n",
        "# WITHOUT WARRANTIES OR CONDITIONS OF ANY KIND, either express or implied.\n",
        "# See the License for the specific language governing permissions and\n",
        "# limitations under the License."
      ]
    },
    {
      "cell_type": "markdown",
      "metadata": {
        "id": "title"
      },
      "source": [
        "# PaLM API: Embeddings quickstart with Python"
      ]
    },
    {
      "cell_type": "markdown",
      "metadata": {
        "id": "buttons"
      },
      "source": [
        "<table class=\"tfo-notebook-buttons\" align=\"left\">\n",
        "  <td>\n",
        "    <a target=\"_blank\" href=\"https://developers.generativeai.google/tutorials/embeddings_quickstart\"><img src=\"https://developers.generativeai.google/static/site-assets/images/docs/notebook-site-button.png\" height=\"32\" width=\"32\" />View on Generative AI</a>\n",
        "  </td>\n",
        "  <td>\n",
        "    <a target=\"_blank\" href=\"https://colab.research.google.com/github/google/generative-ai-docs/blob/main/site/en/tutorials/embeddings_quickstart.ipynb\"><img src=\"https://www.tensorflow.org/images/colab_logo_32px.png\" />Run in Google Colab</a>\n",
        "  </td>\n",
        "  <td>\n",
        "    <a target=\"_blank\" href=\"https://github.com/google/generative-ai-docs/blob/main/site/en/tutorials/embeddings_quickstart.ipynb\"><img src=\"https://www.tensorflow.org/images/GitHub-Mark-32px.png\" />View source on GitHub</a>\n",
        "  </td>\n",
        "</table>"
      ]
    },
    {
      "cell_type": "markdown",
      "metadata": {
        "id": "BuhjNPTpju5n"
      },
      "source": [
        "In this notebook, you'll learn how to get started with the PaLM API, which gives you access to Google's latest large language models. Here, you'll learn how to use the PaLM API's embedding generation features, and see an example of what you can do with these embeddings.\n"
      ]
    },
    {
      "cell_type": "markdown",
      "metadata": {
        "id": "mlx9KvrMC-Zf"
      },
      "source": [
        "## Setup\n",
        "\n",
        "**Note**: At this time, the PaLM API is only available in the US."
      ]
    },
    {
      "cell_type": "markdown",
      "metadata": {
        "id": "51IWb1EpIGUH"
      },
      "source": [
        "First, download and install the PaLM API Python library."
      ]
    },
    {
      "cell_type": "code",
      "execution_count": null,
      "metadata": {
        "id": "YD6urJjWGVDf",
        "outputId": "a4f1fadd-6b0d-44ea-c8b0-9ba308a1fe1f",
        "colab": {
          "base_uri": "https://localhost:8080/",
          "height": 601
        }
      },
      "outputs": [
        {
          "output_type": "stream",
          "name": "stdout",
          "text": [
            "Looking in indexes: https://pypi.org/simple, https://us-python.pkg.dev/colab-wheels/public/simple/\n",
            "Collecting google-generativeai\n",
            "  Downloading google_generativeai-0.1.0-py3-none-any.whl (122 kB)\n",
            "\u001b[2K     \u001b[90m━━━━━━━━━━━━━━━━━━━━━━━━━━━━━━━━━━━━━━━\u001b[0m \u001b[32m122.9/122.9 kB\u001b[0m \u001b[31m5.3 MB/s\u001b[0m eta \u001b[36m0:00:00\u001b[0m\n",
            "\u001b[?25hCollecting google-ai-generativelanguage==0.2.0 (from google-generativeai)\n",
            "  Downloading google_ai_generativelanguage-0.2.0-py3-none-any.whl (113 kB)\n",
            "\u001b[2K     \u001b[90m━━━━━━━━━━━━━━━━━━━━━━━━━━━━━━━━━━━━━━\u001b[0m \u001b[32m113.3/113.3 kB\u001b[0m \u001b[31m14.1 MB/s\u001b[0m eta \u001b[36m0:00:00\u001b[0m\n",
            "\u001b[?25hRequirement already satisfied: google-api-core[grpc]!=2.0.*,!=2.1.*,!=2.10.*,!=2.2.*,!=2.3.*,!=2.4.*,!=2.5.*,!=2.6.*,!=2.7.*,!=2.8.*,!=2.9.*,<3.0.0dev,>=1.34.0 in /usr/local/lib/python3.10/dist-packages (from google-ai-generativelanguage==0.2.0->google-generativeai) (2.11.0)\n",
            "Requirement already satisfied: proto-plus<2.0.0dev,>=1.22.0 in /usr/local/lib/python3.10/dist-packages (from google-ai-generativelanguage==0.2.0->google-generativeai) (1.22.2)\n",
            "Requirement already satisfied: protobuf!=3.20.0,!=3.20.1,!=4.21.0,!=4.21.1,!=4.21.2,!=4.21.3,!=4.21.4,!=4.21.5,<5.0.0dev,>=3.19.5 in /usr/local/lib/python3.10/dist-packages (from google-ai-generativelanguage==0.2.0->google-generativeai) (3.20.3)\n",
            "Requirement already satisfied: googleapis-common-protos<2.0dev,>=1.56.2 in /usr/local/lib/python3.10/dist-packages (from google-api-core[grpc]!=2.0.*,!=2.1.*,!=2.10.*,!=2.2.*,!=2.3.*,!=2.4.*,!=2.5.*,!=2.6.*,!=2.7.*,!=2.8.*,!=2.9.*,<3.0.0dev,>=1.34.0->google-ai-generativelanguage==0.2.0->google-generativeai) (1.59.0)\n",
            "Requirement already satisfied: google-auth<3.0dev,>=2.14.1 in /usr/local/lib/python3.10/dist-packages (from google-api-core[grpc]!=2.0.*,!=2.1.*,!=2.10.*,!=2.2.*,!=2.3.*,!=2.4.*,!=2.5.*,!=2.6.*,!=2.7.*,!=2.8.*,!=2.9.*,<3.0.0dev,>=1.34.0->google-ai-generativelanguage==0.2.0->google-generativeai) (2.17.3)\n",
            "Requirement already satisfied: requests<3.0.0dev,>=2.18.0 in /usr/local/lib/python3.10/dist-packages (from google-api-core[grpc]!=2.0.*,!=2.1.*,!=2.10.*,!=2.2.*,!=2.3.*,!=2.4.*,!=2.5.*,!=2.6.*,!=2.7.*,!=2.8.*,!=2.9.*,<3.0.0dev,>=1.34.0->google-ai-generativelanguage==0.2.0->google-generativeai) (2.27.1)\n",
            "Requirement already satisfied: grpcio<2.0dev,>=1.33.2 in /usr/local/lib/python3.10/dist-packages (from google-api-core[grpc]!=2.0.*,!=2.1.*,!=2.10.*,!=2.2.*,!=2.3.*,!=2.4.*,!=2.5.*,!=2.6.*,!=2.7.*,!=2.8.*,!=2.9.*,<3.0.0dev,>=1.34.0->google-ai-generativelanguage==0.2.0->google-generativeai) (1.54.0)\n",
            "Requirement already satisfied: grpcio-status<2.0dev,>=1.33.2 in /usr/local/lib/python3.10/dist-packages (from google-api-core[grpc]!=2.0.*,!=2.1.*,!=2.10.*,!=2.2.*,!=2.3.*,!=2.4.*,!=2.5.*,!=2.6.*,!=2.7.*,!=2.8.*,!=2.9.*,<3.0.0dev,>=1.34.0->google-ai-generativelanguage==0.2.0->google-generativeai) (1.48.2)\n",
            "Requirement already satisfied: cachetools<6.0,>=2.0.0 in /usr/local/lib/python3.10/dist-packages (from google-auth<3.0dev,>=2.14.1->google-api-core[grpc]!=2.0.*,!=2.1.*,!=2.10.*,!=2.2.*,!=2.3.*,!=2.4.*,!=2.5.*,!=2.6.*,!=2.7.*,!=2.8.*,!=2.9.*,<3.0.0dev,>=1.34.0->google-ai-generativelanguage==0.2.0->google-generativeai) (5.3.0)\n",
            "Requirement already satisfied: pyasn1-modules>=0.2.1 in /usr/local/lib/python3.10/dist-packages (from google-auth<3.0dev,>=2.14.1->google-api-core[grpc]!=2.0.*,!=2.1.*,!=2.10.*,!=2.2.*,!=2.3.*,!=2.4.*,!=2.5.*,!=2.6.*,!=2.7.*,!=2.8.*,!=2.9.*,<3.0.0dev,>=1.34.0->google-ai-generativelanguage==0.2.0->google-generativeai) (0.3.0)\n",
            "Requirement already satisfied: six>=1.9.0 in /usr/local/lib/python3.10/dist-packages (from google-auth<3.0dev,>=2.14.1->google-api-core[grpc]!=2.0.*,!=2.1.*,!=2.10.*,!=2.2.*,!=2.3.*,!=2.4.*,!=2.5.*,!=2.6.*,!=2.7.*,!=2.8.*,!=2.9.*,<3.0.0dev,>=1.34.0->google-ai-generativelanguage==0.2.0->google-generativeai) (1.16.0)\n",
            "Requirement already satisfied: rsa<5,>=3.1.4 in /usr/local/lib/python3.10/dist-packages (from google-auth<3.0dev,>=2.14.1->google-api-core[grpc]!=2.0.*,!=2.1.*,!=2.10.*,!=2.2.*,!=2.3.*,!=2.4.*,!=2.5.*,!=2.6.*,!=2.7.*,!=2.8.*,!=2.9.*,<3.0.0dev,>=1.34.0->google-ai-generativelanguage==0.2.0->google-generativeai) (4.9)\n",
            "Requirement already satisfied: urllib3<1.27,>=1.21.1 in /usr/local/lib/python3.10/dist-packages (from requests<3.0.0dev,>=2.18.0->google-api-core[grpc]!=2.0.*,!=2.1.*,!=2.10.*,!=2.2.*,!=2.3.*,!=2.4.*,!=2.5.*,!=2.6.*,!=2.7.*,!=2.8.*,!=2.9.*,<3.0.0dev,>=1.34.0->google-ai-generativelanguage==0.2.0->google-generativeai) (1.26.15)\n",
            "Requirement already satisfied: certifi>=2017.4.17 in /usr/local/lib/python3.10/dist-packages (from requests<3.0.0dev,>=2.18.0->google-api-core[grpc]!=2.0.*,!=2.1.*,!=2.10.*,!=2.2.*,!=2.3.*,!=2.4.*,!=2.5.*,!=2.6.*,!=2.7.*,!=2.8.*,!=2.9.*,<3.0.0dev,>=1.34.0->google-ai-generativelanguage==0.2.0->google-generativeai) (2022.12.7)\n",
            "Requirement already satisfied: charset-normalizer~=2.0.0 in /usr/local/lib/python3.10/dist-packages (from requests<3.0.0dev,>=2.18.0->google-api-core[grpc]!=2.0.*,!=2.1.*,!=2.10.*,!=2.2.*,!=2.3.*,!=2.4.*,!=2.5.*,!=2.6.*,!=2.7.*,!=2.8.*,!=2.9.*,<3.0.0dev,>=1.34.0->google-ai-generativelanguage==0.2.0->google-generativeai) (2.0.12)\n",
            "Requirement already satisfied: idna<4,>=2.5 in /usr/local/lib/python3.10/dist-packages (from requests<3.0.0dev,>=2.18.0->google-api-core[grpc]!=2.0.*,!=2.1.*,!=2.10.*,!=2.2.*,!=2.3.*,!=2.4.*,!=2.5.*,!=2.6.*,!=2.7.*,!=2.8.*,!=2.9.*,<3.0.0dev,>=1.34.0->google-ai-generativelanguage==0.2.0->google-generativeai) (3.4)\n",
            "Requirement already satisfied: pyasn1<0.6.0,>=0.4.6 in /usr/local/lib/python3.10/dist-packages (from pyasn1-modules>=0.2.1->google-auth<3.0dev,>=2.14.1->google-api-core[grpc]!=2.0.*,!=2.1.*,!=2.10.*,!=2.2.*,!=2.3.*,!=2.4.*,!=2.5.*,!=2.6.*,!=2.7.*,!=2.8.*,!=2.9.*,<3.0.0dev,>=1.34.0->google-ai-generativelanguage==0.2.0->google-generativeai) (0.5.0)\n",
            "Installing collected packages: google-ai-generativelanguage, google-generativeai\n",
            "Successfully installed google-ai-generativelanguage-0.2.0 google-generativeai-0.1.0\n"
          ]
        },
        {
          "output_type": "display_data",
          "data": {
            "application/vnd.colab-display-data+json": {
              "pip_warning": {
                "packages": [
                  "google"
                ]
              }
            }
          },
          "metadata": {}
        }
      ],
      "source": [
        "!pip install -U google-generativeai"
      ]
    },
    {
      "cell_type": "code",
      "execution_count": null,
      "metadata": {
        "id": "yBapI259C99C"
      },
      "outputs": [],
      "source": [
        "import numpy as np\n",
        "import google.generativeai as palm"
      ]
    },
    {
      "cell_type": "markdown",
      "metadata": {
        "id": "DJriBaWmkL6Z"
      },
      "source": [
        "### Grab an API Key\n",
        "\n",
        "To get started, you'll need to [create an API key](https://developers.generativeai.google/tutorials/setup)."
      ]
    },
    {
      "cell_type": "code",
      "execution_count": null,
      "metadata": {
        "id": "Zey3UiYGDDzU"
      },
      "outputs": [],
      "source": [
        "palm.configure(api_key='enter your api key here')"
      ]
    },
    {
      "cell_type": "markdown",
      "metadata": {
        "id": "cRvMcelC_RGK"
      },
      "source": [
        "## What are embeddings?\n",
        "\n",
        "[Embeddings](https://developers.google.com/machine-learning/glossary#embedding-vector){:.external} are a technique used to represent text (like words, sentences, or entire paragraphs) as a list of floating point numbers in an array. These numbers aren't random. The key idea is that text with similar meanings will have similar embeddings. You can use the relationship between them for many important tasks."
      ]
    },
    {
      "cell_type": "markdown",
      "metadata": {
        "id": "gGpQ8Eg0kNXW"
      },
      "source": [
        "## Embedding generation\n",
        "\n",
        "In this section, you will see how to generate embeddings for a piece of text using PaLM API's `palm.generate_embeddings` function. Here are a list of models that support this function."
      ]
    },
    {
      "cell_type": "code",
      "execution_count": null,
      "metadata": {
        "id": "gfDUjjKXpoEY",
        "outputId": "d280e829-f44a-41fe-87a7-6878e989a9c8",
        "colab": {
          "base_uri": "https://localhost:8080/"
        }
      },
      "outputs": [
        {
          "output_type": "stream",
          "name": "stdout",
          "text": [
            "models/embedding-gecko-001\n"
          ]
        }
      ],
      "source": [
        "for model in palm.list_models():\n",
        "  if 'embedText' in model.supported_generation_methods:\n",
        "    print(model.name)"
      ]
    },
    {
      "cell_type": "markdown",
      "metadata": {
        "id": "IggI005U_a6g"
      },
      "source": [
        "Use the function `palm.generate_embeddings` and pass in the name of the model as well as some text. You will get a list of floating point values. Start with a query \"What do squirrels eat?\" and see how related two different strings are to it."
      ]
    },
    {
      "cell_type": "code",
      "execution_count": null,
      "metadata": {
        "id": "nSkKA1uDAKJp"
      },
      "outputs": [],
      "source": [
        "x = 'What do squirrels eat?'\n",
        "\n",
        "close_to_x = 'nuts and acorns'\n",
        "\n",
        "different_from_x = 'This morning I woke up in San Francisco, and took a walk to the Bay Bridge. It was a good, sunny morning with no fog.'\n",
        "\n",
        "model = \"models/embedding-gecko-001\"\n",
        "\n",
        "# Create an embedding\n",
        "embedding_x = palm.generate_embeddings(model=model, text=x)\n",
        "embedding_close_to_x = palm.generate_embeddings(model=model, text=close_to_x)\n",
        "embedding_different_from_x = palm.generate_embeddings(model=model, text=different_from_x)"
      ]
    },
    {
      "cell_type": "code",
      "execution_count": null,
      "metadata": {
        "id": "i8O0BIO0LXtT",
        "outputId": "f04dafa6-1054-4b70-9e05-2920301e08b2",
        "colab": {
          "base_uri": "https://localhost:8080/"
        }
      },
      "outputs": [
        {
          "output_type": "stream",
          "name": "stdout",
          "text": [
            "{'embedding': [-0.025894871, -0.021033963, 0.0035749928, 0.008222881, 0.03276648, -0.10068223, -0.03770255, 0.01079403, 0.000140624, -0.029412385, 0.019199245, 0.0048481016, 0.070619866, -0.01334989, 0.028378604, -0.018658886, -0.038629908, 0.056883126, 0.063323654, 0.039849922, -0.085393265, -0.016251812, -0.025535947, 0.004948033, 0.04858148, -0.11295682, 0.03386994, 0.015498764, -0.07306242, 0.00085789536, -0.022031784, -0.0052989395, -0.08311722, -0.02709176, 0.042790357, 0.023175262, 0.0112389885, -0.024329238, -0.0044626985, 0.05167071, 0.023430848, 0.02732517, -0.014923886, -0.01877072, -0.0037836903, 0.040971957, -0.04465288, 0.0332203, -0.056597434, -0.055191413, -0.0023204584, -0.043687623, 0.030044463, -0.015966715, -0.04318426, 0.01573578, -0.03835268, -0.0050097313, -0.03289721, 0.016246213, -0.0056963954, -0.0010992853, -0.02768714, -0.035349943, -0.0459705, 0.05784305, -0.026696423, -0.013302217, 0.007055761, -0.058859013, 0.033301126, 0.04399591, 0.02075556, 0.0028288588, 0.0373331, 0.01035954, -0.019429643, 0.033088192, 0.009558322, -0.06524442, -0.07101354, -0.053975347, -0.0039529386, -0.11641812, -0.03948837, -0.003378282, -0.017735159, 0.031987358, 0.014555726, 0.050724596, -0.07849815, -0.007043671, 0.017992217, -0.003975656, -0.003965057, 0.08063971, -0.011685767, -0.018323967, 0.007763522, 0.012011535, 0.028457751, -0.099603206, 0.0328822, 0.0063217347, 0.051288053, 0.060445003, -0.007725887, -0.0033487657, -0.026970377, -0.04471915, 0.014793466, 0.0029390636, -0.043657325, -0.036976494, 0.05571355, -0.03422859, 0.05610819, 0.0016565458, 0.06461147, 0.012197698, -0.029221233, 0.015400642, 0.009992719, -0.012694915, 0.027302667, 0.04309881, 0.013308773, -0.034253325, -0.028620962, 0.0032988628, 0.008901493, 0.005103348, 0.086938314, -0.035939544, -0.00014025549, -0.0021354058, 0.043875773, -0.057092454, 0.004803227, 0.04456835, -0.013373616, 0.018620199, -0.00375252, 0.018113593, -0.0024051773, -0.006519982, 0.0434265, -0.028869089, -0.07003764, -0.02704304, -0.04767437, -0.03656646, -0.029664693, 0.054604772, 0.05645902, 0.016209828, 0.065883346, 0.07294827, -0.07351654, -0.050156996, 0.05211484, -0.023020329, 0.022877777, 0.01355375, -0.019406103, -0.0058154585, 0.0373227, 0.005268551, 0.021647887, -0.019631771, -0.01571936, -0.06862338, 0.021698158, -0.0137818325, 0.069550164, -0.023942512, -0.018029014, -0.018007768, -0.0059923534, -0.027717339, -0.001950715, -0.06961951, 0.054189045, 0.0021985532, -0.011325575, 0.015128107, 0.01542462, -0.038302787, -0.038970694, 0.04426809, 0.015156804, 0.030262467, -0.0010455127, -0.03217523, -0.033575423, -9.529959e-05, 0.06202827, -0.10134924, -0.009874221, 0.051682726, -0.022124728, 0.010147167, -0.0121855475, 0.037313815, -0.0005943806, -0.017981032, -0.070909515, 0.026052335, 0.06992509, 0.026033424, -0.023944099, -0.047794044, 0.020404303, 0.025562085, -0.01985736, -0.027300185, 0.029983347, -0.0821883, -0.018791715, -0.004772285, -0.024901018, -0.010111941, 0.050968856, 0.029660476, 3.4717825e-05, -0.017517656, 0.023977738, 0.022549665, 0.04181301, 0.0075005647, -0.0019229064, 0.023285724, -0.010899092, -0.004949612, -0.012531903, 0.041027624, -0.00462034, -0.013926484, -0.020054536, 0.026111234, -0.062329423, 0.09978252, -0.044156667, 0.061204664, 0.007044644, -0.0027112772, 0.046202265, 0.0061349035, 0.039831944, -0.009853767, 0.01376318, -0.070857346, 0.009606737, -0.008636414, 0.050337076, 0.04528421, -0.003271067, -0.016086243, 0.0083868075, -0.007903437, 0.03508849, 0.0025110866, 0.04684593, 0.12780859, -0.038998652, -0.029157333, -0.029113598, 0.0074333525, 0.055326972, -0.034412585, -0.00013684246, -0.020530462, 0.06506163, 0.0019480567, 0.0030335463, -0.018495142, -0.054084033, 0.023021376, -0.010500293, -0.007759436, -0.020039978, -0.017755097, 0.00067667576, 0.014525479, -0.026014434, 0.0024745855, -0.02717392, 0.0093613025, 0.005808786, 0.00069985044, 0.04791365, -0.043685965, -0.015235593, 0.006959536, 0.009612963, -0.0009247096, 0.03361978, -0.0064969766, -0.047667205, 0.0391879, -0.010284177, -0.006610168, -0.0020641836, -0.054403454, -0.007050973, -0.015853178, -0.03174128, -0.021723853, 0.030216578, -0.0012069813, 0.050265886, 0.045106, -0.024716273, -0.05543306, -0.06419837, -0.014273426, -0.02370334, 0.0017521781, -0.05614919, 0.0069642677, 0.0065768384, 0.03525583, 0.03902322, 0.01640373, 0.02505178, 0.00695039, -0.055799965, 0.013183736, 0.08474834, -0.012680079, 0.0041794735, 0.023558963, -0.07197163, 0.024911461, -0.01876665, 0.025204342, 0.004806642, 0.04904056, 0.016669532, -0.037882168, -0.021643393, 0.0053031733, -0.031009668, -0.016543044, -0.020345991, -0.005761679, -0.0743119, -0.02601627, -0.02327138, -0.07075993, -0.0029876104, 0.0066218534, -0.06109171, 0.032953493, 0.03662513, 0.0102901235, 0.054183125, -0.03828875, 0.03312786, -0.014862631, -0.03720938, 0.018570531, -0.02074224, 0.04802698, 0.0054383283, 0.020241426, -0.04405181, 0.030792724, 0.03395876, -0.023588259, 0.03765852, 0.010072953, 0.0064869327, 0.019048402, -0.069198176, -0.017083941, -0.016801478, 0.0027415913, 0.0081722755, 0.0019755254, -0.057162683, -0.005394635, 0.0014972503, -0.033361986, -0.0033606584, 0.032426648, 0.07254494, 0.022799492, -0.046871357, -0.06308127, 0.029209439, 0.01134149, 0.032790344, -0.02007303, -0.004409368, 0.0829204, -0.031405564, 0.009308279, -0.004211375, -0.05244417, 0.018087396, 0.008575956, -0.0013550716, -0.071860425, 0.02837243, 0.024996126, 0.027749, 0.016944509, -0.014632978, -0.06674174, -0.043031745, -0.04413758, 0.03530514, 0.030504202, 0.060496386, -0.06423887, 0.012235536, -0.05830343, -0.01586873, 0.04186105, 0.027080603, -0.014182993, -0.028095998, 0.0016349262, 0.010679885, 0.048808612, -0.058294244, -0.010633064, -0.056791265, -0.027161643, -0.030019993, -0.010299285, -0.038218226, -0.016588317, -0.0059704306, -0.053497776, 0.056619115, 0.0050102673, -0.020186694, -0.03151958, -0.07490499, 0.045715276, -0.037471525, 0.029025434, 0.015007149, -0.01799195, 0.007956427, -0.028715475, -0.01878828, -0.041037176, 0.012932908, -0.007246393, -0.004651031, 0.0520941, 0.04721456, -0.05604256, 0.0061242874, -0.06112983, -0.028900363, -0.0033062417, -0.016411358, -0.03985707, -0.005927899, 0.027991276, -0.034023546, 0.0023991668, 0.020010024, 0.014298014, 0.017212953, 0.0026526528, -0.08308303, 0.01726592, 0.01384552, 0.0065021426, 0.036473297, 0.020361774, 0.09685079, 0.04039578, 0.016480403, -0.083298355, -0.065900676, 0.0001286082, -0.055775307, 0.0065172254, -0.018937778, -0.021399701, 0.00045600644, -0.009761386, -0.0032396012, 0.004142928, 0.059930302, -0.016564654, 0.018544743, -0.032329146, 0.006037773, -0.06402926, 0.057614833, -0.02093143, 0.018229363, 0.024098344, 0.025045563, -0.00945166, -0.01025951, 0.006660358, -0.029620942, -0.034955457, -0.06783166, -0.031938594, -0.042619534, 0.02787831, 0.023951616, 0.01635402, -0.00153107, -0.057851825, -0.048688278, -0.06779812, -0.09212996, 0.043552887, 0.026341975, 0.04593375, -0.012108332, -0.01738154, 0.012251425, 0.035591044, 0.0502422, 0.056855064, 0.010133644, -0.009532219, -0.05425156, 0.034745548, 0.020292252, 0.033525903, -0.040225316, -0.00015250099, -0.078061, 0.0075722504, 0.015309744, 0.022623317, 0.065368235, 0.06423244, -0.015577341, -0.048137955, -0.013913103, 0.020742543, 0.060864896, -0.05662343, 0.057601452, -1.6566964e-05, 0.010925778, 0.0036125667, 0.032784764, -0.080131896, -0.048450164, 0.06296668, 0.029892884, -0.011754731, -0.00100665, -0.054419737, -0.017106231, -0.042856824, -0.005424765, -0.028312044, -0.0022843073, -0.020289076, -0.007416973, 0.016722953, 0.033435877, -0.049168676, 0.0038286438, 0.043084797, -0.011436931, -0.017679026, -0.012748324, -0.015104219, 0.008225342, -0.005965195, -0.010827807, -0.015990732, 0.03193361, 0.018625757, -0.013171724, 0.007987762, -0.018449493, 0.041906953, -0.020788718, 0.034040056, -0.000860824, -0.0077715567, 0.023855729, -0.0029571042, -0.008528541, -0.0556957, -0.005321177, -0.018151486, -0.011129989, -0.051835105, 0.0053123133, 0.009127996, -0.011530384, 0.00963171, 0.0041047893, -0.035371087, 0.052883077, -0.015326758, 0.030402342, 0.00873103, -0.004413188, 0.019502029, 0.01406499, 0.031413365, 0.01804187, 0.05942752, 0.048374876, -0.01992844, -0.0045596245, 0.02196242, -0.0856755, -0.007796496, 0.03352003, 0.009779216, 0.05753526, 0.010492752, -0.039363433, -0.103733934, -0.024229616, 0.006216248, -0.017748237, 0.0051229517, -0.055344902, -0.010650972, 0.030938895, -0.073542334, -0.014872007, -0.0030819532, 0.016437914, -0.0040901243, 0.0018574656, 0.033318345, 0.0058157477, 0.022556614, 0.076257005, -0.006559388, -0.026774084, -0.01683979, 0.008689687, -0.0151846465, 0.0073800134, -0.01849934, -0.03608093, 0.05340657, 0.01594491, -0.014478417, -0.021485219, -0.018035406, -0.03814742, 0.014293587, -0.021055875, 0.031431403, -0.07782329, 0.015536578, -0.031045694, 0.05943465, -0.020065695, 0.05275458, -0.083800405, 0.06855744, 0.012167182, -0.015827801, 0.043801714, 0.020258594, -0.05816931, -0.044358734, -0.013054302, -0.041333176, -0.02302342, 0.02914075, 0.008123609, 0.03369097, -0.00308921, 0.052916348, -0.048350755, -0.010181856, -0.05420185, -0.033779036, 0.026381416, -0.028346054, -0.02331669, -0.005781758, 0.012981267, -0.005527979, 0.010089176, -0.044895176, -0.024379173, 0.007590703, -0.025511196, -0.06555892, 0.008145539, 0.021736145, -0.033178225, 0.026871514, -0.056374058, -0.03088523, 0.014512168, -0.0080246655, 0.026689189, 0.0041089333, -0.04103957, 0.008003176, -0.0030232216, -0.036158, 0.04256501, -0.00016817736, 0.011733645, 0.025762333, -0.01092103, -0.0010622335, -0.07185124, 0.029530823, 0.009698984, 0.011916082, 0.0022654547, 0.07175238, 0.029233105, -0.020834869, -0.0524427, 0.011248312, 0.005422926, 0.018166015, 0.047227502, -0.013550261, 0.035074297, -0.010435111, 0.047774173, 0.021216918, -0.0026447426, -0.021085298, 0.013272347, -0.013380501, 0.02943836, -0.032338668, 0.0021435444, -0.016289461, -0.013629227, -0.038402162, 0.06655019, 0.009643845, 0.025085986, -0.018909352, -0.011246174, -0.052545544, -0.067764856, -0.029318614, 0.014850464, 0.029691916, -0.040905934, 0.054420393, 0.01552631, 0.029125493, -0.0020693608, 0.038805272, -0.009980784, 0.031122748, -0.055620622, 0.021108225, 0.01032038, 0.044171233, 0.009732269, -0.0011330073]}\n"
          ]
        }
      ],
      "source": [
        "print(embedding_x)"
      ]
    },
    {
      "cell_type": "markdown",
      "metadata": {
        "id": "oy2NQAz3AOKp"
      },
      "source": [
        "Now that you have created the embeddings, let's use the dot product to see how related `close_to_x` and `different_from_x` are to `x`. The dot product returns a value between -1 and 1, and represents how closely two vectors align in terms of what direction they point in. The closer the value is to 0, the less similar to objects (in this case, two strings) are. The closer the value is to 1, the more similar they are."
      ]
    },
    {
      "cell_type": "code",
      "execution_count": null,
      "metadata": {
        "id": "I8QVjatBAa9H",
        "outputId": "93994ec5-b2f0-4444-e51e-9da3c7d0ee5d",
        "colab": {
          "base_uri": "https://localhost:8080/"
        }
      },
      "outputs": [
        {
          "output_type": "stream",
          "name": "stdout",
          "text": [
            "0.7314062496236\n"
          ]
        }
      ],
      "source": [
        "similar_measure = np.dot(embedding_x['embedding'], embedding_close_to_x['embedding'])\n",
        "\n",
        "print(similar_measure)"
      ]
    },
    {
      "cell_type": "code",
      "execution_count": null,
      "metadata": {
        "id": "oN92Tx9MAezC",
        "outputId": "ea465213-6535-4cc2-bc45-0f26dd4af084",
        "colab": {
          "base_uri": "https://localhost:8080/"
        }
      },
      "outputs": [
        {
          "output_type": "stream",
          "name": "stdout",
          "text": [
            "0.4356069925292835\n"
          ]
        }
      ],
      "source": [
        "different_measure = np.dot(embedding_x['embedding'], embedding_different_from_x['embedding'])\n",
        "\n",
        "print(different_measure)"
      ]
    },
    {
      "cell_type": "markdown",
      "metadata": {
        "id": "aJSu3gJgAkcw"
      },
      "source": [
        "As shown here, the higher dot product value between the embeddings of `x` and `close_to_x` demonstrates more relatedness than the embeddings of `x` and `different_from_x`."
      ]
    },
    {
      "cell_type": "markdown",
      "metadata": {
        "id": "5coQeDIlnMXW"
      },
      "source": [
        "## What can you do with embeddings?\n",
        "\n",
        "You've generated your first set of embeddings with the PaLM API! But what can you do with this list of floating point values? Embeddings can be used for a wide variety of natural language processing (NLP) tasks, including:\n",
        "\n",
        "* Search (documents, web, etc.)\n",
        "* Recommendation systems\n",
        "* Clustering\n",
        "* Sentiment analysis/text classification\n",
        "\n",
        "You can find examples [here](https://developers.generativeai.google/examples/doc_search_emb)."
      ]
    }
  ],
  "metadata": {
    "colab": {
      "toc_visible": true,
      "provenance": []
    },
    "kernelspec": {
      "display_name": "Python 3",
      "name": "python3"
    }
  },
  "nbformat": 4,
  "nbformat_minor": 0
}