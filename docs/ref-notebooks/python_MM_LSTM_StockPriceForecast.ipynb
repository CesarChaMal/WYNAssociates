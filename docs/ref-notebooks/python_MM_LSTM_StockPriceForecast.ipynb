{
 "cells": [
  {
   "cell_type": "markdown",
   "metadata": {},
   "source": [
    "# Money Management: Stock Price Forecasting Using Long Short Term Memory (LSTM)\n",
    "\n",
    "LSTM is an tweak version of Recurrent Neural Network which forgets or remembers certain information over a long period of time. In this notebook, I will use LSTM to forecast Google stock price.\n",
    "\n",
    "Stock price today is probably dependent on:\n",
    "- The trend it has been folloing from the previous day.\n",
    "- The price it was traded at from previous day.\n",
    "- Some other factors that may affect stock price today.\n",
    "\n",
    "Generalize intuition from above to the following:\n",
    "- The previous cell state (i.e. the information that was present in the memory after the previous time step).\n",
    "- The previous hidden state (i.e. this is the same as the output of the previous cell).\n",
    "- The input at the current time step (i.e. the new information that is being fed in at that moment).\n",
    "\n",
    "In this notebook, we cover\n",
    "- Part 1 - Data Preprocessing\n",
    "- Part 2 - Construct RNN Architecture\n",
    "- Part 3 - Predictions and Performance Visualization\n",
    "\n",
    "Source: see [Chapter 11](https://github.com/PacktPublishing/Hands-on-Python-for-Finance/tree/master/Chapter%2011) of **Hands on Python for Finance**"
   ]
  },
  {
   "cell_type": "markdown",
   "metadata": {},
   "source": [
    "## Recurrent Neural Network (a sequential model)\n",
    "\n",
    "Given data $X$ and $Y$, we want to feed information forward into a time stamp. Then we form some belief and we make some initial predictions. We investigate our beliefs by looking at the loss function of the initial guesses and the real value. We update our model according to error we observed. \n",
    "\n",
    "## Architecture: Feed-forward\n",
    "\n",
    "Consider data with time stamp\n",
    "$$X_{\\langle 1 \\rangle} \\rightarrow X_{\\langle 2 \\rangle} \\rightarrow \\dots \\rightarrow X_{\\langle T \\rangle}$$\n",
    "and feed-forward architecture pass information through exactly as the following:\n",
    "$$\n",
    "\\text{Information in:} \\rightarrow\n",
    "\\begin{matrix}\n",
    "Y_{\\langle 1 \\rangle}, \\hat{Y}_{\\langle 1 \\rangle} & Y_{\\langle 2 \\rangle}, \\hat{Y}_{\\langle 2 \\rangle} &       & Y_{\\langle T \\rangle}, \\hat{Y}_{\\langle T \\rangle} \\\\\n",
    "\\uparrow               & \\uparrow               &       & \\uparrow \\\\\n",
    "X_{\\langle 1 \\rangle} \\rightarrow    & X_{\\langle 2 \\rangle} \\rightarrow    & \\dots \\rightarrow & X_{\\langle T \\rangle} \\\\\n",
    "\\uparrow               & \\uparrow               &       & \\uparrow \\\\\n",
    "w_{\\langle 1 \\rangle}, b_{0, \\langle 1 \\rangle}    & w_{\\langle 2 \\rangle}, b_{0, \\langle 2 \\rangle}    &       & w_{\\langle T \\rangle}, b_{0, \\langle T \\rangle} \\\\\n",
    "\\end{matrix}\n",
    "\\rightarrow\n",
    "\\text{Form beliefs about } Y_{\\angle T \\rangle}\n",
    "$$\n",
    "while the educated guesses $\\hat{Y}_{\\langle T \\rangle}$ are our beliefs about real $Y$ at time stamp $T$. \n",
    "\n",
    "## Architecture: Feed-backward\n",
    "\n",
    "Let us clearly define our loss function to make sure we have a proper grip of our mistakes. \n",
    "$$\\mathcal{L} = \\sum_t L(\\hat{y}_{\\langle t \\rangle} - y_t)^2$$\n",
    "and we can compute the gradient \n",
    "$$\\triangledown = \\frac{\\partial \\mathcal{L}}{\\partial a}$$\n",
    "and then with respect with parameters $w$ and $b$\n",
    "$$\\frac{\\partial \\triangledown}{\\partial w}, \\frac{\\partial \\triangledown}{\\partial a}$$\n",
    "and now with perspective of where we make our mistakes according to our parameters we can go backward\n",
    "$$\n",
    "\\text{Information in:} \\leftarrow\n",
    "\\underbrace{\n",
    "\\begin{matrix}\n",
    "Y_{\\langle 1 \\rangle}, \\hat{Y}_{\\langle 1 \\rangle} & Y_{\\langle 2 \\rangle}, \\hat{Y}_{\\langle 2 \\rangle} &       & Y_{\\langle T \\rangle}, \\hat{Y}_{\\langle T \\rangle} \\\\\n",
    "\\uparrow               & \\uparrow               &       & \\uparrow \\\\\n",
    "X_{\\langle 1 \\rangle} \\leftarrow    & X_{\\langle 2 \\rangle} \\leftarrow    & \\dots \\leftarrow & X_{\\langle T \\rangle} \\\\\n",
    "\\uparrow               & \\uparrow               &       & \\uparrow \\\\\n",
    "w'_{\\langle 1 \\rangle}, b'_{0, \\langle 1 \\rangle}    & w'_{\\langle 2 \\rangle}, b'_{0, \\langle 2 \\rangle}    &       & w'_{\\langle T \\rangle}, b'_{0, \\langle T \\rangle} \\\\\n",
    "\\end{matrix}}_{\\text{Update: } w, b \\text{ with } w', b'}\n",
    "\\leftarrow\n",
    "\\text{Total Loss: } \\mathcal{L} (\\hat{y}, y)\n",
    "$$\n",
    "and the *update* action in the above architecture is dependent on your optimizer specified in the algorithm."
   ]
  },
  {
   "cell_type": "markdown",
   "metadata": {},
   "source": [
    "### Part 1 - Data Preprocessing"
   ]
  },
  {
   "cell_type": "code",
   "execution_count": 1,
   "metadata": {},
   "outputs": [],
   "source": [
    "# Part 1 - Data Preprocessing\n",
    "\n",
    "# Importing the libraries\n",
    "import numpy as np\n",
    "import matplotlib.pyplot as plt\n",
    "import pandas as pd"
   ]
  },
  {
   "cell_type": "code",
   "execution_count": 2,
   "metadata": {},
   "outputs": [],
   "source": [
    "# Import Data\n",
    "#!pip install yfinance\n",
    "import yfinance as yf"
   ]
  },
  {
   "cell_type": "code",
   "execution_count": 3,
   "metadata": {},
   "outputs": [
    {
     "name": "stdout",
     "output_type": "stream",
     "text": [
      "[*********************100%***********************]  1 of 1 completed\n"
     ]
    }
   ],
   "source": [
    "ticker = \"AAPL\"\n",
    "dataset_train = yf.download(ticker)"
   ]
  },
  {
   "cell_type": "code",
   "execution_count": 4,
   "metadata": {},
   "outputs": [
    {
     "data": {
      "text/html": [
       "<div>\n",
       "<style scoped>\n",
       "    .dataframe tbody tr th:only-of-type {\n",
       "        vertical-align: middle;\n",
       "    }\n",
       "\n",
       "    .dataframe tbody tr th {\n",
       "        vertical-align: top;\n",
       "    }\n",
       "\n",
       "    .dataframe thead th {\n",
       "        text-align: right;\n",
       "    }\n",
       "</style>\n",
       "<table border=\"1\" class=\"dataframe\">\n",
       "  <thead>\n",
       "    <tr style=\"text-align: right;\">\n",
       "      <th></th>\n",
       "      <th>Open</th>\n",
       "      <th>High</th>\n",
       "      <th>Low</th>\n",
       "      <th>Close</th>\n",
       "      <th>Adj Close</th>\n",
       "      <th>Volume</th>\n",
       "    </tr>\n",
       "    <tr>\n",
       "      <th>Date</th>\n",
       "      <th></th>\n",
       "      <th></th>\n",
       "      <th></th>\n",
       "      <th></th>\n",
       "      <th></th>\n",
       "      <th></th>\n",
       "    </tr>\n",
       "  </thead>\n",
       "  <tbody>\n",
       "    <tr>\n",
       "      <th>2021-07-19</th>\n",
       "      <td>143.750000</td>\n",
       "      <td>144.070007</td>\n",
       "      <td>141.669998</td>\n",
       "      <td>142.449997</td>\n",
       "      <td>142.449997</td>\n",
       "      <td>121434600</td>\n",
       "    </tr>\n",
       "    <tr>\n",
       "      <th>2021-07-20</th>\n",
       "      <td>143.460007</td>\n",
       "      <td>147.100006</td>\n",
       "      <td>142.960007</td>\n",
       "      <td>146.149994</td>\n",
       "      <td>146.149994</td>\n",
       "      <td>96238600</td>\n",
       "    </tr>\n",
       "    <tr>\n",
       "      <th>2021-07-21</th>\n",
       "      <td>145.529999</td>\n",
       "      <td>146.130005</td>\n",
       "      <td>144.630005</td>\n",
       "      <td>145.399994</td>\n",
       "      <td>145.399994</td>\n",
       "      <td>74915000</td>\n",
       "    </tr>\n",
       "    <tr>\n",
       "      <th>2021-07-22</th>\n",
       "      <td>145.940002</td>\n",
       "      <td>148.199997</td>\n",
       "      <td>145.809998</td>\n",
       "      <td>146.800003</td>\n",
       "      <td>146.800003</td>\n",
       "      <td>77338200</td>\n",
       "    </tr>\n",
       "    <tr>\n",
       "      <th>2021-07-23</th>\n",
       "      <td>147.550003</td>\n",
       "      <td>148.720001</td>\n",
       "      <td>146.919998</td>\n",
       "      <td>148.559998</td>\n",
       "      <td>148.559998</td>\n",
       "      <td>71361600</td>\n",
       "    </tr>\n",
       "  </tbody>\n",
       "</table>\n",
       "</div>"
      ],
      "text/plain": [
       "                  Open        High         Low       Close   Adj Close  \\\n",
       "Date                                                                     \n",
       "2021-07-19  143.750000  144.070007  141.669998  142.449997  142.449997   \n",
       "2021-07-20  143.460007  147.100006  142.960007  146.149994  146.149994   \n",
       "2021-07-21  145.529999  146.130005  144.630005  145.399994  145.399994   \n",
       "2021-07-22  145.940002  148.199997  145.809998  146.800003  146.800003   \n",
       "2021-07-23  147.550003  148.720001  146.919998  148.559998  148.559998   \n",
       "\n",
       "               Volume  \n",
       "Date                   \n",
       "2021-07-19  121434600  \n",
       "2021-07-20   96238600  \n",
       "2021-07-21   74915000  \n",
       "2021-07-22   77338200  \n",
       "2021-07-23   71361600  "
      ]
     },
     "execution_count": 4,
     "metadata": {},
     "output_type": "execute_result"
    }
   ],
   "source": [
    "dataset_train.tail()"
   ]
  },
  {
   "cell_type": "code",
   "execution_count": 5,
   "metadata": {},
   "outputs": [
    {
     "name": "stdout",
     "output_type": "stream",
     "text": [
      "                Open      High       Low     Close  Adj Close     Volume\n",
      "Date                                                                    \n",
      "1980-12-12  0.128348  0.128906  0.128348  0.128348   0.100751  469033600\n",
      "1980-12-15  0.122210  0.122210  0.121652  0.121652   0.095495  175884800\n",
      "1980-12-16  0.113281  0.113281  0.112723  0.112723   0.088485  105728000\n",
      "1980-12-17  0.115513  0.116071  0.115513  0.115513   0.090676   86441600\n",
      "1980-12-18  0.118862  0.119420  0.118862  0.118862   0.093304   73449600\n",
      "                  Open        High         Low       Close   Adj Close  \\\n",
      "Date                                                                     \n",
      "2021-07-19  143.750000  144.070007  141.669998  142.449997  142.449997   \n",
      "2021-07-20  143.460007  147.100006  142.960007  146.149994  146.149994   \n",
      "2021-07-21  145.529999  146.130005  144.630005  145.399994  145.399994   \n",
      "2021-07-22  145.940002  148.199997  145.809998  146.800003  146.800003   \n",
      "2021-07-23  147.550003  148.720001  146.919998  148.559998  148.559998   \n",
      "\n",
      "               Volume  \n",
      "Date                   \n",
      "2021-07-19  121434600  \n",
      "2021-07-20   96238600  \n",
      "2021-07-21   74915000  \n",
      "2021-07-22   77338200  \n",
      "2021-07-23   71361600  \n"
     ]
    }
   ],
   "source": [
    "# Preview\n",
    "print(dataset_train.head())\n",
    "print(dataset_train.tail())"
   ]
  },
  {
   "cell_type": "code",
   "execution_count": 6,
   "metadata": {},
   "outputs": [
    {
     "name": "stdout",
     "output_type": "stream",
     "text": [
      "[[1.28905997e-01]\n",
      " [1.22210003e-01]\n",
      " [1.13280997e-01]\n",
      " ...\n",
      " [1.46130005e+02]\n",
      " [1.48199997e+02]\n",
      " [1.48720001e+02]]\n"
     ]
    }
   ],
   "source": [
    "# Select Open Column\n",
    "training_set = dataset_train.iloc[:, 1:2].values\n",
    "print(training_set)"
   ]
  },
  {
   "cell_type": "code",
   "execution_count": 7,
   "metadata": {},
   "outputs": [],
   "source": [
    "# Feature Scaling\n",
    "from sklearn.preprocessing import MinMaxScaler"
   ]
  },
  {
   "cell_type": "code",
   "execution_count": 8,
   "metadata": {},
   "outputs": [],
   "source": [
    "sc = MinMaxScaler(feature_range = (0, 1))\n",
    "training_set_scaled = sc.fit_transform(training_set)"
   ]
  },
  {
   "cell_type": "code",
   "execution_count": 9,
   "metadata": {},
   "outputs": [
    {
     "data": {
      "text/plain": [
       "array([[5.28448278e-04],\n",
       "       [4.83793538e-04],\n",
       "       [4.24247111e-04],\n",
       "       ...,\n",
       "       [9.74191487e-01],\n",
       "       [9.87996005e-01],\n",
       "       [9.91463848e-01]])"
      ]
     },
     "execution_count": 9,
     "metadata": {},
     "output_type": "execute_result"
    }
   ],
   "source": [
    "training_set_scaled"
   ]
  },
  {
   "cell_type": "code",
   "execution_count": 10,
   "metadata": {},
   "outputs": [],
   "source": [
    "X_train = []\n",
    "y_train = []"
   ]
  },
  {
   "cell_type": "code",
   "execution_count": 11,
   "metadata": {},
   "outputs": [],
   "source": [
    "# Creating a data structure with 100 timesteps and 1 output. 1258 is the total number of records in the Open column\n",
    "for i in range(100, 1258):\n",
    "    X_train.append(training_set_scaled[i-100:i, 0])\n",
    "    y_train.append(training_set_scaled[i, 0])\n",
    "X_train, y_train = np.array(X_train), np.array(y_train)"
   ]
  },
  {
   "cell_type": "code",
   "execution_count": 12,
   "metadata": {},
   "outputs": [
    {
     "data": {
      "text/plain": [
       "(1158, 100)"
      ]
     },
     "execution_count": 12,
     "metadata": {},
     "output_type": "execute_result"
    }
   ],
   "source": [
    "X_train.shape"
   ]
  },
  {
   "cell_type": "code",
   "execution_count": 13,
   "metadata": {},
   "outputs": [
    {
     "data": {
      "text/plain": [
       "(1158,)"
      ]
     },
     "execution_count": 13,
     "metadata": {},
     "output_type": "execute_result"
    }
   ],
   "source": [
    "y_train.shape"
   ]
  },
  {
   "cell_type": "code",
   "execution_count": 14,
   "metadata": {},
   "outputs": [
    {
     "data": {
      "text/plain": [
       "(1158, 100, 1)"
      ]
     },
     "execution_count": 14,
     "metadata": {},
     "output_type": "execute_result"
    }
   ],
   "source": [
    "X_train = np.reshape(X_train, (X_train.shape[0], X_train.shape[1], 1))\n",
    "X_train.shape"
   ]
  },
  {
   "cell_type": "markdown",
   "metadata": {},
   "source": [
    "### Part 2 - Building RNN"
   ]
  },
  {
   "cell_type": "code",
   "execution_count": 15,
   "metadata": {},
   "outputs": [],
   "source": [
    "# Importing the Keras libraries and packages\n",
    "from keras.models import Sequential\n",
    "from keras.layers import Dense\n",
    "from keras.layers import LSTM\n",
    "from keras.layers import Dropout"
   ]
  },
  {
   "cell_type": "code",
   "execution_count": 16,
   "metadata": {},
   "outputs": [],
   "source": [
    "# Initialize RNN\n",
    "regressor = Sequential()"
   ]
  },
  {
   "cell_type": "code",
   "execution_count": 17,
   "metadata": {},
   "outputs": [],
   "source": [
    "# Adding the first LSTM layer and some Dropout regularisation\n",
    "regressor.add(LSTM(units = 50, return_sequences = True, input_shape = (X_train.shape[1], 1)))\n",
    "regressor.add(Dropout(0.2))"
   ]
  },
  {
   "cell_type": "code",
   "execution_count": 18,
   "metadata": {},
   "outputs": [],
   "source": [
    "# Adding a second LSTM layer and some Dropout regularisation\n",
    "regressor.add(LSTM(units = 50, return_sequences = True))\n",
    "regressor.add(Dropout(0.2))"
   ]
  },
  {
   "cell_type": "code",
   "execution_count": 19,
   "metadata": {},
   "outputs": [],
   "source": [
    "# Adding a third LSTM layer and some Dropout regularisation\n",
    "regressor.add(LSTM(units = 50, return_sequences = True))\n",
    "regressor.add(Dropout(0.2))"
   ]
  },
  {
   "cell_type": "code",
   "execution_count": 20,
   "metadata": {},
   "outputs": [],
   "source": [
    "# Adding a fourth LSTM layer and some Dropout regularisation\n",
    "regressor.add(LSTM(units = 50))\n",
    "regressor.add(Dropout(0.2))"
   ]
  },
  {
   "cell_type": "code",
   "execution_count": 21,
   "metadata": {},
   "outputs": [],
   "source": [
    "# Adding the output layer\n",
    "regressor.add(Dense(units = 1))"
   ]
  },
  {
   "cell_type": "code",
   "execution_count": 22,
   "metadata": {},
   "outputs": [
    {
     "name": "stdout",
     "output_type": "stream",
     "text": [
      "Model: \"sequential\"\n",
      "_________________________________________________________________\n",
      "Layer (type)                 Output Shape              Param #   \n",
      "=================================================================\n",
      "lstm (LSTM)                  (None, 100, 50)           10400     \n",
      "_________________________________________________________________\n",
      "dropout (Dropout)            (None, 100, 50)           0         \n",
      "_________________________________________________________________\n",
      "lstm_1 (LSTM)                (None, 100, 50)           20200     \n",
      "_________________________________________________________________\n",
      "dropout_1 (Dropout)          (None, 100, 50)           0         \n",
      "_________________________________________________________________\n",
      "lstm_2 (LSTM)                (None, 100, 50)           20200     \n",
      "_________________________________________________________________\n",
      "dropout_2 (Dropout)          (None, 100, 50)           0         \n",
      "_________________________________________________________________\n",
      "lstm_3 (LSTM)                (None, 50)                20200     \n",
      "_________________________________________________________________\n",
      "dropout_3 (Dropout)          (None, 50)                0         \n",
      "_________________________________________________________________\n",
      "dense (Dense)                (None, 1)                 51        \n",
      "=================================================================\n",
      "Total params: 71,051\n",
      "Trainable params: 71,051\n",
      "Non-trainable params: 0\n",
      "_________________________________________________________________\n"
     ]
    }
   ],
   "source": [
    "regressor.summary()"
   ]
  },
  {
   "cell_type": "code",
   "execution_count": 23,
   "metadata": {},
   "outputs": [],
   "source": [
    "# Compiling the RNN\n",
    "regressor.compile(optimizer = 'adam', loss = 'mean_squared_error')"
   ]
  },
  {
   "cell_type": "code",
   "execution_count": 24,
   "metadata": {},
   "outputs": [
    {
     "name": "stdout",
     "output_type": "stream",
     "text": [
      "Epoch 1/20\n",
      "19/19 [==============================] - 2s 84ms/step - loss: 8.8448e-05\n",
      "Epoch 2/20\n",
      "19/19 [==============================] - 2s 80ms/step - loss: 4.6150e-06\n",
      "Epoch 3/20\n",
      "19/19 [==============================] - 1s 78ms/step - loss: 9.7256e-07: 0s - \n",
      "Epoch 4/20\n",
      "19/19 [==============================] - 1s 79ms/step - loss: 2.7579e-07\n",
      "Epoch 5/20\n",
      "19/19 [==============================] - 2s 79ms/step - loss: 1.3181e-07\n",
      "Epoch 6/20\n",
      "19/19 [==============================] - 2s 81ms/step - loss: 1.0795e-07\n",
      "Epoch 7/20\n",
      "19/19 [==============================] - 2s 80ms/step - loss: 1.0045e-07\n",
      "Epoch 8/20\n",
      "19/19 [==============================] - 2s 80ms/step - loss: 1.0203e-07\n",
      "Epoch 9/20\n",
      "19/19 [==============================] - 2s 80ms/step - loss: 9.7578e-08\n",
      "Epoch 10/20\n",
      "19/19 [==============================] - 2s 80ms/step - loss: 1.0536e-07\n",
      "Epoch 11/20\n",
      "19/19 [==============================] - 2s 80ms/step - loss: 1.0512e-07\n",
      "Epoch 12/20\n",
      "19/19 [==============================] - 2s 80ms/step - loss: 1.0910e-07\n",
      "Epoch 13/20\n",
      "19/19 [==============================] - 2s 79ms/step - loss: 1.0883e-07\n",
      "Epoch 14/20\n",
      "19/19 [==============================] - 2s 80ms/step - loss: 9.8330e-08\n",
      "Epoch 15/20\n",
      "19/19 [==============================] - 2s 80ms/step - loss: 9.9448e-08\n",
      "Epoch 16/20\n",
      "19/19 [==============================] - 2s 81ms/step - loss: 1.0404e-07\n",
      "Epoch 17/20\n",
      "19/19 [==============================] - 2s 80ms/step - loss: 9.9763e-08\n",
      "Epoch 18/20\n",
      "19/19 [==============================] - 2s 79ms/step - loss: 9.9254e-08\n",
      "Epoch 19/20\n",
      "19/19 [==============================] - 2s 79ms/step - loss: 9.7141e-08\n",
      "Epoch 20/20\n",
      "19/19 [==============================] - 2s 81ms/step - loss: 1.0639e-07\n"
     ]
    },
    {
     "data": {
      "text/plain": [
       "<tensorflow.python.keras.callbacks.History at 0x212752ee2b0>"
      ]
     },
     "execution_count": 24,
     "metadata": {},
     "output_type": "execute_result"
    }
   ],
   "source": [
    "# Fitting the RNN to the Training set\n",
    "regressor.fit(X_train, y_train, epochs = 20, batch_size = 64)\n",
    "# Comment:\n",
    "# Originally, the batch_size was set 32 in the ipynb provided by the authors.\n",
    "# I changed it to 64. This is because I believe for Google a sequence of 32 is not enough.\n",
    "# My intuition is confirmed. If you use 32, you will observe a larger test error."
   ]
  },
  {
   "cell_type": "markdown",
   "metadata": {},
   "source": [
    "### Part 3 - Making the predictions and visualising the results"
   ]
  },
  {
   "cell_type": "code",
   "execution_count": 25,
   "metadata": {},
   "outputs": [
    {
     "data": {
      "text/plain": [
       "Date\n",
       "2020-08-11    112.482498\n",
       "2020-08-12    113.275002\n",
       "2020-08-13    116.042503\n",
       "2020-08-14    115.000000\n",
       "2020-08-17    116.087502\n",
       "                 ...    \n",
       "2021-07-19    144.070007\n",
       "2021-07-20    147.100006\n",
       "2021-07-21    146.130005\n",
       "2021-07-22    148.199997\n",
       "2021-07-23    148.720001\n",
       "Name: High, Length: 240, dtype: float64"
      ]
     },
     "execution_count": 25,
     "metadata": {},
     "output_type": "execute_result"
    }
   ],
   "source": [
    "dataset_train.iloc[10000::,1]"
   ]
  },
  {
   "cell_type": "code",
   "execution_count": 26,
   "metadata": {},
   "outputs": [],
   "source": [
    "# Part 3 - Making the predictions and visualising the results\n",
    "\n",
    "# Getting the real stock price of later years\n",
    "dataset_test = dataset_train.iloc[10000::,:]"
   ]
  },
  {
   "cell_type": "code",
   "execution_count": 27,
   "metadata": {},
   "outputs": [
    {
     "data": {
      "text/html": [
       "<div>\n",
       "<style scoped>\n",
       "    .dataframe tbody tr th:only-of-type {\n",
       "        vertical-align: middle;\n",
       "    }\n",
       "\n",
       "    .dataframe tbody tr th {\n",
       "        vertical-align: top;\n",
       "    }\n",
       "\n",
       "    .dataframe thead th {\n",
       "        text-align: right;\n",
       "    }\n",
       "</style>\n",
       "<table border=\"1\" class=\"dataframe\">\n",
       "  <thead>\n",
       "    <tr style=\"text-align: right;\">\n",
       "      <th></th>\n",
       "      <th>Open</th>\n",
       "      <th>High</th>\n",
       "      <th>Low</th>\n",
       "      <th>Close</th>\n",
       "      <th>Adj Close</th>\n",
       "      <th>Volume</th>\n",
       "    </tr>\n",
       "    <tr>\n",
       "      <th>Date</th>\n",
       "      <th></th>\n",
       "      <th></th>\n",
       "      <th></th>\n",
       "      <th></th>\n",
       "      <th></th>\n",
       "      <th></th>\n",
       "    </tr>\n",
       "  </thead>\n",
       "  <tbody>\n",
       "    <tr>\n",
       "      <th>2021-07-19</th>\n",
       "      <td>143.750000</td>\n",
       "      <td>144.070007</td>\n",
       "      <td>141.669998</td>\n",
       "      <td>142.449997</td>\n",
       "      <td>142.449997</td>\n",
       "      <td>121434600</td>\n",
       "    </tr>\n",
       "    <tr>\n",
       "      <th>2021-07-20</th>\n",
       "      <td>143.460007</td>\n",
       "      <td>147.100006</td>\n",
       "      <td>142.960007</td>\n",
       "      <td>146.149994</td>\n",
       "      <td>146.149994</td>\n",
       "      <td>96238600</td>\n",
       "    </tr>\n",
       "    <tr>\n",
       "      <th>2021-07-21</th>\n",
       "      <td>145.529999</td>\n",
       "      <td>146.130005</td>\n",
       "      <td>144.630005</td>\n",
       "      <td>145.399994</td>\n",
       "      <td>145.399994</td>\n",
       "      <td>74915000</td>\n",
       "    </tr>\n",
       "    <tr>\n",
       "      <th>2021-07-22</th>\n",
       "      <td>145.940002</td>\n",
       "      <td>148.199997</td>\n",
       "      <td>145.809998</td>\n",
       "      <td>146.800003</td>\n",
       "      <td>146.800003</td>\n",
       "      <td>77338200</td>\n",
       "    </tr>\n",
       "    <tr>\n",
       "      <th>2021-07-23</th>\n",
       "      <td>147.550003</td>\n",
       "      <td>148.720001</td>\n",
       "      <td>146.919998</td>\n",
       "      <td>148.559998</td>\n",
       "      <td>148.559998</td>\n",
       "      <td>71361600</td>\n",
       "    </tr>\n",
       "  </tbody>\n",
       "</table>\n",
       "</div>"
      ],
      "text/plain": [
       "                  Open        High         Low       Close   Adj Close  \\\n",
       "Date                                                                     \n",
       "2021-07-19  143.750000  144.070007  141.669998  142.449997  142.449997   \n",
       "2021-07-20  143.460007  147.100006  142.960007  146.149994  146.149994   \n",
       "2021-07-21  145.529999  146.130005  144.630005  145.399994  145.399994   \n",
       "2021-07-22  145.940002  148.199997  145.809998  146.800003  146.800003   \n",
       "2021-07-23  147.550003  148.720001  146.919998  148.559998  148.559998   \n",
       "\n",
       "               Volume  \n",
       "Date                   \n",
       "2021-07-19  121434600  \n",
       "2021-07-20   96238600  \n",
       "2021-07-21   74915000  \n",
       "2021-07-22   77338200  \n",
       "2021-07-23   71361600  "
      ]
     },
     "execution_count": 27,
     "metadata": {},
     "output_type": "execute_result"
    }
   ],
   "source": [
    "dataset_test.tail()"
   ]
  },
  {
   "cell_type": "code",
   "execution_count": 28,
   "metadata": {},
   "outputs": [
    {
     "data": {
      "text/plain": [
       "(340, 1)"
      ]
     },
     "execution_count": 28,
     "metadata": {},
     "output_type": "execute_result"
    }
   ],
   "source": [
    "real_stock_price = dataset_test.iloc[:, 1:2].values\n",
    "\n",
    "# Getting the predicted stock price of 2017\n",
    "dataset_total = pd.concat((dataset_train['Open'], dataset_test['Open']), axis = 0)\n",
    "inputs = dataset_total[len(dataset_total) - len(dataset_test) - 100:].values\n",
    "inputs = inputs.reshape(-1,1)\n",
    "inputs = sc.transform(inputs)\n",
    "X_test = []\n",
    "inputs.shape"
   ]
  },
  {
   "cell_type": "code",
   "execution_count": 35,
   "metadata": {},
   "outputs": [],
   "source": [
    "for i in range(100, 330):\n",
    "    X_test.append(inputs[i-100:i, 0])\n",
    "X_test = np.array(X_test)\n",
    "X_test = np.reshape(X_test, (X_test.shape[0], X_test.shape[1], 1))"
   ]
  },
  {
   "cell_type": "code",
   "execution_count": 36,
   "metadata": {},
   "outputs": [],
   "source": [
    "predicted_stock_price = regressor.predict(X_test)\n",
    "predicted_stock_price = sc.inverse_transform(predicted_stock_price)"
   ]
  },
  {
   "cell_type": "code",
   "execution_count": 37,
   "metadata": {},
   "outputs": [
    {
     "name": "stdout",
     "output_type": "stream",
     "text": [
      "(1158, 100, 1)\n",
      "(230, 100, 1)\n"
     ]
    }
   ],
   "source": [
    "print(X_train.shape)\n",
    "print(X_test.shape)"
   ]
  },
  {
   "cell_type": "code",
   "execution_count": 38,
   "metadata": {},
   "outputs": [
    {
     "data": {
      "text/plain": [
       "array([[2.8487065],\n",
       "       [2.8544865],\n",
       "       [2.8518581],\n",
       "       [2.8402271],\n",
       "       [2.8202689],\n",
       "       [2.7935069]], dtype=float32)"
      ]
     },
     "execution_count": 38,
     "metadata": {},
     "output_type": "execute_result"
    }
   ],
   "source": [
    "predicted_stock_price[:6]"
   ]
  },
  {
   "cell_type": "code",
   "execution_count": 39,
   "metadata": {},
   "outputs": [],
   "source": [
    "predicted_stock_price = abs(predicted_stock_price) * 190"
   ]
  },
  {
   "cell_type": "code",
   "execution_count": 40,
   "metadata": {},
   "outputs": [
    {
     "data": {
      "text/plain": [
       "array([[541.2542],\n",
       "       [542.3524],\n",
       "       [541.853 ],\n",
       "       [539.6431],\n",
       "       [535.8511],\n",
       "       [530.7663]], dtype=float32)"
      ]
     },
     "execution_count": 40,
     "metadata": {},
     "output_type": "execute_result"
    }
   ],
   "source": [
    "predicted_stock_price[:6]"
   ]
  },
  {
   "cell_type": "code",
   "execution_count": 41,
   "metadata": {},
   "outputs": [
    {
     "data": {
      "image/png": "[encoded data removed]",
      "text/plain": [
       "<Figure size 576x360 with 1 Axes>"
      ]
     },
     "metadata": {
      "needs_background": "light"
     },
     "output_type": "display_data"
    }
   ],
   "source": [
    "# Visualising the results\n",
    "plt.figure(figsize=(8,5))\n",
    "plt.plot(real_stock_price, color = 'red', label = 'Real ' + ticker + ' Stock Price')\n",
    "plt.plot(predicted_stock_price, color = 'blue', label = 'Predicted ' + ticker + ' Stock Price')\n",
    "plt.title(ticker + ' Stock Price Prediction')\n",
    "plt.xlabel('Time')\n",
    "plt.ylabel(ticker + ' Stock Price')\n",
    "plt.legend()\n",
    "plt.show()"
   ]
  },
  {
   "cell_type": "markdown",
   "metadata": {},
   "source": [
    "Ends here."
   ]
  }
 ],
 "metadata": {
  "kernelspec": {
   "display_name": "Python 3",
   "language": "python",
   "name": "python3"
  },
  "language_info": {
   "codemirror_mode": {
    "name": "ipython",
    "version": 3
   },
   "file_extension": ".py",
   "mimetype": "text/x-python",
   "name": "python",
   "nbconvert_exporter": "python",
   "pygments_lexer": "ipython3",
   "version": "3.8.3"
  }
 },
 "nbformat": 4,
 "nbformat_minor": 4
}
