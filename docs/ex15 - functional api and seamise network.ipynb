{
  "nbformat": 4,
  "nbformat_minor": 0,
  "metadata": {
    "colab": {
      "name": "ex15 - functional api and seamise network.ipynb",
      "provenance": [],
      "collapsed_sections": [],
      "toc_visible": true
    },
    "kernelspec": {
      "display_name": "Python 3",
      "language": "python",
      "name": "python3"
    },
    "language_info": {
      "codemirror_mode": {
        "name": "ipython",
        "version": 3
      },
      "file_extension": ".py",
      "mimetype": "text/x-python",
      "name": "python",
      "nbconvert_exporter": "python",
      "pygments_lexer": "ipython3",
      "version": "3.8.3"
    }
  },
  "cells": [
    {
      "cell_type": "markdown",
      "metadata": {
        "id": "mmo81c4I8bDk"
      },
      "source": [
        "# Lab: Practice with the Keras Functional API\n",
        "\n",
        "This lab will demonstrate how to build models with the Functional syntax. You'll build one using the Sequential API and see how you can do the same with the Functional API. Both will arrive at the same architecture and you can train and evaluate it as usual."
      ]
    },
    {
      "cell_type": "markdown",
      "metadata": {
        "id": "YAZnPHK28bDn"
      },
      "source": [
        "## Imports"
      ]
    },
    {
      "cell_type": "code",
      "metadata": {
        "id": "macvZKf68bDn"
      },
      "source": [
        "# try:\n",
        "#   # %tensorflow_version only exists in Colab.\n",
        "#   %tensorflow_version 2.x\n",
        "# except Exception:\n",
        "#   pass\n",
        "\n",
        "# library\n",
        "import tensorflow as tf\n",
        "# from tensorflow.python.keras.utils.vis_utils import plot_model\n",
        "import pydot\n",
        "from tensorflow.keras.models import Model"
      ],
      "execution_count": 1,
      "outputs": []
    },
    {
      "cell_type": "markdown",
      "metadata": {
        "id": "iBPpE40R8bDo"
      },
      "source": [
        "## Sequential API\n",
        "\n",
        "Here is how we use the `Sequential()` class to build a model."
      ]
    },
    {
      "cell_type": "code",
      "metadata": {
        "id": "04Y-C9RYUTes"
      },
      "source": [
        "def build_model_with_sequential():\n",
        "    \n",
        "    # instantiate a Sequential class and linearly stack the layers of your model\n",
        "    seq_model = tf.keras.models.Sequential([tf.keras.layers.Flatten(input_shape=(28, 28)),\n",
        "                                            tf.keras.layers.Dense(128, activation=tf.nn.relu),\n",
        "                                            tf.keras.layers.Dense(10, activation=tf.nn.softmax)])\n",
        "    return seq_model"
      ],
      "execution_count": 2,
      "outputs": []
    },
    {
      "cell_type": "markdown",
      "metadata": {
        "id": "EAjdQv7T8bDp"
      },
      "source": [
        "## Functional API\n",
        "\n",
        "And here is how you build the same model above with the functional syntax."
      ]
    },
    {
      "cell_type": "code",
      "metadata": {
        "id": "jNR6cCE98bDq"
      },
      "source": [
        "def build_model_with_functional():\n",
        "    \n",
        "    # instantiate the input Tensor\n",
        "    input_layer = tf.keras.Input(shape=(28, 28))\n",
        "    \n",
        "    # stack the layers using the syntax: new_layer()(previous_layer)\n",
        "    flatten_layer = tf.keras.layers.Flatten()(input_layer)\n",
        "    first_dense = tf.keras.layers.Dense(128, activation=tf.nn.relu)(flatten_layer)\n",
        "    second_dense = tf.keras.layers.Dense(64, activation=tf.nn.relu)(first_dense)\n",
        "    output_layer = tf.keras.layers.Dense(10, activation=tf.nn.softmax)(second_dense)\n",
        "    \n",
        "    # declare inputs and outputs\n",
        "    func_model = Model(inputs=input_layer, outputs=output_layer)\n",
        "    \n",
        "    return func_model"
      ],
      "execution_count": 3,
      "outputs": []
    },
    {
      "cell_type": "markdown",
      "source": [
        "## Seamise Network"
      ],
      "metadata": {
        "id": "k9PKBe21RGya"
      }
    },
    {
      "cell_type": "code",
      "source": [
        "def build_seamise_model_with_functional():\n",
        "    \n",
        "    # instantiate the input Tensor\n",
        "    input_layer = tf.keras.Input(shape=(28, 28))\n",
        "    input_layer_aux = tf.keras.Input(shape=(28, 28))\n",
        "    \n",
        "    # stack the layers using the syntax: new_layer()(previous_layer)\n",
        "    flatten_layer = tf.keras.layers.Flatten()(input_layer)\n",
        "    flatten_layer_aux = tf.keras.layers.Flatten()(input_layer_aux)\n",
        "    first_dense = tf.keras.layers.Dense(128, activation=tf.nn.relu)(flatten_layer)\n",
        "    second_dense = tf.keras.layers.Dense(64, activation=tf.nn.relu)(first_dense)\n",
        "    concate = tf.keras.layers.Concatenate()([second_dense, flatten_layer_aux])\n",
        "    output_layer = tf.keras.layers.Dense(10, activation=tf.nn.softmax)(concate)\n",
        "    \n",
        "    # declare inputs and outputs\n",
        "    func_model = Model(inputs=[input_layer, input_layer_aux], outputs=output_layer)\n",
        "    \n",
        "    return func_model"
      ],
      "metadata": {
        "id": "cN_hflE5RH78"
      },
      "execution_count": 4,
      "outputs": []
    },
    {
      "cell_type": "markdown",
      "metadata": {
        "id": "gqNgmeUn8bDq"
      },
      "source": [
        "## Build the model and visualize the model graph"
      ]
    },
    {
      "cell_type": "markdown",
      "metadata": {
        "id": "ODUgkIEF8bDr"
      },
      "source": [
        "You can choose how to build your model below. Just uncomment which function you'd like to use. You'll notice that the plot will look the same."
      ]
    },
    {
      "cell_type": "code",
      "metadata": {
        "colab": {
          "base_uri": "https://localhost:8080/",
          "height": 564
        },
        "id": "kLfGJyKX8bDr",
        "outputId": "0bd5fc89-3f62-4438-9dfb-e6fe0e15854c"
      },
      "source": [
        "# model = build_model_with_functional()\n",
        "# model = build_model_with_sequential()\n",
        "model = build_seamise_model_with_functional()\n",
        "\n",
        "# Plot model graph\n",
        "tf.keras.utils.plot_model(model)"
      ],
      "execution_count": 5,
      "outputs": [
        {
          "output_type": "execute_result",
          "data": {
            "text/plain": [
              "<IPython.core.display.Image object>"
            ],
            "image/png": "[encoded data removed]"
          },
          "metadata": {},
          "execution_count": 5
        }
      ]
    },
    {
      "cell_type": "markdown",
      "metadata": {
        "id": "fD-xAMNv8bDs"
      },
      "source": [
        "## Training the model\n",
        "\n",
        "Regardless if you built it with the Sequential or Functional API, you'll follow the same steps when training and evaluating your model."
      ]
    },
    {
      "cell_type": "code",
      "metadata": {
        "colab": {
          "base_uri": "https://localhost:8080/"
        },
        "id": "w4wOHvKQ8bDs",
        "outputId": "92907918-1f7f-49cd-9bc4-48e037b0efa8"
      },
      "source": [
        "# prepare fashion mnist dataset\n",
        "mnist = tf.keras.datasets.fashion_mnist\n",
        "(training_images, training_labels), (test_images, test_labels) = mnist.load_data()\n",
        "training_images = training_images / 255.0\n",
        "test_images = test_images / 255.0\n",
        "\n",
        "# configure, train, and evaluate the model\n",
        "model.compile(optimizer=tf.optimizers.Adam(),\n",
        "              loss='sparse_categorical_crossentropy',\n",
        "              metrics=['accuracy'])\n",
        "\n",
        "# model 1 / 2\n",
        "# model.fit(training_images, training_labels, epochs=5)\n",
        "\n",
        "# model 3\n",
        "model.fit([training_images, training_images], training_labels, epochs=5)"
      ],
      "execution_count": 6,
      "outputs": [
        {
          "output_type": "stream",
          "name": "stdout",
          "text": [
            "Downloading data from https://storage.googleapis.com/tensorflow/tf-keras-datasets/train-labels-idx1-ubyte.gz\n",
            "32768/29515 [=================================] - 0s 0us/step\n",
            "40960/29515 [=========================================] - 0s 0us/step\n",
            "Downloading data from https://storage.googleapis.com/tensorflow/tf-keras-datasets/train-images-idx3-ubyte.gz\n",
            "26427392/26421880 [==============================] - 0s 0us/step\n",
            "26435584/26421880 [==============================] - 0s 0us/step\n",
            "Downloading data from https://storage.googleapis.com/tensorflow/tf-keras-datasets/t10k-labels-idx1-ubyte.gz\n",
            "16384/5148 [===============================================================================================] - 0s 0us/step\n",
            "Downloading data from https://storage.googleapis.com/tensorflow/tf-keras-datasets/t10k-images-idx3-ubyte.gz\n",
            "4423680/4422102 [==============================] - 0s 0us/step\n",
            "4431872/4422102 [==============================] - 0s 0us/step\n",
            "Epoch 1/5\n",
            "1875/1875 [==============================] - 6s 3ms/step - loss: 0.4999 - accuracy: 0.8220\n",
            "Epoch 2/5\n",
            "1875/1875 [==============================] - 5s 3ms/step - loss: 0.3691 - accuracy: 0.8658\n",
            "Epoch 3/5\n",
            "1875/1875 [==============================] - 5s 3ms/step - loss: 0.3300 - accuracy: 0.8791\n",
            "Epoch 4/5\n",
            "1875/1875 [==============================] - 5s 3ms/step - loss: 0.3081 - accuracy: 0.8872\n",
            "Epoch 5/5\n",
            "1875/1875 [==============================] - 5s 3ms/step - loss: 0.2899 - accuracy: 0.8930\n"
          ]
        },
        {
          "output_type": "execute_result",
          "data": {
            "text/plain": [
              "<keras.callbacks.History at 0x7f2eb16f3f10>"
            ]
          },
          "metadata": {},
          "execution_count": 6
        }
      ]
    },
    {
      "cell_type": "code",
      "source": [
        "# evaluate model 1/2\n",
        "# model.evaluate(test_images, test_labels)\n",
        "\n",
        "# evaluate model 3\n",
        "model.evaluate([test_images, test_images], test_labels)"
      ],
      "metadata": {
        "colab": {
          "base_uri": "https://localhost:8080/"
        },
        "id": "y5m-BIZgTbf1",
        "outputId": "7c9b6fa8-5404-4e0d-a949-40de399fc555"
      },
      "execution_count": 7,
      "outputs": [
        {
          "output_type": "stream",
          "name": "stdout",
          "text": [
            "313/313 [==============================] - 1s 2ms/step - loss: 0.3506 - accuracy: 0.8751\n"
          ]
        },
        {
          "output_type": "execute_result",
          "data": {
            "text/plain": [
              "[0.3505539298057556, 0.8751000165939331]"
            ]
          },
          "metadata": {},
          "execution_count": 7
        }
      ]
    },
    {
      "cell_type": "markdown",
      "source": [
        "Investigation ends here."
      ],
      "metadata": {
        "id": "2aYoPse_TftK"
      }
    }
  ]
}