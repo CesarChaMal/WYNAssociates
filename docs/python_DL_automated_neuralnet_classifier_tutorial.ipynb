{
  "cells": [
    {
      "cell_type": "markdown",
      "source": [
        "# W.Y.N. Education: Tutorial for Automated Neural Network Classifier\n",
        "\n"
      ],
      "metadata": {
        "id": "2kSN8M-eSP-7"
      }
    },
    {
      "cell_type": "markdown",
      "source": [
        "## What is Neural Network?\n",
        "\n",
        "Artificial neural networks (ANNs), usually simply called neural networks (NNs), are computing systems inspired by the biological neural networks that constitute animal brains.\n",
        "\n",
        "An ANN is based on a collection of connected units or nodes called artificial neurons, which loosely model the neurons in a biological brain. Each connection, like the synapses in a biological brain, can transmit a signal to other neurons. An artificial neuron receives a signal then processes it and can signal neurons connected to it. The \"signal\" at a connection is a real number, and the output of each neuron is computed by some non-linear function of the sum of its inputs. The connections are called edges. Neurons and edges typically have a weight that adjusts as learning proceeds. The weight increases or decreases the strength of the signal at a connection. Neurons may have a threshold such that a signal is sent only if the aggregate signal crosses that threshold. Typically, neurons are aggregated into layers. Different layers may perform different transformations on their inputs. Signals travel from the first layer (the input layer), to the last layer (the output layer), possibly after traversing the layers multiple times.\n",
        "\n"
      ],
      "metadata": {
        "id": "sX9L51iaVVYc"
      }
    },
    {
      "cell_type": "markdown",
      "source": [
        "### Artificial neurons\n",
        "\n",
        "ANNs are composed of artificial neurons which are conceptually derived from biological neurons. Each artificial neuron has inputs and produces a single output which can be sent to multiple other neurons.The inputs can be the feature values of a sample of external data, such as images or documents, or they can be the outputs of other neurons. The outputs of the final output neurons of the neural net accomplish the task, such as recognizing an object in an image.\n",
        "\n",
        "To find the output of the neuron, First we must take the weighted sum of all the inputs, weighted by the weights of the connections from the inputs to the neuron. We add a bias term to this sum. This weighted sum is sometimes called the activation. This weighted sum is then passed through a (usually nonlinear) activation function to produce the output. The initial inputs are external data, such as images and documents. The ultimate outputs accomplish the task, such as recognizing an object in an image.\n",
        "\n"
      ],
      "metadata": {
        "id": "GxwUwfMPVZpa"
      }
    },
    {
      "cell_type": "markdown",
      "source": [
        "### Organization\n",
        "\n",
        "The neurons are typically organized into multiple layers, especially in deep learning. Neurons of one layer connect only to neurons of the immediately preceding and immediately following layers. The layer that receives external data is the input layer. The layer that produces the ultimate result is the output layer. In between them are zero or more hidden layers. Single layer and unlayered networks are also used. Between two layers, multiple connection patterns are possible. They can be 'fully connected', with every neuron in one layer connecting to every neuron in the next layer. They can be pooling, where a group of neurons in one layer connect to a single neuron in the next layer, thereby reducing the number of neurons in that layer. Neurons with only such connections form a directed acyclic graph and are known as feedforward networks. Alternatively, networks that allow connections between neurons in the same or previous layers are known as recurrent networks.\n",
        "\n"
      ],
      "metadata": {
        "id": "U2-cDLpWVbPI"
      }
    },
    {
      "cell_type": "markdown",
      "source": [
        "### Learning\n",
        "\n",
        "Learning is the adaptation of the network to better handle a task by considering sample observations. Learning involves adjusting the weights (and optional thresholds) of the network to improve the accuracy of the result. This is done by minimizing the observed errors. Learning is complete when examining additional observations does not usefully reduce the error rate. Even after learning, the error rate typically does not reach 0. If after learning, the error rate is too high, the network typically must be redesigned. Practically this is done by defining a cost function that is evaluated periodically during learning. As long as its output continues to decline, learning continues. The cost is frequently defined as a statistic whose value can only be approximated. The outputs are actually numbers, so when the error is low, the difference between the output (almost certainly a cat) and the correct answer (cat) is small. Learning attempts to reduce the total of the differences across the observations. Most learning models can be viewed as a straightforward application of optimization theory and statistical estimation.\n",
        "\n"
      ],
      "metadata": {
        "id": "qSX8gBezVcOL"
      }
    },
    {
      "cell_type": "markdown",
      "source": [
        "### Supervised learning\n",
        "\n",
        "Supervised learning uses a set of paired inputs and desired outputs. The learning task is to produce the desired output for each input. In this case the cost function is related to eliminating incorrect deductions. A commonly used cost is the mean-squared error, which tries to minimize the average squared error between the network's output and the desired output. Tasks suited for supervised learning are pattern recognition (also known as classification) and regression (also known as function approximation). Supervised learning is also applicable to sequential data (e.g., for hand writing, speech and gesture recognition). This can be thought of as learning with a \"teacher\", in the form of a function that provides continuous feedback on the quality of solutions obtained thus far.\n",
        "\n"
      ],
      "metadata": {
        "id": "l0BeKkaRVdi5"
      }
    },
    {
      "cell_type": "markdown",
      "source": [
        "## Neural Network Architecture?\n",
        "\n",
        "![image](https://stanford.edu/~shervine/teaching/cs-229/illustrations/neural-network-en.png?835862d448ad85bc5a038848d7d7df0b)\n",
        "\n",
        "Neural networks are a class of models that are built with layers. Commonly used types of neural networks include convolutional and recurrent neural networks.\n",
        "\n"
      ],
      "metadata": {
        "id": "PA2W6lX7VYiR"
      }
    },
    {
      "cell_type": "markdown",
      "source": [
        "### Neurons\n",
        "\n",
        "By noting $i$ the $i^\\text{th}$ layer of the network and $j$ the $j^\\text{th}$ hidden unit of the layer, we have \n",
        "\n",
        "$$z_j^{[i]} = w_j^{[i]^T} x + b_j$$\n",
        "\n",
        "where we note $w$, $b$, $z$ the weight, bias, and output respectively.\n",
        "\n"
      ],
      "metadata": {
        "id": "zrkFYPyW_eLM"
      }
    },
    {
      "cell_type": "markdown",
      "source": [
        "### Activation\n",
        "\n",
        "| Name of Activation Function | Formula of the Activation Function | Graph |\n",
        "| --- | --- | --- |\n",
        "| ReLU | $g(z) = \\max(z,0)$ | <img src=\"https://stanford.edu/~shervine/teaching/cs-229/illustrations/sigmoid.png?c91b6e5a7d4e78e95880bcf4e39889df\" width=\"100px\" height=\"100px\"> |\n",
        "| Leaky ReLU | $g(z) = \\max(\\epsilon z,0)$, $\\epsilon < 1$ | <img src=\"https://stanford.edu/~shervine/teaching/cs-229/illustrations/leaky-relu.png?73b2b4303d1880c69b63d7dfe2be852e\" width=\"100px\" height=\"100px\"/> |\n",
        "| Sigmoid | $g(z) = \\frac{1}{1 + e^{-z}}$ | <img src=\"https://stanford.edu/~shervine/teaching/cs-229/illustrations/sigmoid.png?c91b6e5a7d4e78e95880bcf4e39889df\" width=\"100px\" height=\"100px\"/> |\n",
        "| Tanh | $g(z) = \\frac{e^{z} - e^{-z}}{e^{z} + e^{-z}}$ | <img src=\"https://stanford.edu/~shervine/teaching/cs-229/illustrations/tanh.png?22ac27f27c510c6414e8a3bb4aca2d80\" width=\"100px\" height=\"100px\"/> |\n",
        "\n"
      ],
      "metadata": {
        "id": "zKcHbyGX_isE"
      }
    },
    {
      "cell_type": "markdown",
      "source": [
        "### Loss\n",
        "\n",
        "Cross-entropy lossIn the context of neural networks, the cross-entropy loss $\\mathcal{L}(z, y)$ is commonly used and is defined as follows:\n",
        "\n",
        "$$\\mathcal{L}(z, y) = - [ y \\log(z) + (1 - y) \\log(1-z)]$$\n",
        "\n",
        "\n"
      ],
      "metadata": {
        "id": "903ML1oT_koO"
      }
    },
    {
      "cell_type": "markdown",
      "source": [
        "### Backpropagation\n",
        "\n",
        "Backpropagation is a method to update the weights in the neural network by taking into account the actual output and the desired output. The derivative with respect to weight $w$ is computed using chain rule and is of the following form:\n",
        "\n",
        "$$\\frac{\\partial \\mathcal{L}(z, y)}{\\partial w} = \\frac{\\partial \\mathcal{L}(z, y)}{\\partial z} \\times \\frac{\\partial a}{\\partial z} \\times \\frac{\\partial z}{\\partial w}$$\n",
        "\n",
        "As a result, the weight is updated as follows:\n",
        "\n",
        "$$w \\leftarrow w - \\eta \\frac{\\partial \\mathcal{L}(z, y)}{\\partial w}$$\n",
        "\n",
        "Updating weightsIn a neural network, weights are updated as follows:\n",
        "- Step 1: Take a batch of training data.\n",
        "- Step 2: Perform forward propagation to obtain the corresponding loss.\n",
        "- Step 3: Backpropagate the loss to get the gradients.\n",
        "- Step 4: Use the gradients to update the weights of the network.\n",
        "\n",
        "Dropout is a technique meant to prevent overfitting the training data by dropping out units in a neural network. In practice, neurons are either dropped with probability $p$ or kept with probability $1−p$."
      ],
      "metadata": {
        "id": "_XDP_waMAElK"
      }
    },
    {
      "cell_type": "markdown",
      "source": [
        "## Classification vs Regression\n",
        "\n",
        "Classification predictive modeling problems are different from regression predictive modeling problems.\n",
        "\n",
        "Classification is the task of predicting a discrete class label.\n",
        "Regression is the task of predicting a continuous quantity.\n",
        "\n",
        "This notebook focuses on classification problems so the tutorial walks readers through a classifier machine."
      ],
      "metadata": {
        "id": "yAH6va57V-LJ"
      }
    },
    {
      "cell_type": "markdown",
      "source": [
        "## Software\n",
        "\n",
        "TensorFlow is a free and open-source software library for machine learning and artificial intelligence. It can be used across a range of tasks but has a particular focus on training and inference of deep neural networks.\n",
        "\n",
        "TensorFlow was developed by the Google Brain team for internal Google use in research and production. The initial version was released under the Apache License 2.0 in 2015. Google released the updated version of TensorFlow, named TensorFlow 2.0, in September 2019.\n",
        "\n",
        "The production code in this software is developed and automated using Tensorflow and Keras."
      ],
      "metadata": {
        "id": "Qbt4HNB5VeZi"
      }
    },
    {
      "cell_type": "code",
      "source": [
        "!pip install git+https://github.com/yiqiao-yin/WYNAssociates.git # in jupyter notebook"
      ],
      "metadata": {
        "colab": {
          "base_uri": "https://localhost:8080/"
        },
        "id": "IW6xN_QFEkRk",
        "outputId": "a9dfe65a-137e-4b76-a5db-72a102757af4"
      },
      "execution_count": 1,
      "outputs": [
        {
          "output_type": "stream",
          "name": "stdout",
          "text": [
            "Collecting git+https://github.com/yiqiao-yin/WYNAssociates.git\n",
            "  Cloning https://github.com/yiqiao-yin/WYNAssociates.git to /tmp/pip-req-build-6iuly_6o\n",
            "  Running command git clone -q https://github.com/yiqiao-yin/WYNAssociates.git /tmp/pip-req-build-6iuly_6o\n",
            "Building wheels for collected packages: WYNAssociates\n",
            "  Building wheel for WYNAssociates (setup.py) ... \u001b[?25l\u001b[?25hdone\n",
            "  Created wheel for WYNAssociates: filename=WYNAssociates-1.0.0-py3-none-any.whl size=18738 sha256=7631be7f31d7db19d7e07702783cf735ccdd9526cf3fadfdceb10e8e5bc3f77e\n",
            "  Stored in directory: /tmp/pip-ephem-wheel-cache-73ec9llj/wheels/e7/8d/cb/5eaa7fa9db48dbabd76f0c5e07ad4946ca059ecfaa79e94c49\n",
            "Successfully built WYNAssociates\n",
            "Installing collected packages: WYNAssociates\n",
            "Successfully installed WYNAssociates-1.0.0\n"
          ]
        }
      ]
    },
    {
      "cell_type": "code",
      "source": [
        "!pip install yfinance ta"
      ],
      "metadata": {
        "colab": {
          "base_uri": "https://localhost:8080/"
        },
        "id": "nJ5VQ1hBHoJQ",
        "outputId": "b209f7f0-3a23-40aa-8d5f-49310e12e6ec"
      },
      "execution_count": 2,
      "outputs": [
        {
          "output_type": "stream",
          "name": "stdout",
          "text": [
            "Collecting yfinance\n",
            "  Downloading yfinance-0.1.70-py2.py3-none-any.whl (26 kB)\n",
            "Collecting ta\n",
            "  Downloading ta-0.9.0.tar.gz (25 kB)\n",
            "Collecting lxml>=4.5.1\n",
            "  Downloading lxml-4.7.1-cp37-cp37m-manylinux_2_17_x86_64.manylinux2014_x86_64.manylinux_2_24_x86_64.whl (6.4 MB)\n",
            "\u001b[K     |████████████████████████████████| 6.4 MB 6.4 MB/s \n",
            "\u001b[?25hRequirement already satisfied: multitasking>=0.0.7 in /usr/local/lib/python3.7/dist-packages (from yfinance) (0.0.10)\n",
            "Collecting requests>=2.26\n",
            "  Downloading requests-2.27.1-py2.py3-none-any.whl (63 kB)\n",
            "\u001b[K     |████████████████████████████████| 63 kB 2.2 MB/s \n",
            "\u001b[?25hRequirement already satisfied: pandas>=0.24.0 in /usr/local/lib/python3.7/dist-packages (from yfinance) (1.3.5)\n",
            "Requirement already satisfied: numpy>=1.15 in /usr/local/lib/python3.7/dist-packages (from yfinance) (1.19.5)\n",
            "Requirement already satisfied: pytz>=2017.3 in /usr/local/lib/python3.7/dist-packages (from pandas>=0.24.0->yfinance) (2018.9)\n",
            "Requirement already satisfied: python-dateutil>=2.7.3 in /usr/local/lib/python3.7/dist-packages (from pandas>=0.24.0->yfinance) (2.8.2)\n",
            "Requirement already satisfied: six>=1.5 in /usr/local/lib/python3.7/dist-packages (from python-dateutil>=2.7.3->pandas>=0.24.0->yfinance) (1.15.0)\n",
            "Requirement already satisfied: certifi>=2017.4.17 in /usr/local/lib/python3.7/dist-packages (from requests>=2.26->yfinance) (2021.10.8)\n",
            "Requirement already satisfied: charset-normalizer~=2.0.0 in /usr/local/lib/python3.7/dist-packages (from requests>=2.26->yfinance) (2.0.11)\n",
            "Requirement already satisfied: urllib3<1.27,>=1.21.1 in /usr/local/lib/python3.7/dist-packages (from requests>=2.26->yfinance) (1.24.3)\n",
            "Requirement already satisfied: idna<4,>=2.5 in /usr/local/lib/python3.7/dist-packages (from requests>=2.26->yfinance) (2.10)\n",
            "Building wheels for collected packages: ta\n",
            "  Building wheel for ta (setup.py) ... \u001b[?25l\u001b[?25hdone\n",
            "  Created wheel for ta: filename=ta-0.9.0-py3-none-any.whl size=28908 sha256=cee308dc9800b47fbe53a4160af366f80efcdf3cf4f4d17716c4c187fd9ee8bc\n",
            "  Stored in directory: /root/.cache/pip/wheels/72/78/64/cc1c01506a1010a9845e9bd7c69333730f7174661228ea4f98\n",
            "Successfully built ta\n",
            "Installing collected packages: requests, lxml, yfinance, ta\n",
            "  Attempting uninstall: requests\n",
            "    Found existing installation: requests 2.23.0\n",
            "    Uninstalling requests-2.23.0:\n",
            "      Successfully uninstalled requests-2.23.0\n",
            "  Attempting uninstall: lxml\n",
            "    Found existing installation: lxml 4.2.6\n",
            "    Uninstalling lxml-4.2.6:\n",
            "      Successfully uninstalled lxml-4.2.6\n",
            "\u001b[31mERROR: pip's dependency resolver does not currently take into account all the packages that are installed. This behaviour is the source of the following dependency conflicts.\n",
            "google-colab 1.0.0 requires requests~=2.23.0, but you have requests 2.27.1 which is incompatible.\n",
            "datascience 0.10.6 requires folium==0.2.1, but you have folium 0.8.3 which is incompatible.\u001b[0m\n",
            "Successfully installed lxml-4.7.1 requests-2.27.1 ta-0.9.0 yfinance-0.1.70\n"
          ]
        }
      ]
    },
    {
      "cell_type": "markdown",
      "source": [
        "## Library"
      ],
      "metadata": {
        "id": "9QIR4O84WC9A"
      }
    },
    {
      "cell_type": "code",
      "execution_count": 3,
      "metadata": {
        "id": "oyEI4YEtmEKk"
      },
      "outputs": [],
      "source": [
        "# library\n",
        "from sklearn.datasets import load_breast_cancer\n",
        "from sklearn.model_selection import train_test_split\n",
        "from sklearn.preprocessing import StandardScaler\n",
        "import tensorflow as tf"
      ]
    },
    {
      "cell_type": "markdown",
      "source": [
        "## Load Data"
      ],
      "metadata": {
        "id": "hxrcBm_VWEib"
      }
    },
    {
      "cell_type": "code",
      "execution_count": 4,
      "metadata": {
        "id": "YqsjOJdWmJi3"
      },
      "outputs": [],
      "source": [
        "# data\n",
        "data = load_breast_cancer()"
      ]
    },
    {
      "cell_type": "code",
      "execution_count": 5,
      "metadata": {
        "id": "BzbIqwlOmL3V"
      },
      "outputs": [],
      "source": [
        "# train, validate, and test\n",
        "X_train_full, X_test, y_train_full, y_test = train_test_split(data.data, data.target)\n",
        "X_train, X_valid, y_train, y_valid = train_test_split(X_train_full, y_train_full)"
      ]
    },
    {
      "cell_type": "code",
      "execution_count": 6,
      "metadata": {
        "id": "v06KxjWDmM9G"
      },
      "outputs": [],
      "source": [
        "# standardize\n",
        "scaler = StandardScaler()\n",
        "X_train = scaler.fit_transform(X_train) # What is training set?\n",
        "X_valid = scaler.transform(X_valid) # What is validating set?\n",
        "X_test = scaler.transform(X_test) # What is test set?"
      ]
    },
    {
      "cell_type": "code",
      "execution_count": 7,
      "metadata": {
        "colab": {
          "base_uri": "https://localhost:8080/"
        },
        "id": "gjeLmuSBnGtr",
        "outputId": "6c6c3fae-8dc1-4db1-8106-f7a652542f60"
      },
      "outputs": [
        {
          "output_type": "stream",
          "name": "stdout",
          "text": [
            "(319, 30)\n",
            "(107, 30)\n",
            "(143, 30)\n"
          ]
        }
      ],
      "source": [
        "print(X_train.shape)\n",
        "print(X_valid.shape)\n",
        "print(X_test.shape)"
      ]
    },
    {
      "cell_type": "markdown",
      "source": [
        "## Load WYN Software"
      ],
      "metadata": {
        "id": "KZRBYxtSWGkZ"
      }
    },
    {
      "cell_type": "code",
      "source": [
        "from AI_solution.modules import YinsDL"
      ],
      "metadata": {
        "colab": {
          "base_uri": "https://localhost:8080/"
        },
        "id": "xirGj1ccPpgX",
        "outputId": "d329eb5b-488d-4c58-91f1-94fb4f14d735"
      },
      "execution_count": 8,
      "outputs": [
        {
          "output_type": "stream",
          "name": "stdout",
          "text": [
            "---------------------------------------------------------------------\n",
            "\n",
            "        Yin's Deep Learning Package \n",
            "        Copyright © W.Y.N. Associates, LLC, 2009 – Present\n",
            "        For more information, please go to https://wyn-associates.com/\n",
            "        \n",
            "---------------------------------------------------------------------\n"
          ]
        }
      ]
    },
    {
      "cell_type": "code",
      "source": [
        "hidden = [2**i for i in range(11, 1, -1)][0]\n",
        "hidden"
      ],
      "metadata": {
        "colab": {
          "base_uri": "https://localhost:8080/"
        },
        "id": "GdXDfDWZTwwj",
        "outputId": "b05a9d5e-7e7a-40f3-cb99-89e5369a302e"
      },
      "execution_count": 11,
      "outputs": [
        {
          "output_type": "execute_result",
          "data": {
            "text/plain": [
              "2048"
            ]
          },
          "metadata": {},
          "execution_count": 11
        }
      ]
    },
    {
      "cell_type": "code",
      "source": [
        "tmp = YinsDL.NeuralNet_Classifier(\n",
        "        X_train=X_train,\n",
        "        y_train=y_train, \n",
        "        X_valid=X_valid, \n",
        "        y_valid=y_valid, \n",
        "        X_test=X_test, \n",
        "        y_test=y_test,\n",
        "        input_shape=[30],\n",
        "        hidden=[hidden],\n",
        "        output_shape=2,\n",
        "        activation=\"relu\",\n",
        "        final_activation=\"softmax\",\n",
        "        learning_rate=0.001,\n",
        "        loss=\"sparse_categorical_crossentropy\",\n",
        "        epochs=10,\n",
        "        plotModelSummary=True,\n",
        "        useGPU=False,\n",
        "        verbose=True,\n",
        "        plotROC=True\n",
        "    )"
      ],
      "metadata": {
        "colab": {
          "base_uri": "https://localhost:8080/",
          "height": 1000
        },
        "id": "lWWornD8NXCk",
        "outputId": "422e949c-91d1-44ad-969c-8879b6fc9a7b"
      },
      "execution_count": 12,
      "outputs": [
        {
          "output_type": "stream",
          "name": "stderr",
          "text": [
            "/usr/local/lib/python3.7/dist-packages/keras/optimizer_v2/gradient_descent.py:102: UserWarning: The `lr` argument is deprecated, use `learning_rate` instead.\n",
            "  super(SGD, self).__init__(name, **kwargs)\n"
          ]
        },
        {
          "output_type": "stream",
          "name": "stdout",
          "text": [
            "Model: \"sequential_2\"\n",
            "_________________________________________________________________\n",
            " Layer (type)                Output Shape              Param #   \n",
            "=================================================================\n",
            " dense_4 (Dense)             (None, 2048)              63488     \n",
            "                                                                 \n",
            " dense_5 (Dense)             (None, 2)                 4098      \n",
            "                                                                 \n",
            "=================================================================\n",
            "Total params: 67,586\n",
            "Trainable params: 67,586\n",
            "Non-trainable params: 0\n",
            "_________________________________________________________________\n",
            "None\n",
            "Epoch 1/10\n",
            "10/10 [==============================] - 1s 26ms/step - loss: 0.2518 - val_loss: 0.2517\n",
            "Epoch 2/10\n",
            "10/10 [==============================] - 0s 15ms/step - loss: 0.2517 - val_loss: 0.2516\n",
            "Epoch 3/10\n",
            "10/10 [==============================] - 0s 15ms/step - loss: 0.2516 - val_loss: 0.2516\n",
            "Epoch 4/10\n",
            "10/10 [==============================] - 0s 9ms/step - loss: 0.2516 - val_loss: 0.2515\n",
            "Epoch 5/10\n",
            "10/10 [==============================] - 0s 12ms/step - loss: 0.2515 - val_loss: 0.2515\n",
            "Epoch 6/10\n",
            "10/10 [==============================] - 0s 8ms/step - loss: 0.2515 - val_loss: 0.2514\n",
            "Epoch 7/10\n",
            "10/10 [==============================] - 0s 9ms/step - loss: 0.2514 - val_loss: 0.2514\n",
            "Epoch 8/10\n",
            "10/10 [==============================] - 0s 20ms/step - loss: 0.2514 - val_loss: 0.2513\n",
            "Epoch 9/10\n",
            "10/10 [==============================] - 0s 15ms/step - loss: 0.2514 - val_loss: 0.2513\n",
            "Epoch 10/10\n",
            "10/10 [==============================] - 0s 14ms/step - loss: 0.2513 - val_loss: 0.2512\n",
            "Training time consumption 3.06288743019104 seconds.\n",
            "Confusion Matrix:\n",
            "    0   1\n",
            "0   8  45\n",
            "1  68  22\n",
            "Test Accuracy: 0.2098\n",
            "Test AUC: 0.19769392033542976\n"
          ]
        },
        {
          "output_type": "display_data",
          "data": {
            "image/png": "[encoded data removed]",
            "text/plain": [
              "<Figure size 432x288 with 1 Axes>"
            ]
          },
          "metadata": {
            "needs_background": "light"
          }
        }
      ]
    },
    {
      "cell_type": "markdown",
      "source": [
        "Investigation ends here."
      ],
      "metadata": {
        "id": "JFZelw53TM-q"
      }
    }
  ],
  "metadata": {
    "colab": {
      "collapsed_sections": [],
      "name": "python_DL_automated_neuralnet_classifier_tutorial.ipynb",
      "provenance": [],
      "toc_visible": true
    },
    "kernelspec": {
      "display_name": "Python 3",
      "name": "python3"
    },
    "language_info": {
      "name": "python"
    },
    "accelerator": "GPU"
  },
  "nbformat": 4,
  "nbformat_minor": 0
}