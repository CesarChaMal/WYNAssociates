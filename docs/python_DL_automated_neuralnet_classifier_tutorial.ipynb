{
  "cells": [
    {
      "cell_type": "markdown",
      "source": [
        "# W.Y.N. Education: Tutorial for Automated Neural Network Classifier\n",
        "\n"
      ],
      "metadata": {
        "id": "2kSN8M-eSP-7"
      }
    },
    {
      "cell_type": "markdown",
      "source": [
        "## What is Neural Network?\n",
        "\n",
        "Artificial neural networks (ANNs), usually simply called neural networks (NNs), are computing systems inspired by the biological neural networks that constitute animal brains.\n",
        "\n",
        "An ANN is based on a collection of connected units or nodes called artificial neurons, which loosely model the neurons in a biological brain. Each connection, like the synapses in a biological brain, can transmit a signal to other neurons. An artificial neuron receives a signal then processes it and can signal neurons connected to it. The \"signal\" at a connection is a real number, and the output of each neuron is computed by some non-linear function of the sum of its inputs. The connections are called edges. Neurons and edges typically have a weight that adjusts as learning proceeds. The weight increases or decreases the strength of the signal at a connection. Neurons may have a threshold such that a signal is sent only if the aggregate signal crosses that threshold. Typically, neurons are aggregated into layers. Different layers may perform different transformations on their inputs. Signals travel from the first layer (the input layer), to the last layer (the output layer), possibly after traversing the layers multiple times.\n",
        "\n"
      ],
      "metadata": {
        "id": "sX9L51iaVVYc"
      }
    },
    {
      "cell_type": "markdown",
      "source": [
        "## Neural Network Architecture?\n",
        "\n",
        "![image](https://upload.wikimedia.org/wikipedia/commons/4/46/Colored_neural_network.svg)\n",
        "\n"
      ],
      "metadata": {
        "id": "PA2W6lX7VYiR"
      }
    },
    {
      "cell_type": "markdown",
      "source": [
        "### Artificial neurons\n",
        "\n",
        "ANNs are composed of artificial neurons which are conceptually derived from biological neurons. Each artificial neuron has inputs and produces a single output which can be sent to multiple other neurons.The inputs can be the feature values of a sample of external data, such as images or documents, or they can be the outputs of other neurons. The outputs of the final output neurons of the neural net accomplish the task, such as recognizing an object in an image.\n",
        "\n",
        "To find the output of the neuron, First we must take the weighted sum of all the inputs, weighted by the weights of the connections from the inputs to the neuron. We add a bias term to this sum. This weighted sum is sometimes called the activation. This weighted sum is then passed through a (usually nonlinear) activation function to produce the output. The initial inputs are external data, such as images and documents. The ultimate outputs accomplish the task, such as recognizing an object in an image.\n",
        "\n"
      ],
      "metadata": {
        "id": "GxwUwfMPVZpa"
      }
    },
    {
      "cell_type": "markdown",
      "source": [
        "### Organization\n",
        "\n",
        "The neurons are typically organized into multiple layers, especially in deep learning. Neurons of one layer connect only to neurons of the immediately preceding and immediately following layers. The layer that receives external data is the input layer. The layer that produces the ultimate result is the output layer. In between them are zero or more hidden layers. Single layer and unlayered networks are also used. Between two layers, multiple connection patterns are possible. They can be 'fully connected', with every neuron in one layer connecting to every neuron in the next layer. They can be pooling, where a group of neurons in one layer connect to a single neuron in the next layer, thereby reducing the number of neurons in that layer. Neurons with only such connections form a directed acyclic graph and are known as feedforward networks. Alternatively, networks that allow connections between neurons in the same or previous layers are known as recurrent networks.\n",
        "\n"
      ],
      "metadata": {
        "id": "U2-cDLpWVbPI"
      }
    },
    {
      "cell_type": "markdown",
      "source": [
        "### Learning\n",
        "\n",
        "Learning is the adaptation of the network to better handle a task by considering sample observations. Learning involves adjusting the weights (and optional thresholds) of the network to improve the accuracy of the result. This is done by minimizing the observed errors. Learning is complete when examining additional observations does not usefully reduce the error rate. Even after learning, the error rate typically does not reach 0. If after learning, the error rate is too high, the network typically must be redesigned. Practically this is done by defining a cost function that is evaluated periodically during learning. As long as its output continues to decline, learning continues. The cost is frequently defined as a statistic whose value can only be approximated. The outputs are actually numbers, so when the error is low, the difference between the output (almost certainly a cat) and the correct answer (cat) is small. Learning attempts to reduce the total of the differences across the observations. Most learning models can be viewed as a straightforward application of optimization theory and statistical estimation.\n",
        "\n"
      ],
      "metadata": {
        "id": "qSX8gBezVcOL"
      }
    },
    {
      "cell_type": "markdown",
      "source": [
        "### Supervised learning\n",
        "\n",
        "Supervised learning uses a set of paired inputs and desired outputs. The learning task is to produce the desired output for each input. In this case the cost function is related to eliminating incorrect deductions. A commonly used cost is the mean-squared error, which tries to minimize the average squared error between the network's output and the desired output. Tasks suited for supervised learning are pattern recognition (also known as classification) and regression (also known as function approximation). Supervised learning is also applicable to sequential data (e.g., for hand writing, speech and gesture recognition). This can be thought of as learning with a \"teacher\", in the form of a function that provides continuous feedback on the quality of solutions obtained thus far.\n",
        "\n"
      ],
      "metadata": {
        "id": "l0BeKkaRVdi5"
      }
    },
    {
      "cell_type": "markdown",
      "source": [
        "## Classification vs Regression\n",
        "\n",
        "Classification predictive modeling problems are different from regression predictive modeling problems.\n",
        "\n",
        "Classification is the task of predicting a discrete class label.\n",
        "Regression is the task of predicting a continuous quantity.\n",
        "\n",
        "This notebook focuses on classification problems so the tutorial walks readers through a classifier machine."
      ],
      "metadata": {
        "id": "yAH6va57V-LJ"
      }
    },
    {
      "cell_type": "markdown",
      "source": [
        "## Software\n",
        "\n",
        "TensorFlow is a free and open-source software library for machine learning and artificial intelligence. It can be used across a range of tasks but has a particular focus on training and inference of deep neural networks.\n",
        "\n",
        "TensorFlow was developed by the Google Brain team for internal Google use in research and production. The initial version was released under the Apache License 2.0 in 2015. Google released the updated version of TensorFlow, named TensorFlow 2.0, in September 2019.\n",
        "\n",
        "The production code in this software is developed and automated using Tensorflow and Keras."
      ],
      "metadata": {
        "id": "Qbt4HNB5VeZi"
      }
    },
    {
      "cell_type": "code",
      "source": [
        "!pip install git+https://github.com/yiqiao-yin/WYNAssociates.git # in jupyter notebook"
      ],
      "metadata": {
        "colab": {
          "base_uri": "https://localhost:8080/"
        },
        "id": "IW6xN_QFEkRk",
        "outputId": "97db2d07-c73e-4b0d-e1df-6f7abe9804c0"
      },
      "execution_count": 1,
      "outputs": [
        {
          "output_type": "stream",
          "name": "stdout",
          "text": [
            "Collecting git+https://github.com/yiqiao-yin/WYNAssociates.git\n",
            "  Cloning https://github.com/yiqiao-yin/WYNAssociates.git to /tmp/pip-req-build-9h8uj1jw\n",
            "  Running command git clone -q https://github.com/yiqiao-yin/WYNAssociates.git /tmp/pip-req-build-9h8uj1jw\n",
            "Building wheels for collected packages: WYNAssociates\n",
            "  Building wheel for WYNAssociates (setup.py) ... \u001b[?25l\u001b[?25hdone\n",
            "  Created wheel for WYNAssociates: filename=WYNAssociates-1.0.0-py3-none-any.whl size=18738 sha256=bbe4357c60ac505b05fe109c071e89ae094d352dcf375b84da5c2b01c3e4439e\n",
            "  Stored in directory: /tmp/pip-ephem-wheel-cache-9dzds367/wheels/e7/8d/cb/5eaa7fa9db48dbabd76f0c5e07ad4946ca059ecfaa79e94c49\n",
            "Successfully built WYNAssociates\n",
            "Installing collected packages: WYNAssociates\n",
            "Successfully installed WYNAssociates-1.0.0\n"
          ]
        }
      ]
    },
    {
      "cell_type": "code",
      "source": [
        "!pip install yfinance ta"
      ],
      "metadata": {
        "colab": {
          "base_uri": "https://localhost:8080/"
        },
        "id": "nJ5VQ1hBHoJQ",
        "outputId": "2d437520-e8ff-455e-e556-519601279322"
      },
      "execution_count": 2,
      "outputs": [
        {
          "output_type": "stream",
          "name": "stdout",
          "text": [
            "Collecting yfinance\n",
            "  Downloading yfinance-0.1.70-py2.py3-none-any.whl (26 kB)\n",
            "Collecting ta\n",
            "  Downloading ta-0.9.0.tar.gz (25 kB)\n",
            "Collecting lxml>=4.5.1\n",
            "  Downloading lxml-4.7.1-cp37-cp37m-manylinux_2_17_x86_64.manylinux2014_x86_64.manylinux_2_24_x86_64.whl (6.4 MB)\n",
            "\u001b[K     |████████████████████████████████| 6.4 MB 26.4 MB/s \n",
            "\u001b[?25hRequirement already satisfied: numpy>=1.15 in /usr/local/lib/python3.7/dist-packages (from yfinance) (1.19.5)\n",
            "Collecting requests>=2.26\n",
            "  Downloading requests-2.27.1-py2.py3-none-any.whl (63 kB)\n",
            "\u001b[K     |████████████████████████████████| 63 kB 925 kB/s \n",
            "\u001b[?25hRequirement already satisfied: pandas>=0.24.0 in /usr/local/lib/python3.7/dist-packages (from yfinance) (1.3.5)\n",
            "Requirement already satisfied: multitasking>=0.0.7 in /usr/local/lib/python3.7/dist-packages (from yfinance) (0.0.10)\n",
            "Requirement already satisfied: python-dateutil>=2.7.3 in /usr/local/lib/python3.7/dist-packages (from pandas>=0.24.0->yfinance) (2.8.2)\n",
            "Requirement already satisfied: pytz>=2017.3 in /usr/local/lib/python3.7/dist-packages (from pandas>=0.24.0->yfinance) (2018.9)\n",
            "Requirement already satisfied: six>=1.5 in /usr/local/lib/python3.7/dist-packages (from python-dateutil>=2.7.3->pandas>=0.24.0->yfinance) (1.15.0)\n",
            "Requirement already satisfied: idna<4,>=2.5 in /usr/local/lib/python3.7/dist-packages (from requests>=2.26->yfinance) (2.10)\n",
            "Requirement already satisfied: urllib3<1.27,>=1.21.1 in /usr/local/lib/python3.7/dist-packages (from requests>=2.26->yfinance) (1.24.3)\n",
            "Requirement already satisfied: certifi>=2017.4.17 in /usr/local/lib/python3.7/dist-packages (from requests>=2.26->yfinance) (2021.10.8)\n",
            "Requirement already satisfied: charset-normalizer~=2.0.0 in /usr/local/lib/python3.7/dist-packages (from requests>=2.26->yfinance) (2.0.11)\n",
            "Building wheels for collected packages: ta\n",
            "  Building wheel for ta (setup.py) ... \u001b[?25l\u001b[?25hdone\n",
            "  Created wheel for ta: filename=ta-0.9.0-py3-none-any.whl size=28908 sha256=eb5e338737ac28d8935b5144ea8b6bef35c7cf05f91bcb97c65d6ff0b711aeb4\n",
            "  Stored in directory: /root/.cache/pip/wheels/72/78/64/cc1c01506a1010a9845e9bd7c69333730f7174661228ea4f98\n",
            "Successfully built ta\n",
            "Installing collected packages: requests, lxml, yfinance, ta\n",
            "  Attempting uninstall: requests\n",
            "    Found existing installation: requests 2.23.0\n",
            "    Uninstalling requests-2.23.0:\n",
            "      Successfully uninstalled requests-2.23.0\n",
            "  Attempting uninstall: lxml\n",
            "    Found existing installation: lxml 4.2.6\n",
            "    Uninstalling lxml-4.2.6:\n",
            "      Successfully uninstalled lxml-4.2.6\n",
            "\u001b[31mERROR: pip's dependency resolver does not currently take into account all the packages that are installed. This behaviour is the source of the following dependency conflicts.\n",
            "google-colab 1.0.0 requires requests~=2.23.0, but you have requests 2.27.1 which is incompatible.\n",
            "datascience 0.10.6 requires folium==0.2.1, but you have folium 0.8.3 which is incompatible.\u001b[0m\n",
            "Successfully installed lxml-4.7.1 requests-2.27.1 ta-0.9.0 yfinance-0.1.70\n"
          ]
        }
      ]
    },
    {
      "cell_type": "markdown",
      "source": [
        "## Library"
      ],
      "metadata": {
        "id": "9QIR4O84WC9A"
      }
    },
    {
      "cell_type": "code",
      "execution_count": 3,
      "metadata": {
        "id": "oyEI4YEtmEKk"
      },
      "outputs": [],
      "source": [
        "# library\n",
        "from sklearn.datasets import load_breast_cancer\n",
        "from sklearn.model_selection import train_test_split\n",
        "from sklearn.preprocessing import StandardScaler\n",
        "import tensorflow as tf"
      ]
    },
    {
      "cell_type": "markdown",
      "source": [
        "## Load Data"
      ],
      "metadata": {
        "id": "hxrcBm_VWEib"
      }
    },
    {
      "cell_type": "code",
      "execution_count": 4,
      "metadata": {
        "id": "YqsjOJdWmJi3"
      },
      "outputs": [],
      "source": [
        "# data\n",
        "data = load_breast_cancer()"
      ]
    },
    {
      "cell_type": "code",
      "execution_count": 5,
      "metadata": {
        "id": "BzbIqwlOmL3V"
      },
      "outputs": [],
      "source": [
        "# train, validate, and test\n",
        "X_train_full, X_test, y_train_full, y_test = train_test_split(data.data, data.target)\n",
        "X_train, X_valid, y_train, y_valid = train_test_split(X_train_full, y_train_full)"
      ]
    },
    {
      "cell_type": "code",
      "execution_count": 6,
      "metadata": {
        "id": "v06KxjWDmM9G"
      },
      "outputs": [],
      "source": [
        "# standardize\n",
        "scaler = StandardScaler()\n",
        "X_train = scaler.fit_transform(X_train) # What is training set?\n",
        "X_valid = scaler.transform(X_valid) # What is validating set?\n",
        "X_test = scaler.transform(X_test) # What is test set?"
      ]
    },
    {
      "cell_type": "code",
      "execution_count": 7,
      "metadata": {
        "colab": {
          "base_uri": "https://localhost:8080/"
        },
        "id": "gjeLmuSBnGtr",
        "outputId": "e198a682-b7d9-4397-e22d-cf551a3f8568"
      },
      "outputs": [
        {
          "output_type": "stream",
          "name": "stdout",
          "text": [
            "(319, 30)\n",
            "(107, 30)\n",
            "(143, 30)\n"
          ]
        }
      ],
      "source": [
        "print(X_train.shape)\n",
        "print(X_valid.shape)\n",
        "print(X_test.shape)"
      ]
    },
    {
      "cell_type": "markdown",
      "source": [
        "## Load WYN Software"
      ],
      "metadata": {
        "id": "KZRBYxtSWGkZ"
      }
    },
    {
      "cell_type": "code",
      "source": [
        "from AI_solution.modules import YinsDL"
      ],
      "metadata": {
        "colab": {
          "base_uri": "https://localhost:8080/"
        },
        "id": "xirGj1ccPpgX",
        "outputId": "8cf47a28-74f7-49cd-f499-e2864732c723"
      },
      "execution_count": 8,
      "outputs": [
        {
          "output_type": "stream",
          "name": "stdout",
          "text": [
            "---------------------------------------------------------------------\n",
            "\n",
            "        Yin's Deep Learning Package \n",
            "        Copyright © W.Y.N. Associates, LLC, 2009 – Present\n",
            "        For more information, please go to https://wyn-associates.com/\n",
            "        \n",
            "---------------------------------------------------------------------\n"
          ]
        }
      ]
    },
    {
      "cell_type": "code",
      "source": [
        "hidden = [2**i for i in range(10, 1, -1)][0]\n",
        "hidden"
      ],
      "metadata": {
        "colab": {
          "base_uri": "https://localhost:8080/"
        },
        "id": "GdXDfDWZTwwj",
        "outputId": "d9756da4-1d4d-493f-9b49-755f7a8e309e"
      },
      "execution_count": 9,
      "outputs": [
        {
          "output_type": "execute_result",
          "data": {
            "text/plain": [
              "1024"
            ]
          },
          "metadata": {},
          "execution_count": 9
        }
      ]
    },
    {
      "cell_type": "code",
      "source": [
        "tmp = YinsDL.NeuralNet_Classifier(\n",
        "        X_train=X_train,\n",
        "        y_train=y_train, \n",
        "        X_valid=X_valid, \n",
        "        y_valid=y_valid, \n",
        "        X_test=X_test, \n",
        "        y_test=y_test,\n",
        "        input_shape=[30],\n",
        "        hidden=[hidden],\n",
        "        output_shape=2,\n",
        "        activation=\"relu\",\n",
        "        final_activation=\"softmax\",\n",
        "        learning_rate=0.001,\n",
        "        loss=\"sparse_categorical_crossentropy\",\n",
        "        epochs=10,\n",
        "        plotModelSummary=True,\n",
        "        useGPU=False,\n",
        "        verbose=True,\n",
        "        plotROC=True\n",
        "    )"
      ],
      "metadata": {
        "colab": {
          "base_uri": "https://localhost:8080/",
          "height": 1000
        },
        "id": "lWWornD8NXCk",
        "outputId": "2de384e5-4414-4833-8fad-f0d1cd751a3a"
      },
      "execution_count": 10,
      "outputs": [
        {
          "output_type": "stream",
          "name": "stderr",
          "text": [
            "/usr/local/lib/python3.7/dist-packages/keras/optimizer_v2/gradient_descent.py:102: UserWarning: The `lr` argument is deprecated, use `learning_rate` instead.\n",
            "  super(SGD, self).__init__(name, **kwargs)\n"
          ]
        },
        {
          "output_type": "stream",
          "name": "stdout",
          "text": [
            "Model: \"sequential\"\n",
            "_________________________________________________________________\n",
            " Layer (type)                Output Shape              Param #   \n",
            "=================================================================\n",
            " dense (Dense)               (None, 1024)              31744     \n",
            "                                                                 \n",
            " dense_1 (Dense)             (None, 2)                 2050      \n",
            "                                                                 \n",
            "=================================================================\n",
            "Total params: 33,794\n",
            "Trainable params: 33,794\n",
            "Non-trainable params: 0\n",
            "_________________________________________________________________\n",
            "None\n",
            "Epoch 1/10\n",
            "10/10 [==============================] - 4s 33ms/step - loss: 0.2563 - val_loss: 0.2569\n",
            "Epoch 2/10\n",
            "10/10 [==============================] - 0s 10ms/step - loss: 0.2561 - val_loss: 0.2568\n",
            "Epoch 3/10\n",
            "10/10 [==============================] - 0s 9ms/step - loss: 0.2560 - val_loss: 0.2567\n",
            "Epoch 4/10\n",
            "10/10 [==============================] - 0s 11ms/step - loss: 0.2558 - val_loss: 0.2565\n",
            "Epoch 5/10\n",
            "10/10 [==============================] - 0s 13ms/step - loss: 0.2557 - val_loss: 0.2564\n",
            "Epoch 6/10\n",
            "10/10 [==============================] - 0s 16ms/step - loss: 0.2555 - val_loss: 0.2563\n",
            "Epoch 7/10\n",
            "10/10 [==============================] - 0s 15ms/step - loss: 0.2554 - val_loss: 0.2562\n",
            "Epoch 8/10\n",
            "10/10 [==============================] - 0s 16ms/step - loss: 0.2553 - val_loss: 0.2561\n",
            "Epoch 9/10\n",
            "10/10 [==============================] - 0s 9ms/step - loss: 0.2551 - val_loss: 0.2560\n",
            "Epoch 10/10\n",
            "10/10 [==============================] - 0s 12ms/step - loss: 0.2550 - val_loss: 0.2559\n",
            "Training time consumption 6.022736310958862 seconds.\n",
            "Confusion Matrix:\n",
            "    0   1\n",
            "0  42  12\n",
            "1  81   8\n",
            "Test Accuracy: 0.3497\n",
            "Test AUC: 0.433832709113608\n"
          ]
        },
        {
          "output_type": "display_data",
          "data": {
            "image/png": "[encoded data removed]",
            "text/plain": [
              "<Figure size 432x288 with 1 Axes>"
            ]
          },
          "metadata": {
            "needs_background": "light"
          }
        }
      ]
    },
    {
      "cell_type": "markdown",
      "source": [
        "Investigation ends here."
      ],
      "metadata": {
        "id": "JFZelw53TM-q"
      }
    }
  ],
  "metadata": {
    "colab": {
      "collapsed_sections": [],
      "name": "python_DL_automated_neuralnet_classifier_tutorial.ipynb",
      "provenance": [],
      "toc_visible": true
    },
    "kernelspec": {
      "display_name": "Python 3",
      "name": "python3"
    },
    "language_info": {
      "name": "python"
    },
    "accelerator": "GPU"
  },
  "nbformat": 4,
  "nbformat_minor": 0
}