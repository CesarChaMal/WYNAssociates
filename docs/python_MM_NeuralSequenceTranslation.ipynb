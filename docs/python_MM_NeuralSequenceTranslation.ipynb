{
 "cells": [
  {
   "cell_type": "markdown",
   "metadata": {},
   "source": [
    "# Money Management: Stock Price Forecasting Using Neural Sequence Translation\n",
    "\n",
    "Neural Sequence Translation (NST) is an tweak version of Recurrent Neural Network which not just forecasts a point in the future but an entire vector in the future. Just like [Neural Machine Translation](https://arxiv.org/abs/1409.0473), this notebook explores this upgrade philosophy and apply this idea in a singular stock data.\n",
    "\n",
    "Stock price today is probably dependent on:\n",
    "- The trend it has been folloing from the previous day.\n",
    "- The price it was traded at from previous day.\n",
    "- Some other factors that may affect stock price today.\n",
    "\n",
    "Generalize intuition from above to the following:\n",
    "- The previous cell state (i.e. the information that was present in the memory after the previous time step).\n",
    "- The previous hidden state (i.e. this is the same as the output of the previous cell).\n",
    "- The input at the current time step (i.e. the new information that is being fed in at that moment).\n",
    "\n",
    "In this notebook, we cover\n",
    "- Part 1 - Data Preprocessing\n",
    "- Part 2 - Construct NST Architecture\n",
    "- Part 3 - Predictions and Performance Visualization\n",
    "\n",
    "A Production of [Yin's Capital](www.YinsCapital.com)"
   ]
  },
  {
   "cell_type": "markdown",
   "metadata": {},
   "source": [
    "## Recurrent Neural Network (a sequential model)\n",
    "\n",
    "Given data $X$ and $Y$, we want to feed information forward into a time stamp. Then we form some belief and we make some initial predictions. We investigate our beliefs by looking at the loss function of the initial guesses and the real value. We update our model according to error we observed. \n",
    "\n",
    "## Architecture: Feed-forward\n",
    "\n",
    "Consider data with time stamp\n",
    "$$X_{\\langle 1 \\rangle} \\rightarrow X_{\\langle 2 \\rangle} \\rightarrow \\dots \\rightarrow X_{\\langle T \\rangle}$$\n",
    "and feed-forward architecture pass information through exactly as the following:\n",
    "$$\n",
    "\\text{Information in:} \\rightarrow\n",
    "\\begin{matrix}\n",
    "Y_{\\langle 1 \\rangle}, \\{\\hat{Y}_{\\langle 1 \\rangle}, ..., \\hat{Y}_{\\langle k \\rangle}\\} & Y_{\\langle 2 \\rangle}, \\{\\hat{Y}_{\\langle 1 \\rangle}, ..., \\hat{Y}_{\\langle k \\rangle}\\} &       & Y_{\\langle T \\rangle}, \\{\\hat{Y}_{\\langle 1 \\rangle}, ..., \\hat{Y}_{\\langle k \\rangle}\\} \\\\\n",
    "\\uparrow               & \\uparrow               &       & \\uparrow \\\\\n",
    "X_{\\langle 1 \\rangle} \\rightarrow    & X_{\\langle 2 \\rangle} \\rightarrow    & \\dots \\rightarrow & X_{\\langle T \\rangle} \\\\\n",
    "\\uparrow               & \\uparrow               &       & \\uparrow \\\\\n",
    "w_{\\langle 1 \\rangle}, b_{0, \\langle 1 \\rangle}    & w_{\\langle 2 \\rangle}, b_{0, \\langle 2 \\rangle}    &       & w_{\\langle T \\rangle}, b_{0, \\langle T \\rangle} \\\\\n",
    "\\end{matrix}\n",
    "\\rightarrow\n",
    "\\text{Form beliefs about } Y_{\\langle T \\rangle}\n",
    "$$\n",
    "while the educated guesses $\\hat{Y}_{\\langle T \\rangle}$ are our beliefs about real $Y$ at time stamp $T$. \n",
    "\n",
    "## Architecture: Feed-backward\n",
    "\n",
    "Let us clearly define our loss function to make sure we have a proper grip of our mistakes. \n",
    "$$\\mathcal{L} = \\sum_t \\sum_k L(\\hat{y}_{\\langle t,k \\rangle} - y_{\\langle t,k \\rangle})^2$$\n",
    "and we can compute the gradient \n",
    "$$\\triangledown = \\frac{\\partial \\mathcal{L}}{\\partial a}$$\n",
    "and then with respect with parameters $w$ and $b$\n",
    "$$\\frac{\\partial \\triangledown}{\\partial w}, \\frac{\\partial \\triangledown}{\\partial a}$$\n",
    "and now with perspective of where we make our mistakes according to our parameters we can go backward\n",
    "$$\n",
    "\\text{Information in:} \\leftarrow\n",
    "\\underbrace{\n",
    "\\begin{matrix}\n",
    "Y_{\\langle 1 \\rangle}, \\{\\hat{Y}_{\\langle 1 \\rangle}, ..., \\hat{Y}_{\\langle k \\rangle}\\} & Y_{\\langle 2 \\rangle}, \\{\\hat{Y}_{\\langle 1 \\rangle}, ..., \\hat{Y}_{\\langle k \\rangle}\\} &       & Y_{\\langle T \\rangle}, \\{\\hat{Y}_{\\langle 1 \\rangle}, ..., \\hat{Y}_{\\langle k \\rangle}\\} \\\\\n",
    "\\uparrow               & \\uparrow               &       & \\uparrow \\\\\n",
    "X_{\\langle 1 \\rangle} \\leftarrow    & X_{\\langle 2 \\rangle} \\leftarrow    & \\dots \\leftarrow & X_{\\langle T \\rangle} \\\\\n",
    "\\uparrow               & \\uparrow               &       & \\uparrow \\\\\n",
    "w'_{\\langle 1 \\rangle}, b'_{0, \\langle 1 \\rangle}    & w'_{\\langle 2 \\rangle}, b'_{0, \\langle 2 \\rangle}    &       & w'_{\\langle T \\rangle}, b'_{0, \\langle T \\rangle} \\\\\n",
    "\\end{matrix}}_{\\text{Update: } w, b \\text{ with } w', b'}\n",
    "\\leftarrow\n",
    "\\text{Total Loss: } \\mathcal{L} (\\hat{y}, y)\n",
    "$$\n",
    "and the *update* action in the above architecture is dependent on your optimizer specified in the algorithm."
   ]
  },
  {
   "cell_type": "markdown",
   "metadata": {},
   "source": [
    "## Part 1: Data Processing"
   ]
  },
  {
   "cell_type": "code",
   "execution_count": 1,
   "metadata": {},
   "outputs": [],
   "source": [
    "# libraries\n",
    "import pandas as pd\n",
    "import numpy as np\n",
    "import yfinance as yf"
   ]
  },
  {
   "cell_type": "code",
   "execution_count": 259,
   "metadata": {},
   "outputs": [],
   "source": [
    "# set parameters\n",
    "start_date       =   '2013-01-01'\n",
    "end_date         =   '2019-12-6'\n",
    "ticker           =   'AAPL'\n",
    "w                =   1\n",
    "h                =   5\n",
    "cutoff           =   0.8\n",
    "numOfHiddenLayer =   3\n",
    "l1_units         =   50\n",
    "l2_units         =   50\n",
    "l2_units         =   50\n",
    "l3_units         =   50\n",
    "l4_units         =   30\n",
    "l5_units         =   10\n",
    "dropOutRate       =  0.2\n",
    "optimizer        =   'adam'\n",
    "loss             =   'mean_squared_error'\n",
    "useDice          =   True\n",
    "epochs           =   50\n",
    "batch_size       =   64\n",
    "plotGraph        =   True\n",
    "verbose          =   True"
   ]
  },
  {
   "cell_type": "code",
   "execution_count": 142,
   "metadata": {},
   "outputs": [
    {
     "name": "stdout",
     "output_type": "stream",
     "text": [
      "[*********************100%***********************]  1 of 1 completed\n"
     ]
    }
   ],
   "source": [
    "# get data\n",
    "stockData = yf.download(ticker, start_date, end_date)"
   ]
  },
  {
   "cell_type": "markdown",
   "metadata": {},
   "source": [
    "We make the following simple assumptions:\n",
    "- the explanatory data matrix $X$ is the downloaded stock data except the first row\n",
    "- the response data matrix $Y$ is the downloaded stock data except the last row\n",
    "- this way we are using stock data at $t$ to predict stock data at $t+1$\n",
    "- the information in the response data matrix $Y$: open, high, low, close, adjusted close"
   ]
  },
  {
   "cell_type": "code",
   "execution_count": 277,
   "metadata": {},
   "outputs": [],
   "source": [
    "stockData = stockData.iloc[:,:5]"
   ]
  },
  {
   "cell_type": "code",
   "execution_count": 278,
   "metadata": {},
   "outputs": [
    {
     "data": {
      "text/html": [
       "<div>\n",
       "<style scoped>\n",
       "    .dataframe tbody tr th:only-of-type {\n",
       "        vertical-align: middle;\n",
       "    }\n",
       "\n",
       "    .dataframe tbody tr th {\n",
       "        vertical-align: top;\n",
       "    }\n",
       "\n",
       "    .dataframe thead th {\n",
       "        text-align: right;\n",
       "    }\n",
       "</style>\n",
       "<table border=\"1\" class=\"dataframe\">\n",
       "  <thead>\n",
       "    <tr style=\"text-align: right;\">\n",
       "      <th></th>\n",
       "      <th>Open</th>\n",
       "      <th>High</th>\n",
       "      <th>Low</th>\n",
       "      <th>Close</th>\n",
       "      <th>Adj Close</th>\n",
       "    </tr>\n",
       "    <tr>\n",
       "      <th>Date</th>\n",
       "      <th></th>\n",
       "      <th></th>\n",
       "      <th></th>\n",
       "      <th></th>\n",
       "      <th></th>\n",
       "    </tr>\n",
       "  </thead>\n",
       "  <tbody>\n",
       "    <tr>\n",
       "      <th>2013-01-02</th>\n",
       "      <td>19.779285</td>\n",
       "      <td>19.821428</td>\n",
       "      <td>19.343929</td>\n",
       "      <td>19.608213</td>\n",
       "      <td>16.985447</td>\n",
       "    </tr>\n",
       "    <tr>\n",
       "      <th>2013-01-03</th>\n",
       "      <td>19.567142</td>\n",
       "      <td>19.631071</td>\n",
       "      <td>19.321428</td>\n",
       "      <td>19.360714</td>\n",
       "      <td>16.771053</td>\n",
       "    </tr>\n",
       "  </tbody>\n",
       "</table>\n",
       "</div>"
      ],
      "text/plain": [
       "                 Open       High        Low      Close  Adj Close\n",
       "Date                                                             \n",
       "2013-01-02  19.779285  19.821428  19.343929  19.608213  16.985447\n",
       "2013-01-03  19.567142  19.631071  19.321428  19.360714  16.771053"
      ]
     },
     "execution_count": 278,
     "metadata": {},
     "output_type": "execute_result"
    }
   ],
   "source": [
    "stockData.head(2)"
   ]
  },
  {
   "cell_type": "code",
   "execution_count": 279,
   "metadata": {},
   "outputs": [],
   "source": [
    "Y = stockData.iloc[1::, ]\n",
    "X = stockData.iloc[0:1744,]"
   ]
  },
  {
   "cell_type": "code",
   "execution_count": 280,
   "metadata": {},
   "outputs": [],
   "source": [
    "X_train = X.iloc[0:round(X.shape[0]*cutoff), ]\n",
    "X_test = X.iloc[round(X.shape[0]*cutoff):X.shape[0], ]"
   ]
  },
  {
   "cell_type": "code",
   "execution_count": 281,
   "metadata": {},
   "outputs": [],
   "source": [
    "y_train = Y.iloc[0:round(Y.shape[0]*cutoff), ]\n",
    "y_test = Y.iloc[round(Y.shape[0]*cutoff):Y.shape[0], ]"
   ]
  },
  {
   "cell_type": "code",
   "execution_count": 282,
   "metadata": {},
   "outputs": [],
   "source": [
    "X_train = np.array(X_train).reshape(X_train.shape[0], w, h)\n",
    "X_test = np.array(X_test).reshape(X_test.shape[0], w, h)"
   ]
  },
  {
   "cell_type": "code",
   "execution_count": 283,
   "metadata": {},
   "outputs": [
    {
     "name": "stdout",
     "output_type": "stream",
     "text": [
      "(1395, 1, 5)\n",
      "(349, 1, 5)\n",
      "(1395, 5)\n",
      "(349, 5)\n"
     ]
    }
   ],
   "source": [
    "print(X_train.shape)\n",
    "print(X_test.shape)\n",
    "print(y_train.shape)\n",
    "print(y_test.shape)"
   ]
  },
  {
   "cell_type": "markdown",
   "metadata": {},
   "source": [
    "## Part 2: Design a Neural Sequence Translation Architecture"
   ]
  },
  {
   "cell_type": "code",
   "execution_count": 284,
   "metadata": {},
   "outputs": [],
   "source": [
    "### Build RNN\n",
    "# Importing the Keras libraries and packages\n",
    "from keras.models import Sequential\n",
    "from keras.layers import Dense\n",
    "from keras.layers import LSTM\n",
    "from keras.layers import Dropout\n",
    "import time\n",
    "\n",
    "# Initialize RNN\n",
    "begintime = time.time()\n",
    "regressor = Sequential()"
   ]
  },
  {
   "cell_type": "code",
   "execution_count": 285,
   "metadata": {},
   "outputs": [],
   "source": [
    "# Design hidden layers\n",
    "if numOfHiddenLayer == 2:\n",
    "    # Adding the first LSTM layer and some Dropout regularisation\n",
    "    regressor.add(LSTM(units = l1_units, return_sequences = True, input_shape = (w, h)))\n",
    "    regressor.add(Dropout(dropOutRate))\n",
    "\n",
    "    # Adding a second LSTM layer and some Dropout regularisation\n",
    "    regressor.add(LSTM(units = l2_units))\n",
    "    regressor.add(Dropout(dropOutRate))\n",
    "\n",
    "elif numOfHiddenLayer == 3:\n",
    "    # Adding the first LSTM layer and some Dropout regularisation\n",
    "    regressor.add(LSTM(units = l1_units, return_sequences = True, input_shape = (w, h)))\n",
    "    regressor.add(Dropout(dropOutRate))\n",
    "\n",
    "    # Adding a second LSTM layer and some Dropout regularisation\n",
    "    regressor.add(LSTM(units = l2_units, return_sequences = True))\n",
    "    regressor.add(Dropout(dropOutRate))\n",
    "\n",
    "    # Adding a third LSTM layer and some Dropout regularisation\n",
    "    regressor.add(LSTM(units = l3_units))\n",
    "    regressor.add(Dropout(dropOutRate))\n",
    "\n",
    "elif numOfHiddenLayer == 4:\n",
    "    # Adding the first LSTM layer and some Dropout regularisation\n",
    "    regressor.add(LSTM(units = l1_units, return_sequences = True, input_shape = (w, h)))\n",
    "    regressor.add(Dropout(dropOutRate))\n",
    "\n",
    "    # Adding a second LSTM layer and some Dropout regularisation\n",
    "    regressor.add(LSTM(units = l2_units, return_sequences = True))\n",
    "    regressor.add(Dropout(dropOutRate))\n",
    "\n",
    "    # Adding a third LSTM layer and some Dropout regularisation\n",
    "    regressor.add(LSTM(units = l3_units, return_sequences = True))\n",
    "    regressor.add(Dropout(dropOutRate))\n",
    "\n",
    "    # Adding a fourth LSTM layer and some Dropout regularisation\n",
    "    regressor.add(LSTM(units = l4_units))\n",
    "    regressor.add(Dropout(dropOutRate))\n",
    "\n",
    "elif numOfHiddenLayer == 5:\n",
    "    # Adding the first LSTM layer and some Dropout regularisation\n",
    "    regressor.add(LSTM(units = l1_units, return_sequences = True, input_shape = (w, h)))\n",
    "    regressor.add(Dropout(dropOutRate))\n",
    "\n",
    "    # Adding a second LSTM layer and some Dropout regularisation\n",
    "    regressor.add(LSTM(units = l2_units, return_sequences = True))\n",
    "    regressor.add(Dropout(dropOutRate))\n",
    "\n",
    "    # Adding a third LSTM layer and some Dropout regularisation\n",
    "    regressor.add(LSTM(units = l3_units, return_sequences = True))\n",
    "    regressor.add(Dropout(dropOutRate))\n",
    "\n",
    "    # Adding a fourth LSTM layer and some Dropout regularisation\n",
    "    regressor.add(LSTM(units = l4_units, return_sequences = True))\n",
    "    regressor.add(Dropout(dropOutRate))\n",
    "\n",
    "    # Adding a fifth LSTM layer and some Dropout regularisation\n",
    "    regressor.add(LSTM(units = l5_units))\n",
    "    regressor.add(Dropout(dropOutRate))"
   ]
  },
  {
   "cell_type": "code",
   "execution_count": 286,
   "metadata": {},
   "outputs": [],
   "source": [
    "# Adding the output layer\n",
    "regressor.add(Dense(units = y_train.shape[1]))\n",
    "endtime = time.time()"
   ]
  },
  {
   "cell_type": "code",
   "execution_count": 287,
   "metadata": {},
   "outputs": [
    {
     "name": "stdout",
     "output_type": "stream",
     "text": [
      "--------------------------------------------\n",
      "Let us investigate the sequential models.\n",
      "Model: \"sequential_12\"\n",
      "_________________________________________________________________\n",
      "Layer (type)                 Output Shape              Param #   \n",
      "=================================================================\n",
      "lstm_29 (LSTM)               (None, 1, 50)             11200     \n",
      "_________________________________________________________________\n",
      "dropout_24 (Dropout)         (None, 1, 50)             0         \n",
      "_________________________________________________________________\n",
      "lstm_30 (LSTM)               (None, 1, 50)             20200     \n",
      "_________________________________________________________________\n",
      "dropout_25 (Dropout)         (None, 1, 50)             0         \n",
      "_________________________________________________________________\n",
      "lstm_31 (LSTM)               (None, 50)                20200     \n",
      "_________________________________________________________________\n",
      "dropout_26 (Dropout)         (None, 50)                0         \n",
      "_________________________________________________________________\n",
      "dense_11 (Dense)             (None, 5)                 255       \n",
      "=================================================================\n",
      "Total params: 51,855\n",
      "Trainable params: 51,855\n",
      "Non-trainable params: 0\n",
      "_________________________________________________________________\n",
      "--------------------------------------------\n",
      "Time Consumption (in sec): 1.7883505821228027\n",
      "Time Consumption (in min): 0.03\n",
      "Time Consumption (in hr): 0.0 2\n",
      "--------------------------------------------\n"
     ]
    }
   ],
   "source": [
    "# Summary\n",
    "if verbose:\n",
    "    print(\"--------------------------------------------\")\n",
    "    print('Let us investigate the sequential models.')\n",
    "    regressor.summary()\n",
    "    print(\"--------------------------------------------\")\n",
    "    print(\"Time Consumption (in sec):\", endtime - begintime)\n",
    "    print(\"Time Consumption (in min):\", round((endtime - begintime)/60, 2))\n",
    "    print(\"Time Consumption (in hr):\", round((endtime - begintime)/60)/60, 2)\n",
    "    print(\"--------------------------------------------\")"
   ]
  },
  {
   "cell_type": "code",
   "execution_count": 288,
   "metadata": {},
   "outputs": [],
   "source": [
    "### Train RNN\n",
    "# Compiling the RNN\n",
    "start = time.time()\n",
    "regressor.compile(optimizer = optimizer, loss = loss)"
   ]
  },
  {
   "cell_type": "code",
   "execution_count": 289,
   "metadata": {},
   "outputs": [
    {
     "name": "stdout",
     "output_type": "stream",
     "text": [
      "Epoch 1/50\n",
      "22/22 [==============================] - 0s 3ms/step - loss: 862.6714\n",
      "Epoch 2/50\n",
      "22/22 [==============================] - 0s 3ms/step - loss: 827.0408\n",
      "Epoch 3/50\n",
      "22/22 [==============================] - 0s 3ms/step - loss: 700.5491\n",
      "Epoch 4/50\n",
      "22/22 [==============================] - 0s 3ms/step - loss: 580.1807\n",
      "Epoch 5/50\n",
      "22/22 [==============================] - 0s 3ms/step - loss: 508.9561\n",
      "Epoch 6/50\n",
      "22/22 [==============================] - 0s 3ms/step - loss: 459.9046\n",
      "Epoch 7/50\n",
      "22/22 [==============================] - 0s 2ms/step - loss: 417.4770\n",
      "Epoch 8/50\n",
      "22/22 [==============================] - 0s 3ms/step - loss: 383.0302\n",
      "Epoch 9/50\n",
      "22/22 [==============================] - 0s 2ms/step - loss: 353.6742\n",
      "Epoch 10/50\n",
      "22/22 [==============================] - 0s 2ms/step - loss: 325.6520\n",
      "Epoch 11/50\n",
      "22/22 [==============================] - 0s 2ms/step - loss: 298.9647\n",
      "Epoch 12/50\n",
      "22/22 [==============================] - 0s 2ms/step - loss: 277.4525\n",
      "Epoch 13/50\n",
      "22/22 [==============================] - 0s 2ms/step - loss: 257.3335\n",
      "Epoch 14/50\n",
      "22/22 [==============================] - 0s 2ms/step - loss: 237.0804\n",
      "Epoch 15/50\n",
      "22/22 [==============================] - 0s 2ms/step - loss: 220.9265\n",
      "Epoch 16/50\n",
      "22/22 [==============================] - 0s 3ms/step - loss: 207.1432\n",
      "Epoch 17/50\n",
      "22/22 [==============================] - 0s 2ms/step - loss: 193.6805\n",
      "Epoch 18/50\n",
      "22/22 [==============================] - 0s 2ms/step - loss: 179.8791\n",
      "Epoch 19/50\n",
      "22/22 [==============================] - 0s 2ms/step - loss: 167.6756\n",
      "Epoch 20/50\n",
      "22/22 [==============================] - 0s 2ms/step - loss: 160.1815\n",
      "Epoch 21/50\n",
      "22/22 [==============================] - 0s 2ms/step - loss: 148.9448\n",
      "Epoch 22/50\n",
      "22/22 [==============================] - 0s 2ms/step - loss: 142.9512\n",
      "Epoch 23/50\n",
      "22/22 [==============================] - 0s 2ms/step - loss: 134.5259\n",
      "Epoch 24/50\n",
      "22/22 [==============================] - 0s 2ms/step - loss: 129.1250\n",
      "Epoch 25/50\n",
      "22/22 [==============================] - 0s 2ms/step - loss: 121.3505\n",
      "Epoch 26/50\n",
      "22/22 [==============================] - 0s 3ms/step - loss: 118.1227\n",
      "Epoch 27/50\n",
      "22/22 [==============================] - 0s 2ms/step - loss: 112.0450\n",
      "Epoch 28/50\n",
      "22/22 [==============================] - 0s 2ms/step - loss: 110.1044\n",
      "Epoch 29/50\n",
      "22/22 [==============================] - 0s 2ms/step - loss: 106.4109\n",
      "Epoch 30/50\n",
      "22/22 [==============================] - 0s 2ms/step - loss: 100.1250\n",
      "Epoch 31/50\n",
      "22/22 [==============================] - 0s 2ms/step - loss: 99.1139\n",
      "Epoch 32/50\n",
      "22/22 [==============================] - 0s 2ms/step - loss: 96.5590\n",
      "Epoch 33/50\n",
      "22/22 [==============================] - 0s 2ms/step - loss: 93.8932\n",
      "Epoch 34/50\n",
      "22/22 [==============================] - 0s 2ms/step - loss: 92.6315\n",
      "Epoch 35/50\n",
      "22/22 [==============================] - 0s 2ms/step - loss: 90.4968\n",
      "Epoch 36/50\n",
      "22/22 [==============================] - 0s 2ms/step - loss: 88.6190\n",
      "Epoch 37/50\n",
      "22/22 [==============================] - 0s 3ms/step - loss: 88.9165\n",
      "Epoch 38/50\n",
      "22/22 [==============================] - 0s 2ms/step - loss: 86.4896\n",
      "Epoch 39/50\n",
      "22/22 [==============================] - 0s 2ms/step - loss: 86.1272\n",
      "Epoch 40/50\n",
      "22/22 [==============================] - 0s 2ms/step - loss: 84.9416\n",
      "Epoch 41/50\n",
      "22/22 [==============================] - 0s 2ms/step - loss: 85.1251\n",
      "Epoch 42/50\n",
      "22/22 [==============================] - 0s 2ms/step - loss: 84.4785\n",
      "Epoch 43/50\n",
      "22/22 [==============================] - 0s 2ms/step - loss: 85.2112\n",
      "Epoch 44/50\n",
      "22/22 [==============================] - 0s 2ms/step - loss: 85.4505\n",
      "Epoch 45/50\n",
      "22/22 [==============================] - 0s 2ms/step - loss: 79.3455\n",
      "Epoch 46/50\n",
      "22/22 [==============================] - 0s 2ms/step - loss: 70.8378\n",
      "Epoch 47/50\n",
      "22/22 [==============================] - 0s 2ms/step - loss: 63.4827\n",
      "Epoch 48/50\n",
      "22/22 [==============================] - 0s 2ms/step - loss: 58.9290\n",
      "Epoch 49/50\n",
      "22/22 [==============================] - 0s 2ms/step - loss: 55.8622\n",
      "Epoch 50/50\n",
      "22/22 [==============================] - 0s 2ms/step - loss: 52.2984\n"
     ]
    }
   ],
   "source": [
    "# Fitting the RNN to the Training set\n",
    "regressor.fit(X_train, y_train, epochs = epochs, batch_size = batch_size)\n",
    "end = time.time()"
   ]
  },
  {
   "cell_type": "code",
   "execution_count": 272,
   "metadata": {},
   "outputs": [
    {
     "name": "stdout",
     "output_type": "stream",
     "text": [
      "Time Consumption: 6.635748624801636\n"
     ]
    }
   ],
   "source": [
    "# Time Check\n",
    "if verbose == True: \n",
    "    print('Time Consumption:', end - start)"
   ]
  },
  {
   "cell_type": "markdown",
   "metadata": {},
   "source": [
    "## Part 3: Predictions and Performance Visualization"
   ]
  },
  {
   "cell_type": "code",
   "execution_count": 273,
   "metadata": {},
   "outputs": [],
   "source": [
    "### Predictions\n",
    "predicted_stock_price = regressor.predict(X_test)"
   ]
  },
  {
   "cell_type": "code",
   "execution_count": 274,
   "metadata": {},
   "outputs": [],
   "source": [
    "real_stock_price = y_test"
   ]
  },
  {
   "cell_type": "code",
   "execution_count": 275,
   "metadata": {},
   "outputs": [
    {
     "data": {
      "image/png": "[encoded data removed]",
      "text/plain": [
       "<Figure size 720x432 with 2 Axes>"
      ]
     },
     "metadata": {
      "needs_background": "light"
     },
     "output_type": "display_data"
    }
   ],
   "source": [
    "# Visualising the results\n",
    "import matplotlib.pyplot as plt\n",
    "if plotGraph:\n",
    "    fig, axs = plt.subplots(2, figsize = (10,6))\n",
    "    fig.suptitle(f'Real (Up) vs. Estimate (Down) {tickers} Stock Price')\n",
    "    axs[0].plot(real_stock_price, color = 'red', label = f'Real {tickers[0]} Stock Price')\n",
    "    axs[1].plot(predicted_stock_price, color = 'blue', label = f'Predicted {tickers[0]} Stock Price')"
   ]
  }
 ],
 "metadata": {
  "kernelspec": {
   "display_name": "Python 3",
   "language": "python",
   "name": "python3"
  },
  "language_info": {
   "codemirror_mode": {
    "name": "ipython",
    "version": 3
   },
   "file_extension": ".py",
   "mimetype": "text/x-python",
   "name": "python",
   "nbconvert_exporter": "python",
   "pygments_lexer": "ipython3",
   "version": "3.8.3"
  }
 },
 "nbformat": 4,
 "nbformat_minor": 4
}
