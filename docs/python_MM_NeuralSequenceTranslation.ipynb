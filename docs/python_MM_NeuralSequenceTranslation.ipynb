{
 "cells": [
  {
   "cell_type": "markdown",
   "metadata": {},
   "source": [
    "# Money Management: Stock Price Forecasting Using Neural Sequence Translation\n",
    "\n",
    "Neural Sequence Translation (NST) is an tweak version of Recurrent Neural Network which not just forecasts a point in the future but an entire vector in the future. Just like [Neural Machine Translation](https://arxiv.org/abs/1409.0473), this notebook explores this upgrade philosophy and apply this idea in a singular stock data.\n",
    "\n",
    "Stock price today is probably dependent on:\n",
    "- The trend it has been folloing from the previous day.\n",
    "- The price it was traded at from previous day.\n",
    "- Some other factors that may affect stock price today.\n",
    "\n",
    "Generalize intuition from above to the following:\n",
    "- The previous cell state (i.e. the information that was present in the memory after the previous time step).\n",
    "- The previous hidden state (i.e. this is the same as the output of the previous cell).\n",
    "- The input at the current time step (i.e. the new information that is being fed in at that moment).\n",
    "\n",
    "In this notebook, we cover\n",
    "- Part 1 - Data Preprocessing\n",
    "- Part 2 - Construct NST Architecture\n",
    "- Part 3 - Predictions and Performance Visualization\n",
    "\n",
    "A Production of [Yin's Capital](www.YinsCapital.com)"
   ]
  },
  {
   "cell_type": "markdown",
   "metadata": {},
   "source": [
    "## Recurrent Neural Network (a sequential model)\n",
    "\n",
    "Given data $X$ and $Y$, we want to feed information forward into a time stamp. Then we form some belief and we make some initial predictions. We investigate our beliefs by looking at the loss function of the initial guesses and the real value. We update our model according to error we observed. \n",
    "\n",
    "## Architecture: Feed-forward\n",
    "\n",
    "Consider data with time stamp\n",
    "$$X_{\\langle 1 \\rangle} \\rightarrow X_{\\langle 2 \\rangle} \\rightarrow \\dots \\rightarrow X_{\\langle T \\rangle}$$\n",
    "and feed-forward architecture pass information through exactly as the following:\n",
    "$$\n",
    "\\text{Information in:} \\rightarrow\n",
    "\\begin{matrix}\n",
    "Y_{\\langle 1 \\rangle}, \\{\\hat{Y}_{\\langle 1 \\rangle}, ..., \\hat{Y}_{\\langle k \\rangle}\\} & Y_{\\langle 2 \\rangle}, \\{\\hat{Y}_{\\langle 1 \\rangle}, ..., \\hat{Y}_{\\langle k \\rangle}\\} &       & Y_{\\langle T \\rangle}, \\{\\hat{Y}_{\\langle 1 \\rangle}, ..., \\hat{Y}_{\\langle k \\rangle}\\} \\\\\n",
    "\\uparrow               & \\uparrow               &       & \\uparrow \\\\\n",
    "X_{\\langle 1 \\rangle} \\rightarrow    & X_{\\langle 2 \\rangle} \\rightarrow    & \\dots \\rightarrow & X_{\\langle T \\rangle} \\\\\n",
    "\\uparrow               & \\uparrow               &       & \\uparrow \\\\\n",
    "w_{\\langle 1 \\rangle}, b_{0, \\langle 1 \\rangle}    & w_{\\langle 2 \\rangle}, b_{0, \\langle 2 \\rangle}    &       & w_{\\langle T \\rangle}, b_{0, \\langle T \\rangle} \\\\\n",
    "\\end{matrix}\n",
    "\\rightarrow\n",
    "\\text{Form beliefs about } Y_{\\langle T \\rangle}\n",
    "$$\n",
    "while the educated guesses $\\hat{Y}_{\\langle T \\rangle}$ are our beliefs about real $Y$ at time stamp $T$. \n",
    "\n",
    "## Architecture: Feed-backward\n",
    "\n",
    "Let us clearly define our loss function to make sure we have a proper grip of our mistakes. \n",
    "$$\\mathcal{L} = \\sum_t \\sum_k L(\\hat{y}_{\\langle t,k \\rangle} - y_{\\langle t,k \\rangle})^2$$\n",
    "and we can compute the gradient \n",
    "$$\\triangledown = \\frac{\\partial \\mathcal{L}}{\\partial a}$$\n",
    "and then with respect with parameters $w$ and $b$\n",
    "$$\\frac{\\partial \\triangledown}{\\partial w}, \\frac{\\partial \\triangledown}{\\partial a}$$\n",
    "and now with perspective of where we make our mistakes according to our parameters we can go backward\n",
    "$$\n",
    "\\text{Information in:} \\leftarrow\n",
    "\\underbrace{\n",
    "\\begin{matrix}\n",
    "Y_{\\langle 1 \\rangle}, \\{\\hat{Y}_{\\langle 1 \\rangle}, ..., \\hat{Y}_{\\langle k \\rangle}\\} & Y_{\\langle 2 \\rangle}, \\{\\hat{Y}_{\\langle 1 \\rangle}, ..., \\hat{Y}_{\\langle k \\rangle}\\} &       & Y_{\\langle T \\rangle}, \\{\\hat{Y}_{\\langle 1 \\rangle}, ..., \\hat{Y}_{\\langle k \\rangle}\\} \\\\\n",
    "\\uparrow               & \\uparrow               &       & \\uparrow \\\\\n",
    "X_{\\langle 1 \\rangle} \\leftarrow    & X_{\\langle 2 \\rangle} \\leftarrow    & \\dots \\leftarrow & X_{\\langle T \\rangle} \\\\\n",
    "\\uparrow               & \\uparrow               &       & \\uparrow \\\\\n",
    "w'_{\\langle 1 \\rangle}, b'_{0, \\langle 1 \\rangle}    & w'_{\\langle 2 \\rangle}, b'_{0, \\langle 2 \\rangle}    &       & w'_{\\langle T \\rangle}, b'_{0, \\langle T \\rangle} \\\\\n",
    "\\end{matrix}}_{\\text{Update: } w, b \\text{ with } w', b'}\n",
    "\\leftarrow\n",
    "\\text{Total Loss: } \\mathcal{L} (\\hat{y}, y)\n",
    "$$\n",
    "and the *update* action in the above architecture is dependent on your optimizer specified in the algorithm."
   ]
  },
  {
   "cell_type": "markdown",
   "metadata": {},
   "source": [
    "## Part 1: Data Processing"
   ]
  },
  {
   "cell_type": "code",
   "execution_count": 1,
   "metadata": {},
   "outputs": [],
   "source": [
    "# libraries\n",
    "import pandas as pd\n",
    "import numpy as np\n",
    "import yfinance as yf"
   ]
  },
  {
   "cell_type": "code",
   "execution_count": 67,
   "metadata": {},
   "outputs": [],
   "source": [
    "# set parameters\n",
    "start_date       =   '2013-01-01'\n",
    "end_date         =   '2021-01-02'\n",
    "ticker           =   'AAPL'\n",
    "w                =   3\n",
    "h                =   5\n",
    "cutoff           =   0.8\n",
    "numOfHiddenLayer =   2\n",
    "numOfDense       =   2\n",
    "l1_units         =   50\n",
    "l2_units         =   50\n",
    "l2_units         =   50\n",
    "l3_units         =   50\n",
    "l4_units         =   30\n",
    "l5_units         =   10\n",
    "dropOutRate       =  0.2\n",
    "optimizer        =   'adam'\n",
    "loss             =   'mean_squared_error'\n",
    "useDice          =   True\n",
    "epochs           =   50\n",
    "batch_size       =   64\n",
    "plotGraph        =   True\n",
    "verbose          =   True"
   ]
  },
  {
   "cell_type": "code",
   "execution_count": 3,
   "metadata": {},
   "outputs": [
    {
     "name": "stdout",
     "output_type": "stream",
     "text": [
      "[*********************100%***********************]  1 of 1 completed\n"
     ]
    }
   ],
   "source": [
    "# get data\n",
    "stockData = yf.download(ticker, start_date, end_date)"
   ]
  },
  {
   "cell_type": "markdown",
   "metadata": {},
   "source": [
    "We make the following simple assumptions:\n",
    "- the explanatory data matrix $X$ is the downloaded stock data except the first row\n",
    "- the response data matrix $Y$ is the downloaded stock data except the last row\n",
    "- this way we are using stock data at $t$ to predict stock data at $t+1$\n",
    "- the information in the response data matrix $Y$: open, high, low, close, adjusted close"
   ]
  },
  {
   "cell_type": "code",
   "execution_count": 68,
   "metadata": {},
   "outputs": [],
   "source": [
    "stockData = stockData.iloc[:,:5]"
   ]
  },
  {
   "cell_type": "code",
   "execution_count": 69,
   "metadata": {},
   "outputs": [
    {
     "data": {
      "text/html": [
       "<div>\n",
       "<style scoped>\n",
       "    .dataframe tbody tr th:only-of-type {\n",
       "        vertical-align: middle;\n",
       "    }\n",
       "\n",
       "    .dataframe tbody tr th {\n",
       "        vertical-align: top;\n",
       "    }\n",
       "\n",
       "    .dataframe thead th {\n",
       "        text-align: right;\n",
       "    }\n",
       "</style>\n",
       "<table border=\"1\" class=\"dataframe\">\n",
       "  <thead>\n",
       "    <tr style=\"text-align: right;\">\n",
       "      <th></th>\n",
       "      <th>Open</th>\n",
       "      <th>High</th>\n",
       "      <th>Low</th>\n",
       "      <th>Close</th>\n",
       "      <th>Adj Close</th>\n",
       "    </tr>\n",
       "    <tr>\n",
       "      <th>Date</th>\n",
       "      <th></th>\n",
       "      <th></th>\n",
       "      <th></th>\n",
       "      <th></th>\n",
       "      <th></th>\n",
       "    </tr>\n",
       "  </thead>\n",
       "  <tbody>\n",
       "    <tr>\n",
       "      <th>2013-01-02</th>\n",
       "      <td>19.779285</td>\n",
       "      <td>19.821428</td>\n",
       "      <td>19.343929</td>\n",
       "      <td>19.608213</td>\n",
       "      <td>16.985447</td>\n",
       "    </tr>\n",
       "    <tr>\n",
       "      <th>2013-01-03</th>\n",
       "      <td>19.567142</td>\n",
       "      <td>19.631071</td>\n",
       "      <td>19.321428</td>\n",
       "      <td>19.360714</td>\n",
       "      <td>16.771053</td>\n",
       "    </tr>\n",
       "  </tbody>\n",
       "</table>\n",
       "</div>"
      ],
      "text/plain": [
       "                 Open       High        Low      Close  Adj Close\n",
       "Date                                                             \n",
       "2013-01-02  19.779285  19.821428  19.343929  19.608213  16.985447\n",
       "2013-01-03  19.567142  19.631071  19.321428  19.360714  16.771053"
      ]
     },
     "execution_count": 69,
     "metadata": {},
     "output_type": "execute_result"
    }
   ],
   "source": [
    "stockData.head(2)"
   ]
  },
  {
   "cell_type": "code",
   "execution_count": 70,
   "metadata": {},
   "outputs": [
    {
     "data": {
      "text/html": [
       "<div>\n",
       "<style scoped>\n",
       "    .dataframe tbody tr th:only-of-type {\n",
       "        vertical-align: middle;\n",
       "    }\n",
       "\n",
       "    .dataframe tbody tr th {\n",
       "        vertical-align: top;\n",
       "    }\n",
       "\n",
       "    .dataframe thead th {\n",
       "        text-align: right;\n",
       "    }\n",
       "</style>\n",
       "<table border=\"1\" class=\"dataframe\">\n",
       "  <thead>\n",
       "    <tr style=\"text-align: right;\">\n",
       "      <th></th>\n",
       "      <th>Open</th>\n",
       "      <th>High</th>\n",
       "      <th>Low</th>\n",
       "      <th>Close</th>\n",
       "      <th>Adj Close</th>\n",
       "    </tr>\n",
       "    <tr>\n",
       "      <th>Date</th>\n",
       "      <th></th>\n",
       "      <th></th>\n",
       "      <th></th>\n",
       "      <th></th>\n",
       "      <th></th>\n",
       "    </tr>\n",
       "  </thead>\n",
       "  <tbody>\n",
       "    <tr>\n",
       "      <th>2013-01-07</th>\n",
       "      <td>18.642857</td>\n",
       "      <td>18.903570</td>\n",
       "      <td>18.400000</td>\n",
       "      <td>18.710714</td>\n",
       "      <td>16.207998</td>\n",
       "    </tr>\n",
       "    <tr>\n",
       "      <th>2013-01-08</th>\n",
       "      <td>18.900356</td>\n",
       "      <td>18.996071</td>\n",
       "      <td>18.616072</td>\n",
       "      <td>18.761070</td>\n",
       "      <td>16.251616</td>\n",
       "    </tr>\n",
       "  </tbody>\n",
       "</table>\n",
       "</div>"
      ],
      "text/plain": [
       "                 Open       High        Low      Close  Adj Close\n",
       "Date                                                             \n",
       "2013-01-07  18.642857  18.903570  18.400000  18.710714  16.207998\n",
       "2013-01-08  18.900356  18.996071  18.616072  18.761070  16.251616"
      ]
     },
     "execution_count": 70,
     "metadata": {},
     "output_type": "execute_result"
    }
   ],
   "source": [
    "stockData.iloc[w::,].head(2)"
   ]
  },
  {
   "cell_type": "code",
   "execution_count": 71,
   "metadata": {},
   "outputs": [
    {
     "data": {
      "text/plain": [
       "(2012, 5)"
      ]
     },
     "execution_count": 71,
     "metadata": {},
     "output_type": "execute_result"
    }
   ],
   "source": [
    "stockData.iloc[w::,].shape"
   ]
  },
  {
   "cell_type": "code",
   "execution_count": 72,
   "metadata": {},
   "outputs": [
    {
     "data": {
      "text/html": [
       "<div>\n",
       "<style scoped>\n",
       "    .dataframe tbody tr th:only-of-type {\n",
       "        vertical-align: middle;\n",
       "    }\n",
       "\n",
       "    .dataframe tbody tr th {\n",
       "        vertical-align: top;\n",
       "    }\n",
       "\n",
       "    .dataframe thead th {\n",
       "        text-align: right;\n",
       "    }\n",
       "</style>\n",
       "<table border=\"1\" class=\"dataframe\">\n",
       "  <thead>\n",
       "    <tr style=\"text-align: right;\">\n",
       "      <th></th>\n",
       "      <th>Open</th>\n",
       "      <th>High</th>\n",
       "      <th>Low</th>\n",
       "      <th>Close</th>\n",
       "      <th>Adj Close</th>\n",
       "    </tr>\n",
       "    <tr>\n",
       "      <th>Date</th>\n",
       "      <th></th>\n",
       "      <th></th>\n",
       "      <th></th>\n",
       "      <th></th>\n",
       "      <th></th>\n",
       "    </tr>\n",
       "  </thead>\n",
       "  <tbody>\n",
       "    <tr>\n",
       "      <th>2013-01-02</th>\n",
       "      <td>19.779285</td>\n",
       "      <td>19.821428</td>\n",
       "      <td>19.343929</td>\n",
       "      <td>19.608213</td>\n",
       "      <td>16.985447</td>\n",
       "    </tr>\n",
       "    <tr>\n",
       "      <th>2013-01-03</th>\n",
       "      <td>19.567142</td>\n",
       "      <td>19.631071</td>\n",
       "      <td>19.321428</td>\n",
       "      <td>19.360714</td>\n",
       "      <td>16.771053</td>\n",
       "    </tr>\n",
       "  </tbody>\n",
       "</table>\n",
       "</div>"
      ],
      "text/plain": [
       "                 Open       High        Low      Close  Adj Close\n",
       "Date                                                             \n",
       "2013-01-02  19.779285  19.821428  19.343929  19.608213  16.985447\n",
       "2013-01-03  19.567142  19.631071  19.321428  19.360714  16.771053"
      ]
     },
     "execution_count": 72,
     "metadata": {},
     "output_type": "execute_result"
    }
   ],
   "source": [
    "stockData.iloc[0:int(stockData.shape[0]-w),].head(2)"
   ]
  },
  {
   "cell_type": "code",
   "execution_count": 73,
   "metadata": {},
   "outputs": [
    {
     "data": {
      "text/plain": [
       "(2012, 5)"
      ]
     },
     "execution_count": 73,
     "metadata": {},
     "output_type": "execute_result"
    }
   ],
   "source": [
    "stockData.iloc[0:int(stockData.shape[0]-w),].shape"
   ]
  },
  {
   "cell_type": "code",
   "execution_count": 74,
   "metadata": {},
   "outputs": [],
   "source": [
    "Y = stockData.iloc[w::, ]\n",
    "# X = stockData.iloc[0:int(stockData.shape[0]-w),]"
   ]
  },
  {
   "cell_type": "code",
   "execution_count": 75,
   "metadata": {},
   "outputs": [],
   "source": [
    "X = np.arange(0, Y.shape[0]*w*h, 1).reshape(Y.shape[0], w*h)\n",
    "for i in range(0,int(stockData.shape[0]-w)):\n",
    "    X[i,] = np.array(stockData.iloc[i:(i+w),]).reshape(1, w*h)"
   ]
  },
  {
   "cell_type": "code",
   "execution_count": 81,
   "metadata": {},
   "outputs": [
    {
     "name": "stdout",
     "output_type": "stream",
     "text": [
      "(2012, 15)\n",
      "(2012, 5)\n"
     ]
    }
   ],
   "source": [
    "print(X.shape)\n",
    "print(Y.shape)"
   ]
  },
  {
   "cell_type": "code",
   "execution_count": 82,
   "metadata": {},
   "outputs": [],
   "source": [
    "X_train = X[0:round(X.shape[0]*cutoff), ]\n",
    "X_test = X[round(X.shape[0]*cutoff):X.shape[0], ]"
   ]
  },
  {
   "cell_type": "code",
   "execution_count": 83,
   "metadata": {},
   "outputs": [],
   "source": [
    "y_train = Y.iloc[0:round(Y.shape[0]*cutoff), ]\n",
    "y_test = Y.iloc[round(Y.shape[0]*cutoff):Y.shape[0], ]"
   ]
  },
  {
   "cell_type": "code",
   "execution_count": 84,
   "metadata": {},
   "outputs": [],
   "source": [
    "X_train = np.array(X_train).reshape(X_train.shape[0], w, h)\n",
    "X_test = np.array(X_test).reshape(X_test.shape[0], w, h)"
   ]
  },
  {
   "cell_type": "code",
   "execution_count": 85,
   "metadata": {},
   "outputs": [
    {
     "name": "stdout",
     "output_type": "stream",
     "text": [
      "(1610, 3, 5)\n",
      "(402, 3, 5)\n",
      "(1610, 5)\n",
      "(402, 5)\n"
     ]
    }
   ],
   "source": [
    "print(X_train.shape)\n",
    "print(X_test.shape)\n",
    "print(y_train.shape)\n",
    "print(y_test.shape)"
   ]
  },
  {
   "cell_type": "markdown",
   "metadata": {},
   "source": [
    "## Part 2: Design a Neural Sequence Translation Architecture"
   ]
  },
  {
   "cell_type": "code",
   "execution_count": 11,
   "metadata": {},
   "outputs": [],
   "source": [
    "### Build RNN\n",
    "# Importing the Keras libraries and packages\n",
    "from keras.models import Sequential\n",
    "from keras.layers import Dense\n",
    "from keras.layers import LSTM\n",
    "from keras.layers import Dropout\n",
    "import time\n",
    "\n",
    "# Initialize RNN\n",
    "begintime = time.time()\n",
    "regressor = Sequential()"
   ]
  },
  {
   "cell_type": "code",
   "execution_count": 12,
   "metadata": {},
   "outputs": [],
   "source": [
    "# Design hidden layers\n",
    "if numOfHiddenLayer == 2:\n",
    "    # Adding the first LSTM layer and some Dropout regularisation\n",
    "    regressor.add(LSTM(units = l1_units, return_sequences = True, input_shape = (w, h)))\n",
    "    regressor.add(Dropout(dropOutRate))\n",
    "\n",
    "    # Adding a second LSTM layer and some Dropout regularisation\n",
    "    regressor.add(LSTM(units = l2_units))\n",
    "    regressor.add(Dropout(dropOutRate))\n",
    "\n",
    "elif numOfHiddenLayer == 3:\n",
    "    # Adding the first LSTM layer and some Dropout regularisation\n",
    "    regressor.add(LSTM(units = l1_units, return_sequences = True, input_shape = (w, h)))\n",
    "    regressor.add(Dropout(dropOutRate))\n",
    "\n",
    "    # Adding a second LSTM layer and some Dropout regularisation\n",
    "    regressor.add(LSTM(units = l2_units, return_sequences = True))\n",
    "    regressor.add(Dropout(dropOutRate))\n",
    "\n",
    "    # Adding a third LSTM layer and some Dropout regularisation\n",
    "    regressor.add(LSTM(units = l3_units))\n",
    "    regressor.add(Dropout(dropOutRate))\n",
    "\n",
    "elif numOfHiddenLayer == 4:\n",
    "    # Adding the first LSTM layer and some Dropout regularisation\n",
    "    regressor.add(LSTM(units = l1_units, return_sequences = True, input_shape = (w, h)))\n",
    "    regressor.add(Dropout(dropOutRate))\n",
    "\n",
    "    # Adding a second LSTM layer and some Dropout regularisation\n",
    "    regressor.add(LSTM(units = l2_units, return_sequences = True))\n",
    "    regressor.add(Dropout(dropOutRate))\n",
    "\n",
    "    # Adding a third LSTM layer and some Dropout regularisation\n",
    "    regressor.add(LSTM(units = l3_units, return_sequences = True))\n",
    "    regressor.add(Dropout(dropOutRate))\n",
    "\n",
    "    # Adding a fourth LSTM layer and some Dropout regularisation\n",
    "    regressor.add(LSTM(units = l4_units))\n",
    "    regressor.add(Dropout(dropOutRate))\n",
    "\n",
    "elif numOfHiddenLayer == 5:\n",
    "    # Adding the first LSTM layer and some Dropout regularisation\n",
    "    regressor.add(LSTM(units = l1_units, return_sequences = True, input_shape = (w, h)))\n",
    "    regressor.add(Dropout(dropOutRate))\n",
    "\n",
    "    # Adding a second LSTM layer and some Dropout regularisation\n",
    "    regressor.add(LSTM(units = l2_units, return_sequences = True))\n",
    "    regressor.add(Dropout(dropOutRate))\n",
    "\n",
    "    # Adding a third LSTM layer and some Dropout regularisation\n",
    "    regressor.add(LSTM(units = l3_units, return_sequences = True))\n",
    "    regressor.add(Dropout(dropOutRate))\n",
    "\n",
    "    # Adding a fourth LSTM layer and some Dropout regularisation\n",
    "    regressor.add(LSTM(units = l4_units, return_sequences = True))\n",
    "    regressor.add(Dropout(dropOutRate))\n",
    "\n",
    "    # Adding a fifth LSTM layer and some Dropout regularisation\n",
    "    regressor.add(LSTM(units = l5_units))\n",
    "    regressor.add(Dropout(dropOutRate))"
   ]
  },
  {
   "cell_type": "code",
   "execution_count": 13,
   "metadata": {},
   "outputs": [],
   "source": [
    "if numOfDense == 1:\n",
    "    regressor.add(Dense(units = l1_units))\n",
    "elif numOfDense == 2:\n",
    "    regressor.add(Dense(units = l1_units))\n",
    "    regressor.add(Dense(units = l2_units))\n",
    "elif numOfDense == 3:\n",
    "    regressor.add(Dense(units = l1_units))\n",
    "    regressor.add(Dense(units = l2_units))\n",
    "    regressor.add(Dense(units = l3_units))\n",
    "else:\n",
    "    if verbose:\n",
    "        print(\"Options are 1, 2, or 3. Reset to one dense layer.\")\n",
    "    regressor.add(Dense(units = l1_units))"
   ]
  },
  {
   "cell_type": "code",
   "execution_count": 14,
   "metadata": {},
   "outputs": [],
   "source": [
    "# Adding the output layer\n",
    "regressor.add(Dense(units = y_train.shape[1]))\n",
    "endtime = time.time()"
   ]
  },
  {
   "cell_type": "code",
   "execution_count": 15,
   "metadata": {},
   "outputs": [
    {
     "name": "stdout",
     "output_type": "stream",
     "text": [
      "--------------------------------------------\n",
      "Let us investigate the sequential models.\n",
      "Model: \"sequential\"\n",
      "_________________________________________________________________\n",
      "Layer (type)                 Output Shape              Param #   \n",
      "=================================================================\n",
      "lstm (LSTM)                  (None, 1, 50)             11200     \n",
      "_________________________________________________________________\n",
      "dropout (Dropout)            (None, 1, 50)             0         \n",
      "_________________________________________________________________\n",
      "lstm_1 (LSTM)                (None, 50)                20200     \n",
      "_________________________________________________________________\n",
      "dropout_1 (Dropout)          (None, 50)                0         \n",
      "_________________________________________________________________\n",
      "dense (Dense)                (None, 50)                2550      \n",
      "_________________________________________________________________\n",
      "dense_1 (Dense)              (None, 50)                2550      \n",
      "_________________________________________________________________\n",
      "dense_2 (Dense)              (None, 5)                 255       \n",
      "=================================================================\n",
      "Total params: 36,755\n",
      "Trainable params: 36,755\n",
      "Non-trainable params: 0\n",
      "_________________________________________________________________\n",
      "--------------------------------------------\n",
      "Time Consumption (in sec): 0.5608959197998047\n",
      "Time Consumption (in min): 0.01\n",
      "Time Consumption (in hr): 0.0 2\n",
      "--------------------------------------------\n"
     ]
    }
   ],
   "source": [
    "# Summary\n",
    "if verbose:\n",
    "    print(\"--------------------------------------------\")\n",
    "    print('Let us investigate the sequential models.')\n",
    "    regressor.summary()\n",
    "    print(\"--------------------------------------------\")\n",
    "    print(\"Time Consumption (in sec):\", endtime - begintime)\n",
    "    print(\"Time Consumption (in min):\", round((endtime - begintime)/60, 2))\n",
    "    print(\"Time Consumption (in hr):\", round((endtime - begintime)/60)/60, 2)\n",
    "    print(\"--------------------------------------------\")"
   ]
  },
  {
   "cell_type": "code",
   "execution_count": 16,
   "metadata": {},
   "outputs": [],
   "source": [
    "### Train RNN\n",
    "# Compiling the RNN\n",
    "start = time.time()\n",
    "regressor.compile(optimizer = optimizer, loss = loss)"
   ]
  },
  {
   "cell_type": "code",
   "execution_count": 17,
   "metadata": {},
   "outputs": [
    {
     "name": "stdout",
     "output_type": "stream",
     "text": [
      "Epoch 1/50\n",
      "26/26 [==============================] - 0s 2ms/step - loss: 975.9548\n",
      "Epoch 2/50\n",
      "26/26 [==============================] - 0s 2ms/step - loss: 402.5273\n",
      "Epoch 3/50\n",
      "26/26 [==============================] - 0s 2ms/step - loss: 121.0379\n",
      "Epoch 4/50\n",
      "26/26 [==============================] - 0s 2ms/step - loss: 57.3364\n",
      "Epoch 5/50\n",
      "26/26 [==============================] - 0s 2ms/step - loss: 18.3166\n",
      "Epoch 6/50\n",
      "26/26 [==============================] - 0s 2ms/step - loss: 15.2377\n",
      "Epoch 7/50\n",
      "26/26 [==============================] - 0s 2ms/step - loss: 15.3012\n",
      "Epoch 8/50\n",
      "26/26 [==============================] - 0s 2ms/step - loss: 13.8575\n",
      "Epoch 9/50\n",
      "26/26 [==============================] - 0s 2ms/step - loss: 13.9711\n",
      "Epoch 10/50\n",
      "26/26 [==============================] - 0s 2ms/step - loss: 13.3281\n",
      "Epoch 11/50\n",
      "26/26 [==============================] - 0s 2ms/step - loss: 11.7598\n",
      "Epoch 12/50\n",
      "26/26 [==============================] - 0s 2ms/step - loss: 11.8819\n",
      "Epoch 13/50\n",
      "26/26 [==============================] - 0s 2ms/step - loss: 12.6755\n",
      "Epoch 14/50\n",
      "26/26 [==============================] - 0s 2ms/step - loss: 11.9943\n",
      "Epoch 15/50\n",
      "26/26 [==============================] - 0s 2ms/step - loss: 11.4635\n",
      "Epoch 16/50\n",
      "26/26 [==============================] - 0s 2ms/step - loss: 10.5602\n",
      "Epoch 17/50\n",
      "26/26 [==============================] - 0s 2ms/step - loss: 10.2187\n",
      "Epoch 18/50\n",
      "26/26 [==============================] - 0s 2ms/step - loss: 9.2756\n",
      "Epoch 19/50\n",
      "26/26 [==============================] - 0s 2ms/step - loss: 13.0110\n",
      "Epoch 20/50\n",
      "26/26 [==============================] - 0s 2ms/step - loss: 11.3993\n",
      "Epoch 21/50\n",
      "26/26 [==============================] - 0s 2ms/step - loss: 11.3626\n",
      "Epoch 22/50\n",
      "26/26 [==============================] - 0s 2ms/step - loss: 11.1412\n",
      "Epoch 23/50\n",
      "26/26 [==============================] - 0s 2ms/step - loss: 13.2285\n",
      "Epoch 24/50\n",
      "26/26 [==============================] - 0s 2ms/step - loss: 9.4888\n",
      "Epoch 25/50\n",
      "26/26 [==============================] - 0s 2ms/step - loss: 9.7381\n",
      "Epoch 26/50\n",
      "26/26 [==============================] - 0s 2ms/step - loss: 9.8821\n",
      "Epoch 27/50\n",
      "26/26 [==============================] - 0s 2ms/step - loss: 9.0824\n",
      "Epoch 28/50\n",
      "26/26 [==============================] - 0s 2ms/step - loss: 10.0117\n",
      "Epoch 29/50\n",
      "26/26 [==============================] - 0s 2ms/step - loss: 9.4941\n",
      "Epoch 30/50\n",
      "26/26 [==============================] - 0s 2ms/step - loss: 9.3191\n",
      "Epoch 31/50\n",
      "26/26 [==============================] - 0s 2ms/step - loss: 8.7322\n",
      "Epoch 32/50\n",
      "26/26 [==============================] - 0s 2ms/step - loss: 9.7405\n",
      "Epoch 33/50\n",
      "26/26 [==============================] - 0s 2ms/step - loss: 9.0818\n",
      "Epoch 34/50\n",
      "26/26 [==============================] - 0s 2ms/step - loss: 8.3553\n",
      "Epoch 35/50\n",
      "26/26 [==============================] - 0s 2ms/step - loss: 8.3977\n",
      "Epoch 36/50\n",
      "26/26 [==============================] - 0s 2ms/step - loss: 8.3642\n",
      "Epoch 37/50\n",
      "26/26 [==============================] - 0s 2ms/step - loss: 8.0647\n",
      "Epoch 38/50\n",
      "26/26 [==============================] - 0s 2ms/step - loss: 7.7624\n",
      "Epoch 39/50\n",
      "26/26 [==============================] - 0s 2ms/step - loss: 10.5335\n",
      "Epoch 40/50\n",
      "26/26 [==============================] - 0s 2ms/step - loss: 8.2340\n",
      "Epoch 41/50\n",
      "26/26 [==============================] - 0s 2ms/step - loss: 8.1108\n",
      "Epoch 42/50\n",
      "26/26 [==============================] - 0s 2ms/step - loss: 7.7061\n",
      "Epoch 43/50\n",
      "26/26 [==============================] - 0s 2ms/step - loss: 7.8378\n",
      "Epoch 44/50\n",
      "26/26 [==============================] - 0s 2ms/step - loss: 7.2066\n",
      "Epoch 45/50\n",
      "26/26 [==============================] - 0s 2ms/step - loss: 8.6772\n",
      "Epoch 46/50\n",
      "26/26 [==============================] - 0s 2ms/step - loss: 6.9049\n",
      "Epoch 47/50\n",
      "26/26 [==============================] - 0s 2ms/step - loss: 7.5237\n",
      "Epoch 48/50\n",
      "26/26 [==============================] - 0s 2ms/step - loss: 7.5495\n",
      "Epoch 49/50\n",
      "26/26 [==============================] - 0s 2ms/step - loss: 7.4927\n",
      "Epoch 50/50\n",
      "26/26 [==============================] - 0s 2ms/step - loss: 7.9964\n"
     ]
    }
   ],
   "source": [
    "# Fitting the RNN to the Training set\n",
    "regressor.fit(X_train, y_train, epochs = epochs, batch_size = batch_size)\n",
    "end = time.time()"
   ]
  },
  {
   "cell_type": "code",
   "execution_count": 18,
   "metadata": {},
   "outputs": [
    {
     "name": "stdout",
     "output_type": "stream",
     "text": [
      "Time Consumption: 5.037174701690674\n"
     ]
    }
   ],
   "source": [
    "# Time Check\n",
    "if verbose == True: \n",
    "    print('Time Consumption:', end - start)"
   ]
  },
  {
   "cell_type": "markdown",
   "metadata": {},
   "source": [
    "## Part 3: Predictions and Performance Visualization"
   ]
  },
  {
   "cell_type": "code",
   "execution_count": 19,
   "metadata": {},
   "outputs": [],
   "source": [
    "### Predictions\n",
    "predicted_stock_price = regressor.predict(X_test)"
   ]
  },
  {
   "cell_type": "code",
   "execution_count": 20,
   "metadata": {},
   "outputs": [],
   "source": [
    "real_stock_price = y_test"
   ]
  },
  {
   "cell_type": "code",
   "execution_count": 21,
   "metadata": {},
   "outputs": [
    {
     "data": {
      "image/png": "[encoded data removed]",
      "text/plain": [
       "<Figure size 720x432 with 2 Axes>"
      ]
     },
     "metadata": {
      "needs_background": "light"
     },
     "output_type": "display_data"
    }
   ],
   "source": [
    "# Visualising the results\n",
    "import matplotlib.pyplot as plt\n",
    "if plotGraph:\n",
    "    fig, axs = plt.subplots(2, figsize = (10,6))\n",
    "    fig.suptitle(f'Real (Up) vs. Estimate (Down) {ticker} Stock Price')\n",
    "    axs[0].plot(real_stock_price, color = 'red', label = f'Real {ticker} Stock Price')\n",
    "    axs[1].plot(predicted_stock_price, color = 'blue', label = f'Predicted {ticker} Stock Price')"
   ]
  },
  {
   "cell_type": "code",
   "execution_count": 22,
   "metadata": {},
   "outputs": [
    {
     "data": {
      "image/png": "[encoded data removed]",
      "text/plain": [
       "<Mpf_Figure size 1000x700 with 2 Axes>"
      ]
     },
     "metadata": {},
     "output_type": "display_data"
    }
   ],
   "source": [
    "import pandas as pd\n",
    "import mplfinance as mpf\n",
    "\n",
    "predicted_stock_price = pd.DataFrame(predicted_stock_price)\n",
    "predicted_stock_price.columns = real_stock_price.columns\n",
    "predicted_stock_price.index = real_stock_price.index\n",
    "\n",
    "s = mpf.make_mpf_style(base_mpf_style='charles', rc={'font.size': 6})\n",
    "fig = mpf.figure(figsize=(10, 7), style=s) # pass in the self defined style to the whole canvas\n",
    "ax = fig.add_subplot(2,1,1) # main candle stick chart subplot, you can also pass in the self defined style here only for this subplot\n",
    "av = fig.add_subplot(2,1,2, sharex=ax)  # volume chart subplot\n",
    "\n",
    "df1 = real_stock_price\n",
    "mpf.plot(df1, type='candle', style='yahoo', ax=ax, volume=False)\n",
    "\n",
    "df2 = predicted_stock_price\n",
    "mpf.plot(df2, type='candle', style='yahoo', ax=av)"
   ]
  },
  {
   "cell_type": "markdown",
   "metadata": {},
   "source": [
    "## Part 4: Software Development"
   ]
  },
  {
   "cell_type": "code",
   "execution_count": null,
   "metadata": {},
   "outputs": [],
   "source": [
    "from YinCapital_forecast.modules import Neural_Sequence_Translation"
   ]
  },
  {
   "cell_type": "code",
   "execution_count": 3,
   "metadata": {},
   "outputs": [],
   "source": [
    "from YinCapital_forecast.modules import Neural_Sequence_Translation"
   ]
  },
  {
   "cell_type": "code",
   "execution_count": 5,
   "metadata": {},
   "outputs": [
    {
     "name": "stdout",
     "output_type": "stream",
     "text": [
      "------------------------------------------------------------------------------\n",
      "\n",
      "            MANUAL: To install this python package, please use the following code.\n",
      "\n",
      "            # In a python notebook:\n",
      "            # !pip install git+https://github.com/yiqiao-yin/YinPortfolioManagement.git\n",
      "            # In a command line:\n",
      "            # pip install git+https://github.com/yiqiao-yin/YinPortfolioManagement.git\n",
      "\n",
      "            # Run\n",
      "            tmp = RNN_Regressor(\n",
      "                start_date       =   '2013-01-01',\n",
      "                end_date         =   '2021-01-01',\n",
      "                ticker           =   'AAPL',\n",
      "                w                =   1,\n",
      "                h                =   5,\n",
      "                cutoff           =   0.8,\n",
      "                numOfHiddenLayer =   3,\n",
      "                numOfDense       =   2,\n",
      "                l1_units         =   50,\n",
      "                l2_units         =   50,\n",
      "                l2_units         =   50,\n",
      "                l3_units         =   50,\n",
      "                l4_units         =   30,\n",
      "                l5_units         =   10,\n",
      "                dropOutRate       =  0.2,\n",
      "                optimizer        =   'adam',\n",
      "                loss             =   'mean_squared_error',\n",
      "                useDice          =   True,\n",
      "                epochs           =   50,\n",
      "                batch_size       =   64,\n",
      "                plotGraph        =   True,\n",
      "                useMPLFinancePlot=   True,\n",
      "                verbose          =   True )\n",
      "                    \n",
      "            # Cite\n",
      "            # All Rights Reserved. © Yiqiao Yin\n",
      "            \n",
      "------------------------------------------------------------------------------\n",
      "[*********************100%***********************]  1 of 1 completed\n",
      "(1816, 10, 5)\n",
      "(96, 10, 5)\n",
      "(1816, 5)\n",
      "(96, 5)\n",
      "--------------------------------------------\n",
      "Let us investigate the sequential models.\n",
      "Model: \"sequential_1\"\n",
      "_________________________________________________________________\n",
      "Layer (type)                 Output Shape              Param #   \n",
      "=================================================================\n",
      "lstm_3 (LSTM)                (None, 10, 512)           1060864   \n",
      "_________________________________________________________________\n",
      "dropout_3 (Dropout)          (None, 10, 512)           0         \n",
      "_________________________________________________________________\n",
      "lstm_4 (LSTM)                (None, 10, 384)           1377792   \n",
      "_________________________________________________________________\n",
      "dropout_4 (Dropout)          (None, 10, 384)           0         \n",
      "_________________________________________________________________\n",
      "lstm_5 (LSTM)                (None, 128)               262656    \n",
      "_________________________________________________________________\n",
      "dropout_5 (Dropout)          (None, 128)               0         \n",
      "_________________________________________________________________\n",
      "dense_4 (Dense)              (None, 512)               66048     \n",
      "_________________________________________________________________\n",
      "dense_5 (Dense)              (None, 384)               196992    \n",
      "_________________________________________________________________\n",
      "dense_6 (Dense)              (None, 128)               49280     \n",
      "_________________________________________________________________\n",
      "dense_7 (Dense)              (None, 5)                 645       \n",
      "=================================================================\n",
      "Total params: 3,014,277\n",
      "Trainable params: 3,014,277\n",
      "Non-trainable params: 0\n",
      "_________________________________________________________________\n",
      "--------------------------------------------\n",
      "Time Consumption (in sec): 1.3268210887908936\n",
      "Time Consumption (in min): 0.02\n",
      "Time Consumption (in hr): 0.0 2\n",
      "--------------------------------------------\n",
      "Epoch 1/120\n",
      "29/29 [==============================] - 2s 76ms/step - loss: 1203.7684\n",
      "Epoch 2/120\n",
      "29/29 [==============================] - 2s 76ms/step - loss: 126.5041\n",
      "Epoch 3/120\n",
      "29/29 [==============================] - 2s 78ms/step - loss: 37.9912\n",
      "Epoch 4/120\n",
      "29/29 [==============================] - 2s 77ms/step - loss: 30.5475\n",
      "Epoch 5/120\n",
      "29/29 [==============================] - 2s 78ms/step - loss: 23.7973\n",
      "Epoch 6/120\n",
      "29/29 [==============================] - 2s 77ms/step - loss: 23.1222\n",
      "Epoch 7/120\n",
      "29/29 [==============================] - 2s 77ms/step - loss: 23.1733\n",
      "Epoch 8/120\n",
      "29/29 [==============================] - 2s 78ms/step - loss: 28.7798\n",
      "Epoch 9/120\n",
      "29/29 [==============================] - 2s 78ms/step - loss: 21.0777\n",
      "Epoch 10/120\n",
      "29/29 [==============================] - 2s 77ms/step - loss: 21.0831\n",
      "Epoch 11/120\n",
      "29/29 [==============================] - 2s 78ms/step - loss: 18.9545\n",
      "Epoch 12/120\n",
      "29/29 [==============================] - 2s 78ms/step - loss: 25.7861\n",
      "Epoch 13/120\n",
      "29/29 [==============================] - 2s 78ms/step - loss: 20.4471\n",
      "Epoch 14/120\n",
      "29/29 [==============================] - 2s 78ms/step - loss: 24.0425\n",
      "Epoch 15/120\n",
      "29/29 [==============================] - 2s 78ms/step - loss: 24.4204\n",
      "Epoch 16/120\n",
      "29/29 [==============================] - 2s 77ms/step - loss: 27.8023\n",
      "Epoch 17/120\n",
      "29/29 [==============================] - 2s 78ms/step - loss: 25.0574\n",
      "Epoch 18/120\n",
      "29/29 [==============================] - 2s 78ms/step - loss: 19.4424\n",
      "Epoch 19/120\n",
      "29/29 [==============================] - 2s 79ms/step - loss: 17.5832\n",
      "Epoch 20/120\n",
      "29/29 [==============================] - 2s 78ms/step - loss: 18.3424\n",
      "Epoch 21/120\n",
      "29/29 [==============================] - 2s 78ms/step - loss: 21.7334\n",
      "Epoch 22/120\n",
      "29/29 [==============================] - 2s 79ms/step - loss: 18.7671\n",
      "Epoch 23/120\n",
      "29/29 [==============================] - 2s 80ms/step - loss: 19.8465\n",
      "Epoch 24/120\n",
      "29/29 [==============================] - 2s 79ms/step - loss: 20.6497\n",
      "Epoch 25/120\n",
      "29/29 [==============================] - 2s 79ms/step - loss: 19.2226\n",
      "Epoch 26/120\n",
      "29/29 [==============================] - 2s 79ms/step - loss: 15.1620\n",
      "Epoch 27/120\n",
      "29/29 [==============================] - 2s 77ms/step - loss: 21.2819\n",
      "Epoch 28/120\n",
      "29/29 [==============================] - 2s 77ms/step - loss: 18.0126\n",
      "Epoch 29/120\n",
      "29/29 [==============================] - 2s 77ms/step - loss: 21.0566\n",
      "Epoch 30/120\n",
      "29/29 [==============================] - 2s 77ms/step - loss: 19.3397\n",
      "Epoch 31/120\n",
      "29/29 [==============================] - 2s 77ms/step - loss: 18.2638\n",
      "Epoch 32/120\n",
      "29/29 [==============================] - 2s 77ms/step - loss: 19.5988\n",
      "Epoch 33/120\n",
      "29/29 [==============================] - 2s 79ms/step - loss: 18.5160\n",
      "Epoch 34/120\n",
      "29/29 [==============================] - 2s 78ms/step - loss: 25.5711\n",
      "Epoch 35/120\n",
      "29/29 [==============================] - 2s 78ms/step - loss: 15.6815\n",
      "Epoch 36/120\n",
      "29/29 [==============================] - 2s 78ms/step - loss: 20.3713\n",
      "Epoch 37/120\n",
      "29/29 [==============================] - 2s 78ms/step - loss: 19.6186\n",
      "Epoch 38/120\n",
      "29/29 [==============================] - 2s 77ms/step - loss: 21.8435\n",
      "Epoch 39/120\n",
      "29/29 [==============================] - 2s 78ms/step - loss: 14.9749\n",
      "Epoch 40/120\n",
      "29/29 [==============================] - 2s 79ms/step - loss: 13.3068\n",
      "Epoch 41/120\n",
      "29/29 [==============================] - 2s 78ms/step - loss: 20.2631\n",
      "Epoch 42/120\n",
      "29/29 [==============================] - 2s 77ms/step - loss: 13.9991\n",
      "Epoch 43/120\n",
      "29/29 [==============================] - 2s 77ms/step - loss: 14.9814\n",
      "Epoch 44/120\n",
      "29/29 [==============================] - 2s 78ms/step - loss: 13.6296\n",
      "Epoch 45/120\n",
      "29/29 [==============================] - 2s 77ms/step - loss: 16.4906\n",
      "Epoch 46/120\n",
      "29/29 [==============================] - 2s 78ms/step - loss: 16.7796\n",
      "Epoch 47/120\n",
      "29/29 [==============================] - 2s 77ms/step - loss: 14.8785\n",
      "Epoch 48/120\n",
      "29/29 [==============================] - 2s 77ms/step - loss: 14.7261\n",
      "Epoch 49/120\n",
      "29/29 [==============================] - 2s 78ms/step - loss: 14.3413\n",
      "Epoch 50/120\n",
      "29/29 [==============================] - 2s 78ms/step - loss: 16.7226\n",
      "Epoch 51/120\n",
      "29/29 [==============================] - 2s 77ms/step - loss: 20.5985\n",
      "Epoch 52/120\n",
      "29/29 [==============================] - 2s 77ms/step - loss: 14.3016\n",
      "Epoch 53/120\n",
      "29/29 [==============================] - 2s 78ms/step - loss: 16.2835\n",
      "Epoch 54/120\n",
      "29/29 [==============================] - 2s 77ms/step - loss: 10.8179\n",
      "Epoch 55/120\n",
      "29/29 [==============================] - 2s 77ms/step - loss: 11.3972\n",
      "Epoch 56/120\n",
      "29/29 [==============================] - 2s 77ms/step - loss: 12.1132\n",
      "Epoch 57/120\n",
      "29/29 [==============================] - 2s 77ms/step - loss: 11.1441\n",
      "Epoch 58/120\n",
      "29/29 [==============================] - 2s 77ms/step - loss: 15.0103\n",
      "Epoch 59/120\n",
      "29/29 [==============================] - 2s 77ms/step - loss: 20.6301\n",
      "Epoch 60/120\n",
      "29/29 [==============================] - 2s 79ms/step - loss: 15.2805\n",
      "Epoch 61/120\n",
      "29/29 [==============================] - 2s 77ms/step - loss: 16.3166\n",
      "Epoch 62/120\n",
      "29/29 [==============================] - 2s 77ms/step - loss: 12.4748\n",
      "Epoch 63/120\n",
      "29/29 [==============================] - 2s 78ms/step - loss: 16.5417\n",
      "Epoch 64/120\n",
      "29/29 [==============================] - 2s 78ms/step - loss: 13.0439\n",
      "Epoch 65/120\n",
      "29/29 [==============================] - 2s 77ms/step - loss: 11.9479\n",
      "Epoch 66/120\n",
      "29/29 [==============================] - 2s 78ms/step - loss: 10.4051\n",
      "Epoch 67/120\n",
      "29/29 [==============================] - 3s 93ms/step - loss: 9.5696\n",
      "Epoch 68/120\n",
      "29/29 [==============================] - 3s 95ms/step - loss: 11.6256\n",
      "Epoch 69/120\n",
      "29/29 [==============================] - 3s 98ms/step - loss: 12.3199\n",
      "Epoch 70/120\n",
      "29/29 [==============================] - 3s 87ms/step - loss: 12.2003\n",
      "Epoch 71/120\n",
      "29/29 [==============================] - 3s 87ms/step - loss: 9.0157\n",
      "Epoch 72/120\n",
      "29/29 [==============================] - 2s 86ms/step - loss: 11.0406\n",
      "Epoch 73/120\n",
      "29/29 [==============================] - 2s 85ms/step - loss: 13.3917\n",
      "Epoch 74/120\n",
      "29/29 [==============================] - 3s 88ms/step - loss: 10.2653\n",
      "Epoch 75/120\n",
      "29/29 [==============================] - 2s 85ms/step - loss: 9.2797\n",
      "Epoch 76/120\n",
      "29/29 [==============================] - 2s 85ms/step - loss: 11.6011\n",
      "Epoch 77/120\n",
      "29/29 [==============================] - 3s 90ms/step - loss: 12.3534\n",
      "Epoch 78/120\n",
      "29/29 [==============================] - 3s 93ms/step - loss: 10.0703\n",
      "Epoch 79/120\n",
      "29/29 [==============================] - 3s 92ms/step - loss: 11.3842\n",
      "Epoch 80/120\n",
      "29/29 [==============================] - 3s 94ms/step - loss: 10.7513\n",
      "Epoch 81/120\n",
      "29/29 [==============================] - 3s 97ms/step - loss: 9.2724\n",
      "Epoch 82/120\n",
      "29/29 [==============================] - 3s 97ms/step - loss: 9.4746\n",
      "Epoch 83/120\n",
      "29/29 [==============================] - 3s 99ms/step - loss: 9.5875\n",
      "Epoch 84/120\n",
      "29/29 [==============================] - 3s 101ms/step - loss: 9.2114\n",
      "Epoch 85/120\n",
      "29/29 [==============================] - 3s 103ms/step - loss: 9.1024\n",
      "Epoch 86/120\n",
      "29/29 [==============================] - 3s 92ms/step - loss: 8.6655\n",
      "Epoch 87/120\n",
      "29/29 [==============================] - 3s 96ms/step - loss: 11.7489\n",
      "Epoch 88/120\n",
      "29/29 [==============================] - 3s 98ms/step - loss: 11.9409\n",
      "Epoch 89/120\n",
      "29/29 [==============================] - 3s 92ms/step - loss: 12.6401\n",
      "Epoch 90/120\n",
      "29/29 [==============================] - 3s 92ms/step - loss: 8.8484\n",
      "Epoch 91/120\n",
      "29/29 [==============================] - 3s 91ms/step - loss: 9.2127\n",
      "Epoch 92/120\n",
      "29/29 [==============================] - 3s 93ms/step - loss: 11.9918\n",
      "Epoch 93/120\n",
      "29/29 [==============================] - 3s 93ms/step - loss: 10.4834\n",
      "Epoch 94/120\n",
      "29/29 [==============================] - 3s 97ms/step - loss: 13.5018\n",
      "Epoch 95/120\n",
      "29/29 [==============================] - 3s 99ms/step - loss: 8.3712\n",
      "Epoch 96/120\n",
      "29/29 [==============================] - 3s 98ms/step - loss: 11.2339\n",
      "Epoch 97/120\n",
      "29/29 [==============================] - 3s 97ms/step - loss: 14.9995\n",
      "Epoch 98/120\n",
      "29/29 [==============================] - 3s 95ms/step - loss: 9.3347\n",
      "Epoch 99/120\n",
      "29/29 [==============================] - 3s 88ms/step - loss: 8.3770\n",
      "Epoch 100/120\n",
      "29/29 [==============================] - 3s 97ms/step - loss: 8.7356\n",
      "Epoch 101/120\n",
      "29/29 [==============================] - 3s 99ms/step - loss: 7.2758\n",
      "Epoch 102/120\n",
      "29/29 [==============================] - 3s 99ms/step - loss: 9.5257\n",
      "Epoch 103/120\n",
      "29/29 [==============================] - 3s 100ms/step - loss: 11.9184\n",
      "Epoch 104/120\n",
      "29/29 [==============================] - 3s 99ms/step - loss: 9.2421\n",
      "Epoch 105/120\n",
      "29/29 [==============================] - 3s 96ms/step - loss: 11.5470\n",
      "Epoch 106/120\n",
      "29/29 [==============================] - 3s 99ms/step - loss: 8.2173\n",
      "Epoch 107/120\n",
      "29/29 [==============================] - 3s 98ms/step - loss: 9.2677\n",
      "Epoch 108/120\n",
      "29/29 [==============================] - 3s 97ms/step - loss: 9.4436\n",
      "Epoch 109/120\n",
      "29/29 [==============================] - 3s 97ms/step - loss: 13.1758\n",
      "Epoch 110/120\n",
      "29/29 [==============================] - 3s 96ms/step - loss: 13.3162\n",
      "Epoch 111/120\n",
      "29/29 [==============================] - 3s 93ms/step - loss: 9.8906\n",
      "Epoch 112/120\n",
      "29/29 [==============================] - 3s 98ms/step - loss: 8.9412\n",
      "Epoch 113/120\n",
      "29/29 [==============================] - 3s 96ms/step - loss: 9.4502\n",
      "Epoch 114/120\n",
      "29/29 [==============================] - 3s 98ms/step - loss: 7.9171\n",
      "Epoch 115/120\n",
      "29/29 [==============================] - 3s 99ms/step - loss: 7.8258\n",
      "Epoch 116/120\n",
      "29/29 [==============================] - 3s 103ms/step - loss: 11.3965\n",
      "Epoch 117/120\n",
      "29/29 [==============================] - 3s 97ms/step - loss: 11.0404\n",
      "Epoch 118/120\n",
      "29/29 [==============================] - 3s 97ms/step - loss: 8.4877\n",
      "Epoch 119/120\n",
      "29/29 [==============================] - 3s 98ms/step - loss: 9.5985\n",
      "Epoch 120/120\n",
      "29/29 [==============================] - 3s 91ms/step - loss: 8.6449\n",
      "Time Consumption: 312.2600951194763\n"
     ]
    },
    {
     "data": {
      "image/png": "[encoded data removed]",
      "text/plain": [
       "<Mpf_Figure size 1000x700 with 2 Axes>"
      ]
     },
     "metadata": {},
     "output_type": "display_data"
    }
   ],
   "source": [
    "tmp = Neural_Sequence_Translation(\n",
    "        start_date       =   '2014-01-01',\n",
    "        end_date         =   '2021-08-20',\n",
    "        ticker           =   'AAPL',\n",
    "        w                =   10 ,\n",
    "        h                =   5,\n",
    "        cutoff           =   0.95,\n",
    "        numOfHiddenLayer =   3,\n",
    "        numOfDense       =   3,\n",
    "        l1_units         =   128*4,\n",
    "        l2_units         =   128*3,\n",
    "        l3_units         =   128,\n",
    "        l4_units         =   30,\n",
    "        l5_units         =   10,\n",
    "        dropOutRate       =  0.3,\n",
    "        optimizer        =   'adam',\n",
    "        loss             =   'mean_squared_error',\n",
    "        epochs           =   120,\n",
    "        batch_size       =   64,\n",
    "        plotGraph        =   False,\n",
    "        verbose          =   True )"
   ]
  },
  {
   "cell_type": "markdown",
   "metadata": {},
   "source": [
    "Ends here."
   ]
  }
 ],
 "metadata": {
  "kernelspec": {
   "display_name": "Python 3",
   "language": "python",
   "name": "python3"
  },
  "language_info": {
   "codemirror_mode": {
    "name": "ipython",
    "version": 3
   },
   "file_extension": ".py",
   "mimetype": "text/x-python",
   "name": "python",
   "nbconvert_exporter": "python",
   "pygments_lexer": "ipython3",
   "version": "3.8.3"
  }
 },
 "nbformat": 4,
 "nbformat_minor": 4
}
