{
 "cells": [
  {
   "cell_type": "markdown",
   "metadata": {},
   "source": [
    "# Money Management: Stock Price Forecasting Using Neural Sequence Translation\n",
    "\n",
    "Neural Sequence Translation (NST) is an tweak version of Recurrent Neural Network which not just forecasts a point in the future but an entire vector in the future. Just like [Neural Machine Translation](https://arxiv.org/abs/1409.0473), this notebook explores this upgrade philosophy and apply this idea in a singular stock data.\n",
    "\n",
    "Stock price today is probably dependent on:\n",
    "- The trend it has been folloing from the previous day.\n",
    "- The price it was traded at from previous day.\n",
    "- Some other factors that may affect stock price today.\n",
    "\n",
    "Generalize intuition from above to the following:\n",
    "- The previous cell state (i.e. the information that was present in the memory after the previous time step).\n",
    "- The previous hidden state (i.e. this is the same as the output of the previous cell).\n",
    "- The input at the current time step (i.e. the new information that is being fed in at that moment).\n",
    "\n",
    "In this notebook, we cover\n",
    "- Part 1 - Data Preprocessing\n",
    "- Part 2 - Construct NST Architecture\n",
    "- Part 3 - Predictions and Performance Visualization\n",
    "\n",
    "A Production of [Yin's Capital](www.YinsCapital.com)"
   ]
  },
  {
   "cell_type": "markdown",
   "metadata": {},
   "source": [
    "## Recurrent Neural Network (a sequential model)\n",
    "\n",
    "Given data $X$ and $Y$, we want to feed information forward into a time stamp. Then we form some belief and we make some initial predictions. We investigate our beliefs by looking at the loss function of the initial guesses and the real value. We update our model according to error we observed. \n",
    "\n",
    "## Architecture: Feed-forward\n",
    "\n",
    "Consider data with time stamp\n",
    "$$X_{\\langle 1 \\rangle} \\rightarrow X_{\\langle 2 \\rangle} \\rightarrow \\dots \\rightarrow X_{\\langle T \\rangle}$$\n",
    "and feed-forward architecture pass information through exactly as the following:\n",
    "$$\n",
    "\\text{Information in:} \\rightarrow\n",
    "\\begin{matrix}\n",
    "\\{Y_{\\langle 1 \\rangle}, ..., Y_{\\langle k \\rangle}\\} & \\{Y_{\\langle 1 \\rangle}, ..., Y_{\\langle k \\rangle}\\} &       & \\{Y_{\\langle 1 \\rangle}, ..., Y_{\\langle k \\rangle}\\} \\\\\n",
    "\\updownarrow               & \\updownarrow               &       & \\updownarrow \\\\\n",
    "\\{\\hat{Y}_{\\langle 1 \\rangle}, ..., \\hat{Y}_{\\langle k \\rangle}\\} & \\{\\hat{Y}_{\\langle 1 \\rangle}, ..., \\hat{Y}_{\\langle k \\rangle}\\} &       & \\{\\hat{Y}_{\\langle 1 \\rangle}, ..., \\hat{Y}_{\\langle k \\rangle}\\} \\\\\n",
    "\\uparrow               & \\uparrow               &       & \\uparrow \\\\\n",
    "X_{\\langle 1 \\rangle} \\rightarrow    & X_{\\langle 2 \\rangle} \\rightarrow    & \\dots \\rightarrow & X_{\\langle T \\rangle} \\\\\n",
    "\\uparrow               & \\uparrow               &       & \\uparrow \\\\\n",
    "w_{\\langle 1 \\rangle}, b_{0, \\langle 1 \\rangle}    & w_{\\langle 2 \\rangle}, b_{0, \\langle 2 \\rangle}    &       & w_{\\langle T \\rangle}, b_{0, \\langle T \\rangle} \\\\\n",
    "\\end{matrix}\n",
    "\\rightarrow\n",
    "\\text{Form beliefs about } Y_{\\langle T \\rangle}\n",
    "$$\n",
    "while the educated guesses $\\hat{Y}_{\\langle T \\rangle}$ are our beliefs about real $Y$ at time stamp $T$. \n",
    "\n",
    "## Architecture: Feed-backward\n",
    "\n",
    "Let us clearly define our loss function to make sure we have a proper grip of our mistakes. \n",
    "$$\\mathcal{L} = \\sum_t \\sum_k L(\\hat{y}_{\\langle t,k \\rangle} - y_{\\langle t,k \\rangle})^2$$\n",
    "and we can compute the gradient \n",
    "$$\\triangledown = \\frac{\\partial \\mathcal{L}}{\\partial a}$$\n",
    "and then with respect with parameters $w$ and $b$\n",
    "$$\\frac{\\partial \\triangledown}{\\partial w}, \\frac{\\partial \\triangledown}{\\partial a}$$\n",
    "and now with perspective of where we make our mistakes according to our parameters we can go backward\n",
    "$$\n",
    "\\text{Information in:} \\leftarrow\n",
    "\\underbrace{\n",
    "\\begin{matrix}\n",
    "\\{Y_{\\langle 1 \\rangle}, ..., Y_{\\langle k \\rangle}\\} & \\{Y_{\\langle 1 \\rangle}, ..., Y_{\\langle k \\rangle}\\} &       & \\{Y_{\\langle 1 \\rangle}, ..., Y_{\\langle k \\rangle}\\} \\\\\n",
    "\\updownarrow               & \\updownarrow               &       & \\updownarrow \\\\\n",
    "\\{\\hat{Y}_{\\langle 1 \\rangle}, ..., \\hat{Y}_{\\langle k \\rangle}\\} & \\{\\hat{Y}_{\\langle 1 \\rangle}, ..., \\hat{Y}_{\\langle k \\rangle}\\} &       & \\{\\hat{Y}_{\\langle 1 \\rangle}, ..., \\hat{Y}_{\\langle k \\rangle}\\} \\\\\n",
    "\\uparrow               & \\uparrow               &       & \\uparrow \\\\\n",
    "X_{\\langle 1 \\rangle} \\leftarrow    & X_{\\langle 2 \\rangle} \\leftarrow    & \\dots \\leftarrow & X_{\\langle T \\rangle} \\\\\n",
    "\\uparrow               & \\uparrow               &       & \\uparrow \\\\\n",
    "w'_{\\langle 1 \\rangle}, b'_{0, \\langle 1 \\rangle}    & w'_{\\langle 2 \\rangle}, b'_{0, \\langle 2 \\rangle}    &       & w'_{\\langle T \\rangle}, b'_{0, \\langle T \\rangle} \\\\\n",
    "\\end{matrix}}_{\\text{Update: } w, b \\text{ with } w', b'}\n",
    "\\leftarrow\n",
    "\\text{Total Loss: } \\mathcal{L} (\\hat{y}, y)\n",
    "$$\n",
    "and the *update* action in the above architecture is dependent on your optimizer specified in the algorithm."
   ]
  },
  {
   "cell_type": "code",
   "execution_count": 1,
   "metadata": {},
   "outputs": [],
   "source": [
    "import pandas as pd\n",
    "import numpy as np\n",
    "import yfinance as yf"
   ]
  },
  {
   "cell_type": "code",
   "execution_count": 2,
   "metadata": {},
   "outputs": [],
   "source": [
    "start_date = '2013-01-01'\n",
    "end_date = '2021-01-01'\n",
    "ticker = 'AAPL'\n",
    "w = 1\n",
    "h = 5"
   ]
  },
  {
   "cell_type": "code",
   "execution_count": 3,
   "metadata": {},
   "outputs": [
    {
     "name": "stdout",
     "output_type": "stream",
     "text": [
      "[*********************100%***********************]  1 of 1 completed\n"
     ]
    }
   ],
   "source": [
    "stockData = yf.download(ticker, start_date, end_date)"
   ]
  },
  {
   "cell_type": "code",
   "execution_count": 4,
   "metadata": {},
   "outputs": [
    {
     "data": {
      "text/html": [
       "<div>\n",
       "<style scoped>\n",
       "    .dataframe tbody tr th:only-of-type {\n",
       "        vertical-align: middle;\n",
       "    }\n",
       "\n",
       "    .dataframe tbody tr th {\n",
       "        vertical-align: top;\n",
       "    }\n",
       "\n",
       "    .dataframe thead th {\n",
       "        text-align: right;\n",
       "    }\n",
       "</style>\n",
       "<table border=\"1\" class=\"dataframe\">\n",
       "  <thead>\n",
       "    <tr style=\"text-align: right;\">\n",
       "      <th></th>\n",
       "      <th>Open</th>\n",
       "      <th>High</th>\n",
       "      <th>Low</th>\n",
       "      <th>Close</th>\n",
       "      <th>Adj Close</th>\n",
       "      <th>Volume</th>\n",
       "    </tr>\n",
       "    <tr>\n",
       "      <th>Date</th>\n",
       "      <th></th>\n",
       "      <th></th>\n",
       "      <th></th>\n",
       "      <th></th>\n",
       "      <th></th>\n",
       "      <th></th>\n",
       "    </tr>\n",
       "  </thead>\n",
       "  <tbody>\n",
       "    <tr>\n",
       "      <th>2013-01-02</th>\n",
       "      <td>19.779285</td>\n",
       "      <td>19.821428</td>\n",
       "      <td>19.343929</td>\n",
       "      <td>19.608213</td>\n",
       "      <td>16.985447</td>\n",
       "      <td>560518000</td>\n",
       "    </tr>\n",
       "    <tr>\n",
       "      <th>2013-01-03</th>\n",
       "      <td>19.567142</td>\n",
       "      <td>19.631071</td>\n",
       "      <td>19.321428</td>\n",
       "      <td>19.360714</td>\n",
       "      <td>16.771053</td>\n",
       "      <td>352965200</td>\n",
       "    </tr>\n",
       "  </tbody>\n",
       "</table>\n",
       "</div>"
      ],
      "text/plain": [
       "                 Open       High        Low      Close  Adj Close     Volume\n",
       "Date                                                                        \n",
       "2013-01-02  19.779285  19.821428  19.343929  19.608213  16.985447  560518000\n",
       "2013-01-03  19.567142  19.631071  19.321428  19.360714  16.771053  352965200"
      ]
     },
     "execution_count": 4,
     "metadata": {},
     "output_type": "execute_result"
    }
   ],
   "source": [
    "stockData.head(2)"
   ]
  },
  {
   "cell_type": "code",
   "execution_count": 5,
   "metadata": {},
   "outputs": [],
   "source": [
    "stockData = stockData.iloc[:,:5]"
   ]
  },
  {
   "cell_type": "code",
   "execution_count": 6,
   "metadata": {},
   "outputs": [
    {
     "data": {
      "text/html": [
       "<div>\n",
       "<style scoped>\n",
       "    .dataframe tbody tr th:only-of-type {\n",
       "        vertical-align: middle;\n",
       "    }\n",
       "\n",
       "    .dataframe tbody tr th {\n",
       "        vertical-align: top;\n",
       "    }\n",
       "\n",
       "    .dataframe thead th {\n",
       "        text-align: right;\n",
       "    }\n",
       "</style>\n",
       "<table border=\"1\" class=\"dataframe\">\n",
       "  <thead>\n",
       "    <tr style=\"text-align: right;\">\n",
       "      <th></th>\n",
       "      <th>Open</th>\n",
       "      <th>High</th>\n",
       "      <th>Low</th>\n",
       "      <th>Close</th>\n",
       "      <th>Adj Close</th>\n",
       "    </tr>\n",
       "    <tr>\n",
       "      <th>Date</th>\n",
       "      <th></th>\n",
       "      <th></th>\n",
       "      <th></th>\n",
       "      <th></th>\n",
       "      <th></th>\n",
       "    </tr>\n",
       "  </thead>\n",
       "  <tbody>\n",
       "    <tr>\n",
       "      <th>2013-01-02</th>\n",
       "      <td>19.779285</td>\n",
       "      <td>19.821428</td>\n",
       "      <td>19.343929</td>\n",
       "      <td>19.608213</td>\n",
       "      <td>16.985447</td>\n",
       "    </tr>\n",
       "    <tr>\n",
       "      <th>2013-01-03</th>\n",
       "      <td>19.567142</td>\n",
       "      <td>19.631071</td>\n",
       "      <td>19.321428</td>\n",
       "      <td>19.360714</td>\n",
       "      <td>16.771053</td>\n",
       "    </tr>\n",
       "  </tbody>\n",
       "</table>\n",
       "</div>"
      ],
      "text/plain": [
       "                 Open       High        Low      Close  Adj Close\n",
       "Date                                                             \n",
       "2013-01-02  19.779285  19.821428  19.343929  19.608213  16.985447\n",
       "2013-01-03  19.567142  19.631071  19.321428  19.360714  16.771053"
      ]
     },
     "execution_count": 6,
     "metadata": {},
     "output_type": "execute_result"
    }
   ],
   "source": [
    "stockData.head(2)"
   ]
  },
  {
   "cell_type": "markdown",
   "metadata": {},
   "source": [
    "note:\n",
    "- $X$: explanatory data matrix\n",
    "- $Y$: response data matrix"
   ]
  },
  {
   "cell_type": "code",
   "execution_count": 7,
   "metadata": {},
   "outputs": [],
   "source": [
    "Y = stockData.iloc[1::,]"
   ]
  },
  {
   "cell_type": "code",
   "execution_count": 8,
   "metadata": {},
   "outputs": [
    {
     "data": {
      "text/html": [
       "<div>\n",
       "<style scoped>\n",
       "    .dataframe tbody tr th:only-of-type {\n",
       "        vertical-align: middle;\n",
       "    }\n",
       "\n",
       "    .dataframe tbody tr th {\n",
       "        vertical-align: top;\n",
       "    }\n",
       "\n",
       "    .dataframe thead th {\n",
       "        text-align: right;\n",
       "    }\n",
       "</style>\n",
       "<table border=\"1\" class=\"dataframe\">\n",
       "  <thead>\n",
       "    <tr style=\"text-align: right;\">\n",
       "      <th></th>\n",
       "      <th>Open</th>\n",
       "      <th>High</th>\n",
       "      <th>Low</th>\n",
       "      <th>Close</th>\n",
       "      <th>Adj Close</th>\n",
       "    </tr>\n",
       "    <tr>\n",
       "      <th>Date</th>\n",
       "      <th></th>\n",
       "      <th></th>\n",
       "      <th></th>\n",
       "      <th></th>\n",
       "      <th></th>\n",
       "    </tr>\n",
       "  </thead>\n",
       "  <tbody>\n",
       "    <tr>\n",
       "      <th>2013-01-03</th>\n",
       "      <td>19.567142</td>\n",
       "      <td>19.631071</td>\n",
       "      <td>19.321428</td>\n",
       "      <td>19.360714</td>\n",
       "      <td>16.771053</td>\n",
       "    </tr>\n",
       "    <tr>\n",
       "      <th>2013-01-04</th>\n",
       "      <td>19.177500</td>\n",
       "      <td>19.236786</td>\n",
       "      <td>18.779642</td>\n",
       "      <td>18.821428</td>\n",
       "      <td>16.303900</td>\n",
       "    </tr>\n",
       "  </tbody>\n",
       "</table>\n",
       "</div>"
      ],
      "text/plain": [
       "                 Open       High        Low      Close  Adj Close\n",
       "Date                                                             \n",
       "2013-01-03  19.567142  19.631071  19.321428  19.360714  16.771053\n",
       "2013-01-04  19.177500  19.236786  18.779642  18.821428  16.303900"
      ]
     },
     "execution_count": 8,
     "metadata": {},
     "output_type": "execute_result"
    }
   ],
   "source": [
    "Y.head(2)"
   ]
  },
  {
   "cell_type": "code",
   "execution_count": 9,
   "metadata": {},
   "outputs": [],
   "source": [
    "X = stockData.iloc[0:int(stockData.shape[0]-1),]"
   ]
  },
  {
   "cell_type": "code",
   "execution_count": 10,
   "metadata": {},
   "outputs": [
    {
     "data": {
      "text/html": [
       "<div>\n",
       "<style scoped>\n",
       "    .dataframe tbody tr th:only-of-type {\n",
       "        vertical-align: middle;\n",
       "    }\n",
       "\n",
       "    .dataframe tbody tr th {\n",
       "        vertical-align: top;\n",
       "    }\n",
       "\n",
       "    .dataframe thead th {\n",
       "        text-align: right;\n",
       "    }\n",
       "</style>\n",
       "<table border=\"1\" class=\"dataframe\">\n",
       "  <thead>\n",
       "    <tr style=\"text-align: right;\">\n",
       "      <th></th>\n",
       "      <th>Open</th>\n",
       "      <th>High</th>\n",
       "      <th>Low</th>\n",
       "      <th>Close</th>\n",
       "      <th>Adj Close</th>\n",
       "    </tr>\n",
       "    <tr>\n",
       "      <th>Date</th>\n",
       "      <th></th>\n",
       "      <th></th>\n",
       "      <th></th>\n",
       "      <th></th>\n",
       "      <th></th>\n",
       "    </tr>\n",
       "  </thead>\n",
       "  <tbody>\n",
       "    <tr>\n",
       "      <th>2013-01-02</th>\n",
       "      <td>19.779285</td>\n",
       "      <td>19.821428</td>\n",
       "      <td>19.343929</td>\n",
       "      <td>19.608213</td>\n",
       "      <td>16.985447</td>\n",
       "    </tr>\n",
       "    <tr>\n",
       "      <th>2013-01-03</th>\n",
       "      <td>19.567142</td>\n",
       "      <td>19.631071</td>\n",
       "      <td>19.321428</td>\n",
       "      <td>19.360714</td>\n",
       "      <td>16.771053</td>\n",
       "    </tr>\n",
       "  </tbody>\n",
       "</table>\n",
       "</div>"
      ],
      "text/plain": [
       "                 Open       High        Low      Close  Adj Close\n",
       "Date                                                             \n",
       "2013-01-02  19.779285  19.821428  19.343929  19.608213  16.985447\n",
       "2013-01-03  19.567142  19.631071  19.321428  19.360714  16.771053"
      ]
     },
     "execution_count": 10,
     "metadata": {},
     "output_type": "execute_result"
    }
   ],
   "source": [
    "X.head(2)"
   ]
  },
  {
   "cell_type": "code",
   "execution_count": 11,
   "metadata": {},
   "outputs": [],
   "source": [
    "cutoff = 0.95\n",
    "X_train = X.iloc[0:round(X.shape[0]*cutoff), ]\n",
    "X_test = X.iloc[round(X.shape[0]*cutoff):X.shape[0], ]"
   ]
  },
  {
   "cell_type": "code",
   "execution_count": 12,
   "metadata": {},
   "outputs": [],
   "source": [
    "y_train = Y.iloc[0:round(Y.shape[0]*cutoff), ]\n",
    "y_test = Y.iloc[round(Y.shape[0]*cutoff):Y.shape[0], ]"
   ]
  },
  {
   "cell_type": "code",
   "execution_count": 13,
   "metadata": {},
   "outputs": [],
   "source": [
    "X_train = np.array(X_train).reshape(X_train.shape[0], w, h)\n",
    "X_test = np.array(X_test).reshape(X_test.shape[0], w, h)"
   ]
  },
  {
   "cell_type": "code",
   "execution_count": 14,
   "metadata": {},
   "outputs": [
    {
     "name": "stdout",
     "output_type": "stream",
     "text": [
      "(1913, 1, 5)\n",
      "(101, 1, 5)\n",
      "(1913, 5)\n",
      "(101, 5)\n"
     ]
    }
   ],
   "source": [
    "print(X_train.shape)\n",
    "print(X_test.shape)\n",
    "print(y_train.shape)\n",
    "print(y_test.shape)\n"
   ]
  },
  {
   "cell_type": "code",
   "execution_count": 27,
   "metadata": {},
   "outputs": [],
   "source": [
    "import tensorflow as tf"
   ]
  },
  {
   "cell_type": "code",
   "execution_count": 29,
   "metadata": {},
   "outputs": [
    {
     "data": {
      "text/plain": [
       "tensorflow.python.keras.layers.dense_attention.AdditiveAttention"
      ]
     },
     "execution_count": 29,
     "metadata": {},
     "output_type": "execute_result"
    }
   ],
   "source": [
    "tf.keras.layers.AdditiveAttention"
   ]
  },
  {
   "cell_type": "code",
   "execution_count": 42,
   "metadata": {},
   "outputs": [],
   "source": [
    "from keras.models import Sequential\n",
    "from keras.layers import Dense\n",
    "from keras.layers import LSTM\n",
    "from keras.layers import Dropout"
   ]
  },
  {
   "cell_type": "code",
   "execution_count": 59,
   "metadata": {},
   "outputs": [],
   "source": [
    "regressor = Sequential()\n",
    "regressor.add(LSTM(units = 128*4, return_sequences = True, input_shape = (w, h)))\n",
    "regressor.add(Dropout(.3))\n",
    "regressor.add(LSTM(units = 128*3, return_sequences = True))\n",
    "regressor.add(Dropout(.2))\n",
    "regressor.add(LSTM(units = 128*2, return_sequences = True))\n",
    "regressor.add(Dropout(.1))\n",
    "regressor.add(Dense(units = 128))\n",
    "regressor.add(Dense(units = 64))\n",
    "regressor.add(Dense(units = 32))\n",
    "regressor.add(Dense(units = y_train.shape[1]))"
   ]
  },
  {
   "cell_type": "code",
   "execution_count": 60,
   "metadata": {},
   "outputs": [
    {
     "name": "stdout",
     "output_type": "stream",
     "text": [
      "Model: \"sequential_3\"\n",
      "_________________________________________________________________\n",
      "Layer (type)                 Output Shape              Param #   \n",
      "=================================================================\n",
      "lstm_6 (LSTM)                (None, 1, 512)            1060864   \n",
      "_________________________________________________________________\n",
      "dropout_6 (Dropout)          (None, 1, 512)            0         \n",
      "_________________________________________________________________\n",
      "lstm_7 (LSTM)                (None, 1, 384)            1377792   \n",
      "_________________________________________________________________\n",
      "dropout_7 (Dropout)          (None, 1, 384)            0         \n",
      "_________________________________________________________________\n",
      "lstm_8 (LSTM)                (None, 1, 256)            656384    \n",
      "_________________________________________________________________\n",
      "dropout_8 (Dropout)          (None, 1, 256)            0         \n",
      "_________________________________________________________________\n",
      "dense_10 (Dense)             (None, 1, 128)            32896     \n",
      "_________________________________________________________________\n",
      "dense_11 (Dense)             (None, 1, 64)             8256      \n",
      "_________________________________________________________________\n",
      "dense_12 (Dense)             (None, 1, 32)             2080      \n",
      "_________________________________________________________________\n",
      "dense_13 (Dense)             (None, 1, 5)              165       \n",
      "=================================================================\n",
      "Total params: 3,138,437\n",
      "Trainable params: 3,138,437\n",
      "Non-trainable params: 0\n",
      "_________________________________________________________________\n"
     ]
    }
   ],
   "source": [
    "regressor.summary()"
   ]
  },
  {
   "cell_type": "code",
   "execution_count": 61,
   "metadata": {},
   "outputs": [],
   "source": [
    "regressor.compile(optimizer = 'adam', loss = 'mean_squared_error')"
   ]
  },
  {
   "cell_type": "code",
   "execution_count": 62,
   "metadata": {},
   "outputs": [
    {
     "name": "stdout",
     "output_type": "stream",
     "text": [
      "Epoch 1/120\n",
      "60/60 [==============================] - 1s 15ms/step - loss: 525.2693\n",
      "Epoch 2/120\n",
      "60/60 [==============================] - 1s 16ms/step - loss: 322.4409\n",
      "Epoch 3/120\n",
      "60/60 [==============================] - 1s 15ms/step - loss: 325.4763\n",
      "Epoch 4/120\n",
      "60/60 [==============================] - 1s 15ms/step - loss: 323.9072\n",
      "Epoch 5/120\n",
      "60/60 [==============================] - 1s 15ms/step - loss: 324.9408\n",
      "Epoch 6/120\n",
      "60/60 [==============================] - 1s 16ms/step - loss: 324.7023\n",
      "Epoch 7/120\n",
      "60/60 [==============================] - 1s 15ms/step - loss: 325.8133\n",
      "Epoch 8/120\n",
      "60/60 [==============================] - 1s 15ms/step - loss: 321.3777\n",
      "Epoch 9/120\n",
      "60/60 [==============================] - 1s 16ms/step - loss: 326.6245\n",
      "Epoch 10/120\n",
      "60/60 [==============================] - 1s 15ms/step - loss: 329.4568\n",
      "Epoch 11/120\n",
      "60/60 [==============================] - 1s 16ms/step - loss: 324.8318\n",
      "Epoch 12/120\n",
      "60/60 [==============================] - 1s 15ms/step - loss: 323.7361\n",
      "Epoch 13/120\n",
      "60/60 [==============================] - 1s 15ms/step - loss: 326.2419\n",
      "Epoch 14/120\n",
      "60/60 [==============================] - 1s 15ms/step - loss: 327.2259\n",
      "Epoch 15/120\n",
      "60/60 [==============================] - 1s 16ms/step - loss: 326.6064\n",
      "Epoch 16/120\n",
      "60/60 [==============================] - 1s 16ms/step - loss: 325.6497\n",
      "Epoch 17/120\n",
      "60/60 [==============================] - 1s 15ms/step - loss: 327.8764\n",
      "Epoch 18/120\n",
      "60/60 [==============================] - 1s 16ms/step - loss: 332.6540\n",
      "Epoch 19/120\n",
      "60/60 [==============================] - 1s 16ms/step - loss: 330.9011\n",
      "Epoch 20/120\n",
      "60/60 [==============================] - 1s 15ms/step - loss: 324.9306\n",
      "Epoch 21/120\n",
      "60/60 [==============================] - 1s 15ms/step - loss: 323.7484\n",
      "Epoch 22/120\n",
      "60/60 [==============================] - 1s 15ms/step - loss: 322.8596\n",
      "Epoch 23/120\n",
      "60/60 [==============================] - 1s 15ms/step - loss: 324.1760\n",
      "Epoch 24/120\n",
      "60/60 [==============================] - 1s 16ms/step - loss: 321.1523\n",
      "Epoch 25/120\n",
      "60/60 [==============================] - 1s 16ms/step - loss: 324.7894\n",
      "Epoch 26/120\n",
      "60/60 [==============================] - 1s 16ms/step - loss: 323.3834: 0s - loss: 321.8\n",
      "Epoch 27/120\n",
      "60/60 [==============================] - 1s 17ms/step - loss: 323.2480\n",
      "Epoch 28/120\n",
      "60/60 [==============================] - 1s 16ms/step - loss: 327.7548\n",
      "Epoch 29/120\n",
      "60/60 [==============================] - 1s 16ms/step - loss: 322.4784\n",
      "Epoch 30/120\n",
      "60/60 [==============================] - 1s 16ms/step - loss: 327.1400\n",
      "Epoch 31/120\n",
      "60/60 [==============================] - 1s 16ms/step - loss: 324.1000\n",
      "Epoch 32/120\n",
      "60/60 [==============================] - 1s 15ms/step - loss: 323.5755\n",
      "Epoch 33/120\n",
      "60/60 [==============================] - 1s 16ms/step - loss: 324.7687\n",
      "Epoch 34/120\n",
      "60/60 [==============================] - 1s 16ms/step - loss: 322.8961\n",
      "Epoch 35/120\n",
      "60/60 [==============================] - 1s 16ms/step - loss: 323.9985\n",
      "Epoch 36/120\n",
      "60/60 [==============================] - 1s 16ms/step - loss: 324.1196\n",
      "Epoch 37/120\n",
      "60/60 [==============================] - 1s 16ms/step - loss: 322.1724\n",
      "Epoch 38/120\n",
      "60/60 [==============================] - 1s 16ms/step - loss: 321.7878\n",
      "Epoch 39/120\n",
      "60/60 [==============================] - 1s 16ms/step - loss: 325.5988\n",
      "Epoch 40/120\n",
      "60/60 [==============================] - 1s 16ms/step - loss: 327.6995\n",
      "Epoch 41/120\n",
      "60/60 [==============================] - 1s 16ms/step - loss: 322.8101\n",
      "Epoch 42/120\n",
      "60/60 [==============================] - 1s 16ms/step - loss: 322.7986\n",
      "Epoch 43/120\n",
      "60/60 [==============================] - 1s 16ms/step - loss: 321.8054\n",
      "Epoch 44/120\n",
      "60/60 [==============================] - 1s 16ms/step - loss: 329.0389\n",
      "Epoch 45/120\n",
      "60/60 [==============================] - 1s 16ms/step - loss: 322.2451\n",
      "Epoch 46/120\n",
      "60/60 [==============================] - 1s 16ms/step - loss: 322.4344\n",
      "Epoch 47/120\n",
      "60/60 [==============================] - 1s 16ms/step - loss: 322.5002\n",
      "Epoch 48/120\n",
      "60/60 [==============================] - 1s 16ms/step - loss: 322.6038\n",
      "Epoch 49/120\n",
      "60/60 [==============================] - 1s 16ms/step - loss: 327.4438\n",
      "Epoch 50/120\n",
      "60/60 [==============================] - 1s 16ms/step - loss: 321.1142\n",
      "Epoch 51/120\n",
      "60/60 [==============================] - 1s 16ms/step - loss: 324.3004\n",
      "Epoch 52/120\n",
      "60/60 [==============================] - 1s 16ms/step - loss: 324.2931\n",
      "Epoch 53/120\n",
      "60/60 [==============================] - 1s 16ms/step - loss: 325.8067\n",
      "Epoch 54/120\n",
      "60/60 [==============================] - 1s 16ms/step - loss: 321.7945\n",
      "Epoch 55/120\n",
      "60/60 [==============================] - 1s 16ms/step - loss: 321.4654\n",
      "Epoch 56/120\n",
      "60/60 [==============================] - 1s 16ms/step - loss: 323.5414\n",
      "Epoch 57/120\n",
      "60/60 [==============================] - 1s 16ms/step - loss: 324.8784\n",
      "Epoch 58/120\n",
      "60/60 [==============================] - 1s 16ms/step - loss: 322.6472\n",
      "Epoch 59/120\n",
      "60/60 [==============================] - 1s 16ms/step - loss: 321.5305\n",
      "Epoch 60/120\n",
      "60/60 [==============================] - 1s 16ms/step - loss: 323.9730\n",
      "Epoch 61/120\n",
      "60/60 [==============================] - 1s 16ms/step - loss: 322.8438\n",
      "Epoch 62/120\n",
      "60/60 [==============================] - 1s 16ms/step - loss: 322.7582\n",
      "Epoch 63/120\n",
      "60/60 [==============================] - 1s 16ms/step - loss: 323.8495\n",
      "Epoch 64/120\n",
      "60/60 [==============================] - 1s 16ms/step - loss: 322.2226\n",
      "Epoch 65/120\n",
      "60/60 [==============================] - 1s 16ms/step - loss: 325.4686\n",
      "Epoch 66/120\n",
      "60/60 [==============================] - 1s 16ms/step - loss: 325.1655\n",
      "Epoch 67/120\n",
      "60/60 [==============================] - 1s 16ms/step - loss: 324.2433\n",
      "Epoch 68/120\n",
      "60/60 [==============================] - 1s 16ms/step - loss: 323.0273\n",
      "Epoch 69/120\n",
      "60/60 [==============================] - 1s 16ms/step - loss: 326.0578\n",
      "Epoch 70/120\n",
      "60/60 [==============================] - 1s 16ms/step - loss: 325.7402\n",
      "Epoch 71/120\n",
      "60/60 [==============================] - 1s 16ms/step - loss: 325.5155\n",
      "Epoch 72/120\n",
      "60/60 [==============================] - 1s 16ms/step - loss: 322.8702\n",
      "Epoch 73/120\n",
      "60/60 [==============================] - 1s 17ms/step - loss: 325.4291\n",
      "Epoch 74/120\n",
      "60/60 [==============================] - 1s 17ms/step - loss: 323.8120\n",
      "Epoch 75/120\n",
      "60/60 [==============================] - 1s 16ms/step - loss: 323.2057\n",
      "Epoch 76/120\n",
      "60/60 [==============================] - 1s 16ms/step - loss: 322.8830\n",
      "Epoch 77/120\n",
      "60/60 [==============================] - 1s 17ms/step - loss: 322.6117\n",
      "Epoch 78/120\n",
      "60/60 [==============================] - 1s 17ms/step - loss: 323.1494\n",
      "Epoch 79/120\n",
      "60/60 [==============================] - 1s 16ms/step - loss: 321.4307\n",
      "Epoch 80/120\n",
      "60/60 [==============================] - 1s 16ms/step - loss: 322.5345\n",
      "Epoch 81/120\n",
      "60/60 [==============================] - 1s 16ms/step - loss: 323.0034\n",
      "Epoch 82/120\n",
      "60/60 [==============================] - 1s 16ms/step - loss: 327.0714\n",
      "Epoch 83/120\n",
      "60/60 [==============================] - 1s 16ms/step - loss: 326.3457\n",
      "Epoch 84/120\n",
      "60/60 [==============================] - 1s 16ms/step - loss: 324.3519\n",
      "Epoch 85/120\n",
      "60/60 [==============================] - 1s 16ms/step - loss: 323.0807\n",
      "Epoch 86/120\n",
      "60/60 [==============================] - 1s 16ms/step - loss: 322.5229\n",
      "Epoch 87/120\n",
      "60/60 [==============================] - 1s 16ms/step - loss: 322.1131\n",
      "Epoch 88/120\n",
      "60/60 [==============================] - 1s 16ms/step - loss: 322.4861\n",
      "Epoch 89/120\n",
      "60/60 [==============================] - 1s 16ms/step - loss: 322.5231\n",
      "Epoch 90/120\n",
      "60/60 [==============================] - 1s 16ms/step - loss: 323.6485\n",
      "Epoch 91/120\n",
      "60/60 [==============================] - 1s 16ms/step - loss: 324.7978\n",
      "Epoch 92/120\n",
      "60/60 [==============================] - 1s 16ms/step - loss: 322.6225\n",
      "Epoch 93/120\n",
      "60/60 [==============================] - 1s 16ms/step - loss: 321.4015\n",
      "Epoch 94/120\n",
      "60/60 [==============================] - 1s 15ms/step - loss: 323.8425\n",
      "Epoch 95/120\n",
      "60/60 [==============================] - 1s 16ms/step - loss: 322.4997\n",
      "Epoch 96/120\n",
      "60/60 [==============================] - 1s 16ms/step - loss: 324.0911\n",
      "Epoch 97/120\n",
      "60/60 [==============================] - 1s 16ms/step - loss: 324.2319\n",
      "Epoch 98/120\n",
      "60/60 [==============================] - 1s 16ms/step - loss: 324.4100: 0s - loss: 32\n",
      "Epoch 99/120\n",
      "60/60 [==============================] - 1s 16ms/step - loss: 325.7538\n",
      "Epoch 100/120\n",
      "60/60 [==============================] - 1s 16ms/step - loss: 323.9369\n",
      "Epoch 101/120\n",
      "60/60 [==============================] - 1s 16ms/step - loss: 324.3840\n",
      "Epoch 102/120\n",
      "60/60 [==============================] - 1s 16ms/step - loss: 322.3638\n",
      "Epoch 103/120\n",
      "60/60 [==============================] - 1s 16ms/step - loss: 321.4995\n",
      "Epoch 104/120\n",
      "60/60 [==============================] - 1s 16ms/step - loss: 324.7813\n",
      "Epoch 105/120\n",
      "60/60 [==============================] - 1s 16ms/step - loss: 326.0386\n",
      "Epoch 106/120\n",
      "60/60 [==============================] - 1s 16ms/step - loss: 322.1040\n",
      "Epoch 107/120\n",
      "60/60 [==============================] - 1s 15ms/step - loss: 324.5756\n",
      "Epoch 108/120\n",
      "60/60 [==============================] - 1s 15ms/step - loss: 321.3130\n",
      "Epoch 109/120\n",
      "60/60 [==============================] - 1s 16ms/step - loss: 320.4332\n",
      "Epoch 110/120\n",
      "60/60 [==============================] - 1s 16ms/step - loss: 321.1105\n",
      "Epoch 111/120\n",
      "60/60 [==============================] - 1s 16ms/step - loss: 322.3060\n",
      "Epoch 112/120\n",
      "60/60 [==============================] - 1s 15ms/step - loss: 324.2571\n",
      "Epoch 113/120\n",
      "60/60 [==============================] - 1s 16ms/step - loss: 321.0957\n",
      "Epoch 114/120\n",
      "60/60 [==============================] - 1s 16ms/step - loss: 321.4244\n",
      "Epoch 115/120\n",
      "60/60 [==============================] - 1s 16ms/step - loss: 324.2710\n",
      "Epoch 116/120\n",
      "60/60 [==============================] - 1s 16ms/step - loss: 325.2522\n",
      "Epoch 117/120\n",
      "60/60 [==============================] - 1s 16ms/step - loss: 326.2816\n",
      "Epoch 118/120\n",
      "60/60 [==============================] - 1s 17ms/step - loss: 328.3472\n",
      "Epoch 119/120\n",
      "60/60 [==============================] - 1s 16ms/step - loss: 322.4517\n",
      "Epoch 120/120\n",
      "60/60 [==============================] - 1s 16ms/step - loss: 321.9541\n"
     ]
    },
    {
     "data": {
      "text/plain": [
       "<tensorflow.python.keras.callbacks.History at 0x1e25e853130>"
      ]
     },
     "execution_count": 62,
     "metadata": {},
     "output_type": "execute_result"
    }
   ],
   "source": [
    "regressor.fit(X_train, y_train, epochs=120, batch_size = 32)"
   ]
  },
  {
   "cell_type": "code",
   "execution_count": 63,
   "metadata": {},
   "outputs": [],
   "source": [
    "import mplfinance as mpf"
   ]
  },
  {
   "cell_type": "code",
   "execution_count": 64,
   "metadata": {},
   "outputs": [],
   "source": [
    "predicted_stock_price = regressor.predict(X_test)"
   ]
  },
  {
   "cell_type": "code",
   "execution_count": 65,
   "metadata": {},
   "outputs": [],
   "source": [
    "real_stock_price = y_test"
   ]
  },
  {
   "cell_type": "code",
   "execution_count": 66,
   "metadata": {},
   "outputs": [
    {
     "data": {
      "text/plain": [
       "(101, 1, 5)"
      ]
     },
     "execution_count": 66,
     "metadata": {},
     "output_type": "execute_result"
    }
   ],
   "source": [
    "predicted_stock_price.shape"
   ]
  },
  {
   "cell_type": "code",
   "execution_count": 67,
   "metadata": {},
   "outputs": [],
   "source": [
    "predicted_stock_price = np.array(\n",
    "    predicted_stock_price).reshape(predicted_stock_price.shape[0], predicted_stock_price.shape[2])\n"
   ]
  },
  {
   "cell_type": "code",
   "execution_count": 68,
   "metadata": {},
   "outputs": [
    {
     "data": {
      "text/plain": [
       "(101, 5)"
      ]
     },
     "execution_count": 68,
     "metadata": {},
     "output_type": "execute_result"
    }
   ],
   "source": [
    "predicted_stock_price.shape"
   ]
  },
  {
   "cell_type": "code",
   "execution_count": 69,
   "metadata": {},
   "outputs": [],
   "source": [
    "predicted_stock_price = pd.DataFrame(predicted_stock_price)\n",
    "\n",
    "predicted_stock_price.columns = real_stock_price.columns\n",
    "predicted_stock_price.index = real_stock_price.index\n"
   ]
  },
  {
   "cell_type": "code",
   "execution_count": 70,
   "metadata": {},
   "outputs": [
    {
     "data": {
      "image/png": "[encoded data removed]",
      "text/plain": [
       "<Mpf_Figure size 1000x700 with 2 Axes>"
      ]
     },
     "metadata": {},
     "output_type": "display_data"
    }
   ],
   "source": [
    "s = mpf.make_mpf_style(base_mpf_style='charles', rc={'font.size': 6})\n",
    "fig = mpf.figure(figsize=(10, 7), style=s) # pass in the self defined style to the whole canvas\n",
    "ax = fig.add_subplot(2,1,1) # main candle stick chart subplot, you can also pass in the self defined style here only for this subplot\n",
    "av = fig.add_subplot(2,1,2, sharex=ax)  # volume chart subplot\n",
    "\n",
    "mpf.plot(real_stock_price, type = 'candle', style = 'yahoo', ax=ax, volume = False)\n",
    "mpf.plot(predicted_stock_price, type = 'candle', style = 'yahoo', ax=av)"
   ]
  },
  {
   "cell_type": "code",
   "execution_count": null,
   "metadata": {},
   "outputs": [],
   "source": [
    "!pip uninstall scipy"
   ]
  },
  {
   "cell_type": "code",
   "execution_count": 1,
   "metadata": {},
   "outputs": [],
   "source": [
    "from scipy import stats"
   ]
  },
  {
   "cell_type": "code",
   "execution_count": 7,
   "metadata": {},
   "outputs": [],
   "source": [
    "from YinCapital_forecast.modules import Neural_Sequence_Translation"
   ]
  },
  {
   "cell_type": "code",
   "execution_count": 8,
   "metadata": {},
   "outputs": [
    {
     "name": "stdout",
     "output_type": "stream",
     "text": [
      "------------------------------------------------------------------------------\n",
      "\n",
      "            MANUAL: To install this python package, please use the following code.\n",
      "\n",
      "            # In a python notebook:\n",
      "            # !pip install git+https://github.com/yiqiao-yin/YinPortfolioManagement.git\n",
      "            # In a command line:\n",
      "            # pip install git+https://github.com/yiqiao-yin/YinPortfolioManagement.git\n",
      "\n",
      "            # Run\n",
      "            tmp = Neural_Sequence_Translation(\n",
      "                start_date       =   '2013-01-01',\n",
      "                end_date         =   '2021-01-01',\n",
      "                ticker           =   'AAPL',\n",
      "                w                =   1,\n",
      "                h                =   5,\n",
      "                cutoff           =   0.8,\n",
      "                numOfHiddenLayer =   3,\n",
      "                numOfDense       =   2,\n",
      "                l1_units         =   50,\n",
      "                l2_units         =   50,\n",
      "                l2_units         =   50,\n",
      "                l3_units         =   50,\n",
      "                l4_units         =   30,\n",
      "                l5_units         =   10,\n",
      "                dropOutRate       =  0.2,\n",
      "                optimizer        =   'adam',\n",
      "                loss             =   'mean_squared_error',\n",
      "                useDice          =   True,\n",
      "                epochs           =   50,\n",
      "                batch_size       =   64,\n",
      "                plotGraph        =   True,\n",
      "                useMPLFinancePlot=   True,\n",
      "                verbose          =   True )\n",
      "                    \n",
      "            # Cite\n",
      "            # All Rights Reserved. © Yiqiao Yin\n",
      "            \n",
      "------------------------------------------------------------------------------\n",
      "[*********************100%***********************]  1 of 1 completed\n",
      "(1639, 1, 5)\n",
      "(123, 1, 5)\n",
      "(1639, 5)\n",
      "(123, 5)\n"
     ]
    },
    {
     "ename": "ImportError",
     "evalue": "cannot import name '__version__' from partially initialized module 'keras' (most likely due to a circular import) (C:\\Users\\eagle\\anaconda3\\lib\\site-packages\\keras\\__init__.py)",
     "output_type": "error",
     "traceback": [
      "\u001b[1;31m---------------------------------------------------------------------------\u001b[0m",
      "\u001b[1;31mImportError\u001b[0m                               Traceback (most recent call last)",
      "\u001b[1;32m<ipython-input-8-efe9e7424b8b>\u001b[0m in \u001b[0;36m<module>\u001b[1;34m\u001b[0m\n\u001b[1;32m----> 1\u001b[1;33m tmp = Neural_Sequence_Translation(\n\u001b[0m\u001b[0;32m      2\u001b[0m         \u001b[0mstart_date\u001b[0m       \u001b[1;33m=\u001b[0m   \u001b[1;34m'2014-01-01'\u001b[0m\u001b[1;33m,\u001b[0m\u001b[1;33m\u001b[0m\u001b[1;33m\u001b[0m\u001b[0m\n\u001b[0;32m      3\u001b[0m         \u001b[0mend_date\u001b[0m         \u001b[1;33m=\u001b[0m   \u001b[1;34m'2021-01-01'\u001b[0m\u001b[1;33m,\u001b[0m\u001b[1;33m\u001b[0m\u001b[1;33m\u001b[0m\u001b[0m\n\u001b[0;32m      4\u001b[0m         \u001b[0mticker\u001b[0m           \u001b[1;33m=\u001b[0m   \u001b[1;34m'AAPL'\u001b[0m\u001b[1;33m,\u001b[0m\u001b[1;33m\u001b[0m\u001b[1;33m\u001b[0m\u001b[0m\n\u001b[0;32m      5\u001b[0m         \u001b[0mw\u001b[0m                \u001b[1;33m=\u001b[0m   \u001b[1;36m1\u001b[0m\u001b[1;33m,\u001b[0m\u001b[1;33m\u001b[0m\u001b[1;33m\u001b[0m\u001b[0m\n",
      "\u001b[1;32m~\\anaconda3\\lib\\site-packages\\YinCapital_forecast\\modules.py\u001b[0m in \u001b[0;36mNeural_Sequence_Translation\u001b[1;34m(start_date, end_date, ticker, w, h, cutoff, numOfHiddenLayer, numOfDense, l1_units, l2_units, l3_units, l4_units, l5_units, dropOutRate, optimizer, loss, epochs, batch_size, plotGraph, useMPLFinancePlot, verbose)\u001b[0m\n\u001b[0;32m    782\u001b[0m         \u001b[1;31m### Build RNN\u001b[0m\u001b[1;33m\u001b[0m\u001b[1;33m\u001b[0m\u001b[1;33m\u001b[0m\u001b[0m\n\u001b[0;32m    783\u001b[0m         \u001b[1;31m# Importing the Keras libraries and packages\u001b[0m\u001b[1;33m\u001b[0m\u001b[1;33m\u001b[0m\u001b[1;33m\u001b[0m\u001b[0m\n\u001b[1;32m--> 784\u001b[1;33m         \u001b[1;32mfrom\u001b[0m \u001b[0mkeras\u001b[0m\u001b[1;33m.\u001b[0m\u001b[0mmodels\u001b[0m \u001b[1;32mimport\u001b[0m \u001b[0mSequential\u001b[0m\u001b[1;33m\u001b[0m\u001b[1;33m\u001b[0m\u001b[0m\n\u001b[0m\u001b[0;32m    785\u001b[0m         \u001b[1;32mfrom\u001b[0m \u001b[0mkeras\u001b[0m\u001b[1;33m.\u001b[0m\u001b[0mlayers\u001b[0m \u001b[1;32mimport\u001b[0m \u001b[0mDense\u001b[0m\u001b[1;33m\u001b[0m\u001b[1;33m\u001b[0m\u001b[0m\n\u001b[0;32m    786\u001b[0m         \u001b[1;32mfrom\u001b[0m \u001b[0mkeras\u001b[0m\u001b[1;33m.\u001b[0m\u001b[0mlayers\u001b[0m \u001b[1;32mimport\u001b[0m \u001b[0mLSTM\u001b[0m\u001b[1;33m\u001b[0m\u001b[1;33m\u001b[0m\u001b[0m\n",
      "\u001b[1;32m~\\anaconda3\\lib\\site-packages\\keras\\__init__.py\u001b[0m in \u001b[0;36m<module>\u001b[1;34m\u001b[0m\n\u001b[0;32m     23\u001b[0m \u001b[1;33m\u001b[0m\u001b[0m\n\u001b[0;32m     24\u001b[0m \u001b[1;31m# See b/110718070#comment18 for more details about this import.\u001b[0m\u001b[1;33m\u001b[0m\u001b[1;33m\u001b[0m\u001b[1;33m\u001b[0m\u001b[0m\n\u001b[1;32m---> 25\u001b[1;33m \u001b[1;32mfrom\u001b[0m \u001b[0mkeras\u001b[0m \u001b[1;32mimport\u001b[0m \u001b[0mmodels\u001b[0m\u001b[1;33m\u001b[0m\u001b[1;33m\u001b[0m\u001b[0m\n\u001b[0m\u001b[0;32m     26\u001b[0m \u001b[1;33m\u001b[0m\u001b[0m\n\u001b[0;32m     27\u001b[0m \u001b[1;32mfrom\u001b[0m \u001b[0mkeras\u001b[0m\u001b[1;33m.\u001b[0m\u001b[0mengine\u001b[0m\u001b[1;33m.\u001b[0m\u001b[0minput_layer\u001b[0m \u001b[1;32mimport\u001b[0m \u001b[0mInput\u001b[0m\u001b[1;33m\u001b[0m\u001b[1;33m\u001b[0m\u001b[0m\n",
      "\u001b[1;32m~\\anaconda3\\lib\\site-packages\\keras\\models.py\u001b[0m in \u001b[0;36m<module>\u001b[1;34m\u001b[0m\n\u001b[0;32m     18\u001b[0m \u001b[1;32mimport\u001b[0m \u001b[0mtensorflow\u001b[0m\u001b[1;33m.\u001b[0m\u001b[0mcompat\u001b[0m\u001b[1;33m.\u001b[0m\u001b[0mv2\u001b[0m \u001b[1;32mas\u001b[0m \u001b[0mtf\u001b[0m\u001b[1;33m\u001b[0m\u001b[1;33m\u001b[0m\u001b[0m\n\u001b[0;32m     19\u001b[0m \u001b[1;32mfrom\u001b[0m \u001b[0mkeras\u001b[0m \u001b[1;32mimport\u001b[0m \u001b[0mbackend\u001b[0m\u001b[1;33m\u001b[0m\u001b[1;33m\u001b[0m\u001b[0m\n\u001b[1;32m---> 20\u001b[1;33m \u001b[1;32mfrom\u001b[0m \u001b[0mkeras\u001b[0m \u001b[1;32mimport\u001b[0m \u001b[0mmetrics\u001b[0m \u001b[1;32mas\u001b[0m \u001b[0mmetrics_module\u001b[0m\u001b[1;33m\u001b[0m\u001b[1;33m\u001b[0m\u001b[0m\n\u001b[0m\u001b[0;32m     21\u001b[0m \u001b[1;32mfrom\u001b[0m \u001b[0mkeras\u001b[0m \u001b[1;32mimport\u001b[0m \u001b[0moptimizer_v1\u001b[0m\u001b[1;33m\u001b[0m\u001b[1;33m\u001b[0m\u001b[0m\n\u001b[0;32m     22\u001b[0m \u001b[1;32mfrom\u001b[0m \u001b[0mkeras\u001b[0m\u001b[1;33m.\u001b[0m\u001b[0mengine\u001b[0m \u001b[1;32mimport\u001b[0m \u001b[0mfunctional\u001b[0m\u001b[1;33m\u001b[0m\u001b[1;33m\u001b[0m\u001b[0m\n",
      "\u001b[1;32m~\\anaconda3\\lib\\site-packages\\keras\\metrics.py\u001b[0m in \u001b[0;36m<module>\u001b[1;34m\u001b[0m\n\u001b[0;32m     24\u001b[0m \u001b[1;33m\u001b[0m\u001b[0m\n\u001b[0;32m     25\u001b[0m \u001b[1;32mimport\u001b[0m \u001b[0mnumpy\u001b[0m \u001b[1;32mas\u001b[0m \u001b[0mnp\u001b[0m\u001b[1;33m\u001b[0m\u001b[1;33m\u001b[0m\u001b[0m\n\u001b[1;32m---> 26\u001b[1;33m \u001b[1;32mfrom\u001b[0m \u001b[0mkeras\u001b[0m \u001b[1;32mimport\u001b[0m \u001b[0mactivations\u001b[0m\u001b[1;33m\u001b[0m\u001b[1;33m\u001b[0m\u001b[0m\n\u001b[0m\u001b[0;32m     27\u001b[0m \u001b[1;32mfrom\u001b[0m \u001b[0mkeras\u001b[0m \u001b[1;32mimport\u001b[0m \u001b[0mbackend\u001b[0m\u001b[1;33m\u001b[0m\u001b[1;33m\u001b[0m\u001b[0m\n\u001b[0;32m     28\u001b[0m \u001b[1;32mfrom\u001b[0m \u001b[0mkeras\u001b[0m\u001b[1;33m.\u001b[0m\u001b[0mengine\u001b[0m \u001b[1;32mimport\u001b[0m \u001b[0mbase_layer\u001b[0m\u001b[1;33m\u001b[0m\u001b[1;33m\u001b[0m\u001b[0m\n",
      "\u001b[1;32m~\\anaconda3\\lib\\site-packages\\keras\\activations.py\u001b[0m in \u001b[0;36m<module>\u001b[1;34m\u001b[0m\n\u001b[0;32m     18\u001b[0m \u001b[1;33m\u001b[0m\u001b[0m\n\u001b[0;32m     19\u001b[0m \u001b[1;32mfrom\u001b[0m \u001b[0mkeras\u001b[0m \u001b[1;32mimport\u001b[0m \u001b[0mbackend\u001b[0m\u001b[1;33m\u001b[0m\u001b[1;33m\u001b[0m\u001b[0m\n\u001b[1;32m---> 20\u001b[1;33m \u001b[1;32mfrom\u001b[0m \u001b[0mkeras\u001b[0m\u001b[1;33m.\u001b[0m\u001b[0mlayers\u001b[0m \u001b[1;32mimport\u001b[0m \u001b[0madvanced_activations\u001b[0m\u001b[1;33m\u001b[0m\u001b[1;33m\u001b[0m\u001b[0m\n\u001b[0m\u001b[0;32m     21\u001b[0m \u001b[1;32mfrom\u001b[0m \u001b[0mkeras\u001b[0m\u001b[1;33m.\u001b[0m\u001b[0mutils\u001b[0m\u001b[1;33m.\u001b[0m\u001b[0mgeneric_utils\u001b[0m \u001b[1;32mimport\u001b[0m \u001b[0mdeserialize_keras_object\u001b[0m\u001b[1;33m\u001b[0m\u001b[1;33m\u001b[0m\u001b[0m\n\u001b[0;32m     22\u001b[0m \u001b[1;32mfrom\u001b[0m \u001b[0mkeras\u001b[0m\u001b[1;33m.\u001b[0m\u001b[0mutils\u001b[0m\u001b[1;33m.\u001b[0m\u001b[0mgeneric_utils\u001b[0m \u001b[1;32mimport\u001b[0m \u001b[0mserialize_keras_object\u001b[0m\u001b[1;33m\u001b[0m\u001b[1;33m\u001b[0m\u001b[0m\n",
      "\u001b[1;32m~\\anaconda3\\lib\\site-packages\\keras\\layers\\__init__.py\u001b[0m in \u001b[0;36m<module>\u001b[1;34m\u001b[0m\n\u001b[0;32m     21\u001b[0m \u001b[1;33m\u001b[0m\u001b[0m\n\u001b[0;32m     22\u001b[0m \u001b[1;31m# Generic layers.\u001b[0m\u001b[1;33m\u001b[0m\u001b[1;33m\u001b[0m\u001b[1;33m\u001b[0m\u001b[0m\n\u001b[1;32m---> 23\u001b[1;33m \u001b[1;32mfrom\u001b[0m \u001b[0mkeras\u001b[0m\u001b[1;33m.\u001b[0m\u001b[0mengine\u001b[0m\u001b[1;33m.\u001b[0m\u001b[0minput_layer\u001b[0m \u001b[1;32mimport\u001b[0m \u001b[0mInput\u001b[0m\u001b[1;33m\u001b[0m\u001b[1;33m\u001b[0m\u001b[0m\n\u001b[0m\u001b[0;32m     24\u001b[0m \u001b[1;32mfrom\u001b[0m \u001b[0mkeras\u001b[0m\u001b[1;33m.\u001b[0m\u001b[0mengine\u001b[0m\u001b[1;33m.\u001b[0m\u001b[0minput_layer\u001b[0m \u001b[1;32mimport\u001b[0m \u001b[0mInputLayer\u001b[0m\u001b[1;33m\u001b[0m\u001b[1;33m\u001b[0m\u001b[0m\n\u001b[0;32m     25\u001b[0m \u001b[1;32mfrom\u001b[0m \u001b[0mkeras\u001b[0m\u001b[1;33m.\u001b[0m\u001b[0mengine\u001b[0m\u001b[1;33m.\u001b[0m\u001b[0minput_spec\u001b[0m \u001b[1;32mimport\u001b[0m \u001b[0mInputSpec\u001b[0m\u001b[1;33m\u001b[0m\u001b[1;33m\u001b[0m\u001b[0m\n",
      "\u001b[1;32m~\\anaconda3\\lib\\site-packages\\keras\\engine\\input_layer.py\u001b[0m in \u001b[0;36m<module>\u001b[1;34m\u001b[0m\n\u001b[0;32m     19\u001b[0m \u001b[1;32mfrom\u001b[0m \u001b[0mkeras\u001b[0m \u001b[1;32mimport\u001b[0m \u001b[0mbackend\u001b[0m\u001b[1;33m\u001b[0m\u001b[1;33m\u001b[0m\u001b[0m\n\u001b[0;32m     20\u001b[0m \u001b[1;32mfrom\u001b[0m \u001b[0mkeras\u001b[0m\u001b[1;33m.\u001b[0m\u001b[0mdistribute\u001b[0m \u001b[1;32mimport\u001b[0m \u001b[0mdistributed_training_utils\u001b[0m\u001b[1;33m\u001b[0m\u001b[1;33m\u001b[0m\u001b[0m\n\u001b[1;32m---> 21\u001b[1;33m \u001b[1;32mfrom\u001b[0m \u001b[0mkeras\u001b[0m\u001b[1;33m.\u001b[0m\u001b[0mengine\u001b[0m \u001b[1;32mimport\u001b[0m \u001b[0mbase_layer\u001b[0m\u001b[1;33m\u001b[0m\u001b[1;33m\u001b[0m\u001b[0m\n\u001b[0m\u001b[0;32m     22\u001b[0m \u001b[1;32mfrom\u001b[0m \u001b[0mkeras\u001b[0m\u001b[1;33m.\u001b[0m\u001b[0mengine\u001b[0m \u001b[1;32mimport\u001b[0m \u001b[0mkeras_tensor\u001b[0m\u001b[1;33m\u001b[0m\u001b[1;33m\u001b[0m\u001b[0m\n\u001b[0;32m     23\u001b[0m \u001b[1;32mfrom\u001b[0m \u001b[0mkeras\u001b[0m\u001b[1;33m.\u001b[0m\u001b[0mengine\u001b[0m \u001b[1;32mimport\u001b[0m \u001b[0mnode\u001b[0m \u001b[1;32mas\u001b[0m \u001b[0mnode_module\u001b[0m\u001b[1;33m\u001b[0m\u001b[1;33m\u001b[0m\u001b[0m\n",
      "\u001b[1;32m~\\anaconda3\\lib\\site-packages\\keras\\engine\\base_layer.py\u001b[0m in \u001b[0;36m<module>\u001b[1;34m\u001b[0m\n\u001b[0;32m     41\u001b[0m \u001b[1;32mfrom\u001b[0m \u001b[0mkeras\u001b[0m\u001b[1;33m.\u001b[0m\u001b[0mengine\u001b[0m \u001b[1;32mimport\u001b[0m \u001b[0mnode\u001b[0m \u001b[1;32mas\u001b[0m \u001b[0mnode_module\u001b[0m\u001b[1;33m\u001b[0m\u001b[1;33m\u001b[0m\u001b[0m\n\u001b[0;32m     42\u001b[0m \u001b[1;32mfrom\u001b[0m \u001b[0mkeras\u001b[0m\u001b[1;33m.\u001b[0m\u001b[0mmixed_precision\u001b[0m \u001b[1;32mimport\u001b[0m \u001b[0mautocast_variable\u001b[0m\u001b[1;33m\u001b[0m\u001b[1;33m\u001b[0m\u001b[0m\n\u001b[1;32m---> 43\u001b[1;33m \u001b[1;32mfrom\u001b[0m \u001b[0mkeras\u001b[0m\u001b[1;33m.\u001b[0m\u001b[0mmixed_precision\u001b[0m \u001b[1;32mimport\u001b[0m \u001b[0mloss_scale_optimizer\u001b[0m\u001b[1;33m\u001b[0m\u001b[1;33m\u001b[0m\u001b[0m\n\u001b[0m\u001b[0;32m     44\u001b[0m \u001b[1;32mfrom\u001b[0m \u001b[0mkeras\u001b[0m\u001b[1;33m.\u001b[0m\u001b[0mmixed_precision\u001b[0m \u001b[1;32mimport\u001b[0m \u001b[0mpolicy\u001b[0m\u001b[1;33m\u001b[0m\u001b[1;33m\u001b[0m\u001b[0m\n\u001b[0;32m     45\u001b[0m \u001b[1;32mfrom\u001b[0m \u001b[0mkeras\u001b[0m\u001b[1;33m.\u001b[0m\u001b[0msaving\u001b[0m\u001b[1;33m.\u001b[0m\u001b[0msaved_model\u001b[0m \u001b[1;32mimport\u001b[0m \u001b[0mlayer_serialization\u001b[0m\u001b[1;33m\u001b[0m\u001b[1;33m\u001b[0m\u001b[0m\n",
      "\u001b[1;32m~\\anaconda3\\lib\\site-packages\\keras\\mixed_precision\\loss_scale_optimizer.py\u001b[0m in \u001b[0;36m<module>\u001b[1;34m\u001b[0m\n\u001b[0;32m     16\u001b[0m \u001b[1;33m\u001b[0m\u001b[0m\n\u001b[0;32m     17\u001b[0m \u001b[1;32mfrom\u001b[0m \u001b[0mkeras\u001b[0m \u001b[1;32mimport\u001b[0m \u001b[0mbackend\u001b[0m\u001b[1;33m\u001b[0m\u001b[1;33m\u001b[0m\u001b[0m\n\u001b[1;32m---> 18\u001b[1;33m \u001b[1;32mfrom\u001b[0m \u001b[0mkeras\u001b[0m \u001b[1;32mimport\u001b[0m \u001b[0moptimizers\u001b[0m\u001b[1;33m\u001b[0m\u001b[1;33m\u001b[0m\u001b[0m\n\u001b[0m\u001b[0;32m     19\u001b[0m \u001b[1;32mfrom\u001b[0m \u001b[0mkeras\u001b[0m\u001b[1;33m.\u001b[0m\u001b[0mmixed_precision\u001b[0m \u001b[1;32mimport\u001b[0m \u001b[0mloss_scale\u001b[0m \u001b[1;32mas\u001b[0m \u001b[0mkeras_loss_scale_module\u001b[0m\u001b[1;33m\u001b[0m\u001b[1;33m\u001b[0m\u001b[0m\n\u001b[0;32m     20\u001b[0m \u001b[1;32mfrom\u001b[0m \u001b[0mkeras\u001b[0m\u001b[1;33m.\u001b[0m\u001b[0moptimizer_v2\u001b[0m \u001b[1;32mimport\u001b[0m \u001b[0moptimizer_v2\u001b[0m\u001b[1;33m\u001b[0m\u001b[1;33m\u001b[0m\u001b[0m\n",
      "\u001b[1;32m~\\anaconda3\\lib\\site-packages\\keras\\optimizers\\__init__.py\u001b[0m in \u001b[0;36m<module>\u001b[1;34m\u001b[0m\n\u001b[1;32m----> 1\u001b[1;33m \u001b[1;32mfrom\u001b[0m \u001b[0mtensorflow\u001b[0m\u001b[1;33m.\u001b[0m\u001b[0mkeras\u001b[0m\u001b[1;33m.\u001b[0m\u001b[0moptimizers\u001b[0m \u001b[1;32mimport\u001b[0m \u001b[1;33m*\u001b[0m\u001b[1;33m\u001b[0m\u001b[1;33m\u001b[0m\u001b[0m\n\u001b[0m",
      "\u001b[1;32m~\\anaconda3\\lib\\site-packages\\keras\\api\\_v2\\keras\\__init__.py\u001b[0m in \u001b[0;36m<module>\u001b[1;34m\u001b[0m\n\u001b[0;32m      8\u001b[0m \u001b[1;32mimport\u001b[0m \u001b[0msys\u001b[0m \u001b[1;32mas\u001b[0m \u001b[0m_sys\u001b[0m\u001b[1;33m\u001b[0m\u001b[1;33m\u001b[0m\u001b[0m\n\u001b[0;32m      9\u001b[0m \u001b[1;33m\u001b[0m\u001b[0m\n\u001b[1;32m---> 10\u001b[1;33m \u001b[1;32mfrom\u001b[0m \u001b[0mkeras\u001b[0m \u001b[1;32mimport\u001b[0m \u001b[0m__version__\u001b[0m\u001b[1;33m\u001b[0m\u001b[1;33m\u001b[0m\u001b[0m\n\u001b[0m\u001b[0;32m     11\u001b[0m \u001b[1;32mfrom\u001b[0m \u001b[0mkeras\u001b[0m\u001b[1;33m.\u001b[0m\u001b[0mapi\u001b[0m\u001b[1;33m.\u001b[0m\u001b[0m_v2\u001b[0m\u001b[1;33m.\u001b[0m\u001b[0mkeras\u001b[0m \u001b[1;32mimport\u001b[0m \u001b[0m__internal__\u001b[0m\u001b[1;33m\u001b[0m\u001b[1;33m\u001b[0m\u001b[0m\n\u001b[0;32m     12\u001b[0m \u001b[1;32mfrom\u001b[0m \u001b[0mkeras\u001b[0m\u001b[1;33m.\u001b[0m\u001b[0mapi\u001b[0m\u001b[1;33m.\u001b[0m\u001b[0m_v2\u001b[0m\u001b[1;33m.\u001b[0m\u001b[0mkeras\u001b[0m \u001b[1;32mimport\u001b[0m \u001b[0mactivations\u001b[0m\u001b[1;33m\u001b[0m\u001b[1;33m\u001b[0m\u001b[0m\n",
      "\u001b[1;31mImportError\u001b[0m: cannot import name '__version__' from partially initialized module 'keras' (most likely due to a circular import) (C:\\Users\\eagle\\anaconda3\\lib\\site-packages\\keras\\__init__.py)"
     ]
    }
   ],
   "source": [
    "tmp = Neural_Sequence_Translation(\n",
    "        start_date       =   '2014-01-01',\n",
    "        end_date         =   '2021-01-01',\n",
    "        ticker           =   'AAPL',\n",
    "        w                =   1,\n",
    "        h                =   5,\n",
    "        cutoff           =   0.93,\n",
    "        numOfHiddenLayer =   3,\n",
    "        l1_units         =   128*4,\n",
    "        l2_units         =   128*3,\n",
    "        l3_units         =   64*3,\n",
    "        l4_units         =   30,\n",
    "        l5_units         =   10,\n",
    "        dropOutRate       =  0.3,\n",
    "        optimizer        =   'adam',\n",
    "        loss             =   'mean_squared_error',\n",
    "        epochs           =   120,\n",
    "        batch_size       =   64,\n",
    "        plotGraph        =   False,\n",
    "        useMPLFinancePlot=   True,\n",
    "        verbose          =   True )"
   ]
  },
  {
   "cell_type": "code",
   "execution_count": null,
   "metadata": {},
   "outputs": [],
   "source": []
  }
 ],
 "metadata": {
  "kernelspec": {
   "display_name": "Python 3",
   "language": "python",
   "name": "python3"
  },
  "language_info": {
   "codemirror_mode": {
    "name": "ipython",
    "version": 3
   },
   "file_extension": ".py",
   "mimetype": "text/x-python",
   "name": "python",
   "nbconvert_exporter": "python",
   "pygments_lexer": "ipython3",
   "version": "3.8.3"
  }
 },
 "nbformat": 4,
 "nbformat_minor": 4
}
