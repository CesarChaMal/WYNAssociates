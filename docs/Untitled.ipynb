{
 "cells": [
  {
   "cell_type": "code",
   "execution_count": null,
   "metadata": {},
   "outputs": [],
   "source": []
  },
  {
   "cell_type": "code",
   "execution_count": 1,
   "metadata": {},
   "outputs": [],
   "source": [
    "from YinCapital_forecast.RNN3_Regressor import RNN3_Regressor"
   ]
  },
  {
   "cell_type": "code",
   "execution_count": 2,
   "metadata": {},
   "outputs": [
    {
     "name": "stdout",
     "output_type": "stream",
     "text": [
      "------------------------------------------------------------------------------\n",
      "\n",
      "            MANUAL: To install this python package, please use the following code.\n",
      "\n",
      "            # In a python notebook:\n",
      "            # !pip install git+https://github.com/yiqiao-yin/YinPortfolioManagement.git\n",
      "            # In a command line:\n",
      "            # pip install git+https://github.com/yiqiao-yin/YinPortfolioManagement.git\n",
      "\n",
      "            # Run\n",
      "            tmp = RNN3_Regressor(\n",
      "                    start_date =   '2013-01-01',\n",
      "                    end_date   =   '2019-12-6',\n",
      "                    tickers    =   'AAPL',\n",
      "                    cutoff     =   0.8,\n",
      "                    l1_units   =   50,\n",
      "                    l2_units   =   50,\n",
      "                    l3_units   =   50,\n",
      "                    optimizer  =   'adam',\n",
      "                    loss       =   'mean_squared_error',\n",
      "                    epochs     =   50,\n",
      "                    batch_size =   64,\n",
      "                    plotGraph  =   True,\n",
      "                    verbose    =   True )\n",
      "                    \n",
      "            # Cite\n",
      "            # All Rights Reserved. © Yiqiao Yin\n",
      "            \n",
      "------------------------------------------------------------------------------\n",
      "[*********************100%***********************]  1 of 1 completed\n",
      "--------------------------------------------------------------------\n",
      "Shape for data frame in training set:\n",
      "Shape of X: (1832, 100, 1) ; Shape of Y: 1832\n",
      "--------------------------------------------------------------------\n",
      "--------------------------------------------------------------------\n",
      "Shape for data frame in testing set:\n",
      "Shape of X: (114, 100, 1) : Shape of Y: 114\n",
      "--------------------------------------------------------------------\n",
      "--------------------------------------------\n",
      "Let us investigate the sequential models.\n",
      "Model: \"sequential\"\n",
      "_________________________________________________________________\n",
      "Layer (type)                 Output Shape              Param #   \n",
      "=================================================================\n",
      "lstm (LSTM)                  (None, 100, 50)           10400     \n",
      "_________________________________________________________________\n",
      "dropout (Dropout)            (None, 100, 50)           0         \n",
      "_________________________________________________________________\n",
      "lstm_1 (LSTM)                (None, 100, 50)           20200     \n",
      "_________________________________________________________________\n",
      "dropout_1 (Dropout)          (None, 100, 50)           0         \n",
      "_________________________________________________________________\n",
      "lstm_2 (LSTM)                (None, 50)                20200     \n",
      "_________________________________________________________________\n",
      "dropout_2 (Dropout)          (None, 50)                0         \n",
      "_________________________________________________________________\n",
      "dense (Dense)                (None, 1)                 51        \n",
      "=================================================================\n",
      "Total params: 50,851\n",
      "Trainable params: 50,851\n",
      "Non-trainable params: 0\n",
      "_________________________________________________________________\n",
      "--------------------------------------------\n",
      "Time Consumption (in sec): 0.7111270427703857\n",
      "Time Consumption (in min): 0.01\n",
      "Time Consumption (in hr): 0.0 2\n",
      "--------------------------------------------\n",
      "Epoch 1/20\n",
      "29/29 [==============================] - 2s 56ms/step - loss: 0.0098\n",
      "Epoch 2/20\n",
      "29/29 [==============================] - 2s 54ms/step - loss: 0.0017\n",
      "Epoch 3/20\n",
      "29/29 [==============================] - 2s 53ms/step - loss: 0.0013\n",
      "Epoch 4/20\n",
      "29/29 [==============================] - 2s 53ms/step - loss: 0.0011\n",
      "Epoch 5/20\n",
      "29/29 [==============================] - 2s 53ms/step - loss: 0.0011\n",
      "Epoch 6/20\n",
      "29/29 [==============================] - 2s 55ms/step - loss: 0.0010\n",
      "Epoch 7/20\n",
      "29/29 [==============================] - 2s 53ms/step - loss: 0.0010\n",
      "Epoch 8/20\n",
      "29/29 [==============================] - 2s 52ms/step - loss: 9.4852e-04\n",
      "Epoch 9/20\n",
      "29/29 [==============================] - 2s 53ms/step - loss: 9.1465e-04\n",
      "Epoch 10/20\n",
      "29/29 [==============================] - 2s 54ms/step - loss: 0.0010\n",
      "Epoch 11/20\n",
      "29/29 [==============================] - 2s 54ms/step - loss: 8.5990e-04\n",
      "Epoch 12/20\n",
      "29/29 [==============================] - 2s 55ms/step - loss: 8.4936e-04\n",
      "Epoch 13/20\n",
      "29/29 [==============================] - 2s 53ms/step - loss: 9.0559e-04\n",
      "Epoch 14/20\n",
      "29/29 [==============================] - 2s 56ms/step - loss: 7.5061e-04\n",
      "Epoch 15/20\n",
      "29/29 [==============================] - 2s 62ms/step - loss: 8.3594e-04\n",
      "Epoch 16/20\n",
      "29/29 [==============================] - 2s 63ms/step - loss: 7.8824e-04\n",
      "Epoch 17/20\n",
      "29/29 [==============================] - 2s 61ms/step - loss: 8.4668e-04\n",
      "Epoch 18/20\n",
      "29/29 [==============================] - 2s 61ms/step - loss: 8.0280e-04\n",
      "Epoch 19/20\n",
      "29/29 [==============================] - 2s 61ms/step - loss: 8.2842e-04\n",
      "Epoch 20/20\n",
      "29/29 [==============================] - 2s 63ms/step - loss: 6.4353e-04\n",
      "Time Consumption: 37.29449534416199\n"
     ]
    },
    {
     "data": {
      "image/png": "[encoded data removed]",
      "text/plain": [
       "<Figure size 432x288 with 1 Axes>"
      ]
     },
     "metadata": {
      "needs_background": "light"
     },
     "output_type": "display_data"
    },
    {
     "name": "stdout",
     "output_type": "stream",
     "text": [
      "---------------------------------------------------------------------------------\n",
      "Root Mean Square Error is 8.13 for test set.\n",
      "------------------\n",
      "Interpretation:\n",
      "------------------\n",
      "On the test set, the performance of this LSTM architecture guesses \n",
      "AAPL stock price on average within the error of $8.13 dollars.\n",
      "---------------------------------------------------------------------------------\n"
     ]
    }
   ],
   "source": [
    "tmp = RNN3_Regressor(\n",
    "    start_date =   '2013-01-01',\n",
    "    end_date   =   '2021-07-14',\n",
    "    tickers    =   'AAPL',\n",
    "    cutoff     =   0.9,\n",
    "    l1_units   =   50,\n",
    "    l2_units   =   50,\n",
    "    l3_units   =   50,\n",
    "    dropOutRate = 0.3,\n",
    "    optimizer  =   'adam',\n",
    "    loss       =   'mean_squared_error',\n",
    "    epochs     =   20,\n",
    "    batch_size =   64,\n",
    "    plotGraph  =   True,\n",
    "    verbose    =   True )"
   ]
  },
  {
   "cell_type": "code",
   "execution_count": null,
   "metadata": {},
   "outputs": [],
   "source": []
  }
 ],
 "metadata": {
  "kernelspec": {
   "display_name": "Python 3",
   "language": "python",
   "name": "python3"
  },
  "language_info": {
   "codemirror_mode": {
    "name": "ipython",
    "version": 3
   },
   "file_extension": ".py",
   "mimetype": "text/x-python",
   "name": "python",
   "nbconvert_exporter": "python",
   "pygments_lexer": "ipython3",
   "version": "3.8.3"
  }
 },
 "nbformat": 4,
 "nbformat_minor": 4
}
