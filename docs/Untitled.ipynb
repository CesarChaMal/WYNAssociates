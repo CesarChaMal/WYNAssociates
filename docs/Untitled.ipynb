{
 "cells": [
  {
   "cell_type": "markdown",
   "metadata": {},
   "source": [
    "# Reinforcement Learning\n",
    "\n",
    "This notebook walks readers through a small implementation of reinforcement learning. We start by using a Long Short-Term Memory (LSTM) to forecast stock price. Then we use the forecasted data to run through *Yin_Timer* algorithm to produce buy / sell signals."
   ]
  },
  {
   "cell_type": "code",
   "execution_count": 3,
   "metadata": {},
   "outputs": [
    {
     "name": "stdout",
     "output_type": "stream",
     "text": [
      "Collecting git+https://github.com/yiqiao-yin/YinPortfolioManagement.git"
     ]
    },
    {
     "name": "stderr",
     "output_type": "stream",
     "text": [
      "  Running command git clone -q https://github.com/yiqiao-yin/YinPortfolioManagement.git 'C:\\Users\\eagle\\AppData\\Local\\Temp\\pip-req-build-mqv_zjkq'"
     ]
    },
    {
     "name": "stdout",
     "output_type": "stream",
     "text": [
      "\n",
      "  Cloning https://github.com/yiqiao-yin/YinPortfolioManagement.git to c:\\users\\eagle\\appdata\\local\\temp\\pip-req-build-mqv_zjkq\n",
      "Requirement already satisfied (use --upgrade to upgrade): YinPortfolioManagement==1.0.0 from git+https://github.com/yiqiao-yin/YinPortfolioManagement.git in c:\\users\\eagle\\anaconda3\\lib\\site-packages\n",
      "Building wheels for collected packages: YinPortfolioManagement\n",
      "  Building wheel for YinPortfolioManagement (setup.py): started\n",
      "  Building wheel for YinPortfolioManagement (setup.py): finished with status 'done'\n",
      "  Created wheel for YinPortfolioManagement: filename=YinPortfolioManagement-1.0.0-py3-none-any.whl size=8033 sha256=eef2fca9568f9fa4fea87c839720c9e08d456c8616d2edcefbe82e92d5abbe59\n",
      "  Stored in directory: C:\\Users\\eagle\\AppData\\Local\\Temp\\pip-ephem-wheel-cache-7iu6yn_0\\wheels\\cc\\50\\76\\5d86e12f8b54a575a6ebf7d3c1fbdee08aa170fa4a4d1218b1\n",
      "Successfully built YinPortfolioManagement\n"
     ]
    },
    {
     "name": "stderr",
     "output_type": "stream",
     "text": [
      "\n"
     ]
    }
   ],
   "source": [
    "# !pip install git+https://github.com/yiqiao-yin/YinPortfolioManagement.git"
   ]
  },
  {
   "cell_type": "code",
   "execution_count": 4,
   "metadata": {},
   "outputs": [],
   "source": [
    "from YinCapital_forecast.modules import RNN_Regressor"
   ]
  },
  {
   "cell_type": "code",
   "execution_count": 7,
   "metadata": {},
   "outputs": [
    {
     "name": "stdout",
     "output_type": "stream",
     "text": [
      "------------------------------------------------------------------------------\n",
      "\n",
      "            MANUAL: To install this python package, please use the following code.\n",
      "\n",
      "            # In a python notebook:\n",
      "            # !pip install git+https://github.com/yiqiao-yin/YinPortfolioManagement.git\n",
      "            # In a command line:\n",
      "            # pip install git+https://github.com/yiqiao-yin/YinPortfolioManagement.git\n",
      "\n",
      "            # Run\n",
      "            tmp = RNN_Regressor(\n",
      "                    start_date =   '2013-01-01',\n",
      "                    end_date   =   '2019-12-6',\n",
      "                    tickers    =   'AAPL',\n",
      "                    cutoff     =   0.8,\n",
      "                    numOfHiddenLayer = 3,\n",
      "                    l1_units   =   50,\n",
      "                    l2_units   =   50,\n",
      "                    l3_units   =   50,\n",
      "                    l4_units   =   30,\n",
      "                    l5_units   =   10,\n",
      "                    dropOutRate =  0.2,\n",
      "                    optimizer  =   'adam',\n",
      "                    loss       =   'mean_squared_error',\n",
      "                    epochs     =   50,\n",
      "                    batch_size =   64,\n",
      "                    plotGraph  =   True,\n",
      "                    verbose    =   True )\n",
      "                    \n",
      "            # Cite\n",
      "            # All Rights Reserved. © Yiqiao Yin\n",
      "            \n",
      "------------------------------------------------------------------------------\n",
      "[*********************100%***********************]  1 of 1 completed\n",
      "--------------------------------------------------------------------\n",
      "Shape for data frame in training set:\n",
      "Shape of X: (1834, 100, 1) ; Shape of Y: 1834\n",
      "--------------------------------------------------------------------\n",
      "--------------------------------------------------------------------\n",
      "Shape for data frame in testing set:\n",
      "Shape of X: (114, 100, 1) : Shape of Y: 114\n",
      "--------------------------------------------------------------------\n",
      "--------------------------------------------\n",
      "Let us investigate the sequential models.\n",
      "Model: \"sequential_1\"\n",
      "_________________________________________________________________\n",
      "Layer (type)                 Output Shape              Param #   \n",
      "=================================================================\n",
      "lstm_3 (LSTM)                (None, 100, 50)           10400     \n",
      "_________________________________________________________________\n",
      "dropout_3 (Dropout)          (None, 100, 50)           0         \n",
      "_________________________________________________________________\n",
      "lstm_4 (LSTM)                (None, 100, 50)           20200     \n",
      "_________________________________________________________________\n",
      "dropout_4 (Dropout)          (None, 100, 50)           0         \n",
      "_________________________________________________________________\n",
      "lstm_5 (LSTM)                (None, 50)                20200     \n",
      "_________________________________________________________________\n",
      "dropout_5 (Dropout)          (None, 50)                0         \n",
      "_________________________________________________________________\n",
      "dense_1 (Dense)              (None, 1)                 51        \n",
      "=================================================================\n",
      "Total params: 50,851\n",
      "Trainable params: 50,851\n",
      "Non-trainable params: 0\n",
      "_________________________________________________________________\n",
      "--------------------------------------------\n",
      "Time Consumption (in sec): 0.5784809589385986\n",
      "Time Consumption (in min): 0.01\n",
      "Time Consumption (in hr): 0.0 2\n",
      "--------------------------------------------\n",
      "Epoch 1/50\n",
      "29/29 [==============================] - 2s 57ms/step - loss: 0.0071\n",
      "Epoch 2/50\n",
      "29/29 [==============================] - 2s 56ms/step - loss: 0.0011\n",
      "Epoch 3/50\n",
      "29/29 [==============================] - 2s 56ms/step - loss: 8.5041e-04\n",
      "Epoch 4/50\n",
      "29/29 [==============================] - 2s 56ms/step - loss: 7.7658e-04\n",
      "Epoch 5/50\n",
      "29/29 [==============================] - 2s 56ms/step - loss: 7.2431e-04\n",
      "Epoch 6/50\n",
      "29/29 [==============================] - 2s 56ms/step - loss: 7.7574e-04\n",
      "Epoch 7/50\n",
      "29/29 [==============================] - 2s 55ms/step - loss: 7.6212e-04\n",
      "Epoch 8/50\n",
      "29/29 [==============================] - 2s 55ms/step - loss: 6.5963e-04\n",
      "Epoch 9/50\n",
      "29/29 [==============================] - 2s 55ms/step - loss: 7.1877e-04\n",
      "Epoch 10/50\n",
      "29/29 [==============================] - 2s 55ms/step - loss: 7.8345e-04\n",
      "Epoch 11/50\n",
      "29/29 [==============================] - 2s 55ms/step - loss: 5.9899e-04\n",
      "Epoch 12/50\n",
      "29/29 [==============================] - 2s 55ms/step - loss: 7.2187e-04\n",
      "Epoch 13/50\n",
      "29/29 [==============================] - 2s 56ms/step - loss: 5.9487e-04\n",
      "Epoch 14/50\n",
      "29/29 [==============================] - 2s 55ms/step - loss: 6.1050e-04\n",
      "Epoch 15/50\n",
      "29/29 [==============================] - 2s 55ms/step - loss: 5.9328e-04\n",
      "Epoch 16/50\n",
      "29/29 [==============================] - 2s 54ms/step - loss: 5.9994e-04\n",
      "Epoch 17/50\n",
      "29/29 [==============================] - 2s 54ms/step - loss: 7.9694e-04\n",
      "Epoch 18/50\n",
      "29/29 [==============================] - 2s 54ms/step - loss: 5.9972e-04\n",
      "Epoch 19/50\n",
      "29/29 [==============================] - 2s 54ms/step - loss: 5.3060e-04\n",
      "Epoch 20/50\n",
      "29/29 [==============================] - 2s 54ms/step - loss: 4.8099e-04\n",
      "Epoch 21/50\n",
      "29/29 [==============================] - 2s 55ms/step - loss: 6.1013e-04\n",
      "Epoch 22/50\n",
      "29/29 [==============================] - 2s 54ms/step - loss: 5.3149e-04\n",
      "Epoch 23/50\n",
      "29/29 [==============================] - 2s 55ms/step - loss: 5.8631e-04\n",
      "Epoch 24/50\n",
      "29/29 [==============================] - 2s 54ms/step - loss: 5.8062e-04\n",
      "Epoch 25/50\n",
      "29/29 [==============================] - 2s 54ms/step - loss: 4.6825e-04\n",
      "Epoch 26/50\n",
      "29/29 [==============================] - 2s 54ms/step - loss: 5.5303e-04\n",
      "Epoch 27/50\n",
      "29/29 [==============================] - 2s 54ms/step - loss: 4.8603e-04\n",
      "Epoch 28/50\n",
      "29/29 [==============================] - 2s 54ms/step - loss: 4.9708e-04\n",
      "Epoch 29/50\n",
      "29/29 [==============================] - 2s 54ms/step - loss: 4.9418e-04\n",
      "Epoch 30/50\n",
      "29/29 [==============================] - 2s 54ms/step - loss: 5.0640e-04\n",
      "Epoch 31/50\n",
      "29/29 [==============================] - 2s 55ms/step - loss: 4.8159e-04\n",
      "Epoch 32/50\n",
      "29/29 [==============================] - 2s 56ms/step - loss: 4.2156e-04\n",
      "Epoch 33/50\n",
      "29/29 [==============================] - 2s 55ms/step - loss: 4.4359e-04\n",
      "Epoch 34/50\n",
      "29/29 [==============================] - 2s 54ms/step - loss: 5.5368e-04\n",
      "Epoch 35/50\n",
      "29/29 [==============================] - 2s 55ms/step - loss: 4.3173e-04\n",
      "Epoch 36/50\n",
      "29/29 [==============================] - 2s 58ms/step - loss: 4.0540e-04\n",
      "Epoch 37/50\n",
      "29/29 [==============================] - 2s 56ms/step - loss: 4.2441e-04\n",
      "Epoch 38/50\n",
      "29/29 [==============================] - 2s 56ms/step - loss: 5.0270e-04\n",
      "Epoch 39/50\n",
      "29/29 [==============================] - 2s 54ms/step - loss: 3.9990e-04\n",
      "Epoch 40/50\n",
      "29/29 [==============================] - 2s 54ms/step - loss: 4.0557e-04\n",
      "Epoch 41/50\n",
      "29/29 [==============================] - 2s 54ms/step - loss: 4.2047e-04\n",
      "Epoch 42/50\n",
      "29/29 [==============================] - 2s 54ms/step - loss: 4.1109e-04\n",
      "Epoch 43/50\n",
      "29/29 [==============================] - 2s 54ms/step - loss: 4.4919e-04\n",
      "Epoch 44/50\n",
      "29/29 [==============================] - 2s 54ms/step - loss: 3.5819e-04\n",
      "Epoch 45/50\n",
      "29/29 [==============================] - 2s 56ms/step - loss: 4.2018e-04\n",
      "Epoch 46/50\n",
      "29/29 [==============================] - 2s 56ms/step - loss: 3.8402e-04\n",
      "Epoch 47/50\n",
      "29/29 [==============================] - 2s 54ms/step - loss: 3.4479e-04\n",
      "Epoch 48/50\n",
      "29/29 [==============================] - 2s 54ms/step - loss: 3.5541e-04\n",
      "Epoch 49/50\n",
      "29/29 [==============================] - 2s 54ms/step - loss: 3.7765e-04\n",
      "Epoch 50/50\n",
      "29/29 [==============================] - 2s 55ms/step - loss: 4.7754e-04\n",
      "Time Consumption: 86.17074537277222\n"
     ]
    },
    {
     "data": {
      "image/png": "[encoded data removed]",
      "text/plain": [
       "<Figure size 432x288 with 1 Axes>"
      ]
     },
     "metadata": {
      "needs_background": "light"
     },
     "output_type": "display_data"
    },
    {
     "name": "stdout",
     "output_type": "stream",
     "text": [
      "---------------------------------------------------------------------------------\n",
      "Root Mean Square Error is 3.76 for test set.\n",
      "------------------\n",
      "Interpretation:\n",
      "------------------\n",
      "On the test set, the performance of this LSTM architecture guesses \n",
      "AAPL stock price on average within the error of $3.76 dollars.\n",
      "---------------------------------------------------------------------------------\n"
     ]
    }
   ],
   "source": [
    "tmp1 = RNN_Regressor(\n",
    "    start_date =   '2013-01-01',\n",
    "    end_date   =   '2021-07-16',\n",
    "    tickers    =   'AAPL',\n",
    "    cutoff     =   0.9,\n",
    "    numOfHiddenLayer = 3,\n",
    "    l1_units   =   50,\n",
    "    l2_units   =   50,\n",
    "    l3_units   =   50,\n",
    "    l4_units   =   30,\n",
    "    l5_units   =   10,\n",
    "    dropOutRate =  0.2,\n",
    "    optimizer  =   'adam',\n",
    "    loss       =   'mean_squared_error',\n",
    "    epochs     =   50,\n",
    "    batch_size =   64,\n",
    "    plotGraph  =   True,\n",
    "    verbose    =   True )"
   ]
  },
  {
   "cell_type": "code",
   "execution_count": 22,
   "metadata": {},
   "outputs": [
    {
     "data": {
      "text/plain": [
       "array([148.47999573])"
      ]
     },
     "execution_count": 22,
     "metadata": {},
     "output_type": "execute_result"
    }
   ],
   "source": [
    "tmp1['Test Response'][1][113]"
   ]
  }
 ],
 "metadata": {
  "kernelspec": {
   "display_name": "Python 3",
   "language": "python",
   "name": "python3"
  },
  "language_info": {
   "codemirror_mode": {
    "name": "ipython",
    "version": 3
   },
   "file_extension": ".py",
   "mimetype": "text/x-python",
   "name": "python",
   "nbconvert_exporter": "python",
   "pygments_lexer": "ipython3",
   "version": "3.8.3"
  }
 },
 "nbformat": 4,
 "nbformat_minor": 4
}
